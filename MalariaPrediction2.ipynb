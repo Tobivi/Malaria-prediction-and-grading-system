{
 "cells": [
  {
   "cell_type": "code",
<<<<<<< HEAD
   "execution_count": 117,
=======
   "execution_count": 1,
>>>>>>> ae3f2fa09079df83c2ab490d59f40c7bfcc92401
   "id": "68a20789",
   "metadata": {},
   "outputs": [],
   "source": [
    "import numpy as np\n",
    "import pandas as pd\n",
    "import matplotlib.pyplot as plt\n",
    "%matplotlib inline\n",
    "import seaborn as sns\n",
    "\n",
    "\n",
    "from sklearn.preprocessing import LabelEncoder,OrdinalEncoder\n",
    "from sklearn.model_selection import train_test_split\n",
    "from sklearn.metrics import accuracy_score,confusion_matrix,classification_report"
   ]
  },
  {
   "cell_type": "code",
<<<<<<< HEAD
   "execution_count": 118,
=======
   "execution_count": 2,
>>>>>>> ae3f2fa09079df83c2ab490d59f40c7bfcc92401
   "id": "a7a3f6d6",
   "metadata": {},
   "outputs": [
    {
     "data": {
      "text/html": [
       "<div>\n",
       "<style scoped>\n",
       "    .dataframe tbody tr th:only-of-type {\n",
       "        vertical-align: middle;\n",
       "    }\n",
       "\n",
       "    .dataframe tbody tr th {\n",
       "        vertical-align: top;\n",
       "    }\n",
       "\n",
       "    .dataframe thead th {\n",
       "        text-align: right;\n",
       "    }\n",
       "</style>\n",
       "<table border=\"1\" class=\"dataframe\">\n",
       "  <thead>\n",
       "    <tr style=\"text-align: right;\">\n",
       "      <th></th>\n",
       "      <th>Pregnancies</th>\n",
       "      <th>Availability of Treated Net</th>\n",
       "      <th>Season: Level of Rainfall-Stagnant water breeding</th>\n",
       "      <th>High Rate of Mal  Infection (Lab Diagnosis)</th>\n",
       "      <th>Malaria Parasite Density Fever- Rapid Diagnostic Test(Strip)</th>\n",
       "      <th>Complaints/Symptoms</th>\n",
       "      <th>Age</th>\n",
       "      <th>Outcome</th>\n",
       "      <th>Electricity</th>\n",
       "      <th>Laboratory Equipments</th>\n",
       "      <th>Doctor to Patient</th>\n",
       "      <th>Environment - Sanitised or not</th>\n",
       "    </tr>\n",
       "  </thead>\n",
       "  <tbody>\n",
       "    <tr>\n",
       "      <th>0</th>\n",
       "      <td>0</td>\n",
       "      <td>1</td>\n",
       "      <td>0</td>\n",
       "      <td>0.7</td>\n",
       "      <td>malaria,?helminthiasis</td>\n",
       "      <td>Bitter mouth taste, tiredness, feeling of some...</td>\n",
       "      <td>36.0</td>\n",
       "      <td>0</td>\n",
       "      <td>1.0</td>\n",
       "      <td>Adequate</td>\n",
       "      <td>high</td>\n",
       "      <td>1.0</td>\n",
       "    </tr>\n",
       "    <tr>\n",
       "      <th>1</th>\n",
       "      <td>0</td>\n",
       "      <td>0</td>\n",
       "      <td>1</td>\n",
       "      <td>75.0</td>\n",
       "      <td>Malaria R/O Sepsis</td>\n",
       "      <td>Fever x 4/7_x000D_\\nVomiting x 3/7_x000D_\\nMal...</td>\n",
       "      <td>24.0</td>\n",
       "      <td>1</td>\n",
       "      <td>0.0</td>\n",
       "      <td>Not adequate</td>\n",
       "      <td>low</td>\n",
       "      <td>0.0</td>\n",
       "    </tr>\n",
       "    <tr>\n",
       "      <th>2</th>\n",
       "      <td>1</td>\n",
       "      <td>0</td>\n",
       "      <td>1</td>\n",
       "      <td>71.0</td>\n",
       "      <td>?Malaria in pregnancy</td>\n",
       "      <td>1. Abd pain_x000D_\\nfever</td>\n",
       "      <td>9.0</td>\n",
       "      <td>1</td>\n",
       "      <td>0.0</td>\n",
       "      <td>Not adequate</td>\n",
       "      <td>low</td>\n",
       "      <td>0.0</td>\n",
       "    </tr>\n",
       "    <tr>\n",
       "      <th>3</th>\n",
       "      <td>0</td>\n",
       "      <td>0</td>\n",
       "      <td>1</td>\n",
       "      <td>96.0</td>\n",
       "      <td>?Malaria_x000D_\\nDelayed Developmental Milestones</td>\n",
       "      <td>1. Fever_x000D_\\nPoor appetite</td>\n",
       "      <td>5.0</td>\n",
       "      <td>1</td>\n",
       "      <td>0.0</td>\n",
       "      <td>Not adequate</td>\n",
       "      <td>low</td>\n",
       "      <td>0.0</td>\n",
       "    </tr>\n",
       "    <tr>\n",
       "      <th>4</th>\n",
       "      <td>1</td>\n",
       "      <td>0</td>\n",
       "      <td>1</td>\n",
       "      <td>97.0</td>\n",
       "      <td>?Malaria in pregnancy</td>\n",
       "      <td>1. frequent stooling x 3episodes /day_x000D_\\n...</td>\n",
       "      <td>28.0</td>\n",
       "      <td>1</td>\n",
       "      <td>0.0</td>\n",
       "      <td>Not adequate</td>\n",
       "      <td>low</td>\n",
       "      <td>0.0</td>\n",
       "    </tr>\n",
       "  </tbody>\n",
       "</table>\n",
       "</div>"
      ],
      "text/plain": [
       "   Pregnancies  Availability of Treated Net  \\\n",
       "0            0                            1   \n",
       "1            0                            0   \n",
       "2            1                            0   \n",
       "3            0                            0   \n",
       "4            1                            0   \n",
       "\n",
       "   Season: Level of Rainfall-Stagnant water breeding   \\\n",
       "0                                                  0    \n",
       "1                                                  1    \n",
       "2                                                  1    \n",
       "3                                                  1    \n",
       "4                                                  1    \n",
       "\n",
       "   High Rate of Mal  Infection (Lab Diagnosis)  \\\n",
       "0                                          0.7   \n",
       "1                                         75.0   \n",
       "2                                         71.0   \n",
       "3                                         96.0   \n",
       "4                                         97.0   \n",
       "\n",
       "  Malaria Parasite Density Fever- Rapid Diagnostic Test(Strip)  \\\n",
       "0                             malaria,?helminthiasis             \n",
       "1                                 Malaria R/O Sepsis             \n",
       "2                              ?Malaria in pregnancy             \n",
       "3  ?Malaria_x000D_\\nDelayed Developmental Milestones             \n",
       "4                              ?Malaria in pregnancy             \n",
       "\n",
       "                                 Complaints/Symptoms   Age  Outcome  \\\n",
       "0  Bitter mouth taste, tiredness, feeling of some...  36.0        0   \n",
       "1  Fever x 4/7_x000D_\\nVomiting x 3/7_x000D_\\nMal...  24.0        1   \n",
       "2                          1. Abd pain_x000D_\\nfever   9.0        1   \n",
       "3                     1. Fever_x000D_\\nPoor appetite   5.0        1   \n",
       "4  1. frequent stooling x 3episodes /day_x000D_\\n...  28.0        1   \n",
       "\n",
       "   Electricity Laboratory Equipments Doctor to Patient  \\\n",
       "0          1.0              Adequate              high   \n",
       "1          0.0          Not adequate               low   \n",
       "2          0.0          Not adequate               low   \n",
       "3          0.0          Not adequate               low   \n",
       "4          0.0          Not adequate               low   \n",
       "\n",
       "   Environment - Sanitised or not  \n",
       "0                             1.0  \n",
       "1                             0.0  \n",
       "2                             0.0  \n",
       "3                             0.0  \n",
       "4                             0.0  "
      ]
     },
<<<<<<< HEAD
     "execution_count": 118,
=======
     "execution_count": 2,
>>>>>>> ae3f2fa09079df83c2ab490d59f40c7bfcc92401
     "metadata": {},
     "output_type": "execute_result"
    }
   ],
   "source": [
    "mal = pd.read_excel(\"Malaria Dataset2121.xlsx\")\n",
    "mal.head()"
   ]
  },
  {
   "cell_type": "code",
<<<<<<< HEAD
   "execution_count": 119,
=======
   "execution_count": 3,
>>>>>>> ae3f2fa09079df83c2ab490d59f40c7bfcc92401
   "id": "22f81a17",
   "metadata": {},
   "outputs": [],
   "source": [
    "df1 = pd.read_excel(\"Malaria2121new.xlsx\")"
   ]
  },
  {
   "cell_type": "code",
<<<<<<< HEAD
   "execution_count": 120,
=======
   "execution_count": 4,
>>>>>>> ae3f2fa09079df83c2ab490d59f40c7bfcc92401
   "id": "20925f3f",
   "metadata": {},
   "outputs": [
    {
     "data": {
      "text/html": [
       "<div>\n",
       "<style scoped>\n",
       "    .dataframe tbody tr th:only-of-type {\n",
       "        vertical-align: middle;\n",
       "    }\n",
       "\n",
       "    .dataframe tbody tr th {\n",
       "        vertical-align: top;\n",
       "    }\n",
       "\n",
       "    .dataframe thead th {\n",
       "        text-align: right;\n",
       "    }\n",
       "</style>\n",
       "<table border=\"1\" class=\"dataframe\">\n",
       "  <thead>\n",
       "    <tr style=\"text-align: right;\">\n",
       "      <th></th>\n",
       "      <th>Patient Serial Number</th>\n",
       "      <th>Pregnancies</th>\n",
       "      <th>Availability of Treated Net</th>\n",
       "      <th>Season: Level of Rainfall-Stagnant water breeding</th>\n",
       "      <th>Rate of Malaria                       Infection (Lab Diagnosis)</th>\n",
       "      <th>Malaria Parasite Density Fever- Rapid Diagnostic Test(Strip)</th>\n",
       "      <th>Complaints/Symptoms</th>\n",
       "      <th>Age</th>\n",
       "      <th>Outcome</th>\n",
       "      <th>Electricity</th>\n",
       "      <th>Laboratory Equipments</th>\n",
       "      <th>Doctor to Patient</th>\n",
       "      <th>Environment - Sanitised or not</th>\n",
       "      <th>Complicated/ Uncomplicated Malaria Diagnosis</th>\n",
       "      <th>Location (Urban/ Rural Area)</th>\n",
       "      <th>Malaria Outcome Interpretation</th>\n",
       "    </tr>\n",
       "  </thead>\n",
       "  <tbody>\n",
       "    <tr>\n",
       "      <th>0</th>\n",
       "      <td>1.0</td>\n",
       "      <td>0.0</td>\n",
       "      <td>1</td>\n",
       "      <td>0</td>\n",
       "      <td>0.7</td>\n",
       "      <td>malaria,?helminthiasis</td>\n",
       "      <td>Bitter mouth taste, tiredness, feeling of some...</td>\n",
       "      <td>36.0</td>\n",
       "      <td>0</td>\n",
       "      <td>1.0</td>\n",
       "      <td>Adequate</td>\n",
       "      <td>high</td>\n",
       "      <td>1.0</td>\n",
       "      <td>Uncomplicated</td>\n",
       "      <td>Urban</td>\n",
       "      <td>Negative</td>\n",
       "    </tr>\n",
       "    <tr>\n",
       "      <th>1</th>\n",
       "      <td>2.0</td>\n",
       "      <td>0.0</td>\n",
       "      <td>0</td>\n",
       "      <td>1</td>\n",
       "      <td>75.0</td>\n",
       "      <td>Malaria R/O Sepsis</td>\n",
       "      <td>Fever x 4/7_x000D_\\nVomiting x 3/7_x000D_\\nMal...</td>\n",
       "      <td>24.0</td>\n",
       "      <td>1</td>\n",
       "      <td>0.0</td>\n",
       "      <td>Not adequate</td>\n",
       "      <td>low</td>\n",
       "      <td>0.0</td>\n",
       "      <td>Complicated</td>\n",
       "      <td>Rural</td>\n",
       "      <td>Positive</td>\n",
       "    </tr>\n",
       "    <tr>\n",
       "      <th>2</th>\n",
       "      <td>3.0</td>\n",
       "      <td>1.0</td>\n",
       "      <td>0</td>\n",
       "      <td>1</td>\n",
       "      <td>71.0</td>\n",
       "      <td>?Malaria in pregnancy</td>\n",
       "      <td>1. Abd pain_x000D_\\nfever</td>\n",
       "      <td>9.0</td>\n",
       "      <td>1</td>\n",
       "      <td>0.0</td>\n",
       "      <td>Not adequate</td>\n",
       "      <td>low</td>\n",
       "      <td>0.0</td>\n",
       "      <td>Complicated</td>\n",
       "      <td>Rural</td>\n",
       "      <td>Positive</td>\n",
       "    </tr>\n",
       "    <tr>\n",
       "      <th>3</th>\n",
       "      <td>4.0</td>\n",
       "      <td>0.0</td>\n",
       "      <td>0</td>\n",
       "      <td>1</td>\n",
       "      <td>96.0</td>\n",
       "      <td>?Malaria_x000D_\\nDelayed Developmental Milestones</td>\n",
       "      <td>1. Fever_x000D_\\nPoor appetite</td>\n",
       "      <td>5.0</td>\n",
       "      <td>1</td>\n",
       "      <td>0.0</td>\n",
       "      <td>Not adequate</td>\n",
       "      <td>low</td>\n",
       "      <td>0.0</td>\n",
       "      <td>Complicated</td>\n",
       "      <td>Rural</td>\n",
       "      <td>Positive</td>\n",
       "    </tr>\n",
       "    <tr>\n",
       "      <th>4</th>\n",
       "      <td>5.0</td>\n",
       "      <td>1.0</td>\n",
       "      <td>0</td>\n",
       "      <td>1</td>\n",
       "      <td>97.0</td>\n",
       "      <td>?Malaria in pregnancy</td>\n",
       "      <td>1. frequent stooling x 3episodes /day_x000D_\\n...</td>\n",
       "      <td>28.0</td>\n",
       "      <td>1</td>\n",
       "      <td>0.0</td>\n",
       "      <td>Not adequate</td>\n",
       "      <td>low</td>\n",
       "      <td>0.0</td>\n",
       "      <td>Complicated</td>\n",
       "      <td>Rural</td>\n",
       "      <td>Positive</td>\n",
       "    </tr>\n",
       "  </tbody>\n",
       "</table>\n",
       "</div>"
      ],
      "text/plain": [
       "   Patient Serial Number  Pregnancies  Availability of Treated Net  \\\n",
       "0                    1.0          0.0                            1   \n",
       "1                    2.0          0.0                            0   \n",
       "2                    3.0          1.0                            0   \n",
       "3                    4.0          0.0                            0   \n",
       "4                    5.0          1.0                            0   \n",
       "\n",
       "   Season: Level of Rainfall-Stagnant water breeding   \\\n",
       "0                                                  0    \n",
       "1                                                  1    \n",
       "2                                                  1    \n",
       "3                                                  1    \n",
       "4                                                  1    \n",
       "\n",
       "   Rate of Malaria                       Infection (Lab Diagnosis)  \\\n",
       "0                                                0.7                 \n",
       "1                                               75.0                 \n",
       "2                                               71.0                 \n",
       "3                                               96.0                 \n",
       "4                                               97.0                 \n",
       "\n",
       "  Malaria Parasite Density Fever- Rapid Diagnostic Test(Strip)  \\\n",
       "0                             malaria,?helminthiasis             \n",
       "1                                 Malaria R/O Sepsis             \n",
       "2                              ?Malaria in pregnancy             \n",
       "3  ?Malaria_x000D_\\nDelayed Developmental Milestones             \n",
       "4                              ?Malaria in pregnancy             \n",
       "\n",
       "                                 Complaints/Symptoms   Age  Outcome  \\\n",
       "0  Bitter mouth taste, tiredness, feeling of some...  36.0        0   \n",
       "1  Fever x 4/7_x000D_\\nVomiting x 3/7_x000D_\\nMal...  24.0        1   \n",
       "2                          1. Abd pain_x000D_\\nfever   9.0        1   \n",
       "3                     1. Fever_x000D_\\nPoor appetite   5.0        1   \n",
       "4  1. frequent stooling x 3episodes /day_x000D_\\n...  28.0        1   \n",
       "\n",
       "   Electricity Laboratory Equipments Doctor to Patient  \\\n",
       "0          1.0              Adequate              high   \n",
       "1          0.0          Not adequate               low   \n",
       "2          0.0          Not adequate               low   \n",
       "3          0.0          Not adequate               low   \n",
       "4          0.0          Not adequate               low   \n",
       "\n",
       "   Environment - Sanitised or not  \\\n",
       "0                             1.0   \n",
       "1                             0.0   \n",
       "2                             0.0   \n",
       "3                             0.0   \n",
       "4                             0.0   \n",
       "\n",
       "  Complicated/ Uncomplicated Malaria Diagnosis Location (Urban/ Rural Area)  \\\n",
       "0                                Uncomplicated                        Urban   \n",
       "1                                  Complicated                        Rural   \n",
       "2                                  Complicated                        Rural   \n",
       "3                                  Complicated                        Rural   \n",
       "4                                  Complicated                        Rural   \n",
       "\n",
       "  Malaria Outcome Interpretation  \n",
       "0                       Negative  \n",
       "1                       Positive  \n",
       "2                       Positive  \n",
       "3                       Positive  \n",
       "4                       Positive  "
      ]
     },
<<<<<<< HEAD
     "execution_count": 120,
=======
     "execution_count": 4,
>>>>>>> ae3f2fa09079df83c2ab490d59f40c7bfcc92401
     "metadata": {},
     "output_type": "execute_result"
    }
   ],
   "source": [
    "df1.head()"
   ]
  },
  {
   "cell_type": "code",
<<<<<<< HEAD
   "execution_count": 121,
=======
   "execution_count": 5,
>>>>>>> ae3f2fa09079df83c2ab490d59f40c7bfcc92401
   "id": "13e3df88",
   "metadata": {},
   "outputs": [],
   "source": [
    "df = mal.merge(df1[['Complicated/ Uncomplicated Malaria Diagnosis', 'Location (Urban/ Rural Area)', 'Malaria Outcome Interpretation']], left_index=True, right_index=True, how='inner')"
   ]
  },
  {
   "cell_type": "code",
<<<<<<< HEAD
   "execution_count": 122,
=======
   "execution_count": 6,
>>>>>>> ae3f2fa09079df83c2ab490d59f40c7bfcc92401
   "id": "6bcf29cb",
   "metadata": {},
   "outputs": [
    {
     "data": {
      "text/html": [
       "<div>\n",
       "<style scoped>\n",
       "    .dataframe tbody tr th:only-of-type {\n",
       "        vertical-align: middle;\n",
       "    }\n",
       "\n",
       "    .dataframe tbody tr th {\n",
       "        vertical-align: top;\n",
       "    }\n",
       "\n",
       "    .dataframe thead th {\n",
       "        text-align: right;\n",
       "    }\n",
       "</style>\n",
       "<table border=\"1\" class=\"dataframe\">\n",
       "  <thead>\n",
       "    <tr style=\"text-align: right;\">\n",
       "      <th></th>\n",
       "      <th>Pregnancies</th>\n",
       "      <th>Availability of Treated Net</th>\n",
       "      <th>Season: Level of Rainfall-Stagnant water breeding</th>\n",
       "      <th>High Rate of Mal  Infection (Lab Diagnosis)</th>\n",
       "      <th>Malaria Parasite Density Fever- Rapid Diagnostic Test(Strip)</th>\n",
       "      <th>Complaints/Symptoms</th>\n",
       "      <th>Age</th>\n",
       "      <th>Outcome</th>\n",
       "      <th>Electricity</th>\n",
       "      <th>Laboratory Equipments</th>\n",
       "      <th>Doctor to Patient</th>\n",
       "      <th>Environment - Sanitised or not</th>\n",
       "      <th>Complicated/ Uncomplicated Malaria Diagnosis</th>\n",
       "      <th>Location (Urban/ Rural Area)</th>\n",
       "      <th>Malaria Outcome Interpretation</th>\n",
       "    </tr>\n",
       "  </thead>\n",
       "  <tbody>\n",
       "    <tr>\n",
       "      <th>0</th>\n",
       "      <td>0</td>\n",
       "      <td>1</td>\n",
       "      <td>0</td>\n",
       "      <td>0.7</td>\n",
       "      <td>malaria,?helminthiasis</td>\n",
       "      <td>Bitter mouth taste, tiredness, feeling of some...</td>\n",
       "      <td>36.0</td>\n",
       "      <td>0</td>\n",
       "      <td>1.0</td>\n",
       "      <td>Adequate</td>\n",
       "      <td>high</td>\n",
       "      <td>1.0</td>\n",
       "      <td>Uncomplicated</td>\n",
       "      <td>Urban</td>\n",
       "      <td>Negative</td>\n",
       "    </tr>\n",
       "    <tr>\n",
       "      <th>1</th>\n",
       "      <td>0</td>\n",
       "      <td>0</td>\n",
       "      <td>1</td>\n",
       "      <td>75.0</td>\n",
       "      <td>Malaria R/O Sepsis</td>\n",
       "      <td>Fever x 4/7_x000D_\\nVomiting x 3/7_x000D_\\nMal...</td>\n",
       "      <td>24.0</td>\n",
       "      <td>1</td>\n",
       "      <td>0.0</td>\n",
       "      <td>Not adequate</td>\n",
       "      <td>low</td>\n",
       "      <td>0.0</td>\n",
       "      <td>Complicated</td>\n",
       "      <td>Rural</td>\n",
       "      <td>Positive</td>\n",
       "    </tr>\n",
       "    <tr>\n",
       "      <th>2</th>\n",
       "      <td>1</td>\n",
       "      <td>0</td>\n",
       "      <td>1</td>\n",
       "      <td>71.0</td>\n",
       "      <td>?Malaria in pregnancy</td>\n",
       "      <td>1. Abd pain_x000D_\\nfever</td>\n",
       "      <td>9.0</td>\n",
       "      <td>1</td>\n",
       "      <td>0.0</td>\n",
       "      <td>Not adequate</td>\n",
       "      <td>low</td>\n",
       "      <td>0.0</td>\n",
       "      <td>Complicated</td>\n",
       "      <td>Rural</td>\n",
       "      <td>Positive</td>\n",
       "    </tr>\n",
       "    <tr>\n",
       "      <th>3</th>\n",
       "      <td>0</td>\n",
       "      <td>0</td>\n",
       "      <td>1</td>\n",
       "      <td>96.0</td>\n",
       "      <td>?Malaria_x000D_\\nDelayed Developmental Milestones</td>\n",
       "      <td>1. Fever_x000D_\\nPoor appetite</td>\n",
       "      <td>5.0</td>\n",
       "      <td>1</td>\n",
       "      <td>0.0</td>\n",
       "      <td>Not adequate</td>\n",
       "      <td>low</td>\n",
       "      <td>0.0</td>\n",
       "      <td>Complicated</td>\n",
       "      <td>Rural</td>\n",
       "      <td>Positive</td>\n",
       "    </tr>\n",
       "    <tr>\n",
       "      <th>4</th>\n",
       "      <td>1</td>\n",
       "      <td>0</td>\n",
       "      <td>1</td>\n",
       "      <td>97.0</td>\n",
       "      <td>?Malaria in pregnancy</td>\n",
       "      <td>1. frequent stooling x 3episodes /day_x000D_\\n...</td>\n",
       "      <td>28.0</td>\n",
       "      <td>1</td>\n",
       "      <td>0.0</td>\n",
       "      <td>Not adequate</td>\n",
       "      <td>low</td>\n",
       "      <td>0.0</td>\n",
       "      <td>Complicated</td>\n",
       "      <td>Rural</td>\n",
       "      <td>Positive</td>\n",
       "    </tr>\n",
       "  </tbody>\n",
       "</table>\n",
       "</div>"
      ],
      "text/plain": [
       "   Pregnancies  Availability of Treated Net  \\\n",
       "0            0                            1   \n",
       "1            0                            0   \n",
       "2            1                            0   \n",
       "3            0                            0   \n",
       "4            1                            0   \n",
       "\n",
       "   Season: Level of Rainfall-Stagnant water breeding   \\\n",
       "0                                                  0    \n",
       "1                                                  1    \n",
       "2                                                  1    \n",
       "3                                                  1    \n",
       "4                                                  1    \n",
       "\n",
       "   High Rate of Mal  Infection (Lab Diagnosis)  \\\n",
       "0                                          0.7   \n",
       "1                                         75.0   \n",
       "2                                         71.0   \n",
       "3                                         96.0   \n",
       "4                                         97.0   \n",
       "\n",
       "  Malaria Parasite Density Fever- Rapid Diagnostic Test(Strip)  \\\n",
       "0                             malaria,?helminthiasis             \n",
       "1                                 Malaria R/O Sepsis             \n",
       "2                              ?Malaria in pregnancy             \n",
       "3  ?Malaria_x000D_\\nDelayed Developmental Milestones             \n",
       "4                              ?Malaria in pregnancy             \n",
       "\n",
       "                                 Complaints/Symptoms   Age  Outcome  \\\n",
       "0  Bitter mouth taste, tiredness, feeling of some...  36.0        0   \n",
       "1  Fever x 4/7_x000D_\\nVomiting x 3/7_x000D_\\nMal...  24.0        1   \n",
       "2                          1. Abd pain_x000D_\\nfever   9.0        1   \n",
       "3                     1. Fever_x000D_\\nPoor appetite   5.0        1   \n",
       "4  1. frequent stooling x 3episodes /day_x000D_\\n...  28.0        1   \n",
       "\n",
       "   Electricity Laboratory Equipments Doctor to Patient  \\\n",
       "0          1.0              Adequate              high   \n",
       "1          0.0          Not adequate               low   \n",
       "2          0.0          Not adequate               low   \n",
       "3          0.0          Not adequate               low   \n",
       "4          0.0          Not adequate               low   \n",
       "\n",
       "   Environment - Sanitised or not  \\\n",
       "0                             1.0   \n",
       "1                             0.0   \n",
       "2                             0.0   \n",
       "3                             0.0   \n",
       "4                             0.0   \n",
       "\n",
       "  Complicated/ Uncomplicated Malaria Diagnosis Location (Urban/ Rural Area)  \\\n",
       "0                                Uncomplicated                        Urban   \n",
       "1                                  Complicated                        Rural   \n",
       "2                                  Complicated                        Rural   \n",
       "3                                  Complicated                        Rural   \n",
       "4                                  Complicated                        Rural   \n",
       "\n",
       "  Malaria Outcome Interpretation  \n",
       "0                       Negative  \n",
       "1                       Positive  \n",
       "2                       Positive  \n",
       "3                       Positive  \n",
       "4                       Positive  "
      ]
     },
<<<<<<< HEAD
     "execution_count": 122,
=======
     "execution_count": 6,
>>>>>>> ae3f2fa09079df83c2ab490d59f40c7bfcc92401
     "metadata": {},
     "output_type": "execute_result"
    }
   ],
   "source": [
    "df.head()"
   ]
  },
  {
   "cell_type": "code",
<<<<<<< HEAD
   "execution_count": 123,
=======
   "execution_count": 7,
>>>>>>> ae3f2fa09079df83c2ab490d59f40c7bfcc92401
   "id": "bb79ca9e",
   "metadata": {},
   "outputs": [],
   "source": [
    "df = df[:2120]"
   ]
  },
  {
   "cell_type": "code",
<<<<<<< HEAD
   "execution_count": 124,
=======
   "execution_count": 8,
>>>>>>> ae3f2fa09079df83c2ab490d59f40c7bfcc92401
   "id": "658b559f",
   "metadata": {},
   "outputs": [
    {
     "data": {
      "text/plain": [
       "0       0\n",
       "1       1\n",
       "2       1\n",
       "3       1\n",
       "4       1\n",
       "       ..\n",
       "2115    1\n",
       "2116    1\n",
       "2117    1\n",
       "2118    1\n",
       "2119    0\n",
       "Name: Outcome, Length: 2120, dtype: int64"
      ]
     },
<<<<<<< HEAD
     "execution_count": 124,
=======
     "execution_count": 8,
>>>>>>> ae3f2fa09079df83c2ab490d59f40c7bfcc92401
     "metadata": {},
     "output_type": "execute_result"
    }
   ],
   "source": [
    "df['Outcome']"
   ]
  },
  {
   "cell_type": "markdown",
   "id": "0b88930c",
   "metadata": {},
   "source": [
    "### CHECKING FOR THE INFORMATION OF THE DATASETS"
   ]
  },
  {
   "cell_type": "code",
<<<<<<< HEAD
   "execution_count": 125,
=======
   "execution_count": 9,
>>>>>>> ae3f2fa09079df83c2ab490d59f40c7bfcc92401
   "id": "8102151e",
   "metadata": {},
   "outputs": [
    {
     "name": "stdout",
     "output_type": "stream",
     "text": [
      "<class 'pandas.core.frame.DataFrame'>\n",
      "Index: 2120 entries, 0 to 2119\n",
      "Data columns (total 15 columns):\n",
      " #   Column                                                        Non-Null Count  Dtype  \n",
      "---  ------                                                        --------------  -----  \n",
      " 0   Pregnancies                                                   2120 non-null   int64  \n",
      " 1   Availability of Treated Net                                   2120 non-null   int64  \n",
      " 2   Season: Level of Rainfall-Stagnant water breeding             2120 non-null   int64  \n",
      " 3   High Rate of Mal  Infection (Lab Diagnosis)                   2120 non-null   float64\n",
      " 4   Malaria Parasite Density Fever- Rapid Diagnostic Test(Strip)  2120 non-null   object \n",
      " 5   Complaints/Symptoms                                           2108 non-null   object \n",
      " 6   Age                                                           2120 non-null   float64\n",
      " 7   Outcome                                                       2120 non-null   int64  \n",
      " 8   Electricity                                                   2064 non-null   float64\n",
      " 9   Laboratory Equipments                                         2064 non-null   object \n",
      " 10  Doctor to Patient                                             2064 non-null   object \n",
      " 11  Environment - Sanitised or not                                2064 non-null   float64\n",
      " 12  Complicated/ Uncomplicated Malaria Diagnosis                  2120 non-null   object \n",
      " 13  Location (Urban/ Rural Area)                                  2120 non-null   object \n",
      " 14  Malaria Outcome Interpretation                                2120 non-null   object \n",
      "dtypes: float64(4), int64(4), object(7)\n",
      "memory usage: 265.0+ KB\n"
     ]
    }
   ],
   "source": [
    "df.info()"
   ]
  },
  {
   "cell_type": "markdown",
   "id": "b9930b47",
   "metadata": {},
   "source": [
    "### When we checked for the info of the dataset it can be seen that we have some missing values in some columns and also we have categorical features(object datatype) in the dataset so then we have to deal with them"
   ]
  },
  {
   "cell_type": "markdown",
   "id": "5b4c4779",
   "metadata": {},
   "source": [
    "## DESCRIBING THE DATASETS"
   ]
  },
  {
   "cell_type": "code",
<<<<<<< HEAD
   "execution_count": 126,
=======
   "execution_count": 10,
>>>>>>> ae3f2fa09079df83c2ab490d59f40c7bfcc92401
   "id": "831ce994",
   "metadata": {},
   "outputs": [
    {
     "data": {
      "text/html": [
       "<div>\n",
       "<style scoped>\n",
       "    .dataframe tbody tr th:only-of-type {\n",
       "        vertical-align: middle;\n",
       "    }\n",
       "\n",
       "    .dataframe tbody tr th {\n",
       "        vertical-align: top;\n",
       "    }\n",
       "\n",
       "    .dataframe thead th {\n",
       "        text-align: right;\n",
       "    }\n",
       "</style>\n",
       "<table border=\"1\" class=\"dataframe\">\n",
       "  <thead>\n",
       "    <tr style=\"text-align: right;\">\n",
       "      <th></th>\n",
       "      <th>Pregnancies</th>\n",
       "      <th>Availability of Treated Net</th>\n",
       "      <th>Season: Level of Rainfall-Stagnant water breeding</th>\n",
       "      <th>High Rate of Mal  Infection (Lab Diagnosis)</th>\n",
       "      <th>Age</th>\n",
       "      <th>Outcome</th>\n",
       "      <th>Electricity</th>\n",
       "      <th>Environment - Sanitised or not</th>\n",
       "    </tr>\n",
       "  </thead>\n",
       "  <tbody>\n",
       "    <tr>\n",
       "      <th>count</th>\n",
       "      <td>2120.000000</td>\n",
       "      <td>2120.000000</td>\n",
       "      <td>2120.000000</td>\n",
       "      <td>2120.000000</td>\n",
       "      <td>2120.000000</td>\n",
       "      <td>2120.000000</td>\n",
       "      <td>2064.000000</td>\n",
       "      <td>2064.000000</td>\n",
       "    </tr>\n",
       "    <tr>\n",
       "      <th>mean</th>\n",
       "      <td>0.052830</td>\n",
       "      <td>0.424528</td>\n",
       "      <td>0.552830</td>\n",
       "      <td>74.595660</td>\n",
       "      <td>25.603774</td>\n",
       "      <td>0.575472</td>\n",
       "      <td>0.432171</td>\n",
       "      <td>0.432171</td>\n",
       "    </tr>\n",
       "    <tr>\n",
       "      <th>std</th>\n",
       "      <td>0.223747</td>\n",
       "      <td>0.494388</td>\n",
       "      <td>0.497318</td>\n",
       "      <td>12.110381</td>\n",
       "      <td>17.914737</td>\n",
       "      <td>0.494388</td>\n",
       "      <td>0.495498</td>\n",
       "      <td>0.495498</td>\n",
       "    </tr>\n",
       "    <tr>\n",
       "      <th>min</th>\n",
       "      <td>0.000000</td>\n",
       "      <td>0.000000</td>\n",
       "      <td>0.000000</td>\n",
       "      <td>0.700000</td>\n",
       "      <td>3.000000</td>\n",
       "      <td>0.000000</td>\n",
       "      <td>0.000000</td>\n",
       "      <td>0.000000</td>\n",
       "    </tr>\n",
       "    <tr>\n",
       "      <th>25%</th>\n",
       "      <td>0.000000</td>\n",
       "      <td>0.000000</td>\n",
       "      <td>0.000000</td>\n",
       "      <td>66.000000</td>\n",
       "      <td>8.000000</td>\n",
       "      <td>0.000000</td>\n",
       "      <td>0.000000</td>\n",
       "      <td>0.000000</td>\n",
       "    </tr>\n",
       "    <tr>\n",
       "      <th>50%</th>\n",
       "      <td>0.000000</td>\n",
       "      <td>0.000000</td>\n",
       "      <td>1.000000</td>\n",
       "      <td>70.000000</td>\n",
       "      <td>25.000000</td>\n",
       "      <td>1.000000</td>\n",
       "      <td>0.000000</td>\n",
       "      <td>0.000000</td>\n",
       "    </tr>\n",
       "    <tr>\n",
       "      <th>75%</th>\n",
       "      <td>0.000000</td>\n",
       "      <td>1.000000</td>\n",
       "      <td>1.000000</td>\n",
       "      <td>88.000000</td>\n",
       "      <td>39.000000</td>\n",
       "      <td>1.000000</td>\n",
       "      <td>1.000000</td>\n",
       "      <td>1.000000</td>\n",
       "    </tr>\n",
       "    <tr>\n",
       "      <th>max</th>\n",
       "      <td>1.000000</td>\n",
       "      <td>1.000000</td>\n",
       "      <td>1.000000</td>\n",
       "      <td>99.000000</td>\n",
       "      <td>89.000000</td>\n",
       "      <td>1.000000</td>\n",
       "      <td>1.000000</td>\n",
       "      <td>1.000000</td>\n",
       "    </tr>\n",
       "  </tbody>\n",
       "</table>\n",
       "</div>"
      ],
      "text/plain": [
       "       Pregnancies  Availability of Treated Net  \\\n",
       "count  2120.000000                  2120.000000   \n",
       "mean      0.052830                     0.424528   \n",
       "std       0.223747                     0.494388   \n",
       "min       0.000000                     0.000000   \n",
       "25%       0.000000                     0.000000   \n",
       "50%       0.000000                     0.000000   \n",
       "75%       0.000000                     1.000000   \n",
       "max       1.000000                     1.000000   \n",
       "\n",
       "       Season: Level of Rainfall-Stagnant water breeding   \\\n",
       "count                                        2120.000000    \n",
       "mean                                            0.552830    \n",
       "std                                             0.497318    \n",
       "min                                             0.000000    \n",
       "25%                                             0.000000    \n",
       "50%                                             1.000000    \n",
       "75%                                             1.000000    \n",
       "max                                             1.000000    \n",
       "\n",
       "       High Rate of Mal  Infection (Lab Diagnosis)          Age      Outcome  \\\n",
       "count                                  2120.000000  2120.000000  2120.000000   \n",
       "mean                                     74.595660    25.603774     0.575472   \n",
       "std                                      12.110381    17.914737     0.494388   \n",
       "min                                       0.700000     3.000000     0.000000   \n",
       "25%                                      66.000000     8.000000     0.000000   \n",
       "50%                                      70.000000    25.000000     1.000000   \n",
       "75%                                      88.000000    39.000000     1.000000   \n",
       "max                                      99.000000    89.000000     1.000000   \n",
       "\n",
       "       Electricity  Environment - Sanitised or not  \n",
       "count  2064.000000                     2064.000000  \n",
       "mean      0.432171                        0.432171  \n",
       "std       0.495498                        0.495498  \n",
       "min       0.000000                        0.000000  \n",
       "25%       0.000000                        0.000000  \n",
       "50%       0.000000                        0.000000  \n",
       "75%       1.000000                        1.000000  \n",
       "max       1.000000                        1.000000  "
      ]
     },
<<<<<<< HEAD
     "execution_count": 126,
=======
     "execution_count": 10,
>>>>>>> ae3f2fa09079df83c2ab490d59f40c7bfcc92401
     "metadata": {},
     "output_type": "execute_result"
    }
   ],
   "source": [
    "df.describe()"
   ]
  },
  {
   "cell_type": "markdown",
   "id": "3937e12c",
   "metadata": {},
   "source": [
    "## CHECKING FOR MISSING VALUES"
   ]
  },
  {
   "cell_type": "code",
<<<<<<< HEAD
   "execution_count": 127,
=======
   "execution_count": 11,
>>>>>>> ae3f2fa09079df83c2ab490d59f40c7bfcc92401
   "id": "83587f61",
   "metadata": {},
   "outputs": [
    {
     "data": {
      "text/plain": [
       "Pregnancies                                                      0\n",
       "Availability of Treated Net                                      0\n",
       "Season: Level of Rainfall-Stagnant water breeding                0\n",
       "High Rate of Mal  Infection (Lab Diagnosis)                      0\n",
       "Malaria Parasite Density Fever- Rapid Diagnostic Test(Strip)     0\n",
       "Complaints/Symptoms                                             12\n",
       "Age                                                              0\n",
       "Outcome                                                          0\n",
       "Electricity                                                     56\n",
       "Laboratory Equipments                                           56\n",
       "Doctor to Patient                                               56\n",
       "Environment - Sanitised or not                                  56\n",
       "Complicated/ Uncomplicated Malaria Diagnosis                     0\n",
       "Location (Urban/ Rural Area)                                     0\n",
       "Malaria Outcome Interpretation                                   0\n",
       "dtype: int64"
      ]
     },
<<<<<<< HEAD
     "execution_count": 127,
=======
     "execution_count": 11,
>>>>>>> ae3f2fa09079df83c2ab490d59f40c7bfcc92401
     "metadata": {},
     "output_type": "execute_result"
    }
   ],
   "source": [
    "df.isnull().sum()"
   ]
  },
  {
   "cell_type": "code",
<<<<<<< HEAD
   "execution_count": 128,
=======
   "execution_count": 12,
>>>>>>> ae3f2fa09079df83c2ab490d59f40c7bfcc92401
   "id": "7da93e58",
   "metadata": {},
   "outputs": [],
   "source": [
    "dfe = df.copy()"
   ]
  },
  {
   "cell_type": "code",
<<<<<<< HEAD
   "execution_count": 129,
=======
   "execution_count": 13,
>>>>>>> ae3f2fa09079df83c2ab490d59f40c7bfcc92401
   "id": "1ac4b6a2",
   "metadata": {},
   "outputs": [
    {
     "data": {
      "text/plain": [
       "Index(['Pregnancies', 'Availability of Treated Net',\n",
       "       'Season: Level of Rainfall-Stagnant water breeding ',\n",
       "       'High Rate of Mal  Infection (Lab Diagnosis)',\n",
       "       'Malaria Parasite Density Fever- Rapid Diagnostic Test(Strip)',\n",
       "       'Complaints/Symptoms', 'Age', 'Outcome', 'Electricity',\n",
       "       'Laboratory Equipments', 'Doctor to Patient',\n",
       "       'Environment - Sanitised or not',\n",
       "       'Complicated/ Uncomplicated Malaria Diagnosis',\n",
       "       'Location (Urban/ Rural Area)', 'Malaria Outcome Interpretation'],\n",
       "      dtype='object')"
      ]
     },
<<<<<<< HEAD
     "execution_count": 129,
=======
     "execution_count": 13,
>>>>>>> ae3f2fa09079df83c2ab490d59f40c7bfcc92401
     "metadata": {},
     "output_type": "execute_result"
    }
   ],
   "source": [
    "df.columns"
   ]
  },
  {
   "cell_type": "code",
<<<<<<< HEAD
   "execution_count": 130,
=======
   "execution_count": 14,
>>>>>>> ae3f2fa09079df83c2ab490d59f40c7bfcc92401
   "id": "5319e5ed",
   "metadata": {},
   "outputs": [
    {
     "data": {
      "text/plain": [
       "array(['Bitter mouth taste, tiredness, feeling of something moving in the stomach. ',\n",
       "       'Fever x 4/7_x000D_\\nVomiting x 3/7_x000D_\\nMalaise x 3/7',\n",
       "       '1. Abd pain_x000D_\\nfever', '1. Fever_x000D_\\nPoor appetite',\n",
       "       '1. frequent stooling x 3episodes /day_x000D_\\nfever',\n",
       "       '1. Vomiting x2episodes_x000D_\\nPassage of watery stool x several episodes after commencement of Conc ORS_x000D_\\nFever',\n",
       "       '1. Fever_x000D_\\nBody weakness for 5days_x000D_\\n',\n",
       "       '1. Headache_x000D_\\nGeneral body ache_x000D_\\nFever',\n",
       "       '1. Headache_x000D_\\nCatarrh_x000D_\\nBody weakness',\n",
       "       '1. Body weakness_x000D_\\nFever',\n",
       "       '1. Headache_x000D_\\nAbdominal pains_x000D_\\nBodyweakness_x000D_\\nJoint pains',\n",
       "       '1. fever_x000D_\\n2. Rash', '1. passage of loose stool',\n",
       "       '1. C/O-fever-1/7_x000D_\\nBody rashes-bathing with black soap_x000D_\\nNo vomiting',\n",
       "       '1. C/O-vomiting-twice yester_x000D_\\nFever-1/7',\n",
       "       'headache, generalized body pains, chills, ',\n",
       "       '1. abd pain x1/52_x000D_\\n2.cough x2/7',\n",
       "       '1. GBpain _x000D_\\non off_x000D_\\n53 yr old',\n",
       "       '1. history of pud_x000D_\\nmalaria wanted to do test',\n",
       "       '1. chest pain in known pud travel rescentlymin ',\n",
       "       '1. C/O-watery stools-twice today_x000D_\\nVomiting x2 yester_x000D_\\nFever-5/7',\n",
       "       '1. weakness _x000D_\\nabd disturbance',\n",
       "       '1.FEVER X4/7_x000D_\\n21.DIARRHEA X4/7 ',\n",
       "       'Presenting with results',\n",
       "       '1. stool disturbancxe_x000D_\\nheadache', '1. FEVER X1/7',\n",
       "       '1. C/O-fever-3/7_x000D_\\nCough-3/7,cattarh',\n",
       "       '1.pyellow urinev disharge ',\n",
       "       '1. itchying in anus _x000D_\\nweaness _x000D_\\n',\n",
       "       '1. HEADACHE X 3/52',\n",
       "       '1. A known RVD,C/O-fever-1/7_x000D_\\nNo vomiting',\n",
       "       '1. fever x4days_x000D_\\n2. malaise x4days_x000D_\\n3 abdominal pain x3days_x000D_\\n4. Rt groin swelling x2days',\n",
       "       '1. catarrh  and cough \\\\fever ',\n",
       "       '1.C/O-For general check-up_x000D_\\nFever-1/7 ',\n",
       "       '1. abd pain _x000D_\\nfever_x000D_\\nheadache',\n",
       "       'presenting with results, still complainning of neck pain, though yet to procure medications prescribed during last visit',\n",
       "       '1. Still having fever despite Rx,loosing wt,no vomiting,no loose stools',\n",
       "       '1. C/O-cough-4/7_x000D_\\nFever-4/7_x000D_\\nNo vomiting',\n",
       "       'headache, abdominal pain',\n",
       "       '1. HEADACHE_x000D_\\n2. BITTER TASTE_x000D_\\n3. BOBY PAINS_x000D_\\n_x000D_\\n_x000D_\\n_x000D_\\n_x000D_\\n_x000D_\\n_x000D_\\n',\n",
       "       '1. result presentation', 'Fever x 4/7',\n",
       "       'headache,chills, injury to the medial surface of left foot from motor cycle x 2/7',\n",
       "       'rashes on the body, generalized x 3/7, fever', '1. fever ',\n",
       "       '1. fever_x000D_\\n2.vomiting', '1. headache_x000D_\\n2. fever',\n",
       "       '1. Cold_x000D_\\n2.headache',\n",
       "       '1. FEVER_x000D_\\n2.GENERALISED MALAISE',\n",
       "       'dizziness, headache, cough x 2/7 , fever',\n",
       "       '1.fever _x000D_\\nheadache ',\n",
       "       '1. stooling  after consuption of suspected food malaria food pois',\n",
       "       '1. C/O-fever-2/7_x000D_\\nCough & cattarh',\n",
       "       'fever, chills, weakness x4/7',\n",
       "       '1. C/O-fever-today_x000D_\\nNoisy breathing_x000D_\\nNo vomiting',\n",
       "       'Results Noted_x000D_\\nC/O sleeplessness and poor appetite',\n",
       "       '1. ABD PAIN,FEVERGENERALISED BODY PAINS',\n",
       "       'MP / PCV results noted', '1. HEADACHE,LOSS OF APETITTE,ABD PAIN',\n",
       "       '1. WITH RESULTS',\n",
       "       '1. Seen with results_x000D_\\nC/O body rashes-_x000D_\\nOral rashes',\n",
       "       'px was brought from the lab was said to be having rigors, and was almost falling, presented this morning and was asked to do certain inv,complainned of fever, headache, weakness',\n",
       "       '1. HEADACHE,FEVER,COLD', '1. fever _x000D_\\nGBPain',\n",
       "       '1. FEVER,HEADACHE,PASSAGE OF LOOSE STOOL',\n",
       "       '1. Seen with lab results', '1. Seen with results.',\n",
       "       '1. HEADACHE,GENERALISED BODY PAINS,HICCUP',\n",
       "       '1. ABD PAIN,BITTERNESS OF MOUTH', 'FBC / MP results noted',\n",
       "       '1. C/O WEAKNESS _x000D_\\nMALAISE_x000D_\\nLOSS OF APPETITE_x000D_\\nASSO HEADACHE',\n",
       "       '1. Headache_x000D_\\n2. Abdominal discomfort',\n",
       "       '1. Fever_x000D_\\n2. Fast breathing 1/7',\n",
       "       ' right shoulder pain x 1/12, headache, fever',\n",
       "       '1. HEADACHE,VOMITTING',\n",
       "       'headache, body pains,abd pain - burning / pepperish in nature, catarrah',\n",
       "       '1. abd pain x3/7_x000D_\\n2.fever x1/7',\n",
       "       '1. BODY PAINS,BODY WEAKNESS ,BITTERNESS OF MOUTH',\n",
       "       '1. URGENCY,PAIN ON MICTURITION',\n",
       "       'bitter mouth taste, headache, vaginal itching,',\n",
       "       '1. FEVER,CHEST PAIN', '1.HEADACHE,FEVER ',\n",
       "       'abd pain- said to be burning/ pepperish in nature, dizziness, fever, nausea',\n",
       "       '1.FEVER,BACK PAIN ',\n",
       "       'weakness, nausea, loss of appetite, bitter mouth taste, poor sleep, chest pain burning in nature, radiating to the back',\n",
       "       '1. Cough x1/7_x000D_\\n2.Fever x1/7',\n",
       "       '1. sore throat_x000D_\\nfever _x000D_\\nchill_x000D_\\n',\n",
       "       '1.BODY PAINS,HEADACHE,CHEST PAIN ', '1. Reviewed with results',\n",
       "       '1. C/O-Has been weaned 3/7,rejecting food.Loose stools,vomiting_x000D_\\nFever-sometimes',\n",
       "       '1.DIARRHEA X1/7_x000D_\\n2.FEVER X1/7 _x000D_\\n   vomiting this am.',\n",
       "       '1. C/O-fever-3/7_x000D_\\nNo vimiting', '1. excessive crying x1/7',\n",
       "       '1. VOMITTING,HEADACHE', '1. Seen with results', 'fever x4/7',\n",
       "       '1. HEADACHE,BODY PAINS',\n",
       "       '1. fever x2wks_x000D_\\n2. anorexia x1/7_x000D_\\n3. watery stools stool x1/7_x000D_\\n4. vomiting x1/7',\n",
       "       'rash x1/52_x000D_\\neye discharge x4/7_x000D_\\nfever x1/7_x000D_\\nwalking on toes',\n",
       "       'fever xtoday_x000D_\\nchills and rigors xtoday _x000D_\\nheadache xtoday',\n",
       "       'headache x3/7_x000D_\\nbody pains x3/7_x000D_\\nfever x3/7_x000D_\\nchills and rigors x3/7',\n",
       "       'headache x1/52_x000D_\\nbody pains x1/52',\n",
       "       'fever x5/7_x000D_\\nvomiting x2/7',\n",
       "       '1. fever \\\\_x000D_\\nweakness rx for malaris',\n",
       "       '1. MUSCLE PAIN,FEVER,THROAT PAIN',\n",
       "       '1. C/O-Crying _x000D_\\nNot eating well_x000D_\\nNo vomiting,no loose stools',\n",
       "       'bitter mouth taste, fever/ chills, sore on the gum, painful',\n",
       "       'Fever x 1/7', 'headache, loss of appetite',\n",
       "       'Loose stools x 3/7_x000D_\\nMalaise x 3/7_x000D_\\n',\n",
       "       '1. FEVER,HEADACHE,NAUSEA,EXCESSIVE SALIVATION',\n",
       "       'Review of results',\n",
       "       'cough, cattarrah, nausea,fever, body pains x 1/52',\n",
       "       '1. C/O-chest pain_x000D_\\nFever-on off-4/7_x000D_\\nAbd discomfort_x000D_\\nCough',\n",
       "       '1. CHEST PAIN,ABD PAIN,HEADACHE,SAW HER MESNSES LAST DECEMBER',\n",
       "       '1. C/O-cough-1/52_x000D_\\nFever-on &off-1/52',\n",
       "       'Having fever again that started 2/7 ago',\n",
       "       'headache, bitter mouth taste, body pains, cough, blocked nose x 5/7',\n",
       "       '1. WITH RESULT', 'PRESENTING WITH RESULTS',\n",
       "       'Rash on face x 3/52_x000D_\\nVomiting x 1/7',\n",
       "       '1. HEADACHE,BACK PAIN,FEVER', '1. C/O-fever-1/7', 'Cough  x 4/12',\n",
       "       'presenting with results',\n",
       "       'weakness, headache, fever, abd pain - generalized, sore on the tongue, painful left ear- feeling as if the ear is blocked, nil ear discharge_x000D_\\n',\n",
       "       '1. DIZZY,HEADACHE,FEVER',\n",
       "       '1. HEADACHE,FEVER,GENERALISED BODY PAINS,IRREGULAR MENSES',\n",
       "       'Headache, body pains x 2/7, excessive salivation , amenorrhoea x 5/12',\n",
       "       '1. HEADACHE FEVER', '1. px seen._x000D_\\n  Fevefr x1/7',\n",
       "       '1.PX SEEN. Discharged 4/7 ago. complains of mild grade fever,nil cough. ',\n",
       "       '1. BODY PAINS,HEADACHE', '1. FEVER X1/7_x000D_\\n2.VOMITING X1/7',\n",
       "       '1. fever x1/52_x000D_\\n generalised body pains',\n",
       "       '1.swelling on upper chest x10yrs_x000D_\\nGeneralised body pains ',\n",
       "       '1. FEVER X1/52_x000D_\\n2.GENERALISED BODY PAINS_x000D_\\n3.ABD PAIN',\n",
       "       '1.FEVER X1/52 ',\n",
       "       '1. CHEST PAIN X2/52_x000D_\\n     generalised body weakness',\n",
       "       '1. FEVER X3/7', 1, '1. FEVER X1/7_x000D_\\n    MOUTH SORES',\n",
       "       '1. Headache x4/7',\n",
       "       'Headache x 1/12_x000D_\\nUpper abdominal pain x 1/12',\n",
       "       'Fever x 1/7_x000D_\\nVomiting x 1/7',\n",
       "       'Malaise x 1/52_x000D_\\nFever x 1/7 ',\n",
       "       'Fever x 1/7_x000D_\\nDizziness x 1/7',\n",
       "       'Fever x 3/7_x000D_\\nPassage of loose stools x 3/7_x000D_\\nVomiting x 1/7',\n",
       "       'Headache x 4/7_x000D_\\nFever x /7_x000D_\\nbody pains x 1/7',\n",
       "       '1. Fever 4/7_x000D_\\n2 Diarrhea 4/7_x000D_\\n3 Vomitting 4/7',\n",
       "       '1. Fever 3/7',\n",
       "       '1. Vomitting 1/7_x000D_\\n2. Diarrhea1/7_x000D_\\n3 Fever 1/7',\n",
       "       'fever x3/7_x000D_\\nvomiting x1/7_x000D_\\nseizures xthis moning',\n",
       "       'headeache xtoday_x000D_\\nfever xtoday_x000D_\\nchills and rigor xtoday',\n",
       "       'FEVER X5/7_x000D_\\nHEADACHE X6/7_x000D_\\nBODY PAINS X6/7',\n",
       "       ' FEVER _x000D_\\nRESTLESSNESS_x000D_\\nNAUSEA WITH ASSOCIATED LOSS OF APPETITE_x000D_\\n',\n",
       "       '1. A KNOWN SCD PATIENT_x000D_\\nC/O FEVER, BODY PAINS, MALAISE',\n",
       "       '1. DIARRHOEA_x000D_\\nVOMITING_x000D_\\nFEVER X3/7',\n",
       "       '1. FEVER X 1/7_x000D_\\nCOUGH X2/7', '1. SORES IN THE MOUTH',\n",
       "       '1. FEVER _x000D_\\nLOSS OF APPETITE_x000D_\\nHEADACHE',\n",
       "       '1. HEADACHE_x000D_\\nDIZZINESS',\n",
       "       '1. HEADACHE_x000D_\\nBODY PAINS_x000D_\\nMALAISE',\n",
       "       '1. chest pain _x000D_\\nweakness_x000D_\\nfever_x000D_\\nnil headache',\n",
       "       '1. headache_x000D_\\nfever_x000D_\\n_x000D_\\ndid test_x000D_\\non anti hypertensive',\n",
       "       '1. headache _x000D_\\ncold_x000D_\\nsore ',\n",
       "       '1. hx of operation due dead baby /? ectopic gestation_x000D_\\nabd pain _x000D_\\nfever_x000D_\\nnil vomitiung  poor eatin',\n",
       "       '1headache _x000D_\\nsore throat nor bowel movements. ',\n",
       "       'abd pain and chest pain, burning in nature, headache, nausea,  ',\n",
       "       '1. VOMITTING,DIZZINESS',\n",
       "       '1. C/O-fever-3/7_x000D_\\nNo vomiting_x000D_\\nNasal blockage',\n",
       "       'Abdominal discomfort x 3/52_x000D_\\nVomiting x 3/52',\n",
       "       '1. SS,C/O-abd. discomfort_x000D_\\nVomited once on saturday_x000D_\\nFever-2/7',\n",
       "       '1. PAIN ON SWALLOWING,FEVER,VOMITTING',\n",
       "       'Headache x 2/52_x000D_\\nFever x 1/7',\n",
       "       '1. ABD PAIN,FEVER,GENERALISED BODY PAINS',\n",
       "       '1. C/o-body pains_x000D_\\nVomiting-x3 this am_x000D_\\nNo fever',\n",
       "       'Fever x 3/7_x000D_\\nCattarrh x 3/7_x000D_\\nHeadache x 3/7',\n",
       "       '1. C/O-loose stools-1/52_x000D_\\nVomiting-1/7 x6 this am_x000D_\\nFever-4/7,more in the night',\n",
       "       '1. HEADACHE', '1. JOINT PAINS CATARRH HEADACHE',\n",
       "       '1. VOMITTING,HEADACHE,FEVER',\n",
       "       '1. C/O-fever-3/7_x000D_\\nAbd.discomfort_x000D_\\nVomited x 3 yesterday',\n",
       "       '1. C/O-fever-2/7_x000D_\\nCough & cattarh-3/7_x000D_\\nNO VOMITING',\n",
       "       'Cough x 2/7_x000D_\\nFever x 1/7',\n",
       "       'Fever x 2/7_x000D_\\nRed Left Eye x 2/7',\n",
       "       ' loss of appetite, pv spotting x1/7, spotting said to ve stopped, lower abd pain',\n",
       "       '1. Fever-1/7_x000D_\\nVomting-1/7,frequent this am',\n",
       "       'Vomiting x 1/7_x000D_\\nPassage of loose stool x 1/7',\n",
       "       '1. abd pain_x000D_\\nesp with travels _x000D_\\nnausea',\n",
       "       '1. C?O-Abd.discomfort_x000D_\\nFever-1/52_x000D_\\nNo vomiting,no loose stools.',\n",
       "       '1. c/O-H/ache-2/7_x000D_\\nfever-2/7_x000D_\\nvomiting-2/7,once today',\n",
       "       '1. abd discomfort_x000D_\\nabout 50yrs old ',\n",
       "       '1. C/O-fever-2/7_x000D_\\nVomiting-once today',\n",
       "       '1. C/O-abd.discomfort-on & off_x000D_\\nNo vomiting,no loose stools_x000D_\\nNo fever',\n",
       "       '1. Left sisded lower abdominal pain x12hrs', '1. FEVER,HEADACHE',\n",
       "       '1. FEVER,ABD PAIN,HEADACHE',\n",
       "       '1. fever x1/7_x000D_\\n2. malasie x1/7', 'weakness, tiredness,',\n",
       "       '1. HEADACHE,CHEST PAIN', 'NECK PAIN X 5/7, headache, fever',\n",
       "       'headache, joint aches, catarrah, cough x 1week, tiredness,  cough- productive of clear sputum, chills, dizziness',\n",
       "       'on treatment for gastritis/ malaria,still complainning  of epigastric pain ',\n",
       "       '1. COMPLAINING OF HEADACHE,FEVER, ABD PAIN',\n",
       "       '1. as earlier documented',\n",
       "       'fever x2/7_x000D_\\ngluteal rash x2/7_x000D_\\nvomited once yesterday only',\n",
       "       nan, 'fever xtoday_x000D_\\nvomiting xtoday_x000D_\\nloss of weight',\n",
       "       '1. fever on and off_x000D_\\n2.vomitting',\n",
       "       '1. persitent fever amd vomitting_x000D_\\n2.watery stool',\n",
       "       '1. fever_x000D_\\n2.sorethroat', '1. fever_x000D_\\n2.vomitting',\n",
       "       '1. fever_x000D_\\n2.vomitiing_x000D_\\n3.altered level of conciousness_x000D_\\n4.heaadache',\n",
       "       '1. C/O-fever-2/7_x000D_\\ncough-slight-1/7_x000D_\\nNo vomiting_x000D_\\nOral rashes',\n",
       "       '1. C/O-loose stools-2/7-once this am_x000D_\\nFever-1/7,no vomiting._x000D_\\n',\n",
       "       'Still having fever',\n",
       "       '1. C/O-fever-1/7_x000D_\\nDizziness,no vomiting_x000D_\\nH/ache',\n",
       "       '1. HEADACHE,SWELLING IN NECK,FEVER', '1. CATARRH,FEVER,HEADACHE',\n",
       "       '1. HEADACHE,FEVER',\n",
       "       '1. C/O-fever-1/7_x000D_\\nMucoid stool,>3x yester,once today,no vomiting',\n",
       "       '1. HEADAACHE,ABD PAIN,RASH ', 'Fever x 3/7',\n",
       "       '1. C/O-fever-2/7_x000D_\\nAbd discomfort_x000D_\\nSlight cough',\n",
       "       '1. JOINT PAINS,HEADACHE,FEVER', '1. HEADACHE,ABD PAIN',\n",
       "       '1. HEADACHE,HEAT INSIDE HER BODY', '1. BITTERNESS OF MOUTH,FEVER',\n",
       "       '1. GENERALISED BODY PAINS HEADACHE,FEVER',\n",
       "       'Fever x 1/7_x000D_\\ncough/ cattarrh x1/7',\n",
       "       'Cattarrh x 1/7_x000D_\\nFever  x 1/7',\n",
       "       'Fever x 3/7_x000D_\\nCattarrh x 3/7',\n",
       "       '1. cough_x000D_\\nweakness _x000D_\\nloose stool_x000D_\\nnil feverwanted test done',\n",
       "       '1. Seen,foolw uo,still having fever,vomiting & stooling not better.Very weak',\n",
       "       '1. fever_x000D_\\n2. generallized body weakness',\n",
       "       '1.WITH RESULTS ', '1. STILL STOOLING',\n",
       "       '1. fever_x000D_\\n2. knee and hand pain',\n",
       "       '1. fever_x000D_\\nweakness',\n",
       "       '1. fever x3days_x000D_\\n2. cough x3days_x000D_\\n3. facial swelling_x000D_\\n4. generallized weakness',\n",
       "       '1. headache,FEVER', '1. ABD PAIN,HEADACHE',\n",
       "       '1. FEVER,VOMITTING,PASSAGE OF LOOSE STOOL',\n",
       "       '1. COUGH,CATARRH,FEVER', '1. passag of loose stool,headache',\n",
       "       '1. vomiting x6hrs',\n",
       "       '1.C/O-abd discomfort_x000D_\\nvomiting_x000D_\\nFever-2/7_x000D_\\nLoose stools-2/7,once today-mucoid. ',\n",
       "       '1. sudden black out in 47 yr old _x000D_\\nnot a known DM nor HBP_x000D_\\nnil fever',\n",
       "       '1. fever x2/7', '1. VOMITING X1/7',\n",
       "       '1. C/O-abd discomfort-1/7_x000D_\\nFever-1/7_x000D_\\ncattarh',\n",
       "       '1. result presentation ',\n",
       "       '1. g bpain _x000D_\\npoor sleep_x000D_\\nteacher',\n",
       "       '1. C/O-Abd pain-today_x000D_\\nVomiting frequent this am_x000D_\\nNo fever,no loose stools',\n",
       "       '1. cold _x000D_\\nheadache_x000D_\\nabd,discomfort',\n",
       "       '1. HEADACHE PGT DONE +',\n",
       "       'cough x2/52_x000D_\\nred eyes x1/52_x000D_\\nfever x1/7_x000D_\\nvomiting x1/7',\n",
       "       '1. C/O-C/O-h/ache-2/7_x000D_\\nVomiting twice today_x000D_\\nFever-this am',\n",
       "       '1. C/O-fever-1/7_x000D_\\nNo vomiting,no loose stools',\n",
       "       'fever x2/7_x000D_\\nvomiting xtoday',\n",
       "       '1. Rfused to do requested lab.investigation_x000D_\\nC/Olt. sided chest pain_x000D_\\nweakness of the body,no fever',\n",
       "       '1. C/O-fever-1/7_x000D_\\nAbd discomfort,no vomiting',\n",
       "       '1. C/O-cough-3/7_x000D_\\nFever-3/7_x000D_\\n',\n",
       "       '1. C/O-fever-3/7_x000D_\\nBody rashes',\n",
       "       '1. C/Obody pains_x000D_\\nfever-4/7',\n",
       "       'fever x2/7_x000D_\\ncough x1/7',\n",
       "       '1. C/O-cough-1/7_x000D_\\nVomited x3', 'fever x2/52_x000D_\\n',\n",
       "       '1. VOMITING X3/7_x000D_\\n2. DIARRHEA X3/7_x000D_\\n3.feverx1/7',\n",
       "       '1. Seen with results_x000D_\\nC/O-fever-this am,no vomiting',\n",
       "       '1. nil complain',\n",
       "       'fever x10/7_x000D_\\nheadache x10/7_x000D_\\ncatarrh  and cough x2/7_x000D_\\nsorethroat x2/7',\n",
       "       '1. C/O-fever-this am', '1. seen with results', '1.FEVER X1/7 ',\n",
       "       '1. feet sensation\\\\sore throat_x000D_\\npoor sleep',\n",
       "       'FEVER X4/7_x000D_\\nRASHES X2/52',\n",
       "       '1. done pgt reactive  _x000D_\\nfever\\\\  ',\n",
       "       '1. C/O-fever-2/7_x000D_\\nSlight cough&cattarh_x000D_\\nNo vomiting',\n",
       "       '1. ABD PAIN  X1/12_x000D_\\n2.VOMITING ',\n",
       "       '1. neck pain _x000D_\\nfever _x000D_\\nbowel changes',\n",
       "       'FEVER X1/7_x000D_\\nCATTARH X2/7',\n",
       "       '1. headache_x000D_\\nfever_x000D_\\nnil sporting',\n",
       "       '1. C/O-fever-1/7_x000D_\\nNo vomiting',\n",
       "       '1. C/O-cough-slight-2/7_x000D_\\nfever-1/7_x000D_\\n',\n",
       "       'FEVER X2/7_x000D_\\nABDOMINAL PAIN X3/7_x000D_\\nLOSS OF APPETITE X3/7',\n",
       "       'DIARRHEA X1/7_x000D_\\nVOMITING X1//7_x000D_\\nFEVER XTODAY',\n",
       "       '1. call not seen 1\"_x000D_ _x000D_fever  8n 0ff _x000D_\\n\\'3/ amm_x000D_\\n_x000D_\\n_x000D_\\n',\n",
       "       '1. weaness_x000D_\\nfever',\n",
       "       '1. passage of mucoid stool_x000D_\\n2. vomiting_x000D_\\n3. fever',\n",
       "       '1. General body pains_x000D_\\n2. Leg pains', '1. fever',\n",
       "       '1. abdominal pain_x000D_\\nheadache',\n",
       "       '1. stomach pain 2/52_x000D_\\n', '1. still vomiting 3times',\n",
       "       '1. headache_x000D_\\ntiredness',\n",
       "       '1. Generalised body pains_x000D_\\nBody y weakness_x000D_\\ncatarrh',\n",
       "       '1. Headache, dizziness  *_x000D_\\nInability to see properly with right eye',\n",
       "       '1. fever loose stool', '1. C/O-fever-3/7_x000D_\\nVomiting',\n",
       "       '1. C/O-fever-more in the night-3/7_x000D_\\nNo vomiting',\n",
       "       '1. complaint of generalised body pains_x000D_\\nfever',\n",
       "       '1. FEVER X2/7',\n",
       "       '1. C/O-H/ache-2/7_x000D_\\nCattarh_x000D_\\nFever-3/7',\n",
       "       'fever x3/7', '1. catarrh and cough_x000D_\\nheadache',\n",
       "       '1. headache', '1. FEVER X4/7_x000D_\\n2.HEADACHE X4/7',\n",
       "       '1. headache_x000D_\\n2. catarh', '1.FEVER X1/7_x000D_\\n ',\n",
       "       '1. ?malaria', 'cough and cattarrh x2/7_x000D_\\nvomiting x1/7',\n",
       "       'diarrhea xthis morning_x000D_\\nfever xthis morning_x000D_\\nvomited once',\n",
       "       '1. fever x1/52_x000D_\\n    recurrent cough',\n",
       "       '1. a known HBP on rx  _x000D_\\nwaist pain_x000D_\\npoor app on amilodipine',\n",
       "       '1. fever x4days_x000D_\\n2. headache x3days_x000D_\\n2. vomiting x1hr',\n",
       "       '1. fever  _x000D_\\ncough4/7 in known HBP_x000D_\\n',\n",
       "       '1. COUGH X1/52_x000D_\\nFEVER X1/7',\n",
       "       'Cough x2/7_x000D_\\nfast breathing x1/7_x000D_\\nfever x1/7',\n",
       "       '1. COUGH,COLD IN EVENINGS HEADACHE', '1headache ',\n",
       "       '1. a known HBP off RX_x000D_\\ncough _x000D_\\nheadachE\\\\',\n",
       "       '1. YELLOW URINE_x000D_\\nWT LOSS',\n",
       "       'DIARRHEA X1/7_x000D_\\nFEVER X1/7_x000D_\\nNO VOMITING TODAY',\n",
       "       '1. chest pain _x000D_\\nfever_x000D_\\nweaknes_x000D_\\nbowel changes',\n",
       "       'FEVER X2/7_x000D_\\nMOUTH SORES X2/7', 'FEVER X1/7',\n",
       "       '1. COUGH X3/7_x000D_\\n2.FEVER X1/7',\n",
       "       '1. headache sweeting_x000D_\\n44 yr oldmalaria premenapause',\n",
       "       '1. px seen', '1. FEVER X1/7_x000D_\\n2.DIARRHEA X1/7',\n",
       "       'Fever x 2/7_x000D_\\nBody pains x 2/7_x000D_\\nVomiting x 2/7',\n",
       "       'HCV, HBSag and MP results noted',\n",
       "       'Cough x 1/52_x000D_\\nSore throat x 5/7_x000D_\\nHeadache x 5/7',\n",
       "       '1. Fever x 3/7_x000D_\\n2. Headache x 3/7_x000D_\\n3. Gen bodyweakness x 2/7',\n",
       "       'Pain in left hand x 1/7_x000D_\\nHeadache x 1/7_x000D_\\nFever x 1/7',\n",
       "       '1. Fever x 2/7_x000D_\\n2. Vomiting x 1/7',\n",
       "       '1. Vomiting     /_x000D_\\n2. Anorexia    /  2/7_x000D_\\n3. Diarrhoea  /',\n",
       "       '1. COMPLAINING OF HEADACHE',\n",
       "       '1.C/O-fever-1/7_x000D_\\nNo vomiting_x000D_\\nSlight cough ',\n",
       "       '1. C/O-fever-1/7,irritable.',\n",
       "       '1. C/O-H/ache_x000D_\\nFever-1/7_x000D_\\nPainful swallowing_x000D_\\nAbd pains,no vomiting',\n",
       "       '1. C/O-soar throat,oral rashes_x000D_\\nCough-3/7_x000D_\\nFever',\n",
       "       '1. C/O-Abd pain-3/7_x000D_\\nNo vomiting_x000D_\\nFrequent stooling_x000D_\\nFever-2/7',\n",
       "       'epigastric pain x 1yr_x000D_\\nFever x 2/7',\n",
       "       '1. abd pain after consumption of susp food',\n",
       "       '1. cogh caGBpainrtarh',\n",
       "       '1. C/O-fever-1/7_x000D_\\ncattarh_x000D_\\nNo vomiting',\n",
       "       'Still having fever_x000D_\\nC/O abdominal discomfort_x000D_\\nVomiting',\n",
       "       '1. C/O-fever-3/7_x000D_\\nslight cough & cattarh',\n",
       "       'Rt Knee pain x 1/7',\n",
       "       '1. C/O-slight cough_x000D_\\nBoils-bathing dettol_x000D_\\nFever-3/7',\n",
       "       '1.HEADACHE, JOINT PAINS ', '1. C/O-cough-2/7_x000D_\\nfever-3/7',\n",
       "       '1. C/O-fever-3/7_x000D_\\nBoils_x000D_\\nNot eating well_x000D_\\ncough-3/7',\n",
       "       '1. WITH RESULTS,ABD PAIN PAIN AND CHEST PAIN',\n",
       "       'Fever_x000D_\\nVomiting', '1. JOINT PAINS,HEADACHE',\n",
       "       '1. fever x4days_x000D_\\n2. loss appetite_x000D_\\n3. bend of neck to one side of the body',\n",
       "       '1. weakness headache_x000D_\\nloose stool ',\n",
       "       'CAME FOR RESULT REVIEW',\n",
       "       '1. FEVER X1/7_x000D_\\n2.scrotal swelling',\n",
       "       '1. cough and carrtarh _x000D_\\nfever_x000D_\\n', '1. VOMITTING',\n",
       "       '1. generalised body pains,fever,headache,abd pain',\n",
       "       '1. fever_x000D_\\npassage of loose stool, mucoid and bloody stained',\n",
       "       '1. stomach pain_x000D_\\npoor feeding_x000D_\\nherpes labialis ',\n",
       "       '1. vomiting 1/7',\n",
       "       '1. passage of loose stool_x000D_\\nvomiting _x000D_\\ncatarrh',\n",
       "       'Excessive crying x 1/7_x000D_\\nPoor suck x 1/7', 'FBC / MP',\n",
       "       '1. Fever_x000D_\\nBody weakness_x000D_\\nPoor appetite',\n",
       "       '1. Fever _x000D_\\nBody aches x1/7',\n",
       "       '1. Fever_x000D_\\nHeadache_x000D_\\nBody weakness_x000D_\\nPoor appetite',\n",
       "       '1. Headache_x000D_\\nCough_x000D_\\nCatarrh',\n",
       "       '1. Cough productive of milk colored sputum_x000D_\\nBody weakness',\n",
       "       '1. Fever_x000D_\\nHeadache_x000D_\\nEpigastric Pain',\n",
       "       '1. cough(non productive)_x000D_\\ncatarrh_x000D_\\nFever_x000D_\\nBody aches',\n",
       "       'Passage of loose stool x 4/7_x000D_\\nVomiting x 4/7',\n",
       "       'Abdominal pain x 1/7_x000D_\\nHeadache x 1/7',\n",
       "       '1. Abdominal pain_x000D_\\n2. Passage of loose stool',\n",
       "       '1. Vomiting_x000D_\\n2. Fever',\n",
       "       '1. fever x4hrs_x000D_\\n2. breast pain x6hrs_x000D_\\n3. malasie',\n",
       "       '1. still fever', '1. a case of malaria ?sepsis',\n",
       "       '1. Fever_x000D_\\nheadache _x000D_\\nAbd pain',\n",
       "       '1. Passage of water stool x 4episodes_x000D_\\nFever_x000D_\\nBody aches',\n",
       "       '1. Passage of watery stool x4episodes_x000D_\\nVomiting x1episode_x000D_\\nFever_x000D_\\nBody aches',\n",
       "       '1. Lft flank pain_x000D_\\nfever_x000D_\\nvommitted once_x000D_\\nconsumption of suspect5d food',\n",
       "       '1. 2/12 am m_x000D_\\nweakness of body', '1. dizzyness neck pai n',\n",
       "       '1.C/O-fever-3/7_x000D_\\nCough&cattarh_x000D_\\nNo vomiting ',\n",
       "       '1. C/O-cough &cattarh_x000D_\\nWeakness of the body_x000D_\\nNo fever',\n",
       "       'weakness, loss of appetite',\n",
       "       '1. ABD PAIN X1/12_x000D_\\n2. FEVER X2/7',\n",
       "       '1. _x000D_\\nFever x 1/7,Diarrhoea x3/7_x000D_\\nVomiting-3/7',\n",
       "       '1. fever_x000D_\\n loheadaheose stool',\n",
       "       '1. BITTERNESS OF MOUTH,HEADACHE,JOINT PAINS',\n",
       "       'Still having fever_x000D_\\nC/O headache and sores in mouth.',\n",
       "       '1. ABD PAIN ,JOINT PAINS',\n",
       "       '1. INTERNAL HEAT,HEADACHE,JOINT PAINS',\n",
       "       '1. CHEST PAIN,JOINT PAIN',\n",
       "       'catarrh x6/7_x000D_\\nfever x4/7_x000D_\\ncough x1/7',\n",
       "       '1. PV DISCHARGE,JOINT PAINS',\n",
       "       'Still having fever_x000D_\\nLoose stools x 1 episode today',\n",
       "       'fever x5/7_x000D_\\ncough 8/7',\n",
       "       'just completed im artemether/ sp, prescribed  at a private clinic, still feels feverish/ sick',\n",
       "       'Headache _x000D_\\nFever ', '1. gbpain _x000D_\\n1/amm ma',\n",
       "       'fever x2/7_x000D_\\nloss of appetite x2/7', 'excessive crying',\n",
       "       '1. chest pain raditing to back_x000D_\\nweaknes',\n",
       "       'Fever x 4/7_x000D_\\nLoss of appetite x 4/7',\n",
       "       'fever xthis morning_x000D_\\nknee pains xthis morning',\n",
       "       'headache, body pains, cough X 3/7', 'fever, bitter mouth taste',\n",
       "       '1. fever_x000D_\\nBody weakness',\n",
       "       '1. headace_x000D_\\nnil fever_x000D_\\n37 yrs',\n",
       "       'fever x2/7_x000D_\\nsorethroat x1/7',\n",
       "       '1. INTERNAL HEAT,GETS TIRED EASILY',\n",
       "       'fever x1/7_x000D_\\ncough x1/52', '1. ABD PAIN,FEVER HAEDACHE',\n",
       "       '1. Headache x1day_x000D_\\n2. Restlessness + unconsciousness 4hrs',\n",
       "       '1. feverish x2wks_x000D_\\n2. bitter taste_x000D_\\n3. slight Headache_x000D_\\n4. ammenorrhea x2mths',\n",
       "       '1. fever x1day_x000D_\\n2. Left loin pain x1day_x000D_\\n3. whitish discharge PV',\n",
       "       '1. vomiting x2days',\n",
       "       '1. pain in the Rt breast x1wk_x000D_\\n2. headache_x000D_\\n3. cold',\n",
       "       '1. sore throat x3days_x000D_\\n2. feverish/cold_x000D_\\n3. weakness',\n",
       "       '1. fever_x000D_\\n2. catarrh/cough_x000D_\\n3 chest pain_x000D_\\n4. sneezing',\n",
       "       '1. weakness_x000D_\\n2. abdominal pain_x000D_\\n3. loose stools x1day_x000D_\\n4. yellowish urine _x000D_\\n5. ammenorrhea 1mth',\n",
       "       '1. vomiting x8hrs', '1. neck swelling',\n",
       "       '1. Fever_x000D_\\n2. Vomiting_x000D_\\n3. Passage of loose stool',\n",
       "       '1. cough_x000D_\\ncatarrh_x000D_\\nfever', '1. fever_x000D_\\ncough',\n",
       "       '1. abdominal pain_x000D_\\n2. Fever',\n",
       "       '1. fever_x000D_\\nvomiting_x000D_\\noral thrush',\n",
       "       '1. C/O-fever-3/7_x000D_\\nSlight cough&cattarh_x000D_\\nNo vomiting_x000D_\\nLoose stools-3/7,x3 yester_x000D_\\nBoil on lower lip',\n",
       "       'fever x5/7_x000D_\\n', 'fever x6/7_x000D_\\ncatarrh x5/7',\n",
       "       '1. C/O-loose stoolsx1/52-x1_x000D_\\nFever-1/7_x000D_\\nVomiting-once this am._x000D_\\nFacial rashes-bathing with dettol',\n",
       "       'FEVER AND EXCESSIVE CRYING X4/7',\n",
       "       'FEVER, SORE THROAT ASS ODYNOPHAGIA, WEAKNESS',\n",
       "       '1. C/O-fever->1/52_x000D_\\nCattarh&cough_x000D_\\nNo vomiting_x000D_\\nLoss of wt',\n",
       "       'COUGH X1/12_x000D_\\nVOMITING X1/12_x000D_\\nFEVER X4/7',\n",
       "       '1. C/O-fever-3/7_x000D_\\nvomiting-3/7,x2yester_x000D_\\nLoose stools2/7-frequent',\n",
       "       '1. headache _x000D_\\nfever  cycl stopped 2 yr s  ago',\n",
       "       'WEAKNESS, BODY PAINS, WAIST PAIN, DYSPNOEA AT REST/ ON EXERTION X SEVERAL YEARS, URINARY URGENCY, ',\n",
       "       '1. headache x1wk_x000D_\\n2. neck pain x8/7',\n",
       "       '1. C/O-fever in the night-3/7', '1. Still coughing.',\n",
       "       '1. resulot presentatioin',\n",
       "       'fever x1/7_x000D_\\ncatarrh x3/7_x000D_\\n',\n",
       "       '1. fever x1day_x000D_\\n2. headache x', '1. Diarrhea x4/7',\n",
       "       '1. fever x4wks_x000D_\\n2. poor sleep_x000D_\\n3. vomiting x2wks_x000D_\\n4. generallized weakness_x000D_\\n5. malaise_x000D_\\n6. loss of appetite',\n",
       "       '1. fever x2/7 _x000D_\\n2.abd pain x1/7_x000D_\\n3.Pain in rt ear',\n",
       "       'still having diarrhea and fever',\n",
       "       '1ABD DISCOMFORT  12/52FEVER_x000D_\\n ',\n",
       "       '16/12 PREG. _x000D_\\nfever _x000D_\\nGBpain',\n",
       "       '1. headache _x000D_\\nfever',\n",
       "       '1. on orthoped clinic but co of fever_x000D_\\ncold _x000D_\\nnil headache _x000D_\\nbowel changes',\n",
       "       'GENERALIZED BODY PAINS, BITTER MOUTH TASTE, ABD PAINS/ ABD CRAMPS, FEVER, LOSS OF APPETITE',\n",
       "       '1. abd pain_x000D_\\nvomiting_x000D_\\n_x000D_\\nfever_x000D_\\nconsumption of suspecte food',\n",
       "       '1. headache_x000D_\\nfever malaria', 'Fever x 2/7',\n",
       "       'Px seen , yet to do outlined investigations',\n",
       "       'Scanty menses_x000D_\\nHeadache',\n",
       "       '1. FEVER X1/7_x000D_\\n2.VOMITING ',\n",
       "       '1. Headache x3/7_x000D_\\n2.Generalised body pains',\n",
       "       '1. FEVER X1/7_x000D_\\n2.COUGH X1/7',\n",
       "       '1. FEVER X3/7_x000D_\\n2.CONVULSION this pm', '1.vomiting x1/7 ',\n",
       "       '1. fever x1/7', '1. HEADACHE,JOINT PAINS,BODY WEAKNESS'],\n",
       "      dtype=object)"
      ]
     },
<<<<<<< HEAD
     "execution_count": 130,
=======
     "execution_count": 14,
>>>>>>> ae3f2fa09079df83c2ab490d59f40c7bfcc92401
     "metadata": {},
     "output_type": "execute_result"
    }
   ],
   "source": [
    "df['Complaints/Symptoms'].unique()"
   ]
  },
  {
   "cell_type": "code",
<<<<<<< HEAD
   "execution_count": 131,
=======
   "execution_count": 15,
>>>>>>> ae3f2fa09079df83c2ab490d59f40c7bfcc92401
   "id": "23bf050c",
   "metadata": {},
   "outputs": [],
   "source": [
    "df['Complaints/Symptoms'] = df['Complaints/Symptoms'].astype(str)"
   ]
  },
  {
   "cell_type": "code",
<<<<<<< HEAD
   "execution_count": 132,
=======
   "execution_count": 16,
>>>>>>> ae3f2fa09079df83c2ab490d59f40c7bfcc92401
   "id": "2ffaa807",
   "metadata": {},
   "outputs": [],
   "source": [
    "import re\n",
    "def clean_text(text):\n",
    "    text = re.sub(r'[^a-zA-Z0-9\\s]', '', text)\n",
    "    text = ' '.join(word for word in text.split() if not word.isdigit())\n",
    "    \n",
    "    return text"
   ]
  },
  {
   "cell_type": "code",
<<<<<<< HEAD
   "execution_count": 133,
=======
   "execution_count": 17,
>>>>>>> ae3f2fa09079df83c2ab490d59f40c7bfcc92401
   "id": "24f32036",
   "metadata": {},
   "outputs": [],
   "source": [
    "df['Malaria Parasite Density Fever- Rapid Diagnostic Test(Strip)'] = df['Malaria Parasite Density Fever- Rapid Diagnostic Test(Strip)'].astype(str)"
   ]
  },
  {
   "cell_type": "code",
<<<<<<< HEAD
   "execution_count": 134,
=======
   "execution_count": 18,
>>>>>>> ae3f2fa09079df83c2ab490d59f40c7bfcc92401
   "id": "7dd23298",
   "metadata": {},
   "outputs": [],
   "source": [
    "df['Complaints/Symptoms'] = df['Complaints/Symptoms'].apply(clean_text)"
   ]
  },
  {
   "cell_type": "code",
<<<<<<< HEAD
   "execution_count": 135,
=======
   "execution_count": 19,
>>>>>>> ae3f2fa09079df83c2ab490d59f40c7bfcc92401
   "id": "f978dd00",
   "metadata": {},
   "outputs": [],
   "source": [
    "df['Malaria Parasite Density Fever- Rapid Diagnostic Test(Strip)'] = df['Malaria Parasite Density Fever- Rapid Diagnostic Test(Strip)'].apply(clean_text)"
   ]
  },
  {
   "cell_type": "code",
<<<<<<< HEAD
   "execution_count": 136,
=======
   "execution_count": 20,
>>>>>>> ae3f2fa09079df83c2ab490d59f40c7bfcc92401
   "id": "23f6af51",
   "metadata": {},
   "outputs": [
    {
     "data": {
      "text/plain": [
       "array(['Bitter mouth taste tiredness feeling of something moving in the stomach',\n",
       "       'Fever x 47x000D Vomiting x 37x000D Malaise x',\n",
       "       'Abd painx000D fever', 'Feverx000D Poor appetite',\n",
       "       'frequent stooling x 3episodes dayx000D fever',\n",
       "       'Vomiting x2episodesx000D Passage of watery stool x several episodes after commencement of Conc ORSx000D Fever',\n",
       "       'Feverx000D Body weakness for 5daysx000D',\n",
       "       'Headachex000D General body achex000D Fever',\n",
       "       'Headachex000D Catarrhx000D Body weakness',\n",
       "       'Body weaknessx000D Fever',\n",
       "       'Headachex000D Abdominal painsx000D Bodyweaknessx000D Joint pains',\n",
       "       'feverx000D Rash', 'passage of loose stool',\n",
       "       'COfever17x000D Body rashesbathing with black soapx000D No vomiting',\n",
       "       'COvomitingtwice yesterx000D Fever17',\n",
       "       'headache generalized body pains chills',\n",
       "       'abd pain x152x000D 2cough x27', 'GBpain x000D on offx000D yr old',\n",
       "       'history of pudx000D malaria wanted to do test',\n",
       "       'chest pain in known pud travel rescentlymin',\n",
       "       'COwatery stoolstwice todayx000D Vomiting x2 yesterx000D Fever57',\n",
       "       'weakness x000D abd disturbance', '1FEVER X47x000D 21DIARRHEA X47',\n",
       "       'Presenting with results', 'stool disturbancxex000D headache',\n",
       "       'FEVER X17', 'COfever37x000D Cough37cattarh',\n",
       "       '1pyellow urinev disharge', 'itchying in anus x000D weaness x000D',\n",
       "       'HEADACHE X', 'A known RVDCOfever17x000D No vomiting',\n",
       "       'fever x4daysx000D malaise x4daysx000D abdominal pain x3daysx000D Rt groin swelling x2days',\n",
       "       'catarrh and cough fever', '1COFor general checkupx000D Fever17',\n",
       "       'abd pain x000D feverx000D headache',\n",
       "       'presenting with results still complainning of neck pain though yet to procure medications prescribed during last visit',\n",
       "       'Still having fever despite Rxloosing wtno vomitingno loose stools',\n",
       "       'COcough47x000D Fever47x000D No vomiting',\n",
       "       'headache abdominal pain',\n",
       "       'HEADACHEx000D BITTER TASTEx000D BOBY PAINSx000D x000D x000D x000D x000D x000D x000D',\n",
       "       'result presentation', 'Fever x',\n",
       "       'headachechills injury to the medial surface of left foot from motor cycle x',\n",
       "       'rashes on the body generalized x fever', 'fever',\n",
       "       'feverx000D 2vomiting', 'headachex000D fever',\n",
       "       'Coldx000D 2headache', 'FEVERx000D 2GENERALISED MALAISE',\n",
       "       'dizziness headache cough x fever', '1fever x000D headache',\n",
       "       'stooling after consuption of suspected food malaria food pois',\n",
       "       'COfever27x000D Cough cattarh', 'fever chills weakness x47',\n",
       "       'COfevertodayx000D Noisy breathingx000D No vomiting',\n",
       "       'Results Notedx000D CO sleeplessness and poor appetite',\n",
       "       'ABD PAINFEVERGENERALISED BODY PAINS', 'MP PCV results noted',\n",
       "       'HEADACHELOSS OF APETITTEABD PAIN', 'WITH RESULTS',\n",
       "       'Seen with resultsx000D CO body rashesx000D Oral rashes',\n",
       "       'px was brought from the lab was said to be having rigors and was almost falling presented this morning and was asked to do certain invcomplainned of fever headache weakness',\n",
       "       'HEADACHEFEVERCOLD', 'fever x000D GBPain',\n",
       "       'FEVERHEADACHEPASSAGE OF LOOSE STOOL', 'Seen with lab results',\n",
       "       'Seen with results', 'HEADACHEGENERALISED BODY PAINSHICCUP',\n",
       "       'ABD PAINBITTERNESS OF MOUTH', 'FBC MP results noted',\n",
       "       'CO WEAKNESS x000D MALAISEx000D LOSS OF APPETITEx000D ASSO HEADACHE',\n",
       "       'Headachex000D Abdominal discomfort', 'Feverx000D Fast breathing',\n",
       "       'right shoulder pain x headache fever', 'HEADACHEVOMITTING',\n",
       "       'headache body painsabd pain burning pepperish in nature catarrah',\n",
       "       'abd pain x37x000D 2fever x17',\n",
       "       'BODY PAINSBODY WEAKNESS BITTERNESS OF MOUTH',\n",
       "       'URGENCYPAIN ON MICTURITION',\n",
       "       'bitter mouth taste headache vaginal itching', 'FEVERCHEST PAIN',\n",
       "       '1HEADACHEFEVER',\n",
       "       'abd pain said to be burning pepperish in nature dizziness fever nausea',\n",
       "       '1FEVERBACK PAIN',\n",
       "       'weakness nausea loss of appetite bitter mouth taste poor sleep chest pain burning in nature radiating to the back',\n",
       "       'Cough x17x000D 2Fever x17',\n",
       "       'sore throatx000D fever x000D chillx000D',\n",
       "       '1BODY PAINSHEADACHECHEST PAIN', 'Reviewed with results',\n",
       "       'COHas been weaned 37rejecting foodLoose stoolsvomitingx000D Feversometimes',\n",
       "       '1DIARRHEA X17x000D 2FEVER X17 x000D vomiting this am',\n",
       "       'COfever37x000D No vimiting', 'excessive crying x17',\n",
       "       'VOMITTINGHEADACHE', 'fever x47', 'HEADACHEBODY PAINS',\n",
       "       'fever x2wksx000D anorexia x17x000D watery stools stool x17x000D vomiting x17',\n",
       "       'rash x152x000D eye discharge x47x000D fever x17x000D walking on toes',\n",
       "       'fever xtodayx000D chills and rigors xtoday x000D headache xtoday',\n",
       "       'headache x37x000D body pains x37x000D fever x37x000D chills and rigors x37',\n",
       "       'headache x152x000D body pains x152',\n",
       "       'fever x57x000D vomiting x27',\n",
       "       'fever x000D weakness rx for malaris',\n",
       "       'MUSCLE PAINFEVERTHROAT PAIN',\n",
       "       'COCrying x000D Not eating wellx000D No vomitingno loose stools',\n",
       "       'bitter mouth taste fever chills sore on the gum painful',\n",
       "       'headache loss of appetite',\n",
       "       'Loose stools x 37x000D Malaise x 37x000D',\n",
       "       'FEVERHEADACHENAUSEAEXCESSIVE SALIVATION', 'Review of results',\n",
       "       'cough cattarrah nauseafever body pains x',\n",
       "       'COchest painx000D Feveron off47x000D Abd discomfortx000D Cough',\n",
       "       'CHEST PAINABD PAINHEADACHESAW HER MESNSES LAST DECEMBER',\n",
       "       'COcough152x000D Feveron off152',\n",
       "       'Having fever again that started ago',\n",
       "       'headache bitter mouth taste body pains cough blocked nose x',\n",
       "       'WITH RESULT', 'PRESENTING WITH RESULTS',\n",
       "       'Rash on face x 352x000D Vomiting x', 'HEADACHEBACK PAINFEVER',\n",
       "       'COfever17', 'Cough x', 'presenting with results',\n",
       "       'weakness headache fever abd pain generalized sore on the tongue painful left ear feeling as if the ear is blocked nil ear dischargex000D',\n",
       "       'DIZZYHEADACHEFEVER',\n",
       "       'HEADACHEFEVERGENERALISED BODY PAINSIRREGULAR MENSES',\n",
       "       'Headache body pains x excessive salivation amenorrhoea x',\n",
       "       'HEADACHE FEVER', 'px seenx000D Fevefr x17',\n",
       "       '1PX SEEN Discharged ago complains of mild grade fevernil cough',\n",
       "       'BODY PAINSHEADACHE', 'FEVER X17x000D 2VOMITING X17',\n",
       "       'fever x152x000D generalised body pains',\n",
       "       '1swelling on upper chest x10yrsx000D Generalised body pains',\n",
       "       'FEVER X152x000D 2GENERALISED BODY PAINSx000D 3ABD PAIN',\n",
       "       '1FEVER X152', 'CHEST PAIN X252x000D generalised body weakness',\n",
       "       'FEVER X37', '', 'FEVER X17x000D MOUTH SORES', 'Headache x47',\n",
       "       'Headache x 112x000D Upper abdominal pain x',\n",
       "       'Fever x 17x000D Vomiting x', 'Malaise x 152x000D Fever x',\n",
       "       'Fever x 17x000D Dizziness x',\n",
       "       'Fever x 37x000D Passage of loose stools x 37x000D Vomiting x',\n",
       "       'Headache x 47x000D Fever x 7x000D body pains x',\n",
       "       'Fever 47x000D Diarrhea 47x000D Vomitting', 'Fever',\n",
       "       'Vomitting 17x000D Diarrhea17x000D Fever',\n",
       "       'fever x37x000D vomiting x17x000D seizures xthis moning',\n",
       "       'headeache xtodayx000D fever xtodayx000D chills and rigor xtoday',\n",
       "       'FEVER X57x000D HEADACHE X67x000D BODY PAINS X67',\n",
       "       'FEVER x000D RESTLESSNESSx000D NAUSEA WITH ASSOCIATED LOSS OF APPETITEx000D',\n",
       "       'A KNOWN SCD PATIENTx000D CO FEVER BODY PAINS MALAISE',\n",
       "       'DIARRHOEAx000D VOMITINGx000D FEVER X37',\n",
       "       'FEVER X 17x000D COUGH X27', 'SORES IN THE MOUTH',\n",
       "       'FEVER x000D LOSS OF APPETITEx000D HEADACHE',\n",
       "       'HEADACHEx000D DIZZINESS', 'HEADACHEx000D BODY PAINSx000D MALAISE',\n",
       "       'chest pain x000D weaknessx000D feverx000D nil headache',\n",
       "       'headachex000D feverx000D x000D did testx000D on anti hypertensive',\n",
       "       'headache x000D coldx000D sore',\n",
       "       'hx of operation due dead baby ectopic gestationx000D abd pain x000D feverx000D nil vomitiung poor eatin',\n",
       "       '1headache x000D sore throat nor bowel movements',\n",
       "       'abd pain and chest pain burning in nature headache nausea',\n",
       "       'VOMITTINGDIZZINESS',\n",
       "       'COfever37x000D No vomitingx000D Nasal blockage',\n",
       "       'Abdominal discomfort x 352x000D Vomiting x',\n",
       "       'SSCOabd discomfortx000D Vomited once on saturdayx000D Fever27',\n",
       "       'PAIN ON SWALLOWINGFEVERVOMITTING', 'Headache x 252x000D Fever x',\n",
       "       'Cobody painsx000D Vomitingx3 this amx000D No fever',\n",
       "       'Fever x 37x000D Cattarrh x 37x000D Headache x',\n",
       "       'COloose stools152x000D Vomiting17 x6 this amx000D Fever47more in the night',\n",
       "       'HEADACHE', 'JOINT PAINS CATARRH HEADACHE',\n",
       "       'VOMITTINGHEADACHEFEVER',\n",
       "       'COfever37x000D Abddiscomfortx000D Vomited x yesterday',\n",
       "       'COfever27x000D Cough cattarh37x000D NO VOMITING',\n",
       "       'Cough x 27x000D Fever x', 'Fever x 27x000D Red Left Eye x',\n",
       "       'loss of appetite pv spotting x17 spotting said to ve stopped lower abd pain',\n",
       "       'Fever17x000D Vomting17frequent this am',\n",
       "       'Vomiting x 17x000D Passage of loose stool x',\n",
       "       'abd painx000D esp with travels x000D nausea',\n",
       "       'COAbddiscomfortx000D Fever152x000D No vomitingno loose stools',\n",
       "       'cOHache27x000D fever27x000D vomiting27once today',\n",
       "       'abd discomfortx000D about 50yrs old',\n",
       "       'COfever27x000D Vomitingonce today',\n",
       "       'COabddiscomforton offx000D No vomitingno loose stoolsx000D No fever',\n",
       "       'Left sisded lower abdominal pain x12hrs', 'FEVERHEADACHE',\n",
       "       'FEVERABD PAINHEADACHE', 'fever x17x000D malasie x17',\n",
       "       'weakness tiredness', 'HEADACHECHEST PAIN',\n",
       "       'NECK PAIN X headache fever',\n",
       "       'headache joint aches catarrah cough x 1week tiredness cough productive of clear sputum chills dizziness',\n",
       "       'on treatment for gastritis malariastill complainning of epigastric pain',\n",
       "       'COMPLAINING OF HEADACHEFEVER ABD PAIN', 'as earlier documented',\n",
       "       'fever x27x000D gluteal rash x27x000D vomited once yesterday only',\n",
       "       'nan', 'fever xtodayx000D vomiting xtodayx000D loss of weight',\n",
       "       'fever on and offx000D 2vomitting',\n",
       "       'persitent fever amd vomittingx000D 2watery stool',\n",
       "       'feverx000D 2sorethroat', 'feverx000D 2vomitting',\n",
       "       'feverx000D 2vomitiingx000D 3altered level of conciousnessx000D 4heaadache',\n",
       "       'COfever27x000D coughslight17x000D No vomitingx000D Oral rashes',\n",
       "       'COloose stools27once this amx000D Fever17no vomitingx000D',\n",
       "       'Still having fever',\n",
       "       'COfever17x000D Dizzinessno vomitingx000D Hache',\n",
       "       'HEADACHESWELLING IN NECKFEVER', 'CATARRHFEVERHEADACHE',\n",
       "       'HEADACHEFEVER',\n",
       "       'COfever17x000D Mucoid stool3x yesteronce todayno vomiting',\n",
       "       'HEADAACHEABD PAINRASH',\n",
       "       'COfever27x000D Abd discomfortx000D Slight cough',\n",
       "       'JOINT PAINSHEADACHEFEVER', 'HEADACHEABD PAIN',\n",
       "       'HEADACHEHEAT INSIDE HER BODY', 'BITTERNESS OF MOUTHFEVER',\n",
       "       'GENERALISED BODY PAINS HEADACHEFEVER',\n",
       "       'Fever x 17x000D cough cattarrh x17', 'Cattarrh x 17x000D Fever x',\n",
       "       'Fever x 37x000D Cattarrh x',\n",
       "       'coughx000D weakness x000D loose stoolx000D nil feverwanted test done',\n",
       "       'Seenfoolw uostill having fevervomiting stooling not betterVery weak',\n",
       "       'feverx000D generallized body weakness', '1WITH RESULTS',\n",
       "       'STILL STOOLING', 'feverx000D knee and hand pain',\n",
       "       'feverx000D weakness',\n",
       "       'fever x3daysx000D cough x3daysx000D facial swellingx000D generallized weakness',\n",
       "       'headacheFEVER', 'ABD PAINHEADACHE',\n",
       "       'FEVERVOMITTINGPASSAGE OF LOOSE STOOL', 'COUGHCATARRHFEVER',\n",
       "       'passag of loose stoolheadache', 'vomiting x6hrs',\n",
       "       '1COabd discomfortx000D vomitingx000D Fever27x000D Loose stools27once todaymucoid',\n",
       "       'sudden black out in yr old x000D not a known DM nor HBPx000D nil fever',\n",
       "       'fever x27', 'VOMITING X17',\n",
       "       'COabd discomfort17x000D Fever17x000D cattarh',\n",
       "       'g bpain x000D poor sleepx000D teacher',\n",
       "       'COAbd paintodayx000D Vomiting frequent this amx000D No feverno loose stools',\n",
       "       'cold x000D headachex000D abddiscomfort', 'HEADACHE PGT DONE',\n",
       "       'cough x252x000D red eyes x152x000D fever x17x000D vomiting x17',\n",
       "       'COCOhache27x000D Vomiting twice todayx000D Feverthis am',\n",
       "       'COfever17x000D No vomitingno loose stools',\n",
       "       'fever x27x000D vomiting xtoday',\n",
       "       'Rfused to do requested labinvestigationx000D COlt sided chest painx000D weakness of the bodyno fever',\n",
       "       'COfever17x000D Abd discomfortno vomiting',\n",
       "       'COcough37x000D Fever37x000D', 'COfever37x000D Body rashes',\n",
       "       'CObody painsx000D fever47', 'fever x27x000D cough x17',\n",
       "       'COcough17x000D Vomited x3', 'fever x252x000D',\n",
       "       'VOMITING X37x000D DIARRHEA X37x000D 3feverx17',\n",
       "       'Seen with resultsx000D COfeverthis amno vomiting', 'nil complain',\n",
       "       'fever x107x000D headache x107x000D catarrh and cough x27x000D sorethroat x27',\n",
       "       'COfeverthis am', 'seen with results', '1FEVER X17',\n",
       "       'feet sensationsore throatx000D poor sleep',\n",
       "       'FEVER X47x000D RASHES X252', 'done pgt reactive x000D fever',\n",
       "       'COfever27x000D Slight coughcattarhx000D No vomiting',\n",
       "       'ABD PAIN X112x000D 2VOMITING',\n",
       "       'neck pain x000D fever x000D bowel changes',\n",
       "       'FEVER X17x000D CATTARH X27',\n",
       "       'headachex000D feverx000D nil sporting',\n",
       "       'COfever17x000D No vomiting', 'COcoughslight27x000D fever17x000D',\n",
       "       'FEVER X27x000D ABDOMINAL PAIN X37x000D LOSS OF APPETITE X37',\n",
       "       'DIARRHEA X17x000D VOMITING X17x000D FEVER XTODAY',\n",
       "       'call not seen 1x000D x000Dfever 8n 0ff x000D ammx000D x000D x000D',\n",
       "       'weanessx000D fever',\n",
       "       'passage of mucoid stoolx000D vomitingx000D fever',\n",
       "       'General body painsx000D Leg pains',\n",
       "       'abdominal painx000D headache', 'stomach pain 252x000D',\n",
       "       'still vomiting 3times', 'headachex000D tiredness',\n",
       "       'Generalised body painsx000D Body y weaknessx000D catarrh',\n",
       "       'Headache dizziness x000D Inability to see properly with right eye',\n",
       "       'fever loose stool', 'COfever37x000D Vomiting',\n",
       "       'COfevermore in the night37x000D No vomiting',\n",
       "       'complaint of generalised body painsx000D fever', 'FEVER X27',\n",
       "       'COHache27x000D Cattarhx000D Fever37', 'fever x37',\n",
       "       'catarrh and coughx000D headache', 'headache',\n",
       "       'FEVER X47x000D 2HEADACHE X47', 'headachex000D catarh',\n",
       "       '1FEVER X17x000D', 'malaria',\n",
       "       'cough and cattarrh x27x000D vomiting x17',\n",
       "       'diarrhea xthis morningx000D fever xthis morningx000D vomited once',\n",
       "       'fever x152x000D recurrent cough',\n",
       "       'a known HBP on rx x000D waist painx000D poor app on amilodipine',\n",
       "       'fever x4daysx000D headache x3daysx000D vomiting x1hr',\n",
       "       'fever x000D cough47 in known HBPx000D',\n",
       "       'COUGH X152x000D FEVER X17',\n",
       "       'Cough x27x000D fast breathing x17x000D fever x17',\n",
       "       'COUGHCOLD IN EVENINGS HEADACHE', '1headache',\n",
       "       'a known HBP off RXx000D cough x000D headachE',\n",
       "       'YELLOW URINEx000D WT LOSS',\n",
       "       'DIARRHEA X17x000D FEVER X17x000D NO VOMITING TODAY',\n",
       "       'chest pain x000D feverx000D weaknesx000D bowel changes',\n",
       "       'FEVER X27x000D MOUTH SORES X27', 'COUGH X37x000D 2FEVER X17',\n",
       "       'headache sweetingx000D yr oldmalaria premenapause', 'px seen',\n",
       "       'FEVER X17x000D 2DIARRHEA X17',\n",
       "       'Fever x 27x000D Body pains x 27x000D Vomiting x',\n",
       "       'HCV HBSag and MP results noted',\n",
       "       'Cough x 152x000D Sore throat x 57x000D Headache x',\n",
       "       'Fever x 37x000D Headache x 37x000D Gen bodyweakness x',\n",
       "       'Pain in left hand x 17x000D Headache x 17x000D Fever x',\n",
       "       'Fever x 27x000D Vomiting x',\n",
       "       'Vomiting x000D Anorexia 27x000D Diarrhoea',\n",
       "       'COMPLAINING OF HEADACHE',\n",
       "       '1COfever17x000D No vomitingx000D Slight cough',\n",
       "       'COfever17irritable',\n",
       "       'COHachex000D Fever17x000D Painful swallowingx000D Abd painsno vomiting',\n",
       "       'COsoar throatoral rashesx000D Cough37x000D Fever',\n",
       "       'COAbd pain37x000D No vomitingx000D Frequent stoolingx000D Fever27',\n",
       "       'epigastric pain x 1yrx000D Fever x',\n",
       "       'abd pain after consumption of susp food', 'cogh caGBpainrtarh',\n",
       "       'COfever17x000D cattarhx000D No vomiting',\n",
       "       'Still having feverx000D CO abdominal discomfortx000D Vomiting',\n",
       "       'COfever37x000D slight cough cattarh', 'Rt Knee pain x',\n",
       "       'COslight coughx000D Boilsbathing dettolx000D Fever37',\n",
       "       '1HEADACHE JOINT PAINS', 'COcough27x000D fever37',\n",
       "       'COfever37x000D Boilsx000D Not eating wellx000D cough37',\n",
       "       'WITH RESULTSABD PAIN PAIN AND CHEST PAIN', 'Feverx000D Vomiting',\n",
       "       'JOINT PAINSHEADACHE',\n",
       "       'fever x4daysx000D loss appetitex000D bend of neck to one side of the body',\n",
       "       'weakness headachex000D loose stool', 'CAME FOR RESULT REVIEW',\n",
       "       'FEVER X17x000D 2scrotal swelling',\n",
       "       'cough and carrtarh x000D feverx000D', 'VOMITTING',\n",
       "       'generalised body painsfeverheadacheabd pain',\n",
       "       'feverx000D passage of loose stool mucoid and bloody stained',\n",
       "       'stomach painx000D poor feedingx000D herpes labialis', 'vomiting',\n",
       "       'passage of loose stoolx000D vomiting x000D catarrh',\n",
       "       'Excessive crying x 17x000D Poor suck x', 'FBC MP',\n",
       "       'Feverx000D Body weaknessx000D Poor appetite',\n",
       "       'Fever x000D Body aches x17',\n",
       "       'Feverx000D Headachex000D Body weaknessx000D Poor appetite',\n",
       "       'Headachex000D Coughx000D Catarrh',\n",
       "       'Cough productive of milk colored sputumx000D Body weakness',\n",
       "       'Feverx000D Headachex000D Epigastric Pain',\n",
       "       'coughnon productivex000D catarrhx000D Feverx000D Body aches',\n",
       "       'Passage of loose stool x 47x000D Vomiting x',\n",
       "       'Abdominal pain x 17x000D Headache x',\n",
       "       'Abdominal painx000D Passage of loose stool',\n",
       "       'Vomitingx000D Fever',\n",
       "       'fever x4hrsx000D breast pain x6hrsx000D malasie', 'still fever',\n",
       "       'a case of malaria sepsis', 'Feverx000D headache x000D Abd pain',\n",
       "       'Passage of water stool x 4episodesx000D Feverx000D Body aches',\n",
       "       'Passage of watery stool x4episodesx000D Vomiting x1episodex000D Feverx000D Body aches',\n",
       "       'Lft flank painx000D feverx000D vommitted oncex000D consumption of suspect5d food',\n",
       "       'am mx000D weakness of body', 'dizzyness neck pai n',\n",
       "       '1COfever37x000D Coughcattarhx000D No vomiting',\n",
       "       'COcough cattarhx000D Weakness of the bodyx000D No fever',\n",
       "       'weakness loss of appetite', 'ABD PAIN X112x000D FEVER X27',\n",
       "       'x000D Fever x 17Diarrhoea x37x000D Vomiting37',\n",
       "       'feverx000D loheadaheose stool',\n",
       "       'BITTERNESS OF MOUTHHEADACHEJOINT PAINS',\n",
       "       'Still having feverx000D CO headache and sores in mouth',\n",
       "       'ABD PAIN JOINT PAINS', 'INTERNAL HEATHEADACHEJOINT PAINS',\n",
       "       'CHEST PAINJOINT PAIN',\n",
       "       'catarrh x67x000D fever x47x000D cough x17',\n",
       "       'PV DISCHARGEJOINT PAINS',\n",
       "       'Still having feverx000D Loose stools x episode today',\n",
       "       'fever x57x000D cough',\n",
       "       'just completed im artemether sp prescribed at a private clinic still feels feverish sick',\n",
       "       'Headache x000D Fever', 'gbpain x000D 1amm ma',\n",
       "       'fever x27x000D loss of appetite x27', 'excessive crying',\n",
       "       'chest pain raditing to backx000D weaknes',\n",
       "       'Fever x 47x000D Loss of appetite x',\n",
       "       'fever xthis morningx000D knee pains xthis morning',\n",
       "       'headache body pains cough X', 'fever bitter mouth taste',\n",
       "       'feverx000D Body weakness', 'headacex000D nil feverx000D yrs',\n",
       "       'fever x27x000D sorethroat x17', 'INTERNAL HEATGETS TIRED EASILY',\n",
       "       'fever x17x000D cough x152', 'ABD PAINFEVER HAEDACHE',\n",
       "       'Headache x1dayx000D Restlessness unconsciousness 4hrs',\n",
       "       'feverish x2wksx000D bitter tastex000D slight Headachex000D ammenorrhea x2mths',\n",
       "       'fever x1dayx000D Left loin pain x1dayx000D whitish discharge PV',\n",
       "       'vomiting x2days',\n",
       "       'pain in the Rt breast x1wkx000D headachex000D cold',\n",
       "       'sore throat x3daysx000D feverishcoldx000D weakness',\n",
       "       'feverx000D catarrhcoughx000D chest painx000D sneezing',\n",
       "       'weaknessx000D abdominal painx000D loose stools x1dayx000D yellowish urine x000D ammenorrhea 1mth',\n",
       "       'vomiting x8hrs', 'neck swelling',\n",
       "       'Feverx000D Vomitingx000D Passage of loose stool',\n",
       "       'coughx000D catarrhx000D fever', 'feverx000D cough',\n",
       "       'abdominal painx000D Fever',\n",
       "       'feverx000D vomitingx000D oral thrush',\n",
       "       'COfever37x000D Slight coughcattarhx000D No vomitingx000D Loose stools37x3 yesterx000D Boil on lower lip',\n",
       "       'fever x57x000D', 'fever x67x000D catarrh x57',\n",
       "       'COloose stoolsx152x1x000D Fever17x000D Vomitingonce this amx000D Facial rashesbathing with dettol',\n",
       "       'FEVER AND EXCESSIVE CRYING X47',\n",
       "       'FEVER SORE THROAT ASS ODYNOPHAGIA WEAKNESS',\n",
       "       'COfever152x000D Cattarhcoughx000D No vomitingx000D Loss of wt',\n",
       "       'COUGH X112x000D VOMITING X112x000D FEVER X47',\n",
       "       'COfever37x000D vomiting37x2yesterx000D Loose stools27frequent',\n",
       "       'headache x000D fever cycl stopped yr s ago',\n",
       "       'WEAKNESS BODY PAINS WAIST PAIN DYSPNOEA AT REST ON EXERTION X SEVERAL YEARS URINARY URGENCY',\n",
       "       'headache x1wkx000D neck pain x87', 'COfever in the night37',\n",
       "       'Still coughing', 'resulot presentatioin',\n",
       "       'fever x17x000D catarrh x37x000D', 'fever x1dayx000D headache x',\n",
       "       'Diarrhea x47',\n",
       "       'fever x4wksx000D poor sleepx000D vomiting x2wksx000D generallized weaknessx000D malaisex000D loss of appetite',\n",
       "       'fever x27 x000D 2abd pain x17x000D 3Pain in rt ear',\n",
       "       'still having diarrhea and fever',\n",
       "       '1ABD DISCOMFORT 1252FEVERx000D', 'PREG x000D fever x000D GBpain',\n",
       "       'headache x000D fever',\n",
       "       'on orthoped clinic but co of feverx000D cold x000D nil headache x000D bowel changes',\n",
       "       'GENERALIZED BODY PAINS BITTER MOUTH TASTE ABD PAINS ABD CRAMPS FEVER LOSS OF APPETITE',\n",
       "       'abd painx000D vomitingx000D x000D feverx000D consumption of suspecte food',\n",
       "       'headachex000D fever malaria',\n",
       "       'Px seen yet to do outlined investigations',\n",
       "       'Scanty mensesx000D Headache', 'FEVER X17x000D 2VOMITING',\n",
       "       'Headache x37x000D 2Generalised body pains',\n",
       "       'FEVER X17x000D 2COUGH X17', 'FEVER X37x000D 2CONVULSION this pm',\n",
       "       '1vomiting x17', 'fever x17', 'HEADACHEJOINT PAINSBODY WEAKNESS'],\n",
       "      dtype=object)"
      ]
     },
<<<<<<< HEAD
     "execution_count": 136,
=======
     "execution_count": 20,
>>>>>>> ae3f2fa09079df83c2ab490d59f40c7bfcc92401
     "metadata": {},
     "output_type": "execute_result"
    }
   ],
   "source": [
    "df['Complaints/Symptoms'].unique()"
   ]
  },
  {
   "cell_type": "markdown",
   "id": "a47d3162",
   "metadata": {},
   "source": [
    "### EDA AND DEALING WITH CATEGORICAL FEATURES"
   ]
  },
  {
   "cell_type": "code",
<<<<<<< HEAD
   "execution_count": 137,
=======
   "execution_count": 21,
>>>>>>> ae3f2fa09079df83c2ab490d59f40c7bfcc92401
   "id": "c5d44f74",
   "metadata": {},
   "outputs": [],
   "source": [
    "# import plotly.express as px\n",
    "\n",
    "\n",
    "# fig = px.bar(df, x=\"Malaria Outcome Interpretation\", y=\"Availability of Treated Net\", color=\"Malaria Outcome Interpretation\",\n",
    "#              title=\"Availability of Treated Nets vs. Malaria Outcome Interpretation\")\n",
    "\n",
    "# fig.update_xaxes(title_text=\"Malaria Outcome Interpretation\")\n",
    "# fig.update_yaxes(title_text=\"Availability of Treated Net\")\n",
    "\n",
    "# fig.show()"
   ]
  },
  {
   "cell_type": "code",
<<<<<<< HEAD
   "execution_count": 138,
=======
   "execution_count": 22,
>>>>>>> ae3f2fa09079df83c2ab490d59f40c7bfcc92401
   "id": "0772ee0c",
   "metadata": {},
   "outputs": [
    {
     "name": "stderr",
     "output_type": "stream",
     "text": [
<<<<<<< HEAD
      "C:\\Users\\Industry Expert\\AppData\\Local\\Temp\\ipykernel_8688\\2056895711.py:9: FutureWarning: \n",
=======
      "C:\\Users\\Industry Expert\\AppData\\Local\\Temp\\ipykernel_13372\\2056895711.py:9: FutureWarning: \n",
>>>>>>> ae3f2fa09079df83c2ab490d59f40c7bfcc92401
      "\n",
      "Passing `palette` without assigning `hue` is deprecated and will be removed in v0.14.0. Assign the `x` variable to `hue` and set `legend=False` for the same effect.\n",
      "\n",
      "  sns.barplot(data=df, x=\"Location (Urban/ Rural Area)\", y=\"Outcome\", order=order, palette=\"Set2\")\n"
     ]
    },
    {
     "data": {
<<<<<<< HEAD
      "image/png": "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",
=======
      "image/png": "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",
>>>>>>> ae3f2fa09079df83c2ab490d59f40c7bfcc92401
      "text/plain": [
       "<Figure size 640x480 with 1 Axes>"
      ]
     },
     "metadata": {},
     "output_type": "display_data"
    }
   ],
   "source": [
    "#Outcome of Malaria against Location (Urban and Rural Area Occupier)\n",
    "\n",
    "import seaborn as sns\n",
    "import matplotlib.pyplot as plt\n",
    "\n",
    "\n",
    "order = ['Rural', 'Urban']\n",
    "\n",
    "sns.barplot(data=df, x=\"Location (Urban/ Rural Area)\", y=\"Outcome\", order=order, palette=\"Set2\")\n",
    "\n",
    "plt.xlabel(\"Location (Urban/Rural Area)\")\n",
    "plt.ylabel(\"Outcome\")\n",
    "plt.title(\"Outcome by Location\")\n",
    "\n",
    "# Show the plot\n",
    "plt.show()\n"
   ]
  },
  {
   "cell_type": "code",
<<<<<<< HEAD
   "execution_count": 139,
=======
   "execution_count": 23,
>>>>>>> ae3f2fa09079df83c2ab490d59f40c7bfcc92401
   "id": "05e2981d",
   "metadata": {},
   "outputs": [],
   "source": [
    "# ### Number of Pregnant woman with Positive and Negative Outcome\n",
    "\n",
    "\n",
    "# fig = px.pie(df, values=\"Pregnancies\", names=\"Malaria Outcome Interpretation\")\n",
    "# fig.show()"
   ]
  },
  {
   "cell_type": "code",
<<<<<<< HEAD
   "execution_count": 140,
=======
   "execution_count": 24,
>>>>>>> ae3f2fa09079df83c2ab490d59f40c7bfcc92401
   "id": "375c61ed",
   "metadata": {},
   "outputs": [],
   "source": [
    "# import plotly.express as px\n",
    "# import pandas as pd\n",
    "\n",
    "\n",
    "# # Categorize age into '0-5 years' and '5 years and above'\n",
    "# df['Age Category'] = pd.cut(df['Age'], bins=[0, 5, float('inf')], labels=['0-5 years', '5 years and above'])\n",
    "\n",
    "# # Count the occurrences of each age category and Malaria Outcome Interpretation\n",
    "# category_counts = df.groupby(['Age Category', 'Malaria Outcome Interpretation']).size().reset_index(name='Count')\n",
    "\n",
    "# # Create a bar chart using Plotly Express\n",
    "# fig = px.bar(category_counts, x='Age Category', y='Count', color='Malaria Outcome Interpretation',\n",
    "#              title='Age Category vs Malaria Outcome Interpretation',\n",
    "#              labels={'Age Category': 'Age Category'})\n",
    "\n",
    "# # Show the chart\n",
    "# fig.show()\n"
   ]
  },
  {
   "cell_type": "code",
   "execution_count": null,
   "id": "81f4914d",
   "metadata": {},
   "outputs": [],
   "source": []
  },
  {
   "cell_type": "markdown",
   "id": "4b01670e",
   "metadata": {},
   "source": [
    "### Dealing with the High rate of Mal Infection (Lab Diagnosis) Column"
   ]
  },
  {
   "cell_type": "code",
<<<<<<< HEAD
   "execution_count": 141,
=======
   "execution_count": 25,
>>>>>>> ae3f2fa09079df83c2ab490d59f40c7bfcc92401
   "id": "5721b1ee",
   "metadata": {},
   "outputs": [],
   "source": [
    "df['High Rate of Mal  Infection (Lab Diagnosis)'] = df['High Rate of Mal  Infection (Lab Diagnosis)'].fillna(df['High Rate of Mal  Infection (Lab Diagnosis)'].mean())"
   ]
  },
  {
   "cell_type": "markdown",
   "id": "71fa5eec",
   "metadata": {},
   "source": [
    "### Malaria Parasite Density Fever- Rapid Diagnostic Test(Strip) Column"
   ]
  },
  {
   "cell_type": "code",
<<<<<<< HEAD
   "execution_count": 142,
=======
   "execution_count": 26,
>>>>>>> ae3f2fa09079df83c2ab490d59f40c7bfcc92401
   "id": "1e4173a9",
   "metadata": {},
   "outputs": [
    {
     "data": {
      "text/plain": [
       "Malaria Parasite Density Fever- Rapid Diagnostic Test(Strip)\n",
       "Malaria                       716\n",
       "MALARIAx000D URTI              48\n",
       "Malaria RO Sepsis              32\n",
       "MALARIA RO SEPSIS              20\n",
       "Acute Malaria                  20\n",
       "                             ... \n",
       "ACUTE MALARIA RO RTI            4\n",
       "MALARIA IN PREGNANCY BG DM      4\n",
       "SEPSIS RO SEVERE MALARIA        4\n",
       "malaria HBP                     4\n",
       "Malaria in Pregnancy            4\n",
       "Name: count, Length: 266, dtype: int64"
      ]
     },
<<<<<<< HEAD
     "execution_count": 142,
=======
     "execution_count": 26,
>>>>>>> ae3f2fa09079df83c2ab490d59f40c7bfcc92401
     "metadata": {},
     "output_type": "execute_result"
    }
   ],
   "source": [
    "df['Malaria Parasite Density Fever- Rapid Diagnostic Test(Strip)'] = df['Malaria Parasite Density Fever- Rapid Diagnostic Test(Strip)'].map(lambda x: 'Malaria' if x=='MALARIA' or x=='malaria' else x)\n",
    "df['Malaria Parasite Density Fever- Rapid Diagnostic Test(Strip)'].value_counts()"
   ]
  },
  {
   "cell_type": "code",
<<<<<<< HEAD
   "execution_count": 143,
=======
   "execution_count": 27,
>>>>>>> ae3f2fa09079df83c2ab490d59f40c7bfcc92401
   "id": "11af346e",
   "metadata": {},
   "outputs": [],
   "source": [
    "le =  LabelEncoder()\n",
    "\n",
    "df['Malaria Parasite Density Fever- Rapid Diagnostic Test(Strip)'] = le.fit_transform(df['Malaria Parasite Density Fever- Rapid Diagnostic Test(Strip)'])"
   ]
  },
  {
   "cell_type": "markdown",
   "id": "0a90b3c1",
   "metadata": {},
   "source": [
    "### COMPLAINTS / SYMPTOMS COLUMN"
   ]
  },
  {
   "cell_type": "code",
<<<<<<< HEAD
   "execution_count": 144,
=======
   "execution_count": 28,
>>>>>>> ae3f2fa09079df83c2ab490d59f40c7bfcc92401
   "id": "b165bba4",
   "metadata": {},
   "outputs": [],
   "source": [
    "# df['Complaints/Symptoms'] = df['Complaints/Symptoms'].str.replace(\"4/7_x000D_\\n\",\"\")\n",
    "# df['Complaints/Symptoms'] = df['Complaints/Symptoms'].str.replace(\"3/7_x000D_\\n\",\"\")\n",
    "# df['Complaints/Symptoms'] = df['Complaints/Symptoms'].str.replace(\"x000D_\\n\",\"\")\n",
    "# df['Complaints/Symptoms'] = df['Complaints/Symptoms'].str.replace(\"3/7\",\"\")\n",
    "# df['Complaints/Symptoms'] = df['Complaints/Symptoms'].str.replace(\"1/7\",\"\")\n",
    "# df['Complaints/Symptoms'] = df['Complaints/Symptoms'].str.replace(\"x\",\",\")\n",
    "# df['Complaints/Symptoms'] = df['Complaints/Symptoms'].str.replace(\"1\",\"\")\n",
    "# df['Complaints/Symptoms'] = df['Complaints/Symptoms'].str.replace(\"2\",\"\")\n",
    "# df['Complaints/Symptoms'] = df['Complaints/Symptoms'].str.replace(\"3\",\"\")\n",
    "# df['Complaints/Symptoms'] = df['Complaints/Symptoms'].str.replace(\"_\",\"\")\n",
    "# df['Complaints/Symptoms'] = df['Complaints/Symptoms'].str.replace(\".\",\",\")"
   ]
  },
  {
   "cell_type": "code",
<<<<<<< HEAD
   "execution_count": 145,
=======
   "execution_count": 29,
>>>>>>> ae3f2fa09079df83c2ab490d59f40c7bfcc92401
   "id": "7bd45b4e",
   "metadata": {},
   "outputs": [],
   "source": [
    "df['Complaints/Symptoms'] = le.fit_transform(df['Complaints/Symptoms'])"
   ]
  },
  {
   "cell_type": "markdown",
   "id": "2681476b",
   "metadata": {},
   "source": [
    "### AGE COLUMN \n",
    "\n",
    "#### Filling up the missing value in the age column with the mean age"
   ]
  },
  {
   "cell_type": "code",
<<<<<<< HEAD
   "execution_count": 146,
=======
   "execution_count": 30,
>>>>>>> ae3f2fa09079df83c2ab490d59f40c7bfcc92401
   "id": "ced62b8c",
   "metadata": {},
   "outputs": [],
   "source": [
    "df['Age'] = df['Age'].fillna(df['Age'].mean())"
   ]
  },
  {
   "cell_type": "code",
<<<<<<< HEAD
   "execution_count": 147,
=======
   "execution_count": 31,
>>>>>>> ae3f2fa09079df83c2ab490d59f40c7bfcc92401
   "id": "1662e8dd",
   "metadata": {},
   "outputs": [
    {
     "data": {
      "text/plain": [
       "array([36., 24.,  9.,  5., 28.,  6., 46., 42., 11., 58., 16., 57., 26.,\n",
       "       51., 34., 29., 31., 10., 41., 37., 44.,  7., 38.,  4., 59., 39.,\n",
       "       45., 35., 43., 17., 13., 54., 66., 30., 47., 48., 53., 32., 52.,\n",
       "        8., 12., 33., 25., 40., 14., 15., 49., 27., 21., 20., 18.,  3.,\n",
       "       56., 89., 55., 60., 86., 69., 23., 50., 22., 77., 19., 63., 61.,\n",
       "       65.])"
      ]
     },
<<<<<<< HEAD
     "execution_count": 147,
=======
     "execution_count": 31,
>>>>>>> ae3f2fa09079df83c2ab490d59f40c7bfcc92401
     "metadata": {},
     "output_type": "execute_result"
    }
   ],
   "source": [
    "df['Age'].unique()"
   ]
  },
  {
   "cell_type": "code",
<<<<<<< HEAD
   "execution_count": 148,
=======
   "execution_count": 32,
>>>>>>> ae3f2fa09079df83c2ab490d59f40c7bfcc92401
   "id": "0a90951d",
   "metadata": {},
   "outputs": [],
   "source": [
    "df['Age'] = df['Age'].astype(\"int64\")"
   ]
  },
  {
   "cell_type": "markdown",
   "id": "1f100772",
   "metadata": {},
   "source": [
    "### ELECTRICITY COLUMN "
   ]
  },
  {
   "cell_type": "code",
<<<<<<< HEAD
   "execution_count": 149,
=======
   "execution_count": 33,
>>>>>>> ae3f2fa09079df83c2ab490d59f40c7bfcc92401
   "id": "e57e99e5",
   "metadata": {},
   "outputs": [
    {
     "data": {
      "text/plain": [
       "array([ 1.,  0., nan])"
      ]
     },
<<<<<<< HEAD
     "execution_count": 149,
=======
     "execution_count": 33,
>>>>>>> ae3f2fa09079df83c2ab490d59f40c7bfcc92401
     "metadata": {},
     "output_type": "execute_result"
    }
   ],
   "source": [
    "df['Electricity'].unique()"
   ]
  },
  {
   "cell_type": "markdown",
   "id": "3284013d",
   "metadata": {},
   "source": [
    "### Lets fill up the electricity column with the median value"
   ]
  },
  {
   "cell_type": "code",
<<<<<<< HEAD
   "execution_count": 150,
=======
   "execution_count": 34,
>>>>>>> ae3f2fa09079df83c2ab490d59f40c7bfcc92401
   "id": "d2594e20",
   "metadata": {},
   "outputs": [],
   "source": [
    "df['Electricity'] = df['Electricity'].fillna(df['Electricity'].median())"
   ]
  },
  {
   "cell_type": "code",
<<<<<<< HEAD
   "execution_count": 151,
=======
   "execution_count": 35,
>>>>>>> ae3f2fa09079df83c2ab490d59f40c7bfcc92401
   "id": "3a8cd686",
   "metadata": {},
   "outputs": [],
   "source": [
    "df['Electricity'] = df['Electricity'].astype(\"int64\")"
   ]
  },
  {
   "cell_type": "markdown",
   "id": "da979e44",
   "metadata": {},
   "source": [
    "### LABORATORY EQUIPMENTS COLUMN"
   ]
  },
  {
   "cell_type": "code",
<<<<<<< HEAD
   "execution_count": 152,
=======
   "execution_count": 36,
>>>>>>> ae3f2fa09079df83c2ab490d59f40c7bfcc92401
   "id": "21991762",
   "metadata": {},
   "outputs": [
    {
     "data": {
      "text/html": [
       "<div>\n",
       "<style scoped>\n",
       "    .dataframe tbody tr th:only-of-type {\n",
       "        vertical-align: middle;\n",
       "    }\n",
       "\n",
       "    .dataframe tbody tr th {\n",
       "        vertical-align: top;\n",
       "    }\n",
       "\n",
       "    .dataframe thead th {\n",
       "        text-align: right;\n",
       "    }\n",
       "</style>\n",
       "<table border=\"1\" class=\"dataframe\">\n",
       "  <thead>\n",
       "    <tr style=\"text-align: right;\">\n",
       "      <th></th>\n",
       "      <th>Pregnancies</th>\n",
       "      <th>Availability of Treated Net</th>\n",
       "      <th>Season: Level of Rainfall-Stagnant water breeding</th>\n",
       "      <th>High Rate of Mal  Infection (Lab Diagnosis)</th>\n",
       "      <th>Malaria Parasite Density Fever- Rapid Diagnostic Test(Strip)</th>\n",
       "      <th>Complaints/Symptoms</th>\n",
       "      <th>Age</th>\n",
       "      <th>Outcome</th>\n",
       "      <th>Electricity</th>\n",
       "      <th>Doctor to Patient</th>\n",
       "      <th>Environment - Sanitised or not</th>\n",
       "      <th>Complicated/ Uncomplicated Malaria Diagnosis</th>\n",
       "      <th>Location (Urban/ Rural Area)</th>\n",
       "      <th>Malaria Outcome Interpretation</th>\n",
       "      <th>Laboratory Equipments_Not adequate</th>\n",
       "    </tr>\n",
       "  </thead>\n",
       "  <tbody>\n",
       "    <tr>\n",
       "      <th>0</th>\n",
       "      <td>0</td>\n",
       "      <td>1</td>\n",
       "      <td>0</td>\n",
       "      <td>0.7</td>\n",
       "      <td>236</td>\n",
       "      <td>40</td>\n",
       "      <td>36</td>\n",
       "      <td>0</td>\n",
       "      <td>1</td>\n",
       "      <td>high</td>\n",
       "      <td>1.0</td>\n",
       "      <td>Uncomplicated</td>\n",
       "      <td>Urban</td>\n",
       "      <td>Negative</td>\n",
       "      <td>False</td>\n",
       "    </tr>\n",
       "    <tr>\n",
       "      <th>1</th>\n",
       "      <td>0</td>\n",
       "      <td>0</td>\n",
       "      <td>1</td>\n",
       "      <td>75.0</td>\n",
       "      <td>108</td>\n",
       "      <td>171</td>\n",
       "      <td>24</td>\n",
       "      <td>1</td>\n",
       "      <td>0</td>\n",
       "      <td>low</td>\n",
       "      <td>0.0</td>\n",
       "      <td>Complicated</td>\n",
       "      <td>Rural</td>\n",
       "      <td>Positive</td>\n",
       "      <td>True</td>\n",
       "    </tr>\n",
       "    <tr>\n",
       "      <th>2</th>\n",
       "      <td>1</td>\n",
       "      <td>0</td>\n",
       "      <td>1</td>\n",
       "      <td>71.0</td>\n",
       "      <td>119</td>\n",
       "      <td>32</td>\n",
       "      <td>9</td>\n",
       "      <td>1</td>\n",
       "      <td>0</td>\n",
       "      <td>low</td>\n",
       "      <td>0.0</td>\n",
       "      <td>Complicated</td>\n",
       "      <td>Rural</td>\n",
       "      <td>Positive</td>\n",
       "      <td>True</td>\n",
       "    </tr>\n",
       "    <tr>\n",
       "      <th>3</th>\n",
       "      <td>0</td>\n",
       "      <td>0</td>\n",
       "      <td>1</td>\n",
       "      <td>96.0</td>\n",
       "      <td>136</td>\n",
       "      <td>179</td>\n",
       "      <td>5</td>\n",
       "      <td>1</td>\n",
       "      <td>0</td>\n",
       "      <td>low</td>\n",
       "      <td>0.0</td>\n",
       "      <td>Complicated</td>\n",
       "      <td>Rural</td>\n",
       "      <td>Positive</td>\n",
       "      <td>True</td>\n",
       "    </tr>\n",
       "    <tr>\n",
       "      <th>4</th>\n",
       "      <td>1</td>\n",
       "      <td>0</td>\n",
       "      <td>1</td>\n",
       "      <td>97.0</td>\n",
       "      <td>119</td>\n",
       "      <td>387</td>\n",
       "      <td>28</td>\n",
       "      <td>1</td>\n",
       "      <td>0</td>\n",
       "      <td>low</td>\n",
       "      <td>0.0</td>\n",
       "      <td>Complicated</td>\n",
       "      <td>Rural</td>\n",
       "      <td>Positive</td>\n",
       "      <td>True</td>\n",
       "    </tr>\n",
       "  </tbody>\n",
       "</table>\n",
       "</div>"
      ],
      "text/plain": [
       "   Pregnancies  Availability of Treated Net  \\\n",
       "0            0                            1   \n",
       "1            0                            0   \n",
       "2            1                            0   \n",
       "3            0                            0   \n",
       "4            1                            0   \n",
       "\n",
       "   Season: Level of Rainfall-Stagnant water breeding   \\\n",
       "0                                                  0    \n",
       "1                                                  1    \n",
       "2                                                  1    \n",
       "3                                                  1    \n",
       "4                                                  1    \n",
       "\n",
       "   High Rate of Mal  Infection (Lab Diagnosis)  \\\n",
       "0                                          0.7   \n",
       "1                                         75.0   \n",
       "2                                         71.0   \n",
       "3                                         96.0   \n",
       "4                                         97.0   \n",
       "\n",
       "   Malaria Parasite Density Fever- Rapid Diagnostic Test(Strip)  \\\n",
       "0                                                236              \n",
       "1                                                108              \n",
       "2                                                119              \n",
       "3                                                136              \n",
       "4                                                119              \n",
       "\n",
       "   Complaints/Symptoms  Age  Outcome  Electricity Doctor to Patient  \\\n",
       "0                   40   36        0            1              high   \n",
       "1                  171   24        1            0               low   \n",
       "2                   32    9        1            0               low   \n",
       "3                  179    5        1            0               low   \n",
       "4                  387   28        1            0               low   \n",
       "\n",
       "   Environment - Sanitised or not  \\\n",
       "0                             1.0   \n",
       "1                             0.0   \n",
       "2                             0.0   \n",
       "3                             0.0   \n",
       "4                             0.0   \n",
       "\n",
       "  Complicated/ Uncomplicated Malaria Diagnosis Location (Urban/ Rural Area)  \\\n",
       "0                                Uncomplicated                        Urban   \n",
       "1                                  Complicated                        Rural   \n",
       "2                                  Complicated                        Rural   \n",
       "3                                  Complicated                        Rural   \n",
       "4                                  Complicated                        Rural   \n",
       "\n",
       "  Malaria Outcome Interpretation  Laboratory Equipments_Not adequate  \n",
       "0                       Negative                               False  \n",
       "1                       Positive                                True  \n",
       "2                       Positive                                True  \n",
       "3                       Positive                                True  \n",
       "4                       Positive                                True  "
      ]
     },
<<<<<<< HEAD
     "execution_count": 152,
=======
     "execution_count": 36,
>>>>>>> ae3f2fa09079df83c2ab490d59f40c7bfcc92401
     "metadata": {},
     "output_type": "execute_result"
    }
   ],
   "source": [
    "dummies = pd.get_dummies(df['Laboratory Equipments'], prefix = 'Laboratory Equipments',drop_first = True)\n",
    "df = pd.concat([df.drop('Laboratory Equipments', axis = 1), dummies], axis = 1)\n",
    "df.head()"
   ]
  },
  {
   "cell_type": "markdown",
   "id": "7ce223d3",
   "metadata": {},
   "source": [
    "### DOCTOR TO PATIENT COLUMN"
   ]
  },
  {
   "cell_type": "code",
<<<<<<< HEAD
   "execution_count": 153,
=======
   "execution_count": 37,
>>>>>>> ae3f2fa09079df83c2ab490d59f40c7bfcc92401
   "id": "d7d1e29c",
   "metadata": {},
   "outputs": [
    {
     "data": {
      "text/html": [
       "<div>\n",
       "<style scoped>\n",
       "    .dataframe tbody tr th:only-of-type {\n",
       "        vertical-align: middle;\n",
       "    }\n",
       "\n",
       "    .dataframe tbody tr th {\n",
       "        vertical-align: top;\n",
       "    }\n",
       "\n",
       "    .dataframe thead th {\n",
       "        text-align: right;\n",
       "    }\n",
       "</style>\n",
       "<table border=\"1\" class=\"dataframe\">\n",
       "  <thead>\n",
       "    <tr style=\"text-align: right;\">\n",
       "      <th></th>\n",
       "      <th>Pregnancies</th>\n",
       "      <th>Availability of Treated Net</th>\n",
       "      <th>Season: Level of Rainfall-Stagnant water breeding</th>\n",
       "      <th>High Rate of Mal  Infection (Lab Diagnosis)</th>\n",
       "      <th>Malaria Parasite Density Fever- Rapid Diagnostic Test(Strip)</th>\n",
       "      <th>Complaints/Symptoms</th>\n",
       "      <th>Age</th>\n",
       "      <th>Outcome</th>\n",
       "      <th>Electricity</th>\n",
       "      <th>Environment - Sanitised or not</th>\n",
       "      <th>Complicated/ Uncomplicated Malaria Diagnosis</th>\n",
       "      <th>Location (Urban/ Rural Area)</th>\n",
       "      <th>Malaria Outcome Interpretation</th>\n",
       "      <th>Laboratory Equipments_Not adequate</th>\n",
       "      <th>Doctor to Patient_high</th>\n",
       "      <th>Doctor to Patient_low</th>\n",
       "    </tr>\n",
       "  </thead>\n",
       "  <tbody>\n",
       "    <tr>\n",
       "      <th>0</th>\n",
       "      <td>0</td>\n",
       "      <td>1</td>\n",
       "      <td>0</td>\n",
       "      <td>0.7</td>\n",
       "      <td>236</td>\n",
       "      <td>40</td>\n",
       "      <td>36</td>\n",
       "      <td>0</td>\n",
       "      <td>1</td>\n",
       "      <td>1.0</td>\n",
       "      <td>Uncomplicated</td>\n",
       "      <td>Urban</td>\n",
       "      <td>Negative</td>\n",
       "      <td>False</td>\n",
       "      <td>True</td>\n",
       "      <td>False</td>\n",
       "    </tr>\n",
       "    <tr>\n",
       "      <th>1</th>\n",
       "      <td>0</td>\n",
       "      <td>0</td>\n",
       "      <td>1</td>\n",
       "      <td>75.0</td>\n",
       "      <td>108</td>\n",
       "      <td>171</td>\n",
       "      <td>24</td>\n",
       "      <td>1</td>\n",
       "      <td>0</td>\n",
       "      <td>0.0</td>\n",
       "      <td>Complicated</td>\n",
       "      <td>Rural</td>\n",
       "      <td>Positive</td>\n",
       "      <td>True</td>\n",
       "      <td>False</td>\n",
       "      <td>True</td>\n",
       "    </tr>\n",
       "    <tr>\n",
       "      <th>2</th>\n",
       "      <td>1</td>\n",
       "      <td>0</td>\n",
       "      <td>1</td>\n",
       "      <td>71.0</td>\n",
       "      <td>119</td>\n",
       "      <td>32</td>\n",
       "      <td>9</td>\n",
       "      <td>1</td>\n",
       "      <td>0</td>\n",
       "      <td>0.0</td>\n",
       "      <td>Complicated</td>\n",
       "      <td>Rural</td>\n",
       "      <td>Positive</td>\n",
       "      <td>True</td>\n",
       "      <td>False</td>\n",
       "      <td>True</td>\n",
       "    </tr>\n",
       "    <tr>\n",
       "      <th>3</th>\n",
       "      <td>0</td>\n",
       "      <td>0</td>\n",
       "      <td>1</td>\n",
       "      <td>96.0</td>\n",
       "      <td>136</td>\n",
       "      <td>179</td>\n",
       "      <td>5</td>\n",
       "      <td>1</td>\n",
       "      <td>0</td>\n",
       "      <td>0.0</td>\n",
       "      <td>Complicated</td>\n",
       "      <td>Rural</td>\n",
       "      <td>Positive</td>\n",
       "      <td>True</td>\n",
       "      <td>False</td>\n",
       "      <td>True</td>\n",
       "    </tr>\n",
       "    <tr>\n",
       "      <th>4</th>\n",
       "      <td>1</td>\n",
       "      <td>0</td>\n",
       "      <td>1</td>\n",
       "      <td>97.0</td>\n",
       "      <td>119</td>\n",
       "      <td>387</td>\n",
       "      <td>28</td>\n",
       "      <td>1</td>\n",
       "      <td>0</td>\n",
       "      <td>0.0</td>\n",
       "      <td>Complicated</td>\n",
       "      <td>Rural</td>\n",
       "      <td>Positive</td>\n",
       "      <td>True</td>\n",
       "      <td>False</td>\n",
       "      <td>True</td>\n",
       "    </tr>\n",
       "  </tbody>\n",
       "</table>\n",
       "</div>"
      ],
      "text/plain": [
       "   Pregnancies  Availability of Treated Net  \\\n",
       "0            0                            1   \n",
       "1            0                            0   \n",
       "2            1                            0   \n",
       "3            0                            0   \n",
       "4            1                            0   \n",
       "\n",
       "   Season: Level of Rainfall-Stagnant water breeding   \\\n",
       "0                                                  0    \n",
       "1                                                  1    \n",
       "2                                                  1    \n",
       "3                                                  1    \n",
       "4                                                  1    \n",
       "\n",
       "   High Rate of Mal  Infection (Lab Diagnosis)  \\\n",
       "0                                          0.7   \n",
       "1                                         75.0   \n",
       "2                                         71.0   \n",
       "3                                         96.0   \n",
       "4                                         97.0   \n",
       "\n",
       "   Malaria Parasite Density Fever- Rapid Diagnostic Test(Strip)  \\\n",
       "0                                                236              \n",
       "1                                                108              \n",
       "2                                                119              \n",
       "3                                                136              \n",
       "4                                                119              \n",
       "\n",
       "   Complaints/Symptoms  Age  Outcome  Electricity  \\\n",
       "0                   40   36        0            1   \n",
       "1                  171   24        1            0   \n",
       "2                   32    9        1            0   \n",
       "3                  179    5        1            0   \n",
       "4                  387   28        1            0   \n",
       "\n",
       "   Environment - Sanitised or not  \\\n",
       "0                             1.0   \n",
       "1                             0.0   \n",
       "2                             0.0   \n",
       "3                             0.0   \n",
       "4                             0.0   \n",
       "\n",
       "  Complicated/ Uncomplicated Malaria Diagnosis Location (Urban/ Rural Area)  \\\n",
       "0                                Uncomplicated                        Urban   \n",
       "1                                  Complicated                        Rural   \n",
       "2                                  Complicated                        Rural   \n",
       "3                                  Complicated                        Rural   \n",
       "4                                  Complicated                        Rural   \n",
       "\n",
       "  Malaria Outcome Interpretation  Laboratory Equipments_Not adequate  \\\n",
       "0                       Negative                               False   \n",
       "1                       Positive                                True   \n",
       "2                       Positive                                True   \n",
       "3                       Positive                                True   \n",
       "4                       Positive                                True   \n",
       "\n",
       "   Doctor to Patient_high  Doctor to Patient_low  \n",
       "0                    True                  False  \n",
       "1                   False                   True  \n",
       "2                   False                   True  \n",
       "3                   False                   True  \n",
       "4                   False                   True  "
      ]
     },
<<<<<<< HEAD
     "execution_count": 153,
=======
     "execution_count": 37,
>>>>>>> ae3f2fa09079df83c2ab490d59f40c7bfcc92401
     "metadata": {},
     "output_type": "execute_result"
    }
   ],
   "source": [
    "dummies = pd.get_dummies(df['Doctor to Patient'],prefix = 'Doctor to Patient')\n",
    "df = pd.concat([df.drop('Doctor to Patient', axis = 1), dummies], axis = 1)\n",
    "df.head()"
   ]
  },
  {
   "cell_type": "code",
<<<<<<< HEAD
   "execution_count": 154,
=======
   "execution_count": 38,
>>>>>>> ae3f2fa09079df83c2ab490d59f40c7bfcc92401
   "id": "1b2fe98d",
   "metadata": {},
   "outputs": [
    {
     "data": {
      "text/plain": [
       "Pregnancies                                                      0\n",
       "Availability of Treated Net                                      0\n",
       "Season: Level of Rainfall-Stagnant water breeding                0\n",
       "High Rate of Mal  Infection (Lab Diagnosis)                      0\n",
       "Malaria Parasite Density Fever- Rapid Diagnostic Test(Strip)     0\n",
       "Complaints/Symptoms                                              0\n",
       "Age                                                              0\n",
       "Outcome                                                          0\n",
       "Electricity                                                      0\n",
       "Environment - Sanitised or not                                  56\n",
       "Complicated/ Uncomplicated Malaria Diagnosis                     0\n",
       "Location (Urban/ Rural Area)                                     0\n",
       "Malaria Outcome Interpretation                                   0\n",
       "Laboratory Equipments_Not adequate                               0\n",
       "Doctor to Patient_high                                           0\n",
       "Doctor to Patient_low                                            0\n",
       "dtype: int64"
      ]
     },
<<<<<<< HEAD
     "execution_count": 154,
=======
     "execution_count": 38,
>>>>>>> ae3f2fa09079df83c2ab490d59f40c7bfcc92401
     "metadata": {},
     "output_type": "execute_result"
    }
   ],
   "source": [
    "df.isnull().sum()"
   ]
  },
  {
   "cell_type": "code",
<<<<<<< HEAD
   "execution_count": 155,
=======
   "execution_count": 39,
>>>>>>> ae3f2fa09079df83c2ab490d59f40c7bfcc92401
   "id": "39ef4cda",
   "metadata": {},
   "outputs": [],
   "source": [
    "for col in df.columns:\n",
    "    if df[col].dtype == bool:\n",
    "        df[col] = df[col].astype(int)\n"
   ]
  },
  {
   "cell_type": "markdown",
   "id": "411241d4",
   "metadata": {},
   "source": [
    "### ENVIRONMENT - SANITISED OR NOT COLUMN"
   ]
  },
  {
   "cell_type": "code",
<<<<<<< HEAD
   "execution_count": 156,
=======
   "execution_count": 40,
>>>>>>> ae3f2fa09079df83c2ab490d59f40c7bfcc92401
   "id": "ce624a36",
   "metadata": {},
   "outputs": [],
   "source": [
    "df['Environment - Sanitised or not'] = df['Environment - Sanitised or not'].fillna(df['Environment - Sanitised or not'].mean())"
   ]
  },
  {
   "cell_type": "code",
<<<<<<< HEAD
   "execution_count": 157,
=======
   "execution_count": 41,
>>>>>>> ae3f2fa09079df83c2ab490d59f40c7bfcc92401
   "id": "edba014c",
   "metadata": {},
   "outputs": [],
   "source": [
    "df['Environment - Sanitised or not'] = df['Environment - Sanitised or not'].astype(\"int64\")"
   ]
  },
  {
   "cell_type": "code",
<<<<<<< HEAD
   "execution_count": 158,
=======
   "execution_count": 42,
>>>>>>> ae3f2fa09079df83c2ab490d59f40c7bfcc92401
   "id": "97f5687d",
   "metadata": {},
   "outputs": [
    {
     "data": {
      "text/html": [
       "<div>\n",
       "<style scoped>\n",
       "    .dataframe tbody tr th:only-of-type {\n",
       "        vertical-align: middle;\n",
       "    }\n",
       "\n",
       "    .dataframe tbody tr th {\n",
       "        vertical-align: top;\n",
       "    }\n",
       "\n",
       "    .dataframe thead th {\n",
       "        text-align: right;\n",
       "    }\n",
       "</style>\n",
       "<table border=\"1\" class=\"dataframe\">\n",
       "  <thead>\n",
       "    <tr style=\"text-align: right;\">\n",
       "      <th></th>\n",
       "      <th>Pregnancies</th>\n",
       "      <th>Availability of Treated Net</th>\n",
       "      <th>Season: Level of Rainfall-Stagnant water breeding</th>\n",
       "      <th>High Rate of Mal  Infection (Lab Diagnosis)</th>\n",
       "      <th>Malaria Parasite Density Fever- Rapid Diagnostic Test(Strip)</th>\n",
       "      <th>Complaints/Symptoms</th>\n",
       "      <th>Age</th>\n",
       "      <th>Outcome</th>\n",
       "      <th>Electricity</th>\n",
       "      <th>Environment - Sanitised or not</th>\n",
       "      <th>Complicated/ Uncomplicated Malaria Diagnosis</th>\n",
       "      <th>Location (Urban/ Rural Area)</th>\n",
       "      <th>Malaria Outcome Interpretation</th>\n",
       "      <th>Laboratory Equipments_Not adequate</th>\n",
       "      <th>Doctor to Patient_high</th>\n",
       "      <th>Doctor to Patient_low</th>\n",
       "    </tr>\n",
       "  </thead>\n",
       "  <tbody>\n",
       "    <tr>\n",
       "      <th>0</th>\n",
       "      <td>0</td>\n",
       "      <td>1</td>\n",
       "      <td>0</td>\n",
       "      <td>0.7</td>\n",
       "      <td>236</td>\n",
       "      <td>40</td>\n",
       "      <td>36</td>\n",
       "      <td>0</td>\n",
       "      <td>1</td>\n",
       "      <td>1</td>\n",
       "      <td>Uncomplicated</td>\n",
       "      <td>Urban</td>\n",
       "      <td>Negative</td>\n",
       "      <td>0</td>\n",
       "      <td>1</td>\n",
       "      <td>0</td>\n",
       "    </tr>\n",
       "    <tr>\n",
       "      <th>1</th>\n",
       "      <td>0</td>\n",
       "      <td>0</td>\n",
       "      <td>1</td>\n",
       "      <td>75.0</td>\n",
       "      <td>108</td>\n",
       "      <td>171</td>\n",
       "      <td>24</td>\n",
       "      <td>1</td>\n",
       "      <td>0</td>\n",
       "      <td>0</td>\n",
       "      <td>Complicated</td>\n",
       "      <td>Rural</td>\n",
       "      <td>Positive</td>\n",
       "      <td>1</td>\n",
       "      <td>0</td>\n",
       "      <td>1</td>\n",
       "    </tr>\n",
       "    <tr>\n",
       "      <th>2</th>\n",
       "      <td>1</td>\n",
       "      <td>0</td>\n",
       "      <td>1</td>\n",
       "      <td>71.0</td>\n",
       "      <td>119</td>\n",
       "      <td>32</td>\n",
       "      <td>9</td>\n",
       "      <td>1</td>\n",
       "      <td>0</td>\n",
       "      <td>0</td>\n",
       "      <td>Complicated</td>\n",
       "      <td>Rural</td>\n",
       "      <td>Positive</td>\n",
       "      <td>1</td>\n",
       "      <td>0</td>\n",
       "      <td>1</td>\n",
       "    </tr>\n",
       "    <tr>\n",
       "      <th>3</th>\n",
       "      <td>0</td>\n",
       "      <td>0</td>\n",
       "      <td>1</td>\n",
       "      <td>96.0</td>\n",
       "      <td>136</td>\n",
       "      <td>179</td>\n",
       "      <td>5</td>\n",
       "      <td>1</td>\n",
       "      <td>0</td>\n",
       "      <td>0</td>\n",
       "      <td>Complicated</td>\n",
       "      <td>Rural</td>\n",
       "      <td>Positive</td>\n",
       "      <td>1</td>\n",
       "      <td>0</td>\n",
       "      <td>1</td>\n",
       "    </tr>\n",
       "    <tr>\n",
       "      <th>4</th>\n",
       "      <td>1</td>\n",
       "      <td>0</td>\n",
       "      <td>1</td>\n",
       "      <td>97.0</td>\n",
       "      <td>119</td>\n",
       "      <td>387</td>\n",
       "      <td>28</td>\n",
       "      <td>1</td>\n",
       "      <td>0</td>\n",
       "      <td>0</td>\n",
       "      <td>Complicated</td>\n",
       "      <td>Rural</td>\n",
       "      <td>Positive</td>\n",
       "      <td>1</td>\n",
       "      <td>0</td>\n",
       "      <td>1</td>\n",
       "    </tr>\n",
       "  </tbody>\n",
       "</table>\n",
       "</div>"
      ],
      "text/plain": [
       "   Pregnancies  Availability of Treated Net  \\\n",
       "0            0                            1   \n",
       "1            0                            0   \n",
       "2            1                            0   \n",
       "3            0                            0   \n",
       "4            1                            0   \n",
       "\n",
       "   Season: Level of Rainfall-Stagnant water breeding   \\\n",
       "0                                                  0    \n",
       "1                                                  1    \n",
       "2                                                  1    \n",
       "3                                                  1    \n",
       "4                                                  1    \n",
       "\n",
       "   High Rate of Mal  Infection (Lab Diagnosis)  \\\n",
       "0                                          0.7   \n",
       "1                                         75.0   \n",
       "2                                         71.0   \n",
       "3                                         96.0   \n",
       "4                                         97.0   \n",
       "\n",
       "   Malaria Parasite Density Fever- Rapid Diagnostic Test(Strip)  \\\n",
       "0                                                236              \n",
       "1                                                108              \n",
       "2                                                119              \n",
       "3                                                136              \n",
       "4                                                119              \n",
       "\n",
       "   Complaints/Symptoms  Age  Outcome  Electricity  \\\n",
       "0                   40   36        0            1   \n",
       "1                  171   24        1            0   \n",
       "2                   32    9        1            0   \n",
       "3                  179    5        1            0   \n",
       "4                  387   28        1            0   \n",
       "\n",
       "   Environment - Sanitised or not  \\\n",
       "0                               1   \n",
       "1                               0   \n",
       "2                               0   \n",
       "3                               0   \n",
       "4                               0   \n",
       "\n",
       "  Complicated/ Uncomplicated Malaria Diagnosis Location (Urban/ Rural Area)  \\\n",
       "0                                Uncomplicated                        Urban   \n",
       "1                                  Complicated                        Rural   \n",
       "2                                  Complicated                        Rural   \n",
       "3                                  Complicated                        Rural   \n",
       "4                                  Complicated                        Rural   \n",
       "\n",
       "  Malaria Outcome Interpretation  Laboratory Equipments_Not adequate  \\\n",
       "0                       Negative                                   0   \n",
       "1                       Positive                                   1   \n",
       "2                       Positive                                   1   \n",
       "3                       Positive                                   1   \n",
       "4                       Positive                                   1   \n",
       "\n",
       "   Doctor to Patient_high  Doctor to Patient_low  \n",
       "0                       1                      0  \n",
       "1                       0                      1  \n",
       "2                       0                      1  \n",
       "3                       0                      1  \n",
       "4                       0                      1  "
      ]
     },
<<<<<<< HEAD
     "execution_count": 158,
=======
     "execution_count": 42,
>>>>>>> ae3f2fa09079df83c2ab490d59f40c7bfcc92401
     "metadata": {},
     "output_type": "execute_result"
    }
   ],
   "source": [
    "df.head()"
   ]
  },
  {
   "cell_type": "markdown",
   "id": "289204dd",
   "metadata": {},
   "source": [
    "## Complicated/ Uncomplicated Malaria Diagnosis Column"
   ]
  },
  {
   "cell_type": "code",
<<<<<<< HEAD
   "execution_count": 159,
=======
   "execution_count": 43,
>>>>>>> ae3f2fa09079df83c2ab490d59f40c7bfcc92401
   "id": "1823127c",
   "metadata": {},
   "outputs": [],
   "source": [
    "df['Complicated/ Uncomplicated Malaria Diagnosis'] = df['Complicated/ Uncomplicated Malaria Diagnosis'].map({\"Uncomplicated\":0,\"Complicated\":1})"
   ]
  },
  {
   "cell_type": "markdown",
   "id": "88e3d7c3",
   "metadata": {},
   "source": [
    "## Location (Urban/ Rural Area) Columns "
   ]
  },
  {
   "cell_type": "code",
<<<<<<< HEAD
   "execution_count": 160,
=======
   "execution_count": 44,
>>>>>>> ae3f2fa09079df83c2ab490d59f40c7bfcc92401
   "id": "39263c16",
   "metadata": {},
   "outputs": [],
   "source": [
    "df['Location (Urban/ Rural Area)'] = df['Location (Urban/ Rural Area)'].map({\"Rural\":0,\"Urban\":1})"
   ]
  },
  {
   "cell_type": "code",
<<<<<<< HEAD
   "execution_count": 161,
=======
   "execution_count": 45,
>>>>>>> ae3f2fa09079df83c2ab490d59f40c7bfcc92401
   "id": "e13801ba",
   "metadata": {},
   "outputs": [
    {
     "name": "stdout",
     "output_type": "stream",
     "text": [
      "<class 'pandas.core.frame.DataFrame'>\n",
      "Index: 2120 entries, 0 to 2119\n",
      "Data columns (total 16 columns):\n",
      " #   Column                                                        Non-Null Count  Dtype  \n",
      "---  ------                                                        --------------  -----  \n",
      " 0   Pregnancies                                                   2120 non-null   int64  \n",
      " 1   Availability of Treated Net                                   2120 non-null   int64  \n",
      " 2   Season: Level of Rainfall-Stagnant water breeding             2120 non-null   int64  \n",
      " 3   High Rate of Mal  Infection (Lab Diagnosis)                   2120 non-null   float64\n",
      " 4   Malaria Parasite Density Fever- Rapid Diagnostic Test(Strip)  2120 non-null   int32  \n",
      " 5   Complaints/Symptoms                                           2120 non-null   int32  \n",
      " 6   Age                                                           2120 non-null   int64  \n",
      " 7   Outcome                                                       2120 non-null   int64  \n",
      " 8   Electricity                                                   2120 non-null   int64  \n",
      " 9   Environment - Sanitised or not                                2120 non-null   int64  \n",
      " 10  Complicated/ Uncomplicated Malaria Diagnosis                  2120 non-null   int64  \n",
      " 11  Location (Urban/ Rural Area)                                  2120 non-null   int64  \n",
      " 12  Malaria Outcome Interpretation                                2120 non-null   object \n",
      " 13  Laboratory Equipments_Not adequate                            2120 non-null   int32  \n",
      " 14  Doctor to Patient_high                                        2120 non-null   int32  \n",
      " 15  Doctor to Patient_low                                         2120 non-null   int32  \n",
      "dtypes: float64(1), int32(5), int64(9), object(1)\n",
      "memory usage: 240.2+ KB\n"
     ]
    }
   ],
   "source": [
    "df.info()"
   ]
  },
  {
   "cell_type": "code",
<<<<<<< HEAD
   "execution_count": 162,
=======
   "execution_count": 47,
>>>>>>> ae3f2fa09079df83c2ab490d59f40c7bfcc92401
   "id": "94fff959",
   "metadata": {},
   "outputs": [],
   "source": [
    "df.drop([\"Malaria Outcome Interpretation\"],axis = 1, inplace = True)"
   ]
  },
  {
   "cell_type": "markdown",
   "id": "111bed9b",
   "metadata": {},
   "source": [
    "### Heat map to visualize the correllation between the independent variable and the target value"
   ]
  },
  {
   "cell_type": "code",
<<<<<<< HEAD
   "execution_count": 163,
=======
   "execution_count": 48,
>>>>>>> ae3f2fa09079df83c2ab490d59f40c7bfcc92401
   "id": "cd2369c9",
   "metadata": {},
   "outputs": [],
   "source": [
    "correlation_matrix = df.corr()"
   ]
  },
  {
   "cell_type": "code",
<<<<<<< HEAD
   "execution_count": 164,
=======
   "execution_count": 49,
>>>>>>> ae3f2fa09079df83c2ab490d59f40c7bfcc92401
   "id": "3c5ec480",
   "metadata": {},
   "outputs": [
    {
     "data": {
      "image/png": "iVBORw0KGgoAAAANSUhEUgAABSMAAAQ4CAYAAADy0MlQAAAAOXRFWHRTb2Z0d2FyZQBNYXRwbG90bGliIHZlcnNpb24zLjkuMCwgaHR0cHM6Ly9tYXRwbG90bGliLm9yZy80BEi2AAAACXBIWXMAAA9hAAAPYQGoP6dpAAEAAElEQVR4nOzdd3hM2RvA8e9MepGKNJFKRO9WWb13FqutXnftsljlp/dVV1u9RG+rs6t3q65OBNEjEtKkSJ35/REmRhIJIgnez/PMw9x77p333HNyZ+bMKQq1Wq1GCCGEEEIIIYQQQgghPjFlVgcghBBCCCGEEEIIIYT4OkhjpBBCCCGEEEIIIYQQIlNIY6QQQgghhBBCCCGEECJTSGOkEEIIIYQQQgghhBAiU0hjpBBCCCGEEEIIIYQQIlNIY6QQQgghhBBCCCGEECJTSGOkEEIIIYQQQgghhBAiU0hjpBBCCCGEEEIIIYQQIlNIY6QQQgghhBBCCCGEECJTSGOkEEIIIYQQmcTLywuFQsH9+/cz7Jz3799HoVDg5eWVYef83FWtWpWqVatmdRhCCCGESIE0RgohhBBCiM+ar68vPXv2xNXVFUNDQ8zMzKhYsSKzZs3i5cuXWR1ehlm7di0zZ87M6jC0dOrUCYVCgZmZWYrX+vbt2ygUChQKBdOmTXvv8z958oTRo0dz6dKlDIj2wykUCvr06ZPivtcNzOfPn/9kr59droMQQgiREXSzOgAhhBBCCCE+1O7du2nZsiUGBgZ06NCBwoULExsby4kTJ/jtt9+4fv06ixYtyuowM8TatWu5du0a/fr109ru5OTEy5cv0dPTy5K4dHV1iYqKYufOnbRq1Upr35o1azA0NCQ6OvqDzv3kyRPGjBmDs7MzxYsXT/dx+/bt+6DXy64+9DoIIYQQ2ZE0RgohhBBCiM/SvXv3aN26NU5OThw6dAg7OzvNvp9++ok7d+6we/fuj34dtVpNdHQ0RkZGyfZFR0ejr6+PUpl1A44UCgWGhoZZ9voGBgZUrFiRdevWJWuMXLt2LQ0aNGDz5s2ZEktUVBTGxsbo6+tnyusJIYQQ4v3JMG0hhBBCCPFZmjJlChERESxdulSrIfI1d3d3+vbtq3keHx/PuHHjcHNzw8DAAGdnZ/73v/8RExOjdZyzszMNGzZk7969lC5dGiMjIxYuXMiRI0dQKBSsX7+e4cOH4+DggLGxMS9evADgzJkz1K1bF3Nzc4yNjalSpQonT55MMx/bt2+nQYMG2NvbY2BggJubG+PGjSMhIUGTpmrVquzevZsHDx5ohj07OzsDqc8ZeejQIb799ltMTEywsLCgSZMmeHt7a6UZPXo0CoWCO3fu0KlTJywsLDA3N6dz585ERUWlGftrbdu25Z9//iE0NFSz7dy5c9y+fZu2bdsmSx8cHMzAgQMpUqQIpqammJmZUa9ePS5fvqxJc+TIEcqUKQNA586dNfl+nc+qVatSuHBh/vvvPypXroyxsTH/+9//NPvenDOyY8eOGBoaJst/nTp1sLS05MmTJ+nOa3rdvHmTFi1aYGVlhaGhIaVLl2bHjh2f7DpcuXKFKlWqYGxsjLu7O3/99RcAR48epVy5chgZGeHh4cGBAwe0Ynjw4AE//vgjHh4eGBkZYW1tTcuWLZPNa/p6OPqxY8fo2bMn1tbWmJmZ0aFDB0JCQjL46gkhhPiSSc9IIYQQQgjxWdq5cyeurq5UqFAhXem7devGihUraNGiBQMGDODMmTNMmjQJb29vtm7dqpXWx8eHNm3a0LNnT7p3746Hh4dm37hx49DX12fgwIHExMSgr6/PoUOHqFevHqVKlWLUqFEolUqWL19O9erVOX78OGXLlk01Li8vL0xNTenfvz+mpqYcOnSIkSNH8uLFC6ZOnQrAsGHDCAsL4/Hjx/zxxx8AmJqapnrOAwcOUK9ePVxdXRk9ejQvX75kzpw5VKxYkQsXLmgaMl9r1aoVLi4uTJo0iQsXLrBkyRJy587N5MmT03VtmzdvTq9evdiyZQtdunQBEntFFihQgJIlSyZLf/fuXbZt20bLli1xcXEhICCAhQsXUqVKFW7cuIG9vT2enp6MHTuWkSNH0qNHD7799lsArfIOCgqiXr16tG7dmvbt22NjY5NifLNmzeLQoUN07NiRU6dOoaOjw8KFC9m3bx+rVq3C3t4+zTxGR0fz/PnzZNsjIiKSbbt+/ToVK1bEwcGBIUOGYGJiwsaNG2natCmbN2+mWbNmGXodQkJCaNiwIa1bt6Zly5bMnz+f1q1bs2bNGvr160evXr1o27YtU6dOpUWLFjx69IgcOXIAiY3G//77L61btyZPnjzcv3+f+fPnU7VqVW7cuIGxsbFW3vr06YOFhQWjR4/Gx8eH+fPn8+DBA01jvRBCCJEmtRBCCCGEEJ+ZsLAwNaBu0qRJutJfunRJDai7deumtX3gwIFqQH3o0CHNNicnJzWg3rNnj1baw4cPqwG1q6urOioqSrNdpVKp8+XLp65Tp45apVJptkdFRaldXFzUtWrV0mxbvny5GlDfu3dPK93bevbsqTY2NlZHR0drtjVo0EDt5OSULO29e/fUgHr58uWabcWLF1fnzp1bHRQUpNl2+fJltVKpVHfo0EGzbdSoUWpA3aVLF61zNmvWTG1tbZ3std7WsWNHtYmJiVqtVqtbtGihrlGjhlqtVqsTEhLUtra26jFjxmjimzp1qua46OhodUJCQrJ8GBgYqMeOHavZdu7cuWR5e61KlSpqQL1gwYIU91WpUkVr2969e9WAevz48eq7d++qTU1N1U2bNk0zj2q1Wg2k+Th37pwmfY0aNdRFihTRKj+VSqWuUKGCOl++fJ/kOqxdu1az7ebNm2pArVQq1adPn052Dd48T0r179SpU2pAvXLlSs2213W3VKlS6tjYWM32KVOmqAH19u3bU7t8QgghhBYZpi2EEEIIIT47r4dGv+7dlZa///4bgP79+2ttHzBgAECyuSVdXFyoU6dOiufq2LGj1vyRly5d0gxHDgoK4vnz5zx//pzIyEhq1KjBsWPHUKlUqcb25rnCw8N5/vw53377LVFRUdy8eTNd+XuTv78/ly5dolOnTlhZWWm2Fy1alFq1ammuxZt69eql9fzbb78lKChIc53To23bthw5coSnT59y6NAhnj59muIQbUicZ/L1PJsJCQkEBQVhamqKh4cHFy5cSPdrGhgY0Llz53SlrV27Nj179mTs2LE0b94cQ0NDFi5cmO7XatKkCfv370/2+O2337TSBQcHc+jQIVq1aqUpz+fPnxMUFESdOnW4ffs2fn5+mvgz4jqYmprSunVrzXMPDw8sLCzw9PSkXLlymu2v/3/37l3NtjfrX1xcHEFBQbi7u2NhYZFiDD169NBaLKl3797o6uqmWK+EEEKIlMgwbSGEEEII8dkxMzMDEhvv0uPBgwcolUrc3d21ttva2mJhYcGDBw+0tru4uKR6rrf33b59G0hspExNWFgYlpaWKe67fv06w4cP59ChQ8ka/8LCwlI9Z2pe5+XNoeWveXp6snfvXiIjIzExMdFsz5s3r1a617GGhIRornVa6tevT44cOdiwYQOXLl2iTJkyuLu7J5t7EEClUjFr1izmzZvHvXv3tObHtLa2TtfrATg4OLzXYjXTpk1j+/btXLp0ibVr15I7d+50H5snTx5q1qyZbPvjx4+1nt+5cwe1Ws2IESMYMWJEiucKDAzEwcEhw65Dnjx5kg2RNjc3x9HRMdk2QGuOx5cvXzJp0iSWL1+On58farVasy+l+pcvXz6t56amptjZ2aVYzkIIIURKpDFSCCGEEEJ8dszMzLC3t+fatWvvdVx657RLaeXs1Pa97vU4depUihcvnuIxqc3vGBoaSpUqVTAzM2Ps2LG4ublhaGjIhQsXGDx48Dt7VGYkHR2dFLe/2TCVFgMDA5o3b86KFSu4e/cuo0ePTjXtxIkTGTFiBF26dGHcuHFYWVmhVCrp16/fe+X5XeWUkosXLxIYGAjA1atXadOmzXsdnx6v4x84cGCqvWtfN4pn1HVIrfzSU64///wzy5cvp1+/fpQvXx5zc3MUCgWtW7fOtPonhBDi6yKNkUIIIYQQ4rPUsGFDFi1axKlTpyhfvvw70zo5OaFSqbh9+zaenp6a7QEBAYSGhuLk5PTBcbi5uQGJDaQp9Zx7lyNHjhAUFMSWLVuoXLmyZvu9e/eSpU1vQ+rrvPj4+CTbd/PmTXLmzKnVKzIjtW3blmXLlqFUKrWGDb/tr7/+olq1aixdulRre2hoKDlz5tQ8z8gFUSIjI+ncuTMFCxakQoUKTJkyhWbNmmlWqs4orq6uAOjp6aVZH7LiOqQUQ8eOHZk+fbpmW3R0tNbK6G+6ffs21apV0zyPiIjA39+f+vXrf7IYhRBCfFlkzkghhBBCCPFZGjRoECYmJnTr1o2AgIBk+319fZk1axaApqFk5syZWmlmzJgBQIMGDT44jlKlSuHm5sa0adNSXFn52bNnqR77uufamz3VYmNjmTdvXrK0JiYm6Rq2bWdnR/HixVmxYoVWg9K1a9fYt2/fJ200qlatGuPGjWPu3LnY2tqmmk5HRydZr8tNmzZp5lJ87XWjaWoNY+9j8ODBPHz4kBUrVjBjxgycnZ3p2LEjMTExH33uN+XOnZuqVauycOFC/P39k+1/sz5kxXV4W0oxzJkzR2vI+JsWLVpEXFyc5vn8+fOJj4+nXr16GR6bEEKIL5P0jBRCCCGEEJ8lNzc31q5dy/fff4+npycdOnSgcOHCxMbG8u+//7Jp0yY6deoEQLFixejYsSOLFi3SDI0+e/YsK1asoGnTplo9vd6XUqlkyZIl1KtXj0KFCtG5c2ccHBzw8/Pj8OHDmJmZsXPnzhSPrVChApaWlnTs2JFffvkFhULBqlWrUhweXapUKTZs2ED//v0pU6YMpqamNGrUKMXzTp06lXr16lG+fHm6du3Ky5cvmTNnDubm5u8cPv2xlEolw4cPTzNdw4YNGTt2LJ07d6ZChQpcvXqVNWvWaHoVvubm5oaFhQULFiwgR44cmJiYUK5cuXfO6ZmSQ4cOMW/ePEaNGkXJkiUBWL58OVWrVmXEiBFMmTLlvc6Xlj///JNKlSpRpEgRunfvjqurKwEBAZw6dYrHjx9z+fJlIPOvQ0oaNmzIqlWrMDc3p2DBgpw6dYoDBw6kOmdlbGwsNWrUoFWrVvj4+DBv3jwqVapE48aNPzoWIYQQXwdpjBRCCCGEEJ+txo0bc+XKFaZOncr27duZP38+BgYGFC1alOnTp9O9e3dN2iVLluDq6oqXlxdbt27F1taWoUOHMmrUqI+Oo2rVqpw6dUrTKzAiIgJbW1vKlStHz549Uz3O2tqaXbt2MWDAAIYPH46lpSXt27enRo0ayeYb/PHHH7l06RLLly/njz/+wMnJKdXGyJo1a7Jnzx5GjRrFyJEj0dPTo0qVKkyePDlDGrA+1v/+9z8iIyNZu3YtGzZsoGTJkuzevZshQ4ZopdPT02PFihUMHTqUXr16ER8fz/Lly98rD+Hh4XTp0oUSJUowbNgwzfZvv/2Wvn37Mn36dJo3b84333yTYfkrWLAg58+fZ8yYMXh5eREUFETu3LkpUaIEI0eO1KTLzOuQmlmzZqGjo8OaNWuIjo6mYsWKHDhwINX5LufOncuaNWsYOXIkcXFxtGnThtmzZ3/SoeRCCCG+LAr1+8xKLYQQQgghhBDiq+Pl5UXnzp05d+4cpUuXzupwhBBCfMZkzkghhBBCCCGEEEIIIUSmkMZIIYQQQgghhBBCCCFEppDGSCGEEEIIIYQQQgghRKaQxkghhBBCCCGEEO/UqVMn1Gq1zBcphBBZ6NixYzRq1Ah7e3sUCgXbtm1L85gjR45QsmRJDAwMcHd3x8vLK1maP//8E2dnZwwNDSlXrhxnz57N+ODfII2RQgghhBBCCCGEEEJkc5GRkRQrVow///wzXenv3btHgwYNqFatGpcuXaJfv35069aNvXv3atJs2LCB/v37M2rUKC5cuECxYsWoU6cOgYGBnyobspq2EEIIIYQQQgghhBCfE4VCwdatW2natGmqaQYPHszu3bu5du2aZlvr1q0JDQ1lz549AJQrV44yZcowd+5cAFQqFY6Ojvz8888MGTLkk8QuPSOFEEIIIYQQQgghhMhkMTExvHjxQusRExOTYec/deoUNWvW1NpWp04dTp06BUBsbCz//fefVhqlUknNmjU1aT4F3U92ZiGEEEIIIYQQQgghsrndeh5Z8rrnhrVhzJgxWttGjRrF6NGjM+T8T58+xcbGRmubjY0NL1684OXLl4SEhJCQkJBimps3b2ZIDCmRxkghhBCfraz60JCRGsT5cP2Of1aH8VEKudsRdO3frA7jo1kXrsDjW9fSTpiN5clfmFu+D7M6jI+W3y3vF5OPJz5XsjqMj2LvUfSzzwMk5uNLuNd+7nmAxHxIncoeCrnb8ej2jawO46M55isoZZFNOOYrmNUhfHaGDh1K//79tbYZGBhkUTSZRxojhRBCCCGEEEIIIcRXS6GnyJLXNTAw+KSNj7a2tgQEBGhtCwgIwMzMDCMjI3R0dNDR0Ukxja2t7SeLS+aMFEIIIYQQQgghhBDiC1O+fHkOHjyotW3//v2UL18eAH19fUqVKqWVRqVScfDgQU2aT0EaI4UQQgghhBBCCCGEyOYiIiK4dOkSly5dAuDevXtcunSJhw8Tp7cZOnQoHTp00KTv1asXd+/eZdCgQdy8eZN58+axceNGfv31V02a/v37s3jxYlasWIG3tze9e/cmMjKSzp07f7J8yDBtIYQQQgghhBBCCPHVUupmzTDt93X+/HmqVaumef56vsmOHTvi5eWFv7+/pmESwMXFhd27d/Prr78ya9Ys8uTJw5IlS6hTp44mzffff8+zZ88YOXIkT58+pXjx4uzZsyfZojYZSRojhRBCCCGEEEIIIYTI5qpWrYparU51v5eXV4rHXLx48Z3n7dOnD3369PnY8NJNGiOFEEIIIYQQQgghxFdLoSezGGYmudpCCCGEEEIIIYQQQohMIY2RQgghhBBCCCGEEEKITCHDtIUQQgghhBBCCCHEV+tzWcDmSyE9I4UQQgghhBBCCCGEEJlCekYKIYQQQgghhBBCiK+WQk96RmYm6RkphBBCCCGEEEIIIYTIFNIYKYQQIkMoFAq2bduW1WEIIYQQQgghxHtR6iqy5PG1kmHaQgiRQTp16sSKFSsA0NPTI2/evHTo0IH//e9/6Op++bdbf39/LC0tszqMj2ZVqTSuA7piXrIwhva5Of/djwTsOJhl8ajVatavXs7+vbuIioyggGdhevzUH3uHPO887p9dW9m2eT2hIcE4u7jTrdcv5PPw1Erj432dNSuXcNvHG6VSiYurOyPGTcXAwECT5vzZU2xat5IH933R09OnUJFiDBkx4aPztfmfg6zZ/g/BoWG4O+elf9d2FMznmmLauw/9WLJ+Kzfv3ufpsyD6dm7D9w1ra6XZsucQW/cexv/ZcwBcHB3o0rIx5UsW/ehYX9u2+x82btlOcEgobi7O/NyzKwXy50s1/dET/7J89TqeBj4jj70d3Tu1p1zpUimm/ePPhezas48fu3XmuyYNNdsf+T1h0fKVXLtxk/j4eFydnejUvjUlihb54Hyo1WrWrF7Bvj3/EBkZgWfBQvz40y9p1qndO7ezZfMmQkKCcXFxo2fvn8jvUUCzf+6cmVy+eIHg4CAMDY3wLFiQjp274eiYV5Nm4YI/8b5xnQf37+OY15HZcxd+cD6yU74yytbde9iwdcerOubELz264PmOOnbkxCmWrVn/qo7Z0qNje74pXVKzv1rjlike17NTe1o3b5ItYwZ48Ogxi1as5vK1GyQkqHByzMOYoQOwyZVLk+b6TR+WrlqH9607KJVK3F2cmTJmmNb9631k5b22Z+fveRYYoHVM+47dad6q3VeZD6lT2acstu/6m41btmne9/r07EYBj/yppj964iReq9fxNCAQB3s7unfqQLkyKb/vzZw7n1179tG7exe+a9JIs33E2IncuXeP0NAwcpiaUrJ4Ubp16kBOa6v3iv1NUhbZpyyEeO3L/3YshBCZqG7duixfvpyYmBj+/vtvfvrpJ/T09Bg6dKhWutjYWPT19bMoyk/D1tY2q0PIEDomxry44sMjr82U/uvPrA6HrX+tY/fOzfzy61By29qxbtUyxo34jVkLvNDXT/kL0oljh1i+eB49+/Qnv4cnu7b9xdgRvzFn0SosLBIbjH28rzNu5CCat2xLt16/oKOjw/17viiVSb/Qnjp5lPmzp9GuYzeKFCtJQkICDx/c++g8HTh5htle6/mtZwcK5XNlw679/DpuOuvmTMLK3CxZ+ujYGOxtclGtQhlmL1+X4jlzW1vRu30LHO1sUAN/Hz7J4Mmz8Zo6Bte8Dh8d8+HjJ1mwxIt+P/WkQP58bNmxi8Ejx+G1YA6WFubJ0l/3vsn4qX/QrWM7vilTmkNHjzNywhQWzJyKi5N2I9aJU2fw9rmFtVXyD/fDxk4kj70d0yaMxsBAn83bdzN87CRWLf4Tqw9s/N/81wZ27dhGv/6DsLG1Zc0qL0aOGMq8BUtTvS8dP3qEJYsX8lOfX8hfwJMd27YwcsRQFixapqlT7u75qFq1Orly5yY8PJx1a1YycvgQlixbhY6OjuZctWrVwcfnJvfv3/2g+LNrvj7WoeMnmb90Bb/+2APP/O78tWM3g0ZNYOX8WSnWsWvePoybNpPuHdpSvkwpDh49wYiJU1j0xxRNHdu8YpHWMWf+u8TUOfOpXOGbbBuzn/9Tfhkygno1q9OpzfcYGxtx/+Ej9PWSyvD6TR8Gj55A2xbN+LlnV3SUSnzvP0Ch/PBBX1l5rwVo3b4Lteo00Dw3Mjb+KvMhdSr7lMXhYydYsGQ5fX/qhadHfjZv38mQkWNZvnAulhYWydJf977JhCkz6NqxPd+ULc2hI8cZNeF35s+chouzk3Y+/z2d6vtesaKFadPqO6ytLHkeFMzCpV6MnTSF2dN+f6/43yRlkX3KQojXZJi2EEJkIAMDA2xtbXFycqJ3797UrFmTHTt20KlTJ5o2bcqECROwt7fHw8MDgEePHtGqVSssLCywsrKiSZMm3L9/X3O++Ph4fvnlFywsLLC2tmbw4MF07NiRpk2batJUrVqVX375hUGDBmFlZYWtrS2jR4/WimvGjBkUKVIEExMTHB0d+fHHH4mIiNDs9/LywsLCgr179+Lp6YmpqSl169bF399f6zzLli2jUKFCGBgYYGdnR58+fTT73h6mnVbejhw5QtmyZTExMcHCwoKKFSvy4MGDD7/4GeTZ3mPcGjWTgO0HsjoU1Go1u7b/RYvvf6Bs+Uo4u7jxy4ChBAc/5+ypE6ket3PrJmrVbUCNWvVwzOtMzz79MTA05NC+vzVpli2eS/3GzWneqh15nVxwyJOXit9WQ+/Vl7OEhHiWLpxDhy69qFO/CfYOjjjmdabit9U+Ol/rd+6jcc3KNKz+LS6ODgzq2QEDA312HTyeYvqC7q706fg9tSqVQ08v5d9RK5UpToVSxXC0tyWvvS292n2HkaEh12/5fnS8AH9t20n9OjWpW7M6znkd6fdjTwwMDNizP+Ves1t27KZMyRJ837wpTo556Ny+DfncXNi26x+tdM+CgpizcAn/G9AXXV3thq2wsBf4PfGndYtmuLk4k8fenu4d2xMdE8O9Bw8/KB9qtZod27bSqnU7vilfARcXV34dMJjgoCBOnzqZ6nHbtm6mTt161Kxdl7x5nfixT18MDAzYv2+vJk3deg0oXKQoNja2uLvno32Hzjx/9ozAN3qE9Oz1Ew0aNcHW1u6D4s+u+coIm7bvokHtGtSrWQ3nvI70/7EHhgb6/HPgUIrpN+/cTdmSxWndvAlOjnno0r41+Vxd2bp7jyaNlaWl1uPkmXMUL1IIe1ubbBvz0tXrKFeqBL06/0A+Nxcc7GypWK6MVkPUn0tW0Lxhfdq2aIZLXkfy5nGgWqUK6OvpfVA+svJe+5qRkRGWVtaah6Gh0VeZD6lT2acsNm/bQf06tahbqwZOeR3p91OvNN73dlGmVAm+/64ZTo6OdP6hLe5urmzf9bdWuufPg5i7cAlDB/6a7H0PoEXTxhQs4IFN7twU8ixA65bN8fa5RXx8/HvF/5qURfYpi+xOoafIksfXShojhRDiEzIyMiI2NhaAgwcP4uPjw/79+9m1axdxcXHUqVOHHDlycPz4cU6ePKlpBHx9zOTJk1mzZg3Lly/n5MmTvHjxIsV5GVesWIGJiQlnzpxhypQpjB07lv3792v2K5VKZs+ezfXr11mxYgWHDh1i0KBBWueIiopi2rRprFq1imPHjvHw4UMGDhyo2T9//nx++uknevTowdWrV9mxYwfu7u4p5jutvMXHx9O0aVOqVKnClStXOHXqFD169ECh+HrfkFMS8NSf0JBgihVPGlZjYmJKPo+C+Ny8keIxcXFx+N7xoegbxyiVSooWL6U5JjQ0hNs+3pibWzJ0wE90bteM4YP74n39iuaYu3duExz0HIVSyYCfu9GlfXPGjRzEg4/szRYXF4+P731KFy2kFV+ZogW5duvOR537tYQEFftPnCE6OobCHm4ffb64uDhu3fGlZLGkId9KpZKSxYtyw+dWisfcuHmLUsW1h4iXLlGcGzd9NM9VKhW/z5hNq+ZNcHZKPuTXzCwHjg727D90lJfR0SQkJLBrzz4sLMzJ7/5h+Qp4+pSQkGCKFy+h2WZiYkJ+jwLc9E69Tt25c4tixZOGPSqVSooXL5lqPYyOfsmB/XuxsbUlZ85cKabJSJ97vhLr2F2tOqNUKilZrCjXb76jjhXTrmNlShZLNX1wSCinz1+gfq3q2TZmlUrF6fMXyGNvz2+jxtPsh670HjiUE6fPatKHhIbhfes2Fhbm9Bk0jOY/dKPv0JFcveH9wXnJynvta1s3raVD68YM+Lkb2zavJyHh/b/sf+75kDqV3crCl5LFi2nFUrJ4Ua33sTfduOmjlR6gTMni3Hij7BLf92am+r73thfh4Rw8coyCnh4fPOWRlEWi7FAWQrxJapEQQnwCarWagwcPsnfvXn7++WeePXuGiYkJS5Ys0QwXXL16NSqViiVLlmga4ZYvX46FhQVHjhyhdu3azJkzh6FDh9KsWTMA5s6dy99//53s9YoWLcqoUaMAyJcvH3PnzuXgwYPUqlULgH79+mnSOjs7M378eHr16sW8efM02+Pi4liwYAFubomNHH369GHs2LGa/ePHj2fAgAH07dtXs61MmTIp5n/Dhg3vzFvp0qUJCwujYcOGmtfz9PRM8VwAMTExxMTEaG370DmcPiehIcEAmFtqD52xsLAk5NW+t4W/CEOlUmFhkfwYv0eJvekCnj4BYMNaLzp27Y2LqztHDu5l1P8GMHPecuwd8iSlWeNF5+4/kju3LTu2bmTk0H7MXbSaHDmSD6dOV57Cw0lQqbCy0D7eytycB35PP+icr/k+eESP/00gNjYOI0MDJg3qg4vjxw/RDnsRjkqlwtLSQmu7pYU5jx77pXhMcGhosiGFlhYWBIeGap6v37wNHaUOzRs1ICUKhYKp40czcsJkGrVqj0KhwNLCnN9HDyeHqekH5eV1vbF4a4h3Yp0KSfGYF6/q1NtzwlpYWPL40SOtbbt37cBr2WKio6NxyOPIuAmT0fvAnkXv43PPl6aOJasz5jz0e786FhISmmL6vYeOYmxkSOXy5bJtzKFhYbx8Gc26zdvo0r41PTu24+yFS4ycNI0ZE0ZRvHAh/J8m9khdsW4jvTp3wN3FmX2HjzJg+FiWzZ1BHvv373WblfdagAaNv8PVLR+mOczw8b7Gaq/FhAQH0bn7T19VPqROfQ5lYZHq+15ISGiyIcMWFhYEhybdg9f/tRUdHR2aNW7IuyxevpLtu/4mOiYGT4/8jB81LF1xp0TK4nXsWV8W2d3XvJhMVpDGSCGEyEC7du3C1NSUuLg4VCoVbdu2ZfTo0fz0008UKVJEa96yy5cvc+fOHXLkyKF1jujoaHx9fQkLCyMgIICyZctq9uno6FCqVClUKpXWMUWLavcKsLOzIzAwUPP8wIEDTJo0iZs3b/LixQvi4+OJjo4mKioK41fz1hgbG2saBt8+R2BgIE+ePKFGjRrpug5p5a127dp06tSJOnXqUKtWLWrWrEmrVq2ws0v5A/+kSZMYM2aM1rZRo0aRclPo5+vo4f0snDtd83zY6E8zJ49apQagdr1G1KhVDwBXt3xcvXyBQ/v/pn2nHqjUiWlafN+e8hWrANDn18F079CSf08coU69xp8kto+R196OFdPGEBH1ksOnzjF+7hL+HDskQxokM9qtO75s2bGbBTOnptojWK1WM3vBYizMzZj5+3j09fX5Z98Bho+bxLwZU7C2SnvOyCOHD/LnnJma5yPHjM+oLKSoarUalChRkuDgYLZu2cTkSeOZMm1mhs+R+6Xm61P658Ahalb5NlvHrHp1b6pQrjQtXy3k5O7qwvWbPuz8Zz/FCxfS3Jsa1qlFvZqJ00bkc3PhwuWr/LP/EN07pr0oRHa61wI0btZKc4yzixu6unosmDud9p26Jxvu+aYvJR+fktSp7FMWt+74snXHLubPmp7mSJhWzZtSr3YNAgKfsXLdBibPmM2EUcPSNYJGyiJtmVUWQryLNEYKIUQGqlatGvPnz0dfXx97e3utYQwmJiZaaSMiIihVqhRr1qxJdp5cud5v+N/bPXQUCoWmwfL+/fs0bNiQ3r17M2HCBKysrDhx4gRdu3YlNjZW0xiZ0jnUrz6gGxm939w26cnb8uXL+eWXX9izZw8bNmxg+PDh7N+/n2++Sb6wwtChQ+nfv7/WNgMDAw5MSHkxk89V2XIVyf/GKo1xcXEAhIUEY2VlrdkeGhqCi2vKQ+RzmJmjVCoJDdX+tT80NASLV70CLF+dy9FRexJzB0cnnj1LbIC2tHyVJm9SGj09fWxs7Xn+RkP3+7LIkQMdpZLg0Bda24PDwpL1lnxfenq65LFLnAuvgJsz3nfus3H3fgb36vRR5zU3y4FSqUzW4ywkNAyrt3pLvmZlYUFIaNhb6UOxetVT4ep1b0LDwmjTpadmv0qlYsGyFWzesYu1Sxdw8cpVTp/7j23rVmDy6u80v3sP/rt0mX0HD9OmZfM0Yy9brrzWytCv61RoSEiyOuXqmvLQb7NXdertHoahoSFYvtUgamJigomJCfYOefAo4EmbVs059e8JqlTNmKHBr31p+dLUsWR1JkxTZ96WWh17uwcvwJXr3jzye8LIQb9mSLzwaWI2N8uBjo4Ozo6OWmny5snD1Rs3AbB+ldbZUXsV3LyODgQ8f56u2LPTvTYl+Tw8SUhIIDDgKQ55Uh8++aXk4zWpU59DWaR8jwGwtLQg5I3e/4mxh2L1arGXq9dvEBoWRtvO3TX7VSoVC5d6sWX7TtYsS1pwy9zcDHNzM/I4OJDXMQ9tOnXH+6YPBT0LkBYpi+xTFkK8i8wZKYQQGcjExAR3d3fy5s2b5nwqJUuW5Pbt2+TOnRt3d3eth7m5Oebm5tjY2HDu3DnNMQkJCVy4cOG9Yvrvv/9QqVRMnz6db775hvz58/PkyZP3OkeOHDlwdnbm4MGUJ8p+37y9VqJECYYOHcq///5L4cKFWbt2bYrnMzAwwMzMTOvxJQ7TNjI2xs4+j+bhmNcZC0srrlxOKvOoqEhu+9zAo0DBFM+hp6eHm7sHVy4lHaNSqbhy6T/NMbltbLGyzomfn/ZQVH+/R+TKndiY55YvP3p6evg9TkoTHx9PYOBTTZoPoaeni4ebM/9dTZqnSaVScf6KN4Xzp/yl4EOp1Cri4j5+knU9PT3yu7tx8crVpHOrVFy8fIWCHvlTPKZggfxcuKw9b9R/l65QsEDi4lU1q1Vh8ZwZLJo9XfOwtrKiVbPGTB4zAoDoV1MTKN/qfaBQKjU9edJibGyMvb2D5pE3rxOWllZcvnxRkyYqKpJbPjcp4Jl6nXJ3z8+VN45RqVRcvnQx1XqYSI0ateaLYEb60vKVWMdcuXBZu45duHKVQgXeUcfeqJOQWMdSSv/3/oPkd3fF3cU5W8esp6dHgXxuPHprSO7jJ0+wyZ0TAFub3OS0suSRn/b72GM/f2zS+UNedrrXpuTe3TsolUrMzd/d+/lLycebsUidyk5l4ab1Ppb4vndV8z72toIFPLh46a33vYuXKfiqLGpWq8KiOX+wcPYMzcPayoqWzZvw+9hRqcbyundrbDrfz6Ussk9ZfG4UOooseXytpDFSCCGySLt27ciZMydNmjTh+PHj3Lt3jyNHjvDLL7/w+PFjAH7++WcmTZrE9u3b8fHxoW/fvoSEhLzX0Ah3d3fi4uKYM2cOd+/eZdWqVSxYsOC94x09ejTTp09n9uzZ3L59mwsXLjBnzpwPytu9e/cYOnQop06d4sGDB+zbt4/bt2+/c97IzKJjYoxZsQKYFUv8xdfYJQ9mxQpg6Jixq/+mh0KhoGGTFvy1fhVnT5/kwf27zJ4+ESurnJQtX0mTbtT/+vP3zi2a542ateTA3l0cPrCHxw8fsPDPP4iJjqb6q2FECoWCJs2/5+8dW/j3xBH8nzxm7aql+D1+SM3a9QEwNjahdv3GrF+znEsXzuH3+CEL/5wBQIVKVT8qX60b1WbHgaP8ffgE9x8/YeqilUTHxNCwemKexs5ezPzVmzTp4+LiuXXvIbfuPSQ+PoFnQSHcuveQx/5JqxnPX72Ji9d98A98ju+DR5rntSuX/6hYX2vRtBG79x5g78HDPHj0mJnzFhEdHUOdmok9436fMZslK1Zr0jdv3IBzFy6xcesOHj56zIq1G7h1x5emDRPLwNwsBy5OebUeuro6WFla4pgncVh5IQ8PTE1MmPzHHHzv3eeR3xMWLlvB04BAvilTKnmQ6aBQKGjctBkb1q/lzOl/uX/vHjOmTcHK2ppvylfUpBs29Dd27dymed602Xfs3fM3Bw/s49HDB8z7czbRMdHUrFUHgKf+/mzasI47t28RGBiI943r/D5xHAb6+pQukzTVxJMnftz1vUNISDCxMbHc9b3DXd87H92wl9X5yggtmzRk176D7Dl4hAePHvPH/MVER8dQt0bisNGJf8xh8Yqk3ubfNWrA2QuX2Lh1Jw8f++G1diM+d3xp1qCu1nkjo6I4evI0DWqlb5qNrI75+2aNOXziX3btPYDfE3+27vqHf8/+R9P6iWWiUCj4vlkTtuz6m6MnT+H3xJ9lq9fz0M/vgxfnycp7rY/3dXZu28S9u3d46v+Eo4f3s3zxn1SuVgvTt6Y6+RryIXUq+5TFd00b8/fe/ew7eIgHjx4xa95CoqOjqVsz8V7y+/RZLPFapUnfvHFDzl24yKYt2xPf99as59YdX5o0TIzL3MwMF2cnrcfb73vePrfYtvNv7ty9R0BgIBcvX2Hi1BnY29lS0DPlhjcpi8+nLIR4kwzTFkKILGJsbMyxY8cYPHgwzZs3Jzw8HAcHB2rUqIGZWeJw1cGDB/P06VM6dOiAjo4OPXr0oE6dOujo6KT7dYoVK8aMGTOYPHkyQ4cOpXLlykyaNIkOHTq8V7wdO3YkOjqaP/74g4EDB5IzZ05atGjxQXl7+fIlN2/eZMWKFQQFBWFnZ8dPP/1Ez549UzxfZjIvVZjyB5M+0BWc9j8AHq3cwpWuQzM9nmYt2hATHc2COdOIjIzAs2ARRoybgr5+Us/Qp/5+vHiRNHynUuXqvAgLZd3q5YSGBOPi6s6IsVM0Q4sAGjVtSVxsLMsX/0lEeDjOLm6MGj8NW7uk+RU7dumNjlKHWdMnEhsTQz4PT8ZMnPHeX5DfVrNiOULDwlm8fhvBoWHkc8nLjOH9sXo1OXvA8yCt3oDPQ0LpNDDpl/q1O/awdsceShTy4M+xQwAICQtn3JzFBIWEYWJshLuTI3+MGEDZYoXICNW+rUhYWBhea9YTEhKKm6sLv48ZrhmmHfjsudaPBIU8CzBsYD+WrV7HspVrcLC3Y+ywQbikY8XK18zNzfh9zHCWrVrLgGGjSIhPwCmvI2OHDcbtI3q4fdfie6Kjo5k7ZyaREREULFSYMWMnac0l+NTfnxdhSUPpv61SlbAXoaxZtYKQkMShz2PGTtQs/qKnr8f161fZsX0LERERWFhYUqhwEaZMn4WFRVLvjzmzZnDtalJvjb4/9wZgyfJV2NjYfnCesjpfGaH6txUJC3uB19oNBIeE4ubqzOTRw7Tq2Jt/F4U9PRg+oC/L1qxjyaq1ONjbMe5/yevYoWMnUavVVK9ckYz2KWL+tnw5fu3dg7V/bWXO4mU4OtgzZshAihRM+rGqRZMGxMbF8ufSFYSHR+Dm4sS0sSNwsPvwOpRV91pdPT1OHDvEhrVexMfFkdvGjkZNW9K4WcuvMh9Sp7JPWVSrXCmxLFavJyQkBDdXFyaNHakZGhz47BlKpfb73v9++5Xlq9aybOVqHOztGDNsCC7OTqm8QnIGBgacOHWKFWvXER0dg7WVJaVLlmDE9wPR/4hFw6Qssk9ZZGfKr7iXYlZQqNXpHOcjhBAiy6lUKjw9PWnVqhXjxo3L6nCy3G69z/+X2QZxPly/45/VYXyUQu52BF37N6vD+GjWhSvw+Na1rA7jo+TJX5hbvg+zOoyPlt8t7xeTjyc+V9JOmI3ZexT97PMAifn4Eu61n3seIDEfUqeyh0Ludjy6fSPthNmcY76CUhbZhGO+d01zkr2dKFYyS1630uX3m4LrSyE9I4UQIht7PYS5SpUqxMTEMHfuXO7du0fbtm2zOjQhhBBCCCGE+CIolNIzMjPJnJFCCJGNKZVKvLy8KFOmDBUrVuTq1ascOHAgW8ytKIQQQgghhBBCvC/pGSmEENmYo6MjJ0+ezOowhBBCCCGEEEKIDCGNkUIIIYQQQgghhBDiq6XQkYHDmUmuthBCCCGEEEIIIYQQIlNIz0ghhBBCCCGEEEII8dVS6sgCNplJekYKIYQQQgghhBBCCCEyhTRGCiGEEEIIIYQQQgghMoUM0xZCCCGEEEIIIYQQXy2FUoZpZybpGSmEEEIIIYQQQgghhMgU0jNSCCGEEEIIIYQQQny1ZAGbzCU9I4UQQgghhBBCCCGEEJlCekYKIYQQQgghhBBCiK+WQnpGZirpGSmEEEIIIYQQQgghhMgU0hgphBBCCCGEEEIIIYTIFAq1Wq3O6iCEEEIIIYQQQgghhMgK/1WrmCWvW+rwySx53awmc0YKIYT4bF2/45/VIXy0Qu527NbzyOowPkqDOB+GLYvJ6jA+2oQuBrQf9iSrw/goqyfYc+FWUFaH8dFK5rfG79bVrA7joznkL8JdX9+sDuOjuLq5UanR0awO46Od2FmFv40LZHUYH6V+1M3PPg+QmA+pU9lD/aibVGt1JqvD+GiHN5aTssgmDm8sl9UhiM+ENEYKIYQQQgghhBBCiK+WQikL2GQmmTNSCCGEEEIIIYQQQgiRKaQxUgghhBBCCCGEEEIIkSlkmLYQQgghhBBCCCGE+GopdWSYdmaSnpFCCCGEEEIIIYQQQohMIT0jhRBCCCGEEEIIIcRXSxawyVzSM1IIIYQQQgghhBBCCJEppGekEEIIIYQQQgghhPhqKZTSVy8zydUWQgghhBBCCCGEEEJkCmmMFEIIIYQQQgghhBBCZAoZpi2EEEIIIYQQQgghvlqygE3mkp6RQgghhBBCCCGEEEKITCGNkUKI93L//n0UCgWXLl0C4MiRIygUCkJDQ9N9jqpVq9KvX793pnF2dmbmzJma5wqFgm3btqUYQ2YbPXo0NjY2WjF9SbL6+gohhBBCCCFEZlLqKLLk8bWSYdpCfIFOnTpFpUqVqFu3Lrt3787Qczs6OuLv70/OnDkz9LxvO3fuHCYmJumK4ciRI1SrVo2QkBAsLCw+aVze3t6MGTOGrVu38s0332Bpaam1f/To0YwZM+ad51Cr1Rke1/3793FxceHixYsUL148w8//tqpVq3L06FHWrVtH69atNdtnzpzJzJkzuX//frrPpVAo2Lp1K02bNs3QGNVqNetXL2f/3l1ERUZQwLMwPX7qj71Dnnce98+urWzbvJ7QkGCcXdzp1usX8nl4aqXx8b7OmpVLuO3jjVKpxMXVnRHjpmJgYKBJc/7sKTatW8mD+77o6elTqEgxhoyYkKF5fBerSqVxHdAV85KFMbTPzfnvfiRgx8FMe/0PUaOEDmU8dDDUhweBanb8G0/Qi3f/vZgZQ53SuuTPo0RPF4JeqNlyPB6/oIz/O0vNdzVyUK2MMcaGSm49iGX5jlACghJSTf/HwNzkskz+EWz/6UhW7AwDwNxUSZu6ZhR2N8DQQMHT5/FsPxLBuevRGR6/Wq3mrzVLOLRvB5GR4Xh4FqXLj79hZ++Y6jHe1y6ya8ta7vr6EBr8nP7/m0SZ8lU0++Pj49m4eiGXzp8i8OkTjExMKVKsNK079sbKOtdHx7xt9z9s2LKD4JBQ3Fyc+LlnVzzz50s1/ZET/7J89XqeBj4jj70d3Tu155vSJbXSPHj0mEVeq7ly7QYJCQk4OeZh9NCB2OTOxYvwcLzWbuT8xcsEPnuOhZkZFb8pQ+f2rTFN5b3qbTt37uSvzZsJCQnB1cWF3r174+HhkWr648ePs3LVKgICAnCwt6dzly6ULVNGs1+tVrNq9Wr27NlDZGQkBQsWpM9PP+Hg4KBJs279es6dO8fdu3fR1dXlr02bkr1Ovfr1k20bPHgwVatUSbb9U6hcPidN69nh4ZYDczM9Ov1ynjv3IjPltd/FqWdbXPp1xcAmJ+FXb3J9wHjCzl9NMa1CVxe333rg0K4phvY2RN66x80R03i+/0RSIqWSfMP74NC6MQY2OYn2D8Rv9Vbu/D5f8pHBpE59+rLo3MqBBjVyY2qiy7Wb4fyx5B5+T2NSTW9kqKTL93moVNYKS3M9bt+LZK7XA3x8k8pl8I+u1K2q/f5w9lIogyf6ZHj8UhbZpyzE10t6RgrxBVq6dCk///wzx44d48mTJxl6bh0dHWxtbdHV/bS/ZeTKlQtjY+MsjSElvr6+ADRp0gRbW1utxieAgQMH4u/vr3nkyZOHsWPHam17U2xsbKbFntEMDQ0ZPnw4cXFxWR1Kirb+tY7dOzfT66f+/D5jPgaGRowb8Ruxsal/QDtx7BDLF8+jVdtOTJu9GGcXN8aO+I3Q0BBNGh/v64wbOYjiJUoz+Y/5TJm5gHqNmqF8Y56ZUyePMnv6RKrXqsuMuUuZOG0u31at+Unz+zYdE2NeXPHh2i/vbhzPLr4tokP5gjps/zee+TvjiItT06mOHro6qR9jqA89GuiToIIV++KYtSWWf87G8zI28xoiG35rSu3yJizbHsao+c+IiVMxuJM1eu+4PY2c95yfJj3VPCYtew7A2WsvNWl6tbDALpcuM1YHM3T2M85dj+bn1pY42WX8fW/n5tXs2bWJrj/+xrhpSzAwNOT3kb++828lJjqavC7udOk1IMX9sTHR3PO9RbPvOzNx5nL6D53IE7+HTBs/+KPjPXz8JPOXrKBDm5YsnDkFNxdnBo8cT0hoWIrpr3nfZPzUmdSrXYNFs6ZS8ZsyjJwwhXsPHmrS+Pk/pe/g4eTN48CMiaNZPGc67Vu3QF9fH4Cg4BCCgoLp1aUDS+fOYFC/nzh34RLTZqfvi+bRo0dZtHgx7dq2Zc6cObi4ujJ8xIhURxXcuHGD3ydPpk7t2sydM4fy5cszbtw4rR96Nv31Fzt27ODnPn2Y+ccfiffkESO03lfi4+P5tlIlGqTQ4Pim/r/+yprVqzWPCuXLpytfGcHIUMmVGy+Yv+Jupr1mWuy+q0eB34dwZ+KfnKzQnBdXfSi7fQn6uaxSTJ9/VF/ydv2eGwPGc6xkAx4uXU+p9XMxK5b0Q5bbgO44dWvD9f7jOFaiAT7Dp+P6azecev8g+chgUqc+bVm0bmJH83q2/LH4Pj/+7xrRMSqmDCuAnl7qPbx+6+VK6aLmTJrrS5cBVzh/JYxpIwqQ01JPK92Zi6E0735B8xg3606Gxy9lkX3KQnzdpDFSiC9MREQEGzZsoHfv3jRo0AAvLy/NvrZt2/L9999rpY+LiyNnzpysXLkSgD179lCpUiUsLCywtramYcOGmgY4SHsIb1BQEG3atMHBwQFjY2OKFCnCunXrkqWLj4+nT58+mJubkzNnTkaMGKHVY/DtYdpvejOG+/fvU61aNQAsLS1RKBR06tSJlStXYm1tTUyM9pfppk2b8sMPqX8wuHr1KtWrV8fIyAhra2t69OhBREQEkNjrsVGjRgAolUoUiuRv9Kamptja2moeOjo65MiRQ/O8devW9OnTh379+pEzZ07q1KkDwLVr16hXrx6mpqbY2Njwww8/8Pz5c8150yoXFxcXAEqUKIFCoaBq1aqafUuWLMHT0xNDQ0MKFCjAvHnztGI+e/YsJUqUwNDQkNKlS3Px4sVUr8+b2rRpQ2hoKIsXL35nuu3bt1OyZEkMDQ1xdXVlzJgxxMfHA4nlDNCsWTMUCoXm+cdSq9Xs2v4XLb7/gbLlK+Hs4sYvA4YSHPycs6dOpHrczq2bqFW3ATVq1cMxrzM9+/THwNCQQ/v+1qRZtngu9Rs3p3mrduR1csEhT14qflsNPb3ERouEhHiWLpxDhy69qFO/CfYOjjjmdabit9UyJG/p9WzvMW6NmknA9gOZ+rofqmIhHY5cTsD7oYqAEDWbjsWTwwg886b+UaVyUR3CItVsORHP4+dqQiLgzhM1weGZF3fdiiZsPxLOBe9oHgXEs2BTKBY5dCjlaZjqMeFRKsIikh4lPAwJCIrH+15SI1K+vPrsOxXJ3cdxPAtJYPuRCCKj1bg46Gdo/Gq1mn92bKRZq06U/qYyTi7u/PjrSEKCn3P+9LFUjyteujzf/9BTqzfkm4xNTBk2bhblv62BfR4n8hUoTOee/bl35ybPA59+VMybtu2kfp2a1KtZHee8jvz6Yw8MDAz4Z/+hFNNv2fE3ZUsWp3XzJjg55qFL+zbkc3Nh265/NGmWrVpL2VIl6dn5B/K5ueJgZ0vFcmWwtDAHwMUpL2P+9xsVypbGwc6WksWK0OWHNpw6e56EhNR7wb62detW6tWtS+3atXHKm5ef+/TBwMCAffv2pZh++/btlC5VihYtWpA3b146dOiAm5sbO3fuBBLLbdu2bbRu3Zry5cvj4uLCwAEDCAoK4t9TpzTn+aF9e5o1a5bmvdXExAQrKyvN43UjbGbYezgQr/UPOH8pJO3EmcTll048Wr6Jx6u2EHHTl2s/jyLhZTR5OnyXYnqHtk3wnbqQZ3uP8fL+Yx4uXs+zvcdw+aWzJo3lNyUI2H2QZ3uO8vKhH0+37eX5wZNYlC4i+chgUqc+bVm0qG/Lqi1+nDwfwt2HL5k015eclvpUKmOZYnp9PQWVy1mxcPUjrniH8yQghhWb/HjyNIbGtW200sbFqwgJi9M8IiLTvr++LymL7FMW2Y1CqciSx9dKGiOF+MJs3LiRAgUK4OHhQfv27Vm2bJmmka9du3bs3LlT07gGsHfvXqKiomjWrBkAkZGR9O/fn/Pnz3Pw4EGUSiXNmjVDpVKl6/Wjo6MpVaoUu3fv5tq1a/To0YMffviBs2fPaqVbsWIFurq6nD17llmzZjFjxgyWLFny3vl1dHRk8+bNAPj4+ODv78+sWbNo2bIlCQkJ7NixQ5M2MDCQ3bt306VLlxTPFRkZSZ06dbC0tOTcuXNs2rSJAwcO0KdPHyCx1+Py5csBUuzlmF4rVqxAX1+fkydPsmDBAkJDQ6levTolSpTg/Pnz7Nmzh4CAAFq1aqUV27vK5fX1PXDgAP7+/mzZsgWANWvWMHLkSCZMmIC3tzcTJ05kxIgRrFixAkhsvG7YsCEFCxbkv//+Y/To0QwcODBd+TAzM2PYsGGMHTuWyMiUhz8dP36cDh060LdvX27cuMHChQvx8vJiwoTE4crnzp0DYPny5fj7+2uef6yAp/6EhgRTrHgpzTYTE1PyeRTE5+aNFI+Ji4vD944PRd84RqlUUrR4Kc0xoaEh3PbxxtzckqEDfqJzu2YMH9wX7+tXNMfcvXOb4KDnKJRKBvzcjS7tmzNu5CAe3M8+PTSyG8sckMNYge+TpPtMTBw8fqYmb+7UP6R5Oirxe66idTVdhrbR56cmepTOn3kfbXJZ6mCRQ4drvkk/eryMUeP7OJZ8edPXmKOjAxWLG3H0vyit7bcfxvJNESNMjBQoFPBNEUP0dMH7buq9FT9EYMATQkOCKFy8tGabsYkpbvkLcvvmtQx9raioSBQKBcamOT74HHFxcdy6c5dSxYpqtimVSkoVL8INn5SHj924eYuSxYtqbStTojjXb94CQKVScfr8BRwd7Bg0chzN23fhxwFDOHHqbEqn04iMjMLY2BgdnXd0330V8+07d7Sm0FAqlRQvXhzvmzdTPMb75k2Klyihta1UqVKa9E+fPiUkJIQSb5zTxMQEDw8Pbnp7vzOelMybP5/vW7emb79+7N2375NMJ/K5UOjpYVaiEEGH/03aqFbz/NApLMsVT/EYpb4+CdHaf5sJL6OxrJD0fhJy+iLWVctj4u4MQI4iHliWL8mzfak3+n+MLyUfX4IvqSzschtgbanPf1deaLZFvkzA+04EhfKnfG/X0VGgo6MgNk77u0RMrIoiBbSPKV7QjC2LS7JiZlH6dXPGzDRjRwNIWWSfshBCapQQX5ilS5fSvn17AOrWrUtYWBhHjx6latWq1KlTBxMTE7Zu3arpHbh27VoaN25MjhyJb0Dffaf9q+CyZcvIlSsXN27coHDhwmm+voODg1Zj1s8//8zevXvZuHEjZcuW1Wx3dHTkjz/+QKFQ4OHhwdWrV/njjz/o3r37e+VXR0cHK6vEYRW5c+fWmjOybdu2LF++nJYtWwKwevVq8ubNq9Vr8E1r164lOjqalStXauarnDt3Lo0aNWLy5MnY2Nhozm9ra/tecb4pX758TJkyRfN8/PjxlChRgokTJ2q2LVu2DEdHR27dukX+/PnTLJdcuRLndbG2ttaKbdSoUUyfPp3mzZsDiT0oXzcKduzYkbVr16JSqVi6dCmGhoYUKlSIx48f07t373Tl5ccff9Q0Jo8YMSLZ/jFjxjBkyBA6duwIgKurK+PGjWPQoEGMGjVKE7eFhcVHXdO3hYYEA2BuqT3kxsLCkpBX+94W/iIMlUqFhUXyY/weJQ7nDHiaOO3BhrVedOzaGxdXd44c3Muo/w1g5rzl2DvkSUqzxovO3X8kd25bdmzdyMih/Zi7aDU5cphlWD6/FDmMEhscI15qN4BERKsxNUq9MdIyh4KyBXQ4eT2Bo5fjyJNLQcNvdElQxXPxTvp+QPkYFjkSGz5fRGi/1osIFeam726geq20pyHGhkqOXdBujJyzPoQ+rS1ZONyO+AQ1sXFqZq4JISA4Y3smhL3+W3mr3ptbWGn+jjJCbGwM67zmUaFyLYyN0zfHYkrCXoSjUqmwtDTX2m5pYcHDx34pHhMcGorlW/MJW1qYE/JqiHRoWBgvX0az7q9tdG7fmh6d2nP2v0uMmjSVGRNGU6xIoeRxhL1g1Ya/aFgn7ekXXrx48Spm7Z4qlhYWPH70KMVjQkJCUojZgpCQEM1+IMVzvt6XXj+0b0+xYsUwMDTkwoUL/Pnnn0S/fEmTJk3e6zxfCv2clih1dYkJCNLaHhP4HFMPlxSPeX7gBC4/dyL4xHmi7j4kZ7Xy2Daplfhrwyu+0xahm8OEypf+Rp2QgEJHh1ujZ/Jkwy7JxxfuSyoLK4vEobwhYdpT9ISExWn2ve1ltIprPuH88J0DD/xeEhIaR/VK1hTMb4rf06R5kM9eCuX4mWD8A2OwtzWkWxtHfv+fB32GXUeVQb+PSFlkn7LIjhRK6auXmaQxUogviI+PD2fPnmXr1q0A6Orq8v3337N06VKqVq2Krq4urVq1Ys2aNfzwww9ERkayfft21q9frznH7du3GTlyJGfOnOH58+eanncPHz5MV2NkQkICEydOZOPGjfj5+REbG0tMTEyy+R+/+eYbrWHO5cuXZ/r06SQkJKTZyyS9unfvTpkyZfDz88PBwQEvLy86deqU4vBqSFycplixYloL51SsWBGVSoWPjw82NjYpHve+SpUqpfX88uXLHD58GFNT02RpfX19yZ8//weVS2RkJL6+vnTt2lWrkTc+Ph5z88Qv8t7e3hQtWhRDw6QhpeXfY64wAwMDxo4dy88//5xiA+bly5c5efKkpickJNaR6OhooqKiUp0X9G0xMTHJhty/OV/n0cP7WTh3uub5sNG/pzsP70P96hNY7XqNqFGrHgCubvm4evkCh/b/TftOPVC96lHU4vv2lK+YOIS1z6+D6d6hJf+eOEKdeo0/SWyfk2KuSppUTPoIsnL/h807qlCA33M1+/9LbKDzD1aT2yKBsgV0PkljZIViRnRpktQINm3lxzfWVSltzOXbMYSGa8fbomYOjA2VTFr6nPAoFaUKGvJza0vGLX7O44D4D369E0f2suTPpB9DBo2c9sHnSq/4+HhmTU6ciqPLj7998td7X6pXf9cVypWhZdPEqTjcXV24ftOHHXv2JWuMjIyKYujYiTg75qFj21bJzve5adu2reb/7m5uREdH89fmzZ+kMbJWldz89lN+zfOBo69y5UbKc31+Tm78NoHCf46jyqW/UavVRN19xONVW7SGfdp9Vw/71o241GkgEd53yFG0AAWn/C9xoYs127Iu+Dd8jvmQOvVpy6JmJWv690hqpBs66cMWMJk015dBvV35a2FJEhLU3LoXyaGTQeR3SfrMffjfpPfUe49ecvdBFGvnFqd4ITMuXHuR0mkzhZRF9ikL8WWRxkghviBLly4lPj4ee3t7zTa1Wo2BgQFz587F3Nycdu3aUaVKFQIDA9m/fz9GRkbUrVtXk75Ro0Y4OTmxePFi7O3tUalUFC5cON0LrUydOpVZs2Yxc+ZMihQpgomJCf369cuShVpKlChBsWLFWLlyJbVr1+b69esZvrr4h3h7lfCIiAhN78u32dnZAR9WLq+H4y9evJhy5cpp7cuoBl+A9u3bM23aNMaPH59sXrKIiAjGjBmj6Zn5pjcbQNMyadKkZKuUjxo1ipbtewJQtlxF8r+x4vXrRXXCQoKxsrLWbA8NDcHF1T3F18hhZo5SqSQ0VLuBKTQ0BItXPSwtX53L0dFJK42DoxPPngUmprF8lSZvUho9PX1sbO15HhiYzhx/2bwfqnj0LKnu6uok/kBgaqQg/I3ekaaGCvyDU29UDH8Jz0K1f6J/FqamsPOnmX/ngnc0vo/eiFs38XXMTJVajYlmpkoe+qfdwGptoUNhNwNmrtXuyZbbSofa5U0ZPCsQv8DEhseHTyPwcDKg1jcmLN/+4V+0S5WthHv+pMa1uLjE/ISFBmNplVOzPSw0GGfX1FenTq/EhsjhPA98yvAJcz6qVySAuVkOlEolISHa1yAkNBQrS4sUj7GysND0gkxKH6bpeWhulgMdHR2c8ubRSuPk6MDVG9rDqKOiXjJ41HiMjYwYO2xQuhZSMzMzexWzdjmHhIZiaZXyggmWlpYpxByq6Qn5+t+QkBDN6IDXadxcXdOM6V0KeHiwbt06YuPi0NdLuXfNhzpxNogbt85rnj8Lyn6LuMU+D0EVH4+BjbXWdoPcOYkJeJ7qMRe+74PSQB89awtingTiMW4AUfeSer4WmPgbd6cvxv+vxDmIw6/fwiivPW4De3ySRrwvJR9pkTr1acvi5PkQbtxOmt5JXy+x55iluR7BoUnvc5bmety5H5Xs+NeeBMTQb7Q3hgZKjI10CA6NY2Q/d/wDo1M9xj8whtAXcTjYGmZYA5iURfYpi+zoa56/MStIP1QhvhDx8fGsXLmS6dOnc+nSJc3j8uXL2NvbaxaRqVChAo6OjmzYsIE1a9bQsmVL9F592QgKCsLHx4fhw4dTo0YNPD0933u418mTJ2nSpAntXw37cnV15datW8nSnTlzRuv56dOnyZcv3wc1kr2eaD+lRQS6deuGl5cXy5cvp2bNmjg6OqZ6Hk9PTy5fvqw1/+HJkydRKpV4eHi8d1zpVbJkSa5fv46zszPu7u5aDxMTk3SVS0rXwMbGBnt7e+7evZvsvK8XvPH09OTKlStERyd9ADl9+vR7xa9UKpk0aRLz58/XWun1dd58fHySvb67uzvKV0Mh9PT00lwAYujQoYSFhWk9hg4dqtlvZGyMnX0ezcMxrzMWllZcuXxBkyYqKpLbPjfwKFAwxdfQ09PDzd2DK5eSjlGpVFy59J/mmNw2tlhZ58TPT3topb/fI3LlTuw565YvP3p6evg9TkoTHx9PYOBTTZqvXWw8BIcnPQJD1YRHqXG1T/pYYqAHeXIpeBiY+nighwEqcpprf3DMaaYgJOLTjCGKjlUTEJygefgFxhMankAh16ReukYGCtzy6HP7YdpfiKuUNOZFpIpLPtpfAPRfrYL59rR9KrWaVDp2p5uRsQm29nk0jzx5XbCwtOba5aQv81FRkfjeukG+Amn3hn+X1w2RT588Ytj4WeQwM0/7oDTo6emR392VC1euarapVCouXL5KwVTu0wUL5OfC5ata285fukyhAvk15/TI58ajx0+00jzy88fm1VQSkNgjctDIcejp6jJ++JB0L/Kip6dHPnd3Ll2+rBXzpUuX8CxQIMVjPAsUSLZQ3MWLFzXpbW1tsbS01DpnZFQUPj4+FPD05GP43r2LqalphjdEArx8mYCff7TmERv76adTeF/quDheXLyOddU3RgkoFFhX+4aQM5feeawqJpaYJ4EodHWxbVqbgN1JiyrpGBmhfnv+7QTVJxsW+KXkIy1Spz5tWbyMVvEkIEbzuP/4JUEhsZQskjTljLGRDp7uply/lfbqcdExKoJD4zA10aFMMXNOnkv9e0ZOK33MTHUJCsm4BmYpiyRZXRZCSM9IIb4Qu3btIiQkhK5du2qG4L723XffsXTpUnr16gUkDslasGABt27d4vDhw5p0lpaWWFtbs2jRIuzs7Hj48CFDhgx5rzjy5cvHX3/9xb///oulpSUzZswgICCAggW1G4AePnxI//796dmzJxcuXGDOnDlMnz49lbO+m5OTEwqFgl27dlG/fn2MjIw0Q57btm3LwIEDWbx4sWbF8NS0a9eOUaNG0bFjR0aPHs2zZ8/4+eef+eGHHzJsiHZKfvrpJxYvXkybNm0YNGgQVlZW3Llzh/Xr17NkyZJ0lUvu3LkxMjJiz5495MmTB0NDQ8zNzRkzZgy//PIL5ubm1K1bl5iYGM6fP09ISAj9+/enbdu2DBs2jO7duzN06FDu37/PtGnvP2yzQYMGlCtXjoULF2pdq5EjR9KwYUPy5s1LixYtUCqVXL58mWvXrjF+/HggcUXtgwcPUrFiRQwMDJLNgQaJQ7LfHJadFoVCQcMmLfhr/Srs7PNgY2vHulVLsbLKSdnylTTpRv2vP+XKV6J+o8Sem42atWTOjEm45/MgX35Pdm7/i5joaKq/GpKtUCho0vx7NqzxwtnFDRdXdw4f3Ivf44f89r/EnpvGxibUrt+Y9WuWkzNXbnLltmHb5sSpECpUqvp+F/Yj6JgYY+KeV/Pc2CUPZsUKEBscRvSjD1t86VM6eT2BasV0CApTExKhpmZJHcJfJvaifK1LXT1uPEjgtLdKc0zPhnpUKarD1XsJ5MmlpIyHDttOfvgw5ve152QkTavlICAonsCQBFrUzEFoeAL/eSc1MA7tYs35Gy/Zfzqpp4JCAZVLGnH8QhRvf3/xfxbP0+fxdGlizto9L4iIUlHK05DCbgZMX5Vx8zgmxqGgXuNWbNuwAlt7R3Lb2LNp9SIsrXJS+pvKmnTjh/1MmfJVqNOwBQDRL6N46v9Ys/9ZgD/3797C1NSMnLltiY+PZ+bv/+Oe7y0GjZyKSqUiNCRxji5TUzN0P6Khq2XTRvz+x1w83N0okN+dzdt3Ex0dQ92aiSvWT5oxm5zW1nTv2A6A5o3r8+vQUWzcuoNvSpfi0PET3LpzlwF9emnO+X3zJoyb8gdFC3tSokhhzl64xKmz5/ljYuLf9euGyJiYGIYOGETUyyiiXiaWp7mZWZo/pDVr1ozpM2aQL18+PPLnZ9v27cTExFCrVi0Apk2bhrW1NZ07J67O2qRJEwYNHszmLVsoW6YMR48e5fbt2/zy889AYrk1bdqU9evX42Bvj42NDatWrcLa2poKb0y1ERgYSHh4OIHPnqFSqfD19QXA3t4eIyMjTp85Q2hICAUKFEBfX58LFy+yYcOGZPMUf0o5THWxyWVATqvEe3xeh8TpO4JDYrV6+2Sme7O9KLr4d8IuXCP0/BVc+nRE19iIx6sSF4cruvh3Yp4E4jNqBgDmZYpiaG/Di8veGNrbkG9YHxRKJXdnJC3MF/j3YdwG9eLlI38ibtzBrLgnzj934vHKzZKPDCZ16tOWxV9/P+WH5g74+UfjHxhDl9Z5eB4Sy4k3GrOmjyjA8bMhbNsbAECZYonfTR49icbB1oBeP+TloV80/xxJ7I1oaKCkY0sHjp0JITg0FgcbQ3q2z4vf02jOXc7YYfdSFtmnLMTXTRojhfhCLF26lJo1ayZriITExsgpU6Zw5coVihYtSrt27ZgwYQJOTk5UrFhRk06pVLJ+/Xp++eUXChcujIeHB7Nnz051wZeUDB8+nLt371KnTh2MjY3p0aMHTZs2JSxM+82rQ4cOvHz5krJly6Kjo0Pfvn3p0aPHB+XdwcFBs1BK586d6dChA15eXgCYm5vz3XffsXv3bpo2bfrO8xgbG7N371769u1LmTJlMDY25rvvvmPGjBkfFFd62dvbc/LkSQYPHkzt2rWJiYnBycmJunXrolQqUSgUaZaLrq4us2fPZuzYsYwcOZJvv/2WI0eO0K1bN4yNjZk6dSq//fYbJiYmFClShH79+gFgamrKzp076dWrFyVKlKBgwYJMnjz5g76ITp48mQoVKmhtq1OnDrt27WLs2LFMnjwZPT09ChQoQLdu3TRppk+fTv/+/Vm8eDEODg7Jeld+qGYt2hATHc2COdOIjIzAs2ARRoybgr5+UqPmU38/XrxIqpuVKlfnRVgo61YvJzQkGBdXd0aMnaIZpg3QqGlL4mJjWb74TyLCw3F2cWPU+GnY2jlo0nTs0hsdpQ6zpk8kNiaGfB6ejJk4A9McH76K8PsyL1WY8gdXaZ4XnPY/AB6t3MKVrkNTOyzLHL+agL4uNK2oi6E+PAhU47U3jvg3Os1a5VBgbJjUNdDvuZo1B+OpXUqHasV1CIlQs/tMPJfvZl7PmF3HIzDQV9ClqQXGhkpuPYhlilcQcW+0h+a20iGHsXZjVSE3A3Ja6iZbRRsgQQVTVwbxfW0zBvxghYG+goCgBBZuDuXyrYxdTRug0XftiYmOZsncyURFRuBRsChDxszQ+lsJeOpH+ItQzfO7d24y7n99NM9XLZ0NQOXq9en963BCgp7x35kTAAz5paPW642YOJeCRUp+cLzVvq1IaNgLlq9ZT0hIKG6uzkweM0wzTDvw2XOUiqTeKIU9CzBsYF+WrV7P0pVrcbC3Y+ywQbg4JTXWf1u+HL/+2J21m7Yyd9FyHB3sGTN0IEUKJfYyvO17F2+f2wD80CMp3wBrl8zD1ib3O2OuUqUKYS9esHrVKoJDQnBzdWXc2LGaH18Cnz3T6kFTsGBBBg8axIqVK/Hy8sLBwYERI0ZoTYXRskULoqOjmT1nDhERERQqVIhxY8dq9dhctXo1Bw4c0Dzv86oxc/Lvv1O0aFF0dXTYuWsXixYvRq1WY29vT4/u3bWmb/nUKpWzZli/pB6iYwcn/ni5bO19lq17kGlxvMl/8z/o57Ii/4if0bfJRfgVb8427U5sYGKDupGjPW+u4qBjYED+kX0xdnEkISKKwL1HudxtMPFhSb2Trg8YT/6Rv1B45kj0c1kT7R/Io2UbuD1xnuQjg0md+rRlsX67P0YGSgb0dMHUWJerN8MZPNGHuLik+O1tDDE3S2pqMDHWoVsbR3JZ6xMeEc+xM8EsXfeYhITEY1QqNW55jalTJRemJjoEBcdx/koYyzY8Ii4+Y0c7SFlkn7LIbmSYduZSqNVvDwISQogvS40aNShUqBCzZ8/O6lBEBrt+J/v18Htfhdzt2K336aYByAwN4nwYtizjG8ky24QuBrQf9iTthNnY6gn2XLgVlHbCbK5kfmv8bl1NO2E255C/CHdf9Ub8XLm6uVGp0dGsDuOjndhZhb+NUx4W/7moH3Xzs88DJOZD6lT2UD/qJtVanUk7YTZ3eGM5KYts4vDGcmknyqZ8vq+TJa/rsWFvlrxuVpOekUKIL1ZISAhHjhzhyJEjzJuXfX6xF0IIIYQQQgiRfUjPyMwljZFCiC9WiRIlCAkJYfLkyZ90ARohhBBCCCGEEEKkjzRGCiG+WBk196AQQgghhBBCCCEyhjRGCiGEEEIIIYQQQoiv1psLyYlPT662EEIIIYQQQgghhBAiU0jPSCGEEEIIIYQQQgjx1VLqyAI2mUl6RgohhBBCCCGEEEII8Rn4888/cXZ2xtDQkHLlynH27NlU01atWhWFQpHs0aBBA02aTp06Jdtft27dT5oH6RkphBBCCCGEEEIIIb5aCuXn0TNyw4YN9O/fnwULFlCuXDlmzpxJnTp18PHxIXfu3MnSb9myhdjYWM3zoKAgihUrRsuWLbXS1a1bl+XLl2ueGxgYfLpMID0jhRBCCCGEEEIIIYTI9mbMmEH37t3p3LkzBQsWZMGCBRgbG7Ns2bIU01tZWWFra6t57N+/H2Nj42SNkQYGBlrpLC0tP2k+pDFSCCGEEEIIIYQQQohMFhMTw4sXL7QeMTExKaaNjY3lv//+o2bNmpptSqWSmjVrcurUqXS93tKlS2ndujUmJiZa248cOULu3Lnx8PCgd+/eBAUFfXim0kEaI4UQQgghhBBCCCHEV0uhVGbJY9KkSZibm2s9Jk2alGKMz58/JyEhARsbG63tNjY2PH36NM08nj17lmvXrtGtWzet7XXr1mXlypUcPHiQyZMnc/ToUerVq0dCQsKHX9A0yJyRQgghhBBCCCGEEEJksqFDh9K/f3+tbZ9qvsalS5dSpEgRypYtq7W9devWmv8XKVKEokWL4ubmxpEjR6hRo8YniUUaI4UQQgghhBBCCCHEVyurFrAxMDBId+Njzpw50dHRISAgQGt7QEAAtra27zw2MjKS9evXM3bs2DRfx9XVlZw5c3Lnzp1P1hgpw7SFEEIIIYQQQgghhMjG9PX1KVWqFAcPHtRsU6lUHDx4kPLly7/z2E2bNhETE0P79u3TfJ3Hjx8TFBSEnZ3dR8ecGmmMFEIIIYQQQgghhBAim+vfvz+LFy9mxYoVeHt707t3byIjI+ncuTMAHTp0YOjQocmOW7p0KU2bNsXa2lpre0REBL/99hunT5/m/v37HDx4kCZNmuDu7k6dOnU+WT4UarVa/cnOLoQQQgghhBBCCCFENvagR9MseV2nRdve+5i5c+cydepUnj59SvHixZk9ezblypUDoGrVqjg7O+Pl5aVJ7+PjQ4ECBdi3bx+1atXSOtfLly9p2rQpFy9eJDQ0FHt7e2rXrs24ceOSLZSTkaQxUgghxGcr6Nq/WR3CR7MuXIFhy2KyOoyPMqGLAbv1PLI6jI/WIM6HyMXDszqMj2LSfTwB3v9ldRgfzcazFN6+flkdxkfzdHPg/p1bWR3GR3F2z0/w+J5ZHcZHsxq+8Iu4137ueYDEfEidyh4mdDEgbOrPWR3GRzP/bY6URTZh/tucrA7hg31OjZFfAlnARgghhBBCCCGEEEJ8tRRKmcUwM8nVFkIIIYQQQgghhBBCZAppjBRCCCGEEEIIIYQQQmQKGaYthBBCCCGEEEIIIb5aCqUiq0P4qkjPSCGEEEIIIYQQQgghRKaQnpFCCCGEEEIIIYQQ4qslC9hkLrnaQgghhBBCCCGEEEKITCE9I4UQQgghhBBCCCHE10shc0ZmJukZKYQQQgghhBBCCCGEyBTSGCmEEEIIIYQQQgghhMgUMkxbCCGEEEIIIYQQQny1FEoZpp2ZpGekEEIIIYQQQgghhBAiU0hjpMgWqlatSr9+/T7qHE+fPqVWrVqYmJhgYWGRIXGlplOnTjRt2vS9jvmQ+Ly8vLTSjh49muLFi7/X64rPi7OzMzNnzszqMDTernMfUveFEEIIIYQQIjtTKJVZ8vhayTDtVDx79oyRI0eye/duAgICsLS0pFixYowcOZKKFStmdXgZysvLi379+hEaGprVoXyUP/74A39/fy5duoS5uXmKaUaPHs2YMWMAUCqV2NvbU69ePX7//XesrKzS/VqzZs1CrVZneHwZIT11V6FQsHXr1s+6UcnZ2Zl+/fp9dCP2+/oSrt3H+JC6n11s/ucga7b/Q3BoGO7OeenftR0F87mmmPbuQz+WrN/Kzbv3efosiL6d2/B9w9paabbsOcTWvYfxf/YcABdHB7q0bEz5kkU/eV5SUqOEDmU8dDDUhweBanb8G0/Qi3eXlZkx1CmtS/48SvR0IeiFmi3H4/ELyh5lbFWpNK4DumJesjCG9rk5/92PBOw4mNVhvdOGi3dYec6HoMho8ueyYFCNEhS2S/n9Zce1+4zec05rm76OktO/fvfJ4tvy9z7Wb91FcGgYbs556du9IwXzu6ea/vDJ0yxdu4mngc9xsLOlV4fWlC9dQrM/ODSMBSvWce7SFSIioyhWqAB9u3fE0d4OgBfhESxb9xfnLl0l4PlzLMzM+LZcabq2bYmpifEH50OtVrNutRf79+wmMjKCAgUL0+unftg75HnncX/v3MbWzRsIDQnG2cWN7r1/Jr+Hp2b/sMG/cv3qZa1j6tRrRO+ff012rhcvwvj1p+4EBT1n9cYdmJqavnc+duzazV+btxAcEoKriws/9upJAY/8qaY/dvwEK1avJiAgEAd7e7p27kTZMqU1+0+c/Jfd//zD7Tu+hIeHM2/2LNzcku5zTwMC6NilW4rnHjZkMJW/rfTeeUgPg1JVMSxfC6WpOQkBj4ncu56EJ/dTTa8wMMKoWlP0PUqgMDJGFRZM1L6NxPle+yTxvY8v4V77JeRB6lTWlYd+iW8xKFMDhYkZCYF+RB/8i4SnD1JMq1eoHMb122ttU8fH8eKP/prn5r/NSfHYl0e2EXsuc9/zpSyyT1mIL580Rqbiu+++IzY2lhUrVuDq6kpAQAAHDx4kKCgoq0MTqfD19aVUqVLky5fvnekKFSrEgQMHSEhIwNvbmy5duhAWFsaGDRvS/Vof0piY3vg+ltTdz0NcXBx6enrZ7lxp+ZQN6Z/SgZNnmO21nt96dqBQPlc27NrPr+Oms27OJKzMzZKlj46Nwd4mF9UqlGH28nUpnjO3tRW927fA0c4GNfD34ZMMnjwbr6ljcM3r8IlzpO3bIjqUL6jD5uPxBIerqVVSh0519Ji1JZb4hJSPMdSHHg30ueuvYsW+OCKj1VibKXgZmz0aIgF0TIx5ccWHR16bKf3Xn1kdTpr23nzEjCOX+V/NkhSxs2bNhVv89Ncxtnapi5WJYYrHmOrrsqVrPc3zTzlb0cETp/hz2WoG9O5CwfzubNrxDwPH/M6aP6djaZH8b/vqzVuMnT6XHj98T/nSJTlw7CTDfp/BkukTcXVyRK1WM2zSdHR0dJn4vwGYGBuxYfvf9B81iZVzpmBkaMjz4BCeB4fwY6e2ODvm4emz50xfsJTnwSGMG9zvg/Oy9a/17Nqxhb79h2Bja8vaVcsZM2IwcxYsR19fP8VjThw9zLLF8+ndpx/5C3iyY9tmxowYzJ+LVmBhYalJV6tuA9q276x5bmBokOL55s6chpOLK0FBzz8oD0eOHWfR4iX83OcnCnjkZ+u2HQwbMZKlixakOILi+g1vJk2ZSpdOHSlXpgyHjx5lzPgJ/DlrJs7OTgBEx0RTqGBBKn9biZmz5yY7R66cOVm3aqXWtr/37OGvLVspU7rUB+UjLfoFS2NcqwWR/6wl3u8ehmVrkKPNL4TNH4U6Kjz5AUodcrTrhyoynIjNC1GFh6I0t0Id/fKTxPc+voR77ZeQB6lTWVceeh4lMazajJf7N5Dg/wCDUlUxafkj4UvHoY6KSPEYdcxLwpeOe2OD9v4X8/6n9VzXpSBGddsSd+tSBkf/blIW2acsxNfh6+0T+g6hoaEcP36cyZMnU61aNZycnChbtixDhw6lcePGWum6detGrly5MDMzo3r16ly+nPRruq+vL02aNMHGxgZTU1PKlCnDgQMHtF5r3rx55MuXD0NDQ2xsbGjRooVmX0xMDL/88gu5c+fG0NCQSpUqce5cUg+KI0eOoFAoOHjwIKVLl8bY2JgKFSrg4+OT4dcjtXzeunULhULBzZs3tY75448/cHNz0zy/du0a9erVw9TUFBsbG3744QeeP3+/D+/z58/Hzc0NfX19PDw8WLVqlWafs7MzmzdvZuXKlSgUCjp16pTqeXR1dbG1tcXBwYGaNWvSsmVL9u/fr9mfkJBA165dcXFxwcjICA8PD2bNmqV1jreHqlatWpVffvmFQYMGYWVlha2tLaNHj04zvhkzZlCkSBFMTExwdHTkxx9/JCIi5TeP9EhP3XV2dgagWbNmKBQKzfP01Fd/f38aNGiAkZERLi4urF27NtmwYoVCwZIlS2jWrBnGxsbky5ePHTt2fND1nTZtGnZ2dlhbW/PTTz8RFxenud4PHjzg119/RaFQoFCk/PV94MCBNGzYUPN85syZKBQK9uzZo9nm7u7OkiVLADh37hy1atUiZ86cmJubU6VKFS5cuKBJm9q1A9i+fTslS5bE0NAQV1dXxowZQ3x8vNZ1mT9/Po0bN8bExIQJEyakGDNAeHg4bdq0wcTEBAcHB/78U7sRJrVzpRVDWvcsgN9//x0bGxty5MhB165diY6O1tr/vnUf4ObNm1SqVAlDQ0MKFizIgQMHUCgUbNu2LdVrkNHW79xH45qVaVj9W1wcHRjUswMGBvrsOng8xfQF3V3p0/F7alUqh55eyr/bVSpTnAqliuFob0tee1t6tfsOI0NDrt/y/ZRZSVHFQjocuZyA90MVASFqNh2LJ4cReOZN/W2+clEdwiLVbDkRz+PnakIi4M4TNcEpfI/LKs/2HuPWqJkEbD+QduJsYM35WzQr4kKTIi645jRjWK1SGOrpsP3a/dQPUijIaWKoeVin0miZETZu/5uGtatRv0ZVnB3zMKB3VwwNDNh98GiK6f/auYeyJYvRplkjnB0d6NauFfldXdjy9z4AHj95ynWfOwzo1QXPfG7kdbBnQK8uxMTGcvD4KQBcnRwZP+RXKpYthYOdDaWKFqJ7u1b8e+4C8QmpfLtLg1qtZue2zbRq3Z5y5Svi7OJG3wFDCA56zplTJ1I9bvvWTdSuW58atevhmNeZ3n1+xcDAgIP7/tFKZ2BggKWVleZhbGyS7Fz/7N5OZGQETZu3+qA8AGzZuo26detQp1ZNnPLm5Zc+P2JgaMDefftTTL9txw5KlypJy++akzevIx1/aI+7mxvbd+3SpKlZvTrt27ahRCpTuujo6GBlZan1+PfUaSpXqoSRkdEH5+VdDMvVJObiCWIv/4vquT9Rf6+BuFgMildIMb1B8YoojEyI2DSP+Me+qMKCiH94m4TAx58kvvfxJdxrv4Q8SJ3KuvLQL12N2CuniLt2BlXQU17u24A6Lhb9wuVTP0itRh0ZnvR4q8FYa19kOHruRUl4eBt1WOZ2pJCyyD5lkVUUSkWWPL5W0hiZAlNTU0xNTdm2bRsxMTGppmvZsiWBgYH8888//Pfff5QsWZIaNWoQHBwMQEREBPXr1+fgwYNcvHiRunXr0qhRIx4+fAjA+fPn+eWXXxg7diw+Pj7s2bOHypUra84/aNAgNm/ezIoVK7hw4QLu7u7UqVNHc/7Xhg0bxvTp0zl//jy6urp06dJFs+/+/fsoFAqOHDnywdfjXfnMnz8/pUuXZs2aNVrHrFmzhrZt2wKJDSDVq1enRIkSnD9/nj179hAQEECrVun/AL9161b69u3LgAEDuHbtGj179qRz584cPnwYSGxEqlu3Lq1atcLf3z9Z41Zq7t+/z969e7V6UahUKvLkycOmTZu4ceMGI0eO5H//+x8bN25857lWrFiBiYkJZ86cYcqUKYwdO1bTyJlafEqlktmzZ3P9+nVWrFjBoUOHGDRoULqvy9vSU3dfN2gvX74cf39/zfO06itAhw4dePLkCUeOHGHz5s0sWrSIwMDAZK8xZswYWrVqxZUrV6hfvz7t2rXT1Nv0Xt/Dhw/j6+vL4cOHWbFiBV5eXnh5eQGwZcsW8uTJw9ixY/H398ff3z/FvFapUoUTJ06Q8OoL79GjR8mZM6fm78HPzw9fX1+qVq0KJDYCduzYkRMnTnD69Gny5ctH/fr1CQ8Pf+e1O378OB06dKBv377cuHGDhQsX4uXllazBcfTo0TRr1oyrV69q/Z2+berUqRQrVoyLFy8yZMgQ+vbtq9VgntK50hNDWvesjRs3Mnr0aCZOnMj58+exs7Nj3rx5qcb52rvqfkJCAk2bNsXY2JgzZ86waNEihg0bluY5M1JcXDw+vvcpXbSQZptSqaRM0YJcu3UnQ14jIUHF/hNniI6OobCHW9oHZCDLHJDDWIHvE5VmW0wcPH6mJm/u1D/geDoq8XuuonU1XYa20eenJnqUzi8fCz5UXIIK74AQyjnZaLYpFQrK5bXhypPUP8S/jI2n/sLd1Fu4i1+3nsT3ediniS8unlu+9yhdtHBSfEolpYoV5rrP7RSPue5zm1JvpAcoW6KoJn3sqx+I9N/oma1UKtHT1eXKjdR/GI2MeomxsRG6OjoflJeAp/6EhARTtHhSTz4TE1Pye3ji430jxWPi4uLwvXNL6xilUkmx4qXwual9zLHDB/mhdVN+6d2FVcsXE/PWjzKPHt5n49pV9Bsw5IPneoqLi+P2nTuULF5MK54SxYtz42bK18775s1kjYylSpbA+60fhN/H7dt38L17lzq1a33wOd5JqYOOXV7i7nm/sVFN3P2b6DqkPE2GXv6ixD++i3Hdtlj0m4pZj5EYVqwHqfzwmFm+hHvtl5AHqVNZWB5KHXRsHYl/8OY9Sk38Ax907J1TP07fgBw9xpCj51iMm3ZHaW2balKFcQ50XQsRe/VUhoWdHlIWyWVVWYivhwzTToGuri5eXl50796dBQsWULJkSapUqULr1q0pWjRxLrATJ05w9uxZAgMDMTBIHL4zbdo0tm3bxl9//UWPHj0oVqwYxYolfcgcN24cW7duZceOHfTp04eHDx9iYmJCw4YNyZEjB05OTpQokTgPU2RkJPPnz8fLy4t69RKHby1evJj9+/ezdOlSfvvtN815J0yYQJUqVQAYMmQIDRo0IDo6GkNDQ/T09PDw8MDY+MPmZUpPPtu1a8fcuXMZNy6xy/etW7f477//WL16NQBz586lRIkSTJw4UXPeZcuW4ejoyK1bt8ifP/W5kV6bNm0anTp14scffwSgf//+nD59mmnTplGtWjVy5cqFgYEBRkZG2NqmflMFuHr1KqampiQkJGh6fc2YMUOzX09PTzOvJICLiwunTp1i48aN72xALVq0KKNGjQIgX758zJ07l4MHD1KrVq1U43tzvkNnZ2fGjx9Pr1690tUAlJL01N1cuXIBYGFhoRVLWvX15s2bHDhwgHPnzlG6dOL8VEuWLElx2HmnTp1o06YNABMnTmT27NmcPXuWunXrpvv6WlpaMnfuXHR0dChQoAANGjTg4MGDdO/eHSsrK3R0dMiRI8c7y/vbb78lPDycixcvUqpUKY4dO8Zvv/2m6ZF35MgRHBwccHdPnC+tevXqWscvWrQICwsLjh49SsOGDVO9dmPGjGHIkCF07NgRAFdXV8aNG8egQYM0dQKgbdu2dO7cmbRUrFiRIUOGAJA/f35OnjzJH3/8Qa1aSV8W3z5Xly5d3hlDev6WZ86cSdeuXenatSsA48eP58CBA8l6R77tXXV///79+Pr6cuTIEc01mzBhglZePrXQ8HASVCqsLLSHY1uZm/PA7+lHndv3wSN6/G8CsbFxGBkaMGlQH1wcM3eIdg6jxA/JES+1x9pERKsxNUr9A7RlDgVlC+hw8noCRy/HkSeXgobf6JKgiufiHVWqx4mUhb6MIUGtTjYc28rEkPupdJFwssrBqLqlyZfLgoiYOFae86Hz2kNs6lwHmxwfPp9iSsJe/R28PRzbytych4+fpHhMcGgoVm+ltzQ3JzgkNDH+PPbY5MrJolXrGfhjVwwNDNm482+eBQUTFBKS4jlDX7xgxcatNK5dPcX96REakvgDioWlpdZ2cwtLQkKCUzqE8BdhqFSqFI95/CjpR7fKVWuQO7cNllbWPLh/l5XLFuHn94ghw8cCEBcXy/TJ4+nYtSe5ctvw9GnKP4al5cWLF4nxWGjHY2lhwaNHKffWCgkJxfKt4duWFhaEvCqPD7Fn3z7yOjpSqKBn2ok/gMLYFIVSB3Wk9t+AKuIFeql8CdaxyIXS2ZrYa2cIXz8HHavcGNdtA0odoo/vSvGYzPAl3Gu/hDxIncq68lAYmSRe+6gXWtvVUeEorWxSPEYVEsDLPWtJeOaHQt8IgzLVMW3Xn/BlE1FHhCZLr1e4LOrYaOJuXU5+sk9IyiI0WfqsKous9DUvJpMVpDEyFd999x0NGjTg+PHjnD59mn/++YcpU6awZMkSOnXqxOXLl4mIiMDa2lrruJcvX+LrmzhELyIigtGjR7N79278/f2Jj4/n5cuXmp5mtWrVwsnJCVdXV+rWrUvdunU1Q1t9fX2Ji4vTWixHT0+PsmXL4u3trfWarxuZAOzsEieMDwwMJG/evDg4OCQbQv0+0pPP1q1bM3DgQE6fPs0333zDmjVrKFmyJAUKFNCc4/DhwylO7O7r65uuxkhvb2969Oihta1ixYrp7gH5Jg8PD3bs2EF0dDSrV6/m0qVL/Pzzz1pp/vzzT5YtW8bDhw95+fIlsbGxaa5i/WY5QGJZpNRr8E0HDhxg0qRJ3Lx5kxcvXhAfH090dDRRUVFpNiAfP35c01ANsHDhQtq1a5dm3U1NWvXVx8cHXV1dSpYsqTnG3d0dy7e+2L19LUxMTDAzM9O6Fum5voUKFULnjV4zdnZ2XL169Z3X5G0WFhYUK1aMI0eOoK+vj76+Pj169GDUqFFERERw9OhRTUM+QEBAAMOHD+fIkSMEBgaSkJBAVFSUVu/QlFy+fJmTJ09q9UJ83dj9Zlm+bsRNS/ny5ZM9f3uF7bfPlVYM6flb9vb2plevXsle+3UP5NS8q+77+Pjg6Oio1XhbtmzZd54vJTExMcl6+75uVM1Kee3tWDFtDBFRLzl86hzj5y7hz7FDPmmDZDFXJU0qJr19r9wf90HnUSjA77ma/f8l9hz2D1aT2yKBsgV0pDEykxSzt6aYfdLfZFF7a75bvofNl+/yY6XC7zgye9DV1WX84H5MnruYBu17oPOqp2W5ksVSTB8ZFcXgcVNxdnSgc+v0L9Jz9PAB5s9J+tFw+JhJHx17aurUS5raw9nFFUtLK0b+byD+/n7Y2TmwavkS8jg6UbV65v2g8qnExMRw+Ogx2rb+PqtD0aZQoIoMJ3L3alCrSXj6EGUOCwy/qZ2pDUdfwr32S8hDhpA6lWUSntzXWlgo6sldTLsMR79YRWJO7k6WXr9weeK8z0NCfLJ9GUnKIvuUhfh6SWPkOxgaGlKrVi1q1arFiBEj6NatG6NGjaJTp05ERERgZ2eX4vDn15OODxw4kP379zNt2jTc3d0xMjKiRYsWxMbGApAjRw4uXLjAkSNH2LdvHyNHjmT06NFa80Kmx5sLV7yeO0+lypibX3ryaWtrS/Xq1Vm7di3ffPMNa9eupXfv3lrnaNSoEZMnT052jteNp5lJX19f0xPu999/p0GDBowZM0bTs3P9+vUMHDiQ6dOnU758eXLkyMHUqVM5c+bMO8/79gIiCoXineVw//59GjZsSO/evZkwYQJWVlacOHGCrl27Ehsbm2ZjZOnSpbl06ZLmuY1N0q9g76q7qUmrvr6Pd12L9F7f972eqalatSpHjhzBwMCAKlWqYGVlhaenJydOnODo0aMMGDBAk7Zjx44EBQUxa9YsnJycMDAwoHz58mleg4iICMaMGUPz5s2T7TM0TOolZWKSfN6xD/X2udKKIT1/yx8qo8rqXSZNmqTVoxZg1KhR/NyidipHJLHIkQMdpZLgUO1fj4PDwpL1lnxfenq65LFL/Nsr4OaM9537bNy9n8G9On3Ued/F+6GKR8+S6qSuTuJ939RIQfgbv+ibGirwD069HMJfwrNQ7R4Az8LUFHb+eueu+RgWRgboKBQER2r3JA6OjE73PJB6OkoK5LbkUeiHzx2cGvNXfwchodrDwIPDwrCytEjxGCsLC4LfSh/yVnoPd1eWzZxERGQU8fHxWJib0fO3EXi4aw+XjHr5koFjJmNsZMj4Ib+iq5v+j6Bly1XQWvE6Li6x/oeGhGBlldSYGxYagotryiuD5zAzR6lUEvpWj82w0BAsrVJe7Rwgf4HE13365Al2dg5cuXKRh/fv0byh9jybHVo3pWXr9rRp3yldeTIzM0uMJ1Q7npDQ0BR/5AOwtLQgJDQ0hfQW6XrNtx0/eZKYmBhq1vjwXqppUUdFoFYloDDJobVdaWqGKiLlKQlUEWGgSgB10v0p4bk/yhzmoNRJ3JcJvoR77ZeQh7dJncq68lC/jEy89sban50UxjlQR75I5ai3qFSoAh+jtMyVbJeOgxs61jZE7VyeEeG+k5QF2aYsspOvef7GrCCNke+hYMGCmuGdJUuW5OnTp+jq6motYvGmkydP0qlTJ5o1awYkNhbcv39fK42uri41a9akZs2ajBo1CgsLCw4dOkSdOnXQ19fn5MmTODklrpAYFxfHuXPntIb2fmrpySdAu3btGDRoEG3atOHu3bu0bt1a6xybN2/G2dn5vb58vMnT05OTJ09qhqBC4vUtWLDgB53vTcOHD6d69er07t0be3t7Tp48SYUKFTRDwgFNz7GM9N9//6FSqZg+fTrKV13C05qX8k1GRkaaRtW0vFl3IbHxKOGthQPSqq8eHh7Ex8drhjwD3Llzh5BUhuKlJqOur76+frI8pKRKlSosW7YMXV1d6tatCyQ2UK5bt45bt25p5ot8Hdu8efOoX78+AI8ePUq20FJK165kyZL4+PikuzzScvr06WTPPT3fPYQurRjS87fs6enJmTNn6NChQ6qxvC8PDw8ePXpEQECApsH8fX9wARg6dCj9+/fX2mZgYEDE7f/SPFZPTxcPN2f+u3qDKuUSe/aqVCrOX/Hmu3o13juWd1GpVcTFfdpfkGPjeWtidDXhUWpc7ZX4ByfWTQM9yJNLwZmbqa/m+DBARU5z7Q9dOc0UhERkn9W0Pyd6Oko8bSw5+zCQavkSe8aq1GrOPgzk+xLpuzckqNTceR5GRZd3TzfyQfHp6ZLfzYX/rlzn22/KJManUnHhynWa1U+5Ub+QRz4uXLlGq8ZJvfDPXbpKIY/k03OYmiT+gPboiT8+vnfp2ralZl9kVBQDx/yOnq4ek4YNxCCV1a5TY2RsjNEbP9Cp1WosLa24cvkCrm6J1zYqKpJbPt7UbdA4xXPo6enh5p6fK5cv8E2FSpr8X7l0gfqNmqb62vdevT+9brAcPGw0sTFJX2Dv3LrJnJlTmTh1FrZ29unOk56eHvnc3bl46QoVXvWGV6lUXLp0mcYNG6R4jGeBAly6fJnmTZtotl24eAnPVyNR3tfeffv5plxZLMyTr6SeYVQJJPg/RM/F842hfgr0nAsQfT7lXvfxj33RL1SGxLXlE+9HSisbVOGhmdZoBF/GvfZLyEMyUqeyrjxUCSQ8fYSuU37i71x5tVGBrlN+Yi+kvCBgMgoFypz2xN+7nmyXftHyxD99iOqZX8bFnAopC7JNWYivlwyKT0FQUBDVq1dn9erVXLlyhXv37rFp0yamTJlCkyaJHwBr1qxJ+fLladq0Kfv27eP+/fv8+++/DBs2jPPnzwOJc6dt2bKFS5cucfnyZdq2bavVW2jXrl3Mnj2bS5cu8eDBA1auXIlKpcLDwwMTExN69+7Nb7/9xp49e7hx4wbdu3cnKipKM59bevj5+VGgQAHOnj37znQJCQlcunRJ6+Ht7Z2ufAI0b96c8PBwevfuTbVq1bC3T/pA/tNPPxEcHEybNm04d+4cvr6+7N27l86dO6erMQngt99+w8vLi/nz53P79m1mzJjBli1bGDhwYLqvRWrKly9P0aJFNXNa5suXj/Pnz7N3715u3brFiBEjPqjxJC3u7u7ExcUxZ84c7t69y6pVq1iwYMFHnTM9dRcS56c8ePAgT58+1TQmplVfCxQoQM2aNenRowdnz57l4sWL9OjRAyMjo1RXs05JRl1fZ2dnjh07hp+f3ztXZq9cuTLh4eHs2rVL0/BYtWpV1qxZg52dndY0Afny5WPVqlV4e3tz5swZ2rVrl2x10ZSu3ciRI1m5ciVjxozh+vXreHt7s379eoYPH/7e+YLERtEpU6Zw69Yt/vzzTzZt2kTfvn3feUxaMaTnb7lv374sW7aM5cuXc+vWLUaNGsX168k/oLyPWrVq4ebmRseOHbly5QonT57UxPQ+9cbAwAAzMzOtx/sM027dqDY7Dhzl78MnuP/4CVMXrSQ6JoaG1RMbJcbOXsz81Zs06ePi4rl17yG37j0kPj6BZ0Eh3Lr3kMf+AZo081dv4uJ1H/wDn+P74JHmee3K71jF8BM5eT2BasV0KOCoxMZSQYvKuoS/TPzl/7UudfX4xlOpdYxjbgVViupglQOKuiop46HDGe/M+2KWFh0TY8yKFcCsWGJji7FLHsyKFcDQMfN71adHu9L52XrlLjuv3edu0Asm7r/Ay7h4Ghd2BmDE32eZcyxpuolF/97g1P2nPA6NwDsghOF/n8H/RSTNiqS8CMPHatWkPrv2H+afQ8e4/8iP6QuW8TI6mvo1EqermDBzHgtXrdekb9GoLmcuXmH9tt08eOzHsnV/4eN7l+ZvNF4ePnmai1dv8ORpAMfPnGfAqElUKluasiUSp2+IjIpiwOjfeRkdw+A+PYiMeklQSChBIaEkJHxYD2qFQkGjpt+xaf1qzp4+yf17d5k57XesrHNSrnwlTboRQwewe+dWzfMmzVqyf89uDh3Yy6OHD1jw50yiY6KpUSvxhyp/fz82rF3Fndu3CAh4ytnTJ5k5fRKFChfF2SVxYSo7OwecnF00j9y2iXUxj6NTsvkf09K8WVP+2buX/QcO8vDhI+b8OY/o6Ghq16oJwJTpM1jmtUKTvmnjxpz/7wJ/bdnKw0ePWLVmLbfv3KFJw6Sh5S/Cw/H1vcvDh48AeOTnh6/vXYKDtX849HvyhKvXrlO3dtq9yz9W9JkDGJSohH7Rb1Ba22Jcvy3o6RNz+V8ATBp3wqhaU036mP+OojQywbjO9yitcqPnXhijivWIPn/kk8eali/hXvsl5EHqVNaVR+z5w+gXrYBeobIorWwwrN0KhZ4BsdcSf7w2qv8DBt820qQ3KF8XXecCKMytUebOg1GDjijNLIm98taiKPqG6OUvTtyVfz95HlIjZfFKNigL8XWQnpEpMDU1pVy5cvzxxx+auRsdHR3p3r07//vf/4DED8J///03w4YNo3Pnzjx79gxbW1sqV66s6f0zY8YMunTpQoUKFciZMyeDBw/mxYukbtMWFhZs2bKF0aNHEx0dTb58+Vi3bh2FCiWu+Pr777+jUqn44YcfCA8Pp3Tp0uzduzfV4TspiYuLw8fHh6ioqHemi4iI0Cye85qbmxt37txJM5+QOOS8UaNGbNy4kWXLlmmd53Vvw8GDB1O7dm1iYmJwcnKibt26mh6BaWnatCmzZs1i2rRp9O3bFxcXF5YvX67Vq+1j/Prrr3Tq1InBgwfTs2dPLl68yPfff49CoaBNmzb8+OOP/PPPPxnyWq8VK1aMGTNmMHnyZIYOHUrlypWZNGmSVq+095Weugswffp0+vfvz+LFi3FwcOD+/ftp1leAlStX0rVrVypXroytrS2TJk3i+vXrWkOR05JR13fs2LH07NkTNzc3YmJiUKtT/gXS0tKSIkWKEBAQoJnHtHLlyqhUKq35IgGWLl1Kjx49KFmyJI6OjkycODFZg3dK165OnTrs2rWLsWPHMnnyZPT09ChQoADdunV7rzy9NmDAAM6fP8+YMWMwMzNjxowZ1KlT553HpBVDeu5Z33//Pb6+vgwaNIjo6Gi+++47evfuzd69ez8oHwA6Ojps27aNbt26UaZMGVxdXZk6dSqNGjV6r3rzsWpWLEdoWDiL128jODSMfC55mTG8v2ZxjoDnQSjfaBx9HhJKp4FJiw+t3bGHtTv2UKKQB3+OTVxcKCQsnHFzFhMUEoaJsRHuTo78MWIAZYsVIrMdv5qAvi40raiLoT48CFTjtTeO+Dc+C1vlUGBsmJRHv+dq1hyMp3YpHaoV1yEkQs3uM/Fcvpt95jgyL1WY8gdXaZ4XnJZ4H3u0cgtXug7NqrBSVaeAIyFRMcw/eZ2gqGg8clkwt8W3mmHaT19E8eYIoBcxsYzb+x9BUdGYGejhaWPJ8jbVcc35cdMHpKZGpfKEhr1g2bq/CA4Jxd3FiWmjhiT9HTwLQqFIel8uUiA/I/v/xJI1m1i8egN57G2ZMKQ/rk6OmjRBIaHMXbaakLAwrC0tqVO1Eh1bJU0Xccv3PjderVrfpvevWvFsWDgLO5vkw8PSo1mL1kRHRzNvzgwiIyLwLFSEkWN/R/+NXpdP/Z/wIixp2GalKtUIexHKulXLCQkJwcXVjVFjJ2NhmdjrUVdXjyuX/mPX9s1ER78kZ67clK9YmVZt2n9QjGmpWvlbwsLCWLl6DSEhIbi6ujJh7BjN57xnz55p3ZcKFfRkyG8DWbFqNV4rVmLvYM+o4cNwdnbSpDl9+gzTZybNpz1p8hQA2rdtww/t2mq2791/gJw5rSlVUvuz36cQe+M8CmNTjKo0RmliRkLAY8LXzdYsQKI0t9IaPqt6EUL42tkY12qJeY+RqMJDiT53iOh/93zyWNPyJdxrv4Q8SJ3KuvKI87mAwtgUw4oNUJjkICHQj8i/5qGOenXtc1hqXXuFoTFGtdugMMmBOuYlCU8fEbH2D1RB2gsI6hUoCQoFsd5pj3j5VKQsEmWHssgqMkw7cynUqX2DF0KINDx+/BhHR0cOHDhAjRoZO9xVfLlOnjxJpUqVuHPnDm5ubh91rqBrn/+vttaFK/yfvbsOiyrrAzj+HZBuDEpSEGzFzl0Vxa41V1exXWvVtQN77bVjTbBd1+5a3ddaO9YCRREDi1JAEIT3D2RkZFAQBOP3eZ55HubOueeec889l5lzTzBieeyHA37GJnbSYZeWa04nI9Pqx/kRteTjejR/Lgy6TuDxV/ADwqJQaa4HfPnDwwoVsCHwln9OJyNTHJwLEjqhe04nI9PMR/7xVdxrv/Q8QFI+5Jr6PEzspEPEtD4fDviZMxk0V8riM2EyaG5OJ+GjPRn28Z2CMiPfpJU5ctycJj0jhRDp9vfffxMZGUmxYsUIDg5m8ODBODg4UK1atZxOmviMbdmyBUNDQ1xcXLh16xa//PILlStXznRDpBBCCCGEEEJkiXSO2hRZQxojhRDpFhcXx/Dhw7l9+zZGRkZUqlSJNWvWpFpNWYiUXrx4wZAhQwgKCiJPnjx4eHgwY8aMnE6WEEIIIYQQQogcII2RQoh08/T0/ODchUK8q3379pmaC1UIIYQQQgghxNdDGiOFEEIIIYQQQgghxDdLoZAFbLKTDIoXQgghhBBCCCGEEEJkC+kZKYQQQgghhBBCCCG+WQpZwCZbydkWQgghhBBCCCGEEEJkC+kZKYQQQgghhBBCCCG+WQoNmTMyO0nPSCGEEEIIIYQQQgghRLaQxkghhBBCCCGEEEIIIUS2kGHaQgghhBBCCCGEEOLbJQvYZCs520IIIYQQQgghhBBCiGwhPSOFEEIIIYQQQgghxDdLFrDJXtIzUgghhBBCCCGEEEIIkS2kMVIIIYQQQgghhBBCCJEtFImJiYk5nQghhBBCCCGEEEIIIXJC2MSfc+S4ZiMW5shxc5rMGSmEEOKLdd//Sk4nIdPyFyxKuxEPczoZmbJ6ojVRS0bmdDIyzaDrBHZpueZ0MjKlfpwfT6+eyulkZFreIuUJvOWf08nINAfnggTdvJ7TycgUO5dC+LXyzOlkZJrrhn108H6U08nIFN9xll98HiApH3JNfR58x1lyt1uTnE5Gptkv3ipl8ZmwX7w1p5MgvhDSGCmEEEIIIYQQQgghvl2ygE22kjkjhRBCCCGEEEIIIYQQ2UJ6RgohhBBCCCGEEEKIb5ZCQ/rqZSc520IIIYQQQgghhBBCiGwhjZFCCCGEEEIIIYQQQohsIcO0hRBCCCGEEEIIIcQ3SyEL2GQr6RkphBBCCCGEEEIIIYTIFtIzUgghhBBCCCGEEEJ8uxTSVy87ydkWQgghhBBCCCGEEEJkC2mMFEIIIYQQQgghhBBCZAsZpi2EEEIIIYQQQgghvlmygE32kp6RQgghhBBCCCGEEEKIbCGNkeKDfHx8MDU1zdA+Xl5eNGnS5JOk53MzZswYLCwsUCgUbN26NVuOmV3n9/jx4xQrVgwtLa1PerzsvF6WLVtG7dq1syy+I0eOoFAoCA8Pz7I4szP+T2XMmDGULFkyXWEXLVpEw4YNP22ChBBCCCGEECItGho58/pGyTDtb5iXlxfh4eGpGtCOHDlC9erVCQsLw9TUlFatWlGvXr1Pnh4fHx86duwIgEKhwMLCgmrVqjFt2jTs7OzSHc+YMWPYunUrFy9e/EQpfev69euMHTuWLVu2UKFCBczMzFKFCQwMxNHREQ0NDYKCgrCxsVF+FhwcjK2tLa9fv+bOnTs4ODh8srQ6ODjQr18/+vXrl+59BgwYQMmSJdmzZw+GhoaZTkPyubhw4YJKQ9Xs2bNJTEzMdPwfEhMTw6hRo9i4caNyW3ZeLyk5ODhw9+5dAHR1dbGwsKBcuXL06NGDGjVqKMNVqlSJ4OBgTExMsjV9mTVw4ED69OmTrrCdOnVi/PjxHD16lKpVq2ZZGrbu2sOfm7cRGhZOAUcH+nTvjFtBlzTD/3PsBCtWr+PRk6fkt7aiq1c7ypcprTbszPl/sHPvfnp26cgPjRsot9978JDFK1Zy5doN4uPjcXKwx6tda0oVL5Zl+QL4oaYR1cvqo6+rgf/dV6zYHs7jkNdphp85MB95zVL/yz/wbxS+OyIAMDHUoE0dY4o666Cro+DRs3i2HYnkzNWYLE17WjZcuMXKM36ERMVQMK8pg2uWoqiVudqw268EMmbvGZVt2poa/Nv/h+xIaoaZVymD06+dMXEviq51Ps7+0JPH2w/ldLKUNu05yLqtuwkNj6CAgy39u/xEYZcCasPeDrrPsvWb8QsI5NHTZ/Tt+CMtG9ZRCXPx6g3WbtuNX0AgIWHh/DbkF6qVV1+XPtb2nbv4a9NmQsPCcHJ0pGeP7ri5Fkwz/P+OHsN39WoeP36CjbU1nTt6Ua5sGeXnx46fYNeePdy8FcCLFy9YMGc2BQo4qcTxMDiYJcuWc/XqNeLi4ihd2p1ePbqr/d+fXtt27mbj5i3K+1Sv7l3fm49/jh3Hd/VaHj1+go21FV282lM+RT5WrlnHkaPHePr0Gbly5cLFuQAd27ej0Js4Hz1+zJr1f3Lx8n+EhoWT29yMmtW/58eWzdHS0vrofLzLtHZDzBs2R9PUnNi7t3myYgExAX5qw9p6T0W/SIlU2yPPn+LBFG8AFDq65P2xM4ZlK6JpZEzck0eE7dlGxMFdWZbmtDStYcj3pfXQ19XgZtArfHc853Fo2vfb6f3zktdMM9X2g6eiWLXrBXlMNZkxIK/afedtCOPM1dgsS3uyLz0Pcj19PmUBYPh9XUxqN0XTxJRX9wMJXbeEV4E31Ya1+HUCuq5FU22P/u8sT+dOAMCkYWsMylZB0ywPifHxvAoKIHzral7dUR9nVvrSy+NrKgvx7ZHGSPFBenp66OnpZcuxjI2N8fPzIzExkTt37tCzZ09atGjBqVOnsuX4GRUQEABA48aNUSjeP8eEjY0NK1euZNiwYcptvr6+2NjYEBQU9EnT+bECAgLo0aMH+fPn/6THya6Gtr/++gtjY2MqV66cLcf7kHHjxtG1a1devXpFYGAgq1evxsPDg/HjxzNixAgAtLW1sbS0zOGUZpyhoWG6G7C1tbX58ccfmTNnTpY1Rh4+epxFS33o16s7bgVd2Lx9J0O8x+OzaC5mpqmvt6vXbzBh2ky6dGhLhbJl+Pufo3hPnMqiWdNwtFd9GHLs5Cmu+/mT2zx1Q9mIcb+R39qK6RPHoKOjzaZtuxg5bhKrlszHPBMNFik1qGpI7YoG/LEpnKeh8TSvZcQQr9wMmf2EuHj1+3gveKby4DW/RS6GdcrD6Ssvldt6NDdFX0+D31eH8iIqgUol9OjT2oxRC55yNziNiLPIvhv3+P3IJYZ7uFPMKjdrzvvT66//saVTHcwNdNXuY6idi82d6yrff86z/Gga6PP8sh/3fDZR5q/5OZ0cFYeO/cu8FWsZ2N2LwgUL8OfOfQwYN411c6diZmqcKnxs7CusLfJSvVI55i5fozbOl7GxODvYUb9GNUZMnZPlaT7yv6MsXrKUPr174eZakC1btzNilDfLFi9SO5Lj6rXrTJo6jU5eHShftiyH//mHsRMmMn/2LBwc7AGIiY2hSOHCVKtahVlz5qWKIyYmhuEjvXFydGTKpIkA+K5ajfe48cyeMR2Nj+jZcOR/x/hj6XL69vqZQq4F2bxtO8O8x7L8j/mYqcvH9Rv8NnUGnTv8RPlyZTh85H+MmTiZBbNm4PgmH/ltrOndoxtWlhbExr5i07btDB01Bt8lCzE1MeHe/QckJCbyS6+fsbG24s7dIGbOnU9MTAzdO3fMcB7UMar4HXnbd+Px0rnE3LyBWb2m5B8+kTv9O/P6eUSq8A9mjEeR6+1PEk0jYxymLuTFv0eV2/K1745+0ZIEz5tK3NPHGBR3x6JzH+LDQog692+WpFudelUMqFVenyVbIngW9ppmNQwZ2N6M4fOepXm/HfvHMzRSzDtmky8XQ7zMlY0QIRGv6Tv1ico+35fRo25lAy7ffCV5eIdcT59PWQDol6mMeYtOhKxZyKs7/hjVbES+X0bz0LsXCS9Sl8fThZMhZXkYGGHlPYvosyeU2+IePyR03WLinz5GoaWNkUcjLPqN4cGIn0mIfJ7leUj2pZfH11QWn4sP/Z4XWevb7RMq0k3dMO0JEyaQL18+jIyM6NKlC0OHDlU7JHP69OlYWVmRO3duevXqRVxc3HuPpVAosLS0xMrKikqVKtG5c2dOnz7N8+dvb35DhgyhYMGC6Ovr4+TkxKhRo5Tx+vj4MHbsWC5duoRCoUChUODj4wNAeHg4Xbp0IW/evBgbG1OjRg0uXbr03vT8999/1KhRAz09PXLnzk23bt2IjIwEknrUJQ8t1dDQ+ODNq0OHDqxYsUJl24oVK+jQoYPKttevX9O5c2ccHR3R09PD1dWV2bNnvzfuj6FQKFi6dClNmzZFX18fFxcXtm/fDiT1YFQoFISEhNCpUyeV83jlyhXq1q2LoaEhFhYW/PTTTzx79kwZb0JCAlOnTsXZ2RkdHR3s7OyYODHph5ujoyMApUqVQqFQ8P333wOph2nHxsbSt29f8uXLh66uLlWqVOHMmbe9oJKHLh86dIgyZcqgr69PpUqV8PNT/5Q82fr16zM8HHjVqlWUKVMGIyMjLC0t+fHHH3ny5EmqcMePH6d48eLo6upSoUIFrly58sG4k+O0s7OjWrVqLF68mFGjRuHt7a3My7vDtENCQmjTpg02Njbo6+tTrFgx1q1bpxLvixcvaNu2LQYGBlhZWTFz5ky+//57lV6xDg4O/Pbbb3Tq1AkjIyPs7OxYvHixSjzvu/6T01auXDkMDAwwNTWlcuXKyt6e7w7Tfl9YgIYNG7J9+3ZevnzbOJYZf23dQT1PD+p41MDBzpZ+Pbujo6PD3gPqe6Nt3r6Lsu6laNWsCfa2+enYrg0uBRzZunOPSrinISHM/WMpw3/9hVy5VJ+MR0Q858HDYFo3b0oBRwfyW1vTtUM7YmJjuXM36x441KlswLYjLzh/PYZ7j+NZtDEcUyNNShdS32gH8CI6gYjIt69Srro8Donn+p23X4xd7LTZfzKK2/fjeBr2mm1HIomKScTRRjvL0p6WNWf9aVrMkcbFHHHKY8yIWqXR1dJk25XAtHdSKMhjoKt85U6j0fJz8HTf//AfPYvH2w7mdFJSWb9jLw1rfU/9mtVwtLVhUHcvdHV02Pn3P2rDF3JxoleHNnhUqZBmT7qK7iXo9mNzvqtQRu3nmbV5y1bq1PHEs5YH9nZ29O3dEx1dHfbtP6A2/Nbt2ylT2p0WPzTDzs6WDj+1w7lAAbbt3KkM41GjBu1+bEOpNKaXuHrtGo+fPOHXAf1wdHDA0cGBQQP6c/PmLS5euvxR+di0dRt1PWtTp1ZN7O1s+aXXz+jo6LAvjfvUlu07KFvanZY/NMXe1havn9riXMCJbTt3K8PU+P473EuWwMrSEgd7O3p06UR0dDS37wQCULa0O4P69aWMeymsLC2pVL4cLZo24diJrGuAMavfjIhDe3l+ZD+vHgTxeOkcEl7FYlLdU234hKgXvI4IU74MiruTEBvDi3//pwyj51qY5/8c4OW1y8Q/fUzEoT3E3r2NnrNrlqVbHc+K+uz4XyQXbsRy73E8izdHYGqkibvb++63iSr325KuOjwOiedGYNL9NjERlc8jIhMoXUiX01diiH2V9aNEvvQ8yPX0+ZQFgHGtxrw4tp+oE38TF3yf0DULSXwVi2HlmmrDJ0RHkvA8XPnSLVySxFexRJ87rgwTffp/xFy/TPyzx8QF3yNs43I09AzQzu+Q5elP6Usvj6+pLMS3SRojRYatWbOGiRMnMmXKFM6dO4ednR0LFy5MFe7w4cMEBARw+PBhfH198fHxUTZopceTJ0/YsmULmpqaaGq+/dFvZGSEj48P165dY/bs2SxZsoSZM2cC0KpVK3799VeKFClCcHAwwcHBtGrVCoAWLVrw5MkT9uzZw7lz53B3d6dmzZqEhoaqPX5UVBSenp6YmZlx5swZNm7cyMGDB+nduzeQNAw1uXEx+Vjv06hRI8LCwjh27BgAx44dIywsLFXjWEJCAvnz52fjxo1cu3YNb29vhg8fzp9//pnuc5deY8eOpWXLlly+fJl69erRtm1bQkNDsbW1JTg4GGNjY2bNmqU8j+Hh4dSoUYNSpUpx9uxZ9u7dy+PHj2nZsqUyzmHDhjF58mRGjRrFtWvXWLt2LRYWFgCcPn0agIMHDxIcHMzmzZvVpmvw4MFs2rQJX19fzp8/j7OzM56enqnKasSIEcyYMYOzZ8+SK1cuOnXq9N78Hjt2jDJlMvbjOC4ujvHjx3Pp0iW2bt1KYGAgXl5eqcINGjSIGTNmcObMGfLmzUvDhg0/2Piuzi+//EJiYiLbtm1T+3lMTAylS5dm165dXLlyhW7duvHTTz8pzy0kDa8/fvw427dv58CBAxw9epTz58+nimvGjBmUKVOGCxcu0LNnT37++WdlI+iHrv/4+HiaNGnCd999x+XLlzl58iTdunVT2yifnrBlypQhPj4+S3pBx8XF4X8rAPcSxZXbNDQ0cC9ZnGt+/mr3uXbDn9Ili6tsK1OqJNduvG3gTkhIYPLvc2jZrDEO9qmnjjA2NsLWxpoDf//Dy5gYXr9+zc69+zE1NaGgs/ohrxmV10wTUyNNrgS8HebzMjaRgPuvcLFLX6OhpiZULqnHP+eiVbbfDHpFhWJ6GOgpUCigQjFdtHLB9dtZP8QrpbjXCVx/HEZ5ewvlNg2FgvJ2Flx+GJLmfi9fxVPvj13U/WMn/bccJ+BZ6l4A4v3i4uLxDwikTPEiym0aGhqUKV6Yq363cjBlaYuLi+PmrVu4l3w7DFNDQ4NSJVXra0rXb9xI1chY2r0U12/cyMBxk7rJpGyA1dLWRqFQcPXatQzkIDm+N/epku/ep0qkmY9rN/xUwgOUcS/F9TTCx8XFsXvvfgwM9Cnw5mGgOlHR0RgZZX4qFgA0c6Hr5EL0fyn+5yQmEv3fBXRdCqcrCpPqnrw48Q+JsSnuc37XMChTgVxmuQHQK1ICbSsboi6fy5p0q5F8v70a8PahzcvYRG4/iMPZNn1D2jU1oVJxPf53Ie0HbQ5WubC30uJ/57PmYVxKX3we5HpSkdPXE5q50LYrQMz1FA9gEhOJuX4JHaf0NeQaVvEg6swxEl+l8d1CMxdGVWuTEB3Fq/t3siDR6n3x5fEVlYX4dskw7W/czp07Uw2lfP067XkyAObOnUvnzp2V8zt6e3uzf/9+lR5TAGZmZsybNw9NTU3c3NyoX78+hw4domvXrmnGHRERgaGhIYmJiURHJ/1Q7tu3LwYGBsowI0eOVP7t4ODAwIEDWb9+PYMHD0ZPTw9DQ0Ny5cqlMrT12LFjnD59midPnqCjowMk9drcunUrf/31F926dUuVlrVr1xITE8PKlSuVx583bx4NGzZkypQpWFhYKHuMpmcYrZaWFu3atWP58uVUqVKF5cuX065du1Q9S7S0tBg7dqzyvaOjIydPnuTPP/9UafTLCl5eXrRp0waA3377jTlz5nD69Gnq1KmDpaUlCoUCExMTZf5mzJhBqVKl+O2335RxLF++HFtbW/z9/bGysmL27NnMmzdP2eOzQIECVKlSBYC8eZPmUMmdO3ea5ywqKoqFCxfi4+ND3bpJQzCXLFnCgQMHWLZsGYMGDVKGnThxIt999x0AQ4cOpX79+sTExKCrm/qJZnh4OBEREVhbW2foHKVs4HRycmLOnDmULVuWyMhIlbozevRoatWqBSQNv8+fPz9btmzJcJmZm5uTL18+AgMD1X5uY2PDwIEDle/79OnDvn37+PPPPylXrhwvXrzA19eXtWvXUrNm0pPRFStWqM13vXr16NmzJ5DU43jmzJkcPnwYV1fXD17/WlpaRERE0KBBAwoUSGpoK1SokNo0P3/+/INh9fX1MTExUekt+bEinr8gISEBMzNTle1mpklDFNUJDQ9PNXzbzNSU0BQLB63ftBVNDU2aNayvNg6FQsG0CWPwnjiFhi3boVAoMDM1YfKYkRhlwZyrAKZGSc8Qn0cmqGx/HpmAiWHqOYzUKVNIF31dDf53XrUxcu76MHq3NuOPkVbEv07kVVwis9aEvXfupKwQ/jKW14mJqYZjmxvoEhj6Qu0+9uZGjK5TBpe8pkTGxrHyjB8d1/7Nxo6eWBjpf9L0fk0iXrzgdUIC5u8MxzY3NeHug/c/YMspz58/JyEhAVNT1WkPzExNuXfvvtp9wsLCUw17NjM1JSwsPN3HdXNzRVdXl2UrfOjY/icAlq3wJSEhIc2Hmu+jvE+lSpcJ9+6nnY93R6qYmZoQGh6msu3f02eYOHUGsbGxmJuZMWX8WExMUg+5B3jwMJitO3bRvZNXhvOgjqaxMQpNTeIjwlW2v44IQ9va9oP76xZwRcfOkUeLZqpsf7JiARbdfqHAorUkxseTmJjA48WzeXn9w6MQPpaJYdL9NiLV/fa18rMPKe2mi76ugmPvaayoVlqfB0/iuXUv4w8wP+RLz4NcT6py+nrSNDRCoanJ6+fhKttfv4hAy+rDUzppO7igbWNPiG/qqTD0ipUhT9dfUWjr8DoijMczR5MQqf47QFb40svjayqLz8o3vJhMTpDGyG9c9erVU/VqPHXqFO3atUtzHz8/P2UDRrJy5crx999/q2wrUqSISo9GKysr/vvvv/emx8jIiPPnzxMXF8eePXuUvTBT2rBhA3PmzCEgIIDIyEji4+MxNlb/JTvZpUuXiIyMJHfu3CrbX758qZz38V3Xr1+nRIkSKg2hlStXJiEhAT8/P2Vvv4zo1KkTlSpV4rfffmPjxo2cPHmS+PjUk5LMnz+f5cuXExQUxMuXL3n16lW6VybOiOLF3/awMDAwwNjYWO0Q5GSXLl3i8OHDaucCDAgIIDw8nNjYWGUj2McICAggLi5OZV5HLS0typUrx/Xr19NMv5WVFZDUo1bdgkfJw3/VNVS+z7lz5xgzZgyXLl0iLCyMhISkLy1BQUEULvz2qXzFihWVf5ubm+Pq6poqvemVmJiY5rD/169f89tvv/Hnn3/y4MEDXr16RWxsLPr6SQ0wt2/fJi4ujnLlyin3MTExwdU19VPSlOcveYqE5PL/0PVfrVo1vLy88PT0pFatWnh4eNCyZUtlOaRkbm6errB6enrKhxDvio2NJTZW9clt8oOF7OB/K4DN23exaNa0NMsmMTGROYuWYGpizKzJE9DW1mbP/oOMHD+JBb9PJbd5xueMrFRCj06N3zaSTl+Z8UaPd31XRp9LN2MJf6H6Bby5hxH6uhpMWvaMF9EJlC6sS5/WZoxf8oz7jz/tnJEZVcI6NyWs397Pi1vn5ocVe9l06TY9q6SenF2IzDI1MWHksCHMnb+Qbdt3oFAoqP5dNZwLFEDxmf14KVG8GIvmzCTi+XP27NvPhCnTmDNjaqqGz2fPQhg+eizVqlSiXp3aOZPYd5jU8CT27u1Ui5OY1mmMnosb96d4E//sCXqFimHRqRfxYSFE/3chS45dsbguXg3ffp/8fU3Ye0KnT7XSely+lfp+m0wrV1Iv9O3/RKr9PKO+hjxkJbmePi+GVTx4dT9Q7QIrMX7/ETy+PxqGxhhVrU3e7oMInjRY7dyHH0PKQ1VOloUQyaQx8htnYGCAs7Ozyrb7aTyRz6h3e/wpFAplQ05aNDQ0lOkpVKgQAQEB/Pzzz6xatQqAkydP0rZtW8aOHYunpycmJiasX7+eGTNmvDfeyMhIrKysOHLkSKrP1E12/6kUK1YMNzc32rRpQ6FChShatGiqVZzXr1/PwIEDmTFjBhUrVsTIyIhp06Z9kkV8MlpGkZGRyp5x77KysuL27dtZnsb3SZn+5AaitNKfO3duFAoFYWHp//KRPFTZ09OTNWvWkDdvXoKCgvD09OTVq6yfFByS5oR8+vSpcn7Nd02bNo3Zs2cza9YsihUrhoGBAf369fuo9HxMHU1pxYoV9O3bl71797JhwwZGjhzJgQMHqFChwkeFDQ0NVfaefdekSZNUegxDUm/ULj82TxXWxNgIDQ2NVL2ewsIjMH+nt2Qyc1NTwsIj3gkfjvmb+8N/V68THhFBm07dlZ8nJCSwaLkvm7bvZO2yRVy4/B//njnH1nW+GLxpHC7o3I1zFy+x/9Bh2rRopvbY73P+egwB996Wba5cSde5saGGypdfY0MNgoI//NQ9t6kmRQvoMGutaj3IZ65J7YqGDJn9hAdPkhoegx5F4mqvQ60KBqzY9um+gJrq6aCpUBAapbpqd2hUTLrngdTS1MAtnxn3wj+/L/yfMxMjIzQ1NAgNV52UPjQ8gtxqFnr6HBgbG6OhoUH4O70Bw8LD01zV2szMlLAUvZzfhjfN0LFLu7vjs2wJERERaGpqYmhoSOu2P2H1EYuMKe9TqdIV8d58hKsJb/5OL1E9XV1srK2wsbaisJsrHbr+zN79B2nT8u398llIKAOHj6Kwmxv9e6s+YM6M18+fk/j6NblMTFW2a5qYER/+/v+/Ch0djCp9z7M/V6pu19ImbxsvHkwfR9SFpClJYoPuoOPghHmD5lnWeHThRiwB999ODaGlmXS/NTHUUOk9ZWyomb77rYkGRZy0mbM+PM0wZYvooqOl4PjFrBnC+TXkISW5nt7K6bIAeB35gsTXr9E0NlXZrmlkwuuID5SHtg4GZasQvm2d2s8TX8US//QRPH1EyB1/rMcvwLCyB8/3bsqStH9t5fEll8XnTKGhvsOB+DQ+r0e54ovg6uqqspgIkOp9Vhk6dCgbNmxQznd34sQJ7O3tGTFiBGXKlMHFxSXVsE5tbe1UQ83d3d159OgRuXLlwtnZWeWVJ08etccuVKgQly5dIioqSrnt+PHjaGhoqO1lll6dOnXiyJEjac5vePz4cSpVqkTPnj0pVaoUzs7OafbezG7u7u5cvXoVBweHVOfRwMAAFxcX9PT0OHRI/eT72tpJc9q9byqAAgUKoK2tzfHjbydTjouL48yZMyo9ETNKW1ubwoULcy0Dc3vduHGDkJAQJk+eTNWqVXFzc0uz5+i//76d/D8sLAx/f/80hy2/z+zZs9HQ0FBZ0Cel48eP07hxY9q1a0eJEiVwcnLC3//tPIhOTk5oaWmp1MmIiAiVMOmR3uu/VKlSDBs2jBMnTlC0aFHWrl2bZpzvCxsQEEBMTAylSpVSu++wYcOIiIhQeaVcmT4lLS0tCjoX4MLltz2xExISuHDpMoVdC6rdp7BbQc6/swjFuYuXKeyWlFeP6t+xZO7vLJ4zQ/nKbW5Oy6aNmDJ2FAAxb3puarzTc1KhoUFC4sdNWh7zKpHHoa+VrwdP4gl/8ZoiTm97herpKCiQX5ubQR9ukP7OXZ/nUQlc9FNt+NPWSkrzu8lMSEzkUy8sqKWpQSELM04Hva1bCYmJnA56QnHr3O/Z863XCYncehZBns94EZvPkZZWLgoWcODc5avKbQkJCZy7fI0irs7v2TPnaGlp4eLszIWLb+trQkICFy9eUtbXdxVyc+PiOwvWnb9wkUJubh+VBhMTEwwNDbl46RLhERFUKF/uwzu9Q3mfuqSajwuXLqeZj8Jurir5huR8vP87SWJigsocxs+ehTBw2EhcnAswsF+fj1oJPE2v44m5fRP9Yinu5QoF+kVLEnPz/f9/jSpUQ5FLi+dHVb9DKHLlQpFLCxLfeViWkEBW3qBiXiXyJPS18vXgadL9trDT2/l4dXUUONlopWvIZdU399tL/mnPu1vNXZ8LfrG8iM6ahS2+hjyokOtJKcfLAuB1PK+CAtB1SzF3rUKBbqHixN5+/yKS+qUro8ilRdQp9YujpaKhgSKNRdI+xldXHl9wWQiRTBojRYb16dOHZcuW4evry82bN5kwYQKXL1/+4GrSH8PW1pamTZvi7e0NgIuLC0FBQaxfv56AgADmzJnDli1bVPZxcHDgzp07XLx4kWfPnhEbG4uHhwcVK1akSZMm7N+/n8DAQE6cOMGIESM4e/as2mO3bdsWXV1dOnTowJUrVzh8+DB9+vThp59++qgh2sm6du3K06dP6dKli9rPXVxcOHv2LPv27cPf359Ro0Z9ssbejOrVqxehoaG0adOGM2fOEBAQwL59++jYsSOvX79GV1eXIUOGMHjwYFauXElAQAD//vsvy5YtAyBfvnzo6ekpF76JiEjd28rAwICff/6ZQYMGsXfvXq5du0bXrl2Jjo6mc+fOmUq/p6encgGhlF6+fMnFixdVXgEBAdjZ2aGtrc3cuXO5ffs227dvZ/z48WrjHjduHIcOHeLKlSt4eXmRJ0+eNBsUk7148YJHjx5x7949/ve//9GtWzcmTJjAxIkTU/VYTubi4sKBAwc4ceIE169fp3v37jx+/Fj5uZGRER06dGDQoEEcPnyYq1ev0rlz53St+J7Sh67/O3fuMGzYME6ePMndu3fZv38/N2/eVNsAm56wR48excnJSTmn5Lt0dHQwNjZWeb1vmHbzJg3Zte8g+w4d5u69+8xasJiYmFg8PWoAMPn3OSz1Xa0M36xRfc6cv8ifW7YTdO8+vms34H8rgCYNkuYtNTE2wtHeTuWVK5cm5mZm2Oa3AaCIqyuGBgZMmTmXgDuB3HvwkD+W+/Lo8RMqlC2d7nP/IXuPR9GkuhHubjrkt8hF9+amhL94zbnrbxsYh3XKTa0KqnMnKhRQzV2Po+ejebcDbPDTeB49i6dTYxOc8muRz1yTupUNKFpAh3PXVBsuP4W2ZQqy5fJtdlwJ5HbIc347cJ6XcfE0KuoAwKjdp5n7v7eNy4tPXONk4CPuh0dy/XEYI3efIvh5FE2LOX3ytH4MTQN9jEu4YVwiqfFL3zE/xiXc0LVNPa1BdmvdsA47Dv7DnsNHCbz/gOl/+PIyNpb6NaoBMH72Hyxa/XYBtbi4eG7eucvNO3eJi4/naWgYN+/c5X7w2/tQ9MsYZRiA4CdPuXnnLo+ePsuSNDdr2oQ9+/Zx4OAhgoLuMXf+AmJiYqhdywOAqTN+Z7mPrzJ8k0aNOHvuPH9t3kLQvXusWrOWm7du0bhBA2WY5y9eEBBwm6CgewDce/CAgIDbhIa+7WGy78BBrt+4wcPgYA79fZgJk6bQtEljbPN/eH4udX5o0pjd+w6w/9Df3L13jzkLFhETE4OnR9JUJ1NmzGKZzypl+KaNGnLm/AU2bt5K0L37rFyzDv9bATRuUA+AlzExLPNdxbUbfjx+8gT/W7eYPmsuz0JCqVYlaeqTZ89C+HXYSPLlzUP3Tl5EPH9OaFgYoRkYNfAhYbs2Y1KjLsbVPNC2scWiSx80dHSJOLIfAMteg8jTpmOq/Uyq1yHy7IlUc5MlvIwm+uol8rbril7h4mjltcD4u1oYV/Mg8syJLEu3OvtORtPoO0NKueqQP18uujUzIfzFa87feHtfHOxlhke51PfbqqX0OHbxZar7bbJ85pq42mulWkwsq33peZDr6fMpC4DnB7ZhVLUWBhWrk8syP+Zte6DQ1iXyeFKjb+6Ov2DaNPV0X4ZVPIi+eIqEKNXyUGjrYNqkHdqOBdE0z4u2XQFyd+hNLlNzos8eTxVPVvrSy+NrKgvxbZJh2iLD2rZty+3btxk4cCAxMTG0bNkSLy8vldV8s1L//v2pWLEip0+fplGjRvTv35/evXsTGxtL/fr1GTVqFGPGjFGG/+GHH9i8eTPVq1cnPDycFStW4OXlxe7duxkxYgQdO3bk6dOnWFpaUq1atTQbFvX19dm3bx+//PILZcuWRV9fnx9++IHff/89U/nJlStXmr0xAbp3786FCxdo1aoVCoWCNm3a0LNnT/bs2ZOp42YFa2trjh8/zpAhQ6hduzaxsbHY29tTp04dZc+KUaNGkStXLry9vXn48CFWVlb06NEDSMr7nDlzGDduHN7e3lStWlXt0PnJkyeTkJDATz/9xIsXLyhTpgz79u1Lc+haenXu3JkyZcoQERGBicnbIYj+/v6peuTVrFmTgwcP4uPjw/Dhw5kzZw7u7u5Mnz6dRo0aqU3zL7/8ws2bNylZsiQ7duxQ9gRNi7e3N97e3mhra2NpaUmFChU4dOgQ1atXT3OfkSNHcvv2bTw9PdHX16dbt240adJEpWH3999/p0ePHjRo0ABjY2MGDx7MvXv3MjRf5oeuf319fW7cuIGvry8hISFYWVnRq1cvunfvrjauD4Vdt27dexe3yqjqVSsTERGBz5r1hIWFU8DJkcljRyqHaT95+kylcbZIITdGDOzH8tXrWL5yDTbWVowbMRhHNatmp8XExJjJY0eyfNVafh0xmtfxr7G3s2XciCEUcHTIsrztPBqJjraCTk1M0dfVwP/uK6b6hBCXYlrHfOaaGOmrLmhTpIAOecxyqf1i/DoBpq0MoVVtY379yRwdbQWPQ17zx6bw9z71zyqebraERcey8PhVQqJjcM1ryrzmVZXDtB89jyblyJnnsa8Yv+8cIdExGOtoUcjCjBVtauCU5/3zB+cUk9JFqXjobaNS4enDAbi3cjOXO6vv4ZtdalapQPjzFyxdt5nQ8AicHe2YMWoQ5m+GaT9+FoJGipP/LCyMjr+OUr5ft20P67btoWQRN+aNT8rXjYA79PWepAwzd0VSL+i61aswok/qBeMy6vtqVYmIiGDl6jWEhYXh5OTExHFjlf8jnj59qtJDuUjhQgwdNBDfVavx8V2JtY01o0eOwMHBXhnm339PMWPWbOX7SVOmAtDuxzb81PZHIGkamxU+vryIjMQiXz7atGpJsyaNM5GPKoRHROC7eh1hYWEUcHLkt3GjlcPHnzx9qjJkrEghN4YNGoDPqjWsWLkaG2trxowYiuObfGhqaHDv/gMOHJrC8+fPMTI2wtXFhZlTfsPhzb3s3MWLPAwO5mFwMG28VB/wHdi59aPzktKLk/+gaWxCnpbt0TQ1IzbwNvcnjeD1m0VItHLn5d1f8FpW+dEvVJR7E9TXh4ezJ5H3x05Y9RmCpqERcU+f8Gy9D+EHdmZJmtOy+1gUOtoKvBoZo6+rwc2gV0xfFaZ6vzXLhaGBak+qIk7a5DHVfO8KutXc9Qh7nsCVgE8z7UuyLz0Pcj19PmUBEH32OGFGJpg2aoOmsRmv7t/hyZyxyvkEc5nnTTXMIpeFNbouhXk8c3Sq+BITEtCytCFvxSFoGhrzOuoFrwJv8mjqcOKC733SvHzp5fE1lcVnQyF99bKTIjHxI8eOCZFCrVq1sLS0VM7tKMTnqkWLFri7u6c5xPdrFBUVhY2NDTNmzMh079JP4erVq9SoUQN/f3+VRuL0uO//6Va+zC75Cxal3YiHOZ2MTFk90ZqoJSNzOhmZZtB1Aru0Pn4ajs9B/Tg/nl7N+jmGs1veIuUJvJWx6SU+Rw7OBQm6+XGLmX0u7FwK4dfKM6eTkWmuG/bRwftRTicjU3zHWX7xeYCkfMg19XnwHWfJ3W5NcjoZmWa/eKuUxWfCfvHWnE7CR4tcMDRHjmvYc3KOHDenSc9IkWHR0dEsWrQIT09PNDU1WbduHQcPHuTAgQM5nTQhPmjatGns2LEjp5PxSV24cIEbN25Qrlw5IiIiGDduHACNG398D55PKTg4mJUrV2a4IVIIIYQQQgghsoQsYJOtpB+qyDCFQsHu3bupVq0apUuXZseOHWzatAkPD4+cTpoQH+Tg4ECfPn1yOhmf3PTp0ylRogQeHh5ERUVx9OjR904PkJM8PDzw9Pzye0gIIYQQQgghxKc2f/58HBwc0NXVpXz58u+dMs/HxweFQqHyenf6rsTERLy9vbGyskJPTw8PDw9u3rz5SfMgPSNFhunp6XHw4MGcToYQIg2lSpXi3LlzOZ0MIYQQQgghhPgiKL6QOSM3bNjAgAEDWLRoEeXLl2fWrFl4enri5+dHvnz51O5jbGyMn9/bldbfXdh06tSpzJkzB19fXxwdHRk1ahSenp5cu3YtQ+sOZMSXcbaFEEIIIYQQQgghhPiG/f7773Tt2pWOHTtSuHBhFi1ahL6+PsuXL09zH4VCgaWlpfKVchHfxMREZs2axciRI2ncuDHFixdn5cqVPHz4kK1bt36yfEhjpBBCCCGEEEIIIYQQ2Sw2Npbnz5+rvGJjY9WGffXqFefOnVOZIk9DQwMPDw9OnjyZ5jEiIyOxt7fH1taWxo0bc/XqVeVnd+7c4dGjRypxmpiYUL58+ffGmVnSGCmEEEIIIYQQQgghvl0aihx5TZo0CRMTE5XXpEmT1Cbx2bNnvH79WqVnI4CFhQWPHqlfUd7V1ZXly5ezbds2Vq9eTUJCApUqVeL+/fsAyv0yEmdWkDkjhRBCCCGEEEIIIYTIZsOGDWPAgAEq23R0dLIs/ooVK1KxYkXl+0qVKlGoUCH++OMPxo8fn2XHyShpjBRCCCGEEEIIIYQQ3yyFRs4MHNbR0Ul342OePHnQ1NTk8ePHKtsfP36MpaVluuLQ0tKiVKlS3Lp1C0C53+PHj7GyslKJs2TJkumK82PIMG0hhBBCCCGEEEIIIT5j2tralC5dmkOHDim3JSQkcOjQIZXej+/z+vVr/vvvP2XDo6OjI5aWlipxPn/+nFOnTqU7zo8hPSOFEEIIIYQQQgghhPjMDRgwgA4dOlCmTBnKlSvHrFmziIqKomPHjgC0b98eGxsb5byT48aNo0KFCjg7OxMeHs60adO4e/cuXbp0AZJW2u7Xrx8TJkzAxcUFR0dHRo0ahbW1NU2aNPlk+ZDGSCGEEEIIIYQQQgjx7VIocjoF6dKqVSuePn2Kt7c3jx49omTJkuzdu1e5AE1QUBAaKYach4WF0bVrVx49eoSZmRmlS5fmxIkTFC5cWBlm8ODBREVF0a1bN8LDw6lSpQp79+5FV1f3k+VDGiOFEEIIIYQQQgghhPgC9O7dm969e6v97MiRIyrvZ86cycyZM98bn0KhYNy4cYwbNy6rkvhB0hgphBBCCCGEEEIIIb5dObSAzbdKzrYQQgghhBBCCCGEECJbSGOkEEIIIYQQQgghhBAiWygSExMTczoRQgghhBBCCCGEEELkhGjf7JsvMSX9Dt45ctycJnNGCiGE+GL5BwTldBIyrWABO877h+R0MjLFvWBuHl8/l9PJyDSLQqV5evVUTicjU/IWKc8uLdecTkam1Y/z44H/fzmdjEyzKViMRzcu5HQyMsXSrdQXXy8gqW58DffaLz0PkJQPuaY+D+4FcxP637GcTkammRerImXxmTAvViWnkyC+ENIYKYQQQgghhBBCCCG+WQpZwCZbydkWQgghhBBCCCGEEEJkC+kZKYQQQgghhBBCCCG+XQrpq5ed5GwLIYQQQgghhBBCCCGyhTRGCiGEEEIIIYQQQgghsoUM0xZCCCGEEEIIIYQQ3y4NRU6n4JsiPSOFEEIIIYQQQgghhBDZQnpGCiGEEEIIIYQQQohvlkIWsMlWcraFEEIIIYQQQgghhBDZQhojhRBCCCGEEEIIIYQQ2UKGaQshhBBCCCGEEEKIb5csYJOtpGekEEIIIYQQQgghhBAiW+RoY2RgYCAKhYKLFy9mOi4HBwdmzZqV6Xg+N1l5jj5n33//Pf369cvpZHyTjhw5gkKhIDw8PM0wPj4+mJqaZsnxsjKunPYl1s9Dhw5RqFAhXr9+/UniHzNmDCVLlszQPq1bt2bGjBmfJD1CCCGEEEII8UEKjZx5faMyNEzby8sLX19funfvzqJFi1Q+69WrFwsWLKBDhw74+PhkZRrT5cyZMxgYGGQqDgcHB+7evQuAvr4+rq6uDBs2jBYtWmRFEj+Kra0twcHB5MmTB0hqOKpevTphYWGZbtD5/vvv+eeffwDQ1tYmT548uLu707FjR5o1a5bZpGfI5s2b0dLSUr53cHCgX79+mW6gTL5m33Xz5k2cnZ0zFfenplC87SZuZGSEq6srI0eOpHHjxll6nEqVKhEcHIyJiUmm4kmZXn19faytralcuTJ9+vShdOnSys9atWpFvXr1MnWsnODl5UV4eDhbt25Vbnu3fmbEmDFjGDt27HvDJCYmZjje5Li3bt2qtpF08ODBjBw5Ek1NTQBev37NtGnT8PHx4e7du+jp6eHi4kLXrl3p0qULkHSvKFmyZLoe+AwcOJA+ffpkKL0jR46kWrVqdOnSJdPXYUqJiYmsWe3L/r17iIqKpFDhIvTs1Rdrm/zv3W/Xjm1s3rSRsLBQHB0L0P3nXhR0dVN+Pm/uLC5dOE9oaAi6unoUKlyYDh27YGtrpwzzx6L5XL92lbuBgdja2TJn3h9Zmq+/1izl7/3biYp6gWuh4nTqOQgra9s097l+5QI7N6/ldoAf4aHPGDB8EmUrfqf8PD4+nj9X/8HFsyd58ughegaGFCtRhtYdfsY8d95Mp3nz7v2s37KT0PAICjjY8UvXDhQumPY9+PDxf1m2diOPnjzDxsqSHu1bU7FMKeXnoeERLPJdx5mLl4mMiqZEETd+6doBW2srAJ6/iGT5ur84c/E/Hj97hqmxMVXLl6Hzjy0wNNDPdH6SbdpzkHVbd7/Jly39u/xEYZcCasPeDrrPsvWb8QsI5NHTZ/Tt+CMtG9ZRCXPx6g3WbtuNX0AgIWHh/DbkF6qVL602vuxmXqUMTr92xsS9KLrW+Tj7Q08ebz+UY+nZumsPGzZvJzQsnAKO9vTp3plCBV3SDH/k2AlWrF7PoydPyW9tRVevdlQo4678fMrMeez7+4jKPmXdSzJl7Ejle/9bt1niu5obN2+hqaFB1UoV6Nm5A3p6eh+djy279rF+6w5Cw97UjW4dKfSBurF8zZ88evIUG2tLerT/kQop6kb0yxgWr1zLsVNniXjxAqt8+fihQR0a160FJNeNjZy9cFlZN6qUL0vnti0/67qxatMO/vn3LHcfBKOjrUUxNxd+/qkVdjZWWZbmd32Key3A6RNHOLhnC3cC/Ih88ZxJs31wcCoo+XiPr+F6gq+jLAD+2vM3a7bvJTQ8Amd7WwZ0/pEiLk5qw96+94Al67dy4/ZdHj0N4Rev1rRuUCvNuFdu2c3CNZtoWd+D/h3bfKosSFl8RmUhvl0Zboa1tbVl/fr1vHz5UrktJiaGtWvXYmdn9549P41Xr14BkDdvXvT1M/8laty4cQQHB3PhwgXKli1Lq1atOHHiRKbSlhmamppYWlqSK9enmd6za9euBAcHExAQwKZNmyhcuDCtW7emW7dun+R4aTE3N8fIyOiTxF2nTh2Cg4NVXo6Ojp/kWB+SmJhIfHx8usOvWLGC4OBgzp49S+XKlWnevDn//fdflqZJW1sbS0tLlcbEj5Wc3qtXrzJ//nwiIyMpX748K1euVIbR09MjX758mT7W5yAz9XPgwIEq12T+/PmV95/kV1Y7duwYAQEB/PDDD8ptY8eOZebMmYwfP55r165x+PBhunXr9t6esuokX9uGhobkzp07Q/sWLVqUAgUKsHr16gzt9yGb/trAzu1b6dn7F6bPnIuuri7eo4a999589J8jLF3yB21+bMesuQtxdHLCe9QwwsPDlGGcnV34pf9AFvyxjLETJpGYmIj3yKGpepvWquVJ1WrfvXuITNuxaTV7d26kc89BjJ++FB1dXSZ79+fVq9g094mNicHO0ZlOPX5V+/mr2BjuBPjTtFVHfpu1ggHDfuPhgyCmTxiS6fQeOnaS+ctX49W6GUt/n4izgx0Dx04mLDxCbfj/bvgzbsY86nt8z9Lff6Nq+dKMmPw7t+/eA5KutRGTZvDw8RN+G/4ry2b+hkXePAwYPYmXMTEAPAsN41loGD29fsR39lSG9e3BqQuXmDJvcabz8zZf/zJvxVo6tmzCsunjcHawY8C4aYSFP1cbPjb2FdYWeenxU0tym6pvdH8ZG5sUT9f2WZbOrKJpoM/zy35c6fv+hyjZ4fDR4yxc6kv7Ni34Y9ZUCjg6MMR7QprX1JXrN5gwbRZ1a9dk8expVK5QFu+JU7lzN0glXDn3kvy1conyNXJQP+Vnz0JCGTRqHNZWlsyfPonJY0YSGHSPKbPmf3Q+/j56gvnLV9GhVXOW/D6JAo72DBwz6T358GP89DnU86jOkpmTqVq+DCMmTVfWDYD5y1dy+vwlRvTvxcp5M2jeqC6zF6/g+KmzSfkIDSMkNIyfO7bDZ840hv3yM6cvXGTq3EVqj/kxPkXduHD1Bs3qevDHZG9mjh5CfPxr+o+dysuYtO97mfUp7rVJYV7iWrgEbTr0/BTJTuVLz8fXcj3Bl18WAAePn2aO7wY6t2iEz9TRuDjY0n/CTEIj1JdHzJvy6Nn2hzTLI9m1W3fYeuAfnO3f/9A4K0hZfD5l8VlRKHLm9Y3KcGOku7s7tra2bN68Wblt8+bN2NnZUapUKZWwe/fupUqVKpiampI7d24aNGhAQEBAmnG/fv2azp074+joiJ6eHq6ursyePVsljJeXF02aNGHixIlYW1vj6uoKpB6m/fvvv1OsWDEMDAywtbWlZ8+eREZGfjB/RkZGWFpaUrBgQebPn4+enh47duzIVNpWrVpFmTJllHH/+OOPPHnyRLlfWFgYbdu2JW/evMpeSStWrABUh4EGBgZSvXp1AMzMzFAoFHh5eQGQkJDApEmTlOkrUaIEf/311wfzq6+vj6WlJfnz56dChQpMmTKFP/74gyVLlnDw4EFluHv37tGyZUtMTU0xNzencePGBAYGpsr79OnTsbKyInfu3PTq1Yu4uDhlmAULFuDi4oKuri4WFhY0b95c+VnKYdrff/89d+/epX///igUChQKBVFRURgbG6fK09atWzEwMODFixdp5lFHRwdLS0uVV3KvsG3btuHu7o6uri5OTk6MHTtW2Vj4448/0qpVK5W44uLiyJMnj7Jx7UPnPXkI9J49eyhdujQ6OjocO3bsg+WSzNTUVHk9jh8/nvj4eA4fPqz8/EN1LPn6Wb9+PZUqVUJXV5eiRYsqe8SmTGPKxicfHx/s7OzQ19enadOmhISEZCi9Dg4O1K5dm7/++ou2bdvSu3dvwsLClHGn7NUbEBBA48aNsbCwwNDQkLJly6pcewDBwcHUr18fPT09HB0dWbt2bao6r1AoWLp0KU2bNkVfXx8XFxe2b9+uEs8///xDuXLl0NHRwcrKiqFDh6o0Dv/1118UK1YMPT09cufOjYeHB1FRUYwZMwZfX1+2bdumvCaPHDmidpj21atXadCgAcbGxhgZGVG1alW19z1DQ8NU12TyPcLS0pK4uLj31rkjR45Qrlw5DAwMMDU1pXLlyty9excfHx/Gjh3LpUuXlGlN7q2+fv16atWqha6urjKe7du307NnT1q0aIGjoyMlSpSgc+fODBw4EEiq2//88w+zZ89WxhcYGJjmtf3uMO3ke8PYsWPJmzcvxsbG9OjRI1WDYMOGDVm/fn3qi+ojJSYmsn3rFlq2bkuFipVwdHSi/69DCA0J4d+Tx9Pcb+uWTXjWqYtH7TrY2dnTs/cv6OjocGD/PmWYOnXrU7RYcSwsLHF2dqFd+448e/qUJ08eK8N079GL+g0bY2mZtb0sEhMT2bP9T5q29KJMhWrYOzrTs783YaHPOPvv/9Lcr2SZirT6qXuqJ/jJ9A0MGTF+NhWr1sQ6vz0ubkXp2H0Ad27d4NmTR5lK85/bdtOgdnXq1fweB9v8/PpzZ3R1dNh16B+14f/asZdy7iVo07QhDrY2dGnbkoJOjmzevR+A+w8fcdXvFr/26EQhlwLY2Vjza49OxL56xaGjJwFwsrdlwtD+VC5XGhsrC0oXL0LXti05ceY88Vk0RcH6HXtpWOt76teshqOtDYO6e6Gro8POv9Xnq5CLE706tMGjSgWVkQApVXQvQbcfm/NdhTJZksas9HTf//AfPYvH2w5+OPAntnHrDup5elDXowYOdrb079kNHR0d9hz4W234zdt3U869JK2bNcbeNj+d2rXBpYAjW3fuUQmnpaWFuZmZ8mVkaKj87N8z58iVS5NfenTBLr8NbgWd6d+zG/878S8PHn7cw6M/t+2iQe0a1PP4Hge7/Pz6cxd0dbTZffCI2vB/7diTVDeaJdWNzm1bUdDJkS273t6frt7wx7NGNUoVK4KVRT4aeXpQwNGe6zeT/g852dsyfuiAN3XDEvfiRenSrvVnXzd+9x5EvRpVcbLLj4ujHcP7dOXxsxD8Au5kSZrf9anutQBVa9TlhzadKFay7KdIuoqvIR9fw/UEX0dZAKzbsZ9GHtVoUKMKjrbWDO72Ezo62uz8W/3vm8LOjvRp35JaVcqjpZX2w/volzGMmb2EoT06YJTJ0Y4fImXx+ZSF+LZ91AD1Tp06KRvLAJYvX07Hjh1ThYuKimLAgAGcPXuWQ4cOoaGhQdOmTUlISFAbb0JCAvnz52fjxo1cu3YNb29vhg8fzp9//qkS7tChQ/j5+XHgwAF27typPmMaGsyZM4erV6/i6+vL33//zeDBgzOUz1y5cqGlpcWrV68ylba4uDjGjx/PpUuX2Lp1K4GBgcpGRIBRo0Zx7do19uzZw/Xr11m4cKHaYZ+2trZs2rQJAD8/P4KDg5UNopMmTWLlypUsWrSIq1ev0r9/f9q1a6fS6JReHTp0wMzMTNngHBcXh6enJ0ZGRhw9epTjx49jaGhInTp1VBoUDh8+TEBAAIcPH8bX1xcfHx9lI8jZs2fp27cv48aNw8/Pj71791KtWjW1x9+8eXOqXmIGBga0bt1a5bqDpJ54zZs3/6helUePHqV9+/b88ssvXLt2jT/++AMfHx8mTpwIQNu2bdmxY4dKI/a+ffuIjo6madOmQPrP+9ChQ5k8eTLXr1+nePHiGU5rfHw8y5YtA5J6MiZLbx0bNGgQv/76KxcuXKBixYo0bNgwzQbGU6dO0blzZ3r37s3FixepXr06EyZMyHCak/Xv358XL15w4MABtZ9HRkZSr149Dh06xIULF6hTpw4NGzYkKOhtj5X27dvz8OFDjhw5wqZNm1i8eLFKg36ysWPH0rJlSy5fvky9evVo27YtoaGhADx48IB69epRtmxZLl26xMKFC1m2bJkyb8HBwbRp04ZOnTpx/fp1jhw5QrNmzUhMTGTgwIG0bNlSpZdtpUqVUh3/wYMHVKtWDR0dHf7++2/OnTtHp06dMtQbFj5c5+Lj42nSpAnfffcdly9f5uTJk3Tr1g2FQkGrVq349ddfKVKkiDKtyY3qR48epUwZ1UYOS0tL/v77b54+fao2LbNnz6ZixYrKXtTBwcHY2r4dwpKea/vQoUPKc7pu3To2b96caoh6uXLlOH36NLGxWdMr4fGjR4SFhVKy5NuHZAYGBhR0dePG9Wtq94mLi+PWLX9KlHw7dFNDQ4OSJd3xu6F+n5iYlxw8sA8LS0vy5Mn8cOYPefL4IeFhIRQt+bYc9Q0MKVCwMDdvXMnSY0VHR6FQKNA3/Phe63Fx8fgH3KFM8aLKbRoaGpQuUZSrfjfV7nPV7yalU4QHKFequDL8qzcPubRT/MjU0NBAK1cuLl/zSzMtUdEv0dfXI9ebh1GZkZSvQMoUL6KShjLFC3PV71am4xdpi4uLw//WbUqXeHu/0dDQoHTJYlzzU1/+1274415S9f5UtlRJrt7wV9l28cpVmrXrRPsefZm5YDERz98+6HwVF0euXLnQ0Hj71Vnnzf/j/67d+Ih8JNWN0iWKqeajRDGu+vmr3eeq302V8En5KKESvohbQY6fPsfTkFASExM5f/kq9x4EU7ZU2t89oqKiv7i6ERWdNELLOEWDcVbKznvtp/Sl5+NruZ7gyy8LSCoPv9t3KVu8kHKbhoYGZYsV5opf2h2O0mP60jVUci9OueKFM5vMD5KyeL/sLAvxbfuosb/t2rVj2LBhyvkVjx8/zvr16zly5IhKuJRDASGp0TJv3rxcu3aNokVVf2hA0hPplD9QHR0dOXnyJH/++SctW7ZUbjcwMGDp0qUqjTLvSjnXoIODAxMmTKBHjx4sWLAgXXl89eoVM2bMICIigho1amQqbZ06dVL+7eTkxJw5cyhbtiyRkZEYGhoSFBREqVKllI0EDg4OatOkqamJubk5APny5VP2LouNjeW3337j4MGDVKxYUXmcY8eO8ccff/DddxkbJqihoUHBggWVvbA2bNhAQkICS5cuVQ7lXbFiBaamphw5coTatWsDSb01582bh6amJm5ubtSvX59Dhw7RtWtXgoKCMDAwoEGDBhgZGWFvb5+qJ20yc3NzlV5iybp06aKc39DKyoonT56we/fuVL3o3rVz504MU3y5qFu3Lhs3bmTs2LEMHTqUDh06KM/Z+PHjGTx4MKNHj8bT0xMDAwO2bNnCTz/9BMDatWtp1KgRRkZGGTrv48aNo1attOfkSEubNm3Q1NTk5cuXJCQk4ODgoHK9pbeO9e7dWxl24cKF7N27l2XLlqltoJ89ezZ16tRRflawYEFOnDjB3r17M5x+ADe3pLn2UvbqS6lEiRKUKFFC+X78+PFs2bKF7du307t3b27cuMHBgwc5c+aMso4sXboUF5fUc4N5eXnRpk3SnCa//fYbc+bM4fTp09SpU4cFCxZga2vLvHnzUCgUuLm58fDhQ4YMGYK3tzfBwcHEx8fTrFkz7O3tAShW7O2PPj09PWJjY1WuyXfNnz8fExMT1q9fr3waX7BgxueJ+VCdK1OmDBERETRo0IACBZLmTCpU6O2XEUNDQ3LlypUqrXfv3sXa2lpl2++//07z5s2xtLSkSJEiVKpUicaNG1O3bl0ATExM0NbWVvaifld6rm1tbW2WL1+Ovr4+RYoUYdy4cQwaNIjx48crf9hbW1vz6tUrHj16pDz/mREWltQIbWpmprLd1NRM2Uv3Xc+fR5CQkICZmn3u37unsm3Xzu34LF9CTEwMNvltGT9xSpo9MLJSxJt8mZiaq2w3MTUn/M1nWeHVq1jW+SygUrVa6Ot//FPxiBcveJ2QgNk7w4HMTUwIuv9Q7T6h4eGYvxPezMSE0LBwAOzzW2ORNw+LV61nYM/O6Oro8ueO3TwNCSUkjbINf/4c3z+30Kh2jY/OS0rJ+TI3NVbZbm5qwt0HWT/Fgngr4vmLN/X0nWvE1JSg+w/U7hMaHo7ZO/Nsm5maEJZiREDZ0iWpUqk8Vhb5eBj8mGWr1jJ0zETmTZuIpqYmpYoXY+EyX9Zv3sYPDesRExvLEt81SfGncd29Px/P1dYNM1OTD+QjdfjQsLfDun/p1pHp85fQvFNPNDU10VAoGNirGyWKFHo3OiCpbqz8czMNa9fMcB7UyY66kZCQwJzlqynm5oLTJxpCmF332k/tS8/H13I9wZdfFgDhyeVh8m55GGeqPA4cO4Xfnbssnzwqs0lMFymLtGV3WXx2ND6qr574SB/VGJk3b17q16+Pj48PiYmJ1K9fX21Pvps3b+Lt7c2pU6d49uyZsrdWUFCQ2sZISPoxv3z5coKCgnj58iWvXr1KtTJrsWLF3tsQCXDw4EEmTZrEjRs3eP78OfHx8cTExBAdHf3euSWHDBnCyJEjiYmJwdDQkMmTJ1O/fv1Mpe3cuXOMGTOGS5cuERYWpnIeChcuzM8//8wPP/zA+fPnqV27Nk2aNFHb6yott27dIjo6OlWDwKtXr9Js8PuQxMREZSPIpUuXuHXrVqrehzExMSrDT4sUKaIc/gxgZWWlnN+wVq1a2Nvb4+TkRJ06dahTp45yOG16lStXjiJFiuDr68vQoUNZvXo19vb2afawTFa9enUWLlyofJ+80NGlS5c4fvy4sickJE0VkPI6admyJWvWrOGnn34iKiqKbdu2KYeSZuS8p+yNlrJhtF27dqkWg0pp5syZeHh4cPv2bfr378+cOXOUDdKQ/jqW3FgKST1+y5Qpw/Xr19Ue8/r168qenyn3/9jGyORFWNKakzIyMpIxY8awa9cuZYPgy5cvlT0j/fz8yJUrF+7ub3urOTs7p2owAlR65hkYGGBsbKzsQXn9+nUqVqyoko7KlSsTGRnJ/fv3KVGiBDVr1qRYsWJ4enpSu3ZtmjdvrvY4abl48SJVq1bNdKPUh+pc7dq18fLywtPTk1q1auHh4UHLli2xsnr/kOCXL1+qDNEGKFy4MFeuXOHcuXMcP36c//3vfzRs2BAvLy+WLl36wbS+29NSnRIlSqjU9YoVKxIZGcm9e/eUDY/JC0BER0erjSM2NjZVr0kdHR3l30cOH2L+3FnK995jP743b3p8X70mpUq5ExoaypbNG5kyaQJTp8/64P+mjDp2ZB9L509Vvh/sPT1L41cnPj6e2VNGkZiYSKeegz758TIqV65cTBjSjynzllC/XTc03/S0LO9eQm34qOhohoyfhoOtDR1b/6A2jBA1qlVR/u3kYI+Toz3tuvbi0pWruJcojqO9LUP79WbBMl+W+q5BU0ODpg3rYWZqmiVzLmeVzTv3cs3vJr+NGIRlvjxcunqdWX8sJ4+5GWVKqvaqjIqOZui4Kdjb2tCxTfM0Yvz8/L5kJbeDHrBg4sgPB06nnLjXfgpfSz6y06e4nkDKIr0ePwtl5or1zBk1AB3tT/NQV8oifbKjLIRI6aNXRenUqRO9e/cGkhrp1GnYsCH29vYsWbIEa2trEhISKFq0aJqLB6xfv56BAwcyY8YMKlasiJGREdOmTePUqVMq4T60anZgYCANGjTg559/ZuLEiZibm3Ps2DE6d+7Mq1ev3tsANmjQILy8vDA0NMTCwkL5BfNj0xYVFYWnpyeenp6sWbOGvHnzEhQUhKenp/I81K1bl7t377J7924OHDhAzZo16dWrF9Onp+9GmTyMeNeuXdjY2Kh8lvLHenq9fv2amzdvUrZsWWX8pUuXZs2aNanC5s37dljiuw0wCoVC2ThmZGTE+fPnOXLkCPv378fb25sxY8Zw5syZDK0K3qVLF+bPn8/QoUNZsWIFHTt2/OCPAAMDA7UrZ0dGRjJ27Fi1K4cnN9i0bduW7777jidPnnDgwAH09PSoU6eOcn9I33lPeV2knF/Q2Fj1ada7LC0tcXZ2xtnZmRUrVlCvXj2uXbumXAAmo3UsJyQ3eqa1aNDAgQM5cOAA06dPx9nZGT09PZo3b/5ReXjfNfghmpqaHDhwgBMnTrB//37mzp3LiBEjOHXqVLoXPMrMiqoppafOrVixgr59+7J37142bNjAyJEjOXDgABUqVEgz3jx58qjtFaihoUHZsmUpW7Ys/fr1Y/Xq1fz000+MGDHig3n/0P04vZKH06e8p6Q0adKkVEO7R48ezY8/JfU8L1e+osqK18nz1YaHhWFu/nZBnfDwMJyc1K/AaWxsgoaGRqpzFB4ehpm5aqO0gYEBBgYGWNvkx9WtEG1aNuPkiWN8933W9LxLVrpcFZwLvh2eFheXVC8iwkMxM3/7EDAiPBQHp7RXEk6vpIbIkTx78oiRE+dmqlckgImREZoaGqkW5AiNiMDczFTtPuampoS+Ez7snfCuzk4snzWJyKho4uPjMTUxpvugUbg6q64gGf3yJQPHTkFfT5cJQ/tn2WJwyfkKfWcBhdDwiA9OCi8yx8TY6E09fecaCQ9/7zUV9s6iXGHhEal6S6ZkbWmBibExDx4+wv3NkPCa31el5vdVCQ0LR09XBxQK/tq2EytLi4/Ih7HauhEW/v66oT580jUXG/uKJavXM2HYr1R8s1J4AQd7bt2+y4atO1UaI6OjXzJozCT09fSYMOzXL6Zu/L5kJSfOXmTehBHky2P+4R3SKbvvtZ/K15KPZF/q9QRfX1kAmCaXR8S75fH8o8vjxu1AwiKe4zV4nHLb64QELl73Z9Oev/ln3R9oamaut5qURfpkR1l89hRfef4+Mx99tpPnLkue2+xdISEh+Pn5MXLkSGrWrEmhQoXSHBqX7Pjx41SqVImePXtSqlQpnJ2d37vgTVrOnTtHQkICM2bMoEKFChQsWJCHD9UPB3tXnjx5cHZ2TrW68Mem7caNG4SEhDB58mSqVq2Km5ub2rnu8ubNS4cOHVi9ejWzZs1i8WL1K34m97pJuWpr4cKF0dHRISgoSNlwlfxKObdbevn6+hIWFqYc1uvu7s7NmzfJly9fqvhNTNJ/s8uVKxceHh5MnTqVy5cvExgYyN9/q59sXltbO9XKtJDUk/Du3bvMmTOHa9euKYdYfwx3d3f8/PxS5cnZ2Vk5dLRSpUrY2tqyYcMG1qxZQ4sWLZQNXh973lOGy8iq0uXKlaN06dLKnpwZqWP//vuv8u/4+HjOnTunMqw3pUKFCqVqZE+5f0bNmjULY2NjPDw81H5+/PhxvLy8aNq0KcWKFcPS0lJlSLerqyvx8fFcuHBBue3WrVsfvJ+8q1ChQpw8eVLZUzP52EZGRuTPnzQsR6FQULlyZcaOHcuFCxfQ1tZmy5YtQNrXZErFixfn6NGjKgs3fYz01rlSpUoxbNgwTpw4QdGiRVm7du1701qqVCmuXVM/92FKhQsnzRETFRX13vjS69KlS7x8+VL5/t9//8XQ0FClnly5coX8+fOr7WUPMGzYMCIiIlRew4YNU36ur6+PtbWN8mVnZ4+ZmTmXLr29bqKjo/D3u4FbIfVz4GhpaeHsXJDLKfZJSEjg0sULuLq9b96cRBJJzHS5q6Onb4CldX7lK7+dI6Zmubly6awyTHR0FAH+13BxUz/iIL2SGyIfPbzHiAmzMTLO/A89La1cFCzgyLnLV5XbEhISOH/5KkVc1X/hL+LqwvnLqnM2nbn4n9rwhgb6mJoYc+9hMH4Bt6lSrrTys6joaH4dMwmtXLmYNGKgcn6/rJCUL4dU+Tp3+RpFXFM//BJZR0tLi4LOTpy//J9yW0JCAucv/UfhNwsHvquwW0HOX/pPZdvZi5co4pb2NBpPn4Xw/MULzM1T9443NzNFT0+PI0ePo62lRZmS6nvlvj8fyXXj7bWeVDeuUMRVfbqKuLqohE/Kx2Vl+PjX8cTHv071kFZDU4OExLcP5pLqxm9oaeXit5GDvoi6kZiYyO9LVvK/U+eYPXYo1hZZO0dvdt5rP6WvJR/JvtTrCb6+soCk8nB1sufsf29HVyUkJHD2v+sUdVX/oPdDyhQrxOrfx+I7fbTyVaiAA55Vy+M7fXSWNH5JWaRPdpSFECl99GNQTU1NZY8nTTUTXpuZmZE7d24WL16MlZUVQUFBDB069L1xuri4sHLlSvbt24ejoyOrVq3izJkz6e6VlMzZ2Zm4uDjmzp1Lw4YNOX78+HuHwqbHx6bNzs4ObW1t5s6dS48ePbhy5Qrjx49XCePt7U3p0qUpUqQIsbGx7Ny5M82GInt7exQKBTt37qRevXro6elhZGTEwIED6d+/PwkJCVSpUoWIiAiOHz+OsbHxexvsoqOjefToEfHx8dy/f58tW7Ywc+ZMfv75Z+XK3W3btmXatGk0btyYcePGkT9/fu7evcvmzZsZPHiwsiHnfXbu3Mnt27epVq0aZmZm7N69m4SEBOWK4+9ycHDgf//7H61bt0ZHR0fZQGFmZkazZs0YNGgQtWvXTtex0+Lt7U2DBg2ws7OjefPmaGhocOnSJa5cuaKyYMuPP/7IokWL8Pf3V1nJOjPn/WP169ePpk2bMnjwYOWq5empY/Pnz8fFxYVChQoxc+ZMwsLCVOYyTalv375UrlyZ6dOn07hxY/bt25fuIdrh4eE8evSI2NhY/P39+eOPP9i6dSsrV65Mswesi4sLmzdvpmHDhigUCkaNGqXSm9HNzQ0PDw+6devGwoUL0dLS4tdff0VPTy9DQ+N69uzJrFmz6NOnD71798bPz4/Ro0czYMAANDQ0OHXqFIcOHaJ27drky5ePU6dO8fTpU2VddHBwYN++ffj5+ZE7d261DfG9e/dm7ty5tG7dmmHDhmFiYsK///5LuXLl0rzW1flQnYuLi2Px4sU0atQIa2tr/Pz8uHnzJu3bt1em9c6dO1y8eJH8+fNjZGSEjo4Onp6e+Pr6qhyrefPmVK5cmUqVKmFpacmdO3cYNmwYBQsWVM736eDgwKlTpwgMDMTQ0FBlqoD0ePXqFZ07d2bkyJEEBgYyevRoevfurbIQxNGjR5Xzz6qjo6OToZ7eCoWCRk2asmH9WqytbbCwsGL1Kh/Mc+emQsXKynAjhg2iYqXKNGjYBIAmTX9g5u9TcXYpSMGCrmzbtoWY2Bg8aiU9dHsUHMzR/x2hlHtpjE1MCXn2lL82rkdHW5syZcsp43348AExL18SFhbKq9hX3A5Immjf1s4+U8P4FQoFdRu1ZOsGXyytbclnYc3G1YsxM89DmQpvp6yYMKIPZSt+h2eDpKGXMS+jeRR8X/n508fBBN72x9DQmDz5LImPj2fW5OHcCfBnsPc0EhISCA9LWuTK0NCYXJlIc8vG9Zg0exGuzk4UcinAxh17eBkTQ72aSfPqTpy1gDy5zen+U2sAmjesQ98R41m/dRcVy5Tk0NGT+AXcZlDPLso4Dx//F1NjYyzy5ibg7j3mLl1JlXJlKPdmkY6kxpbJxMTGMnJoL6KiXyoXKDA1Ns6SL9StG9Zh4twluDk7UsjFiT937OdlbCz1aySVw/jZf5A3txk92iXN8xsXF0/gm7kA4+LjeRoaxs07d9HT1SW/VVLPuuiXMTx49HZV9uAnT7l55y5GhgZY5lXfUJ9dNA30MXC2U77Xd8yPcQk3XoVGEHMve+fJbNGkIZNnzsPVuQBuBZ3ZtG0XMTGx1PFI+t4y6fc55Mmdm64d2gLQrFE9+g8bzZ9btlOhTGn+PnoM/1u3+bV3DyBpCgvfdRupVqkC5mamPHz0iD9WrMbGypKy7iWVx92ycw9F3FzR09Pl3MVL/LF8FV07tMXQ8ON6ELdsXJ9Jsxfi5uyEm4szf+3YzcuYWOp6vKkbM+eTN7c53donzYXcvGFd+o4Yx4atO6lQphR/Hz2BX8BtBvbqBoCBvj4lixZikc8adLS1scyXl4tXrrHv8P/o1Slp7uuo6GgGjv6NmNhXjOz/5dSNGYt9OXj0XyYN64e+ni4hb+aQNdTXR0cna6fHgE93rwWIfPGcZ08fERb6DIDgB0nT0pia5cbU7G1PfslHkq/heoKvoywA2jSszfh5y3Ar4EARZ0fW7zpITGwsDaonfbcaO2cpeXOb0bNtUqeWuLh47ryZIzr+TXn43wlCT1cHWysLDPT0KGCn+ntOV0cHYyPDVNuzipTF51MW4tuWqTEZ7xtiqqGhwfr16+nbty9FixbF1dWVOXPm8P3336e5T/fu3blw4QKtWrVCoVDQpk0bevbsyZ49ezKUrhIlSvD7778zZcoUhg0bRrVq1Zg0aZLyh/rH+Ni05c2bFx8fH4YPH86cOXNwd3dn+vTpNGrUSBlGW1ubYcOGERgYiJ6eHlWrVlXOS/guGxsb5cIrHTt2pH379vj4+DB+/Hjy5s3LpEmTuH37Nqampri7uzN8+PD3pm/JkiUsWbIEbW1tcufOTenSpdmwYYPKnIH6+vr873//Y8iQITRr1owXL15gY2NDzZo1PzjMOJmpqSmbN29mzJgxxMTE4OLiwrp16yhSpIja8OPGjaN79+4UKFCA2NhYld5snTt3Zu3atWk2pqWXp6cnO3fuZNy4cUyZkrT4hJubG126dFEJ17ZtWyZOnIi9vT2VK1dW+exjz/vHqlOnDo6OjkycOJEFCxaku45NnjyZyZMnc/HiRZydndm+fXuaPdAqVKjAkiVLGD16NN7e3nh4eDBy5MhUjejqdOzYEUga5m5jY0OVKlU4ffq0ynyP7/r999/p1KkTlSpVIk+ePAwZMoTnz1WHHKxcuZLOnTtTrVo1LC0tmTRpElevXk01/+H72NjYsHv3bgYNGkSJEiUwNzdXNpBB0v3sf//7H7NmzeL58+fY29szY8YM5UIuXbt2VS4eExkZyeHDh1MtNpU7d27+/vtvBg0axHfffYempiYlS5ZMdd18yIfq3MuXL7lx4wa+vr6EhIRgZWVFr1696N69O5C0sNHmzZupXr064eHhrFixAi8vL9q2bcvgwYPx8/NTNo56enqybt06Jk2aREREBJaWltSoUYMxY8Yoh+0NHDiQDh06ULhwYV6+fMmdO3cylJ+aNWvi4uJCtWrViI2NpU2bNowZM0b5eUxMDFu3bv3oeUnT8kPzVsTExDBv7iyiIiMpXKQoY8dNUpnX8VFwMM9TDHGp+t33RDwPZ82qpB7iTk4FGDvuN+XcoVraWly9+h/bt20mMjISU1MzihQtxtQZszE1fduDau7s37ny32Xl+1/6/AzA0hWrsLBIexGk9Gj4QztiY2JYOm8K0VGRuBYuztCxv6Ot/bax9vGjB7x4Hq58f/vWDcYP7618v2rZHACq1ajHz/1HEhbylHOnjgEwtK/qg5RRv82jcLG06/CH1KxSkfCI5yxf9xehYeE4O9ozffRQ5SI1j5+GoEgxLKaYW0G8B/Ri6ZqNLFm9gfzWlkwcOgAn+7c9aUPCwpm3fDVhERHkNjPD8/sqdGj5dsoN/4BArvknNQC3+bm/Sno2/DEbqyzoBVOzSgXCn79g6brNhIZH4Oxox4xRg97m61kIGhpvH5g8Cwuj469vJ4Rft20P67btoWQRN+aNT/qfcSPgDn29JynDzF2R1Nu5bvUqjOjTLdNpzgyT0kWpeGiV8n3h6UlpvrdyM5c7D0trt0+ietXKhEc8Z8Wa9YSFhVPAyYEpY0cohzc/efoMjRTXVNFCbowY+AvLV69n2cq12FhbMW7EYBztkxpXNTQ0uB14l/1/HyEyKprc5maUKVWCjm1bq6zafsP/Jr5rN/DyZQy2+W3o36s7tWtkbJHAlGpUrUT48+csX7tRWTemjR6K+ZuHd0+ePVO5hooWcmXUr31YtnoDS1atT6obwwaq1A3vgb+weOU6Jvw+j+eRkVjmzUuXdq1pXCdpfmv/gDvKuvFjj34q6Vm/eA5WFukfsZGWT1E3tu5LGknTZ9RvKsca3rsr9WpUzXSa1fkU91qAc6eOsmj22/nK50z1BuCHNp1o/qPqd1DJx9dzPcGXXxYAHpXLEfb8BUvXbyUk/DkuDrbMHNE/RXmEvlMe4XQY9HaanbXb97F2+z5KFXZlwbjUC2lmFymLz6csPisa6e/oIjJPkZiylUeIL8CqVavo378/Dx8+zPLFIr42gYGBODo6cuHChVSLLX3J7t+/j62tLQcPHqRmzaxZAfRbMWjQIJ4/f84ff/yRLcfz8vIiPDycrVu3phlm4cKFbNmyhf3792c4fv+AoEyk7vNQsIAd5/1DcjoZmeJeMDePr5/L6WRkmkWh0jy9eurDAT9jeYuUZ5dW+ntif67qx/nxwP+/Dwf8zNkULMajGxc+HPAzZulW6ouvF5BUN76Ge+2XngdIyodcU58H94K5Cf3vWE4nI9PMi1WRsvhMmBer8uFAn6mYrXNy5Li6TfrmyHFzWtbMVi1ENoiOjiY4OJjJkyfTvXt3aYj8hvz9999ERkZSrFgxgoODGTx4MA4ODh9cSV2kNmLECBYsWEBCQoLKMOmcpKWlxdy5c3M6GUIIIYQQQohvlSxgk63kbIsvxtSpU3Fzc8PS0lJl4Qrx9YuLi2P48OEUKVKEpk2bkjdvXo4cOZKpufe+VaampgwfPvyzaYgE6NKlS4bm1BRCCCGEEEII8eWSnpHiizFmzBiVeebEhzk4OPA1zMTg6emJp6dnTidDfAQfH5+cToIQQgghhBBCvF8GFkcVmff5dI0RQgghhBBCCCGEEEJ81aQxUgghhBBCCCGEEEIIkS1kmLYQQgghhBBCCCGE+HZ9RnPqfwvkbAshhBBCCCGEEEIIIbKF9IwUQgghhBBCCCGEEN8uWcAmW0nPSCGEEEIIIYQQQgghRLaQxkghhBBCCCGEEEIIIUS2kGHaQgghhBBCCCGEEOLbpZC+etlJzrYQQgghhBBCCCGEECJbSM9IIYQQQgghhBBCCPHt0pC+etlJzrYQQgghhBBCCCGEECJbSM9IIYQQQgghhBBCCPHtUihyOgXfFEViYmJiTidCCCGEEEIIIYQQQoicELNvWY4cV9ezc44cN6dJz0ghhBBfLP+AoJxOQqYVLGDHA///cjoZmWJTsBjXAx7kdDIyrVABGwJv+ed0MjLFwbngF389QdI1tUvLNaeTkWn14/wIuXIip5ORKbmLVuLarYc5nYxMK+xszUO/yzmdjEyxdi3+xecBkvIh19Tnwdq1+Ffz/1vK4vNQqIBNTidBfCGkMVIIIYQQQgghhBBCfLsUsqRKdpKzLYQQQgghhBBCCCGEyBbSM1IIIYQQQgghhBBCfLtkAZtsJT0jhRBCCCGEEEIIIYQQ2UIaI4UQQgghhBBCCCGEENlChmkLIYQQQgghhBBCiG+XhvTVy05ytoUQQgghhBBCCCGEENlCekYKIYQQQgghhBBCiG9Woixgk62kZ6QQQgghhBBCCCGEECJbSM9IIYQQQgghhBBCCPHtUkhfvewkZ1sIIYQQQgghhBBCCJEtpDFSCCGEEEIIIYQQQgiRLaQxUgjxxQsMDEShUHDx4sV07+Pl5UWTJk0+WZqEEEIIIYQQQnwhFBo58/pGyZyRQoh0e/ToERMnTmTXrl08ePCAfPnyUbJkSfr160fNmjVzOnkZMnv2bBITEzO0j0KhYMuWLRluxPznn39o164d9+7d4+nTp3h7e7Nr1y4eP36MmZkZJUqUwNvbm8qVK2co3qzm4+NDv379CA8Pz9F0fEqJiYmsWe3L/r17iIqKpFDhIvTs1Rdrm/zv3W/Xjm1s3rSRsLBQHB0L0P3nXhR0dVN+Pm/uLC5dOE9oaAi6unoUKlyYDh27YGtrl+k0b921hw2btxMaFk4BR3v6dO9MoYIuaYY/cuwEK1av59GTp+S3tqKrVzsqlHFXCXP33n0W+6zm8pVrvH79Gnvb/IwZNhCLfHl5/uIFPmv/5OyFSzx5+gxTY2MqVyhLx3atMTQw+Oh8JCYmsm61Dwf27iIqKhK3wkXp0avfB8/97h1b2bJpA+FhoTg4FqDrz30o6FpI+fmIIf25+t8llX086zbk5z79U8X1/HkE/Xt1JSTkGav/3I6hoWGG8rB95y7+2rSZ0LAwnBwd6dmjO26uBdMM/7+jx/BdvZrHj59gY21N545elCtbRvn5seMn2LVnDzdvBfDixQsWzJlNgQJOKnE8DA5mybLlXL16jbi4OEqXdqdXj+6YmZllKO3Jsvp6mjJzHvv+PqKyT1n3kkwZO1L53v/WbZb4rubGzVtoamhQtVIFenbugJ6e3kflITPMq5TB6dfOmLgXRdc6H2d/6Mnj7YeyPR1p2bTnEGu27SE0PAJnBzsGdG5LYRcntWFvBz1g6fot3LgdyKOnIfzSsQ2tGtRWCbN5799s2XeY4KfPAHC0taFTi0ZUdC+epelOqt8rOLjvTf0uVJTuvfp/uH7v3MLWFPW7S4++KvUb4Mb1q6xZuYybftfR0NDA0ckZ7/FT0dHR4cnjR/y5biX/Xb5AeFgoZuZ5+K66B81btUNLSytDediyay8btrytG327dfpA3TjJ8jXJdcOSbh3SuNf6rubSlWu8fp2AvW1+xg77FYu8eQHoN3w0l65cU9mnYZ1aDOjZLUNp/5ryAF/H9QRfW3nkzP/vJYvmcv3aFYICA8lvZ8eseUs+Kg9SFp9PWQiRTBojhRDpEhgYSOXKlTE1NWXatGkUK1aMuLg49u3bR69evbhx40ZOJzFDTExMsu1Y27Zto2HDhgD88MMPvHr1Cl9fX5ycnHj8+DGHDh0iJCQk29LzLdv01wZ2bt9KvwGDsbC0ZM0qH7xHDWPBomVoa2ur3efoP0dYuuQPevXuS0G3QmzfuhnvUcNYtHg5pqZJDULOzi58/30N8ubLx4sXL1i3ZiXeI4eydPkqNDU1Pzq9h48eZ+FSX/r16kahgi5s2r6LId4T8F00BzPT1Nfwles3mDBtFl06tKVi2dIc+uco3hOn8sesqTjaJzWMPgh+xC9DRlK3Vk28fmyJvr4+gUH3lPkPCQ0jJCSUHp3aY2+bn8dPnjJrwWJCQsMYM2zgR+dly1/r2bl9M78MGIqFpSVrV61g7KghzF20Is1zf+yfwyxfspCfe/d7c+43MXbUEOYv9lWee4BaderzY7uOyvc6ujpq45s3azr2jk6EhDzLcPqP/O8oi5cspU/vXri5FmTL1u2MGOXNssWLMDU1TRX+6rXrTJo6jU5eHShftiyH//mHsRMmMn/2LBwc7AGIiY2hSOHCVKtahVlz5qWKIyYmhuEjvXFydGTKpIkA+K5ajfe48cyeMR0NjYw9Tf8U1xNAOfeSDO7XS/k+5Y/2ZyGhDBo1ju+rVqJP985ER79k/tIVTJk1P1PX08fSNNDn+WU/7vlsosxf87P9+O9z8Pgp5visZ1D39hRxcWLDzgP0Hz+DdXMnYW5inCp8zKtYrC3yUr1SWeasWKc2zny5zfm5XXNsrSxIBHYfPs6QKXPwmTYWJzubLEv7lr/Ws2vHZvr2H4qFpRVrVy1n3KjBzFnkk3b9/t/frFiykB69+1PQtRA7tv7FuFGDmbd4pbJ+37h+lfHeQ2jW4ke69uiDpqYmgXcC0NBQAHD/XhCJiYn83HsAllY2BN29w4K5M4iNicGry8/pTv/fR4+zcJkv/Xt2o1BBZ/7avovBoyeycuHsNOqGH+Onz6Jr+x/f1I1jjPptKotnqt5r+w4dRV2PGni1aYW+vl7SvVZL9XzUr12TTm1bKd/r6Ki/f30LeUj2pV9P8PWVR07+//aoVRd/v+sEBt7+qPRLWXw+ZfG5S1QocjoJ35Rvt0+oECJDevbsiUKh4PTp0/zwww8ULFiQIkWKMGDAAP79918AgoKCaNy4MYaGhhgbG9OyZUseP36sjGPMmDGULFmS5cuXY2dnh6GhIT179uT169dMnToVS0tL8uXLx8SJE1WOrVAoWLhwIXXr1kVPTw8nJyf++uuvNNP6+vVrOnfujKOjI3p6eri6ujJ79myVMO8O0/7+++/p27cvgwcPxtzcHEtLS8aMGaP83MHBAYCmTZuiUCiU7y9dukT16tUxMjLC2NiY0qVLc/bsWZVjbd++nUaNGhEeHs7Ro0eZMmUK1atXx97ennLlyjFs2DAaNWoEQKdOnWjQoIHK/nFxceTLl49ly5Yp09qnTx/69euHmZkZFhYWLFmyhKioKDp27IiRkRHOzs7s2bNHGceRI0dQKBTs2rWL4sWLo6urS4UKFbhy5Yry844dOxIREYFCoUChUCjzHxYWRvv27TEzM0NfX5+6dety8+ZNZdw+Pj6Ympqyc+dOXF1d0dfXp3nz5kRHR+Pr64uDgwNmZmb07duX169fK/dbsGABLi4u6OrqYmFhQfPmzdMs06yQmJjI9q1baNm6LRUqVsLR0Yn+vw4hNCSEf08eT3O/rVs24VmnLh6162BnZ0/P3r+go6PDgf37lGHq1K1P0WLFsbCwxNnZhXbtO/Ls6VOePHmcZrzpsXHrDup5elDXowYOdrb079kNHR0d9hz4W234zdt3U869JK2bNcbeNj+d2rXBpYAjW3e+vRaWr1pLudLudO/4Ey4FnLCxsqRy+bLKL+SO9naMHT6ISuXKYGNliXuJYnT6qQ0nT59VKb+MSExMZMfWTbRs3Y7yFSvj4FiAX34dSmjIM06dPJbmftu2bKR2nXrUrF0XWzsHfu7dHx0dHQ7t36MSTkdHBzNzc+VLXz91D849u7YRFRVJk2YtPyoPm7dspU4dTzxreWBvZ0ff3j3R0dVh3/4DasNv3b6dMqXdafFDM+zsbOnwUzucCxRg286dyjAeNWrQ7sc2lCpZUm0cV69d4/GTJ/w6oB+ODg44OjgwaEB/bt68xcVLlzOch09xPUFS46O5mZnyZZSix+m/Z86RK5cmv/Togl1+G9wKOtO/Zzf+d+JfHjwMznAeMuvpvv/hP3oWj7cdzPZjf8j6Hftp5FGNBjWq4mhrw+Du7dHR0WbnoaNqwxd2dqJ3h1bUqlIeLS31/QuqlC1JpdIlsLW2xM7akh5tf0BPV5er/gFZlu7ExER2bvuLFq1+onzFKm/q9zBCQ99fv7dv2UitOvWpWSupfvfoPQAdXV2V+r1iyXzqN2rGDy1/xM7eEZv8dlSuWh2tNz/43cuUo0//IZR0L4ullTXlKlSmcbOW/HtC/TlLy8ZtO6lfuyZ1ParjYGfLgJ7d0NXRZs9B9XVj045d79SN1rg4ObFl115lmGWr11G+dCl6dPwJlwKOqe61yXR1dFTqj4G+fobS/jXlAb6O6wm+rvLIyf/fXXv0oV7DJlhYWn10HqQsPp+yECIlaYwUQnxQaGgoe/fupVevXhioGaZpampKQkICjRs3JjQ0lH/++YcDBw5w+/ZtWrVqpRI2ICCAPXv2sHfvXtatW8eyZcuoX78+9+/f559//mHKlCmMHDmSU6dOqew3atQofvjhBy5dukTbtm1p3bo1169fV5vehIQE8ufPz8aNG7l27Rre3t4MHz6cP//887359PX1xcDAgFOnTjF16lTGjRvHgQNJDQ1nzpwBYMWKFQQHByvft23blvz583PmzBnOnTvH0KFDVXoFXb16lSdPnlCjRg0MDQ0xNDRk69atxMbGqk1Dly5d2Lt3L8HBb3+k79y5k+joaJVz6evrS548eTh9+jR9+vTh559/pkWLFlSqVInz589Tu3ZtfvrpJ6Kjo1XiHzRoEDNmzODMmTPkzZuXhg0bEhcXR6VKlZg1axbGxsYEBwcTHBzMwIFJvZa8vLw4e/Ys27dv5+TJkyQmJlKvXj3i4uKU8UZHRzNnzhzWr1/P3r17OXLkCE2bNmX37t3s3r2bVatW8ccffygbkc+ePUvfvn0ZN24cfn5+7N27l2rVqr23fDLr8aNHhIWFUrJkKeU2AwMDCrq6ceP6NbX7xMXFceuWPyVKvh2ao6GhQcmS7vjdUL9PTMxLDh7Yh4WlJXny5P3o9MbFxeF/6zalS7wdTqmhoUHpksW45uendp9rN/xxL6k6/LJsqZJcveEPJNWNf8+ex9bGisHe42nWrhM9fx3KsZOn35uWqKho9PX1P7qX5+NHwYSFhVK8ZGnlNgMDQwq6FsLvPec+4Ja/yj4aGhqUKFk61bn/3+FD/NS6CX1/7sSqFUuIjYlR+fxeUCB/rl1Fv1+Hoshgb8LktNy8dQv3kiVU0lKqZEmu3VBfFtdv3EjVyFjavRTXM9CLPC4uHlDtaailrY1CoeDqNfXnLe24sv56SnbxylWatetE+x59mblgMRHPXyg/exUXR65cuVR6ceq86b3x37Uvq0f9pxQXF49fQCBlihdRbtPQ0KBs8cJc8b+VJcd4/TqBA8dOERMTS1HXAlkSJ7yt3yXeqd8uroXwu3FV7T7J9bvEO/W7eEl35T7h4WH4+13HxMSUob/2xqttM0YM+YVrV/97b3qio6IwNDJKd/qVdaOkat1wL1E81bWe7NoNf5W6BFDWvUSqe21+a2sGjZ5A05868/PAYRz7N/W99uA/R2ncthMdew9gie8aYtL4fvC15yHZl349JafnayuPnPr/nVlSFp9PWQjxLhmmLYT4oFu3bpGYmIibm1uaYQ4dOsR///3HnTt3sLW1BWDlypUUKVKEM2fOULZsWSDpH/jy5csxMjKicOHCVK9eHT8/P3bv3o2Ghgaurq5MmTKFw4cPU758eWX8LVq0oEuXLgCMHz+eAwcOMHfuXBYsWJAqLVpaWowdO1b53tHRkZMnT/Lnn3/SsmXavaKKFy/O6NGjAXBxcWHevHkcOnSIWrVqkffN/C+mpqZYWloq9wkKCmLQoEHKc+Piojr/zLZt2/D09FQOnfDx8aFr164sWrQId3d3vvvuO1q3bk3x4klfeipVqoSrqyurVq1i8ODBQFIDaIsWLVTmtytRogQjRybNyTZs2DAmT55Mnjx56Nq1KwDe3t4sXLiQy5cvU6FCBeV+o0ePplatWkBSg2b+/PnZsmULLVu2xMTEBIVCoZK/mzdvsn37do4fP06lSpUAWLNmDba2tmzdupUWLVoASV92Fi5cSIECST9wmzdvzqpVq3j8+DGGhobKsj58+DCtWrUiKCgIAwMDGjRogJGREfb29pQq9baR8FMICwsFwPSdufZMTc0ICwtTu8/z5xEkJCSkmp/P1NSM+/fuqWzbtXM7PsuXEBMTg01+W8ZPnPJRc0wli3j+4s2xVZ+ym5maEnT/gdp9QsPDMXtnyLCZqQlhb+YBDY+I4OXLGNb9tZWO7VrTzasdp89dZPSkafw+cQwlihVJFWdExHNWbfiLBp4eH52X8DTOvYmpmbJc3vXizblXt8/9e0HK99W+r0m+fBaYmefmbuBtVi5fzIMH9xg6chwAcXGvmDFlAh06dydvPgsePcp4b7znz58npcVUNS1mpqbcu3df7T5hYerKwpSwsPB0H9fNzRVdXV2WrfChY/ufAFi2wpeEhARCQ9Wft7R8iusJoGzpklSpVB4ri3w8DH7MslVrGTpmIvOmTURTU5NSxYuxcJkv6zdv44eG9YiJjWWJ75qk+NOod9+i8BcveJ2QgLmp6nBscxMT7j54lKm4A+7eo9vwibx6FYeerg6TBvfG0Tbrhmgn128TNffJ8A/UbxPT1Ps8eFO/H7+pq+vX+uLVuQeOTs4cObSf0cN/ZfaC5WrnSAt++IDdO7bQoXOPdKdfWTdM360bJgQ9eF/dSF2Xkuu38l67aSud2rWme4e2nD5/Ee9J0/l94mhKFk2619asVgWLfHnJY25GQGAQi31Xc+/BQ8YNH5Tu9H8teUj2pV9P8HWWR078/84KUhafT1l8Eb7hxWRygjRGCiE+KD0LvVy/fh1bW1tlQyRA4cKFMTU15fr168rGSAcHB4xSPGG2sLBAU1NTpdeMhYUFT548UYm/YsWKqd6/b/Xs+fPns3z5coKCgnj58iWvXr2iZBpDIZMlNwgms7KySpWOdw0YMIAuXbqwatUqPDw8aNGihbJBDpIaI3v37q18/8MPP1C/fn2OHj3Kv//+y549e5g6dSpLly7Fy8sLSOoduXjxYgYPHszjx4/Zs2cPf/+tOpQkZVo1NTXJnTs3xYoVU26zsLAAeO95NDc3x9XVNc0eppBUrrly5VJpGM6dO3eq/fT19VXybWFhgYODg0oDaspyrVWrFvb29jg5OVGnTh3q1KlD06ZN0U9j+EpsbGyq3qQfmnfnyOFDzJ87S/nee+yE94bPrO+r16RUKXdCQ0PZsnkjUyZNYOr0WWnO4ZMTEhKS6nKl8mVp0SRpHlNnJ0eu3vBj+979qRojo6KjGTbuNxxs89Phx/QPb/7n8EEWzv1d+X7k2ElZkHr1POu+ndbAwdEJMzNzvIcPJDj4AVZWNqxasZT8tvZ8X6PWJ0vDp2JqYsLIYUOYO38h27bvQKFQUP27ajgXKPBRPTw/hRrVqij/dnKwx8nRnnZde3HpylXcSxTH0d6Wof16s2CZL0t916CpoUHThvUwMzVFIXMzZQs7ayt8p48lMvolh0+eYcK8pcwfN/SjGyT/OXyARfPe1u8RYz5N/U5MSACS6njNWnUBcCrgwuVL5zl0YA8/eXVVCR/y7CnjvAdTqcp31K7TIFV82entvbYMLRonpSX5XrtjzwFlY0XDOm/vS04O9uQ2M+XXUeN4EPwIGyvL1BFno+zKg1xP6ZN95fH5/P/+XElZCJE1pDFSCPFBLi4uKBSKLFmk5t2eYgqFQu22hDdfGj/G+vXrGThwIDNmzKBixYoYGRkxbdq0VEO/05O2D6VjzJgx/Pjjj+zatYs9e/YwevRo1q9fT9OmTQkODubChQvUr19fZR9dXV1q1apFrVq1GDVqFF26dGH06NHKxsj27dszdOhQTp48yYkTJ3B0dKRq1aofTGvKbck/8jNzHjMio+VqZGTE+fPnOXLkCPv378fb25sxY8Zw5swZtYuBTJo0SaW3KyT18vzxp05ppqlc+YoqK14nDysPDwvD3Dy3cnt4eBhOTuqHLBobm6ChoZGq52R4eBhm5qpPmQ0MDDAwMMDaJj+uboVo07IZJ08c47vva6SZxvcxMTZ6c+wIle1h4eGYm5mq3cfc1FSl11pS+Ahl7zYTYyM0NTWxt1PtAWJva5NqyGx09EuGjJ6Avp4e40YMJleu9H9lKFe+ksoqjXFxr4DU5z4iPAxHJ2e1cRi9Offh75z7iPAwzMzN0zx2Qbek4z56+BArKxsuX75AUOAdmjX4RyVc+9ZNaNG6HW3aeX0wP8bGxklpCVdNS1h4eJqrWpuZqSuLcMzSX1dK0QABAABJREFUKLu0lHZ3x2fZEiIiItDU1MTQ0JDWbX/CyjJjDRWf4npSx9rSAhNjYx48fIT7m2FuNb+vSs3vqxIaFo6erg4oFPy1bSdWlhYZysPXzNTICE0NDULDn6tsD42ISNVbMqO0tHKR3yrpXLsVcOD6rUD+3HWAIT28Piq+cuUrU9C1sPJ9cv2OUHNv/VD9jghPfW81NUuq32Zv4spv66ASJr+tHc+eqs7HGxryjFHDBuBWqAg/9/k1Q/lR1o3wd+tGBOZpXOtJdSN1XUqu38n3WocUD2gB7PLnf+/0BIVck0ZXZLQx8kvOw9d2PcGXXh6fz//vrCBl8fmUxRdBHpJmq8/jsboQ4rNmbm6Op6cn8+fPJyoqKtXn4eHhFCpUiHv37nEvxdDVa9euER4eTuHChVPtk1HJi+SkfF+oUCG1YZOHFPfs2ZNSpUrh7OxMQEDmJ+vX0tJSu4BHwYIF6d+/P/v376dZs2asWLECgB07dlCpUiXM3/PPHpJ6kKY8r7lz56ZJkyasWLECHx8fOnbs+J69MybleQwLC8Pf3195HrW1tVPlr1ChQsTHx6s05IaEhODn55fpcs2VKxceHh5MnTqVy5cvExgYmKoHaLJhw4YRERGh8ho2bNh749fX18fa2kb5srOzx8zMnEuXLijDREdH4e93A7dC6vOipaWFs3NBLqfYJyEhgUsXL+Dq9r78J5JIosq8mhmlpaVFQWcnzl9+O59VQkIC5y/9R2FXV7X7FHYryPlLqvNfnb14iSJuBZVxuroU4N79hyph7j0IxiLv2/kto6KjGew9Hq1cuZgwcmiGe3fq6etjZW2jfNnaOWBmZs7lS+eVYZLO/XVc33PuCzgXVNknISGByxfPv/fc33lT15O/ZA8ZMYaZ85YoX736Jv2w/G3abOo2aJyu/GhpaeHi7MyFi28XjUlISODixUsUdlNfFoXc3Lh46ZLKtvMXLlLoPdNdvI+JiQmGhoZcvHSJ8IgIKpQvl6H9P8X1pM7TZyE8f/ECc/PUjbTmZqbo6elx5OhxtLW0KJNiDs5vnZZWLlwLOHDuv7dzeCUkJHD28nWKFlT/I/NjJSQmKOcj/Rjprd83/a7j6pZ66gdIUb8vqtbv/y6eV+6Tz8IS89x5ePhAdUqMhw/ukzff24bskGdPGTm0PwWcC9K735AMrzKvrBuX3qkbl/9L81ov7FZQpS4BnLt4WeVe6+ZSgHvvDAO9//AhFvnypJmWW7cDAcidxkOOrzEPX9v1lJyer708suP/d1aQsvh8ykJkrfnz5+Pg4ICuri7ly5fn9Om0539fsmQJVatWxczMDDMzMzw8PFKF9/LyUi5imvyqU6fOJ82DNEYKIdJl/vz5vH79mnLlyrFp0yZu3rzJ9evXmTNnDhUrVsTDw4NixYrRtm1bzp8/z+nTp2nfvj3fffcdZcqUyfTxN27cyPLly/H392f06NGcPn1aZfhzSi4uLpw9e5Z9+/bh7+/PqFGjlAvOZIaDgwOHDh3i0aNHhIWF8fLlS3r37s2RI0e4e/cux48f58yZM8rGveRVtJOFhIRQo0YNVq9ezeXLl7lz5w4bN25k6tSpNG6s2ijSpUsXfH19uX79Oh06dMh02pONGzeOQ4cOceXKFby8vMiTJ49yVXEHBwciIyM5dOgQz549Izo6GhcXFxo3bkzXrl05duwYly5dol27dtjY2KRKc0bs3LmTOXPmcPHiRe7evcvKlStJSEjANY1GER0dHYyNjVVeHxqm/S6FQkGjJk3ZsH4tp/49QeCdO/w+fSrmuXNToWJlZbgRwwaxc8dW5fsmTX9g397dHDq4n3tBd1kwfw4xsTF41PIE4FFwMBs3rOPWTX+ePHnC9WtXmfzbeHS0tSlTNmMNRu9q0aQhu/YdZN+hI9y9d59ZC5YQExNLHY/qAEz6fY5y/j2AZo3qceb8Rf7csp2gew/wWbsB/1u3adKgrjJMq2aNOXLsBDv3HeDBw2C27NzDydNnaVwvKT/JDZExsTEM7NuT6JfRhIaFERoW9tGraSsUCho2+YGN61dz+t/jBN65zazpkzHPnYfyFd8O8x017Fd27diifN+4aQsO7N3F3wf3cS/oLovmzyImNoaatZK+HAUHP2DD2lXcuunP48ePOP3vcWbNmESRosVxcEzq7WplZYO9g6Pyle/NKpD5be1TzQH5Ps2aNmHPvn0cOHiIoKB7zJ2/gJiYGGrXSppLc+qM31nu46sM36RRI86eO89fm7cQdO8eq9as5eatWzRu8HYo1PMXLwgIuE1QUNKP43sPHhAQcJvQ0Lc9GPYdOMj1Gzd4GBzMob8PM2HSFJo2aYxt/tTzm31IVl9PL1++ZNHylVy74c+jx084f+kyIydMwcbKkrLuJZXxbNm5B/9bt7n34CFbd+1hzqJldGn/I4aGqRdE+9Q0DfQxLuGGcYmkRmF9x/wYl3BD1zbnVwdt3bA22w/+w+7Dxwi8/5Bpi1cSExtLgxpJdWTcnCUsXL1RGT4uLh7/O0H43wkiPv41T0PC8L8TxP3gt728Fq7eyIWrfgQ/eUbA3XvK97WrVUx1/I+lUCho0Lg5G9ev4vS/x7kbeJvZMyZhbq5av72HD2B3ivrdqGkLDuzbyd8H93Iv6C5/zJ9JTMzb+q1QKGjSrBW7tm/mxLF/CH74gLWrlvPgfhA1a9cDkhqORg3rT968+fDq3IPnERGEhYYSlsE5VVs0bsDO/YfY+6ZuzFz4pm7UTKobv82cq1I3fmhYn9PnL/Lnlh0E3X+Az9o/8bsVQNP6b3+4tWraiMPHTrBz30HlvfbE6XM0eXOvfRD8iJXr/8LvVgCPHj/h+KkzTJ41j+JFClHA0T6DpfB15AG+jusJvq7yyKn/35A0b+ftgFuEh4XxKjaW2wG3uB1wK0MPe6UsPp+y+OxpaOTMK4M2bNjAgAEDGD16NOfPn6dEiRJ4enqmOb3YkSNHaNOmDYcPH+bkyZPY2tpSu3ZtHrzToF6nTh3lQqbBwcGsW7fuo05jeskwbSFEujg5OXH+/HkmTpzIr7/+SnBwMHnz5qV06dIsXLgQhULBtm3b6NOnD9WqVUNDQ4M6deowd+7cLDn+2LFjWb9+PT179sTKyop169al2TOve/fuXLhwgVatWqFQKGjTpg09e/Zkz549mUrDjBkzGDBgAEuWLMHGxgZ/f39CQkJo3749jx8/Jk+ePDRr1oyxY8cSFRXFoUOHmDVrlnJ/Q0NDypcvz8yZMwkICCAuLg5bW1u6du3K8OHDVY7l4eGBlZUVRYoUwdraOlPpTmny5Mn88ssv3Lx5k5IlS7Jjxw5lr7dKlSrRo0cPWrVqRUhICKNHj2bMmDGsWLGCX375hQYNGvDq1SuqVavG7t27M7U4i6mpKZs3b2bMmDHExMTg4uLCunXrKFJEfa+HrPJD81bExMQwb+4soiIjKVykKGPHTVLp+fcoOJjnEW+HSlb97nsinoezZpUvYWFJQ7rHjvtNOTxXS1uLq1f/Y/u2zURGRmJqakaRosWYOmN2hhq71KletTLhEc9ZsWY9YWHhFHByYMrYEcphtU+ePkMjxWTbRQu5MWLgLyxfvZ5lK9diY23FuBGDcbS3e5ufiuXp37MrazduYd7iFdjaWDN22ECKFUlqRL8ZcJvrfjcB+KmbaoP/2qULsLTI91F5adq8NTExMSyY+ztRkZEUKlIM73GT3zn3D3ke8XZoVJXvqhPxPJx1q1YQFhaGo1MBRo+bohx2lyuXFpcvnmPntk3ExLwkT958VKxcjZZt2n1UGt/n+2pViYiIYOXqNW+uAycmjhv7f/buO7yp6g3g+DfpLt0FumjpXqyyhyDKRn7IXqLsIVBQGbI3giBLRFGQvZU9ZCvIFJENbYGySwe06aY7vz8KKaEpq9Ay3s/z5IHcnHPve3Jubppzz9CcB3fv3kX5yPCeUv5+DBsymKXLV7Bk6TIcnRwZO2okrq45P0KOHfuHGbO/1zyfMnUaAJ9+0oHPOn4CwO3bt1m8ZCkJiYnYFS9Oh3Ztadn8xW4EvOzzSalUcvX6DXb/uZ/EpGRsbaypVL4cXTu2x/CR60PwpcssXbWW+/dTcC7hxFf9etOgTu0XKkN+WVYsTfV9yzXP/adnX3tvLdvA2e5P7m39qtV7ryqxcQksWLOJmNg4vNxcmDlqIDYPFlKIvBetdY7dU8XSZfBYzfNVW3ayastOypfy4ccJwwBQxSUw8YcFRKviKGJqgmdJZ2aNHkSVci/3Wpv9+b7PvB9mkJSUiJ9/GUZPnJr78x3/yOf7/TrEx8WxZsUSVKoY3Nw9GPPI5xugafPWpKWlsWjBjyQmJODq5sHYSdM1wwbPnPqP8DthhN8Jo0dn7XltN27/65njr1PrPeLi4lmyai0xDz8b4x7/bOS896X9fBg16AsWrVzNr8uzPxsTR+i41vbpxap1G/lhwaLsa+2wwZTxz77WGujr89+Zs6zfup37KakUL2pLrepV+axdq2eO+20rw0Nv+vkEb2N9FM7399zvp3PhXM4og4H9ewHwy+JV2Nk921QGUhevT12Il2PmzJn07NlTM3ru559/Zvv27SxatIhhw4blSr9y5Uqt57/++ivr169n3759dOrUSbPdyMhIayHTV02hfpaVKYQQohApFAo2btyo6cH3JtiwYQOjRo3i4sWLT0+sQ2JiIk5OTixevJiWLVvmO579+/fz4YcfolKpdM7J+Ka6FHrz6Ylec94eLoRdOvf0hK8xJ+8yBIXqXpXyTeLn4cT1K5cKO4x8cfX0fuPPJ8g+p7Yb6O4p/SZpkh5C9PkjhR1GvtiWrsHFK3eenvA15+/pyJ2Qs09P+Bpz9Cn7xpcBsssh59TrwdGn7Fvz/S118Xrw83hz55hMPry+UI6rV+l/Ohfq1DUKLC0tDVNTU9atW6f127hz587ExsayefPmpx4vISGB4sWL8/vvv/O/ByN2unTpwqZNmzA0NMTa2po6deowadIkbG1tn7K3FyfDtIUQ4hUwMzNj6tSpz50vKyuLqKgoJk6ciJWVldYwbyGEEEIIIYQQL59aoSiUx5QpU7C0tNR6TJmie/X0e/fukZmZiZ2d9iKAdnZ2REREPFM5hw4diqOjI/Xq1dNsa9SoEcuWLWPfvn1MnTqVAwcO0Lhx4xeeoulZyDBtIYR4BRo0aPBC+W7evImbmxslSpRgyZIlz7WCsRBCCCGEEEKIN8fw4cMZOHCg1rbnnRv/WX377besWbOG/fv3Y2xsrNnevn17zf/LlClD2bJl8fDwYP/+/dStW/eVxCK/coUQr713aTYJV1fXV1LeDz744J16H4UQQgghhBDimSkKZ+BwXkOydSlatCh6enpERkZqbY+MjHzqfI/Tp0/n22+/Ze/evZQtW/aJad3d3SlatChXrlx5ZY2RMkxbCCGEEEIIIYQQQojXmKGhIRUrVmTfvn2abVlZWezbt4/q1avnmW/atGlMnDiRnTt3UqlSpace5/bt20RHR+Pg4PBS4tZFGiOFEEIIIYQQQgghhHjNDRw4kAULFrB06VKCgoLo06cPSUlJmtW1O3XqxPDhwzXpp06dyujRo1m0aBGurq5EREQQERFBYmIikL1w6pAhQzh27BjXr19n3759NGvWDE9PTxo2bPjKyiHDtIUQQgghhBBCCCHEO0tdSMO0n1e7du24e/cuY8aMISIigoCAAHbu3KlZ1ObmzZsolTllmTdvHmlpabRu3VprP2PHjmXcuHHo6elx9uxZli5dSmxsLI6OjjRo0ICJEye+srkrQRojhRBCCCGEEEIIIYR4IwQGBhIYGKjztf3792s9v379+hP3ZWJiwq5du15SZM9OGiOFEEIIIYQQQgghxLtLoSjsCN4pb0Y/VCGEEEIIIYQQQgghxBtPGiOFEEIIIYQQQgghhBAFQoZpCyGEEEIIIYQQQoh31puygM3bQt5tIYQQQgghhBBCCCFEgZCekUIIIYQQQgghhBDi3SUL2BQo6RkphBBCCCGEEEIIIYQoENIzUgghhBBCCCGEEEK8u2TOyAKlUKvV6sIOQgghhBBCCCGEEEKIwpBwYmehHNe8UqNCOW5hk56RQggh3lh3Qs4Wdgj55uhTlquhoYUdRr64e3hw/cqlwg4j31w9vbl5Oaiww8gXFy8/IoJPFXYY+WbvW57o80cKO4x8sy1dg+0GPoUdRr40SQ8h9OrVwg4j3zzc3d+Ka+2bXgbILoecU68Hdw8ProReK+ww8s3Tw03q4jXh6eFW2CGIN4Q0RgohhBBCCCGEEEKId5ZaFrApUDIoXgghhBBCCCGEEEIIUSCkZ6QQQgghhBBCCCGEeHfJAjYFSt5tIYQQQgghhBBCCCFEgZDGSCGEEEIIIYQQQgghRIGQYdpCCCGEEEIIIYQQ4p2lRhawKUjSM1IIIYQQQgghhBBCCFEgpGekEEIIIYQQQgghhHhnqWUBmwIl77YQQgghhBBCCCGEEKJASM9IIYQQQgghhBBCCPHukp6RBUrebSGEEEIIIYQQQgghRIGQxkghhBBCCCGEEEIIIUSBkGHaQgghhBBCCCGEEOKdpVYoCjuEd4o0RgohhHhuR48epWbNmjRq1Ijt27cXdjjPZOP2nazduIUYVSwebiUZ0Ksbft5eeabff+goi1auISLqLiUc7enV+VOqVaqgef3Dj9vozNe7y6e0b9nshWLcunUr69avR6VS4e7mRp8+ffDx8ckz/cGDB1m2fDmRkZE4OTrStVs3qlSurHldrVazfMUKdu7cSVJSEv7+/gT264eTk5Mmzeo1a/j333+5evUq+vr6rPv991zHafzRR7m2DR06lA9q136mcm3Ztp116zcQ86BcfT/vja+Pd57p/z54iKUrVhAZGYWToyPdu3ahSuVKmtcPHT7C9h07uHwllISEBH6a8z0eHu6a1yMiI+ncrYfOfY8cNpT3a9V8prgft3nbH/y+YeODc8iVfr17PrEcBw4dZumKVURERuHk6ECPLp2o+kg5lq1czf6Dh7h79x76+vp4eXrQtdOn+D3YZ0RkJCvX/Mbps+eIUcVia2NN3Q8/4JO2rTEwMHihMmzcvos1m7YSo4rDw9WFL3p1xc/bM8/0fx0+xqKVvxERdRcnR3s+7/QJ1SqV17yefD+F+ctWceifE8QlJOBQvDit/teIZo3rAxCfkMii1b9z4tRZIu/dw8rCgppVK9O9Y1vMipi+UBl0Wb9jHys37yAmNg5PVxcGdu+Iv5e7zrRXb4bx65qNBF+9TsTdaL7o2oF2/2uglWbDzj/ZuOsvwu/eA8DN2YlubT6meoWyLy3m/LCpWQn3Qd2xrFAaY8finGjVl8gt+wrk2Gq1mhXLl2tdV/oFBmpdV3TZunUr69etQ6VS4ebunuv6lpaWxoIFC/j7wAHS09OpULEi/fr1w9raWpPm53nzuHjxItevX8fFxYW5P/6odYzIyEi6dumS69gzZ87Ew137fCiM6+248eO5evUqsbGxmJmZUT4ggG7dumFra6uJv0vXrjrj9/P11fmevulleHjcN/2celvqQhe1Ws2KFcvZtXMHSUlJ+Pn7069f/6fWz7atW1i//kH9uLnzeZ++Wu/Jjh1/cGD/X1y5Esr9+8ms/W0dZmZmWvsYP34s1x4pY0BAebp2664pY17e1vp4E+tCiLzIMG0hhBDPbeHChfTv35+///6bO3fuFHY4T/XnwcPMW7iUzu3bMH/WVDxcS/L12G9QxcbpTH8+KISJ02fzUf06LJg9jZpVqzB68jSu3bipSbN+6Xytx9cD+qJQKHi/RrUXivHAgQPMX7CAjp98wg8//ICbuzujRo8mNjZWZ/qLFy/y7dSpNGzQgLk//ED16tWZOHEi169f16T5fd06tmzZQv/AQGbPmoWxsTGjRo8mLS1NkyYjI4NaNWvSREeD46MGfvUVK1es0DxqVK/+TOXa//dB5i/4lY6fdODHObNxd3Nj5OgxeZbrwsUgpkz7jkYNGvDTnO+pUb0a4yd9w/XrNzRpUlJTKOXvT/eunXXuo1jRoqxevkzr8VnHTzAxMaFypYrPFHfuchzil18X8WmH9sz7fibubq4MHzMeVV7lCApm8rQZNKpfj3lzZvJetaqM++Zbrj1SjhJOjgR+3ov5P37PrGlTsLMrzrDR44iNyz4vb90OI0ut5ot+ffj1pzl83rM723bsZNGyFS9Uhj8PHuHHRcvp3K41C2ZOwcOtJIPHTXnK52AOH9X7kAWzvqVW1UqMnDKdqzduadL8uGgZx0+eYeRX/Vg2dwatP27M9/MXc/ifEwDci1ERHaOiT9dPWTLnO4Z/0Yfjp04z7YefX6gMuuw9/A9zlqyhW9tmLP5uHJ4lnflq4gxi4uJ1pk9JS8XRrhh9Pm2DrZWlzjTFbW3o82lrFk8by6JpY6lY2o+hU+dw9WbYS4s7P/SKmBJ/NoTzA8YX+LHX/f47W7ZsIbB/f2bNno2xsTGjR43Suq487sCBAyyYP59POnbkhx9+wN3NjdGjRmldB+b/8gvH//mH4SNGMHXaNGKio5k0aVKufdVv0ID3n3IjZPLkyaxYuVLz8PTSvvFUWNfbcmXLMnz4cBbMn8+okSMJj4jgm8mTdcb/6PXWyzP3DYO3oQwPvenn1NtUF7qsW/c7W7dspl/gAGbOelA/o0c+sX7+PnCABQsW8MknnzLnh7m4ubszevRIrfckNTWVChUr0bZduzz3U7ZsOYYNH8H8+b8yYuRowiPCmTw5dx0+6m2ujzetLt40aoWyUB7vqne35EIIIV5IYmIia9eupU+fPjRp0oQlS5Zovb5lyxa8vLwwNjbmww8/ZOnSpSgUCq0/eg4dOkStWrUwMTHB2dmZAQMGkJSU9Mpi/n3zNpo0qEvjeh/i6uLMwL69MDYyZMfeP3WmX791O1UqBNC+ZTNKOpeg26ft8XJ3Z+P2nZo0NtbWWo/D//xLQJlSONrbvVCMGzdupHGjRjRo0ICSLi70DwzEyMiI3bt360y/efNmKlWsSOvWrXFxcaFTp054eHiwdetWIPvu+aZNm2jfvj3Vq1fHzc2NwYMGER0dzZGjRzX7+ezTT2nRogWurq5PjK9IkSLY2NhoHoaGhs9Urg0bN9GoUUMa1q9HSRcXBgT2xcjYiF279+hMv2nLFipVrECbVi1xcXGm82ef4unhweZt2zRp6tWpw6efdKB8QIDOfejp6WFjY631OHL0GO/XrImJickzxf249Zs207hhAxrVr0tJF2e+6NcHIyMjdu3R3Rtt45atVK5YgbatWlDS2Zkun3XE08Odzdv+0KSp80FtKgSUw8HeHteSLnzeoxvJyclcvXYdgMoVKzDkywFUqlAeB3t7alStQpsWzTl05NgLleG3zdv5X4M6fFTvA1xdSjCoTw+MjQz5Y+9+nenXbd1BlQrl6NCyKa7OTnTv2A5vdzc2bt+lSXMh+BIN67xP+TKlcLArzscN6+HhVpKgy6EAuJd0ZuKwgbxXpSJODvZUKFuaHp+258i/J8nIzHyhcjxuzdbdfFzvff5XpxZuzk583bsTRkaGbNt3UGd6f093Aju3o37NqhgY6B4kVLNyADUqlsPZ0R4XR3s+79gKE2NjLlwKfSkx59fdXX9zaexsIjfvLdDj6rquDBo8mOjoaI4eOZJnvo0bN9KocWMaNGiAS8mSBPbvr3V9S0pKYvfu3fTs2ZOAgAC8vLz4auBAgi5eJDgoSLOfz/v0oWnTptjb2z8xTnMLC63rlb6+dj0X1vW2RYsW+Pn6Ymdnh7+/P23btCE4OJiMjAyt41mYmz8x/relDHkd9007p96WutBFrVazedNG2rXv8CAWdwYNGkJMdDRHjz6pfjbQqFEj6jdogItLSQID+2NsZMTu3TnfH82bt6Bt23b4PqFXYIsWLfH19aP4gzK2adOWEB1l1D7221kfb2JdCPEk0hgphBDiufz222/4+vri4+PDp59+yqJFi1Cr1QBcu3aN1q1b07x5c86cOUPv3r0ZOXKkVv7Q0FAaNWpEq1atOHv2LGvXruXQoUMEBga+knjT09O5dOUqFQNyhlcqlUoqlCvLheBLOvNcDL5ExXLawzErVyiXZ/oYVSzHTpzko/p1XjjGy1euEPBI45pSqSQgIICg4GCdeYKCgwkoX15rW8WKFTXpIyIiUKlUWg12RYoUwcfHR+uH2LP6ad482rVvzxdffsmu3bs1df4s5aoQUE6rXOUDArgYHJJnuR5vZKxYoXye78OzuHz5CqFXr9KwQf0Xyp99DoVS4fFzKKBcnuW4GByilR6gUoXyBOWRPj09nT927qZIEVM83NzyjCUpORlzc7M8X8+7DBlcCr1GxXJltMpQsVwZLoToPq8vhFzWSg9QuXw5rfSlfL05fPw/7kbHoFarOXn2ArfCwqlcPu/hzElJyZiamqCvp/fc5XhcenoGIaHXqVS2lGabUqmkcll/zl+6ku/9A2RmZrHn0D+kpKRS2sfjpezzTfXwuvLotefhdSWvz2h6ejpXLl/WeX17eC26fPkyGRkZWvt1dnamWPHiL/TZnzB+PB3at2fwoEEcO6bdeP+6XG8TEhL466+/8PPzy9UYMX7CBNp36MCgwYNzxf+2lOGhN/2cepvqQhdN/QQ8Xj++ecaSnp7OlSuXtfJkvyflCQ5+/r8/HkpISGB/HmV89Nhva328aXUhxNPImSOEEOK5LFy4kE8//RSARo0aERcXx4EDB/jggw/45Zdf8PHx4bvvvgPAx8eH8+fP880332jyT5kyhY4dO/Lll18C4OXlxZw5c6hduzbz5s3D2Nj4pcYbF59AVlYW1o8Nx7S2suRmmO4hlzGxsTrSW6FSxepMv+vPA5iaGPN+9aovFGN8fHx2jI/MY/XwmLdv3dKZR6VSYW1lpSNGleZ1QOc+H772rD779FPKlSuHkbExJ0+e5McffyTl/n2aNXvy3JgPy2VllTuGW7du68yjUsXmUa7Y54r5UTt378bF2ZlS/n4vlD/nHHo8Lktu3c67HFY60sfEar/3x47/yzfTZpCamoqNtTVTJ47H0tJC5z7D7oSzaet2enfr8gJliCczr8/B7ef5HFgSo8oZ1v1Fr65M/3EBrbv1RU9PD6VCweB+vShXSvd7HRsfz7LfNtC0Qd3nLoPO/SUkkJmVhY2V9ntmY2nJjbCIfO079MYteo34hrS0dEyMjZjydSBuzk+el+ttl9d1xcraOs/rSl7XNytra83nR6VSoa+vn2uOMmsrK1QxMc8cn7GxMT169sTf3x+lQsHhw4eZOGECo8eM0czvV9jX24WLFrF161ZSU1Px9fVl/LhxWvH37NEDf39/FEolhw8fZsLEiYwZPZpq1XKmAHkbyvBoXLqO+6acU29TXeQVa3Ys2vFaPeFvCc13v448t/J4T55k0aKFbNu6RVPGseMm5Jn2ba6PN60u3kiygE2BksZIIYQQzywkJITjx4+zceNGAPT19WnXrh0LFy7kgw8+ICQkhMqPTPgNUKVKFa3nZ86c4ezZs6xcuVKzTa1Wk5WVxbVr1/Dzy92IkZqaSmpqqtY2IyOjl1WsfNux90/q1a71zEOX3zSffPKJ5v+eHh6kpKSwbv36pzZGvg5SU1P568DffNI+73mQClO5smX4ec4s4uLj2bFrN5OmfsecGdNy/TC6dy+aEWPH837NGnzUqIHunRWCDdt2cjHkMpNHDsG+eFHOXAhi9i+LKGpjTaUA7V6VScnJDJswlZLOTnTt0LqQIn52Lo4OLJ0+nsTk+/x19F8mzf2VHycMe6caJP8zg1Hly5OVlQXA+PEFP0fl87C0tKRly5aa594+PkTHxLB+3To6PnIdK0ytW7WiYYMGREVFsXLVKqbPmMH4ceNQKBS54vfx9iYmOpp169c/c+NRQchPGf786y9atW4t59RL8rLPp7/++pO5P8zRPB83vvAbm1q1ak3DBg2Jiopi1aoVzJjxHePGTUDxGjYcvcz6kLoQbztpjBRCCPHMFi5cSEZGBo6OjpptarUaIyMj5s6d+0z7SExMpHfv3gwYMCDXay4uLjrzTJkyJdcPlrFjx9KrQ0ud6R9laWGOUqnMtUiHKjYOm8cafB6ysbLSkT42191ogLMXgrgVdocxX3/11FjyYmFhkR3jY3e2VbGxWNvY6MxjbW2da/GU7BitNa9D9p10m0f2oYqNzbWq7PPy9fFh9erVpKWnY/iEVZ0flis2Vke5Huth8JC1tVUe5bJ6oVgPHj5Mamoq9eq+2BB6ePQcejyuuCeW4/HJ8rPPOe30JsbGODk64OTogL+vD5179mHn7r10aJvTWHcvOobBI0bj7+vLV4F9X7AMFujl9TnI473V/TmIw8Y6u7dkamoaC1asYdLwQVR/sNK8h2tJrly9wdpN27QaI5OT7zNk3BRMTUyYNHzQSxvWZWVujp5SSUys9mI1MXFxuXpLPi8DA31KOGTPAevr4UrQlev8tn0PQz/vkq/9vklKJUHnTZu4+aAHTXp6OpD7uhKrUuHuoXsIe17Xt1iVCptHrlcZGRkkJiZq9WR70jXwWfn4+HDq5MmnxlNQ11tLS0ssLS0pUaIEzg/mpwsODtZ5I+5h/CdPndLa9iaXoVrVqtSvX/+tOafe5LrQpWrVavj45MwbmJ6e9iCWWGxsclZNjo2NxT2PvyU03/2PjWiIjY3F2kb3d+aTPCyjU4kSOLs407nTZwQHB+Hn55/nsd+G+njT6+JN9C4vJlMY5N0WQgjxTDIyMli2bBkzZszg9OnTmseZM2dwdHRk9erV+Pj4cOLECa18//77r9bzChUqcPHiRTw9PXM98upZOHz4cOLi4rQew4cPf6a4DQwM8PZ05+SZc5ptWVlZnDx7jlK+3jrz+Pt6c/LsOa1t/50+qzP9H3v24e3pjqeb6zPFk1eMXp6enD5zRivG06dP45fHZOJ+vr6cPn1aa9upU6c06e3t7bG2ttbaZ1JyMiEhIfjm8Ufxswq9ehUzM7MnNkRCTrlOnT6r2ZZdrjP4+/rozOPn66sVM8DJU3m/D0+za/ceqlWtgpWl7lWTn0X2OeTBqTPa5Th15mye5fD39dEqNzwsh+70D6nVWZof55DdI3Lw8FF4eXow+Mv+KJUv9qebgYE+3h5u/Hf2vFYZTp49Tykf3Z+DUj5eWukBTpw+q0mfkZlBRkZmrh4RSj0lWeoszfOk5GQGjZuMgYE+k0cNwegl9iA2MNDHx8OV/85d1GzLysrixNkgSns/34qxT5OlziI9/d2aqN9YDSVLlsTR0RFHR0dcXFywtrbmzCPXnuSkJEJCQvL8jBoYGODp5aWV5+H17eG1yMvLC319fa1r2u3bt7kbFfXCn/2Hrl69qtWA8Dpdb9UPegc++pl/WvxvehlMTU3fqnPqTa4LXUxNTTV1k10/JbPr50xOvMnJSYSEBOcZi4GBAZ6eXpx+JI+mfnzz9/dHVlb2fNV5lfFtqo83vS6EeBrpGSmEEOKZbNu2DZVKRffu3bF8rGGnVatWLFy4kN9++42ZM2cydOhQunfvzunTpzWrbT9ssBg6dCjVqlUjMDCQHj16UKRIES5evMiePXvy7F1pZGSUr2HZbZr9j29n/4i3pwd+3p6s27KdlJRUGtX9EIDJs36gmI0NPTt3zC5P0yZ8OWIsv23cSrXKFfjz78OEXAllUL/eWvtNSk7mwOFj9OnW6YVje6hFixbMmDkTLy8vfLy92bR5M6mpqdSvn73oyvTp07G1taVr164ANGvWjK+HDmX9hg1UqVyZAwcOcPnyZQb07w9kv9/NmzdnzZo1ODk6Ymdnx/Lly7G1taVG9eqa40ZFRZGQkEDU3btkZWURGpq9WrCjoyMmJiYc++cfYlUqfH19MTQ05OSpU6xdu5ZWrVo9U7latmjO9Jmz8PbyxMfbm42bN5OSkkKD+vUAmDZjJkVtbenWpTMAzT/+mCHDhrNuw0aqVK7Egb8PcvnKFb7sn7PAUXxCAnej7hL9YN6vWw/m/rS2zl45+6GwO3c4d/4CE8eNff4KeUyr5s2YNuv7B+XwYuPmraSkpNCwXvbch1NnzKaorS3du3wGQIuPmzJo2Eh+37CJqpUrsf/vg1y6EsqXD3o23k9JYdXa36letQq2NtbExcezZdsO7kXH8H7N94DshshBw0dhV7wYvbt1IS4+p/efTR49Mp+kbbMmTPl+Hr6e7vh6ebJu6x/cT0mlcb3aAHwz60eK2drQq1MHAFo3bcyAkRNYu2kb1SqV58+DRwgJvcrgfr0AKGJqSkBpP35eshIjQ0Psixfj9PmL7Prrb/p1y34fkpKTGTx2MimpaYz6qh9JyfdJSr4PgJWFBXp6+b8v3r5pAyb98Cu+Hq74e7mzdttuUlJT+V+dmgBMmLOAYjZW9Pm0DZC96M2123cAyMjI5G60ikvXbmJqbKTpCTlvxe9UK18W+2K2JN+/z+6Dxzh1IYRZowflO96XQa+IKUU8c3qSm7qVwKKcL2kxcaTcCn9lx330uuLo5KR1Xaleo4Ym3fBhw6hRowZNP/4YyL6+zZwxAy8vL7x9fNi8aZPW9a1IkSI0aNCABQsWYG5ujqmpKT/Pm4efn5/Wj+w7d+5w//59VCoVqampmuuVi4sLBgYG7N2zB30DAzwe9Kg7cvgwe3bvZsAXX2iVozCut8HBwVy6fJlS/v6YmZkRHh7O8uXLcXBw0JRxz969GOjra+I/fOQIu/fs4QsdIwnehjK8LefU21IXedVPs+YtWLNmNY6Ojtjb2bN8+TJsbG2pXj2nfkYMH0b1GjVo2vRh/bRk5szp2fXj7cPmzRtJSU2hfv2caUZiYmJQqVSE38m+Hl+/fh0TExOKFy+Oubk5wcHBXL58CX//UphryrgMBweHPHsavs318SbWxZtGjQw3L0jSGCmEEOKZLFy4kHr16uVqiITsxshp06aRkJDAunXrGDRoEN9//z3Vq1dn5MiR9OnTR9OYWLZsWQ4cOMDIkSOpVasWarUaDw8P2rV7dXP61an1HnFx8SxZtZYYVSwe7q5MHTdSMzw16u49lI/07irt58OoQV+waOVqfl2+CidHByaO+Bq3ktrDyP/8+zBqtZo677+X7xhr165NXHw8K5YvJ0alwsPdnYkTJmiGB0XdvYvikV5x/v7+DP36a5YuW8aSJUtwcnJi9OjRuLq6atK0ad2alJQU5vzwA4mJiZQqVYqJEyZo9UBdvmIFe/fu1TwPfPDH99Rvv6Vs2bLo6+mxdds25i9YgFqtxtHRkV49e9KoUaNnKtcH79ciLi6OZStWolKpcHd355sJ4zXlunv3rtZ7X8rfj2FDBrN0+QqWLF2Go5MjY0eNxNW1pCbNsWP/MGP295rnU6ZOA+DTTzrwWcecObx27dlL0aK2VKygvUrmi/jg/ZrExsWxdMVqVCoVHu5uTJ4wVjN8PLt+HimHny/DhwxkyfKVLF62AidHR8aNHIbbg3LoKZXcuh3Gnn1TiY+Px9zCHB8vL2ZNnYzrg/Psv9OnuRMezp3wcDp06a4Vz55tm567DHVq1SA2Pp5Fq34nRhWLp1tJvhs7TDNdQdS9eyiV2p+D0YP6s3DFWhYsX0MJR3u+GT4Y95LOmjRjBn/B/GWrmTRzLvGJidgXK0aPT9vTrFH2j75Lode4+GBV608+/1IrnjXz5+BgV/y5y/G4eu9VJTYugQVrNhETG4eXmwszRw3E5sHiO5H3orXOsXuqWLoMzmmgXrVlJ6u27KR8KR9+nDAMAFVcAhN/WEC0Ko4ipiZ4lnRm1uhBVClXiteBZcXSVN+3XPPcf/oIAG4t28DZ7s/Wa/xFtW7ThpSUFH6YM0dzXZkwcaLWdSU8PFyr8bx27drEx8WxfMUKVDExuHt4MGHiRK1pDnr17o1CqeSbSZNIT0+nYsWK9O3XT+vY38+ezblzOb3W+wdm36RYvGQJdnbZDcmrV60iKioKPT09Sjg7M2zYMGrWqqW1n8K43hoZGXHk8GFWrFhBSkoKNjY2VKxYkeHt22v1Ml+1erUmfucSJRg2bBi1atbMVQ9vQxkeetPPqbepLnTWT+sH9fPDHJISE/EvVYqJEyY9Vj93iI/Lmdbj/dq1iYuPY8Xy5Zrv/gkTJmnVz44/trNqVc784UO/HgzAl18NpH79Bhg/KOPKFcsfKWMl2rUfgYFB3j3s3+b6eNPqQognUajVanVhByGEEOLt9c033/Dzzz+/0Kp9T3Mn5OzTE73mHH3KcvVBT4w3lbuHB9evXCrsMPLN1dObm5eDCjuMfHHx8iMiOO/5wN4U9r7liT5/pLDDyDfb0jXYbvDkofmvuybpIYRevVrYYeSbh7v7W3GtfdPLANnlkHPq9eDu4cGV0GuFHUa+eXq4SV28Jjw93Ao7hBd27/zRQjlu0dLVn57oLSQ9I4UQQrxUP/30E5UrV8bW1pbDhw/z3XffERgY+PSMQgghhBBCCFEIZAGbgiWNkUIIIV6qy5cvM2nSJGJiYnBxcWHQoEHPvNiMEEIIIYQQQoi3mzRGCiGEeKlmzZrFrFmzCjsMIYQQQgghhHg2ClnApiBJP1QhhBBCCCGEEEIIIUSBkMZIIYQQQgghhBBCCCFEgZBh2kIIIYQQQgghhBDinaWWvnoFSt5tIYQQQgghhBBCCCFEgZCekUIIIYQQQgghhBDinaWWBWwKlPSMFEIIIYQQQgghhBBCFAjpGSmEEEIIIYQQQggh3llqhfTVK0jybgshhBBCCCGEEEIIIQqENEYKIYQQQgghhBBCCCEKhAzTFkIIIYQQQgghhBDvLDWygE1Bkp6RQgghhBBCCCGEEEKIAiE9I4UQQgghhBBCCCHEO0sWsClYCrVarS7sIIQQQgghhBBCCCGEKAx3Qs4WynEdfcoWynELm/SMFEII8cYqrD8aXiZHn7LUbHqgsMPIl0NbaxMzqXdhh5FvNqN+IaRdw8IOI1981u7i7oV/CjuMfCtWqioXr9wp7DDyzd/TkdCrVws7jHzxcHdnu4FPYYeRb03SQ6jV7GBhh5EvBzfXeuPLANnlkHPq9XBwcy32lihT2GHkW73b56QuXhP1bp8r7BDEG0IaI4UQQgghhBBCCCHEO0utkAVsCpIMihdCCCGEEEIIIYQQQhQI6RkphBBCCCGEEEIIId5ZaqRnZEGSnpFCCCGEEEIIIYQQQogCIT0jhRBCCCGEEEIIIcQ7S62QvnoFSd5tIYQQQgghhBBCCCFEgZDGSCGEEEIIIYQQQgghRIGQYdpCCCGEEEIIIYQQ4p0lC9gULOkZKYQQQgghhBBCCCGEKBDSM1IIIYQQQgghhBBCvLNkAZuCJe+2EEIIIYQQQgghhBCiQEhjpBBCCCGEEEIIIYQQokDIMG0hhBBCCCGEEEII8c6SBWwKljRGCiHEa+7WrVuMHTuWnTt3cu/ePRwcHGjevDljxozB1tb2mfZx/fp13NzcOHXqFAEBAa824NfExu07WbtxCzGqWDzcSjKgVzf8vL3yTL//0FEWrVxDRNRdSjja06vzp1SrVEErzY1bt5m/dAVnzl8kMzOLks4lGD98EHbFimnSXAgOYeHy1QRduoJSqcTTzZVp40diZGT0ysqal/erF6V5Ywd8PMyxtDCgy4ATXLmWVOBxPAujih9gXL0+SjNLMiNvk7RrDZl3rueZXmFkgsmHzTH0KY/CxJSsuBiSd/9Geuj5AovZqkFTbJq2Rs/KhtQbV4la/BMpoSE60zqPmYZpqXK5tiee/IewqWMAUBgZU+yT7phVro6euQXpURGodmwmbu/2V1qO9Tv2snrTH8TExuHh6sxXPT7D38tDZ9qrN2+zcM0GQkKvE3H3HgO6fkLbpo200ixfv5UDx05wIywcI0MDyvh60eezdrg4Oby0mNVqNatXLGbvru0kJSXi61ea3v2+wtGpxBPz/bFtI5vWryVWFYOrmwc9Ph+At4+fVprgoAusXLaQyyFBKJVK3Nw9GTNxGkZGRkRFRvDb6mWcO3uKWFUM1jZFqf1hPVq3+xQDA4NninvF8uXs3LmTpKQk/P396RcYiJOT0xPzbd26lfXr1qFSqXBzd6dPnz74+PhoXk9LS2PBggX8feAA6enpVKhYkX79+mFtba1J8/O8eVy8eJHr16/j4uLC3B9/1DpGZGQkXbt0yXXstWvXPrVcL8KmZiXcB3XHskJpjB2Lc6JVXyK37Hslx3pR3T8pSdP69pgV0eNccDwz5l3hdnhKnulNTPTo8UlJ3q9mi7WlAZeuJTFnQSjBVxJz0hgr6d3JjVpVbbE01yc8KpV128LYvDNCypFPck4VTF2U6Nyekp93wbBYURKDQggZPYX407q/exX6+rgG9sCh9ccY2Rcn+ep1rkyeRfT+w5o07gP74D6wr1a+pCvXOPrBx68k/oekLl6fuhDvJmmMFEKI19jVq1epXr063t7erF69Gjc3Ny5cuMCQIUPYsWMHx44dw8bGprDDfO38efAw8xYu5au+vfDz9mTdlu18PfYbls37Hmsry1zpzweFMHH6bHp2+oTqlSuy78AhRk+exvxZ03Ar6QJAWHgEA4aNpnG9OnTp0A5TUxOu37yFoYGhZj8XgkMYOu4bPmndgv69u6OnVBJ6/QYKZeHMimJirOTsxXj+PHSXYf19np6hkBj6V8K0fmuSdqwiI+waxlXqYt5hAHHzxqJOTsidQamHeccvyUpKIHH9L2QlxKK0tEGdcr/AYjavXptinXoR+esPpFwOxvqjFpQY8Q3XvupOZnxcrvRhMyai0M/5s0vP3ALXafNIOHZQs614p96Ylg4gfO400u9GUqRsBey69ydDFU3Sf8deSTn2HTrG3MWrGNy7C/7eHvy2bRcDJ3zH6h+mYW1lkSt9amoajnbF+LBGFX5YtFLnPk9dCKZl43r4erqRmZnF/JW/89X4aayY8y0mxi+nUX7jujVs37qBAV8Nw87egVXLFzFh9NfM+XkJhoaGOvMc+vtPFi+Yx+eBX+Ht48fWTeuYMPpr5s5fhpVVdqNdcNAFJo4ZSss2n9Dz8/7o6elx/VooSmV2b4nbt26iVqvpEzgQewcnbt64xk8/zCA1JYUuPfo8Ne51v//Oli1bGDhoEPb29ixftozRo0bx8y+/5Bn3gQMHWDB/PoH9++Pr48OmTZsYPWoU8xcswMrKCoD5v/zCv//+y/ARIyhSpAjzfvqJSZMmMWPGDK191W/QgJCQEK5fu5ZnjJMnT8alZEnN81KlShH21JI9P70ipsSfDeHWkvVUWvfj0zMUsE9alqBVE0cmfx9CeGQK3Tu6MmNcaT4L/I+0dLXOPEMDvXB3MWXSrBDuxaTR4IPizJpQhs8C/+NeTBoAgd3cqVDWiomzQoiISqFygDUDP/fkXkwah4/HSDnyQc6pV18Xdk0b4j1mCEHDJxJ/6izOPT6j/IpfOFK7KenRuY/l8XV/7Fs2Iejr8SRfuYZN7RqU/XU2J5p9RsKFYE26xODLnOzQU/NcnZH5UuN+nNTF61MXrxNZwKZgybsthBCvsX79+mFoaMju3bupXbs2Li4uNG7cmL179xIWFsbIkSMBUCgUbNq0SSuvlZUVS5YsAcDNzQ2A8uXLo1Ao+OCDDzTpFi1aRKlSpTAyMsLBwYHAwEDNazdv3qRZs2aYmZlhYWFB27ZtiYyM1Lw+btw4AgICWLRoES4uLpiZmdG3b18yMzOZNm0a9vb2FC9enG+++UYrttjYWHr06EGxYsWwsLCgTp06nDlz5qW9b79v3kaTBnVpXO9DXF2cGdi3F8ZGhuzY+6fO9Ou3bqdKhQDat2xGSecSdPu0PV7u7mzcvlOTZuGK1VStWJ7Pu36Gl4cbTg72vFe1slbj5o+/LqXl/z7ik9YtcHNxxqWEEx/WrIHhM/SYehV2/RXFkjU3OHFaVSjHf1bGVeuReuoQaWeOkHUvnOQ/VkJ6GkYBNXSmNwp4D4VJERJ//4mM26FkxUWTcfMymVG3Cyxm6yYtidu3k/j9u0kLu0nkr3PISkvF8sOGOtNnJSWQGafSPIqUrUBWagoJx/7WpDHx8Sf+wB7uXzxLxt1I4vbtIPXGVUw8X11D8pqtO2la/wOa1H0fN2cnhvTugrGREdv+PKAzvZ+XO/06d6BezWp59gScOWYIH9WphbtLCbzcXBjRvyeR96IJCc27Aex5qNVqtm1eR5t2n1G1ek1c3Tz4YtBwYmLu8c/RQ3nm27Lxd+o3akLd+o1xdnHl88CBGBkbs2/3Dk2axQt+pMnHLWnV9hNcSrrhVMKF92p9iMGDmw4VKlWh/1dDCahQGXsHR6pUe49mLdty7MjBvA6rFfemTZto37491atXx83NjUGDBxMdHc3RI0fyzLdx40YaNW5MgwYNcClZksD+/TEyMmL37t0AJCUlsXv3bnr27ElAQABeXl58NXAgQRcvEhwUpNnP53360LRpU+zt7Z8Yp7mFBTY2NprHs/T4fBF3d/3NpbGzidy895XsP7/aNnVi2e83OXQ8htAbyXwzOwRbGyNqVSuqM72hoZLa1Ysyb8k1zlyMJywihcVrbhIWfp/mjXN6BZf2tWDnn5GcPh9HRFQqW3dHEHotET8vcylHPsk59errwqVXJ8JWryf8t00kXb5K8LAJZKbcx7F9C53pHVr+j+s//Er0nwe5f/M2Yct/I/rPg7j07qyVTp2ZSdrdaM0jXRX70mN/lNTF61MX4sX8+OOPuLq6YmxsTNWqVTl+/PgT0//+++/4+vpibGxMmTJl+OOPP7ReV6vVjBkzBgcHB0xMTKhXrx6XL19+lUWQxkghhHhdxcTEsGvXLvr27YuJiYnWa/b29nTs2JG1a9eiVuu+g/uoh19Qe/fuJTw8nA0bNgAwb948+vXrR69evTh37hxbtmzB09MTgKysLJo1a0ZMTAwHDhxgz549XL16lXbt2mntOzQ0lB07drBz505Wr17NwoULadKkCbdv3+bAgQNMnTqVUaNG8c8//2jytGnThqioKHbs2MF///1HhQoVqFu3LjEx+b9rnJ6ezqUrV6kYUFazTalUUqFcWS4EX9KZ52LwJSqWK6u1rXKFcpr0WVlZHDtxkhKOjgwZO4kWn3Wnz+DhHDqW88Wvio0j6NJlrKwsCfx6JC0/68EXw8dw7mIQ4gmUeug5uJB+7dH3SU369WD0ndx1ZjHwLkvG7auYNvoEqy+/w6LXGIzfawyKAprrR08fY3cvks+dfCRkNcnnTmHs5f9Mu7D8sCEJRw6gTk3VbLsfcpEilaqhb509/YJJqXIYOjiRdPa/lxr+Q+npGVwKvU6lsqU025RKJZXK+nMh5MpLO05ScnaPVQszs5eyv8iIcFSqGMoFVNRsK1LEDC8fP0KCL+jMk56eTuiVS1p5lEolZQMqaPLExqq4FBKEpaUVwwYF0qVjS0YO/YKLF849MZ7kpCTMzJ/+QzMiIgKVSkVA+fKPxF0EHx8fgoKDdeZJT0/nyuXLWtNrKJVKAgICNA2Nly9fJiMjQ2u/zs7OFCtePM/9PsmE8ePp0L49gwcN4tixV9Mj93XnYGeMrY0hJ87EarYlJWcSdCmBUj6661pPT4G+niJXr6rUtCzK+uX0Mj4fHM97VWwpapPdwF2+jCXOTib8e+rl3zR6W8rxNngb6kJhoI95GX9iDj5yXVCriTl4DKsKuachAVAYGZL1yPccQGZKKlaVy2ttM3VzodaJfdQ4vINSP3yLkeOTb5rkh9RFjsKui9eNGkWhPJ7X2rVrGThwIGPHjuXkyZOUK1eOhg0bEhUVpTP9kSNH6NChA927d+fUqVM0b96c5s2bc/58zpD+adOmMWfOHH7++Wf++ecfihQpQsOGDUlJyXvqgvySYdpCCPGaunz5Mmq1Gj8/P52v+/n5oVKpuHv37lP3VezBnIa2trZavWImTZrEoEGD+OKLLzTbKleuDMC+ffs4d+4c165dw9nZGYBly5ZRqlQp/v33X026rKwsFi1ahLm5Of7+/nz44YeEhITwxx9/oFQq8fHxYerUqfz1119UrVqVQ4cOcfz4caKiojTzKE6fPp1Nmzaxbt06evXq9QLvVo64+ASysrJyDce2trLkZpjuwYYxsbE60luhenA3ODYujvv3U1i9fhPdPm1P784dOX7yNGOmTGfmN2MJKF2K8IjsHqNLV//G51074enmyu6/DjBo1AQWzZ1JCceXN1/e20RhaoZCqYc6SXs4dlZiPAa2uv8A1rMqhtLVlrTz/5Cw5gf0bIpj2qgDKPVIObjtlcesZ2GBQk+PjLhYre2ZcSoMHZ2fmt/YwwcjFzcifp6ltT1q8U/Y9foCj59Xoc7IQK3OInL+99wPejXzYMYlJJCZlYXNY8OxbawsuREW/lKOkZWVxZxFKyjj64V7ySfP5/isYlXZNy0sH5kPEcDKylrz2uMS4uPIysrC0ip3nrBbN4HsRk6ANauW0qX757i5e7J/327GjhjE9z8t0jkfZfidMP7YupHO3T9/atwqVfaPUevH47a21rz2uPj4+OzrmY48t27f1uxXX18fs8cae62trFA9xw0eY2NjevTsib+/P0qFgsOHDzNxwgTs7eyeeR9vC1vr7N6gqtg0re0xsWnYWOseTn//fibnguPp3NaZ67eTUcWmUa9WMUr5WBAWkTOFxOz5oQzp58XGxVXJyMgiSw3TfrzMmYvxUo632NtQFwY21ij19Um7G621Pe1eNEU83XTmiTlwBJeenVD98x/3r9/CpmY1ijeui0Kpp0kTd+ocF74aTfLV6xgWL4r7V32otGEpx+q2IDMp+aWWAaQuXqe6EC9m5syZ9OzZk65duwLw888/s337dhYtWsSwYcNypf/+++9p1KgRQ4YMAWDixIns2bOHuXPn8vPPP6NWq5k9ezajRo2iWbNmQPZvPjs7O82IjldBGiOFEOI19yw9H19EVFQUd+7coW7dujpfDwoKwtnZWdMQCeDv74+VlRVBQUGaxkhXV1fMH+kVZGdnh56eHspH5km0s7PT3K07c+YMiYmJuRbfuX//PqGhoTpjSU1NJfWxu7kFuSBMVlZ2HdSoWok2zf4HgKe7GxeCQ9i6Yw8BpUuR9aCe/tewPo3rfQiAl4cbJ8+cY8eeP+nZueMrjbF+7eIM6eeteT543DnOXsw9d+FbQaEgKymBpO0rQK0mM+ImSnMrjKs1KJDGyPyyrNOQ1BtXcy12Y9WoGSZevtyeOoaMe1GY+JXBrls/MlTRJJ87VUjR5s/MBcu4ejOMn74Z9cL7OPDXHn6eO1PzfOS4KS8jtFzUWVkANGz8P+rWbwyAu4cXZ8+cZN+eHXzWpadW+uh7d5kw5mtq1KxNg0b/0xl3xzazyXqw3/Hjx7+SuF8WS0tLWrZsqXnu7eNDdEwMCxcu5NVevQpf/drFGNwnZ4GzoRN197B9mkmzQhje35tNi6uSkanmUmgi+w7exdsjp6G41f8cKeVjztBJF4iMSqFcKUsG9vbgXkwa/z3SU+tdLsfbQOoiW8iYb/GbNo4a+7egVqu5f+MWd9ZuxrF9c02a6L8emV4j6BLxp85R89gu7Jo25M6ajfmOQeoi2+tQF0K3vH7n6Pqtk5aWxn///cfw4cM125RKJfXq1ePo0aM693/06FEGDhyota1hw4aaKb6uXbtGREQE9erV07xuaWlJ1apVOXr0qDRGCiHEu8bT0xOFQkFQUBAtWuSe/yUoKAhra2uKFSuGQqHI1WiZnp7+xP0/PvT7RT0+n5hCodC57eEP8sTERBwcHNi/f3+ufT1cjOFxU6ZMyfVDfuzYsfTq0DJXWksLc5RKJapY7YY4VWwcNnns38bKSkf6WKytrTT71NPTw9VZu9ebS4kSnLuYPQzS9kFaV2ft3lMuzk5E3run87gv06Hj0Vy8dELz/G502hNSvz7UyYmoszJRFNEeGqU0syArUXdjalZiHGRlwiPnfOa9cJTmlqDUy37tFcqMj0edmYm+pZXWdj1LazJinzwUS2FkhHmND7j32zLt7QaGFOvQhbDpE0g6lT38P/XmNYxc3bH5X+tX0hhpaW6OnlJJTKx2j42Y2DhsdSz09LxmLljGkROnmTtpJMWLvvhCW1Wqvoe3T87w9/T07HM7TqXCxibnpkZsrAo3d0+d+zC3sESpVBL3WP3Exqqwss6OzfrBvko4u2qlKeHswr27kVrbYqLvMXr4QHz9StGn/6A84/6owQfcvHXrQdzZ12SVSqW18FisSoW7h+7Vyy0sLLKvZ4/1nIxVqbB50FvS2tqajIwMEhMTtXpHqmJjsc7nAmc+Pj6s+/33fO3jTXDoeAwXQ3KmXTAwyL6ZZm1lSLQq57vUxsqQy9cSc+V/6E5ECv1HnsXYSEkRUz2iVemMG+JLeGT2MDdDQyW9PnVl5JSLHP0vu05DbyTj5W5Gh+ZO+W6seFvK8TZ4G+siPUZFVkYGhsW0byYbFrUlLSo6zzxne3yB0sgQA2srUiOi8BzxFfdv5D3Hc0Z8AklXb2Di6vJS4pa6yMlT2HXxulMX1HQ/j8nrd864ceNypb137x6ZmZnYPTZqwc7OjuA8pmaJiIjQmT4iIkLz+sNteaV5FWTOSCGEeE3Z2tpSv359fvrpJ+7f114lOCIigpUrV9KuXTsUCgXFihUjPDxnWOXly5dJTs4ZTvFwldbMzJxGGnNzc1xdXdm3b5/O4/v5+XHr1i1uPfghDXDx4kViY2Px93+2efF0qVChAhEREejr6+Pp6an1KFpU98Thw4cPJy4uTuvx6B3BRxkYGODt6c7JMznzvGVlZXHy7DlK+XrrzOPv683Js9rzwv13+qwmvYGBAb5eHtx6bJj37Tt3sCueHbO9XXGK2lhzK+yOdpqwcOweDJN/le7fzyQsPEXzSEvLeuXHfCmyMskMv4mB26PTESgwcPUlI+yqziwZt0NRWheDR+bZUdrYkZUQ+8obIgHIzCDl6mVMyzwyz5JCgWnpAFIuX3xiVvNq76PQNyD+oPbnTqGvj0LfANSP1VtW1iubC9PAQB9vD1f+O5vTSyQrK4v/zl6klI/uRr1noVarmblgGX//8x/fjx+Go13+zn8TU1McHJ00D2cXV6ytbTh7JufHZXJyEpdDgvDxLaVzHwYGBnh4enP2dE6erKwszp0+qclT3M4eG9ui3Am7pZX3TthtihXP+QM9+t5dRg37Cg9PbwK/HKrVC/zxuEuWLImjoyOOjo64uLhgbW3NmdOnc+JOSiIkJAQ/X9884/b08tLKk5WVxenTp/F9MIWHl5cX+vr6nH4kze3bt7kbFZXnfp/V1atXNdN8vM3u388kLCJF87h+K5nomDQqlrXSpDE10cPP25wLIQl57+iBlNQsolXpmBXRp0qANQf/yW4c0NdTYGCgJOuxAQ+ZmWoUL+Fz/raU423wNtaFOj2DhHMXsalZNWejQoFNzWrEnnzyIoRZqWmkRkSh0Nen+Ef1uLv7rzzT6pmaYOrqTFrU06chehZSF9oKsy6Ebs/zO+dtIj0jhRDiNTZ37lxq1KhBw4YNmTRpEm5ubly4cIEhQ4bg5OSkWaW6Tp06zJ07l+rVq5OZmcnQoUO1eicWL14cExMTdu7cSYkSJTA2NsbS0pJx48bx+eefU7x4cRo3bkxCQgKHDx+mf//+1KtXjzJlytCxY0dmz55NRkYGffv2pXbt2lSqVOmFy1SvXj2qV69O8+bNmTZtGt7e3ty5c4ft27fTokULnfvOa6hCXto0+x/fzv4Rb08P/Lw9WbdlOykpqTSqmz18evKsHyhmY6MZOt2qaRO+HDGW3zZupVrlCvz592FCroQyqF9vzT7btfiYCd/Nomwpf8qXKcXxk6c5cvw/Zk8eB2T3/mzXohlLVq/Fw60knm6u7PrzADfDwhg3THfPqVfN3Ewfu2JGFLXJfu9cnEwBiFGlERP75J6zBSnln70U+bgLGeHXyQi7jnHVumBgSOqZ7BWGi3zchayEWO7/tQmA1P8OYFzpA0wbtiPl3z/RsymOyXuNSflX92rpr4Jq+wbs+w4mJfQSKaEhWH/UAqWRMXH7s1c4tu83hIyYe9xbvVgrn+WHjUg8cYSsxMfmyLyfTPKFMxT7tCdZaWlk3I3ExL8sFu/X4+6y+a+sHO2bNuKbHxbg6+mGn5c7v23dzf3UVJrUeR+Aid//QjFbaz7/tC2QvejN9dvZjfLpGRncjVFx+doNTIyNKeGQ3WA3Y/5S9h48xpThX2JqYkz0g7lXzUxNMTLSPR/X81AoFPyvWWt+X7McB0cn7OwdWLV8ETY2RalavaYm3ZgRA6lWvRYfNc3uWf5xizbMmfktHl7eeHn7sW3zOlJSUqhbv5Fmv81btmPNyiW4unng5u7JX/t2EXb7JkNGjAOyGyJHD/+KYsXs6NL9c+LjcnrvPq0XokKhoHnz5qxZswZHJyfs7OxYvnw5tra2VK+Rs3L88GHDqFGjBk0//hiAFi1aMHPGDLy8vPD28WHzpk2kpqZSv359IHsRnAYNGrBgwQLMzc0xNTXl53nz8PPz0zRYAty5c4f79++jUqlITU3VTIvh4uKCgYEBe/fsQd/AAI8HvTSPHD7Mnt27mTRpEmwb8UJ19SR6RUwp4pnT28bUrQQW5XxJi4kj5dbLmbM0P37bGkbnts7cDr9PeGQKPT4pSXRMKgeP5fR0nz2hDH8fu8eGP7LjrVLeClBwKywZJwcT+nZx42ZYMn/sy+5Zm3w/k1PnYunbxY3UtCwio1IIKG1Jow+LM3fRy1lt/m0tx7OQc+rV18XN+cvwn/UN8WcuEHf6HC49PkPPxITwtZsAKDX7G1Iiogj99nsALMqXwci+OIkXQjCyL477wD6gUHJjXs53o9eoQdzde4CU23cwsiuG+6B+qDMzidi046XH/5DUxetTF68TtbpwbqY8z++cokWLoqenR2Sk9oiNyMhIrXUBHmVvb//E9A//jYyMxMHBQSvNowvovWzSGCmEEK8xLy8vTpw4wdixY2nbti0xMTHY29vTvHlzxo4dqxnqN2PGDLp27UqtWrVwdHTk+++/57//clbg1dfXZ86cOUyYMIExY8ZQq1Yt9u/fT+fOnUlJSWHWrFkMHjyYokWL0rp1ayD7h/PmzZvp378/77//PkqlkkaNGvHDDz/kq0wKhYI//viDkSNH0rVrV+7evYu9vT3vv/9+ruEBL6pOrfeIi4tnyaq1xKhi8XB3Zeq4kdg8GEoddfceykfuUpf282HUoC9YtHI1vy5fhZOjAxNHfI1byZwfNbWqV+WrPr1YtW4jPyxYhLOTI+OHDaaMf86P/dbNmpCWnsaPC5eSkJCIh1tJpk8YjZND4axEWLOqLSO/zOkZNWFodo/WRauus2j1jUKJSZe0iydQmJphUvtjlEUsyIy8TcLqOZpFbZSWNlpDsrPiVSSsmoNp/TZY9hpDVkIsKf/+ScqRnQUWc8LRA+hZWFK0bSf0rKxJvX6V21NGkvlgURsD22LZvRofYeBQAlO/0tyapPtu953vp1Dsk2449B+Knpk56XejuLdmCbF7Xt08mHVrViM2PoFfV28gJjYOTzcXZowegs2DYdqR96JRKnM+K/dUKroOGq15vnrzDlZv3kFAKV/mTsxusNq0K7tRuP/oyVrHGhHYk4/q1Hopcbdo3Z6UlPvM+2EGSUmJ+PmXYfTEqZpe4AAR4XeIj89pLKz5fh3i4+JYs2IJKlUMbu4ejJkwVTNMG6Bp89akpaWxaMGPJCYk4OrmwdhJ03FwcALgzKn/CL8TRvidMHp0bqsV08btefcueah1mzakpKTww5w5JCYmUqpUKSZMnKgVd3h4OHHxOUPna9euTXxcHMtXrEAVE4O7hwcTJk7UWtSmV+/eKJRKvpk0ifT0dCpWrEjffv20jv397NmcO5fTA7x/YCAAi5cs0Vx7V69aRVRUFHp6epRwdmbYsGG0atWK7bz8xkjLiqWpvm+55rn/9Oxj3Fq2gbPdC79HyKoNtzEx1mNIXy/MiuhzLiiOweMvaK2m62hvjKVFzo2/Iqb69P7MlWJFjUhIyGD/0XssWHGdzMycPOOmB9O7kytjBvpgYaZPxN1UFqy4waadr6ax7G0px7OQc+rV10Xk1l0Y2NrgPrgfRsWKknAxmFOffU7avezegcZODqgf6RqoNDLCY0h/TFxKkJmcTPSfBzn/xQgy4nNuyBk52FFm7lQMrK1Ii1ERe/wk/37ckfSYV7cyu9TF61MX4vkYGhpSsWJF9u3bR/PmzYHsERP79u0j8MH3+uOqV6/Ovn37+PLLLzXb9uzZQ/Xq1QFwc3PD3t6effv2aRof4+Pj+eeff+jTp88rK4tC/apWRhBCCCFesTshZws7hHxz9ClLzaYHCjuMfDm0tTYxk3o/PeFrzmbUL4S0a1jYYeSLz9pd3L3wT2GHkW/FSlXl4pU7T0/4mvP3dCT0qu7pBt4UHu7ubDfwKeww8q1Jegi1mh0s7DDy5eDmWm98GSC7HHJOvR4Obq7F3hJlCjuMfKt3+5zUxWui3u1zT0/0mroSWjg9uz09dK+Anpe1a9fSuXNnfvnlF6pUqcLs2bP57bffCA4Oxs7Ojk6dOuHk5MSUKdkL/h05coTatWvz7bff0qRJE9asWcPkyZM5efIkpUuXBmDq1Kl8++23LF26FDc3N0aPHs3Zs2e5ePEixsbGL73MID0jhRBCCCGEEEIIIcQ7TP2GLKnSrl077t69y5gxY4iIiCAgIICdO3dqRjncvHlTaz7rGjVqsGrVKkaNGsWIESPw8vJi06ZNmoZIgK+//pqkpCR69epFbGwsNWvWZOfOna+sIRKkMVIIIYQQQgghhBBCiDdCYGBgnsOy9+/fn2tbmzZtaNOmTZ77UygUTJgwgQkTJrysEJ9KGiOFEEIIIYQQQgghxDtLTeEsYPOuejP6oQohhBBCCCGEEEIIId540hgphBBCCCGEEEIIIYQoEDJMWwghhBBCCCGEEEK8s2SYdsGSnpFCCCGEEEIIIYQQQogCIT0jhRBCCCGEEEIIIcQ7S3pGFizpGSmEEEIIIYQQQgghhCgQ0jNSCCGEEEIIIYQQQryzpGdkwZKekUIIIYQQQgghhBBCiAIhjZFCCCGEEEIIIYQQQogCIcO0hRBCCCGEEEIIIcQ7S62WYdoFSXpGCiGEEEIIIYQQQgghCoT0jBRCCCGEEEIIIYQQ7yxZwKZgKdRqtbqwgxBCCCGEEEIIIYQQojBcuBJeKMct5elQKMctbNIzUgghxBursP5oeJlKeTrwh6lvYYeRLx8lBzNyUWphh5Fv33QzovOYiMIOI1+WTrDn5KXowg4j3yp423In5Gxhh5Fvjj5luRoaWthh5Iu7hwe1mh0s7DDy7eDmWmw38CnsMPKlSXrIG18GyC6HnFOvhybpIdRtf7yww8i3fWuqSF28JvatqVLYIYg3hDRGCiGEEEIIIYQQQoh3lgzTLliygI0QQgghhBBCCCGEEKJASM9IIYQQQgghhBBCCPHOkp6RBUt6RgohhBBCCCGEEEIIIQqE9IwUQgghhBBCCCGEEO8stVp6RhYk6RkphBBCCCGEEEIIIYQoENIYKYQQQgghhBBCCCGEKBAyTFsIIYQQQgghhBBCvLOyZAGbAiU9I4UQQgghhBBCCCGEEAVCekYKIYQQQgghhBBCiHeWWnpGFijpGSmEEEIIIYQQQgghhCgQ0hgphBBCCCGEEEIIIYQoENIYKYQQbwCFQsGmTZsK5dgffPABX3755TOl3b9/PwqFgtjY2FcakxBCCCGEEEK8LGq1olAe7yqZM1IIIV4DXbp0YenSpbm2N2zYkJ07d7704ykUCjZu3Ejz5s2fmnbDhg0YGBg8035r1KhBeHg4lpaWACxZsoQvv/yyUBon1Wo1a1YsZs+ubSQnJeLrV5pe/Qbi6FTiifl2bNvIpvVriFXF4OrmSY/PB+Dl46eVJiToAiuX/crlkCCUSiVu7p6MnvgdRkZGAPTu2o67UZFaeT7t3JOWbTvmu1wle3+C25fdMbIrSsK5YC4MmkTciXM60yr09fEY0gunjs0xdrQj6dI1gkdP596eQzmJlEq8RgXi1P5jjOyKkhIeRdiKjVz5dl6+Y31edcvrUdlHD2NDuBGlZsuRDKLj1U/MY2EKDSvp411CiYE+RMer2XAwg7DoJ+d7mVrUMeODiiaYGiu5fDONpVvjiYzJzDP99K+KUcxaL9f2vf8ksXx7AkWt9JgxsJjOvHPXqvj3QupLix2yPyvrVv7Kn7u3kJSUgI9fWbr1HYKDo3OeeYLOn2LbhlVcDQ0hNuYeA0dMoXL12lppjh/Zz94dG7kWGkJiQjxTvl+Cq7v3S4l54/adrN24hRhVLB5uJRnQqxt+3l55pt9/6CiLVq4hIuouJRzt6dX5U6pVqqCV5sat28xfuoIz5y+SmZlFSecSjB8+CLti2XXx5YixnDl/UStP00b1Gdi31zPFvHXrVtatX49KpcLdzY0+ffrg4+OTZ/qDBw+ybPlyIiMjcXJ0pGu3blSpXFnzulqtZvmKFezcuZOkpCT8/f0J7NcPJycnTZpx48dz9epVYmNjMTMzo3xAAN26dcPW1haAyMhIunTtmuvYM2fOxM/X95nKlZfun5SkaX17zIrocS44nhnzrnA7PCXP9CYmevT4pCTvV7PF2tKAS9eSmLMglOAriTlpjJX07uRGraq2WJrrEx6VyrptYWzeGZGvWPPDpmYl3Ad1x7JCaYwdi3OiVV8it+wrtHhexJtSBjmnXh9d2jjxUZ1imBXR53xIAt8vvE5YRN7fTSbGSrq2LUHNytZYWRpw5XoSPy65ScjVJE2ar/u40bC29nff8dOxDP/20isrx9NIXeQo7LoQbx9pjBRCiNdEo0aNWLx4sda2h41bhSEtLQ1DQ0NsbGyeOY+hoSH29vavMKpnt3HdarZvXc+Ar4ZT3N6B1csXMXH0EL7/eQmGhrrf10N//8niBT/RO3Ag3j5+bNu0jgmjh/DD/OVYWVkD2Q2RE8d8Tcs2n9Dj8wHo6elx/VooSqX2nc32n3ajfsMmmucmpqb5LpNDq8b4fjuMCwPGEfvvGVwDO1Nl868cCGhM2t2YXOm9x36BU4ePOddvNIkhVylWvyYV18zlaJ0OxJ8JAsBjUE9K9ujAmV7DSLx4BcsKpSn7y2TS4xK5MW95vmN+VrXK6FHdX4/1BzOISVBTv4IeXRoa8P2GNDLyaNczNoReTQy5Gp7F0t3pJKWosbVQcD+t4BoiP6pZhPpVTVmwMY57qkxa1jFjcCdrRsy9R3qG7jzjf7mndb44FddnaBcbTSNjdFwmA6ZFaeX5oJIJjd8rwtnLaS+9DFvXr2Dntt/p8+Uoitk58vvK+Xw75iu++2llnp+V1JQUXNw8+aD+/5g5eXgeae7j41+OajXrsmDuty8t3j8PHmbewqV81bcXft6erNuyna/HfsOyed9jbWWZK/35oBAmTp9Nz06fUL1yRfYdOMToydOYP2sabiVdAAgLj2DAsNE0rleHLh3aYWpqwvWbtzA0MNTaV5MGdenWsZ3m+bNeow8cOMD8BQvoHxiIj68vmzZtYtTo0SyYPx8rK6tc6S9evMi3U6fStUsXqlSpwv79+5k4cSI/zJmDq6srAL+vW8eWLVsYNHAg9vb2LFu+nFGjR/PLzz9jaJgdd7myZWnXrh021tZER0fz68KFfDN5MjNnzNA63uTJkynp4qJ5bmFh8UzlyssnLUvQqokjk78PITwyhe4dXZkxrjSfBf5HWrruz+fQQC/cXUyZNCuEezFpNPigOLMmlOGzwP+4F5N93gd2c6dCWSsmzgohIiqFygHWDPzck3sxaRw+nvsaWBD0ipgSfzaEW0vWU2ndj4USQ369CWWQc+r10f5jB1o0smPqT1eJuJtKl7Yl+Ha4D90GnyM9j7oY1NsNtxImTPnxKtGqNOrVKsq0UT50H3SOe6p0Tbrjp2OZNu+a5nl6RtYrL8+TSF28PnVREGQBm4Ilw7SFEOI1YWRkhL29vdbD2tpaZ9pbt27Rtm1brKyssLGxoVmzZly/fl0rzaJFiyhVqhRGRkY4ODgQGBgIoPkh26JFCxQKheb5uHHjCAgI4Ndff8XNzQ1jY2Mg9zDt1NRUhg4dirOzM0ZGRnh6erJw4UJAe5j2/v376dq1K3FxcSgUChQKBePGjWPChAmULl06V5kCAgIYPXp0Pt7BHGq1mm2b19G63WdUqV4TVzcPBgwaTkzMPY4fPZRnvq0bf6d+oybUrd8YZxdXegcOxMjYmD93/6FJs2jBXD76uCUt23bEpaQbTiVceK/Whxg81mhhYmKCtY2t5mFsbJLvcrkN6MKtxb9ze/kGEoNDOd9/LJn3UyjRqZXO9E6fNCP0u1+4u+tv7l+/zc0Fa7i762/cBuT0hLKuVp7I7fu4u/MA92+GEbFpF/f2HcaqUpl8x/s83iulx/4zmQTdzCJSpeb3vzMwNwE/l7z/VHm/rB5xSWo2HMrg9j01qkS4ckdNTELBxd2wuilb/07kVHAqtyIzmL8hDitzPSr4GueZJyFZTVxiluYR4GNEZHQGwdezfxyr1Wi9HpeYRUU/Y46fTyH1JTe0qtVqdmz5jRZtu1Cp2vuUdPOk71djUMXc48Sxv/PMF1CpOu0+652rN+SjatVpTKsO3SgTUDnPNC/i983baNKgLo3rfYirizMD+/bC2MiQHXv/1Jl+/dbtVKkQQPuWzSjpXIJun7bHy92djdtzep0vXLGaqhXL83nXz/DycMPJwZ73qlbO1bhpbGSEjbW15lHkGW8ybNy4kcaNGtGgQQNKurjQPzAQIyMjdu/erTP95s2bqVSxIq1bt8bFxYVOnTrh4eHB1q1bgex627RpE+3bt6d69eq4ubkxeNAgoqOjOXL0qGY/LVq0wM/XFzs7O/z9/Wnbpg3BwcFkZGi3lFuYm2NjY6N56Ovnr79C26ZOLPv9JoeOxxB6I5lvZodga2NErWpFdaY3NFRSu3pR5i25xpmL8YRFpLB4zU3Cwu/TvLGDJl1pXwt2/hnJ6fNxRESlsnV3BKHXEvHzMs9XvPlxd9ffXBo7m8jNewsthvx6E8og59Tro2VjO1ZsvMOR/2K5evM+U3+8SlFrQ2pW0v03q6GBgver2DB/1S3OBSdwJzKVZevCuBORStP6xbXSpqerUcWlax6JSXmPMigIUhevT12It480RgohxBsmPT2dhg0bYm5uzsGDBzl8+DBmZmY0atSItLTsxox58+bRr18/evXqxblz59iyZQuenp4A/PvvvwAsXryY8PBwzXOAK1eusH79ejZs2MDp06d1Hr9Tp06sXr2aOXPmEBQUxC+//IKZmVmudDVq1GD27NlYWFgQHh5OeHg4gwcPplu3bgQFBWkd99SpU5w9e5auOoYLvojIiHBiVTGUC6io2VakiBlePv6EBF/UmSc9PZ3QKyGUfSSPUqmkbEBFTZ7YWBWXQ4KwtLRm+KB+dO3YglFDvyDowtlc+9v4+yo6tf+YQf17sGn9GjIz8+gm94wUBgZYlC9F9F9Hcjaq1dz78yjWVQN05lEaGpKZoj1UJ/N+CtY1csqoOnYK2w+qU8TTFQDzMj5YV6/A3d15N0S9bNbmYG6qIPROzl331HS4fVeNS/G871L7OSsJu5dF+w/1Gd7BkH7NDKjkXXB/2hSz1sPKXI8LoTm9Fe+nqrkalo6n87NNbaCnBzXKmvD3qft5pnF10KekgwF/n8w7zYuKirxDrCqa0gGVNNtMi5jh4e3P5eDzL/14+ZWens6lK1epGFBWs02pVFKhXFkuBOsePnYx+BIVy5XV2la5QjlN+qysLI6dOEkJR0eGjJ1Ei8+602fwcA4dO55rX3sPHKRZx250DRzIgqUrSUl9+pD59PR0Ll+5QkBAgFbMAQEBBAUH68wTFBxMQPnyWtsqVqyoSR8REYFKpaL8I/ssUqQIPj4+BAcF6dxnQkICf/31F35+frkaG8dPmED7Dh0YNHgwx44de2qZnsTBzhhbG0NOnInVbEtKziToUgKlfHQ38OjpKdDXU+Tq4ZaalkVZv5xemueD43mvii1FbbJv/pQvY4mzkwn/nlLlK2bxepNz6vXhUNwIW2tDTp6L12xLup9J0JVE/L1z/y0I2XWhl0ddlPbVrr9y/uas+6U8S2aW4YvuJbEwk4GceZG6ePlkzsiC9fafUUII8YbYtm1brka9ESNGMGLECK1ta9euJSsri19//RWFIvsLbPHixVhZWbF//34aNGjApEmTGDRoEF988YUmX+UHc40VezD/mZWVVa4h1WlpaSxbtkyT5nGXLl3it99+Y8+ePdSrVw8Ad3d3nWkNDQ2xtLREoVBoHcfMzIyGDRuyePFiTUyLFy+mdu3aee7recWqsodWWVprDzG3srJGpdI97CohPo6srCysrHLnCbt1E4DIiDsArF21hM7d++Dm7sn+fbsYO2IQs39arJmPssnHrXD38MLM3IKQoPOsWLIAVUw0XXv2e+EyGRa1RqmvT2pktNb21Kh7mPm46cxzb+8h3Pp3IebQCZKv3qToh9Wxb1Y/uwXsgdDp89E3L8L7p/9AnZmJQk+PS+Nmc2fttheO9XmZm2Sfx4n3tf84TkxRY2aS9x9p1uYKqvjqcfhCJgfOpFOimIL/VdMnMyuDU1de/XAiS7Pshs+4RO1jxSdmal57moq+xpgaKzj0hMbI9yuaEhaVwZVb6XmmeVFxDz8rj533llY2ms/R6yQuPoGsrKxcPRatrSy5GRamM09MbKyO9FaoVLEAxMbFcf9+CqvXb6Lbp+3p3bkjx0+eZsyU6cz8ZiwBpUsBUPf9mtgVL0ZRG2tCr99k/tIV3Aq7w4QRQ54Yc3x8fHbMj/V0t7ay4vatWzrzqFQqrB8bvp0ds0rzOqBznw9fe2jhokVs3bqV1NRUfH19GT9unOY1Y2Njevbogb+/PwqlksOHDzNh4kTGjB5NtWrVnliuvNhaZzfEq2K1pxSIiU3DxtpQVxbu38/kXHA8nds6c/12MqrYNOrVKkYpHwvCInI+G7PnhzKknxcbF1clIyOLLDVM+/EyZy7G69yveDvIOfX6sLZ6UBdx2t9Hqrh0zWuPu5+SxYVLCXza0pGbYfdRxaZT5z1b/L3NuBORM+fnv6fjOHhcRURUKo52RnRv78yUYUXoP/oiWQU3+8obQ+pCvOmkMVIIIV4TH374IfPmaS8aomu+xjNnznDlyhXMzbXvYKakpBAaGkpUVBR37tyhbt26zx1DyZIl82yIBDh9+jR6enrUrp330Mxn0bNnT7p168bMmTNRKpWsWrWKWbNm5Zk+NTWV1Md6ID06V9uBv/bwy9ycOdBGjnt589M9Sv3gL7AGjZtSt35jANw9vDh35iR/7vmDT7tkL2TxcYu2mjyubh7o6xvw89wZfNqlZ67h3K/SxSHfUPrHidQ+/QdqtZrkq7e4vXyD1rBuh1aNcWzflNNdBpMYdAXzsr74TxuRvZDNyk2vJK5y7kqavZfzJ8iyPS/WyKZQQNg9NXv+yx46FB6jprhVJlV89V5JY2T1ssZ0aZrTo2bmyvz3nHm/oglnr6QSm6A7XgN9qFbGmC0HEnW+/rwO7d/Frz9O0zz/esz0l7LfN1nWg891jaqVaNPsfwB4urtxITiErTv2aBojmzaqr8nj7loSW2srBo2eQFh4BE4Or8dcubq0btWKhg0aEBUVxcpVq5g+Ywbjx41DoVBgaWlJy5YtNWl9vL2JiY5m3fr1z9wYWb92MQb3yVk8aOjECy8U56RZIQzv782mxVXJyFRzKTSRfQfv4u2Rc5Ou1f8cKeVjztBJF4iMSqFcKUsG9vbgXkwa/z3Sa0682eScen3Ufc+Wr3q6ap6PmPpiC5hM+fEqQ3q78du88mRmqrl8LYm/Dkfj5V5Ek+avozk3wK7dus/Vm/dZMacc5UpZcOq8NA5LXYi3jTRGCiHEa6JIkSKaodRPkpiYSMWKFVm5cmWu14oVK4ZS+eLDVIsUKfLE101M8j/vIUDTpk0xMjJi48aNGBoakp6eTuvWrfNMP2XKFMaPH6+1bezYsbT5tDcAVaq+h/cjK16np2c3bsWpYrCxsdVsj41V4eau+z02t7BEqVQSG6vdGyw2VoXVgx6W1g/25excUiuNk3NJ7t7VXnDkUV4+fmRmZhIVGYFTCZc80z1J2j0VWRkZGNnZam03Kl6U1Mh7eeY52S4QpZEhBrZWpN6JwmfiIJKv5fTG8p08hKszFhC+LntezIQLlzBxccRjcK9X1hgZdDOLW3dzerjo62X3fjQzUZDwSO9IM2MF4TF5Nyom3Ie7sdq36O/GqSnt+mqGvJwKTiX0dk7PVIMHcVuaKbV6R1qY6XEz/OkNrLaWSkq5GzJnTWyeaSqXMsbIQMHh0y9niHbFKjXx9C6leZ6enl0PcbExWNvkzL0WFxuDq3veq1MXFksLc5RKJarYOK3tqtg4bHQsBANgY2WlI30s1tZWmn3q6enh6qy9erhLiRKcu6h7GDWAn0/2+/O0xkgLC4vsmB/rsaiKjcU6jwXCrK2tUcXG6ojZWvM6ZPeQfPSmlSo2Fo/HephbWlpiaWlJiRIlcH4w/2RwcDB+fn7o4uPjw8lTp/Isz+MOHY/hYshJzXMDg+zvIGsrQ6IfWQzBxsqQy9fyblS/E5FC/5FnMTZSUsRUj2hVOuOG+BIemd1bx9BQSa9PXRk55SJH/8t+L0NvJOPlbkaH5k7ScPQWkXPq9XHkPxVBj6w+rqkLSwNiYnPqwtrSgNAbyXnuJzwylYETgjE2UmJqokdMbDqjvvAgPDLvqS7Co1KJjU/Hyc6IU6/frCEFTuri1ZMFbAqWzBkphBBvmAoVKnD58mWKFy+Op6en1sPS0hJzc3NcXV3Zt29fnvswMDAgM/P5J6IuU6YMWVlZHDhw4JnSGxoa6jyOvr4+nTt3ZvHixSxevJj27ds/saFz+PDhxMXFaT2GD89ZwdfE1BQHxxKah7OLK1bWNpw9k/NjJjk5icshF/Hx9dd5DAMDAzw8fTh7OidPVlYWZ0//p8lT3M4eG9uihIVpD60MD7tFseJ2ecZ/7eoVlEollpa6JxR/Fur0dOJPXcD2g+o5GxUKbD+shuqf00/Mm5WaRuqdKBT6+tg3b0Dk9pyFPvRMTFBnPdbgl5mFIh+N2k+TlgExCTmPqFg1Cclq3B1zjmlkACWKKbgZlfd4oJuRWRS11P7DsaiFAlXiqxlDlJKmJiomU/MIu5tBbEIm/u45vV2NjRS4Oxk805DqWhVMiU/K4sylvH8AvF/BlFMhqSQkv5wymZgWwd6xhOZRwsUNK2tbzp85oUmTnJxE6KWLePnmXmiqsBkYGODt6c7JM+c027Kysjh59hylfL115vH39ebk2XNa2/47fVaT3sDAAF8vD249Nsz79p072BXXvTgGwJWr1wGwzWOhsUdj9vL05PSZM1oxnz59Gj9fX515/Hx9c83be+rUKU36hwucPbrPpORkQkJC8M2jkRHQfNYf3rDR5erVqzp75efl/v1MwiJSNI/rt5KJjkmjYlkrTRpTEz38vM25EPL01aVSUrOIVqVjVkSfKgHWHPwn+waAvp4CAwNlriGCmZlqzZQl4u0g59Tr435KFnciUzWPG7fvE61Ko0LpnFECpiZK/DzNuHjp6T34U1KziIlNx6yIHpXLWnLkv7xHGBS1McDCTJ/o2Jc/RcmbSOpCvG2kZ6QQQrwmUlNTiYiI0Nqmr69P0aLaP4Y7duzId999R7NmzZgwYQIlSpTgxo0bbNiwga+//poSJUowbtw4Pv/8c4oXL07jxo1JSEjg8OHD9O/fH0DTWPnee+9hZGSU56rdj3N1daVz585069aNOXPmUK5cOW7cuEFUVBRt27bVmT4xMZF9+/ZRrlw5TE1NMX2w+myPHj00PXMOHz78xOMaGRlpDct+GoVCwf+atWbdmuU4OJbAzt6B1csXYmNTlCrVa2rSjR0xkKrVa/JR0+xhik1btOGHmVPw9PLBy9uPrZvXkZqSQp0HQ7IVCgXNWrZj7coluLp54ObuyV/7dhF2+yZDRmT33AwJusClkIuULlseExNTQoIvsHjBj7z/YX3MzPO3Oue1OUsou+Bb4k6eJ/bEWdwCO6NvasLt5RsAKLvgW1LvRBEydiYAlpXLYuxoR/yZIIwd7fAaGYhCqeTqzF81+4z64y88vv6c+7fCSbx4BYsAP1z7d+H2svX5ivV5Hb6QyYfl9IiOU6NKVFOvgh4J97N7UT7UrZEBF29kciwoS5On9/8MqF1Wj3PXMilRTEllHz02Hc7fYkHPY9fRZD6ubUZkdCZ3VZm0rGtGbEImJ4Nz5l76uos1Jy+msvd4Tk8FhQJqlTfh0On7PN4W/FBxGz18Showc8WrW0hBoVDQ+OO2bFq7FHtHZ4rbOfL7ivlY2xSlUrX3NekmjexP5eq1afi/7B7MKfeTiQi/rXn9bmQ4169ewszMgqLFs3sJJibEc+9uBKqY7J674WHZc69aWdtiZa3dw/d5tGn2P76d/SPenh74eXuybst2UlJSaVT3QwAmz/qBYjY29OzcEYBWTZvw5Yix/LZxK9UqV+DPvw8TciWUQf16a/bZrsXHTPhuFmVL+VO+TCmOnzzNkeP/MXvyOCC79+O+A4eoWqk8lubmhF6/wU8Ll1K2lB8ebiVzxfi4Fi1aMGPmTLy8vPDx9mbT5s2kpqZSv3720O/p06dja2urWcSrWbNmfD10KOs3bKBK5cocOHCAy5cvM+DBNVyhUNC8eXPWrFmDk6MjdnZ2LF++HFtbW2pUz75hERwczKXLlynl74+ZmRnh4eEsX74cBwcHTYPlnr17MdDXx8PDA4DDR46we88evhgw4IXrB+C3rWF0buvM7fD7hEem0OOTkkTHpHLwWE4v7tkTyvD3sXts+CMcgCrlrQAFt8KScXIwoW8XN26GJfPHvkgAku9ncupcLH27uJGalkVkVAoBpS1p9GFx5i66lq9480OviClFPHN6vJu6lcCinC9pMXGk3AovtLiex5tQBjmnXp/62LAjko4tHLkdkUJEVCpd25bgniqNQydyvqu+G+XDoX9VbN6VPWqkUllLFAq4dec+TvbG9OrozM07Kezcn11/xkZKOrV24uA/McTEpeNoZ0yvT5y5E5nKiTNxOuMoCFIXr09dFIR3eTGZwiCNkUII8ZrYuXMnDg4OWtt8fHwIfmy1VVNTU/7++2+GDh1Ky5YtSUhIwMnJibp162JhkX13tHPnzqSkpDBr1iwGDx5M0aJFtYZBz5gxg4EDB7JgwQKcnJy4fv36M8c5b948RowYQd++fYmOjsbFxSXXIjsP1ahRg88//5x27doRHR3N2LFjGfdg8QQvLy9q1KhBTEwMVatWfebjP6sWrTuQmpLCzz9MJykpET//MoyeOA1Dw5xGzYjwMOLjc/6wqvl+HeLjYlm9YjGxqhjc3D0ZPWGaZpg2QNPmbUhPS2Pxgh9JTEjA1c2DsZOmY+/gBIC+gQGH/v6TtauWkJGeTnE7B5o2b8PHLdrku0zh63dgWMwG79H9MbQrRsLZII4370laVHYvDxNnRx7t4qFnZIT3mC8wdXMmMzGZqF0HONNjKBlxOT1JLgyahPeYAZSePQbDYrakhEdxa9FaLk/+Kd/xPo+D5zIx1Ifm7+ljbAg3otQs2ZVOxiMda23MFZga5/yhGHZPzcp9GTSoqMeHAXqoEtVs/yeDM1df/eI1D/1xKAkjQwVdPrbA1FjJ5ZtpTF+uIv2R9tDi1vqYFdHuTVDK3ZCiVnpPXCH7/QomqOKzOB+almeal6Fpq09JTUnh17lTSU5KxMe/LMPGz9T6rERGhJEQH6t5fvVKMBNHBGqeL184JzvmOh/R56tRAPz3z0F+/v4bTZo508YA0KpDN1p/0uOF461T6z3i4uJZsmotMapYPNxdmTpuJDYPhl1H3b2H8pFeTaX9fBg16AsWrVzNr8tX4eTowMQRX+NWMucHZq3qVfmqTy9WrdvIDwsW4ezkyPhhgynjn91oZ6Cvz39nzrJ+63bup6RSvKgttapX5bN2rXgWtWvXJi4+nhXLlxOjUuHh7s7ECRM0N4Ki7t7V6o3s7+/P0K+/ZumyZSxZsgQnJydGjx6Nq6urJk2b1q1JSUlhzg8/kJiYSKlSpZg4YQKGhtk9dY2MjDhy+DArVqwgJSUFGxsbKlasyPD27TE0yFncYNXq1URFRaGnp4dziRIMGzaMWjVzbtq8iFUbbmNirMeQvl6YFdHnXFAcg8df0FrB1dHeGEuLnDiKmOrT+zNXihU1IiEhg/1H77FgxXUyM3PyjJseTO9OrowZ6IOFmT4Rd1NZsOIGm3YWXqOAZcXSVN+3XPPcf3r29+GtZRs42314XtleK29CGeScen3qY82WcIyNlAzs6YqZqT7nQhIY/u0l0h+tCztjLM0frQs9enQoQVEbQxISMzh4XMWiNbc1dZGVpcbdxZQG7xfFrEj2kPoTZ+NY8ttt0jMKb8UUqYvXpy7E20ehVqvljBJCCFHg1Go1Xl5e9O3bl4EDB77QPi5cKfy70vlVytOBP0x1D9V8U3yUHMzIRXkPNX5TfNPNiM5jIp6e8DW2dII9Jy9FPz3ha66Cty13Qs4Wdhj55uhTlquhoYUdRr64e3hQq9nBwg4j3w5ursV2A5/CDiNfmqSHvPFlgOxyyDn1emiSHkLd9scLO4x827emitTFa2LfmiqFHcILOx5cOD0/q/haFspxC5v0jBRCCFHg7t69y5o1a4iIiNAMSxRCCCGEEEKIwlBw42oESGOkEEKIQlC8eHGKFi3K/Pnzn3m+SiGEEEIIIYQQbz5pjBRCCFHgZIYQIYQQQgghxOtCFrApWMqnJxFCCCGEEEIIIYQQQoj8k56RQgghhBBCCCGEEOKdpUZ6RhYk6RkphBBCCCGEEEIIIYQoENIYKYQQQgghhBBCCCGEKBAyTFsIIYQQQgghhBBCvLNkAZuCJT0jhRBCCCGEEEIIIYQQBUJ6RgohhBBCCCGEEEKId5YsYFOwpGekEEIIIYQQQgghhBCiQEhjpBBCCCGEEEIIIYQQokDIMG0hhBBCCCGEEEII8c7KUhd2BO8W6RkphBBCCCGEEEIIIYQoENIzUgghhBBCCCGEEEK8s2QBm4IlPSOFEEIIIYQQQgghhBAFQqFWq2VkvBBCCCGEEEIIIYR4J+0/f79QjvtBaZNCOW5hk2HaQggh3lgXroQXdgj5VsrTgT9MfQs7jHz5KDmYkYtSCzuMfPummxGdx0QUdhj5snSCPScvRRd2GPlWwduWOyFnCzuMfHP0KcvV0NDCDiNf3D08qNXsYGGHkW8HN9diu4FPYYeRL03SQ974MkB2OeScej00SQ+hbvvjhR1Gvu1bU0Xq4jWxb02Vwg5BvCFkmLYQQgghhBBCCCGEEKJASM9IIYQQQgghhBBCCPHOkgkMC5b0jBRCCCGEEEIIIYQQQhQI6RkphBBCCCGEEEIIId5ZWSgKO4R3ivSMFEIIIYQQQgghhBBCFAhpjBRCCCGEEEIIIYQQQhQIGaYthBBCCCGEEEIIId5ZarUM0y5I0jNSCCGEEEIIIYQQQghRIKRnpBBCCCGEEEIIIYR4Z6nVhR3Bu0V6RgohhBBCCCGEEEII8RaJiYmhY8eOWFhYYGVlRffu3UlMTHxi+v79++Pj44OJiQkuLi4MGDCAuLg4rXQKhSLXY82aNc8Vm/SMFEIIIYQQQgghhBDvLDVv35yRHTt2JDw8nD179pCenk7Xrl3p1asXq1at0pn+zp073Llzh+nTp+Pv78+NGzf4/PPPuXPnDuvWrdNKu3jxYho1aqR5bmVl9VyxSc9IId4wCoWCTZs2FXYY4jFLlix5pgvwq66/cePGERAQ8Mr2L4QQQgghhBDi9RYUFMTOnTv59ddfqVq1KjVr1uSHH35gzZo13LlzR2ee0qVLs379epo2bYqHhwd16tThm2++YevWrWRkZGiltbKywt7eXvMwNjZ+rvikZ6QQL0mXLl1YunRpru0NGzZk586dL+044eHhWFtbv7T9vY66dOlCbGzsS2m0y8zM5LvvvmPJkiXcuHEDExMTvLy86NmzJz169Mh/sA+0a9eOjz76SPN83LhxbNq0idOnT2ulexfq73ksWbKEL7/8ktjY2Je+b7VazZoVi9mzaxvJSYn4+pWmV7+BODqVeGK+Hds2smn9GmJVMbi6edLj8wF4+fhppQkJusDKZb9yOSQIpVKJm7snoyd+h5GREQC9u7bjblSkVp5PO/ekZduO+S5Xyd6f4PZld4zsipJwLpgLgyYRd+KczrQKfX08hvTCqWNzjB3tSLp0jeDR07m351BOIqUSr1GBOLX/GCO7oqSERxG2YiNXvp2X71ifV93yelT20cPYEG5EqdlyJIPo+CdP4GNhCg0r6eNdQomBPkTHq9lwMIOw6IKb+KdFHTM+qGiCqbGSyzfTWLo1nsiYzDzTT/+qGMWs9XJt3/tPEsu3J1DUSo8ZA4vpzDt3rYp/L6S+tNgh+7OybuWv/Ll7C0lJCfj4laVb3yE4ODrnmSfo/Cm2bVjF1dAQYmPuMXDEFCpXr62V5viR/ezdsZFroSEkJsQz5fsluLp7v5SYN27fydqNW4hRxeLhVpIBvbrh5+2VZ/r9h46yaOUaIqLuUsLRnl6dP6VapQpaaW7cus38pSs4c/4imZlZlHQuwfjhg7Arll0XX44Yy5nzF7XyNG1Un4F9ez1TzFu3bmXd+vWoVCrc3dzo06cPPj4+eaY/ePAgy5YvJzIyEidHR7p260aVypU1r6vVapavWMHOnTtJSkrC39+fwH79cHJy0qQZN348V69eJTY2FjMzM8oHBNCtWzdsbW0BiIyMpEvXrrmOPXPmTPx8fZ+pXHnp/klJmta3x6yIHueC45kx7wq3w1PyTG9iokePT0ryfjVbrC0NuHQtiTkLQgm+kjOczMRYSe9ObtSqaouluT7hUams2xbG5p0R+Yo1P2xqVsJ9UHcsK5TG2LE4J1r1JXLLvkKL50W8KWWQc+r10aWNEx/VKYZZEX3OhyTw/cLrhEXk/d1kYqyka9sS1KxsjZWlAVeuJ/HjkpuEXE3SpPm6jxsNa2t/9x0/Hcvwby+9snI8jdRFjsKui7dZamoqqanadWZkZKT5XfGijh49ipWVFZUqVdJsq1evHkqlkn/++YcWLVo8037i4uKwsLBAX1+7+bBfv3706NEDd3d3Pv/8c7p27YpC8ey9S6UxUoiXqFGjRixevFhrW34vIo+zt7d/4uvp6ekYGBi81GO+ycaPH88vv/zC3LlzqVSpEvHx8Zw4cQKVSvVSj2NiYoKJiclT0z2t/l5HaWlpGBoaFnYYz23jutVs37qeAV8Np7i9A6uXL2Li6CF8//MSDA11fy4P/f0nixf8RO/AgXj7+LFt0zomjB7CD/OXY2WV3YgcEnSBiWO+pmWbT+jx+QD09PS4fi0UpVL7y7f9p92o37CJ5rmJqWm+y+TQqjG+3w7jwoBxxP57BtfAzlTZ/CsHAhqTdjcmV3rvsV/g1OFjzvUbTWLIVYrVr0nFNXM5WqcD8WeCAPAY1JOSPTpwptcwEi9ewbJCacr+Mpn0uERuzFue75ifVa0yelT312P9wQxiEtTUr6BHl4YGfL8hjYw82vWMDaFXE0OuhmexdHc6SSlqbC0U3E8ruIbIj2oWoX5VUxZsjOOeKpOWdcwY3MmaEXPvkZ6hO8/4X+5pnS9OxfUZ2sVG08gYHZfJgGlRWnk+qGRC4/eKcPZy2ksvw9b1K9i57Xf6fDmKYnaO/L5yPt+O+YrvflqZ52clNSUFFzdPPqj/P2ZOHp5Hmvv4+JejWs26LJj77UuL98+Dh5m3cClf9e2Fn7cn67Zs5+ux37Bs3vdYW1nmSn8+KISJ02fTs9MnVK9ckX0HDjF68jTmz5qGW0kXAMLCIxgwbDSN69WhS4d2mJqacP3mLQwNtK99TRrUpVvHdprnz/odf+DAAeYvWED/wEB8fH3ZtGkTo0aPZsH8+Tp71V+8eJFvp06la5cuVKlShf379zNx4kR+mDMHV1dXAH5ft44tW7YwaOBA7O3tWbZ8OaNGj+aXn3/WXLPLlS1Lu3btsLG2Jjo6ml8XLuSbyZOZOWOG1vEmT55MSRcXzXMLC4tnKldePmlZglZNHJn8fQjhkSl07+jKjHGl+SzwP9LSdX8+hwZ64e5iyqRZIdyLSaPBB8WZNaEMnwX+x72Y7PM+sJs7FcpaMXFWCBFRKVQOsGbg557ci0nj8PHc18CCoFfElPizIdxasp5K634slBjy600og5xTr4/2HzvQopEdU3+6SsTdVLq0LcG3w33oNvgc6XnUxaDebriVMGHKj1eJVqVRr1ZRpo3yofugc9xTpWvSHT8dy7R51zTP0zOyXnl5nkTq4vWpi4KQVUgL2EyZMoXx48drbRs7dizjxo3L134jIiIoXry41jZ9fX1sbGyIiHi2Gy737t1j4sSJ9OqlfeN1woQJ1KlTB1NTU3bv3k3fvn1JTExkwIABzxyfDNMW4iUyMjLS6qpsb2+v1QtOoVDw66+/0qJFC0xNTfHy8mLLli0AZGVlUaJECebN0+6NdOrUKZRKJTdu3NDs42GPwevXr6NQKFi7di21a9fG2NiYlStXkpWVxYQJEyhRogRGRkYEBARo9c58mG/Dhg18+OGHmJqaUq5cOY4ePapJ83DY8bZt2/Dx8cHU1JTWrVuTnJzM0qVLcXV1xdramgEDBpCZmdNSkJqayuDBg3FycqJIkSJUrVqV/fv359rvrl278PPzw8zMjEaNGhEeHg5k9yhcunQpmzdv1kyG+2j+57Vlyxb69u1LmzZtcHNzo1y5cnTv3p3Bgwdr0uzcuZOaNWtiZWWFra0t//vf/wgNDX2h9+vh/8ePH8+ZM2c0ZViyZEmu+ktLSyMwMBAHBweMjY0pWbIkU6ZM0ewzNjaWHj16UKxYMSwsLKhTpw5nzpzRKt+3336LnZ0d5ubmdO/enZSUvHsIPHTgwAGqVKmCkZERDg4ODBs2TKvb/QcffEBgYCBffvklRYsWpWHDhjr306VLF5o3b8706dNxcHDA1taWfv36kZ6e84eMSqWiU6dOWFtbY2pqSuPGjbl8+TIA+/fvp2vXrsTFxWnep/x+6T6kVqvZtnkdrdt9RpXqNXF182DAoOHExNzj+NFDeebbuvF36jdqQt36jXF2caV34ECMjI35c/cfmjSLFszlo49b0rJtR1xKuuFUwoX3an2IwWONFiYmJljb2GoexsZPb6x+GrcBXbi1+HduL99AYnAo5/uPJfN+CiU6tdKZ3umTZoR+9wt3d/3N/eu3ublgDXd3/Y3bgJyeUNbVyhO5fR93dx7g/s0wIjbt4t6+w1hVKpPveJ/He6X02H8mk6CbWUSq1Pz+dwbmJuDnkvefKu+X1SMuSc2GQxncvqdGlQhX7qiJSSi4uBtWN2Xr34mcCk7lVmQG8zfEYWWuRwXfvIeqJCSriUvM0jwCfIyIjM4g+Hr2j2O1Gq3X4xKzqOhnzPHzKaS+5IZWtVrNji2/0aJtFypVe5+Sbp70/WoMqph7nDj2d575AipVp91nvXP1hnxUrTqNadWhG2UCKueZ5kX8vnkbTRrUpXG9D3F1cWZg314YGxmyY++fOtOv37qdKhUCaN+yGSWdS9Dt0/Z4ubuzcXvO9+LCFaupWrE8n3f9DC8PN5wc7HmvauVcjZvGRkbYWFtrHkWe8SbDxo0badyoEQ0aNKCkiwv9AwMxMjJi9+7dOtNv3ryZShUr0rp1a1xcXOjUqRMeHh5s3boVyK63TZs20b59e6pXr46bmxuDBw0iOjqaI498N7Vo0QI/X1/s7Ozw9/enbZs2BAcH5xpqZWFujo2NjebxeO+H59W2qRPLfr/JoeMxhN5I5pvZIdjaGFGrWlGd6Q0NldSuXpR5S65x5mI8YREpLF5zk7Dw+zRv7KBJV9rXgp1/RnL6fBwRUals3R1B6LVE/LzM8xVvftzd9TeXxs4mcvPeQoshv96EMsg59fpo2diOFRvvcOS/WK7evM/UH69S1NqQmpV0j/wxNFDwfhUb5q+6xbngBO5EprJsXRh3IlJpWl+7oSQ9XY0qLl3zSEzKe5RBQZC6eH3q4m02fPhw4uLitB7Dh+u+0QswbNgwnQvIPPoIDg7Od1zx8fE0adIEf3//XL/RRo8ezXvvvUf58uUZOnQoX3/9Nd99991z7V8aI4UoYOPHj6dt27acPXuWjz76iI4dOxITE4NSqaRDhw65JpNduXIl7733HiVLlsxzn8OGDeOLL74gKCiIhg0b8v333zNjxgymT5/O2bNnadiwIR9//LGmEeihkSNHMnjwYE6fPo23tzcdOnTQ+oGSnJzMnDlzWLNmDTt37mT//v20aNGCP/74gz/++IPly5fzyy+/aE1mGxgYyNGjR1mzZg1nz56lTZs2NGrUSOvYycnJTJ8+neXLl/P3339z8+ZNTePg4MGDadu2raaBMjw8nBo1arzw+21vb8+ff/7J3bt380yTlJTEwIEDOXHiBPv27UOpVNKiRQuysrTvAD7t/XqoXbt2DBo0iFKlSmnK0K5du1zp5syZw5YtW/jtt98ICQlh5cqVmh4vAG3atCEqKoodO3bw33//UaFCBerWrUtMTPad+t9++41x48YxefJkTpw4gYODAz/99NMT34+wsDA++ugjKleuzJkzZ5g3bx4LFy5k0qRJWumWLl2KoaEhhw8f5ueff85zf3/99RehoaH89ddfLF26lCVLlmgaXiG7wfLEiRNs2bKFo0ePolar+eijj0hPT6dGjRrMnj0bCwsLzfv0aCNxfkRGhBOriqFcQEXNtiJFzPDy8Sck+KLOPOnp6YReCaHsI3mUSiVlAypq8sTGqrgcEoSlpTXDB/Wja8cWjBr6BUEXzuba38bfV9Gp/ccM6t+DTevXkJmZRze5Z6QwMMCifCmi/zqSs1Gt5t6fR7GuGqAzj9LQkMwU7WEfmfdTsK6RU0bVsVPYflCdIp6uAJiX8cG6egXu7s67IeplszYHc1MFoXdyPnOp6XD7rhqX4nkP9/BzVhJ2L4v2H+ozvIMh/ZoZUMm74P60KWath5W5HhdCc3or3k9VczUsHU/nZ+uhrqcHNcqa8Pep+3mmcXXQp6SDAX+fzDvNi4qKvEOsKprSATlDeEyLmOHh7c/l4PMv/Xj5lZ6ezqUrV6kYUFazTalUUqFcWS4E6x4+djH4EhXLldXaVrlCOU36rKwsjp04SQlHR4aMnUSLz7rTZ/BwDh07nmtfew8cpFnHbnQNHMiCpStJSX36kPn09HQuX7miNZ+vUqkkICCAoDx+LAQFBxNQvrzWtooVK2rSR0REoFKpKP/IPosUKYKPjw/BQUE695mQkMBff/2Fn59frsbG8RMm0L5DBwYNHsyxY8eeWqYncbAzxtbGkBNnYjXbkpIzCbqUQCkf3Q08enoK9PUUuXq4paZlUdYvp5fm+eB43qtiS1Gb7Js/5ctY4uxkwr+nXu5oB/F6kXPq9eFQ3Ahba0NOnovXbEu6n0nQlUT8vc105tHTU6CXR12U9tWuv3L+5qz7pTxLZpbhi+4lsTCTgZx5kbp4+dRqRaE8jIyMsLCw0Ho8aeTFoEGDCAoKeuLD3d0de3t7oqK0R9pkZGQQExPz1NF6CQkJNGrUCHNzczZu3PjUkZdVq1bl9u3buYabP8nbf0YJUYC2bduGmZn2xX/EiBGMGDFC87xLly506NAByB4WNWfOHI4fP06jRo3o2LEjM2bM4ObNm7i4uJCVlcWaNWsYNWrUE4/75Zdf0rJlS83z6dOnM3ToUNq3bw/A1KlT+euvv5g9ezY//pgzxGDw4ME0aZI9jHT8+PGUKlWKK1eu4Ptgnqj09HTmzZuHh4cHAK1bt2b5g/mrzMzM8Pf358MPP+Svv/6iXbt23Lx5k8WLF3Pz5k0cHR01x9i5cyeLFy9m8uTJmv3+/PPPmv0GBgYyYcIEAMzMzDAxMSE1NfWlDGmeOXMmrVu3xt7enlKlSlGjRg2aNWtG48aNNWlatdLuVbZo0SKKFSvGxYsXKV269DO/Xw+ZmJhgZmaGvr7+E8tw8+ZNvLy8qFmzJgqFQqvB+dChQxw/fpyoqCjNl9H06dPZtGkT69ato1evXsyePZvu3bvTvXt3ACZNmsTevXuf2Dvyp59+wtnZmblz56JQKPD19eXOnTsMHTqUMWPGoFRmN+R4eXkxbdq0J763ANbW1sydOxc9PT18fX1p0qQJ+/bto2fPnly+fJktW7Zw+PBhTYPyypUrcXZ2ZtOmTbRp0wZLS0sUCsVLH74eq8pusLW0ttHabmVljUqle9hVQnwcWVlZWFnlzhN26yYAkRHZkz2vXbWEzt374Obuyf59uxg7YhCzf1qsmY+yycetcPfwwszcgpCg86xYsgBVTDRde/Z74TIZFrVGqa9PamS01vbUqHuY+bjpzHNv7yHc+nch5tAJkq/epOiH1bFvVj+7BeyB0Onz0Tcvwvun/0CdmYlCT49L42ZzZ+22F471eZmbZDc4Jt7X/uM4MUWNmUnejZHW5gqq+Opx+EImB86kU6KYgv9V0yczK4NTV179cCJLs+zPS1yi9rHiEzM1rz1NRV9jTI0VHHpCY+T7FU0Ji8rgyq30PNO8qLiHn5XHzntLKxvN5+h1EhefQFZWVq4ei9ZWltwMC9OZJyY2Vkd6K1SqWABi4+K4fz+F1es30e3T9vTu3JHjJ08zZsp0Zn4zloDSpQCo+3/27js6iqoN4PBv03sFUkggvdJ7kS4C0gWpAqEXAZWO9K58gFRRkV5FOoIgXZpSQ0sIEEogpEB6b7vfH5ENSxKKgQTkfc7Zc7Kzd2be2TuZ3b3z3nvrfoBNieIUs7Ik+G4IP61ex/3Qh0z9euRzY46Pj8+O+Znxgi0tLHhw/36e68TExGD5TPft7Jhj1K8DeW7z2WFIlq9Ywe7du0lLS8PLy4spT2U3GBgY0LdPH3x8fFBoaXHy5EmmTpvGxAkTqFGjxnOPKz/Wltk/WGJiNYcUiI5Nx8oy7yE/UlKyuHI9nh4dHLn7IJmY2HQ+rFMcX08zQsNz/jfm/xTMyM/d2b6yOpmZSpQqmL3kJpcC4vPcrvhvkHPq7WFp8U9dxGl+HsXEZahfe1ZKqpJrNxL47BN7QkJTiInNoGFta3w8THgYnvOd9ax/HMfPxBAemYa9jT69Ozkya4wxQyYEFFn32beZ1MX7q3jx4hQvnvfY4k+rWbMmsbGxnD9/nsqVsxMRDh8+jFKppHr16vmuFx8fT5MmTdDX12fXrl0vNTGNv78/lpaWrzREnTRGCvEaNWjQIFc3aysrzR945crlZGcYGxtjZmamvmNRoUIFvL292bBhA2PGjOHYsWNERkby6aefPne/Tw9KGx8fz8OHD6ldu7ZGmdq1a+fq4vt0LHZ22V1WIiMj1Y1rRkZG6gZDABsbG5ycnDQaXG1sbNTxX7lyhaysLDw8NCcoSEtLUw+Wn9d27ezsct21eZH169fTv39/9fPff/+dOnXq5Crn4+PD1atXOX/+PCdPnuTPP/+kZcuW+Pn58fPPPwNw8+ZNJk6cyN9//83jx4/VGZEhISEajZEver9elZ+fH40bN8bT05OmTZvSokULPvroIwAuXbpEYmKixvsGkJKSou5CHhgYyIABAzRer1mzJkeOHMl3n4GBgdSsWVNjcOHatWuTmJjIgwcPKPXPmGFPPrBexNfXF+2nGrbs7Oy4cuWKel86OjoaH3bW1tZ4enoSmE/mTn7yG9j5iWNHDvDj4pwx0MZNfn3j0z1N9c83sI+ataRR4+wGbRdXd65cusDhA3v5zC97PJVWbTuo13FydkVHR5cfFs/lM7++ubpzv0kBI2dQZsk06vnvRaVSkXz7Pg/WbtPo1m3Xrhn2nVri7zeCxMBbmJbzwmf219kT2azf8UbiKu+iRevaOV9B1hz4d41sCgWEPlZx4Hx216GwaBUlLLKo5qX9Rhoja5YzwK9lTkbNvPUFz5ypW9mQy7fSiE3IO15dHahR1oBdxxLzfP1VnTi6n5+X5NxoGDVxzmvZ7rtM+c//da3qVfi0dQsA3FycuXY9iN2/H1A3RrZs2li9jotTaawtLRg+YSqhYeGUtHt7xwNu364dTT76iMjISNZv2MCcuXOZMnkyCoUCc3NzjZuZnh4eREdFsWXr1pdujGxcrzgjBuZMHjR62rV/Fef074IYO8SDHSurk5ml4kZwIoeOP8LDNec7R7sW9vh6mjJ6+jUiIlMp72vOsP6uPI5O5/xTWXPi3Sbn1NujUW1rvurrpH7+9bf/bgKTWUtuM7K/M5uXViQrS8XNO0kcORmFu4uxusyR0zk3wO7cT+F2SArrFpanvK8ZF69K47DUhXhV3t7eNG3alL59+/LDDz+QkZHB4MGD6dSpkzpxKDQ0lEaNGrFmzRqqVatGfHw8H330EcnJyaxbt474+Hji47PrvHjx4mhra7N7924iIiKoUaMGBgYGHDhwgJkzZ75yDzdpjBTiNTI2NsbNze25ZZ5NcVYoFBrdgbt27apujNywYQNNmzbN1SCV137/jadjedI49XQsecX6vPgTExPR1tbm/PnzGg1UgEYDZl7bUKle7TZbq1atNBq5np499FlaWlpUrVqVqlWr8uWXX7Ju3Tq6devGuHHjcHZ2pmXLlpQuXZply5Zhb2+PUqmkTJkypKdr3oF/0fv1qipVqsSdO3f4/fffOXjwIB06dODDDz9ky5YtJCYmYmdnl+d4mXlNdvC6vew59aLz+XXJb2DnTz/LbpCuVr02Hk/NeP1k3Mq4mGisrHL+f2JjY3B2yft/1NTMHC0tLWJjNbPBYmNjsPgnw9Lyn205OmoOm1DSsTSPHuXfoO7u6U1WVhaREeGUdCiVb7nnSX8cgzIzE30bzeuBfolipEU8znedCx0Ho6Wvh661BWkPI/GcNpzkOznZWF4zR3J77jLCtmSPi5lw7QaGpexxHdHvjTVGBoYouf8o5/9LRzv7/8nEUEHCU9mRJgYKwqLzP58SUuBRrOa141GcijJOLz+T36u4eD2N4Ac5mam6/8RtbqKlkR1pZqJNSNiLG1itzbXwddFj4abYfMtU9TVAX1fBSf/X00W7crUPcPPwVT/PyMiuh7jYaCytcsZei4uNxskl/9mpi4q5mSlaWlrExMZpLI+JjcMqn2ujlYVFHuVjsbS0UG9TW1sbJ0fN2cNLOThwJSD/MZe8PbPfnxc1RpqZmWXH/EzGYkxsLJbP3LB8wtLSkpjY2DxitlS/DtkZkk/f9IyJjcXVxUVjPXNzc8zNzXFwcMDxn/Enr1+/jre3N3nx9PTkwsWL+R7Ps06ciSYg6IL6ua5udlawpYUeUU9NhmBlocfNO/k3qj8MT2XIuMsY6GthbKRNVEwGk0d6ERaRna2jp6dFv8+cGDcrgNPns9/L4HvJuLuY0LlNSWk4+g+Rc+rtcep8DIFPzT6urgtzXaJjc+rC0lyX4HvJ+W4nLCKNYVOvY6CvhZGhNtGxGYz/wpWwiPy7dIZFphEbn0FJG30uvn2jhhQ6qYs37xV/jr4T1q9fz+DBg2nUqBFaWlq0a9eOhQsXql/PyMggKCiI5OTsc+bChQv8/fffALnaNe7cuYOTkxO6urosWbKEr776CpVKhZubG/PmzaNv376vFJuMGSnEW6ZLly7qTL4tW7bQtWvXV1rfzMwMe3t7Tp48qbH85MmT+Pj4vM5Qc6lYsWJ2g0tkJG5ubhqPV+mGq6enpzEpTl5MTU01tv8yM1k/8eR9SEpKIioqiqCgIMaPH0+jRo3w9vZ+LTNtv8wxQHZ9dezYkWXLlvHLL7+wdetWoqOjqVSpEuHh4ejo6OR6L4sVy24w8Pb2Vn9YPPGisb68vb3VYzc+cfLkSUxNTXFwcPgXR/r8fWVmZmrE+OT9flIHL/s+vWhgZ0MjI+zsHdQPx1JOWFhacflSzo+Z5OQkbgYF4OmV9/+Brq4urm6eXPbPWUepVHLZ/7x6nRI2tlhZFyM0VLNrZVjofYqXsMk3/ju3b6GlpYW5ed4Dir8MVUYG8RevYV2/Zs5ChQLrBjWI+dv/uesq09JJexiJQkcH2zYfEbEnZ6IPbUNDVM82IGcpUWi9ua8I6ZkQnZDziIxVkZCswsU+Z5/6uuBQXEFIZP7fDEMilBQz12x4LGamICbxzXybTE1XERmdpX6EPsokNiELH5ecbFcDfQUuJXVfqkt1nUpGxCcpuXQj/x8AdSsZcTEojYTk13NMhkbG2No7qB8OpZyxsLTm6qVz6jLJyUkE3wjA3avMc7ZUNHR1dfFwc+HCpSvqZUqlkguXr+Dr5ZHnOj5eHly4fEVj2Xn/y+ryurq6eLm7cv+Zbt4PHj7EpkTek2MA3Lp9FwBry+f/X+vq6uLu5ob/U70TlEol/v7+eOeTWe/t5YW/v7/GsosXL6rLP5kg7+ltJiUnExQUhFc+jYyA+n/96YnGnnX79u1cvTqeJyUli9DwVPXj7v1koqLTqVzOQl3GyFAbbw9TrgW9eHap1DQlUTEZmBjrUK2CJcf/zr4BoKOtQFdXK1cXwawslUa2v3j3yTn19khJVfIwIk39uPcghaiYdCqVyeklYGSohbebCQE3XpzBn5qmJDo2AxNjbaqWM+fU+fy/cxez0sXMRIeo2Nc/RMm7SOpC/BtWVlZs2LCBhIQE4uLiWLFihUaSkJOTEyqVivr16wPZE5mqVKo8H0/mNmjatCkXL14kISGBxMRE/P396d+/v3q4r5clmZFCvEZpaWmEh4drLNPR0VE3Hr0MJycnatWqRe/evcnKyqJVq1avHMfIkSOZNGkSrq6uVKhQgZUrV+Lv78/69etfeVuvwsPDg65du9K9e3fmzp1LxYoVefToEYcOHaJcuXLq8RZfxMnJif379xMUFIS1tTXm5uYvHDQ3P+3bt6d27drUqlULW1tb7ty5w9ixY/Hw8MDLywstLS2sra356aefsLOzIyQkhDFjxvyrfT17DHfu3MHf3x8HBwdMTU1zjaExb9487OzsqFixIlpaWvz666/Y2tpiYWHBhx9+SM2aNWnTpg2zZ8/Gw8ODhw8fsmfPHtq2bUuVKlX44osv8PPzo0qVKtSuXZv169dz7do1XJ7JinnaoEGDmD9/PkOGDGHw4MEEBQUxadIkhg0b9sofIC/i7u5O69at6du3Lz/++COmpqaMGTOGkiVL0rp1a/X7lJiYyKFDhyhfvjxGRkYY5TE7rb6+/iuNQaJQKGjRuj1bNq3Fzt4BG1s7Nq5djpVVMarV/EBdbtLXw6he8wM+bpndTbFl209ZNG8Wbu6euHt4s3vnFtJSU2n4T5dshUJB60868sv6VTg5u+Ls4saRQ/sJfRDCyK+zMzeDAq9xIyiAMuUqYmhoRND1a6xctoS6DRpjYlqw2TnvLFxFuWXfEHfhKrHnLuM8uAc6RoY8WLsNgHLLviHtYSRBk+YBYF61HAb2NsRfCsTA3gb3cYNRaGlxe97P6m1G7j2C66gBpNwPIzHgFmYVvHEa4seDNVsLFOurOnktiwbltYmKUxGTqOLDStokpGRnUT7Rq6kuAfey+CtQqV6nfwtd6pXT5sqdLByKa1HVU5sdJws2WdCr2H86mVb1TIiIyuJRTBafNDIhNiGLC9dzxl4a5WfJhYA0Dp7JyVRQKKBORUNO+KeQXzJxCSttPEvrMm/dm5tIQaFQ0KxVB3b8shpbe0dK2Njz67qfsLQqRpUaddXlpo8bQtWa9WjSoj0AqSnJhIc9UL/+KCKMu7dvYGJiRrES2TefEhPiefwonJjo7MzdsNDssVctLK2xsHx+xv/zfNq6Bd/MX4KHmyveHm5s2bWH1NQ0mjZqAMDM7xZR3MqKvj2yb+a1a9mcL7+exObtu6lRtRKH/zxJ0K1ghn+eM9RHx7atmPq/7yjn60PFsr6cueDPqTPnmT9zMpCd/Xjo2AmqV6mIuakpwXfv8f3y1ZTz9cbVOf8J5p5o27Ytc+fNw93dHU8PD3bs3ElaWhqNG2d3/Z4zZw7W1tb07Jk9033r1q0ZNXo0W7dto1rVqhw7doybN28ydMgQILve2rRpw6ZNmyhpb4+NjQ1r167F2tqaWjWzb1hcv36dGzdv4uvjg4mJCWFhYaxduxY7Ozt1g+WBgwfR1dFRD51y8tQp/jhwgC+GDv3X9QOweXcoPTo48iAshbCIVPp0KU1UdBrH/8rJ4p4/tSx//vWYbXvDAKhW0QJQcD80mZJ2hgzycyYkNJm9hyIASE7J4uKVWAb5OZOWriQiMpUKZcxp2qAEi1fcKVC8BaFtbISxW07Gu5GzA2blvUiPjiP1fliRxfUq3oVjkHPq7amPbb9H0LWtPQ/CUwmPTKNnBwcex6Rz4lzOZ9X/xnty4mwMO/dn9xqpUs4chQLuP0yhpK0B/bo6EvIwlX1Hs+vPQF+L7u1LcvzvaKLjMrC3MaBfF0ceRqRx7lJcnnEUBqmLt6cuCoMSuQlRmKQxUojXaN++feqxBJ/w9PTkej6zZeana9euDBo0iO7du79Sxt8TQ4cOJS4ujuHDhxMZGYmPjw+7du3C3f3Nd7lbuXIl06dPZ/jw4YSGhlKsWDFq1KhBixYtXnobffv25ejRo1SpUoXExESOHDmivlvzqpo0acLGjRuZNWsWcXFx2Nra0rBhQyZPnqyeTXTTpk0MHTqUMmXK4OnpycKFC//1/p5o164d27Zto0GDBsTGxrJy5Ur8/Pw0ypiamjJ79mxu3ryJtrY2VatWZe/evepGwb179zJu3Dh69uzJo0ePsLW1pW7dutjYZGfgdezYkeDgYEaNGkVqairt2rVj4MCB7N+/P9+4SpYsyd69exk5ciTly5fHysqK3r17v3CSpH9r5cqVfPHFF7Ro0YL09HTq1q3L3r171Y3LtWrVYsCAAXTs2JGoqCgmTZrE5KcmVyiItu07k5aayg+L5pCUlIi3T1kmTJuNnl5Oo2Z4WCjx8TlfrD6o25D4uFg2rltJbEw0zi5uTJg6W91NG6Blm0/JSE9n5bIlJCYk4OTsyqTpc7C1yx4qQEdXlxN/HuaXDavIzMighI0dLdt8Squ2zx/79WWEbf0dveJWeEwYgp5NcRIuB3KmTV/SI7OzPAwd7Xk6xUNbXx+PiV9g5OxIVmIykfuPcanPaDLjcjJJrg2fjsfEoZSZPxG94takhkVyf8Uv3Jz5/JnZX7fjV7LQ04E2tXUw0IN7kSpW7c8g86nEWStTBUYGOV8UQx+rWH8ok48qa9OggjYxiSr2/J3JpdtvfvKaJ/aeSEJfT4FfKzOMDLS4GZLOnLUxZDzVHlrCUgcTY81sAl8XPYpZaD93huy6lQyJiVdyNTg93zKvQ8t2n5GWmsrPi78lOSkRT59yjJkyT+N/JSI8lIT4WPXz27euM+3rwerna5dnd/mp2/BjBn6VfT05//dxflgwQ11m4eyJALTr3Iv2Xfr863gb1qlNXFw8qzb8QnRMLK4uTnw7eRxW/3S7jnz0GK2nsprKeHsyfvgXrFi/kZ/XbqCkvR3Tvh6Fc+mcH5h1albnq4H92LBlO4uWrcCxpD1TxoygrE92o52ujg7nL11m6+49pKSmUaKYNXVqVqdbR80J0PJTr1494uLjWbd2LdExMbi6uDBt6lR1d+vIR480spF9fHwYPWoUq9esYdWqVZQsWZIJEyaosxIAPm3fntTUVBYuWkRiYiK+vr5MmzoVPb3sTF19fX1OnTzJunXrSE1NxcrKisqVKzO2Uyf0nrrBt2HjRiIjI9HW1sbRwYExY8ZQ54Ocmzb/xoZtDzA00GbkIHdMjHW4EhjHiCnXNGZwtbc1wNwsJw5jIx36d3OieDF9EhIyOXr6McvW3SUrK2edyXOu07+7ExOHeWJmokP4ozSWrbvHjn1F1yhgXrkMNQ+tVT/3mZM9aeH9Ndu43Htsfqu9Vd6FY5Bz6u2pj027wjDQ12JYXydMjHS4EpTA2G9ukPF0XdgYYG76dF1o06ezA8Ws9EhIzOT4mRhWbHqgrgulUoVLKSM+qlsME+PsLvXnLsexavMDMjKLru+s1MXbUxfiv0ehetWB2oQQQoi3xLVbRX9XuqB83ezYa/TvJkF6W3ycfJ1xK/LvavyumNFLnx4Tw19c8C22eqotF25EvbjgW66ShzUPgy4XdRgFZu9Zjtv/TDr2rnJxdaVO6+NFHUaBHd9Zhz26nkUdRoE0zwh6548Bso9Dzqm3Q/OMIBp1OlPUYRTYoU3VpC7eEoc2VSvqEP613y4UXs+ap7Wo9H7mCL6fRy2EEEIIIYQQQgghBP/NCWzeZjKBjRBCCCGEEEIIIYQQolBIZqQQQgghhBBCCCGEeG+pVDKBTWGSzEghhBBCCCGEEEIIIUShkMxIIYQQQgghhBBCCPHeUsqYkYVKMiOFEEIIIYQQQgghhBCFQhojhRBCCCGEEEIIIYQQhUK6aQshhBBCCCGEEEKI95ZKumkXKsmMFEIIIYQQQgghhBBCFArJjBRCCCGEEEIIIYQQ7y0ViqIO4b0imZFCCCGEEEIIIYQQQohCIY2RQgghhBBCCCGEEEKIQiHdtIUQQgghhBBCCCHEe0spE9gUKsmMFEIIIYQQQgghhBBCFArJjBRCCCGEEEIIIYQQ7y2VZEYWKsmMFEIIIYQQQgghhBBCFAqFSiXtv0IIIYQQQgghhBDi/bT5tLJI9tuh5vuZIyjdtIUQQryzHgZdLuoQCszesxwftDxW1GEUyInd9Yie3r+owygwq/E/EtSxSVGHUSCev+zn0bW/izqMAivuW52AWw+LOowC83GzJ/j27aIOo0BcXVzYo+tZ1GEUWPOMIOq0Pl7UYRTI8Z113vljgOzjkHPq7XB8Zx0OOpQt6jAK7MMHV6Qu3hIfPrhS1CGId8T72QQrhBBCCCGEEEIIIYQodJIZKYQQQgghhBBCCCHeW0qVoqhDeK9IZqQQQgghhBBCCCGEEKJQSGakEEIIIYQQQgghhHhvydTOhUsyI4UQQgghhBBCCCGEEIVCGiOFEEIIIYQQQgghhBCFQrppCyGEEEIIIYQQQoj3lnTTLlySGSmEEEIIIYQQQgghhCgUkhkphBBCCCGEEEIIId5bSsmMLFSSGSmEEEIIIYQQQgghhCgUkhkphBBCCCGEEEIIId5bKpWiqEN4r0hmpBBCCCGEEEIIIYQQolBIY6TI1927d1EoFPj7+wNw9OhRFAoFsbGxRRpXXp6NVeRwcnJi/vz56ucKhYIdO3YUWTzP82ysheF1vR/169fnyy+/LPB2Xsa7er6vWrUKCwuLog5DCCGEEEIIIUQRkm7aRSw8PJwZM2awZ88eQkNDKVGiBBUqVODLL7+kUaNGRR2ehlq1ahEWFoa5uflr2d7du3dxdnbm4sWLVKhQ4bVs81n37t3Dy8uLR48eYWJiovHa0aNHadCgATExMbkaSJycnPjyyy8LrXGpMIWFhWFpafnatleY79XkyZOZMmUKTZo0Yd++fRqv/e9//2PUqFHUq1ePo0ePvvFYnrVt2zZ0dXULtI369etz7NgxAPT09ChWrBiVKlWiZ8+efPLJJ+pyjo6OhIWFUaxYsQLtr7B17NiRjz/+uND2t33PPn7ZvovomFhcnUsztF8vvD3c8y1/9MRpVqzfRHjkIxzsbenX4zNqVKmkUebe/Qf8tHodl64GkJWlpLSjA1PGDsemeHF1mWvXg1i+diOBN26hpaWFm7MTs6eMQ19f/40da37q1ixGm2Z2eLqaYm6mi9/Qc9y6k1TocbwM/cr1MajZGC0Tc7IiHpC0fxNZD+/mW16hb4hhgzboeVZEYWiEMi6a5D82kxF8tdBitvioJVYt26NtYUXavdtErvye1OCgPMs6TpyNkW/5XMsTL/xN6LcTAVDoG1C8S29MqtZE29SMjMhwYn7fSdzBPW/0OLb+fpCNO/YSHRuHq5MjX/Xpho+7a55lb4c8YPmmbQQF3yX80WOG9uxCh5ZNNcqs3bqbY3+d415oGPp6upT1cmdgt46UKmn32mJWqVRsXLeSg/v3kJSUiJd3Gfp//hX2JR2eu97e37azY+svxMZE4+TsSp8BQ/Hw9NYocz3wGuvXLOdmUCBaWlo4u7gxcdps9PX1iYwIZ/PGNVy5fJHYmGgsrYpRr8GHtO/42Ut9BqhUKtatXcu+fftISkrCx8eHzwcPpmTJks9db/fu3WzdsoWYmBicXVwYOHAgnp6e6tfT09NZtmwZfx47RkZGBpUqV+bzzz/X+Lz/YelSAgICuHv3LqVKlWLxkiUa+4iIiKCnn1+uff/yyy8vPK5/w+qDKrgM7415pTIY2JfgXLtBROw69Eb29W/17lKalo1tMTHW5sr1eOYuvcWDsNR8yxsaatOnS2nq1rDG0lyXG3eSWLgsmOu3EnPKGGjRv7szdapbY26qQ1hkGlt+C2XnvnA5jgKSc6pw6sKhRydKD/BDr3gxEgODCJowi3j/vD97FTo6OA3ug137VujbliD59l1uzfyOqKMn1WVchg3EZdggjfWSbt3hdP1WbyT+J6Qu3p66eFuoZAKbQiWNkUXo7t271K5dGwsLC/73v/9RtmxZMjIy2L9/P59//jnXr18v6hA16OnpYWtrW9RhvJKdO3fSoEGDXA2R77N3rQ6fZWdnx5EjR3jw4AEODjk/OlesWEGpUqUKPZ709HT09PSwsrJ6Ldvr27cvU6dOJTMzkwcPHrB9+3Y6deqEn58fP/30EwDa2trvZD0aGhpiaGhYKPs6fPwkS5ev5qtB/fD2cGPLrj2MmjSDNUsXYGmR+4bK1cAgps2ZT9/uXahZtTKHjp1gwszZ/PTdbJxLZ59XoWHhDB0zgWYfNsSvc0eMjAy5G3IfPV099XauXQ9i9OQZdGnfliH9e6OtpUXw3XsotIqmI4KhgRaXA+I5fOIRY4Z4vniFIqLnUwWjxu1J+n0DmaF3MKjWCNPOQ4lbOglVckLuFbS0Me36JcqkBBK3/ogyIRYtcytUqSmFFrNpzXoU796PiJ8XkXrzOpYft8Xh6xnc+ao3WfFxucqHzp2GQifna5e2qRlOs5eS8Ndx9bIS3ftjVKYCYYtnk/EoAuNylbDpPYTMmCiSzv/1Ro7j0Im/WLxyAyP6++Hj4crm3/YzbOr/2LhoNpYWZrnKp6WlY29TnAa1qrFoxfo8t3nx2nU+afYhXm7OZGUp+Wn9r3w1ZTbrFn6DocHraZTfvmUTe3ZvY+hXY7CxtWPD2hVMnTCKhT+sQk9PL891Tvx5mJXLljJg8Fd4eHqze8cWpk4YxeKf1mBhkd1odz3wGtMmjuaTT7vQd8AQtLW1uXsnGC2t7HGkHtwPQaVSMXDwMGztShJy7w7fL5pLWmoqfn0GvjDuLb/+yq5duxg2fDi2trasXbOGCePH88OPP+Yb97Fjx1j2008MHjIEL09PduzYwYTx4/lp2TL1zdSffvyRs2fPMvbrrzE2Nmbp998zffp05s6dq7Gtxh99RFBQEHfv3Mk3xpkzZ1KqdGn1c19fX0JfeGSvTtvYiPjLQdxftZUqW5a8eIVC1uUTB9o1t2fmgiDCIlLp3dWJuZPL0G3wedIz8v7FOnqwOy6ljJj+XRCPo9P5qH4Jvptalm6Dz/M4Oh2Awb1cqFTOgmnfBREemUrVCpYMG+DG4+h0Tp6JluMoADmn3nxd2LRsgsfEkQSOnUb8xcs49ulGxXU/cqpeSzKicu/LddQQbD9pTuCoKSTfuoNVvVqU+3k+51p3I+Fazm/dxOs3udC5r/q5KjPrtcb9LKmLt6cuxPtLumkXoUGDBqFQKDhz5gzt2rXDw8MDX19fhg0bxl9/5fzoCAkJoXXr1piYmGBmZkaHDh2IiIhQvz558mQqVKigbowxMTFh0KBBZGVlMXv2bGxtbSlRogQzZszQ2L9CoWDp0qU0a9YMQ0NDXFxc2LJlS77x5tVN++TJk9SvXx8jIyMsLS1p0qQJMTExAOzbt48PPvgACwsLrK2tadGiBcHBwep1nZ2dAahYsSIKhYL69eurX/v555/x9vbGwMAALy8vvv/+e41Yzpw5Q8WKFTEwMKBKlSpcvHgxz5h37txJq1YFu5PzpEvstm3baNCgAUZGRpQvX57Tp09rlHvee5GWlsbQoUMpUaIEBgYGfPDBB5w9e1a97pP3dv/+/VSsWBFDQ0MaNmxIZGQkv//+O97e3piZmdGlSxeSk5PV69WvX5/BgwczePBgzM3NKVasGBMmTED1nNs6z3ZLfvDgAZ07d8bKygpjY2OqVKnC33//DUBwcDCtW7fGxsYGExMTqlatysGDBzX2f+/ePb766isUCgUKRc6gvydOnKBOnToYGhri6OjI0KFDSUrKyciKjIykZcuWGBoa4uzszPr1ef+ofVaJEiX46KOPWL16tXrZqVOnePz4Mc2bN9coe/bsWRo3bkyxYsUwNzenXr16XLhw4bnbHz16NB4eHhgZGeHi4sKECRPIyMhQv/7k/+3nn3/G2dkZAwMD9XvxdHbo2rVrqVKlCqamptja2tKlSxciIyNfeHxGRkbY2tri4OBAjRo1+Pbbb/nxxx9ZtmyZ+r1/tpt2VlYWvXv3xtnZGUNDQzw9PVmwYIHGdjMzMxk6dKj6/3H06NH06NGDNm3aqMvUr1+foUOHMmrUKKysrLC1tWXy5Mka23nR9ejSpUs0aNAAU1NTzMzMqFy5MufOnQNyd9N+XtmC+nXnbzT/qBHNPmyAUylHhg3qh4G+Hr8fPJxn+a2791CtUgU6fdKa0o4O9PqsE+4uLmzfk5OBu3zdRqpXrsiAnt1wd3WmpJ0ttatX1WjcXPLzaj5p8TFd2rfFuZQjpRxK0uCDWugVMGv239p/JJJVm+5xzj+mSPb/sgyqf0jaxROkXzqF8nEYyXvXQ0Y6+hVq5Vlev0JtFIbGJP76PZkPglHGRZEZcpOsyAeFFrNl80+IO7SP+KN/kB4aQsTPC1Gmp2HeoEme5ZVJCWTFxagfxuUqoUxLJeGvP9VlDD19iD92gJSAy2Q+iiDu0O+k3buNoduba0jetHsfLRvXp3mjujg7lmRkfz8M9PX57fCxPMt7u7vweY/OfPhBjXwzAedNHMnHDevgUsoBd+dSfD2kLxGPowgKzr8B7FWoVCp+27mFTzt2o3rND3ByduWL4WOJjn7M36dP5Lveru2/0rhpcxo1boZjKScGDB6GvoEBh/74XV1m5bIlNG/1Ce06dKFUaWdKOpSidp0G6P5z06FSlWoM+Wo0FSpVxdbOnmo1atP6kw78dep4frvViHvHjh106tSJmjVr4uzszPARI4iKiuL0qVP5rrd9+3aaNmvGRx99RKnSpRk8ZAj6+vr88ccfACQlJfHHH3/Qt29fKlSogLu7O18NG0ZgQADXAwPV2xkwcCAtW7Z84c0sUzMzrKys1I+CZv3n59H+P7kxaT4ROw++uHAR6NCyJGt+DeHEmWiC7yUzY34Q1lb61KmRd68EPT0t6tUsxtJVd7gUEE9oeCorN4UQGpZCm2Y5WcFlvMzYdzgC/6txhEemsfuPcILvJOLtbirHUUByTr35uijVrzuhG7cStnkHSTdvc33MVLJSU7Dv1DbP8naftODuop+JOnyclJAHhK7dTNTh45Tq30OjnCori/RHUepHRkzsa4/9aVIXb09dvE2UqqJ5vK+kMbKIREdHs2/fPj7//HOMjY1zvf7kB7tSqaR169ZER0dz7NgxDhw4wO3bt+nYsaNG+eDgYH7//Xf27dvHxo0bWb58Oc2bN+fBgwccO3aMb7/9lvHjx6sbmZ6YMGEC7dq149KlS3Tt2pVOnToR+NQX1+fx9/enUaNG+Pj4cPr0aU6cOEHLli3Jysq+e5KUlMSwYcM4d+4chw4dQktLi7Zt26JUKoHsBkWAgwcPEhYWxrZt2wBYv349EydOZMaMGQQGBjJz5kwmTJigbnxKTEykRYsW+Pj4cP78eSZPnsyIESNyxRcbG8uJEycK3Bj5xLhx4xgxYgT+/v54eHjQuXNnMjMzX+q9GDVqFFu3bmX16tVcuHABNzc3mjRpQnS05l2ryZMns3jxYk6dOsX9+/fp0KED8+fPZ8OGDezZs4c//viDRYsWaayzevVqdHR0OHPmDAsWLGDevHn8/PPPL3VMiYmJ1KtXj9DQUHbt2sWlS5cYNWqUuo4SExP5+OOPOXToEBcvXqRp06a0bNmSkJAQILtrsoODA1OnTiUsLIywsDAg+3xs2rQp7dq14/Lly/zyyy+cOHGCwYMHq/ft5+fH/fv3OXLkCFu2bOH7779/qcY6gF69erFq1Sr18xUrVtC1a9dcWSUJCQn06NGDEydO8Ndff+Hu7s7HH39MQkIemVb/MDU1ZdWqVQQEBLBgwQKWLVvGd999p1Hm1q1bbN26lW3btuU7bmNGRgbTpk3j0qVL7Nixg7t37+KXR/e3l9GjRw8sLS3V/yPPUiqVODg48OuvvxIQEMDEiRP5+uuv2bx5s7rMt99+y/r161m5ciUnT54kPj4+z7EyV69ejbGxMX///TezZ89m6tSpHDhwQL2fF12PunbtioODA2fPnuX8+fOMGTMm3x+yr1L2VWRkZHDj1m0qVyinXqalpUWl8uW4dv1GnusEXL9B5fLlNJZVrVReXV6pVPLXuQs42NszctJ02nbrzcARYznx1xl1+ZjYOAJv3MTCwpzBo8bxSbc+fDF2IlcCXu6a+t7S0kbbrhQZd55+n1Rk3L2OTkmXPFfR9ShH5oPbGDXtgsWX/8Os30QMajcDRSHNgqitg4GLO8lXnrq5oVKRfOUiBu4+L7UJ8wZNSDh1DFVamnpZSlAAxlVqoGNpDYChb3n07EqSdPn8aw3/iYyMTG4E36VKOV/1Mi0tLaqU8+Fa0K3Xtp+k5OyMVbPX1EshIjyMmJhoyleorF5mbGyCu6c3Qdev5blORkYGwbduaKyjpaVFuQqV1OvExsZwIygQc3MLxgwfjF/XTxg3+gsCrl15bjzJSUmYmL74h2Z4eDgxMTFUqFjxqbiN8fT0JDCf3jAZGRncunlTYzgbLS0tKlSooG5ovHnzJpmZmRrbdXR0pHiJEvlu93mmTplC506dGDF8uMbN8feJnY0B1lZ6nLsUq16WlJxF4I0EfD3zrmttbQU62opcWVVp6UrKeedkGV+9Hk/tatYUs8r+zlKxrDmOJQ05e/H13zT6rxzHf8F/oS4UujqYlvUh+vhT1wWViujjf2FRKfcwJAAKfT2UT33OAWSlpmFRtaLGMiPnUtQ5d4haJ3/Hd9E36Nu/uR5AUhc5irouxPtNumkXkVu3bqFSqfDy8npuuUOHDnHlyhXu3LmDo6MjAGvWrMHX15ezZ89StWpVIPuH8ooVKzA1NcXHx4cGDRoQFBTE3r170dLSwtPTk2+//ZYjR45QvXp19fY//fRT+vTpA8C0adM4cOAAixYtypWJmJfZs2dTpUoVjbK+vjk/aNq1a6dRfsWKFRQvXpyAgADKlClD8X/GWLO2tta4Sz9p0iTmzp2rHiPP2dmZgIAAfvzxR3r06MGGDRtQKpUsX74cAwMDfH19efDgAQMHanaP2rt3L+XKlcPe3v6Fx/IyRowYoc68mzJlCr6+vty6dQsvL6/nvhdJSUksXbqUVatW0axZMwCWLVvGgQMHWL58OSNHjlSvM336dGrXrg1A7969GTt2LMHBwbi4ZP8gb9++PUeOHGH06NHqdRwdHfnuu+9QKBR4enpy5coVvvvuO/r2zUmvz8+GDRt49OgRZ8+eVXczdnNzU79evnx5ypfP+UCbNm0a27dvZ9euXQwePBgrKyu0tbXV2X9PzJo1i65du6ozBd3d3Vm4cCH16tVj6dKlhISE8Pvvv3PmzBn1Obx8+XK8vTXH7cpPixYtGDBgAH/++SeVK1dm8+bNnDhxghUrVmiUa9iwocbzn376CQsLC44dO0aLFi3y3Pb48ePVfzs5OTFixAg2bdrEqFGj1MvT09NZs2aN+hzOS69evdR/u7i4sHDhQqpWrUpiYuIrDxugpaWFh4cHd+/ezfN1XV1dpkyZon7u7OzM6dOn2bx5Mx06dABg0aJFjB07lrZts++WLl68mL179+baVrly5Zg0aRKQXW+LFy/m0KFDNG7c+KWuRyEhIYwcOVJ9bXN3z3+Mxlcpm5aWRtozX6DyG4MxLj4BpVKZqzu2pYU5IaF5dzaMjo3No7wFMf/cDY6NiyMlJZWNW3fQ67NO9O/RlTMX/Jk4aw7zZkyiQhlfwsKzM0RXb9zMgJ7dcXN24o8jxxg+fiorFs/Dwf71jZf3X6IwMkGhpY0qSfMmgTIxHl3rvL8Aa1sUR8vJmvSrf5OwaRHaViUwatoZtLRJPf7bG49Z28wMhbY2mXGxGsuz4mLQs3d84foGrp7ol3Im/AfNGx2RK7/Hpt8XuP6wAVVmJiqVkoifFpAS+GbGwYxLSCBLqcTqme7YVhbm3AsNey37UCqVLFyxjrJe7riUfv54ji8rNib7Rp75M+MfW1hYql97VkJ8HEqlEnOL3OuE3s++wRYRnn3Mmzasxq/3AJxd3Dh66A8mfT2cBd+vyHM8yrCHoezdvZ0evQe8MO4nvSWeHbfZwtJS/dqz4uPjs69neaxz/8ED9XZ1dHRyfbZYWlgQE/3y3QINDAzo07cvPj4+aCkUnDx5kmlTp2JrY/PS2/ivsLbMvjEWE5uusTw6Nh0ry7y706ekZHHlejw9Ojhy90EyMbHpfFinOL6eZoSG5wwhMf+nYEZ+7s72ldXJzFSiVMHsJTe5FBAvx/Ef9l+oC10rS7R0dEh/FKWxPP1xFMZuznmuE33sFKX6difm7/Ok3L2P1Qc1KNGsEQotbXWZuItXuPbVBJJv30WvRDFcvhpIlW2r+atRW7KSkvPcbkFIXbw9dSHeb9IYWUSe1432aYGBgTg6Oqp/+AP4+PhgYWFBYGCguiHHyckJ06fuytvY2KCtrY3WU+OU2djY5Mo8q1mzZq7nLztDr7+/P59++mm+r9+8eZOJEyfy999/8/jxY3W2XUhICGXKlMlznaSkJIKDg+ndu7dGY1pmZqZ64pzAwEDKlSun7h6b13HA6+mi/bRy5XKypuzsshsVIiMj8fLyeu57ERwcTEZGhrqREbIbj6pVq5YrC/XpfdjY2Ki7Cj+97ElG6RM1atTQ6B5ds2ZN5s6dS1ZWFtra2jyPv78/FStWzHe8w8TERCZPnsyePXsICwsjMzOTlJQUdWZkfi5dusTly5c1ul6rVCqUSiV37tzhxo0b6OjoULlyToaKl5fXS8+0rKury2effcbKlSu5ffs2Hh4eGu/dExEREYwfP56jR48SGRlJVlYWycnJz43/l19+YeHChQQHB5OYmEhmZiZmZpo/1EuXLv3chkhAnbV76dIlYmJiNM5/H5+Xy5x6mkql0qjnZy1ZsoQVK1YQEhJCSkoK6enp6kyauLg4IiIiqFatmrq8trY2lStXVsf1xLPvo52dnfq68TLXo2HDhtGnTx/Wrl3Lhx9+yKeffoqra94TYbxK2VmzZmk0uEL2jYt+nT/Js/zrpvynD0Wt6lX4tHV2Q7abizPXrgex+/cDVCjji/Kf63qLJo1p9mEDANxdnblw6Qq/HzhM3x5d32iMjeuVYOTnHurnIyZf4XJA7rEL/xMUCpRJCSTtWQcqFVnhIWiZWmBQ46NCaYwsKPOGTUi7dzvXZDcWTVtj6O7Fg28nkvk4EkPvstj0+pzMmCiSr+Q9HMnbbt6yNdwOCeX7GeNfXDgfx44c4IfF89TPx02e9TpCy0X1z/WwSbMWNGqcffPQxdWdy5cucOjA73Tz07zJF/X4EVMnjqLWB/X4qGnuG1zHjhyg66fz1dfZZ69hbxtzc3ONydI8PD2Jio5m+fLlvNmrV9FrXK84Iwbm3BAbPS3vDNsXmf5dEGOHeLBjZXUys1TcCE7k0PFHeLjmNBS3a2GPr6cpo6dfIyIylfK+5gzr78rj6HTOP5Wp9T4fx3+B1EW2oInf4D17MrWO7kKlUpFy7z4Pf9mJfac26jJRR54aXiPwBvEXr/DBX/uxadmEh5u2FzgGqYtsb0NdvO1kApvCJY2RRcTd3R2FQvHaJql5tmujQqHIc9mzDQ8F8aKJKFq2bEnp0qVZtmwZ9vb2KJVKypQpQ3p6er7rJCZmz0a2bNkyjQxO4IUNa09LT09n3759fP311/mWedLAFBcXl6sRLDY2Ntes4U+/n08ahZ68n69rUo5n91HUdThixAgOHDjAnDlzcHNzw9DQkPbt2z+3DiG7Hvv378/QoUNzvVaqVClu3Mi7q+yr6NWrF9WrV+fq1asaWYhP69GjB1FRUSxYsIDSpUujr69PzZo1843/9OnTdO3aVT1jt7m5OZs2bco1AUBeQys8LSkpiSZNmtCkSRPWr19P8eLFCQkJoUmTJi987/KSlZXFzZs31TcfnrVp0yZGjBjB3LlzqVmzJqampvzvf//LNSzDyyjoOTd58mS6dOnCnj17+P3335k0aRKbNm1SZ2T+27Jjx45l2LBhGsv09fWJupt75mJzM1O0tLSIidVsiIuJjcMqnwZvKwuLPMrHYmlpod6mtrY2To6aWW+lHBy4EpB9Hbf+p6yTo2b2VCnHkkQ8fpznfl+nE2eiCLiRM+bmo6hXP9eKgio5EZUyC4WxZtcoLRMzlIl5N6YqE+NAmaXxrTHrcRhapuagpZ392huUFR+PKisLHXMLjeXa5pZkxj6/K5ZCXx/TWvV5vHmN5nJdPYp39iN0zlSSLmbfdEoLuYO+kwtWLdq/kcZIc1NTtLW0iI7VzNiIjo3DOo+Jnl7VvGVrOHXOn8XTx1Gi2L+f5Kta9dp4eObcxMnIyD6342JisLKyVi+PjY3B2cUt1/oApmbmaGlpEfdM/cTGxmBhmR2b5T/bcnB00ijj4FiKx48iNJZFRz1mwthheHn7MnDI8Hzj/vij+oTcv/9P3NnjD8fExGjcBIyNicElnxsxZmZm2dezZzInY2NisPonW9LS0pLMzMxcmfcxsbFYFnByNU9PT7b8+muBtvEuOHEmmoCgnGEXdHWzb+ZbWugRFZMzbrSVhR437yTmWv+Jh+GpDBl3GQN9LYyNtImKyWDySC/CIrJn6NXT06LfZ06MmxXA6fPZdRp8Lxl3FxM6tylZ4MaK/8px/Bf8F+siIzoGZWYmesWtNZbrFbMmPTIq33Uu9/kCLX09dC0tSAuPxO3rr0i5l/8Yz5nxCSTdvoeh0+uZmFLqImedoq4LIZ4mY0YWESsrK5o0acKSJUs0JvV44skkMd7e3ty/f5/7/3yRBQgICCA2NvZfZVc969mxgP7666+X7ipbrlw5Dh06lOdrUVFRBAUFMX78eBo1aoS3t3euL9JPxvd7Mq4iZGf+2dvbc/v2bdzc3DQeTya88fb25vLly6SmpuZ7HEePHsXS0lKji/Gz3N3d0dLS4vx5zbG4bt++TVxcHB4eHvmsmdvz3gtXV1f09PQ4efKkellGRgZnz559LXX4bIPTk7ERX6bxtly5cvj7++cau/KJkydP4ufnR9u2bSlbtiy2tra5ugrr6elp1CFApUqVCAgIyFWHbm5u6Onp4eXlRWZmpsZ7HxQUpDE50ov4+vri6+vL1atX6dKlS77xDx06lI8//hhfX1/09fV5/JxGoVOnTlG6dGnGjRtHlSpVcHd35969ey8d0xPXr18nKiqKb775hjp16uDl5fXS42HmZfXq1cTExOQa+uCJkydPUqtWLQYNGkTFihVxc3PTmCzK3NwcGxsbjUmTsrKyXjiZz7Ne9nrk4eHBV199xR9//MEnn3zCypUr893my5bV19fHzMxM45FfN21dXV083Fy4cClnnDelUsmFy1fw9cr7/9rHy4MLlzXHhTvvf1ldXldXFy93V+4/0837wcOH2JTIHuzc1qYExawsuR/6ULNMaBg2L8ikfR1SUrIIDUtVP9LTX9+NizdKmUVWWAi6zk9/9ijQdfIiM/R2nqtkPghGy7I4kJMtrGVlgzIh9o03RAKQlUnq7ZsYlX1qnCWFAqMyFUi9GfDcVU1r1EWho0v8cc3PDIWODgodXVA9U29K5RsbC1NXVwcPVyfOX87JElEqlZy/HICvZ96Nei9DpVIxb9ka/vz7PAumjMHepmDnv6GREXb2JdUPx1JOWFpacflSzjUsOTmJm0GBeHr55rkNXV1dXN08uOyfs45SqeSK/wX1OiVsbLGyLsbD0Psa6z4MfUDxEjldlaMeP2L8mK9wdfNg8JejNXqhPBt36dKlsbe3x97enlKlSmFpacmlp3qgJCclERQUhHc+w/bo6uri5u6usY5SqcTf3x+vf76vubu7o6Ojo9Gz5cGDBzyKjMx3uy/r9u3bL+wJ8F+QkpJFaHiq+nH3fjJR0elULmehLmNkqI23hynXgvIfd/qJ1DQlUTEZmBjrUK2CJcf/zm4c0NFWoKurlWvCgqys5/d+eN+O47/gv1gXqoxMEq4EYPXBUwkjCgVWH9Qg9sKl566rTEsnLTwShY4OJT7+kEd/HMm3rLaRIUZOjqRHPnotcUtdaCrKunjbqVRF83hfSWZkEVqyZAm1a9emWrVqTJ06lXLlypGZmcmBAwdYunQpgYGBfPjhh5QtW5auXbsyf/58MjMzGTRoEPXq1aNKlSoFjuHXX3+lSpUqfPDBB6xfv54zZ86wfPnyl1p37NixlC1blkGDBjFgwAD09PQ4cuQIn376KVZWVlhbW/PTTz9hZ2dHSEgIY8aM0Vi/RIkSGBoasm/fPhwcHDAwMMDc3JwpU6YwdOhQzM3Nadq0KWlpaZw7d46YmBiGDRtGly5dGDduHH379mXs2LHcvXuXOXPmaGx7165dL+yibWpqSp8+fRg+fDg6OjqULVuW+/fvM3r0aGrUqEGtWnnP4vqq70WxYsUYOHAgI0eOxMrKilKlSjF79mySk5Pp3bv3S+8jPyEhIQwbNoz+/ftz4cIFFi1alCuTLz+dO3dm5syZtGnThlmzZmFnZ8fFixext7enZs2auLu7s23bNlq2bIlCoWDChAm5suScnJz4888/6dSpE/r6+hQrVkz9Hg4ePJg+ffpgbGxMQEAABw4cYPHixXh6etK0aVP69+/P0qVL0dHR4csvv3zlDNPDhw+TkZGRb/dud3d39azW8fHxjBw58rn7cHd3JyQkhE2bNlG1alX27NnD9u2v3iWhVKlS6OnpsWjRIgYMGMDVq1eZNm3aS62bnJxMeHg4mZmZPHjwgO3bt/Pdd98xcOBAGjRokG/ca9asYf/+/Tg7O7N27VrOnj2rbsAHGDJkCLNmzcLNzQ0vLy8WLVpETEzMK305etH1KCUlhZEjR9K+fXucnZ158OABZ8+ezbMR9VXK/huftm7BN/OX4OHmireHG1t27SE1NY2mjbLfw5nfLaK4lZW663S7ls358utJbN6+mxpVK3H4z5ME3Qpm+Of91dvs2LYVU//3HeV8fahY1pczF/w5deY882dOBrKzSDu2bc2qjb/g6lwaN2cn9h8+RkhoKJPH5J059aaZmuhgU1yfYlbZDbelShoBEB2TTnRsxvNWLVSpfx/EuJUfmWF3yQy9i0H1RqCrR9ql7BmGjVv5oUyIJeXIDgDSzh/DoEp9jJp0JPXsYbStSmBYuxmpZ/OeLf1NiNmzDdtBI0gNvkFqcBCWH7dFS9+AuKPZMxzbfj6SzOjHPN6o2cBu3qApiedOoUx8ZozMlGSSr12i+Gd9Uaank/koAkOfcpjV/ZBHa356Y8fRqWVTZixahpebM97uLmze/QcpaWk0b1gXgGkLfqS4tSUDPssefzYjI5O7D7Ib5TMyM3kUHcPNO/cwNDDAwS67wW7uT6s5ePwvZo39EiNDA6L+GXvVxMgIff28x+N6FQqFghat2/PrprXY2ZfExtaODWtXYGVVjOo1P1CXm/j1MGrUrMPHLbOzrVu1/ZSF877B1d0Ddw9vftu5hdTUVBo1bqrebptPOrJp/SqcnF1xdnHjyKH9hD4IYeTXk4HshsgJY7+ieHEb/HoPID4uJ3v3RVmICoWCNm3asGnTJuxLlsTGxoa1a9dibW1Nzae+c4wdM4ZatWrR8p/vMW3btmXe3Lm4u7vj4enJzh07SEtLo3HjxkB2tv5HH33EsmXLMDU1xcjIiB+WLsXb21vdYAnw8OFDUlJSiImJIS0tTX3TqlSpUujq6nLwwAF0dHXVw2WcOnmSA3/8wfTp0+G3/Hua/FvaxkYYu+Vk2xg5O2BW3ov06DhS77+eMUsLYvPuUHp0cORBWAphEan06VKaqOg0jv+Vc1Nz/tSy/PnXY7btzY63WkULQMH90GRK2hkyyM+ZkNBk9h7KzqxNTsni4pVYBvk5k5auJCIylQplzGnaoASLV7ye2eb/q8fxMuScevN1EfLTGny+m0H8pWvE+V+hVJ9uaBsaEvbLDgB8588gNTyS4G8WAGBWsSz6tiVIvBaEvm0JXIYNBIUW95bmfDa6jx/Oo4PHSH3wEH2b4rgM/xxVVhbhO35/7fE/IXXx9tSFeH9JY2QRcnFx4cKFC8yYMYPhw4cTFhZG8eLFqVy5MkuXLgWyv7ju3LmTIUOGULduXbS0tGjatGmuGZX/rSlTprBp0yYGDRqEnZ0dGzdufOlsPQ8PD/744w++/vprqlWrhqGhIdWrV6dz585oaWmxadMmhg4dSpkyZfD09GThwoXUr19fvb6Ojg4LFy5k6tSpTJw4kTp16nD06FH69OmDkZER//vf/xg5ciTGxsaULVtWPRmKiYkJu3fvZsCAAVSsWBEfHx++/fZbjUaMXbt25ZrMJC8LFizgm2++YfTo0dy7dw9bW1saN27MjBkzXqmR5nnvBcA333yDUqmkW7duJCQkUKVKFfbv359rQPp/o3v37qSkpFCtWjW0tbX54osv6Nev30utq6enxx9//MHw4cP5+OOPyczMxMfHhyVLlgAwb948evXqRa1atdSNjPHxmt35pk6dSv/+/XF1dSUtLQ2VSkW5cuU4duwY48aNo06dOqhUKlxdXTVmXV65ciV9+vShXr162NjYMH36dCZMmPBKx/6i7tLLly+nX79+VKpUCUdHR2bOnJnnzOtPtGrViq+++orBgweTlpZG8+bNmTBhApMnT36luIoXL86qVav4+uuvWbhwIZUqVWLOnDkvNYbpsmXLWLZsGXp6elhbW1O5cmV++eWXPLsuP9G/f38uXrxIx44dUSgUdO7cmUGDBvH77zlfHEaPHk14eDjdu3dHW1ubfv360aRJk1ca/uBF1yNtbW2ioqLo3r07ERERFCtWjE8++STPcdJepey/0bBObeLi4lm14ReiY2JxdXHi28njsPqnK3Xko8doPfU/Xsbbk/HDv2DF+o38vHYDJe3tmPb1KJxL5/yoqVOzOl8N7MeGLdtZtGwFjiXtmTJmBGV9cn7st2/dnPSMdJYsX01CQiKuzqWZM3UCJe2KZibCD6pbM+7LnMyoqaOzr+8rNtxlxcZXz/p9U9IDzqEwMsGwXiu0jM3IinhAwsaF6klttMytNG4dK+NjSNiwEKPGn2LebyLKhFhSzx4m9dS+Qos54fQxtM3MKdahO9oWlqTdvc2DWePI+mdSG13r4tlZjU/RtXPAyLsM96ePzXObDxfMoniXXtgNGY22iSkZjyJ5vGkVsQfe3DiYjT6oQWx8Aj9v3EZ0bBxuzqWYO2EkVv900454HIWWVs7/yuOYGHoOz7lWb9z5Oxt3/k4FXy8WT8tusNqxP7tReMiEmRr7+npwXz5uWOe1xN22fSdSU1NYumguSUmJePuUZcK0b9W9LgDCwx4SH5/TWPhB3YbEx8Wxad0qYmKicXZxZeLUb9XdtAFatskeimTFsiUkJiTg5OzKpOlzsLMrCcCli+cJexhK2MNQ+vTooBHT9j35Z5c80f7TT0lNTWXRwoUkJibi6+vL1GnTNOIOCwsj7qnP2nr16hEfF8fadeuIiY7GxdWVqdOmaXyH6Ne/PwotLWZMn05GRgaVK1dm0Oefa+x7wfz5XLmSkwE+ZPBgAFauWoXNP5PUbNywgcjISLS1tXFwdGTMmDG0a9eOPbz+xkjzymWoeWit+rnPnOx93F+zjcu98/4fKUwbtj3A0ECbkYPcMTHW4UpgHCOmXNOYTdfe1gBzs5zhTYyNdOjfzYnixfRJSMjk6OnHLFt3l6ysnHUmz7lO/+5OTBzmiZmJDuGP0li27h479r2ZxrL/ynG8DDmn3nxdROzej661FS4jPke/eDESAq5zsdsA0h9nZwcalLRD9VRqoJa+Pq4jh2BYyoGs5GSiDh/n6hdfkxmfc0NO386Gsou/RdfSgvToGGLPXOBsq65kRL+5mdmlLt6eunibPJvVKt4sheplZ1IR/zkKhYLt27fTpk2bog7ltbpw4QINGzbk0aNHuca/+6+pX78+FSpUYP78+UUdinjHKJVKvL296dChw0tnbb6NHgZdLuoQCszesxwftDxW1GEUyInd9Yie3v/FBd9yVuN/JKhjk6IOo0A8f9nPo2uvPl7s26a4b3UCbj18ccG3nI+bPcG38x5u4F3h6uLCHl3Pog6jwJpnBFGn9fGiDqNAju+s884fA2Qfh5xTb4fjO+tw0KFsUYdRYB8+uCJ18Zb48MGVFxd6S/2c96hrb1yfRkWz36ImmZHiPyczM5NFixb95xsihXgV9+7d448//qBevXqkpaWxePFi7ty5k+94m0IIIYQQQgghxJsgjZHiP6datWpUq1atqMMQ4q2ipaXFqlWrGDFiBCqVijJlynDw4MGXnrBKCCGEEEIIIf6rpM9w4ZLGyPeY9NB/9x09erSoQxDvCEdHR40Z3YUQQgghhBBCiKIgjZFCCCGEEEIIIYQQ4r31zLyD4g3TKuoAhBBCCCGEEEIIIYQQ7wdpjBRCCCGEEEIIIYQQQhQK6aYthBBCCCGEEEIIId5bMqVG4ZLMSCGEEEIIIYQQQgghRKGQzEghhBBCCCGEEEII8d6SzMjCJZmRQgghhBBCCCGEEEKIQiGZkUIIIYQQQgghhBDivaWUzMhCJZmRQgghhBBCCCGEEEKIQiGNkUIIIYQQQgghhBBCiEIh3bSFEEIIIYQQQgghxHtLVWQz2CiKaL9FSzIjhRBCCCGEEEIIIYQQhUKhKrrmXyGEEEIIIYQQQgghitSiPUXTNDak+fuZGSndtIUQQryzrt0KK+oQCszXzY69Rl5FHUaBfJx8nXEr0oo6jAKb0UufHhPDizqMAlk91ZYLN6KKOowCq+RhzcOgy0UdRoHZe5bjdnBwUYdRIC6urtRpfbyowyiw4zvrsEfXs6jDKJDmGUHv/DFA9nHIOfV2aJ4RRKNOZ4o6jAI7tKma1MVb4tCmakUdgnhHSDdtIYQQQgghhBBCCCFEoZDMSCGEEEIIIYQQQgjx3lIqizqC94tkRgohhBBCCCGEEEIIIQqFZEYKIYQQQgghhBBCiPeWTO1cuCQzUgghhBBCCCGEEEKI/5Do6Gi6du2KmZkZFhYW9O7dm8TExOeuU79+fRQKhcZjwIABGmVCQkJo3rw5RkZGlChRgpEjR5KZmflKsUlmpBBCCCGEEEIIIYR4byn/g5mRXbt2JSwsjAMHDpCRkUHPnj3p168fGzZseO56ffv2ZerUqernRkZG6r+zsrJo3rw5tra2nDp1irCwMLp3746uri4zZ8586dikMVIIIYQQQgghhBBCiP+IwMBA9u3bx9mzZ6lSpQoAixYt4uOPP2bOnDnY29vnu66RkRG2trZ5vvbHH38QEBDAwYMHsbGxoUKFCkybNo3Ro0czefJk9PT0Xio+6aYthBBCCCGEEEIIIUQhS0tLIz4+XuORlpZW4O2ePn0aCwsLdUMkwIcffoiWlhZ///33c9ddv349xYoVo0yZMowdO5bk5GSN7ZYtWxYbGxv1siZNmhAfH8+1a9deOj5pjBRCCCGEEEIIIYQQ7y2Vqmges2bNwtzcXOMxa9asAh9PeHg4JUqU0Fimo6ODlZUV4eHh+a7XpUsX1q1bx5EjRxg7dixr167ls88+09ju0w2RgPr587b7LOmmLYQQQgghhBBCCCFEIRs7dizDhg3TWKavr59v+TFjxvDtt98+d5uBgYH/Op5+/fqp/y5btix2dnY0atSI4OBgXF1d//V2nyWNkUIIIYQQQgghhBDivaUqohls9PX1n9v4+Kzhw4fj5+f33DIuLi7Y2toSGRmpsTwzM5Po6Oh8x4PMS/Xq1QG4desWrq6u2NracubMGY0yERERAK+0XWmMFEIIIYQQQgghhBDiLVe8eHGKFy/+wnI1a9YkNjaW8+fPU7lyZQAOHz6MUqlUNzC+DH9/fwDs7OzU250xYwaRkZHqbuAHDhzAzMwMHx+fl96ujBkphMiXQqFgx44dhbKvunXrsmHDhteyrbt376JQKNQXzvdd/fr1+fLLL4s6jHzt27ePChUqoFQqizoUIYQQQgghhHjneXt707RpU/r27cuZM2c4efIkgwcPplOnTuqZtENDQ/Hy8lJnOgYHBzNt2jTOnz/P3bt32bVrF927d6du3bqUK1cOgI8++ggfHx+6devGpUuX2L9/P+PHj+fzzz9/pQxPyYwU4i3g5+dHbGxsoTX8PWvy5Mns2LEjV+NdWFgYlpaWb3z/u3btIiIigk6dOqmXKRQKtm/fTps2bTTKFvV7lZ8GDRrQtWtX+vTpk+u1+vXrc+zYMSA7Db9UqVL07NmTMWPGoFAoCjvUfKWkpFCyZEm0tLQIDQ19pQ+TgmjatCkTJkxg/fr1dOvW7bVtV6VSsWndSg7s/43kpES8vMvQ7/Nh2Jd0eO56v/+2nR1bNxEbE42Tsxt9BgzF3dNbo0xQ4DXWr/mZm0GBaGlp4ezixoRp/1O/Z/17duRRZITGOp/16MsnHboW+LhK9++C85e90bcpRsKV61wbPp24c1fyLKvQ0cF1ZD9Kdm2Dgb0NSTfucH3CHB4fOJFTSEsL9/GDKdmpFfo2xUgNiyR03XZufbO0wLG+qkYVtanqqY2BHtyLVLHrVCZR8c/vMmNmBE2q6ODhoIWuDkTFq9h2PJPQqMLratO2oQn1KxtiZKDFzZB0Vu+OJyI6K9/yc74qTnFL7VzLD/6dxNo9CRSz0GbusLzveC/+JYaz1wo+w+LTVCoVW9b/zOE/dpGUlICndzl6DRqJnb1jvusEXr3Ib9s2cDs4iNjoxwz7ehZVa9bTKHPm1FEO/r6dO8FBJCbEM2vBKpxcPF5LzNv37OOX7buIjonF1bk0Q/v1wtvDPd/yR0+cZsX6TYRHPsLB3pZ+PT6jRpVKGmXu3X/AT6vXcelqAFlZSko7OjBl7HBs/sk++PLrSVy6GqCxTsumjRk2qB8vY/fu3WzZupWYmBhcnJ0ZOHAgnp6e+ZY/fvw4a9auJSIigpL29vTs1YtqVauqX1epVKxdt459+/aRlJSEj48Pgz//nJIlS6rLTJ4yhdu3bxMbG4uJiQkVK1SgV69eWFtbA9ndqvx69sy173nz5uHt5fVSx5Wf3l1K07KxLSbG2ly5Hs/cpbd4EJaab3lDQ236dClN3RrWWJrrcuNOEguXBXP9VmJOGQMt+nd3pk51a8xNdQiLTGPLb6Hs3PfyA+a/blYfVMFleG/MK5XBwL4E59oNImLXoSKL5994V45Bzqm3h9+nJfm4YXFMjHW4GpTAguV3CQ3P/7PJ0ECLnh0c+KCqJRbmuty6m8SSVSEE3U5Slxk10Jkm9TQ/+874xzL2mxtv7DheROoiR1HXRWEool7ab9T69esZPHgwjRo1QktLi3bt2rFw4UL16xkZGQQFBalny9bT0+PgwYPMnz+fpKQkHB0dadeuHePHj1evo62tzW+//cbAgQOpWbMmxsbG9OjRg6lTp75SbNIYKYTI16uM+VAQCxcupGfPnmhpFTxZOz09/TVE9Gqio6M5efIkmzZtyrdM3759mTp1KmlpaRw+fJh+/fphYWHBwIED//V+MzIy0NXV/dfrP2vr1q34+vqiUqnYsWMHHTt2LLT9+/n5sXDhwtfaGLl9y0b27N7K0K/GUsLWjo1rVzBtwkgW/LAKPb28G1pP/HmYlcu+p//gYXh4evPbji1MnTCSRT+txcIiu2E+KPAa0yaO4pNPu9BnwFC0tbW5eycYLS3NhuVOn/WicZPm6ueGRkYFPia7ds3w+mYM14ZOJvbsJZwG96Dazp85VqEZ6Y+ic5X3mPQFJTu34srnE0gMuk3xxh9QedNiTjfsTPyl7IGtXYf3pXSfzlzqN4bEgFuYVypDuR9nkhGXyL2lawsc88uqU1abmj7abD2eSXSCisaVtPFrosuCbelk5tOuZ6AH/ZrrcTtMyeo/MkhKVWFtpiAlvfC+TX78gTGNqxuxbHscj2Oy+KShCSO6W/L14sdkZOa9zpQfH2ucLyVL6DDaz0rdyBgVl8XQ2Zpj/NSvYkiz2sZcvvn6r3G7t65j32+/MvDL8RS3sefX9T/xzcSv+N/36/P9X0lLTaWUsxv1G7dg3syx+ZRJwdOnPDU+aMSyxd+8tngPHz/J0uWr+WpQP7w93Niyaw+jJs1gzdIFWFqY5yp/NTCIaXPm07d7F2pWrcyhYyeYMHM2P303G+fSpQAIDQtn6JgJNPuwIX6dO2JkZMjdkPvo6eppbKv5R43o1TXn2viyN22OHTvGT8uWMWTwYDy9vNixYwfjJ0xg2U8/YWFhkat8QEAA33z7LT39/KhWrRpHjx5l2rRpLFq4ECcnJwB+3bKFXbt2MXzYMGxtbVmzdi3jJ0zgxx9+QE8vO+7y5crRsWNHrCwtiYqK4ufly5kxcybz5s7V2N/MmTMpXaqU+rmZmdlLHVd+unziQLvm9sxcEERYRCq9uzoxd3IZug0+T3pG3v+fowe741LKiOnfBfE4Op2P6pfgu6ll6Tb4PI+js8/7wb1cqFTOgmnfBREemUrVCpYMG+DG4+h0Tp7JfQ0sDNrGRsRfDuL+qq1U2bKkSGIoqHfhGOScent0amVH26Y2fPv9bcIfpeHXwYFvxnrSa8QVMvKpi+H9nXF2MGTWkttExaTzYZ1izB7vSe/hV3gck6Eud8Y/ltlL76ifZ2QWba8ZqYu3py7Ev2NlZfXc3odOTk6oVDnniqOjozqJ5nlKly7N3r17CxSbdNMW4h1w7NgxqlWrhr6+PnZ2dowZM4bMzJxfuUqlktmzZ+Pm5qbOvJsxY4b69dGjR+Ph4YGRkREuLi5MmDCBjIzsD5tVq1YxZcoULl26hEKhQKFQsGrVKiB3N+0rV67QsGFDDA0Nsba2pl+/fiQm5txd9vPzo02bNsyZMwc7Ozusra35/PPP1fvKy6NHjzh8+DAtW7b8V++Nk5MT06ZNo3v37piZmWnM/nX9+nVq1aqFgYEBZcqU0biwZmVl0bt3b5ydnTE0NMTT05MFCxZobPtlj2fPnj1UqlQJGxubfOM0MjLC1taW0qVL07NnT8qVK8eBAwfUr+fVJd7CwkJdF0+6nv/yyy/Uq1cPAwMD1q9fT1RUFJ07d6ZkyZIYGRlRtmxZNm7c+KpvIwDLly/ns88+47PPPmP58uW5XlcoFCxdupRWrVphbGysPsd27txJpUqVMDAwwMXFhSlTpmicn/PmzaNs2bIYGxvj6OjIoEGDNM4bgJYtW3Lu3DmCg4P/VezPUqlU/LZzC+07dqNazQ9wcnZl6PCxREc/5szpE/mut3v7rzRu2pxGjZvhWMqJ/oOHoW9gwOE/cj5sVyxbzMetPuGTDl0pVdqZkg6lqF2nAbrPNFoYGhpiaWWtfhgYGBb4uJyH+nF/5a88WLuNxOvBXB0yiayUVBy6t8uzfMkurQn+34882v8nKXcfELJsE4/2/4nz0JxMKMsaFYnYc4hH+46REhJK+I79PD50EosqZQsc76uo7avN0UtZBIYoiYhR8eufmZgagnep/L+q1C2nTVySim0nMnnwWEVMItx6qCI6ofDiblLTiN1/JnLxehr3IzL5aVscFqbaVPIyyHedhGQVcYlK9aOCpz4RUZlcv5v941ilQuP1uEQllb0NOHM1lbTX3NCqUqn4fddm2nbwo0qNupR2dmPQVxOJiX7Mub/+zHe9ClVq0rFb/1zZkE+r07AZ7Tr3omyFqvmW+Td+3fkbzT9qRLMPG+BUypFhg/phoK/H7wcP51l+6+49VKtUgU6ftKa0owO9PuuEu4sL2/fsU5dZvm4j1StXZEDPbri7OlPSzpba1avmatw00NfHytJS/TB+yZsM27dvp1nTpnz00UeULlWKIYMHo6+vzx9//JFn+Z07d1KlcmXat29PqVKl6N69O66uruzevRtAfdOoU6dO1KxZE2dnZ0YMH05UVBSnTp9Wb6dt27Z4e3lhY2ODj48PHT79lOvXr2tcowHMTE2xsrJSP3R0Cpav0KFlSdb8GsKJM9EE30tmxvwgrK30qVOjWJ7l9fS0qFezGEtX3eFSQDyh4ams3BRCaFgKbZrZqcuV8TJj3+EI/K/GER6Zxu4/wgm+k4i3u2mB4i2IR/v/5Mak+UTsPFhkMRTUu3AMck69PT5pZsO67Q85dT6W2yEpfLvkNsUs9figSt69qfR0FdStZsVPG+5z5XoCDyPSWLMllIfhabRsXEKjbEaGipi4DPUjMSn/XgaFQeri7amLwqBSFc3jfSWNkUK85UJDQ/n444+pWrUqly5dYunSpSxfvpzp06ery4wdO5ZvvvmGCRMmEBAQwIYNGzQaxkxNTVm1ahUBAQEsWLCAZcuW8d133wHQsWNHhg8fjq+vL2FhYYSFheWZEZeUlESTJk2wtLTk7Nmz/Prrrxw8eJDBgwdrlDty5AjBwcEcOXKE1atXs2rVKnWDWl5OnDiBkZER3t7e+ZZ5kTlz5lC+fHkuXrzIhAkT1MtHjhzJ8OHDuXjxIjVr1qRly5ZERUUB2Q24Dg4O/PrrrwQEBDBx4kS+/vprNm/e/MrHs2vXLlq3bv1SsapUKo4fP87169fVmSuvYsyYMXzxxRcEBgbSpEkTUlNTqVy5Mnv27OHq1av069ePbt265Zrh7EWCg4M5ffo0HTp0oEOHDhw/fpx79+7lKjd58mTatm3LlStX6NWrF8ePH6d79+588cUXBAQE8OOPP7Jq1SqNxnAtLS0WLlzItWvXWL16NYcPH2bUqFEa2y1VqhQ2NjYcP378ld+TvESEhxEbE035CpXVy4yNTXD39CHoekCe62RkZBB8K4hyT62jpaVFuQqV1evExsZwMygQc3NLxg7/nJ5d2zJ+9BcEXruca3vbf91A906tGD6kDzu2biIrK580uZek0NXFrKIvUUdO5SxUqXh8+DSW1SvkuY6Wnh5ZqZpddbJSUrGslXOMMX9dxLp+TYzdnAAwLeuJZc1KPPoj/4ao183SFEyNFAQ/zLnrnpYBDx6pKFUi/6EMvB21CH2spFMDHcZ21uPz1rpU8Si8rzbFLbWxMNXmWnBOtmJKmorboRm4Ob5c1rC2NtQqZ8ifF1PyLeNkp0NpO13+vJB/mX8rMuIhsTFRlKlQRb3MyNgEVw8fbl6/+tr3V1AZGRncuHWbyhXKqZdpaWlRqXw5rl3Pu/tYwPUbVC5fTmNZ1Url1eWVSiV/nbuAg709IydNp2233gwcMZYTf+W+jh48dpzWXXvRc/Awlq1eT2rai7vMZ2RkcPPWLSpUqKARc4UKFQi8fj3PdQKvX6dCxYoayypXrqwuHx4eTkxMDBWf2qaxsTGenp5cDwzMc5sJCQkcOXIEb2/vXI2NU6ZOpVPnzgwfMYK//vrrhcf0PHY2Blhb6XHuUqx6WVJyFoE3EvD1zLuBR1tbgY62IleGW1q6knLeOVmaV6/HU7uaNcWssj8/K5Y1x7GkIWcvxhQoZvF2k3Pq7WFXQh9rSz0uXIlXL0tKySLwViI+HiZ5rqOtrUA7n7oo46VZf+V9TNnyY0VWzSvLF71LY2YiHTnzI3Uh3nVyRgnxlvv+++9xdHRk8eLFKBQKvLy8ePjwIaNHj2bixIkkJSWxYMECFi9eTI8ePQBwdXXlgw8+UG/j6TEenJycGDFiBJs2bWLUqFEYGhpiYmKCjo7Oc7tlb9iwgdTUVNasWYOxsTEAixcvpmXLlnz77bfqxk9LS0sWL16MtrY2Xl5eNG/enEOHDtG3b988t3vv3j1sbGwK1EW7YcOGDB8+XP387t27AAwePJh27bIzxpYuXcq+fftYvnw5o0aNQldXlylTpqjXcXZ25vTp02zevJkOHTqol7/oeNLS0ti3bx+TJ09+bozff/89P//8M+np6WRkZGBgYMDQoUNf+Vi//PJLPvnkE41lI0aMUP89ZMgQ9u/fz+bNm6lWrdpLb3fFihU0a9ZMPUZokyZNWLlyZa7j6tKlCz2fGl+sV69ejBkzRn3uubi4MG3aNEaNGsWkSZPUMT/h5OTE9OnTGTBgAN9//73Gtu3t7fNsAIXs9zntmR/9z+seGRuT3bXK3NJKY7mFhSUxMXl3u0qIj0OpVGJhkXud0PshAESEPwTglw2r6NF7IM4ubhw9tJ9JXw9n/vcr1eNRNm/VDhdXd0xMzQgKvMq6VcuIiY6iZ9/P8435RfSKWaKlo0NaRJTG8rTIx5h4Oue5zuODJ3Ae4kf0iXMk3w6hWIOa2LZunN0C9o/gOT+hY2pMXf+9qLKyUGhrc2PyfB7+8tu/jvVVmRpmNzgmpmh+OU5MVWFimH9jpKWpgmpe2py8lsWxSxk4FFfQooYOWcpMLt56892JzE2yr1txiZr7ik/MUr/2IpW9DDAyUHDiOY2RdSsbERqZya37+WeZ/1txT/5XnjnvzS2s1P9Hb5O4+ASUSmWujEVLC3NCQkPzXCc6NjaP8hbExMQCEBsXR0pKKhu37qDXZ53o36MrZy74M3HWHObNmESFMr4ANKr7ATYlilPMypLguyH8tHod90MfMvXrkc+NOT4+PjvmZ8ZgtrSw4MH9+3muExMTg+Uz3bezY45Rvw7kuc0nrz2xfMUKdu/eTVpaGl5eXkx56rpuYGBA3z598PHxQaGlxcmTJ5k6bRoTJ0ygRo0azz2u/FhbZjfEx8RqDikQHZuOlWXeN+FSUrK4cj2eHh0cufsgmZjYdD6sUxxfTzNCw3P+N+b/FMzIz93ZvrI6mZlKlCqYveQmlwLi89yu+G+Qc+rtYWnxT13EaX4excRlqF97Vkqqkms3EvjsE3tCQlOIic2gYW1rfDxMeBieM+bnWf84jp+JITwyDXsbfXp3cmTWGGOGTAj4T47lV1BSF+JdJ42RQrzlAgMDqVmzpsZEJ7Vr1yYxMZEHDx4QHh5OWloajRo1yncbv/zyCwsXLiQ4OJjExEQyMzNfeTyowMBAypcvr26IfBKHUqkkKChI3Rjp6+uL9lMNHXZ2dly5kvfkGpA9aYqBQf7dGV9GlSpV8lxes2ZN9d86OjpUqVKFwKcyRpYsWcKKFSsICQkhJSWF9PR0jcwVePHxHD58mBIlSuDr6/vcGLt27cq4ceOIiYlh0qRJ1KpVi1q1ar3KYQK5jzUrK4uZM2eyefNmQkNDSU9PJy0tDaNXGJ8wKyuL1atXa3RT/+yzzxgxYgQTJ07UaCh+dv+XLl3i5MmTGpmQWVlZpKamkpycjJGREQcPHmTWrFlcv36d+Ph4MjMzNV5/wtDQUD148rNmzZql0XgMMGnSJD79rD8Ax44c4MfFOWOgjZv8+sane5rqn29gHzVrSaPGzQBwcXXnyqULHD6wl8/8socJaNU2p0HbydkVHR1dflg8l8/8+ubqzv0mBYycQZkl06jnvxeVSkXy7fs8WLtNo1u3Xbtm2Hdqib/fCBIDb2Fazguf2V9nT2Szfscbiau8ixata+d8BVlz4N81sikUEPpYxYHz2V2HwqJVlLDIopqX9htpjKxZzgC/ljnXznnrC545U7eyIZdvpRGbkHe8ujpQo6wBu44l5vn6qzpxdD8/L5mtfj5q4pzXst13mfKf/+ta1avwaesWALi5OHPtehC7fz+gboxs2bSxeh0Xp9JYW1owfMJUQsPCKWlXOGMs/xvt27WjyUcfERkZyfoNG5gzdy5TJk9GoVBgbm6ucYPL08OD6Kgotmzd+tKNkY3rFWfEwJzJg0ZPu/av4pz+XRBjh3iwY2V1MrNU3AhO5NDxR3i45mT4tGthj6+nKaOnXyMiMpXyvuYM6+/K4+h0zj+VNSfebXJOvT0a1bbmq75O6udff/vvJjCZteQ2I/s7s3lpRbKyVNy8k8SRk1G4u+T8rjhyOucG2J37KdwOSWHdwvKU9zXj4lVpHJa6ePOU0tJaqKQxUoh3nKHh88ehO336NF27dmXKlCk0adIEc3NzNm3axNxnBq9/XZ6d0EShUKBU5t8oUKxYsVxZHJDdtTwuLi7X8tjYWMzNNTNcnm4gfVmbNm1ixIgRzJ07l5o1a2Jqasr//vc//v77b41yLzqeXbt20apVqxfuz9zcHDc3NwA2b96Mm5sbNWrU4MMPP1RvV/XMoCF5jbX57LH+73//Y8GCBcyfP189LuOXX375ShP57N+/n9DQ0Fzd87Oysjh06BCNG+f8AH92/4mJiUyZMiVXtiZkZ9zcvXuXFi1aMHDgQGbMmIGVlRUnTpygd+/epKenazRGRkdHU7x43jMIjx07lmHDhmks09fX59b97C9L1arXxuOpGa+fvHdxMdFYWVmrl8fGxuDs4pbnPkzNzNHS0iI2VjMbLDY2Bot/Miwt/9mWo2NpjTIlHUvz6JHmhCNPc/f0Jisri8iIcEo6lMq33POkP45BmZmJvo21xnL9EsVIi3ic7zoXOg5GS18PXWsL0h5G4jltOMl3crKxvGaO5PbcZYRtyR4XM+HaDQxL2eM6ot8ba4wMDFFy/1HOOaqjnX2zxcRQQcJT2ZEmBgrCovO/fiSkwKNYzf+bR3Eqyji9mVnqL15PI/hBTmaq7j9xm5toaWRHmploExL24gZWa3MtfF30WLgpNt8yVX0N0NdVcNL/9XTRrlztA9w8cm6eZGRk10NcbDSWVjljr8XFRuPkkv/s1EXF3MwULS0tYmI1Px9iYuOwymMiGAArC4s8ysdiaWmh3qa2tjZOjpqzh5dycOBKQN7dqAG8PbPfnxc1RpqZmWXH/MxnXUxsLJZWVnmuY2lpSUxsbB4xW6pfh+wMSaunthETG4uri4vGeubm5pibm+Pg4IDjP+NPXr9+Pd/hUTw9Pblw8WK+x/OsE2eiCQi6oH6uq5t9A8vSQo+opyZDsLLQ4+ad/BvVH4anMmTcZQz0tTA20iYqJoPJI70Ii8jO1tHT06LfZ06MmxXA6fPZ72XwvWTcXUzo3KakNBz9h8g59fY4dT6GwKdmH1fXhbku0bE5dWFprkvwvbxvKAOERaQxbOp1DPS1MDLUJjo2g/FfuBIWkf9QF2GRacTGZ1DSRp+Lb9+oIYVO6kL818iYkUK85by9vTl9+rRGQ9XJkycxNTXFwcEBd3d3DA0NOXToUJ7rnzp1itKlSzNu3DiqVKmCu7t7rq6wenp6ZGU9f1Bib29vLl26RFJSkkYcWlpaeHp6/uvjq1ixonrsq6d5enpy/vx5jWVZWVlcunQJDw+Pl9r20+NeZWZmcv78efWPr5MnT1KrVi0GDRpExYoVcXNze+XJU1QqFbt3737p8SKfMDEx4YsvvmDEiBHqei1evDhhYWHqMjdv3sw3S/BpJ0+epHXr1nz22WeUL18eFxcXbtx4tTuly5cvp1OnTvj7+2s8OnXqlOdENk+rVKkSQUFBuLm55XpoaWlx/vx5lEolc+fOpUaNGnh4ePDw4cNc20lNTSU4OJiKz4yR9oS+vj5mZmYaj6e7aRsaGWFn76B+OJZywsLSisuXcn7MJCcncTMoAE8vnzz3oauri6ubJ5f9c9ZRKpVc9j+vXqeEjS1W1sUIDdXsWhkWep/iJfKfwOjO7VtoaWlhbp73gOIvQ5WRQfzFa1jXz8n4RaHAukENYv72f+66yrR00h5GotDRwbbNR0TsyZnoQ9vQENWzNwyylChew+z2+UnPhOiEnEdkrIqEZBUu9jn71NcFh+IKQiLzv0sdEqGkmLlmw2MxMwUxiW/mznZquorI6Cz1I/RRJrEJWfi45GS7GugrcCmp+1JdqutUMiI+ScmlG/n/AKhbyYiLQWkkJL+eYzI0MsbW3kH9cCjljIWlNVcvnVOXSU5OIvhGAO5eZV7LPl8nXV1dPNxcuHApJ0NdqVRy4fIVfL3y/mzw8fLgwmXNDP3z/pfV5XV1dfFyd+X+M928Hzx8iE2JvCfHALh1+y4A1pbP/7/W1dXF3c0N/0uXNGL29/fH28srz3W8vbzw9/fXWHbx4kV1eVtbWywtLTW2mZScTFBQEF7PGYP5yf/68yaWu337tkYD54ukpGQRGp6qfty9n0xUdDqVy1moyxgZauPtYcq1oBfPLpWapiQqJgMTYx2qVbDk+N/ZNwB0tBXo6mrl6iKYlaXS6D0i3n1yTr09UlKVPIxIUz/uPUghKiadSmVyegkYGWrh7WZCwI0XZ/CnpimJjs3AxFibquXMOXU+/x4Gxax0MTPRISr29Q9R8i6SunjzZAKbwiWZkUK8JeLi4nL98LC2tmbQoEHMnz+fIUOGMHjwYIKCgpg0aRLDhg1DS0sLAwMDRo8ezahRo9DT06N27do8evSIa9eu0bt3b9zd3QkJCWHTpk1UrVqVPXv2sH37do39ODk5cefOHfz9/XFwcMDU1DTXeHxdu3Zl0qRJ9OjRg8mTJ/Po0SOGDBlCt27dnjuL9ItUrFiRYsWKcfLkSVq0aKFePmzYMHr37o2XlxeNGzcmKSmJRYsWERMTQ58+fV5q20uWLMHd3R1vb2++++47YmJi6NWrFwDu7u6sWbOG/fv34+zszNq1azl79izOznmPvZeX8+fPk5ycrDE+58vq378/06ZNY+vWrbRv356GDRuyePFiatasSVZWFqNHj86VlZkXd3d3tmzZwqlTp7C0tGTevHlERETg45N3g9uzHj16xO7du9m1axdlymg2PHTv3p22bdsSHR2d7w/TiRMn0qJFC0qVKkX79u3R0tLi0qVLXL16lenTp+Pm5kZGRgaLFi2iZcuWnDx5kh9++CHXdv766y/09fU1utYXhEKhoEXr9mzZtBY7ewdsbO3YuHY5VlbFqFYzp74mfT2M6jU/4OOW2ZmdLdt+yqJ5s3Bz98Tdw5vdO7eQlppKw3+6ZCsUClp/0pFf1q/CydkVZxc3jhzaT+iDEEZ+nd2NPCjwGjeCAihTriKGhkYEXb/GymVLqNugMSamBZud887CVZRb9g1xF64Se+4yzoN7oGNkyIO12wAot+wb0h5GEjRpHgDmVcthYG9D/KVADOxtcB83GIWWFrfn/azeZuTeI7iOGkDK/TASA25hVsEbpyF+PFiztUCxvqqT17JoUF6bqDgVMYkqPqykTUJKdhblE72a6hJwL4u/ApXqdfq30KVeOW2u3MnCobgWVT212XGyYJMFvYr9p5NpVc+EiKgsHsVk8UkjE2ITsrhwPWfspVF+llwISOPgmZwbDAoF1KloyAn/FPJLHi9hpY1naV3mrXtzEykoFAqaterAjl9WY2vvSAkbe35d9xOWVsWoUqOuutz0cUOoWrMeTVq0ByA1JZnwsAfq1x9FhHH39g1MTMwoViI7SzAxIZ7Hj8KJic7O3A0LzR571cLSGgtLzQzfV/Fp6xZ8M38JHm6ueHu4sWXXHlJT02jaqAEAM79bRHErK/r26ApAu5bN+fLrSWzevpsaVStx+M+TBN0KZvjn/dXb7Ni2FVP/9x3lfH2oWNaXMxf8OXXmPPNnTgaysx8PHTtB9SoVMTc1JfjuPb5fvppyvt64OpfOFeOz2rZty9x583B3d8fTw4MdO3eSlpamzjyfM2cO1tbW6jF5W7duzajRo9m6bRvVqlbl2LFj3Lx5k6FDhgDZ9damTRs2bdpESXt7bGxsWLt2LdbW1tT65zp6/fp1bty8ia+PDyYmJoSFhbF27Vrs7OzUDZYHDh5EV0cHV1dXAE6eOsUfBw7wxb8Y0/hpm3eH0qODIw/CUgiLSKVPl9JERadx/K+cLO75U8vy51+P2bY3+0ZctYoWgIL7ocmUtDNkkJ8zIaHJ7D0UAUByShYXr8QyyM+ZtHQlEZGpVChjTtMGJVi84k6B4i0IbWMjjN1yMt6NnB0wK+9FenQcqffDnrPm2+NdOAY5p96e+tj2ewRd29rzIDyV8Mg0enZw4HFMOifO5XxW/W+8JyfOxrBzf3avkSrlzFEo4P7DFEraGtCvqyMhD1PZdzS7/gz0tejeviTH/44mOi4DexsD+nVx5GFEGucu5e4pVVikLt6euhD/PdIYKcRb4ujRo7mywnr37s3PP//M3r17GTlyJOXLl8fKyorevXtrTEozYcIEdHR0mDhxIg8fPsTOzo4BAwYA0KpVK7766isGDx5MWloazZs3Z8KECRoTk7Rr145t27bRoEEDYmNjWblyJX5+fhqxGBkZsX//fr744guqVq2KkZER7dq1Y968eQU6bm1tbXr27Mn69es1GiM7d+6MSqVi3rx5jBkzBiMjIypXrsyff/750o2f33zzDd988w3+/v64ubmxa9cuihXLznLp378/Fy9epGPHjigUCjp37sygQYP4/fffXzr2nTt38vHHH+ealfRlWFlZ0b17dyZPnswnn3zC3Llz6dmzJ3Xq1MHe3p4FCxbkygzNy/jx47l9+zZNmjTByMiIfv360aZNmzy7uOflyYREeY052qhRIwwNDVm3bl2+k+00adKE3377jalTp/Ltt99mZxh5eakbjMuXL8+8efP49ttvGTt2LHXr1mXWrFl0795dYzsbN26ka9eurzTW5Yu0bd+ZtNRUflg0h6SkRLx9yjJh2mz09HIa2sPDQomPz3mvPqjbkPi4WDauW0lsTDTOLm5MmDpb3U0boGWbT8lIT2flsiUkJiTg5OzKpOlzsLUrCYCOri4n/jzMLxtWkZmRQQkbO1q2+ZRWbT8t8DGFbf0dveJWeEwYgp5NcRIuB3KmTV/SI7OzPAwd7Xk6xUNbXx+PiV9g5OxIVmIykfuPcanPaDLjcjJJrg2fjsfEoZSZPxG94takhkVyf8Uv3Jz5fa79v0nHr2ShpwNtautgoAf3IlWs2p9B5lNJ21amCowMcrJVQh+rWH8ok48qa9OggjYxiSr2/J3JpdtvfvKaJ/aeSEJfT4FfKzOMDLS4GZLOnLUxZDzVHlrCUgcTY81sAl8XPYpZaD93huy6lQyJiVdyNfjlh134N1q2+4y01FR+XvwtyUmJePqUY8yUeRr/KyDgrb0AAQAASURBVBHhoSTEx6qf3751nWlfD1Y/X7t8YXbMDT9m4FfZn0/n/z7ODwtyxpNdOHsiAO0696J9l5e7qZSXhnVqExcXz6oNvxAdE4urixPfTh6H1T/driMfPUbrqaymMt6ejB/+BSvWb+TntRsoaW/HtK9H4Vw65wdmnZrV+WpgPzZs2c6iZStwLGnPlDEjKOuT3Winq6PD+UuX2bp7DympaZQoZk2dmtXp1rEdL6NevXrExcezbu1aomNicHVxYdrUqeru1pGPHmlkI/v4+DB61ChWr1nDqlWrKFmyJBMmTMDJyUld5tP27UlNTWXhokUkJibi6+vLtKlT0dPLztTV19fn1MmTrFu3jtTUVKysrKhcuTJjO3VC76mbXRs2biQyMhJtbW0cHRwYM2YMdf7FTbanbdj2AEMDbUYOcsfEWIcrgXGMmHJNYwZXe1sDzM1y4jA20qF/NyeKF9MnISGTo6cfs2zdXbKyctaZPOc6/bs7MXGYJ2YmOoQ/SmPZunvs2Fd0jQLmlctQ89Ba9XOfOV8DcH/NNi73HltUYb2Sd+EY5Jx6e+pj064wDPS1GNbXCRMjHa4EJTD2mxtkPF0XNgaYmz5dF9r06exAMSs9EhIzOX4mhhWbHqjrQqlU4VLKiI/qFsPEOLtL/bnLcaza/ICMzKJLHZO6eHvqojC8z1mKRUGhenaQMiGEKGTh4eH4+vpy4cIFSpd+cYbJ26JcuXKMHz9eY/Zt8eoeP36Mp6cn586de6XMVIBrt4r+rnRB+brZsdco766a74qPk68zbkX+XY3fFTN66dNjYnhRh1Egq6facuFG1IsLvuUqeVjzMOhyUYdRYPae5bj9ikOAvG1cXF2p0/p4UYdRYMd31mGP7r8fVuZt0Dwj6J0/Bsg+Djmn3g7NM4Jo1OlMUYdRYIc2VZO6eEsc2lStqEP412Zsev6wZW/KuE7aLy70HyRjRgohipytrS3Lly8nJCSkqEN5aenp6bRr145mzZoVdSjvvLt37/L999+/ckOkEEIIIYQQQoh3j3TTFkK8Fdq0aVPUIbwSPT09Jk2aVNRh/CdUqVKFKlWqFHUYQgghhBBCiPeUUjoNFyrJjBRCCCGEEEIIIYQQQhQKyYwUQgghhBBCCCGEEO8tVeHNfyiQzEghhBBCCCGEEEIIIUQhkcZIIYQQQgghhBBCCCFEoZBu2kIIIYQQQgghhBDivaWSCWwKlWRGCiGEEEIIIYQQQgghCoVkRgohhBBCCCGEEEKI95ZSJrApVJIZKYQQQgghhBBCCCGEKBSSGSmEEEIIIYQQQggh3lsyZmThksxIIYQQQgghhBBCCCFEoZDGSCGEEEIIIYQQQgghRKGQbtpCCCGEEEIIIYQQ4r2llF7ahUoyI4UQQgghhBBCCCGEEIVCoZJROoUQQgghhBBCCCHEe2rcirQi2e+MXvpFst+iJt20hRBCvLPu3wwo6hAKzNHdhwYd/i7qMArkyObqxP1vSFGHUWDmIxdxr1+bog6jQEr/tIPoKyeKOowCsyr7AYHBoUUdRoF5u5bkVvCdog6jQNxcnTnoULaowyiwDx9coVGnM0UdRoEc2lTtnT8GyD4OOafeDoc2VWOPrmdRh1FgzTOCpC7eEs0zgoo6BPGOkG7aQgghhBBCCCGEEEKIQiGZkUIIIYQQQgghhBDivSUDGBYuyYwUQgghhBBCCCGEEEIUCsmMFEIIIYQQQgghhBDvLaVSUiMLk2RGCiGEEEIIIYQQQgghCoVkRgohhBBCCCGEEEKI95ZKBo0sVJIZKYQQQgghhBBCCCGEKBTSGCmEEEIIIYQQQgghhCgU0k1bCCGEEEIIIYQQQry3VMqijuD9IpmRQgghhBBCCCGEEEKIQiGZkUIIIYQQQgghhBDivaWUCWwKlWRGCiGEEEIIIYQQQgghCoU0Rop30qpVq7CwsCjqMN4LTk5OzJ8/v6jDEM8h/w9CCCGEEEIIId4V0k1bFAk/Pz9iY2PZsWNHUYfyrxR1/Hfv3sXZ2TnP106fPk2NGjVe277Onj2LsbHxa9vem7Rq1Sq+/PJLYmNjX8v2/Pz8WL16NbNmzWLMmDHq5Tt27KBt27aoXiGV38nJiS+//JIvv/zytcT2rqhfvz4VKlQokgbtnb/tZfO2HUTHxOLq7MTg/n3w8vTIt/yxEydZtW4j4RGRlLS3o69fd6pXrZxn2fmLl/Lbvj8Y2LcX7Vq3VC+fMHUmt+7cITY2DlMTEypVKEcfv+4Us7Z6rcfWs0NJmjcqgYmxDlevJ/Ddz3cIDU/Lt7yhgRa9OjrwQTUrLM11uXknicWr7hEUnKQuM3qQC03rF9dY74x/LKNnBr3W2J/Qq1gH/aqNUBibkRUZSuqhLWSF38uzrK5vdYw+/kxjmSozg/jvhqmfm49clOe6KUd3kH720OsL/Ckm9Zth/lFbtM0tSH9wl+iNy0i/ezPPsjbDp2PgWSbX8uQr53i0aDoA5i07YVz1A7Qti6HKzCQ9JJjYHetIv5P3Nl+XLb8fZv2ufUTHxuFW2pFhvbvg6+6SZ9nb90NZtmkH12/fI/xRFF/4daJTi8b5bnvN9r0sXb+VDs0/5KuenV9bzCqVio3rVnFg3x6SkhLx8inDgM+/xL6kw3PX27t7B9u3/kJsTDROzq70HTgED09v9evjRn/FtSuXNNZp0qwlA4d8pX6+7IdFBAZcJeTuXRxKlWL+4mUFOo5169ayf9/vJCUl4e3jw+efD6FkyZLPXe+33bvYunULMTExODu7MGDgIDw9PdWv//77Xo4dPcKtW8GkpCTzy+YtmJiYaGxjypRJ3Ll9m9jYWExMTKhQoSI9e/XG2tr6Xx/PEw49OlF6gB96xYuRGBhE0IRZxPtfzbOsQkcHp8F9sGvfCn3bEiTfvsutmd8RdfSkuozLsIG4DBuksV7SrTucrt+qwLG+iN+nJfm4YfHs621QAguW333h9bZnBwc+qGqJhbkut+4msWRVCEG3c663owY606Re7uvt2G9uyDHkQc6nt6cuXpbVB1VwGd4b80plMLAvwbl2g4jY9WY+iwvifaiPd6Uu3gav8ttOFJw0RgrxlIyMDHR1dQttf+np6ejp6f3r9Q8ePIivr6/GstfxI+JpxYsXf3Gh/zADAwO+/fZb+vfvj6WlZVGHI17SkT9P8MPPK/ni8wF4e3qwdeduxkycysofF2OZRxbptcDrzJg9j949PqNGtSocPnqcSTO+Yen8OTg7ldYoe+LUXwQG3cDaKncDY/lyZejcoR3WVpY8jormx+WrmDprNgvnfPPajq1Tazs+aWbLN0tuExaZSq+Ojswe54XfsMtkZOT9JWrkABecHQ2ZtTiYx9HpNK5bjDkTvOj51WUex2Soy/19MZZvv7+tfp6R+WamFdT1rIRB/bakHPiFrLB76Feuj/Gng0hYPg1VcmKe66jSUkhYPu2pBZqvx3//tcZzHWcfDJt2IeOG/2uOPptRldpYfdqLqPVLSb9zA9NGrSjxxSQeTvwcZUJcrvKPln4DOjlfu7SNTbGbOJ/kc6fUyzIiHhK98ScyH0Wg0NXD9MNW2Hw5mdBxA1Emxr+R4zh48gwLV//CqH7d8HV34Zc9B/hq+ndsWjgDK3OzXOVT09KxtylOw5pVWLDql+duO+DWHXYcOIZb6ec3EP4b27ds4rdd2/hi2BhsbG3ZsHYlUyaMZtEPK/P9XD1x7Agrli1l4OAv8fDyZteOrUyZMJolP63GwiLn+t64aXO6fNZT/VzfQD/Xtj5s3IwbQYHcvXs712uvYsuWX9m9aydfDRuBra0Na9euYcKEcfzww0/5Hsefx46xbNkyBg8egqeXJzt27GDChHH89NPP6iz5tLQ0KlWuQqXKVVi9amWe2ylXrjwdO3bCytKKx1FRLF++jJkzpzN37ncFOiablk3wmDiSwLHTiL94Gcc+3ai47kdO1WtJRlR0rvKuo4Zg+0lzAkdNIfnWHazq1aLcz/M517obCdeuq8slXr/Jhc591c9VmVkFivNldGplR9umNnz7/W3CH6Xh18GBb8Z60mvElXyvt8P7O+PsYMisJbeJiknnwzrFmD3ek97Dr2hcb8/4xzJ76R318zd1vX3Xj0HOp7enLl6FtrER8ZeDuL9qK1W2LCnSWPLzvtTHu1AX4v0k3bTFW2nevHmULVsWY2NjHB0dGTRoEImJuX+g7tixA3d3dwwMDGjSpAn379/XeH3p0qW4urqip6eHp6cna9eu1XhdoVCwdOlSWrVqhbGxMTNmzCArK4vevXvj7OyMoaEhnp6eLFiwQL3O5MmTWb16NTt37kShUKBQKDh69CgAV65coWHDhhgaGmJtbU2/fv004vbz86NNmzbMmDEDe3t7PD09mTp1KmXK5M6WqVChAhMmTHju+2RtbY2tra3G4+nG1G+++QYbGxtMTU3p3bs3Y8aMoUKFCurX69evnytTr02bNvj5+amfP9tN+8l71qxZMwwNDXFxcWHLli3q1+/evYtCoWDz5s3UqVMHQ0NDqlatyo0bNzh79ixVqlTBxMSEZs2a8ejRI419//zzz3h7e2NgYICXlxfff/99ru1u27aNBg0aYGRkRPny5Tl9+jQAR48epWfPnsTFxanrZfLkyQB8//336vPExsaG9u3bP/d9fdqHH36Ira0ts2bNem65rVu34uvri76+Pk5OTsydO1f9Wv369bl37x5fffWVOrb8vMy5v2rVKkqVKoWRkRFt27YlKioq13Z27txJpUqVMDAwwMXFhSlTppCZmal+/ebNm9StWxcDAwN8fHw4cOAACoVCne179OhRFAqFRpapv78/CoWCu3fvAhAVFUXnzp0pWbIkRkZGlC1blo0bN6rL+/n5cezYMRYsWKA+7ifrXr16lWbNmmFiYoKNjQ3dunXj8ePHz32PX8XWHbv4uEljmjZuROlSjnz5+QD09fXZdyDvO8Hbdv1G1coV6diuLaUdHenZrQturi7s/G2vRrnHj6NY/OPPjB3xFTo62rm2075NK3y8PLEpUQJfby86ffoJgUE3NN77gmr/sS1rt4Vy8lwMt0NSmLU4mGKWenxQNe/Gcj1dBXWrW/HjuvtcDkzgYUQaq38N5WF4Gq0+stEom5GpJCYuQ/1ITHozP870qjQg/fJpMq7+jTIqnJQ/fkGVkY5emZr5r6RSoUpKyHkkJ2i+/PRrSQnoupUjK+Qmqrjc/x+vg1nj1iSc+IOkU4fJCHtA9PqlqNLTMKndKM/yyuRElPGx6oeBTwVU6Wkkn8/J1kk+8yepgZfJfBxBRth9Yn5dgZahMXoOTm/kGAA27v6DVh/WpUXDD3B2tGdUv27o6+vx2+ETeZb3cXNmSPcONP6gOrq6+d/TTk5JZfKCZYwZ0APT15xdr1Kp2L1jKx06fUb1mrVxcnbli+FjiI56zN+n844bYOf2X/mo6cc0+qgZjqWcGDj4K/T19Tn0x+8a5fT19bG0slI/jIw04+87YAgft2yDja1dgY9j547tdOzUmZo1a+Ls7MLw4SOJjori9OlT+a63ffs2mjZtSuOPPqJUqdIMHjwEA319/vhjv7pMmzZt6dChI15eXvlup23bT/Dy8qaEjQ0+Pj58+mkHgq5fL/D1qlS/7oRu3ErY5h0k3bzN9TFTyUpNwb5T2zzL233SgruLfibq8HFSQh4QunYzUYePU6p/D41yqqws0h9FqR8ZMbEFivNlfNLMhnXbH3LqfCy3Q1L4dsnt7Ottledcb6tZ8dOG+1y5nn29XbMl+3rbsnEJjbIZGapCud6+68cg59PbUxev4tH+P7kxaT4ROw8WaRzP877Ux7tQF28LpVJVJI/3lTRGireSlpYWCxcu5Nq1a6xevZrDhw8zatQojTLJycnMmDGDNWvWcPLkSWJjY+nUqZP69e3bt/PFF18wfPhwrl69Sv/+/enZsydHjhzR2M7kyZNp27YtV65coVevXiiVShwcHPj1118JCAhg4sSJfP3112zevBmAESNG0KFDB5o2bUpYWBhhYWHUqlWLpKQkmjRpgqWlJWfPnuXXX3/l4MGDDB48WGN/hw4dIigoiAMHDvDbb7/Rq1cvAgMDOXv2rLrMxYsXuXz5Mj179uTf2rx5M5MnT2bmzJmcO3cOOzs7jca9gpgwYQLt2rXj0qVLdO3alU6dOhEYGKhRZtKkSYwfP54LFy6go6NDly5dGDVqFAsWLOD48ePcunWLiRMnqsuvX7+eiRMnMmPGDAIDA5k5cyYTJkxg9erVGtsdN24cI0aMwN/fHw8PDzp37kxmZia1atVi/vz5mJmZqetlxIgRnDt3jqFDhzJ16lSCgoLYt28fdevWfelj1dbWZubMmSxatIgHDx7kWeb8+fN06NCBTp06ceXKFSZPnsyECRNYtWoVANu2bcPBwYGpU6eqY8vPi879v//+m969ezN48GD8/f1p0KAB06dP19jG8ePH6d69O1988QUBAQH8+OOPrFq1ihkzZgCgVCr55JNP0NPT4++//+aHH35g9OjRL/2ePJGamkrlypXZs2cPV69epV+/fnTr1o0zZ84AsGDBAmrWrEnfvn3Vx+3o6EhsbCwNGzakYsWKnDt3jn379hEREUGHDh1eOYa8ZGRkcONWMJUqlFcv+z979x0f8/0HcPx1l3FJZAuRRMiSpcTWoEaNqlZRrVFtKUUppUapmlGrRq0uas+qWR38Wluq9ipJECNGBsllSXIZd78/UhcnCSHhgvfz8bjHI/e9z/d770++3/sk9/5+hlKppFaN6pwNL3jI8dnwCIPyAHVr1eBseN6QGq1Wy9RZs+n0Zjs8Kld6YBzJKSns2L2XwAA/TE1LZiCCS3kVZR3MOXoqr5fc7fQcwi6kUtXXpsB9TEwUmJgoyMwyvCuvydRSzd9wnxqBtmxcWItls6sz+EMPbK0fwwAKpQkmFdzJvnL3udCRfSUCE1ePwvczV2HTZwI2fUOwat8bZdkKhRZVWNlg6lWVzNMHSixsAyammFfyJiPsVN42nY6MsJOovPwK3+8u1o1acPvwfnSZhQwHMzHF5qVWaNNuk3ntUsFliikrK5uIi1eoWz1vmLJSqaRutUD+jYgs1rFn/LiKBrWqU696YHHDzCc2Jhq1OoHqNfKmUShTxhpfvwAiws4WuE9WVhaRF84Z7KNUKgmqUZuIcMN99u7awXtd2vNJv56sWLIQTUZGidcBICYmBrVaTY0aNe+qRxn8/PwJv+dv6t31uHDhvME+SqWSGjVqEh5e8D5FkZKSwu5duwgICChWe6UwM8WmWiAJ+/7J26jTkbDvH+xrBRW8j8ocrcbwc5CTocG+bk2DbVaelXjpyA4ahP5B1XlTUbkW3gaUhDvt7bHT+dvbQF/rAvfJa28Nv1xqMrW8cE97GxRow/ofarJ0VjUG9ar8WNrbp70Ocj2VnnPxrJHzIYTxyadClEp399bz8PDgyy+/5KOPPjJIpmVlZTF//nzq168PwLJlywgICODQoUPUq1ePGTNm0KNHD/r3z50TZsiQIfzzzz/MmDGDZs2a6Y/zzjvv5Ev6TZgwQf+zp6cnBw4cYN26dXTq1Alra2ssLS3RaDRUqJD3j8uyZcvIyMhg+fLl+jkW58+fT9u2bZk2bRrOzrk9kMqUKcOPP/5oMPzqlVdeYcmSJdStWxeAJUuW0KRJE7y8Cp6z644GDRqgVBreU7jTi2727Nn06tWLXr16AfDll1/y119/kVECX6refvttPvzwQwAmTpzIn3/+ybx58wzOz7Bhw3jllVcAGDRoEF27dmXHjh00bNgQgF69eumTdZCbvJw5cyZvvvkmkPt7v5NI6969u8FxX3vtNSD3PFWtWpULFy7g7++PnZ0dCoXC4LxERUVRpkwZXn/9dWxsbKhcuTI1axr+Q/ogHTp0oEaNGowbN45Fixble33WrFk0b95c35PV19eXs2fPMn36dHr06IGjoyMmJibY2NgYxFaQB137c+bMoXXr1voEpa+vL3///Tfbtm3T7zdhwgRGjhyp/715eXkxceJEPvvsM8aNG8dff/1FeHg427dvx9XVFYDJkyfz6quvPtTvxc3NjWHDhumfDxw4kO3bt7Nu3Trq1auHnZ0d5ubmWFlZGdR7/vz51KxZk8mTJ+u3LV68GHd3d86dO4evb/55HTUaDZp7vlyoVPmHTgIkJaeg1WpxsLcz2O5gb8/Va9cL3EetTsw3fNve3p6ERLX++dr1mzAxMaHDG68XeIw7Fi5ZzpZffydDoyHAz5cvx31x3/IPw9E+t+ezOinLYLs6KUv/2r3SM7T8G5HCex3duHI9HXViFi83KkugrzXXY/Lag0MnEtl3MIHoOA2uFSz4sKs7U0f5MeCLM5TkTVuFZRkUShN0aYbDjnVpKSgdnQvcR6uOJX3banJuXkdhbomq7stYdxtCyuLJ6FIT85U3e6EeuswMss6dzH+wEmBibYPCxIScZMP3zklJwszlwUOSzT2qYO5Wmfhl8/O9ZlmtDk69h6IwV5GTpCb263FoU1MKOErxJaakkKPV5huO7Whvy5Xrhd80eZA/9x8k4tIVFk+9f+/+R5Wozh2aaX/P1Bl29g6o1fmHbQKkJCeh1WoL3Ofa1Sj988ZNm1O+vDMOjmW5cvkiyxcv4Pr1q4wcHVLCtQC1Ord9cXCwN9hub2+vf+1eycnJ/9Uj/z73jg4pisWLF/Hr1l/QaDT4+/szbnzx6mnm6IDS1JTMm4Y9kjNvxVPGp+C5rhP2/E2l3u+jPniU9MtXcWz0IuVfbY5Cmdf7POn4ac58Ooa0i5cxL++E16f9qLNxGf8070DO7bRixVwYh/u0tw73aW/PnEvh3TddibrT3jbMbW9v3NXeHj6RxL5DamLiNLg6q+jVxZ0pI8swcMzZEm1vn/Y6yPVUes7Fs0bOhyiITBn5ZEkyUpRKf/31F1OmTCE8PJzk5GSys7PJyMggLS0NKysrAExNTfXJOwB/f3/s7e0JCwujXr16hIWF0adPH4PjNmzY0GDINUCdOnXyvf8333zD4sWLiYqKIj09nczMTIPhzQUJCwsjKCjIYLGXhg0botVqiYiI0Ccjq1Wrlm8eqN69e9OzZ09mzZqFUqlk9erVfP31g+ds+umnnwgICCjwtbCwMD766CODbcHBwfl6hj6K4ODgfM9PnDhhsK169er6n++u+93b4uLiALh9+zaRkZH06tWL3r3z5u/Jzs7Gzs4woXT3cV1ccofIxcXFFToUrWXLllSuXBkvLy9at25N69at6dChg/46Kqpp06bx8ssvGyTf7ggLC6Ndu3YG2xo2bMjs2bPJycnBxCT/cN7CPOjaDwsLo0MHw6FJwcHBBsnIkydPEhoaqu8JCZCTk6M/TlhYGO7u7vpE5J1jPKycnBwmT57MunXruH79OpmZmWg0mgf+bk+ePMmuXbvyLaYAEBkZWWAycsqUKQY3CSA3gd2rW8n0pnyQcxci2fTLr3w3Z+Z9h9kDdHqzPa+2ak5s3E2Wr/mJabPmMmncFw/cryAtGpVlSJ+8L1yfT3m0xWSmzI/ks35erP+hFjk5Os5dus3O0Hh8PfPaq11/5yVxLl1N5+KVNFbPr0GNqrYc+/fxzFdYVDk3LpNz47L+edqNi1j3HI15UEM0ob/lK2/+QjBZYUcgp+SGx5ck60YtyLx2ucDFbjIiThM98VOU1rbYvNSKcn2HEz3lswLnoSyNYm8l8PWStcwdMwSVecnMwbxn1198N2+W/vnoCfefNqM4Xnk172aDh6cXDg6OjB01jOjo67i43H9RmQfZtWsn8+fN1T8fP6HkE5wPq2PHt3il1SvExcWxevVKZs6czvjxIY/UXj2qiLFTCfhqPA12/4JOpyP9ylVu/LQF1y7t9WXid901/D7sHMnHT9Pon+04t32FG2s3lUgczRuW5dPeHvrno6Y92mITU765yPC+nqz7riY5OTrOX7rNrtB4qnjd1d4euKe9jUpn5dwggqracrwY7e2zUIfikuup9JyL0kTOhxCljyQjRalz+fJlXn/9dfr168ekSZNwdHRk//799OrVi8zMzIdOIj3IvStFr127lmHDhjFz5kyCg4OxsbFh+vTpHDx48LG8H0Dbtm1RqVRs2rQJc3NzsrKyijSvobu7Oz4+Po8ci1KpzLdqWFZWViGlH87dc1fe+VJz7zatNnfY6J3enAsXLtT3dL3j3kReQce9c5yC2NjYcOzYMXbv3s3//vc/xo4dy/jx4zl8+LB+ov+iaNy4Ma+88gqff/65wZyaJamkrv3U1FQmTJig72V6NwsLiyId406P27uvj3uvjenTpzNnzhxmz56tn+dy8ODBZGZmPjC+Oz2G73UnwXyvzz//nCFDhhhsU6lUxEXlH0pqZ2uDUqlEnWiYvFEnJubrgXSHg4M96ntWYU9MTMTxv0UtTp85S2JSEu98kJcs12q1/LBoKRu3bGXV4gV5729ni52dLRXd3KjkXpGuPXoTFh5BYEDhc7cVJvSImrPn8+YMNTfLPS8OdmYkJOadDwc7My5cLrw3x41YDYPHh2GhUmJlaUJCYhZjB/sQHVd4T+noOA2JyVm4VbAo0WSkLv02Om0OCivD3ngKKxt0t4v4Plot2rhrKB3yL7Bl4uaNSVln0rYWvGhHSchJTUGXk4OJrb3he9vYkZNUcI+2OxTmKsrUbUTiljUFvq7L1JB9MwZuxhB/6RyuE7/FumELkrdtKKnw9extbDBRKklIMvy9JyQmU/aensVFFX7xMuqkZHp8lpdoy9FqORF2jg1/7GTPmh8wMXm4WYLq1W9gsOJ1VlZuG5OoVuPomLdoW1KiGk+vgv8m2tjaoVQqSbynx2FSohqHAhajusPXP/d9Y27cKHYysn79F/Hzy2sH7tRDrU40qEdiYmKhIyNsbW3/q0eiwfbExEQcHB9+kTU7Ozvs7Oxwq1gR90rudH//PcLDwwgIeLTh9VkJarTZ2ZiXM1xMz9ypLJlxBc/fmpWg5tSHg1CqzDFzsEcTE4fPqE9Jv1Lw1CgA2ckp3L54BUuPB0+ZUVR/H1UTdiGvvTW7T3sbeaXw9jY6VsOQkHCD9nb0IG+iYwtfoVff3jqrOF7wItHPTR3uJtdT6TkXTzs5H0KUPpKMFKXO0aNH0Wq1zJw5U58QuTNf492ys7M5cuQI9erVAyAiIoLExER9T8GAgABCQ0MNhviGhoYSGHj/f7BDQ0Np0KCBfng35PbWupu5uTk5OYYTEQcEBLB06VJu376tTziGhoaiVCrx87v/HGKmpqZ0796dJUtyVwHt0qULlpaW993nQQICAjh48CDvv/++fts///xjUKZcuXIG8xfm5OTw77//GgxjL8g///yT77gPO/T5bs7Ozri6unLx4kW6dev2yMcp6LxA7u+3RYsWtGjRgnHjxmFvb8/OnTsLTNbdz9SpU6lRo0a+83nnWrtbaGgovr6++mRqYbHdrSjX/p3zerd7z2utWrWIiIgoNFEdEBDA1atXiY6O1if/Cro2AKKjo/WriN/b+zU0NJR27drx7rvvArnJuXPnzhl8xgqqd61atdiwYQMeHh5FnptMpVIVOiz7XmZmZvj6eHPs5CkaBtfXx3b85GnavV7wUPRAfz+OnzhFx3Zt9duOHj9JoH9uL80WzZpQK6i6wT4jx4bQ4uUmtG5R8IIlue+bm8zNzHq0HnrpGVrSMwz/wY1XZ1Krmq3+n2UrSxMCfKzZ8r/YBx4vQ6MlQ6PFuowJdYPs+GFlVKFlnRzNsbU2JV59/+TyQ9PmkBNzFdPKvmRfuDPnogLTyr5kHttXtGMoFCidXMm+dCbfS+bVg8mOiUJ7s+Ah+SUiJ5vMqEgs/KuTfuKgPiaLgOqk7Pr9vrta1W6IwtSM2wf3FO29lEoUZiXTw/BeZmam+HlV5sjpMJrUqwXkflaOnA7jrVdffqRj1qkWwMpZhr2YJ32zhMpuFXi3/asPnYgEsLSywvKumzE6nQ4HB0dOnTyGl3duO5eWdptzEWG0fu2NAo9hZmaGt48vp04e48UGjYDcup46cYw2bdsX+t6X/vv7f7+EZVFZWVkZ3FTKrYcDJ0+ewNvbW1+PiIhw2vw3HUlB9fDxqcKJkycIbtBAX48TJ07wetu2Be5TVHfaq+LclNRlZZNy+iyOjepzc/vO3I0KBY6NXuTq0oIT8Pr312SiiYlDYWpK+TYtiN26vdCyJlaWWHm4E7Nx6yPHeq9C29sX7m5vlQT4WLP1z7gHHs+gva1ux4LVhQ+jd3I0y21vE4t3Q/hZqMPd5HrKY+xz8bST8yGKQifj6J8oSUYKo0lKSsqX3Chbtiw+Pj5kZWUxb9482rZtS2hoKN9//32+/c3MzBg4cCBz587F1NSUAQMG8OKLL+qTk8OHD6dTp07UrFmTFi1asHXrVjZu3Mhff91/JbEqVaqwfPlytm/fjqenJytWrODw4cN4euYNlfTw8GD79u1ERERQtmxZ7Ozs6NatG+PGjaN79+6MHz+emzdvMnDgQN577z39MOX7+fDDD/WJ1HsTW4WJj48nJibGYJu9vT0WFhYMGjSIHj16UKdOHRo2bMiqVas4c+aMQW+Ll19+mSFDhvDbb7/h7e3NrFmzDFZPLszPP/9MnTp1aNSoEatWreLQoUMFzqX4MCZMmMAnn3yCnZ0drVu3RqPRcOTIEdRqdb4ecYXx8PAgNTWVHTt2EBQUhJWVFTt37uTixYs0btwYBwcHfv/9d7Ra7QMTxAWpVq0a3bp1Y+7cuQbbhw4dSt26dZk4cSKdO3fmwIEDzJ8/32AOTQ8PD/bu3UuXLl1QqVQ4OTnlO35Rrv1PPvmEhg0bMmPGDNq1a8f27dsNhmgDjB07ltdff51KlSrx1ltvoVQqOXnyJP/++y9ffvklLVq0wNfXl+7duzN9+nSSk5P54gvDeQ19fHxwd3dn/PjxTJo0iXPnzhmsEA65n5X169fz999/4+DgwKxZs4iNjTVIRnp4eHDw4EEuX76MtbU1jo6OfPzxxyxcuJCuXbvy2Wef4ejoyIULF1i7di0//vjjQw1rL0zH9m/w1ddz8avijZ9vFTZu+ZWMjAx94nDqzDk4lXXkwx7vAfDmG68zZORoft64hfp1a7Nr737OXYjk0wH9ALCztcXO1rAnn6mpCY4ODrhXzO0tFRZxjohzF3ihagA21mW4ER3D0pVrcHWpQGDAw19vhVn/ewzvvenG9egMouM09OxSkVvqTPYfzuvxNXOMP/sOqdm8PTdBWTcot5fb1RsZuFVQ8dF7lYi6nsEfu3NXMLdQKen+tht7D6pJSMzEzdmCvu9W4npMBodPlvzw4Mwju7Bs8y45MVHkRF/BvE5TFGYqMv/NTYpbtnkPbUoimn25XwxVwa3Jib5MjvomCpUlqnotUNo6kHnqngVqzC0w861Bxu6SGWZ3P8l/bsHpg0FkXrmA5tJ5bFu0RWFuQWpo7ortZT8YRE5iPImbVhrsZ92oBWknDqK9bTgPpMJchV2bt0k7eYicJDUm1rbYNHsVU3tH0o4U7W/Co+jathUT5y/C39uDqj6erP3tLzI0Gl5vlju/74S5P1KurAP9u3UEche9uXTtBpB7U/Bmgppzl6KwtFDh7uJMGUtLvCsZzptpoVJha2Odb/ujUigUtG3fkZ/XrsTV1Y3yzi6sXrEEx7JO1A9upC835vOhvNigEa+1zZ3aol2Ht5kzayo+Vfyo4uvP1i0byNBk0LxlawCio6+zd9dOatetj42tLVcuRbJowbdUfaE6Hp7e+uNG37hOeno6iWo1mRoNFyMvAOBeqbJB7/2i1KNd+w6sXbsGV1dXKjhXYMWK5TiWLUtwcAN9uVGfjyS4QQPats1NtHbo8CazZs2gSpUq+Pr6sWXLJjI0GbRs2Uq/T0JCAmq1mugbuefq8uXLWFpaUr58eWxsbAgPD+f8+XMEBlbFxtqa6OhoVqxYjouLS6HTvxRV1ILlBH49ieSTZ0g6cZpKH76HiaUl0T9tBqDq7ElkxMQROTV32hzbmtVQVShP6pkIVBXK4zWkHyiUXPkur3dzldFDufnXHjKu3UDlXA6voR+jy8khZvMfBYVQYjb+EUu3Dq5ci8kgJk7DB53+a2+P5LW300f7sf+wmi3bcxMYdarboVDA1RvpuFWwoE83d6JuZLDtrvb2/bfc2HcwgYSkLFydLejzjjs3YjUceQzt7dNeB7meSs+5eBgmZawo45PX09TKsyK2Qf5kJiSRcfXR5yQuSc/L+XgazoV4PkkyUhjN7t278/Wm69WrFz/++COzZs1i2rRpfP755zRu3JgpU6YY9MSD3B4GI0aM4J133uH69eu89NJLBgmx9u3bM2fOHGbMmMGgQYPw9PRkyZIlNG3a9L5x9e3bl+PHj9O5c2cUCgVdu3alf//+/PFH3j8ovXv3Zvfu3dSpU4fU1FR27dpF06ZN2b59O4MGDaJu3bpYWVnRsWNHZs2adZ93y1OlShUaNGhAQkJCvqHKhWnRokW+bWvWrKFLly507tyZyMhIPvvsMzIyMujYsSP9+vVj+/a8O8M9e/bk5MmTvP/++5iamvLpp58+sFck5CYO165dS//+/XFxcWHNmjUP7HH6IB9++CFWVlZMnz6d4cOHU6ZMGapVq2awoMuDNGjQgI8++ojOnTsTHx/PuHHjaNGiBRs3bmT8+PFkZGRQpUoV1qxZQ9WqVR8pzpCQEH766SeDbbVq1WLdunWMHTuWiRMn4uLiQkhIiMFw7pCQEPr27Yu3tzcajSbf8HiAoKCgB177L774IgsXLmTcuHGMHTuWFi1aMHr0aCZOnKgv88orr/Drr78SEhLCtGnTMDMzw9/fX7/okFKpZNOmTfTq1Yt69erh4eHB3Llzad26tf4YZmZmrFmzhn79+lG9enXq1q3Ll19+ydtvv60vM3r0aC5evMgrr7yClZUVffr0oX379iQl5f2zNWzYMLp3705gYCDp6elcunQJDw8PQkNDGTFiBK1atUKj0VC5cmVat26db0GmR9WscSOSkpJZunItarUaby9PpoSM1Q/Tjrt5E6Uyb060qgH+jBr+KUtWrGbx8pW4ubow4YuReHpULvJ7qlQq9h84wLLVa8jI0FDW0YE6tWoypvMwzEuwZ9vaLdFYqpQM7euJtZUpp8NTGDE5gqy7Vnd0dbbAzjbvT3wZKxM+7OpOubLmpKRms/dgAovWXCMnJ3cfrVaHdyUrXmlSDusyJsQnZHHkVBKLf7pKVnbJ3yXOijiGwsoai4avoShjQ07cdW6v/xZdWm6CTmnjYDCLuMLCCstWXVGUsUGnSScn5iqpq79GG294M8bMvxYoFGSGHS3xmO+VdiQUtY0d9m90xcTWgcxrl4ibO0E/t6OpY7l8M6GbOrtiUSWQ2K/H5TueTqvFrIIb5YJHYGJtS87tFDIvnyfmq1FkRT/8wiRF1aJhPdTJKfy4djPxiclU8XDn6y8+xfG/YdqxtxIMPiu31Il0H57X83H1L9tZ/ct2agb68W3IZ48tznt1eKsLGRkZfDtvFrdTUwmoWo2xIVMN5mSOib5B8l3tUaMmzUhKTmTNiiWo1Wo8vbwZFzINe4fcXo+mpmacOnGUX7dsICMjHady5Qlu2JhOXd81eO/5c2Zw5nTe4khDBubOT/3DktU4Oz/cirxvvfU2GRkZzJs3l9upqQRWrcrEkC8N6hF9Tz0aN2lCUnISK1esQK1W4+XlRUjIl/pe7AB//P4bq1ev0j8f8VnufMeDPx1Cy5atsFCp+Ds0lFUrV5CRkYGjoyO1a9ehc5dRmJkZzmv9sGK3bsesrCNewz5GVc6JlLPhHH/vIzJv5Q6rtXBzMeh9olSp8B4+EMtKFclJSyN+5z7+HTSK7OS8hL3KxZlq86dh5mBPZoKaxEPHOPxGN7IS7j8tQnGt/SUaC5WSIb09ctvbiBQ+n3ouf3trk9fG57a3FXFyzG1v9x1Ss3itYXvrVcmKVo2dcttbdW57u3TdtcfS3j7tdZDrqfSci4dhV/sFgnes0D8PnDEKgKvLN3Kq1+fGCsvA83I+noZzUVpoZQWbJ0qhK+gbsRDiidPpdFSpUoX+/fsXuSfgwxo/fjybN2/O1yP1YSgUCjZt2kT79u1LLC5ROjyN5/bq+bPGDqHY3KsE0qxTycxJayy71tUnafpAY4dRbHbD53GlT3tjh1EslRdsJuH0/gcXLOUcqzUiLPIxDrV/QgK83bgQecnYYRSLj7cnf1Ws9uCCpVyLa6dp3uWQscMolh1r6z31dYDcesg1VTrsWFuP38xKbvSGsbyWFSHnopR4LevRFlssDQbONs4CQ/MG2z640DNIekYKUQrcvHmTtWvXEhMTwwcffGDscIQQQgghhBBCCCEeC0lGClEKlC9fHicnJxYsWGAwzEo8PlFRUfcdWn727FkqVSq5VRWFEEIIIYQQQpROsoDNkyXJSCFKgSc1W8L48eMZP358sY7xrMzs4Orqet/h6q6urk8umFLiWTm3QgghhBBCCCFKL0lGCiGeS6ampvj4+Bg7DCGEEEIIIYQQRiY9I5+sklm2VAghhBBCCCGEEEIIIR5AekYKIYQQQgghhBBCiOeWdIx8sqRnpBBCCCGEEEIIIYQQ4omQZKQQQgghhBBCCCGEEOKJkGHaQgghhBBCCCGEEOK5JQvYPFnSM1IIIYQQQgghhBBCCPFESM9IIYQQQgghhBBCCPHc0umkZ+STJD0jhRBCCCGEEEIIIYQQT4QkI4UQQgghhBBCCCGEEE+EDNMWQgghhBBCCCGEEM8trSxg80RJz0ghhBBCCCGEEEIIIcQTodDJLJ1CCCGEEEIIIYQQ4jn14aRbRnnfH79wMsr7GpsM0xZCCPHUOnMh2tghFFtVHxd+t/I3dhjF0iYtnC8Wa4wdRrFN6qmi+9gYY4dRLMtCKnDsXLyxwyi2Wr5luRFxythhFJurX3UuRkYaO4xi8fL25qV2+4wdRrHt2/ISv5n5GTuMYnktK+KprwPk1kOuqdLhtawImnc5ZOwwim3H2npyLkqJHWvrGTsEcZeEhAQGDhzI1q1bUSqVdOzYkTlz5mBtbV1g+cuXL+Pp6Vnga+vWrePtt98GQKFQ5Ht9zZo1dOnSpcixSTJSCCGEEEIIIYQQQjy3dM/gnJHdunUjOjqaP//8k6ysLD744AP69OnD6tWrCyzv7u5OdLRhZ48FCxYwffp0Xn31VYPtS5YsoXXr1vrn9vb2DxWbJCOFEEIIIYQQQgghhHhGhIWFsW3bNg4fPkydOnUAmDdvHm3atGHGjBm4urrm28fExIQKFSoYbNu0aROdOnXK15vS3t4+X9mHIQvYCCGEEEIIIYQQQgjxhGk0GpKTkw0eGk3xpz86cOAA9vb2+kQkQIsWLVAqlRw8eLBIxzh69CgnTpygV69e+V77+OOPcXJyol69eixevJiHXY5GkpFCCCGEEEIIIYQQ4rml0+qM8pgyZQp2dnYGjylTphS7PjExMZQvX95gm6mpKY6OjsTEFG2O9EWLFhEQEECDBg0MtoeEhLBu3Tr+/PNPOnbsSP/+/Zk3b95DxSfDtIUQQgghhBBCCCGEeMI+//xzhgwZYrBNpVIVWn7kyJFMmzbtvscMCwsrdlzp6emsXr2aMWPG5Hvt7m01a9bk9u3bTJ8+nU8++aTIx5dkpBBCCCGEEEIIIYR4bmkfcphxSVGpVPdNPt5r6NCh9OjR475lvLy8qFChAnFxcQbbs7OzSUhIKNJcj+vXryctLY3333//gWXr16/PxIkT0Wg0Ra6LJCOFEEIIIYQQQgghhCjlypUrR7ly5R5YLjg4mMTERI4ePUrt2rUB2LlzJ1qtlvr16z9w/0WLFvHGG28U6b1OnDiBg4PDQyVVJRkphBBCCCGEEEIIIcQzIiAggNatW9O7d2++//57srKyGDBgAF26dNGvpH39+nWaN2/O8uXLqVevnn7fCxcusHfvXn7//fd8x926dSuxsbG8+OKLWFhY8OeffzJ58mSGDRv2UPFJMlIIIYQQQgghhBBCPLd0WuMM036cVq1axYABA2jevDlKpZKOHTsyd+5c/etZWVlERESQlpZmsN/ixYupWLEirVq1yndMMzMzvvnmGz799FN0Oh0+Pj7MmjWL3r17P1RskowUQgghhBBCCCGEEOIZ4ujoyOrVqwt93cPDA10Bc2VOnjyZyZMnF7hP69atad26dbFjk2SkEEIIIYQQQgghhHhuFZSUE4+P0tgBCCGEEEIIIYQQQgghng+SjBRCiFJo/Pjx1KhRw9hh4OHhwezZswt9/fLlyygUCk6cOFHkYy5duhR7e/tixyaEEEIIIYQQ4ukjw7SFEEXWo0cPli1bBoCpqSmOjo5Ur16drl270qNHD5TKkru/4eHhweDBgxk8eHCJHfNuTZs2pUaNGvdNtBXF7t27adasmf55+fLladSoEdOnT8fLy6tIx1AoFGzatIn27dvrtw0bNoyBAwcWK7Z7LV26lMGDB5OYmFhix3R3dyc6OhonJ6cSO2ZJ0el0rF25hD+3/0ra7VT8A16gz8dDcHWreN/9/vh1E5s3rCVRnYCHpw8ffvQJVfwCDMpEhJ1h1fIfOR8RhlKpxNPLhzETp6NSqQDo+0FnbsbFGuzzbvfevNmpW7HrVbnvO3gO7oXK2YmU0+GcGfolSUdOF1hWYWqK9/A+uHVrj4WrM7fPXSJ8zAxu/bk/r5BSSZXRA3Dr8gYqZycyouO4vnITF6Z+V+xYH1bzmibU9TPBwhyuxOn45e9s4pPvP2TG1gpeqWOKb0UlZqYQn6xj475srsc/uaE2HV62pmltS6wslJyPymTZ1mRiE3IKLT/j03KUczDJt/2vg7dZ8VsKTvYmzBxSrsB95/+k5vAZTYnFDrmflfWrfmTn/37h9u0U/AKq07P/cFxc3QvdJ+zf4/y6cTUXIyNITLjFkFFTqBvcxKDMob9389cfm7gUGUFqSjJT5izFw8u3RGLe9Ns2ftr0CwnqRLw9K/NJn54E+FYptPzu/QdYvGotMXE3qehagT7d3+XFOrUMyly5eo0Fy1Zy8t+z5ORoqexekQmfD8W5XO65GDxqHCf/PWuwT9vWLRnSv0+RYt66dSvrN2xArVbj5elJv3798PPzK7T8vn37WL5iBbGxsbi5uvJBz57Uq1tX/7pOp2PFypVs27aN27dvExgYyICPP8bNzU1fZvyECVy8eJHExESsra2pWaMGPXv2pGzZsgDExsbS44MP8r33rFmzCPD3L1K9CtPrncq0bVkB6zImnA5PZuZ3F7gWnVFoeUtLEz58pzKNXyyLg50Z5y7dZu7CSMIvpOaVsVDS931PXqpfFjsbU6LjNKz/9TpbtsUUK9bicGxUB6+hvbCr9QIWruU50rE/sb/sMFo8j+JpqYNcU6VHj7fdaPNyOazLmPJvRApzFl3mekzhf5ssLZR80Kkijeo6YG9nxoXLt/lmaRQRF2/ry3zWz5NXmhj+7Tt0IpHPp557bPV4EDkXeYx9Lp4E7TO4gE1pJslIIcRDad26NUuWLCEnJ4fY2Fi2bdvGoEGDWL9+Pb/88gumpqWrWcnMzMTc3Pyxv09ERAQ2NjacP3+ePn360LZtW06dOoWJSf6EQ1FYW1tjbW1dwlGWPBMTEypUqGDsMAq0af0aftu6gU8+/ZzyFVxYs2IxE8cMZ873SzE3VxW4z/69O1my8Fv6DhiCr18Av25eT8iY4cxbsAJ7ewcgNxE5cexnvPn2O3z40SeYmJhw+VIkSqXC4Fhd3u1Jy1de0z+3tLIqdp1cOr6K/9SRnPlkPImHT+IxoDv1tvzInhqvknkzIV9533GDcOv6Bqc/HkNqxEXKtWxE7bXzOfByV5JPhgHgPbQ3lT/sysk+I0k9ewG7Wi9Q/YfJZCWlcuW7FcWOuaheqmZCcKAJG/Zlk5Cio2UtE3q8YsacjZlkF5LXszCHPq+ZczFay7L/ZXE7Q0dZWwXpmU/un8k2jcrQsr4VCzclcUudw5svWzPsfQdGzb9FVnbB+0z44ZbB9eJW3pQRPRz1Scb4pBw++SrOYJ+mdSx5tWEZTp3PLPE6bN2wkm2//ky/waMp5+zKz6sWMHXsp0z/dlWhnxVNRgaVPH1o2vJ1Zk3+vJAy6fgFBvFio+YsnD+1xOLduS+U7xYt49P+fQjw9WH9L7/x2bhJLP9uDg72dvnK/xsWwcQZs+n9/jsE163Njj37GTP5KxZ8/RWelSsBcD06hk9GjuHVFi/To2tnrKwsuRx1FXMzw78fr7VqTs9unfXP79yAeJA9e/awYOFCBg4YgJ+/P5s3b2b0mDEsXLCgwJ7iZ8+eZeq0aXzQowf16tVj9+7dTJw4kXlz5+Lh4QHAz//93R06ZAgVKlRg+YoVjB4zhh++/17/dy+oenU6d+6Mo4MD8fHx/LhoEZMmT2bWzJkG7zd58mQqV6qkf25ra1ukehXmnTcr0vE1VybPiSA6NoNe3TyYOf4F3htwlMysgj+fIwZUwauSFV9+HcGthExaNS3P1yHVeG/AUW4l5F73A3p6Uau6PRO/jiAmLoO6NRwY8pEPtxIyCT2Uvw18EkzKWJF8KoKrSzdQZ/03RomhuJ6GOsg1VXp0ecOFDq2dmfbtRWJuaujRqSJTP/ej57DTZBVyLob29cSzoiVTvrlIvDqTFi858dVoP3oNPc0tdZa+3KETiXz13SX986xs7WOvz/3IuSg950I8e2SYthDioahUKipUqICbmxu1atVi1KhRbNmyhT/++IOlS5fqy0VFRdGuXTusra2xtbWlU6dOxMYa9hTbunUrdevWxcLCAicnJzp06ADk9lq8cuUKn376KQqFAoUi70v7hg0bqFq1KiqVCg8PD2be84XKw8ODiRMn8v7772Nra0ufPvl7rPTo0YM9e/YwZ84c/fEvX74M5H5hrFevHiqVChcXF0aOHEl2diEZhbuUL18eFxcXGjduzNixYzl79iwXLlzg8OHDtGzZEicnJ+zs7GjSpAnHjh0ziBegQ4cOKBQK/fOChmn/+OOPBAQEYGFhgb+/P99++63+tTvDpTdu3EizZs2wsrIiKCiIAwcOALk9OD/44AOSkpL0dR4/fvwD6wWQlpZGz549sbGxoVKlSixYsCDf+949TPuXX36hSpUqWFhY0KxZM5YtW4ZCocjXI3P79u0EBARgbW1N69atiY6OLlI8RaHT6fh1y3re6vwe9YIb4eHpzSdDPych4RaHDuwvdL+tm36mZevXaN7yVdwredB3wBBUFhbs/N/v+jKLF86nzRtv8manblSq7IlbxUo0fKkZZvckLSwtLXFwLKt/WFhYFrtenp/04OqSn7m2YiOp4ZH8O3AcOekZVHy/Y4Hl3d5pR+T0H7i5fS/pl68RtXAtN7fvxfOTvJ5QDi/WJPa3Hdzctof0qOvEbN7OrR2h2NepVux4H0bDqibsPplDWJSWWLWOn/dmY2MJAZUK/1elcXUTkm7r2Lg/m2u3dKhT4cINHQkpTy7uV4Kt2Lo3lePhGq7GZrNgYxL2NibU8rcodJ+UNB1JqVr9o4afitj4bMIv53451ukweD0pVUvtAAsO/ZuBpoQTrTqdjj9+WUeHTj2o82JjKnv60P/TsagTbnHkn72F7lejTjCd3+ubrzfk3V56+VU6du1JtRp1Cy3zKH7e8iuvtWrOqy2a4VHJnSH9+2ChMuePv3YWWH7D1t+oV6sGXd5sR2X3ivR8twtVvLzY9Ns2fZlFK9dQv3ZNPvrgPap4e+LmUoGG9evmS25aqFQ4OjjoH2WKeJNh06ZNvNq6Na1ataJypUoMHDAAlUrF//73vwLLb9myhTq1a/PWW29RqVIl3n//fby9vdm6dSuQe942b95Mly5dCA4OxtPTk2FDhxIfH8/f/7X7kPu3JcDfH2dnZwIDA+n09tuEh4fn+7tma2ODo6Oj/lHcG4ud2rqx/Oco9h9KIPJKGpNmR1DWUcVLLxbci97cXEmTYCe+W3qJk2eTuR6TwZK1UVyPTqf9qy76ci/427JtZywn/k0iJk7D1v/FEHkplYAqNsWKtzhubt/LuXGzid3yl9FiKK6noQ5yTZUeb77qzMpNN/j7aCIXo9KZ9s1FnBzMaVTHocDy5mYKGtdzZMHqq5wOT+FGrIbl669zI0ZD25blDcpmZelQJ2XpH6m3Cx9l8CTIuSg95+JJ0Gl1Rnk8ryQZKYQotpdffpmgoCA2btwIgFarpV27diQkJLBnzx7+/PNPLl68SOfOeb1JfvvtNzp06ECbNm04fvw4O3bsoF69egBs3LiRihUrEhISQnR0tD5JdfToUTp16kSXLl04ffo048ePZ8yYMQZJUIAZM2YQFBTE8ePHGTNmTL5458yZQ3BwML1799Yf393dnevXr9OmTRvq1q3LyZMn+e6771i0aBFffvnlQ/0+LC1zk06ZmZmkpKTQvXt39u/fzz///EOVKlVo06YNKSm52ZLDhw8DsGTJEqKjo/XP77Vq1SrGjh3LpEmTCAsLY/LkyYwZM0Y/bP6OL774gmHDhnHixAl8fX3p2rUr2dnZNGjQgNmzZ2Nra6uv87Bhw4pUn5kzZ1KnTh2OHz9O//796devHxEREQWWvXTpEm+99Rbt27fn5MmT9O3bly+++CJfubS0NGbMmMGKFSvYu3cvUVFRRY6nKGJjoklUJxBUo7Z+W5ky1lTxCyQi/GyB+2RlZRF5IYLqd+2jVCqpXqO2fp/ERDXnI8Kws3Pg86Ef80G3DoweMYiwM6fyHW/Tz6t5v8sbDB34IZs3rCUn58FJ7ftRmJlhW7Mq8bv+ztuo03Fr5wEc6tcocB+luTk5GYZDdXLSM3BokFdH9T/HKds0mDI+HgDYVPPDIbgWN/9XeCKqpDnYgI2VgsgbeXfdNVlw7aaOSuUVhe4X4K7k+i0tXZqZ8nlXcz5uZ0Yd3yf3r005BxPsbUw4E5nXWzFdo+Pi9Sx83M2KdAwTE2hQ3ZK9x9MLLePhYkplFzP2Hiu8zKOKi71BojqeF2rU0W+zKmONt28g58P/LfH3K66srCzOXbhI7RrV9duUSiW1gqpzJrzg4WNnw89RO6i6wba6tYL05bVaLf8cOUZFV1eGj/uSDu/1ot+wz9n/z6F8x/przz7adevJBwOGsHDZKjI0Dx4yn5WVxfkLFwxuMCmVSmrUqEFYeHiB+4SFh1OjZk2DbbVr19aXj4mJQa1WU/OuY5YpUwY/Pz/Cw8IKPGZKSgq7du0iICAgX7JxQkgIXbp2ZeiwYfzzzz8PrNP9uDhbUNbRnCMnE/XbbqflEHYuhap+BSd4TEwUmJoo8vVw02RqqR6Q10vz3/BkGtYri5Nj7s2fmtXscHez5PBxdbFiFqWbXFOlh0t5FWUdzDl2Olm/7XZ6DmEXUgn0LXhEj4mJApNCzsUL/obnLyjQhvU/1GTprGoM6lUZW+vSNeKqNJFzIZ52ckUJIUqEv78/p07lJmR27NjB6dOnuXTpEu7uuXOOLV++nKpVq3L48GHq1q3LpEmT6NKlCxMmTNAfIygoCABHR0dMTEywsbExGAI8a9Ysmjdvrk8w+vr6cvbsWaZPn06PHj305V5++WWGDh1aaKx2dnaYm5tjZWVlcPxvv/0Wd3d35s+fj0KhwN/fnxs3bjBixAjGjh1bpDkxo6OjmTFjBm5ubvj5+VGtmmHvsgX/Dcnbs2cPr7/+OuX+m4vM3t7+vsOdx40bx8yZM3nzzTcB8PT05OzZs/zwww90795dX27YsGG89lru0OAJEyZQtWpVLly4gL+/P3Z2digUioceVt2mTRv69+8PwIgRI/j666/ZtWtXgXOd/fDDD/j5+TF9+nQA/Pz8+Pfff5k0aZJBuaysLL7//nu8vb0BGDBgACEhIYXGoNFo0Nzzpf9+wyMT1blDq+wcHA2229s7oFYXPOwqJTkJrVaLvX3+fa5fjQIgNuYGAD+tXkr3Xv3w9PJh947tjBs1lNnfLtHPR/naGx3x8q6CtY0tEWH/snLpQtQJ8XzQ++NCY34QcycHlKamaGLjDbZr4m5h7edZ4D63/tqP58AeJOw/QtrFKJyaBVOhXcvcDNh/ImcswNSmDI1P/I4uJweFiQnnxs/mxk+/PnKsD8vGMjfhmJpu+M9xaoYOa8vCk5EONgrq+ZsQeiaHPSezqFhOwesvmpKjzeb4hcc/nMjOOrdNSEo1fK/k1Bz9aw9S298CKwsF+++TjGxc24rrcdlcuJpVaJlHlXTns3LPdW9n76j/HJUmSckpaLXafD0WHeztiLp+vcB9EhITCyhvj1qdCEBiUhLp6Rms2bCZnu92oW/3bhw6doKxU2Ywa9I4arxQFYDmjRvhXL4cTo4ORF6OYsGylVy9foOQUcPvG3NycnJuzA6GPVUc7O25dvVqgfuo1Woc7hm+nRuzWv86UOAx77x2x6LFi9m6dSsajQZ/f38m3NUr3sLCgt4ffkhgYCAKpZLQ0FBCJk5k7JgxvPjii/etV2HKOuQm4tWJhlMKJCRm4uhQ8LQp6ek5nA5Ppnsndy5fS0OdmEmLl8pR1c+W6zF5n43ZCyIZ/nEVNi2pT3a2Fq0OvvrmPCfPJhd4XPFskGuq9HCw/+9cJBn+PVInZelfu1d6hpYz51J4901Xoq6no07M4uWGZQn0teZGTN6cn4dPJLHvkJqYOA2uzip6dXFnysgyDBxzlue481ih5FyUPJ3uGa5cKSTJSCFEidDpdPrh1GFhYbi7u+sTkQCBgYHY29sTFhZG3bp1OXHiBL17936o9wgLC6Ndu3YG2xo2bMjs2bPJycnRz89Yp06dgnYv0vGDg4MNhoU3bNiQ1NRUrl27RqW75tO6V8WKFdHpdKSlpREUFMSGDRswNzcnNjaW0aNHs3v3buLi4sjJySEtLY2oqKgix3X79m0iIyPp1auXwe8sOzsbOzvDL9jVq+f1/nFxyR2GFBcXh38xFiK4+5h3kplxcXEFlo2IiKBuXcMhmXd6vN7NyspKn4i8E2thxwSYMmWKQeIachO0b7/bF4A9u/7kh/l5Q/a/GF9y89Pd7c5QilavtqV5y1cB8PKuwumTx9j55++82yN3WoA3OnTS7+Ph6Y2pqRnfz5/Juz165xvO/TidHT6JF76ZSJMTv+denxevcm3FRoNh3S4dX8W1S1tO9BhGatgFbKr7E/jVqNyFbFZtfixxBXkpadcw71+Q5X8+WpJNoYDrt3T8eTR36FB0go7y9jnU8zd5LMnI4OoW9Gib16Nm1qri95xpXNuSUxc0JKYUHK+ZKbxYzYJf9qQW+PrD2r97Oz9+85X++WdjZ5TIcZ9mdyasb1C/Dm+3ex0AHy9PzoRHsPWPP/XJyLatW+r38fKoTFkHe4aOCeF6dAxuLqVz7lyAtzp25JVWrYiLi2PV6tXMmDmTCePHo1AosLOz09/kAvDz9SUhPp71GzYUORnZskk5hvXLWzxoxMQzjxTnl19H8PlAXzYvqU92jo5zkans2HcTX++8Hj4dX3elqp8NI748Q2xcBkFV7RjS15tbCZkcvavXnHi6yTVVejRvWJZPe3von4+a9mgLmEz55iLD+3qy7rua5OToOH/pNrtC46niVUZfZteBvBtgl66mczEqnZVzgwiqasvxfyU5LOdCPGskGSmEKBFhYWF4ehbcO6sgd4YyPw5lypR5cKEStm/fPmxtbSlfvjw2NnnDHLp37058fDxz5syhcuXKqFQqgoODycws+iIUqam5SYiFCxdSv359g9fuXSDHzCzvTuidpKpWW7ykzN3HvHPcx3HM+92N/PzzzxkyZIjBNpVKxYWruf8s1avfEN+7VrzOyspNbiWpE3B0LKvfnpioxtPLp8D3sLG1Q6lUkpho2BssMVGN/X89LB3+O5a7e2WDMm7ulbl5s/BkahW/AHJycoiLjcGtYuFJ7fvJvKVGm52NyrmswXZVeSc0sbcK3edY5wEoVeaYlbVHcyMOv4lDSbuU1xvLf/JwLs5cSPT63HkxU86cw7KSK97D+jy2ZGRYlJarN/M+A6YmudeqtaWClLt6R1pbKIhOKPxaS0mHm4mG183NJB0veBTem7I4jodriLyW1zPV7L+47ayVBr0jba1NiIp+cIK1rJ2Sql7mzF2bWGiZulUtUJkpCD1RMkO0a9drhI9vVf3zrKzc85CUmICDY97ca0mJCXh4Fb46tbHY2dqgVCpRJyYZbFcnJuFYwEIwAI729gWUT8TBwV5/TBMTEzzcDVcPr1SxIqfPFjyMGiDAL/f386BkpK2tbW7M9/RYVCcm4uDoWOA+Dg4OqO+ZZzc3Zgf965DbQ9LxrmOoExPx9vIy2M/Ozg47OzsqVqyI+3/zT4aHhxMQEEBB/Pz8OHb8eKH1udf+QwmcjcibC9nMLLdXsIO9OfF3LYbgaG/O+UuFJ9VvxGQw8ItTWKiUlLEyIV6dxfjh/kTH5vbWMTdX0uddD76YcpYDR3N/l5FX0qjiZU3X9m6SOHqGyDVVevx9VE3YXauP68+FnRkJiXnnwsHOjMgraYUeJzpWw5CQcCxUSqwsTUhIzGL0IG+iYwuf6iI6TkNichZuziqOl75ZQ544ORfiWSNzRgohim3nzp2cPn2ajh1ze1sFBARw9epVrt41/Ozs2bMkJiYSGBgI5Pa227FjR6HHNDc3JyfHcKLkgIAAQkNDDbaFhobi6+v70KtWF3b8AwcOGCTFQkNDsbGxoWLFivc9nqenJ97e3gaJyDv7f/LJJ7Rp00a/8M6tW4aJIzMzs3yx3M3Z2RlXV1cuXryIj4+PweNhEsAF1bmk+fn5ceTIEYNthc2D+TBUKhW2trYGj7uHaVtaWeHiWlH/cK/kgb2DI6dO5n2ZSUu7zfmIs/j5Bxb4HmZmZnj7+HHqRN4+Wq2WUyeO6vcp71wBx7JOXL9uOLQy+vpVypV3LjT+SxcvoFQqsbMreELxotBlZZF8/AxlmwbnbVQoKNvsRdQHT9x3X60mE82NOBSmplRo34rY3/IW+jCxtER3b3I5R4uiCNMSPKrMbEhIyXvEJepISdPh5Zr3niozqFhOQVRc4UnqqFgtTnaGiUcnWwXq1MczzCYjU0dcQo7+cf1mNokpOQR65fV2tVAp8HIzK9KQ6pdqWZF8W8vJc4V/AWhcy4rjERpS0kqmTpZWZajgWlH/qFjJE3uHsvx7Mu9zm5Z2m8hzZ6ni/0KJvGdJMjMzw9fHi2MnT+u3abVajp06TVV/3wL3CfT35dip0wbbjp44pS9vZmaGfxVvrt4zzPvajRs4ly94cQyACxcvA1DW4f6fazMzM6r4+HDi5EmDmE+cOEFAIb3WA/z9DRYGAzh+/Li+fIUKFXBwcDA45u20NCIiIvAvJMkI6D/rd27YFOTixYsGCc4HSU/P4XpMhv5x+Woa8QmZ1K5ury9jZWlCgK8NZyIevLpUhkZLvDoL6zKm1KvhwL6DuTcATE0UmJkp8w0RzMnRGYxoEE8/uaZKj/QMLTdiNfrHlWvpxKszqfVC3igBK0slAT7WnD334B78GRotCYlZWJcxoW51O/4+WvgIAydHM2ytTYlPLPkpSp5Gci4eP51Wa5TH80p6RgohHopGoyEmJoacnBxiY2PZtm0bU6ZM4fXXX+f9998HoEWLFlSrVo1u3boxe/ZssrOz6d+/P02aNNEPoR43bhzNmzfH29ubLl26kJ2dze+//86IESOA3FWm9+7dS5cuXVCpVDg5OTF06FDq1q3LxIkT6dy5MwcOHGD+/PkGq0oXlYeHBwcPHuTy5ctYW1vj6OhI//79mT17NgMHDmTAgAFEREQwbtw4hgwZUqT5IgtSpUoVVqxYQZ06dUhOTmb48OH5eoV6eHiwY8cOGjZsiEqlyjcHGOTO//jJJ59gZ2dH69at0Wg0HDlyBLVana/H4P3qnJqayo4dOwgKCsLKygqrIq4EW1R9+/Zl1qxZjBgxgl69enHixAn9AkNP8h97hULB6+3eYv3aFbi4VsS5ggtrVizC0dGJesGN9OXGjRpC/eBGtGmbO0yxbYe3mTdrCj5V/KjiG8DWLevRZGTw8n9DshUKBe3e7MxPq5bi4emNp5cPu3Zs5/q1KIaPyh1GHhF2hnMRZ3mhek0sLa2ICD/DkoXf0LhZS6xtirc656W5S6m+cCpJx/4l8cgpPAd0x9TKkmsrchePqr5wKpobcUSMmwWAXd3qWLg6k3wyDAtXZ6p8MQCFUsnFWT/qjxn3+y68P/uI9KvRpJ69gG2NADwG9uDa8g3FivVhhZ7JoVmQCfFJOtSpOlrUMiElPbcX5R09W5tx9koO/4Rp9fv0fd2MJtVNOH0ph4rllNT1M2FzaPEWC3oY2w+k8UYTa2Ljc7ipzuHN5tYkpuRwLDxv7qXPejhw7KyGvw7l9VRQKOClmpbsP5FOYf+Hlnc0wa+yGbNWPr6FFBQKBa++0YnNPy2jgqs75Z1d+XnlAhwcnajzYmN9uS+/GEjd4Ca88vpbAGSkpxETfU3/+s3YaC5fPIe1tS1O5XN7CaamJHPrZgzqhNwbMNHXc6ensHcoi72DYQ/fh/F2u9eZOvsbfH28CfD1Yf0vv5GRoaF182YATP56HuUcHendvRsAHdu+xuBR41i3aSsv1q3Fzr2hRFyIZOjHffXH7NzhDUKmf031qoHUrFaVQ8dO8Peho8yePB7I7f24Y89+6tepiZ2NDZGXr/DtomVUrxqAt2flfDHeq0OHDsycNYsqVarg5+vL5i1b0Gg0tGyZO/R7xowZlC1blg8+yF3pvl27dnw2YgQbNm6kXt267Nmzh/Pnz/PJwIFA7nlr3749a9euxc3VFWdnZ1asWEHZsmVpEJx7wyI8PJxz589TNTAQa2troqOjWbFiBS4uLvqE5Z9//YWZqal+2ozQv//mf3/+yaBPPnnk8wOwbut1undy51p0OtGxGXz4TmXiEzTs+yfvZtzskGrs/ecWG3/PXaSuXk17QMHV62m4uVjSv4cnUdfT+H1HLABp6TkcP51I/x6eaDK1xMZlUOMFO1o3K8/8xZeKFW9xmJSxooxPXo93K8+K2Ab5k5mQRMbVaKPF9TCehjrINVV6zsfGP2Lp1sGVazEZxMRp+KBTRW6pM9l/JO9v1fTRfuw/rGbL9txRI3Wq26FQwNUb6bhVsKBPN3eibmSwbXfu+bNQKXn/LTf2HUwgISkLV2cL+rzjzo1YDUdOJhUYx5Mg56L0nAvx7JFkpBDioWzbtg0XFxdMTU1xcHAgKCiIuXPn0r17d33CTqFQsGXLFgYOHEjjxo1RKpW0bt2aefPm6Y/TtGlTfv75ZyZOnMjUqVOxtbWlceO8L74hISH07dsXb29vNBoNOp2OWrVqsW7dOsaOHcvEiRNxcXEhJCTEYPGaoho2bBjdu3cnMDCQ9PR0Ll26hIeHB7///jvDhw8nKCgIR0dHevXqxejRox/597Vo0SL69OlDrVq1cHd3Z/LkyflWjZ45cyZDhgxh4cKFuLm5cfny5XzH+fDDD7GysmL69OkMHz6cMmXKUK1aNQYPHlzkWBo0aMBHH31E586diY+PZ9y4cYy/ayGDkuDp6cn69esZOnSoftXyL774gn79+t13wZnHocNbXdFkZPD9vBncvp1KQGA1xkz8CnPzvDhioq+TnJz3j1Wjxi+TnJTImpVLSFQn4Onlw5iQr/TDtAHatn+brMxMliz8htSUFDw8vRn35QwquLgBYGpmxv69O/lp9VKys7Io7+xC2/Zv80aHt4tdp+gNf2BezhHfMQMxdy5HyqkwDrXvTWZcbi8PS3dX7u7iYaJS4Tt2EFae7uSkphG3fQ8nPxxBdlJeT5IzQ7/Ed+wnvDB7LOblypIRHcfVxT9xfvLDJ/mLY9/pHMxNoX1DUyzM4UqcjqXbs8i+qzOvo40CK4u8pPb1WzpW7cimVW0TmtUwQZ2q47eD2Zy8+OTuMv++/zYqcwU93rDFykLJ+ahMZqxQk3VXPrS8gynWZQx7E1T1MsfJ3uS+K2Q3rmWJOlnLv5FFn9bhUbTt+C6ajAx+nD+NtNup+AVWZ+SEWQafldiY66QkJ+qfX7wQzsRRA/TPVyyamxvzy23o92lum3n04D6+n5O3eNXcr8YC0LFrT95658NHjvfllxqSlJTM0tU/kaBOxNvLg2njv8Dxv2HXcTdvobzr5scLAX6MHjqIxavW8OOK1bi5ujBx1Gd4Vs77gvlScH0+7deH1es3MW/hYtzdXJkwchjVAnOTdmamphw9eYoNW38jPUNDeaeyvBRcn/c6d6QomjRpQlJyMitXrCBBrcbby4uJISH6m09xN28a9EYODAxkxGefsWz5cpYuXYqbmxtjxozBw8NDX+btt94iIyODufPmkZqaStWqVZkYEoK5eW5PXZVKxd+hoaxcuZKMjAwcHR2pXbs2n3fpgvldU2WsXrOGuLg4TExMcK9YkZEjR/JSo7ybNo9i9cZrWFqYMLx/FazLmHI6LIlhE84YrODqWsECO9u8OMpYmdL3PQ/KOalISclm94FbLFx5mZycvH3Gzwin7/sejB3ih621KTE3NSxceYXN24yXFLCr/QLBO1bonwfOGAXA1eUbOdXrc2OF9VCehjrINVV6zsfaX6KxUCkZ0tsDaytTTkek8PnUc2TdfS6cLbCzuftcmPBh14o4OZqTkprNvkNqFq+9pj8XWq0Or0pWtGrshHWZ3CH1R04lsXTdNbKyjbeoiJyL0nMungTts7w6Tymk0MmSQUIIIR6jSZMm8f333xsM2y8pZy4Y/650cVX1ceF3q0dfYKg0aJMWzheLCx9q/LSY1FNF97Exxg6jWJaFVODYufgHFyzlavmW5UbEKWOHUWyuftW5GBlp7DCKxcvbm5fa7TN2GMW2b8tL/GbmZ+wwiuW1rIinvg6QWw+5pkqH17IiaN7lkLHDKLYda+vJuSgldqzNv3Dl06LzsCtGed+fZjx4hMWzSHpGCiGEKFHffvstdevWpWzZsoSGhjJ9+nQGDBjw4B2FEEIIIYQQQjzzJBkphBDPqX379vHqq68W+vqdVbwf1vnz5/nyyy9JSEigUqVKDB06lM8/N/5QFiGEEEIIIYQoiAwafrIkGSmEEM+pOnXq5FuttSR8/fXXfP311yV+XCGEEEIIIYQQTz9JRgohxHPK0tISHx8fY4chhBBCCCGEEEalkwVsnijlg4sIIYQQQgghhBBCCCFE8UnPSCGEEEIIIYQQQgjx3JKekU+W9IwUQgghhBBCCCGEEEI8EZKMFEIIIYQQQgghhBBCPBEyTFsIIYQQQgghhBBCPLe0Oq2xQ3iuSM9IIYQQQgghhBBCCCHEEyE9I4UQQgghhBBCCCHEc0sWsHmypGekEEIIIYQQQgghhBDiiZBkpBBCCCGEEEIIIYQQ4omQYdpCCCGEEEIIIYQQ4rklw7SfLOkZKYQQQgghhBBCCCGEeCIUOp1O0r9CCCGEEEIIIYQQ4rnUrl+EUd53y3d+RnlfY5Nh2kIIIZ5aV8+fNXYIxeZeJZBmnQ4aO4xi2bWuPknTBxo7jGKzGz6PK33aGzuMYqm8YDMJp/cbO4xic6zWiLDI68YOo9gCvN24EHnJ2GEUi4+3J39VrGbsMIqtxbXTNO9yyNhhFMuOtfWe+jpAbj3kmioddqytx29mT38i5LWsCDkXpcRrWcZJ6ImnjyQjhRBCCCGEEEIIIcRzS6vVGjuE54rMGSmEEEIIIYQQQgghhHgiJBkphBBCCCGEEEIIIYR4ImSYthBCCCGEEEIIIYR4bum0srbzkyQ9I4UQQgghhBBCCCGEEE+E9IwUQgghhBBCCCGEEM8tnU4WsHmSpGekEEIIIYQQQgghhBDiiZBkpBBCCCGEEEIIIYQQ4omQYdpCCCGEEEIIIYQQ4rklC9g8WdIzUgghhBBCCCGEEEII8URIz0ghhBBCCCGEEEII8dySnpFPlvSMFEIIIYQQQgghhBBCPBGSjBRCiKfM+PHjqVGjhrHDwMPDg9mzZxs7DCGEEEIIIYQoFq1Oa5TH80qGaQshSkSPHj1YtmwZAKampjg6OlK9enW6du1Kjx49UCpL7t6Hh4cHgwcPZvDgwSV2zLs1bdqUGjVqFDvRtnv3bpo1a6Z/Xr58eRo1asT06dPx8vIq0jEUCgWbNm2iffv2+m3Dhg1j4MCBxYrtXkuXLmXw4MEkJiaW6HGNacuvv7Nu42YS1Il4e3owoO+H+Pv5Flp+z/5Qlq5cQ0xsHG6uLvTu8T7169YusOzs+d/x67b/0a93Tzq2a6vfPiZkMhcuXSIxMQkba2tq1ajOhz3ex6msY4nW7YNObrzWvDzWZUz5NzyFr3+8xPUYTaHlLS2U9OxckUb1HHGwM+P8pdvMX3qFiMjb+jIj+nvRumk5g/0OnUhkxOSIEo39DvOaL6Gq2xxFGVty4q6TsWM9OTFXCixrVrU+Vm3eNdimy84i+esh+ud2w+cVuG/67s1kHt5RcoHfxbrpq9i16oCJnT2Z1y6TsGYhmZfPF1jWeeiXWPi9kG972ukj3Jz3JQB2bbtQpm4jTByc0GVnkxkVSeLmlWReKviYJWX9HztZ9cs2EhKT8KnszpBe71C1SsFt1MWr11m4djPhF68QczOeQT260OX1loUee/mm3/lu1QY6vdaCTz/oWmIx63Q61qxcyp/bfuP27VT8A1/go48H4+pW8b77/b51M5s2/ESiOgEPT2969xuIr1+A/vUvRnzKmdMnDfZ55dW29Bv4qf75wu/nEXb2X6IuX6ZipUrMnr+wWPVYuXIF27f9we3btwkIDOTjjwfi5uZ23/1+3foLGzasR61W4+npxUf9+uPn56d//Y8/fmfP7l1cuBBJenoaP61bj7W1tcExJkwYx6WLF0lMTMTa2poaNWryQc9elC1b9pHrc0fF7l2o/FEPzMs5kRoWQcSYKSSf+LfAsgpTUzwGfIjLW2+gqlCetIuXuTD5a+J3h+rLeA3ph9eQ/gb73b5wiQNN3yh2rA/S42032rxcLre9jUhhzqLLD2xvP+hUkUZ1HbC3M+PC5dt8szSKiIt57e1n/Tx5pUn+9vbzqeekDgWQ66n0nIuicmxUB6+hvbCr9QIWruU50rE/sb88nr/FxfE8nI+n5VyI548kI4UQJaZ169YsWbKEnJwcYmNj2bZtG4MGDWL9+vX88ssvmJqWriYnMzMTc3Pzx/4+ERER2NjYcP78efr06UPbtm05deoUJiYmj3Q8a2vrfF8qhaFde/fz/Y9LGPTxRwT4+bJhy1ZGjg1hyQ/zcbC3z1f+TFg4k76aRa/u7/JivTrs3L2PcZOm8t3sGXh6VDYou//vfwiLOEdZx/wJxqDqL9C1U0fKOjpwKz6BHxYtJWTKV8ydMbXE6talnQtvvlqBqd9cJDoug56d3fnqC396DDlFVlbBc90M/8gLT3dLpsyP5FZCJi0bOzFjjD8ffHqKW+osfbmDxxOZ9u1F/fOs7Mdzt9bMrxYWTTuQ/udP5ERfQVW7KWXe7k/Koono0lIL3EenSSdl0cS7Nhi+nvztKIPnpp6BWLZ+h6xzJ0o4+lxWdRri+HZP4ld9R+alc9g0f4Pyg8ZxY+zHaFOS8pW/+d1UuKsNNCljg8vY2aQd+Vu/LSv2BglrFpB9MxaFmTk2Ld7AefB4rn/RD21q8mOpx1+hh5i77Cc+6/MeVat48dNvf/Lpl1+zdu4kHO1s85XP0GTi6lyOl4PrMGfpT/c99tkLl9j85x58Kt8/QfgoNq1fy6+/bGTQkJE4V6jA6hVLmDBmBPO+X1Jou75/zy4WL/yOfgMG4+sfwC+bNzBhzAi+WbAMe3sHfbmWrV/jnXc/0D9XWajyHatFy1c5FxHG5csX8732MNav/5mtv2zh0yHDqFDBmRUrljNmzBd8//2CQuuxd88eFi5cyIABA/Hz92Pz5s2MGfMFCxb8iP1/7ZtGo6FW7TrUql2HZUuXFHic6tWD6Ny5C44OjtyKj2fRooVMnvwlM2d+Xaw6Obd9Bd+xwwn7fCLJx0/h/uF71Fz5A383aUtWfEK+8t6fDaTCm68R9tkE0i5cwrFJA6r/OJsj7d4j5Uy4vlxq+HmOde2tf67LzilWnEXR5Q0XOrR2Ztq3F4m5qaFHp4pM/dyPnsNOF9reDu3riWdFS6Z8c5F4dSYtXnLiq9F+9Bp62qC9PXQika++u6R//rja26e9DnI9lZ5z8TBMyliRfCqCq0s3UGf9N0aNpTDPy/l4Gs6FeD7JMG0hRIlRqVRUqFABNzc3atWqxahRo9iyZQt//PEHS5cu1ZeLioqiXbt2WFtbY2trS6dOnYiNjTU41tatW6lbty4WFhY4OTnRoUMHILfX4pUrV/j0009RKBQoFAr9Phs2bKBq1aqoVCo8PDyYOXOmwTE9PDyYOHEi77//Pra2tvTp0ydfHXr06MGePXuYM2eO/viXL18GYM+ePdSrVw+VSoWLiwsjR44kOzv7gb+X8uXL4+LiQuPGjRk7dixnz57lwoULHD58mJYtW+Lk5ISdnR1NmjTh2LFjBvECdOjQAYVCoX9e0DDtH3/8kYCAACwsLPD39+fbb7/Vv3b58mUUCgUbN26kWbNmWFlZERQUxIEDB4DcHpwffPABSUlJ+jqPHz/+gfW61/3Oa1JSEiYmJhw5cgQArVaLo6MjL774on7/lStX4u7u/tDvW5ANm3+hzSstad2yOZUruTP4449QqVRs+7PgO8Ebf/mVurVr0rljByq7u/PBe+/g4+3Fll9/Nyh361Y883/4kc+HfYqpaf5k8lvt3yDQ3w/n8uWpGuBPl7ffJCziXJGuk6J6q00FVmy8TugRNRej0pkyPxInB3Ma1XUosLy5mYLG9R35YeVVToWlcCNWw7Kfr3MjRsMbrZwNymZla1EnZekfqbcfz5cz8zrNyDx1gKx/D6KNjyH9fz+hy8rE/IXgwnfS6dDdTsl7pKUYvnz3a7dTMPOpTk7UeXRJ8Y+lDrYt25Gy/3/c/nsnWdHXSFj1HbpMDdYNmxdYXpuWijY5Uf+wCKyBLlND2tG83jpph/aSEXaK7FuxZEVfRf3zYpSWZTCv6PFY6gCwZuv/eKNFY15/uRGe7q581uc9VCpzft25v8DygT6eDHy/Ey0b1cfMrPAbTGnpGYyfs5CRH3XHpkyZEo1Zp9OxdfMGOnV5l/rBDfHw9GbQ0JEkxN/i4IGC4wbYsulnWrVuQ/NWr+JeyYN+Az5FpVKx439/GJRTqVQ4ODrqH1ZWhvH3/mggbdq2x7mCS7HrsWXzJjp36UpwcDCenl4MHTqchPh4Dhz4u9D9Nm3aSOvWrWnZqhWVKlVmwICBWKhU/O9/2/Vl2rfvQKdOnfH39y/0OB06vIm/fwDlnZ0JDAzk7bc7EREeXuz2qlKf97m+ZgPR6zZz+/xFwkeGkJORjmuXDgWWd3nzdS7P+5H4nftIj7rG9RXriN+5j0p9uxuU0+XkkHkzXv/IUicWK86iePNVZ1ZuusHfRxO5GJXOtG8u5ra3de7T3tZzZMHqq5wOz21vl6/PbW/btixvUDYrS/dE2tunvQ5yPZWec/Ewbm7fy7lxs4nd8pdR47if5+V8PA3norTQaXVGeTyvJBkphHisXn75ZYKCgti4cSOQm4Rq164dCQkJ7Nmzhz///JOLFy/SuXNn/T6//fYbHTp0oE2bNhw/fpwdO3ZQr149ADZu3EjFihUJCQkhOjqa6OhoAI4ePUqnTp3o0qULp0+fZvz48YwZM8YgCQowY8YMgoKCOH78OGPGjMkX75w5cwgODqZ3797647u7u3P9+nXatGlD3bp1OXnyJN999x2LFi3iyy+/fKjfh6WlJZDbKzMlJYXu3buzf/9+/vnnH6pUqUKbNm1ISclNshw+fBiAJUuWEB0drX9+r1WrVjF27FgmTZpEWFgYkydPZsyYMfph83d88cUXDBs2jBMnTuDr60vXrl3Jzs6mQYMGzJ49G1tbW32dhw0b9lD1etB5tbOzo0aNGuzevRuA06dPo1AoOH78OKmpuT3h9uzZQ5MmTR7qfQuSlZXFuQuR1KoRpN+mVCqpVaM6Z8MLHnJ8NjzCoDxA3Vo1OBueN6RGq9UyddZsOr3ZDo/KlR4YR3JKCjt27yUwwK/EegW7lFdR1sGco6fyesndTs8h7EIqVX1tCtzHxESBiYmCzCzDu/KaTC3V/A33qRFoy8aFtVg2uzqDP/TA1vox9GZWmmBSwZ3sK3efCx3ZVyIwcfUofD9zFTZ9JmDTNwSr9r1Rlq1QaFGFlQ2mXlXJPH2gxMI2YGKKeSVvMsJO5W3T6cgIO4nKy6/w/e5i3agFtw/vR5dZyHAwE1NsXmqFNu02mdcuFVymmLKysom4eIW61fOGKSuVSupWC+TfiMhiHXvGj6toUKs69aoHFjfMfGJjolGrE6heI28ahTJlrPH1CyAi7GyB+2RlZRF54ZzBPkqlkqAatYkIN9xn764dvNelPZ/068mKJQvRZGSUeB0AYmJiUKvV1KhR8656lMHPz5/wsLBC63HhwnmDfZRKJTVq1CQ8vOB9iiIlJYXdu3YREBBQrPZKYWaKTbVAEvb9k7dRpyNh3z/Y1woqeB+VOVqN4ecgJ0ODfd2aBtusPCvx0pEdNAj9g6rzpqJyLbwNKAl32ttjp/O3t4G+BY9OyGtvDb9cajK1vHBPexsUaMP6H2qydFY1BvWq/Fja26e9DnI9lZ5z8ayR8yGE8cmnQgjx2Pn7+3PqVO6X9h07dnD69GkuXbqk7wW3fPlyqlatyuHDh6lbty6TJk2iS5cuTJgwQX+MoKDcfzodHR0xMTHBxsaGChXy/nGcNWsWzZs31ycYfX19OXv2LNOnT6dHjx76ci+//DJDhw4tNFY7OzvMzc2xsrIyOP63336Lu7s78+fPR6FQ4O/vz40bNxgxYgRjx44t0pyY0dHRzJgxAzc3N/z8/KhWrZrB6wsWLMDe3p49e/bw+uuvU65c7nwz9vb2BrHca9y4ccycOZM333wTAE9PT86ePcsPP/xA9+55PQGGDRvGa6+9BsCECROoWrUqFy5cwN/fHzs7OxQKxX3f536Kcl6bNm3K7t27GTZsGLt376Zly5aEh4ezf/9+Wrduze7du/nss88KPL5Go0Fzz5cLlSr/0EmApOQUtFotDvZ2Btsd7O25eu16gfuo1Yn5hm/b29uTkKjWP1+7fhMmJiZ0eOP1+/4uFi5ZzpZffydDoyHAz5cvx31x3/IPw9HeLDfepCyD7eqkLP1r90rP0PJvRArvdXTjyvV01IlZvNyoLIG+1lyPyUuyHDqRyL6DCUTHaXCtYMGHXd2ZOsqPAV+coSRv2iosy6BQmqBLMxx2rEtLQenoXOA+WnUs6dtWk3PzOgpzS1R1X8a62xBSFk9Gl5qYr7zZC/XQZWaQde5k/oOVABNrGxQmJuQkG753TkoSZi4PHpJs7lEFc7fKxC+bn+81y2p1cOo9FIW5ipwkNbFfj0ObmlLAUYovMSWFHK0233BsR3tbrlyPfuTj/rn/IBGXrrB4av4bPiUhUZ07NNPewbD3ip29A2p1/mGbACnJSWi12gL3uXY1Sv+8cdPmlC/vjINjWa5cvsjyxQu4fv0qI0eHlHAtQK3ObV8cHOwNttvb2+tfu1dycvJ/9ci/z9WrVx86hsWLF/Hr1l/QaDT4+/szbnzx6mnm6IDS1JTMm4Y9kjNvxVPGx7PAfRL2/E2l3u+jPniU9MtXcWz0IuVfbY5Cmdf7POn4ac58Ooa0i5cxL++E16f9qLNxGf8070DO7bRixVwYh/u0tw73aW/PnEvh3TddibrT3jbMbW9v3NXeHj6RxL5DamLiNLg6q+jVxZ0pI8swcMzZEm1vn/Y6yPVUes7Fs0bOhyiITvv8LiZjDJKMFEI8djqdTj+cOiwsDHd3d4PhuIGBgdjb2xMWFkbdunU5ceIEvXv3LuxwBQoLC6Ndu3YG2xo2bMjs2bPJycnRz89Yp06dR6pDWFgYwcHBBsPCGzZsSGpqKteuXaNSpcJ7ylWsWBGdTkdaWhpBQUFs2LABc3NzYmNjGT16NLt37yYuLo6cnBzS0tKIiooq9Fj3un37NpGRkfTq1cvgd5adnY2dnWEyrnr16vqfXVxyhxfGxcXddxhfURXlvDZp0oRFixaRk5PDnj17aNWqFRUqVGD37t1Ur16dCxcu0LRp0wKPP2XKFIPkNOQmYXt161Ts2Ivi3IVINv3yK9/NmWlwDRSk05vtebVVc2LjbrJ8zU9MmzWXSeO+eOB+BWnRqCxD+uR94fp8yqMtJjNlfiSf9fNi/Q+1yMnRce7SbXaGxuPrmTf8dNffeUmcS1fTuXgljdXza1Cjqi3H/n088xUWVc6Ny+TcuKx/nnbjItY9R2Me1BBN6G/5ypu/EExW2BHIKbnh8SXJulELMq9dLnCxm4yI00RP/BSltS02L7WiXN/hRE/5rMB5KEuj2FsJfL1kLXPHDEFlXvAXuoe1Z9dffDdvlv756AlTSuS4BXnl1bybDR6eXjg4ODJ21DCio6/j4nL/RWUeZNeuncyfN1f/fPyEkk9wPqyOHd/ilVavEBcXx+rVK5k5czrjx4c8Unv1qCLGTiXgq/E02P0LOp2O9CtXufHTFly7tNeXid911/D7sHMkHz9No3+249z2FW6s3VQicTRvWJZPe3von4+a9miLTUz55iLD+3qy7rua5OToOH/pNrtC46nidVd7e+Ce9jYqnZVzgwiqasvxYrS3z0Idikuup9JzLkoTOR9ClD6SjBRCPHZhYWF4ehZ8B7sgd4YyPw5lSnjusqLYt28ftra2lC9fHhubvGEc3bt3Jz4+njlz5lC5cmVUKhXBwcFkZmYW+dh3hjgvXLiQ+vXrG7x27wI5ZmZ5iYE7XzS1T/AOYOPGjUlJSeHYsWPs3buXyZMnU6FCBaZOnUpQUBCurq5UqVKlwH0///xzhgwZYrBNpVIRF5V/KKmdrQ1KpRJ1omHyRp2YmK8H0h0ODvao71lJPDExEcf/FrU4feYsiUlJvPNBXsJXq9Xyw6KlbNyylVWLF+S9v50tdna2VHRzo5J7Rbr26E1YeASBAQ+f9A09oubs+bwFXczNcnvgOtiZkZCYdzffwc6MC5cL781xI1bD4PFhWKiUWFmakJCYxdjBPkTHFT78NDpOQ2JyFm4VLEo0GalLv41Om4PCyrA3nsLKBt3tIr6PVos27hpKh3L5XjJx88akrDNpWwtetKMk5KSmoMvJwcTW3vC9bezISSq4R9sdCnMVZeo2InHLmgJf12VqyL4ZAzdjiL90DteJ32LdsAXJ2zaUVPh69jY2mCiVJCQZ/t4TEpMpe0/P4qIKv3gZdVIyPT7LS7TlaLWcCDvHhj92smfND5iYPNwsQfXqNzBY8TorK7eNTFSrcXTMW/k5KVGNp5dPgcewsbVDqVSSeE+Pw6RENQ4FLEZ1h69/7vvG3LhR7GRk/fov4ueX1w7cqYdanWhQj8TERLy8Cl7N3NbW9r96JBpsT0xMxMGx4HnO7sfOzg47OzvcKlbEvZI73d9/j/DwMAICHm14fVaCGm12NublDFfkNncqS2ZcwfO3ZiWoOfXhIJQqc8wc7NHExOEz6lPSr1wr9H2yk1O4ffEKlh4PnjKjqP4+qibsQl57a3af9jbySuHtbXSshiEh4Qbt7ehB3kTHFr5Cr769dVZxvOBFop+bOtxNrqfScy6ednI+hCh9ZM5IIcRjtXPnTk6fPk3Hjh0BCAgI4OrVqwbDyc6ePUtiYiKBgblffqpXr86OHQUvNAJgbm5OTo7hRNABAQGEhoYabAsNDcXX1/ehV60u7PgHDhxAp8sbXxEaGoqNjQ0VK95/WKanpyfe3t4Gicg7+3/yySe0adNGv/DOrVu3DMqYmZnli+Vuzs7OuLq6cvHiRXx8fAweD5MALqjOD6Mo59Xe3p7q1aszf/58zMzM8Pf3p3Hjxhw/fpxff/31vvNFqlQqbG1tDR6FDdM2MzPD18ebYyfz5vPTarUcP3maQP+C5/ML9Pfj+IlTBtuOHj9JoL8vAC2aNWHBvK/5Ye4s/aOsoyNvv9mOqSHjCo1b+994nMysR+uhl56h5UasRv+4fC2deHUmtarlJfKsLE0I8LHmzLkHD+XN0GhJSMzCuowJdYPsCD1ceOLMydEcW2tT4tVFT44XiTaHnJirmFb2vWujAtPKvga9H+9LoUDp5Irudv7egubVg8mOiUJ7s+Ah+SUiJ5vMqEgs/PN6G6NQYBFQHc3F+/detardEIWpGbcP7inaeymVKMxKpofhvczMTPHzqsyR03lzDWq1Wo6cDuMFP+9HOmadagGsnDWBZTPG6R8B3h688lJ9ls0Y99CJSABLKytcXN30D/dKHjg4OHLqZN6CX2lptzkXEYZfIUk0MzMzvH18DfbRarWcOnEMP//CE2+XInNveNwvYVlUVlZWuLq66h+VKlXGwcGBkydPGNQjIiIc/4CAAo9hZmaGj08VTty1j1ar5cSJE/j7F7xPUd1pr7Kysh5QsnC6rGxSTp/FsdFdN8cUChwbvUjisftPm6DVZKKJiUNhakr5Ni24+b9dhZY1sbLEysOdzLibjxzrve5tb6/caW9fuLu9VRLgY83Zc6n3OVIug/a2uh1/H71fe2uW294mPvrv/lmpw93kespj7HPxtJPzIYpCFrB5sqRnpBCixGg0GmJiYsjJySE2NpZt27YxZcoUXn/9dd5//30AWrRoQbVq1ejWrRuzZ88mOzub/v3706RJE/0Q6nHjxtG8eXO8vb3p0qUL2dnZ/P7774wYMQLIXWV67969dOnSBZVKhZOTE0OHDqVu3bpMnDiRzp07c+DAAebPn2+wqnRReXh4cPDgQS5fvoy1tTWOjo7079+f2bNnM3DgQAYMGEBERATjxo1jyJAhRZovsiBVqlRhxYoV1KlTh+TkZIYPH56vV6iHhwc7duygYcOGuSu8OuTv+TJhwgQ++eQT7OzsaN26NRqNhiNHjqBWq/P1JrxfnVNTU9mxYwdBQUFYWVlhZWVV5LoU5bxC7mro8+bN46233gJy5wANCAjgp59+4ptvviny+z1Ix/Zv8NXXc/Gr4o2fbxU2bvmVjIwMWrfIXel46sw5OJV15MMe7wHw5huvM2TkaH7euIX6dWuza+9+zl2I5NMB/QCws7XFztawJ5+pqQmODg64V8ztLRUWcY6Icxd4oWoANtZluBEdw9KVa3B1qUBgQNEWNSmK9b/H8N6bblyPziA6TkPPLhW5pc5k/12JxZlj/Nl3SM3m7bmrmdcNyu3ldvVGBm4VVHz0XiWirmfwx+7c5LeFSkn3t93Ye1BNQmImbs4W9H23EtdjMjh8suSHB2ce2YVlm3fJiYkiJ/oK5nWaojBTkflv7iIFlm3eQ5uSiGbfVgBUwa3Jib5MjvomCpUlqnotUNo6kHnqngVqzC0w861Bxu6SGWZ3P8l/bsHpg0FkXrmA5tJ5bFu0RWFuQWpo7o2Ush8MIicxnsRNKw32s27UgrQTB9HeNkweK8xV2LV5m7STh8hJUmNibYtNs1cxtXck7YjhjZaS1LVtKybOX4S/twdVfTxZ+9tfZGg0vN6sIQAT5v5IubIO9O+We0MpKyubS9duALnTQdxMUHPuUhSWFircXZwpY2mJdyXDGzQWKhW2Ntb5tj8qhUJB2/Yd+XntSlxd3Sjv7MLqFUtwLOtE/eBG+nJjPh/Kiw0a8Vrb3FV323V4mzmzpuJTxY8qvv5s3bKBDE0GzVu2BiA6+jp7d+2kdt362NjacuVSJIsWfEvVF6rj4ZmXnI2+cZ309HQS1WoyNRouRl4AwL1SZYMe6EWpR7v2HVi7dg2urq5UcK7AihXLcSxbluDgBvpyoz4fSXCDBrRt+waQuwr2rFkzqFKlCr6+fmzZsokMTQYtW7bS75OQkIBarSb6Ru65unz5MpaWlvoe+uHh4Zw/f47AwKrYWFsTHR3NihXLcXFxIaCQRGhRRS1YTuDXk0g+eYakE6ep9OF7mFhaEv3TZgCqzp5ERkwckVPnAGBbsxqqCuVJPROBqkJ5vIb0A4WSK9/l9W6uMnooN//aQ8a1G6icy+E19GN0OTnEbP6joBBKzMY/YunWwZVrMRnExGn4oNN/7e2RvPZ2+mg/9h9Ws2V7HAB1qtuhUMDVG+m4VbCgTzd3om5ksO2u9vb9t9zYdzCBhKQsXJ0t6POOOzdiNRx5DO3t014HuZ5Kz7l4GCZlrCjjk9fT1MqzIrZB/mQmJJFx9dHnJC5Jz8v5eBrOhXg+STJSCFFitm3bhouLC6ampjg4OBAUFMTcuXPp3r27PmGnUCjYsmULAwcOpHHjxiiVSlq3bs28efP0x2natCk///wzEydOZOrUqdja2tK4cWP96yEhIfTt2xdvb280Gg06nY5atWqxbt06xo4dy8SJE3FxcSEkJMRg8ZqiGjZsGN27dycwMJD09HQuXbqEh4cHv//+O8OHDycoKAhHR0d69erF6NGjH/n3tWjRIvr06UOtWrVwd3dn8uTJ+VaxnjlzJkOGDGHhwoW4ublx+fLlfMf58MMPsbKyYvr06QwfPpwyZcpQrVo1Bg8eXORYGjRowEcffUTnzp2Jj49n3LhxjB8/vsj7F+W8AjRp0oTZs2cbzA3ZtGlTTp48Weh8kY+iWeNGJCUls3TlWtRqNd5enkwJGasfph138yZKZd6caFUD/Bk1/FOWrFjN4uUrcXN1YcIXI/H0qFzk91SpVOw/cIBlq9eQkaGhrKMDdWrVZEznYZiXYM+2tVuisVQpGdrXE2srU06HpzBicgRZd63u6OpsgZ1t3p/4MlYmfNjVnXJlzUlJzWbvwQQWrblGTk7uPlqtDu9KVrzSpBzWZUyIT8jiyKkkFv90lazskr9jmxVxDIWVNRYNX0NRxoacuOvcXv8turTcBJ3SxgHu6oWssLDCslVXFGVs0GnSyYm5Surqr9HGxxgc18y/FigUZIYdLfGY75V2JBS1jR32b3TFxNaBzGuXiJs7QT+3o6ljOYM6AJg6u2JRJZDYr/P3ptVptZhVcKNc8AhMrG3JuZ1C5uXzxHw1iqzoh1+YpKhaNKyHOjmFH9duJj4xmSoe7nz9xac4/jdMO/ZWgsFn5ZY6ke7D8+ZvXf3Ldlb/sp2agX58G1LwAlSPQ4e3upCRkcG382ZxOzWVgKrVGBsyFXNzc32ZmOgbJCflfflr1KQZScmJrFmxBLVajaeXN+NCpmHvkNvr0dTUjFMnjvLrlg1kZKTjVK48wQ0b06nruwbvPX/ODM6czuuVNWRgHwB+WLIaZ+eHWwTsrbfeJiMjg3nz5nI7NZXAqlWZGPKlQT2i76lH4yZNSEpOYuWKFajVary8vAgJ+dLgZtUfv//G6tWr9M9HfJb7t2Xwp0No2bIVFioVf4eGsmrlCjIyMnB0dKR27Tp07jIKM7O8934UsVu3Y1bWEa9hH6Mq50TK2XCOv/cRmbdyh9VauLkY9ARRqlR4Dx+IZaWK5KSlEb9zH/8OGkV2cl7CXuXiTLX50zBzsCczQU3ioWMcfqMbWQn3nxahuNb+Eo2FSsmQ3h657W1ECp9PPZe/vbXJa+Nz29uKODnmtrf7DqlZvNawvfWqZEWrxk657a06t71duu7aY2lvn/Y6yPVUes7Fw7Cr/QLBO1bonwfOGAXA1eUbOdXrc2OFZeB5OR9Pw7koLXQ6WcDmSVLodDrjtVJCCCFEMVw9f9bYIRSbe5VAmnU6aOwwimXXuvokTR9o7DCKzW74PK70aW/sMIql8oLNJJze/+CCpZxjtUaERT7GofZPSIC3GxciLxk7jGLx8fbkr4rVjB1GsbW4dprmXQ4ZO4xi2bG23lNfB8ith1xTpcOOtfX4zazkRm8Yy2tZEXIuSonXsh5tscXSwFjX0I619YzyvsYmPSOFEEIIIYQQQgghxHNL+xzP32gMsoCNEEKIfPbt24e1tXWhDyGEEEIIIYQQ4lFIz0ghhBD51KlThxMnThg7DCGEEEIIIYQQzxhJRgohhMjH0tISHx8fY4chhBBCCCGEEI+dTisL2DxJMkxbCCGEEEIIIYQQQgjxREjPSCGEEEIIIYQQQgjx3NLJAjZPlPSMFEIIIYQQQgghhBBCPBGSjBRCCCGEEEIIIYQQQjwRMkxbCCGEEEIIIYQQQjy3dDpZwOZJkp6RQgghhBBCCCGEEEKIJ0J6RgohhBBCCCGEEEKI55YsYPNkSc9IIYQQQgghhBBCCCGeIZMmTaJBgwZYWVlhb29fpH10Oh1jx47FxcUFS0tLWrRowfnz5w3KJCQk0K1bN2xtbbG3t6dXr16kpqY+VGySjBRCCCGEEEIIIYQQzy2dVmuUx+OUmZnJ22+/Tb9+/Yq8z1dffcXcuXP5/vvvOXjwIGXKlOGVV14hIyNDX6Zbt26cOXOGP//8k19//ZW9e/fSp0+fh4pNhmkLIYQQQgghhBBCCPEMmTBhAgBLly4tUnmdTsfs2bMZPXo07dq1A2D58uU4OzuzefNmunTpQlhYGNu2bePw4cPUqVMHgHnz5tGmTRtmzJiBq6trkd5LekYKIYQQQgghhBBCCPGEaTQakpOTDR4ajcYosVy6dImYmBhatGih32ZnZ0f9+vU5cOAAAAcOHMDe3l6fiARo0aIFSqWSgwcPFv3NdEIIIYTIJyMjQzdu3DhdRkaGsUN5ZM9CHXQ6qUdp8izUQad7NurxLNRBp5N6lCbPQh10umejHs9CHXQ6qUdp8izU4Vk1btw4HWDwGDduXIm+x5IlS3R2dnYPLBcaGqoDdDdu3DDY/vbbb+s6deqk0+l0ukmTJul8fX3z7VuuXDndt99+W+SYFDqdTpYMEkIIIe6RnJyMnZ0dSUlJ2NraGjucR/Is1AGkHqXJs1AHeDbq8SzUAaQepcmzUAd4NurxLNQBpB6lybNQh2eVRqPJ1xNSpVKhUqkKLD9y5EimTZt232OGhYXh7++vf7506VIGDx5MYmLifff7+++/adiwITdu3MDFxUW/vVOnTigUCn766ScmT57MsmXLiIiIMNi3fPnyTJgwocjzU8qckUIIIYQQQgghhBBCPGH3SzwWZOjQofTo0eO+Zby8vB4plgoVKgAQGxtrkIyMjY2lRo0a+jJxcXEG+2VnZ5OQkKDfvygkGSmEEEIIIYQQQgghRClXrlw5ypUr91iO7enpSYUKFdixY4c++ZicnMzBgwf1PR6Dg4NJTEzk6NGj1K5dG4CdO3ei1WqpX79+kd9LFrARQgghhBBCCCGEEOIZEhUVxYkTJ4iKiiInJ4cTJ05w4sQJUlNT9WX8/f3ZtGkTAAqFgsGDB/Pll1/yyy+/cPr0ad5//31cXV1p3749AAEBAbRu3ZrevXtz6NAhQkNDGTBgAF26dCnyStogPSOFEEKIAqlUKsaNG/dQwyZKm2ehDiD1KE2ehTrAs1GPZ6EOIPUoTZ6FOsCzUY9noQ4g9ShNnoU6iIc3duxYli1bpn9es2ZNAHbt2kXTpk0BiIiIICkpSV/ms88+4/bt2/Tp04fExEQaNWrEtm3bsLCw0JdZtWoVAwYMoHnz5iiVSjp27MjcuXMfKjZZwEYIIYQQQgghhBBCCPFEyDBtIYQQQgghhBBCCCHEEyHJSCGEEEIIIYQQQgghxBMhyUghhBBCCCGEEEIIIcQTIclIIYQQQgghhBBCCCHEEyHJSCGEEOIZ4eXlRXx8fL7tiYmJeHl5GSEi8SzIysri6tWrREREkJCQYOxwhBAlJCQkhLS0tHzb09PTCQkJMUJEj+bYsWOcPn1a/3zLli20b9+eUaNGkZmZacTInl8XLlxg+/btpKenAyBr5goh7iWraQshhBDPCKVSSUxMDOXLlzfYHhsbS6VKldBoNEaK7Pmk0Wg4ePAgV65cIS0tjXLlylGzZk08PT2NHdoDpaSksHLlStauXcuhQ4fIzMxEp9OhUCioWLEirVq1ok+fPtStW9fYoT6y5ORkdu7ciZ+fHwEBAcYO56FkZmZy6dIlvL29MTU1NXY4jyQxMZH169cTGRnJ8OHDcXR05NixYzg7O+Pm5mbs8J4LJiYmREdH5/ubER8fT/ny5cnJyTFSZA+nbt26jBw5ko4dO3Lx4kWqVq1Khw4dOHz4MK+99hqzZ882dohFcunSJfbt25fvb0ZwcDAWFhbGDq9I4uPj6dy5Mzt37kShUHD+/Hm8vLzo2bMnDg4OzJw509ghFklsbCzDhg1jx44dxMXF5UumPg2fjUqVKtG0aVOaNGlC06ZN8fb2NnZIQhh4Ov97EUIIIR6Dq1ev6pMtAIcOHWL16tUEBgbSp08fI0dXuF9++UX/8/bt27Gzs9M/z8nJYceOHXh4eBghsudTaGgoc+bMYevWrWRlZWFnZ4elpSUJCQloNBq8vLzo06cPH330ETY2NsYON59Zs2YxadIkvL29adu2LaNGjcLV1VVfh3///Zd9+/bRqlUr6tevz7x586hSpYqxw36gTp060bhxYwYMGEB6ejp16tTh8uXL6HQ61q5dS8eOHY0d4gOlpaUxcOBAli1bBsC5c+fw8vJi4MCBuLm5MXLkSCNHWDSnTp2iRYsW2NnZcfnyZXr37o2joyMbN24kKiqK5cuXGzvEIhk3bhw9e/akcuXKxg7lkdy5wXCvkydP4ujoaISIHs25c+eoUaMGAD///DONGzdm9erVhIaG0qVLl1KfjFy1ahVz5szhyJEjODs7G7S3kZGRWFhY0K1bN0aMGFHqr7VPP/0UU1NToqKiDG7ydO7cmSFDhjw1ycgePXoQFRXFmDFjcHFxKfBzUtpNnjyZvXv3Mm3aNHr37o2bmxtNmjTRJyefhr/b4hmnE0IIIYROp9PpGjVqpFu+fLlOp9PpoqOjdba2trrg4GCdk5OTbsKECUaOrnAKhUKnUCh0SqVS//Odh7m5uc7X11e3detWY4f5XGjbtq3Ozc1NN3z4cN3evXt1aWlpBq9HRkbqli5dqnvllVd0FSpU0P3vf/8zUqSF69Kli+7ff/99YLmMjAzdd999p1u0aNETiKr4nJ2ddSdOnNDpdDrdqlWrdD4+Prrbt2/rvv32W12NGjWMHF3RfPLJJ7ratWvr9u3bpytTpowuMjJSp9PpdJs3b35q6qDT6XTNmzfXDR8+XKfT6XTW1tb6eoSGhuoqV65sxMgeTlBQkM7ExET38ssv61atWqXLyMgwdkhFYm9vr3NwcNAplUr9z3cetra2OqVSqevfv7+xwywyGxsb3blz53Q6nU7XokUL3ezZs3U6nU535coVnYWFhTFDe6AaNWro6tWrp/vmm290UVFR+V7PyMjQ7dq1S9e3b1+dk5OTbt26dUaIsujubmfv/mxHRkbqypQpY8zQHoq1tbXu+PHjxg6jxNy4cUO3Zs0aXbdu3XSmpqY6pVJp7JCE0EnPSCGEEOI///77L/Xq1QNg3bp1vPDCC4SGhvK///2Pjz76iLFjxxo5woJptVoAPD09OXz4ME5OTkaO6Pn12muvsWHDBszMzAp83cvLCy8vL7p3787Zs2eJjo5+whE+2Jo1a4pUTqVS8dFHHz3maEpOUlKSvrfXtm3b6NixI1ZWVrz22msMHz7cyNEVzebNm/npp5948cUXDXrqVK1alcjISCNG9nAOHz7MDz/8kG+7m5sbMTExRojo0Zw4cYLjx4+zZMkSBg0axMcff0yXLl3o2bNnqZ7CYPbs2eh0Onr27MmECRMMetObm5vj4eFBcHCwESN8OHXq1OHLL7+kRYsW7Nmzh++++w7IHfbs7Oxs5Ojub+rUqbzyyiuFvq5SqWjatClNmzZl0qRJXL58+ckF9whu376NlZVVvu0JCQmoVCojRPRo3N3dn4l5LtPS0ti/fz+7d+9m165dHD9+nBdeeIGmTZsaOzQhZJi2EEIIcUdWVpb+n+W//vqLN954AwB/f/9SmTS616VLl/Q/Z2RkPDVzTN3r7mHnd1MoFFhYWODj41Nq513s27dvkcsGBgYSGBj4GKMpWVevXgVyv6Q9jdzd3Tlw4ACOjo5s27aNtWvXAqBWq5+az8rNmzfzze8HuQmAp2kYoUqlIjk5Od/2c+fOUa5cOSNE9Ohq1qxJzZo1mTlzJlu3bmXJkiU0bNgQf39/evXqRY8ePQySfaVB9+7dgdwbWA0aNCj05snTYvbs2XTr1o3NmzfzxRdf4OPjA8D69etp0KCBkaO7v/slIu9VtmxZypYt+xijKb6XXnqJ5cuXM3HiRCD377ZWq+Wrr76iWbNmRo6u6GbPns3IkSP54Ycfntppbho0aMDx48cJCAigadOmjBw5ksaNG+Pg4GDs0IQAJBkphBBC6FWtWpXvv/+e1157jT///FP/z/SNGzdK/RcAyO0hOWnSJL7//ntiY2P188mNGTMGDw8PevXqZewQi6R9+/YoFIp8vRLubFMoFDRq1IjNmzeX6n+qn9Y5SO+WnZ3NhAkTmDt3LqmpqQBYW1szcOBAxo0b91QlMQYPHky3bt2wtramcuXK+p4he/fupVq1asYNrojq1KnDb7/9xsCBAwH0Ccgff/zxqerJ9sYbbxASEsK6deuA3HpERUUxYsSIp2LuzoLodDqysrL0iz05ODgwf/58xowZw8KFC+ncubOxQ8ynSZMm5OTksGHDBsLCwoDcv4NvvPEGJiYmRo6u6KpXr26wmvYd06dPf6rqcbeMjIx8K4Hb2toaKZqi++qrr2jevDlHjhwhMzOTzz77jDNnzpCQkEBoaKixw7svBwcHg5s6t2/fxtvbGysrq3x/6xISEp50eA8tPDycMmXK4O/vj7+/PwEBAaX6fybx/JHVtIUQQoj/7N69mw4dOpCcnEz37t1ZvHgxAKNGjSI8PJyNGzcaOcL7CwkJYdmyZYSEhNC7d2/+/fdfvLy8+Omnn5g9ezYHDhwwdohFsmPHDr744gsmTZqkHzZ/6NAhxowZw+jRo7Gzs6Nv377Ur1+fRYsWGTnawr300kv06dOH9957j5iYGPz8/KhatSrnz59n4MCBpXbY/9369evHxo0bCQkJ0Se7Dhw4wPjx42nfvr1+OOTT4siRI1y9epWWLVtibW0NwG+//Ya9vT0NGzY0cnQPtn//fl599VXeffddli5dSt++fTl79ix///03e/bsoXbt2sYOsUiSkpJ46623OHLkCCkpKbi6uhITE0NwcDC///47ZcqUMXaIRXb06FGWLFnCmjVrUKlUvP/++3z44Yf63nnz5s3jyy+/JDY21siR5nfhwgXatGnD9evX8fPzAyAiIgJ3d3d+++03WX33CUtLS+Ozzz5j3bp1xMfH53v9aVjBGXI/3/Pnz+fkyZOkpqZSq1YtPv74Y1xcXIwd2n3dWRisKO70Li7NdDodp0+fZvfu3ezZs4e9e/dibm5OkyZNaNasGb179zZ2iOI5J8lIIYQQ4i45OTkkJycb3D2+fPkyVlZWBQ6PLE18fHz44YcfaN68OTY2Npw8eRIvLy/Cw8MJDg5GrVYbO8QieeGFF1iwYEG+4XWhoaH06dOHM2fO8Ndff9GzZ0+ioqKMFOWDOTg48M8//+Dn58fcuXP56aefDOYgvXjxorFDfCA7OzvWrl3Lq6++arD9999/p2vXriQlJRkpsudXZGQkU6dONfiiP2LEiKemd+fd9u/fz6lTp/T1aNGihbFDeijVqlUjPDycVq1a0bt3b9q2bZuvJ96tW7coX768fm7f0qRNmzbodDpWrVqln081Pj6ed999F6VSyW+//WbkCAvn6OjIuXPncHJyytej7V5PQy82gI8//phdu3YxceJE3nvvPb755huuX7/ODz/8wNSpU+nWrZuxQ3ygqKgo3N3dCzwfUVFRVKpUyQhRCZ1Ox9GjR5k/fz6rVq1Cq9U+Nclt8eySYdpCCCHEXe78wxYZGck777yDjY0N5ubmBU7IXtpcv35d3xvnblqtlqysLCNE9GgiIyMLHI5ma2urT+BVqVKFW7duPenQHsrTPgcp5M7tV9B8WZ6enpibmz/5gIpBp9Oxfv16du3aRVxcXL7kUGnv+XyHt7c3CxcuNHYYJaJRo0Y0atTI2GE8sk6dOtGzZ0/c3NwKLePk5FQqE5EAe/bs4Z9//tEnIiF3XsKpU6eW+p7CX3/9NTY2Nvqfn6Y5UwuzdetWli9fTtOmTfnggw946aWX8PHxoXLlyqxateqpSEZ6enoSHR2d7+ZtfHw8np6eT00CrKA5bSF3SgmVSvVU/P07duwYu3fvZvfu3ezfv5+UlBSqVavGwIEDadKkibHDE0KSkUIIIcQdV65coXXr1kRFRaHRaGjZsiU2NjZMmzYNjUbD999/b+wQ7yswMJB9+/ZRuXJlg+3r16+nZs2aRorq4dWuXZvhw4ezfPly/WIWN2/e5LPPPtOvUHv+/PlSv5DK0z4HKcCAAQOYOHEiS5Ys0SdWNRoNkyZNYsCAAUaO7uEMHjyYH374gWbNmuHs7PxUJi+ehS/Idxw+fLjQxPCsWbOMFNXDuTM35L3S09OZPn16qZ+KQaVSkZKSkm97ampqqb+W7h4m26NHD+MFUoISEhLw8vICcm++3enR2ahRI/r162fM0IrszrzO90pNTX1qFgoDsLe3v+/fiIoVK9KjRw/GjRuHUql8gpEVXb169ahZsyZNmjShd+/eNG7cuNQtpiWeb5KMFEIIIf4zaNAg6tSpw8mTJw2SRR06dHgq5tYZO3Ys3bt35/r162i1WjZu3EhERATLly/n119/NXZ4RbZo0SLatWtHxYoV9QnHq1ev4uXlxZYtW4DcLzajR482ZpgPNG3aNDp06MD06dPp3r07QUFBQO5q4Xfmwiztjh8/zo4dO6hYsaI+/pMnT5KZmUnz5s1588039WVLe8/CFStWsHHjRtq0aWPsUB7Zs/AFGWDy5MmMHj0aPz+/fInhpylJPGHCBD766KN8PefT0tKYMGFCqU9Gvv766/Tp04dFixbp26SDBw/y0Ucf6XtyPw2OHTuGmZmZfqqCLVu2sGTJEgIDAxk/fnypT6ze4eXlxaVLl6hUqRL+/v6sW7eOevXqsXXrVuzt7Y0d3n0NGTIEyP38jhkzxuAzkZOTw8GDB6lRo4aRont4S5cu5YsvvqBHjx4Gc1cvW7aM0aNHc/PmTWbMmIFKpWLUqFFGjrZgCQkJT8WiR+L5JXNGCiGEEP8pW7Ysf//9N35+fgZzLl6+fJnAwEDS0tKMHeID7du3j5CQEIP55MaOHUurVq2MHdpD0Wq1/O9//+PcuXMA+Pn50bJly1KdYCnI0zwHKcAHH3xQ5LJLlix5jJEUn6enJ3/88Qf+/v7GDuWRLV++vEhfkIcPH15qvyADODs7M23atKe+R5tSqSQ2Nlbfg/uOnTt30rlzZ27evGmkyIomMTGR7t27s3XrVv1qwdnZ2bzxxhssXbr0qelFVbduXUaOHEnHjh25ePEigYGBvPnmmxw+fJjXXnuN2bNnGzvEIvn6668xMTHhk08+4a+//qJt27b6VdpnzZrFoEGDjB1ioZo1awbkDv0PDg42SACbm5vj4eHBsGHDqFKlirFCfCjNmzenb9++dOrUyWD7unXr+OGHH9ixYwcrVqxg0qRJhIeHGynKojl69ChhYWFA7giaWrVqGTkiIXJJMlIIIYT4j4ODA6GhoQQGBhokI/fv30/Hjh1L5WqoQoiiWbZsGdu2bWPx4sVYWloaO5xH8qx8QXZxcWHv3r1PTWLiXncWTElKSsLW1tagN2dOTg6pqal89NFHfPPNN0aMsujOnz+vv14CAgIKnHu4NLOzs+PYsWN4e3szbdo0du7cyfbt2wkNDaVLly5cvXrV2CE+kitXrnD06FF8fHyoXr26scMpkg8++IA5c+Y89T3yLC0tOXXqVL426vz58wQFBZGWlsalS5eoWrVqqb1RHRcXR+fOndmzZ4++Z21iYiLNmjVj7dq1+W6iCPGkSTJSCCGE+E/nzp2xs7NjwYIF2NjYcOrUKcqVK0e7du2oVKlSqe/59SzZsWMHO3bsKHA+ucWLFxspqgerVasWO3bswMHBgZo1a953yOmxY8eeYGQiPT2dDh06EBoaioeHh74n2B1Pw/l4Fr4gA3z11VfcuHHjqemxdq9ly5ah0+no2bMns2fPNuhBeKcXWHBwsBEjfL7Y2tpy9OhRqlSpQsuWLXn99dcZNGgQUVFR+Pn5kZ6ebuwQH1pGRsZTNcfis8bX15c333yTqVOnGmwfOXIkmzZtIiIigiNHjtCuXTuuX79upCjvr3Pnzly8eJHly5cTEBAAwNmzZ+nevTs+Pj6sWbPGyBGK553MGSmEEEL8Z+bMmbzyyisEBgaSkZHBO++8w/nz53FycirV/7R5eno+cJ41hULB/9m783Cq0/cP4O9zRMjaolKyZwmVTOu00J5J0kwZKtp3pm1qphKmbUyrNKkh0t5o03dm2pCSNgltskYLEqlsleX3h3F+nTnoaHvO57hf1zXXxfM5f7yNcD7353nuOy0t7Qsl+jheXl7w9vaGlZUV2rZty6kecqNGjRIMerG3t2cb5gNJa0HVxcUFN27cwPjx4zk7wEZLSwuBgYEiN8iBgYGC/qr5+fm1DlWRJIsWLYKtrS309fVhamoqUhiW9P6jNcNTdHV10bt3b5H8XFFRUYHg4OA6H/xEREQwStYwVlZWWLVqFQYNGoSoqChs374dAJCRkYHWrVszTie+iooKrFmzBv7+/sjNzUVycjL09PSwYsUK6OjoYMqUKawjiiU2NhaHDx9GVlYW3rx5I3RN0n+2a6xfvx7fffcd/vnnH8HgvNjYWCQlJSE0NBRA9RCucePGsYxZr1OnTuHcuXOCQiRQfUx727ZtnGvdQ6QTFSMJIYSQf7Vv3x4JCQk4ePAgEhMTUVRUhClTpsDZ2Vmij3X+8MMPdV578OABduzYgdevX3+5QB/J398fwcHBmDBhAusoDbZy5cpaP+YSaSio1uavv/7C6dOn8fXXX7OO8sHqukG+d+8ejhw5AkDyb5ABwM3NDZGRkbC2tkaLFi04VRh++fKl4Ahq165dUVpaWufOO0k/quru7o7g4GDY2trCzMyMU9+Hd23evBnOzs44fvw4li1bJjhmHhoait69ezNOJ77Vq1dj9+7d8PHxERqaZ2Zmhs2bN3OiGHnw4EFMnDgRQ4cOxZkzZzBkyBAkJycjNzcXo0ePZh1PbHZ2dkhKSsLOnTtx//59AMDw4cNx/Phx6OjoAIDETzivrKys9UGJrKysyIMHQligY9qEEEKIFCooKMAvv/yC7du3o0ePHvj111/Rs2dP1rHE0qJFC1y7dg36+vqso3yUhw8fgsfjoX379gCqB43s378fpqammD59OuN071dRUYFLly7BwsJC4ie5iqNmOi1Xeq/V5cGDB/D39xca7jRjxgwUFRXBzMyMcTrxKCsr4+DBg7C1tWUdpcFkZGSQnZ0NDQ0N8Pn8Wgt4VVVV4PF4qKioYJBQfC1btkRISAinJ8zXp6ysDDIyMpzZuWpgYIAdO3Zg4MCBQn2rk5KS0KtXLzx//px1xPeysLDAjBkzMGfOHMHXoKurixkzZqBt27bw8vJiHbHRGDVqFAoLC3HgwAFoamoCAB4/fgxnZ2eoq6vj2LFjjBOSxo52RhJCCGnUwsLCMHz4cMjKyiIsLKze19rZ2X2hVB+utLQUGzduxPr166GtrY2jR49y7kZz6tSp2L9/P1asWME6ykdxcnLC9OnTMWHCBOTk5GDQoEEwMzPDvn37kJOTAw8PD9YR6yUjI4MhQ4bg3r17UlGM3LBhA3788Uf4+/sLdrZwkY6OjuCY9suXL3HgwAGMGzcOsbGxEl/8qtG8eXPOPmyIiIhA8+bNBR9zdTchUN3fkmvDaurD9anBjx8/rvX7UVlZibdv3zJI1HBpaWmChwxycnIoLi4Gj8fD/PnzYWNjI9HFyMTERJiZmYHP5yMxMbHe13LhoZafnx/s7Oygo6MjaOPx8OFDmJmZYe/evYzTEULFSEIIIY2cvb09cnJyoKGhUe+RVEnf5VJRUYE//vgDXl5ekJeXh6+vL8aPH8/JG+WysjLs3LkT586dg4WFhciulo0bNzJK1jC3b99G9+7dAVRPOzY3N8elS5dw5swZzJw5U+KLkUD18cD09HTo6uqyjvLRxo8fj5KSEujr60NRUVHk31VBQQGjZA134cIFBAYG4siRI9DU1ISDgwP8/PxYxxKbp6cnVq5ciaCgICgqKrKO0yD9+/cXfDxgwAB2QT6BhQsXYsuWLfDz8+Pk34oa0jI12NTUFBcvXoS2trbQemhoKLp27cooVcOoq6vj1atXAIB27drh9u3bMDc3R2FhoUQP1QKALl26CN4PdunSBTweD7UdIpX094M1tLS0EBcXh3PnziEpKQkAYGJigkGDBjFORkg1KkYSQghp1N7tm8PVHjqHDx/G8uXLUVhYiGXLlmHWrFmQk5NjHeuDJSYmokuXLgCqC3rv4tIN89u3bwW9F8+dOyfYWWtsbIzs7GyW0cS2atUqLFq0CL/88gu6deuGZs2aCV2X9J547+Lq5OYaOTk5CA4ORmBgIF6+fImxY8fi9evXOH78OExNTVnHaxBfX1+kpaWhdevWnJ1sDgBBQUFQUlLCd999J7T+559/oqSkRDDoRlJFR0cjMjIS//zzDzp16sS5QUI15s2bh6KiIty5c0dkarCbm5tED6B7l4eHB1xcXPD48WNUVlbi6NGjuH//PkJCQvC///2PdTyx9OvXD2fPnoW5uTm+++47uLu7IyIiAmfPnsXAgQNZx6tXRkaGoHCdkZHBOM2nwePxMHjwYAwePJh1FEJEUM9IQgghhOP4fD4UFBTw/fff11sc4sqOQmnRo0cPWFtbw9bWFkOGDMGVK1fQuXNnXLlyBd9++y0ePXrEOuJ78fl8wcfvFoK50hNPWowcORIXLlyAra0tnJ2dMWzYMEEvvISEBM4VI993VJMrw586duyIHTt2wNraWmg9KioK06dPFwy+kFSTJk2q93pQUNAXSvJxVFVVce7cOcFQpxrXrl3DkCFDUFhYyCbYB7h48SK8vb2RkJCAoqIiWFpawsPDgzPTjwsKClBWVgZNTU1UVlbCx8cHMTExMDQ0xPLly6Gurs46olTz9fUV+7Vubm6fMQkh70fFSEIIIeRfbm5uMDAwEHmD5ufnh9TUVIndWTVgwID37hjk8XiIiIj4QokIAJw/fx6jR4/Gy5cv4eLigl27dgEAfv75ZyQlJXFi11FUVFS91989ssoFFRUVOH78uKCvXKdOnWBnZwcZGRnGyerXpEkTuLm5YdasWTA0NBSsc7UYKS3k5eWRlJQk0oP0wYMHMDExqXPKNvm0lJWVcfHiRcGO+ho3b95E//798fLlSzbBGqC8vBxr1qzB5MmTBUPPCFspKSmIjIzE06dPRU7OSGqbFXFbqvB4PKSnp3/mNITUj4qRhBBCyL/atWuHsLAwdOvWTWg9Li4OdnZ2nNjJxlUODg4IDg6GiooKHBwc6n0tF4p4NSoqKvDy5Uuh3SAPHjyAoqIiNDQ0GCYTT1ZWFrS0tESK3VVVVXj48CE6dOjAKFnDpaamYsSIEXj8+DGMjIwAAPfv34eWlhb++usviR6ocuXKFQQGBuLQoUMwMTHBhAkT4OjoiLZt23K6GPnuwJFOnTpxpi9ejQ4dOgiGRLzrxIkTmDNnDv3N+EKkZWqwkpISbt++zekBW1lZWfVe58rfjD/++AOzZs1Cy5Yt0aZNG6G/gTwejzOtJAiRZNQzkhBCCPlXfn4+VFVVRdZVVFTw7NkzBokaD1VVVcGb/dq+B1wlIyOD8vJyREdHAwCMjIw4daOpq6uL7OxskcJpQUEBdHV1OXVM283NDfr6+rhy5YpgGnJ+fj7Gjx8PNzc3/PXXX4wT1q1nz57o2bMnNm/ejEOHDmHXrl1YsGABKisrcfbsWWhpaUFZWZl1TLE9ffoUjo6OOH/+PKcHjnz//fdwc3ODsrIy+vXrB6B6N7G7uzscHR0Zp2s8pGVq8MCBAxEVFcWpvxH/paOjU+9JDa78zVi1ahVWr16NJUuWsI7y2amoqCA+Ph56enqso5BGhnZGEkIIIf8yMzPDzJkzMXfuXKH1rVu3Yvv27bh79y6jZISLiouLMW/ePISEhAiOeMnIyGDixInYunUrJ6YI8/l85ObmihSHMjMzYWpqiuLiYkbJGq5Zs2a4cuUKzM3NhdYTEhLQp08fFBUVMUr2Ye7fv4/AwEDs2bMHhYWFGDx4MMLCwljHEsu4ceOQnp6OkJAQkYEjBgYGnBk48ubNG0yYMAF//vknmjSp3uNRWVmJiRMnwt/fn9ODxLimqqqK81OD/f394eXlBWdn51oHhv13B64kSkhIEPr87du3uHnzJjZu3IjVq1e/9+SDpGhMBTplZWUkJCQ0iq+VSBYqRhJCCCH/2rVrF+bOnYvFixfDxsYGABAeHo4NGzZg8+bNmDZtGuOEhEtmzJiBc+fOwc/PD3369AFQPb3Wzc0NgwcPxvbt2xknrNuCBQsAAFu2bMG0adOECqcVFRW4evUqZGRkcOnSJVYRG6x58+b43//+h969ewutX7p0CSNHjkRBQQGjZB+noqICJ0+exK5duzhTjJSmgSMAkJycjISEBCgoKMDc3Bza2tqsIxEOendg2H9xfWDYX3/9hd9++w3nz59nHUUsU6ZMwVdffYWZM2eyjvLZUTGSsELFSEIIIeQd27dvx+rVq/HkyRMA1UeOPD09MXHiRMbJpFvXrl3fO4SnBld6NbVs2RKhoaEYMGCA0HpkZCTGjh2LvLw8NsHEUDMdOCoqCr169RLa4SUnJwcdHR0sWrRIaJiKpJs4cSLi4uIQGBiI7t27AwCuXr2KadOmoVu3bggODmYbsBGRhoEjXPf27VsMGzYM/v7+nPo5rkt4eDjCw8NrHTZSMzyMsJOamorOnTtL9G76dydRFxcXY+PGjbC1tYW5uTlkZWWFXitNk6ipGElYoWIkIYQQUou8vDwoKChASUmJdZRGwcvLS/BxWVkZfv/9d5iamqJXr14Aqgd43LlzB7Nnz8batWtZxWwQRUVF3LhxQ3AMtcadO3fQvXt3ib4pqzFp0iRs2bIFKioqrKN8tMLCQri4uODkyZOCG8vy8nLY2dkhKChI0LuQfH5cHjiyYMEC/PLLL2jWrJlgB3FdNm7c+IVSfZhWrVohJiaG88VILy8veHt7w8rKCm3bthV5sCXJ/57EUVhYiL1794q0kJFE/32QUFVVhezsbHh6eiIpKQnx8fFsgomhsU6ipmIkYYWKkYQQQgiHJSYmiv1aCwuLz5jk05k6dSratm2LX375RWh95cqVePjwIWd2uQwcOBAtWrRASEgI5OXlAQClpaVwcXFBQUEBzp07xzhhw2VmZqK4uBjGxsb1HimUZKmpqYIJziYmJjAwMGCcqPF5+PAh7OzscOfOHZGBI2FhYWjfvj3jhHWztrbGsWPHoKamhgEDBtS5o5vH4yEiIuILp2uY+fPno2nTpli3bh3rKB+lbdu28PHxwYQJE1hH+aTCw8MRGBiIY8eOQVFREfn5+awjvRefzxf5maiqqoKWlhYOHjwoeMBIJEdj6o9JJAsVIwkhhJB/5ebmYtGiRYKjXv/9EymJ/Zpq3vhXVVW995izJOavjaqqKmJjY0V266SkpMDKygovXrxglKxhbt++jaFDh+L169fo3LkzgOrm/vLy8jh9+jQ6derEOGHddu3ahcLCQqGdX9OnT0dgYCCA6qngp0+fFhSSuMDb2xuLFi0SGRxUWlqK3377DR4eHoySNU7SMHCE62oGbBkaGtY6MEXSd3bWaNGiBa5duwZ9fX3WUT7aw4cPERQUhKCgIGRlZcHR0RETJkzAwIEDRY4KS6KoqCihz/l8Plq1agUDAwPBkCdpIg2FPNoZSVihYiQhhBDyr+HDhyMrKwtz586t9ajXqFGjGCWrW2ZmpuDjmzdvYtGiRVi8eLFg98Hly5exYcMG+Pj4wN7enlHKhmnTpg3WrVsHV1dXofXg4GAsWbIEubm5bIJ9gJKSEuzbt0+o4OLs7AwFBQXGyerXs2dPzJgxA5MmTQIAnDp1CiNHjkRwcDBMTEwwd+5cmJqaIiAggHFS8cnIyCA7OxsaGhpC6/n5+dDQ0OBMsZ5Ihrdv30JBQQHx8fEwMzNjHeeD1PSGrQ0XdnbWWLJkCZSUlLBixQrWUT7I27dvcfz4cQQEBODixYsYNmwYnJyc8P333yMhIQGmpqasI5I6SHIhT9wHcNHR0fjqq6/QtGlTFjFJI0bFSEIIIeRfdQ1V4Iru3bvD09MTI0aMEFr/+++/sWLFCty4cYNRsoZZt24dvLy8MG3aNKFBI7t27cKKFSuwdOlSxgmlX4sWLXD+/HmYm5sDAGbNmoW8vDyEhoYCAM6fP49JkyYhIyODZcwG4fP5yM3NRatWrYTWIyIiMG7cOIkeKCRt3NzcYGBgIDIEws/PD6mpqdi8eTObYA2kp6eHY8eOCXY+Ezbc3d0REhICCwsLWFhYiOwglPQdnhoaGjA2Nsb48ePx3XffQV1dHQAgKyvLuWJkWFiY2K+1s7P7jEm+DEkuRtIDOCLppG+vNCGEEPKBtLS0RI5mc8mtW7dqbcCuq6uLu3fvMkj0YZYuXQo9PT1s2bIFe/fuBVC9ozAoKAhjx45lnK5hUlJSEBkZWeuEV0k+FlxaWio0tCYmJgZTpkwRfK6np4ecnBwW0RpMXV0dPB4PPB4PHTt2FNrxXFFRgaKiIsycOZNhwsbnyJEjtRYtevfujXXr1nGmGLls2TL8/PPP2LNnD5o3b846zkd59OgRAEh0v866JCYmCh4i3r59W+ja+9qXSILy8nLB7ygZGRnWcT6Kvb29oHXMu/67xuPxqBj2mdXVvichIYHzv6+IdKBiJCGEEPKvzZs3Y+nSpdixYwd0dHRYx2kwExMTrF27FgEBAZCTkwMAvHnzBmvXrhWZ6Czpxo4dy7nC43/98ccfmDVrFlq2bIk2bdoI3RTweDyJLkZqa2vjxo0b0NbWxrNnz3Dnzh306dNHcD0nJweqqqoME4pv8+bNqKqqwuTJk+Hl5SWUW05ODjo6OjRU4QvLz8+v9d+PiooKnj17xiDRh6nZyampqQltbW2RnotxcXGMkomnsrISq1atwoYNG1BUVASgeqfXwoULsWzZMs4MqYqMjGQd4aM8efIER44cQWBgINzd3TF8+HCMHz+eE4XU/zpz5gyWLFmCNWvWCLWLWb58OdasWYPBgwczTij96AEc4QoqRhJCCCH/GjduHEpKSqCvrw9FRUWRo14FBQWMkonH398fI0eORPv27QWTsxMTE8Hj8XDy5EnG6RqmsLAQoaGhSE9Px6JFi9C8eXPExcWhdevWaNeuHet4Ylm1ahVWr16NJUuWsI7SYC4uLpgzZw7u3LmDiIgIGBsbo1u3boLrMTExnOmT5+LiAqB6h3Dv3r05MQRC2hkYGODUqVOYO3eu0Po///wjkccd6zJq1ChOFoxqLFu2DIGBgVi3bp3gYUN0dDQ8PT1RVlaG1atXM07YOMjLy8PZ2RnOzs5IS0tDUFAQ3NzcUF5ejtWrV8PV1RU2Njac2DX5ww8/wN/fH19//bVgbejQoVBUVMT06dNx7949huk+PUn8+acHcIQrqGckIYQQ8q/du3fXe72mqCHJiouLRQamODk5iezYkWSJiYkYNGgQVFVV8eDBA9y/fx96enpYvnw5srKyEBISwjqiWLg8ZbOyshKenp44efIk2rRpg40bNwrtrv3uu+8wbNgwoaPbXFBRUYFjx44JbohNTU0xatQoqZzyKsl27dqFuXPnYvHixbCxsQEAhIeHY8OGDdi8eTOmTZvGOGHjoKmpCX9/f5HefSdOnMDs2bPx+PFjRskaZvTo0bUWhXg8HuTl5WFgYAAnJycYGRkxSPdhKisrcfr0aQQGBuLkyZNQVlbmxK5hBQUFXL9+XeRhVWJiInr06IHS0lJGyT4PSe4ZGRUVRQ/giESjYiQhhBBCJMqgQYNgaWkJHx8foTf6MTExcHJywoMHD1hHFMuUKVPw1Vdf0XEoCXHnzh3Y2dkhJydHUJRITk5Gq1atcPLkSc7s9JQW27dvx+rVq/HkyRMAgI6ODjw9PTFx4kTGycSnp6eH69evo0WLFkLrhYWFsLS0RHp6OqNk4pGXl0diYiI6duwotH7//n106dKFM4UjV1dXHD9+HGpqaoId3HFxcSgsLMSQIUOQkJCABw8eIDw8XKjdBFfk5eVhz549WLBgAeso79WvXz/Iy8tjz549aN26NQAgNzcXEydORFlZGaKiohgnFI+0TKKurKxEampqrX2r+/XrxygVIdWoGEkIIYTUoqysDG/evBFae3egh6Tas2cPduzYgfT0dFy+fBna2trYtGkT9PT0MGrUKNbxxKKqqoq4uDjo6+sLFSMzMzNhZGSEsrIy1hHFsnbtWmzcuBG2trYwNzcX2Z3w30nCkqKupvdc16tXL7Rq1Qq7d+8WTKt9/vw5XF1dkZeXh5iYGMYJG6e8vDwoKChASUmJdZQG4/P5yMnJEZlWm5ubCy0tLZG/IZKmR48e6NGjB3x9fYXW582bh+vXr+PKlSuMkjXM0qVL8fLlS/j5+Qn6XFZWVsLd3R3KyspYvXo1Zs6ciTt37iA6OppxWumWmpqK0aNHIzk5GVpaWgCAhw8fwtDQEMePH4eBgQHjhOKRhknUV65cgZOTEzIzM2sdKMSFr4FINzqTQgghhPyruLgYS5YsweHDh5Gfny9yXdLfuG3fvh0eHh744YcfsGrVKkFedXV1bN68mTPFyKZNm+Lly5ci6zW72Lhi586dUFJSQlRUlMhuEB6PJ7HFyE6dOsHDwwMODg6CQUi1SUlJwcaNG6GtrY2lS5d+wYQfJj4+HrGxsYJCJFD9s7F69Wp89dVXDJM1PjY2Njh69CjU1NSEfqZfvnwJe3t7REREMEz3fu9OAj99+rRQT7aKigqEh4dDV1eXRbQG8fHxga2tLc6dOyc0bOThw4f4+++/GacTX2BgIC5duiQ0cIfP52PevHno3bs31qxZg7lz56Jv374MUzYOBgYGSExMxNmzZ4XaxQwaNIhTD7mkYRL1zJkzYWVlhb/++gtt27bl1P9/0jhQMZIQQgj5148//ojIyEhs374dEyZMwLZt2/D48WPs2LED69atYx3vvbZu3Yo//vgD9vb2QnmtrKywaNEihskaxs7ODt7e3jh8+DCA6sJdVlYWlixZgjFjxjBOJ76MjAzWET7I1q1bsWTJEsyePRuDBw+GlZUVNDU1IS8vj+fPn+Pu3buIjo7GnTt3MHfuXMyaNYt1ZLF07NgRubm56NSpk9D606dPObNbR1qcP3++1l2DZWVluHjxIoNEDWNvbw+g+nfTf3sJy8rKQkdHBxs2bGCQrGH69++P5ORkbNu2TVA4cnBwwOzZs6Gpqck4nfjKy8uRlJQkctw8KSlJ8FBOXl6eijFfCI/Hw5AhQ9CvXz80bdqUU//fpWkSdUpKCkJDQ+nvG5FYVIwkhBBC/nXy5EmEhIRgwIABmDRpEvr27QsDAwNoa2tj3759cHZ2Zh2xXhkZGejatavIetOmTVFcXMwg0YfZsGEDvv32W2hoaKC0tBT9+/dHTk4OevXqRdNdv4CBAwciNjYW0dHROHToEPbt24fMzEyUlpaiZcuW6Nq1KyZOnAhnZ2ehXYaSbu3atXBzc4Onpyd69uwJoPoYm7e3N3799Veh3bhcaMnARYmJiYKP7969i5ycHMHnFRUVOHXqFNq1a8ciWoPU9F7T1dXF9evX0bJlS8aJPpympibnf69OmDABU6ZMwc8//yzY5Xz9+nWsWbNG0IM0KipK5EEE+fQqKyuxevVq+Pv7Izc3F8nJydDT08OKFSugo6Mj8UPPpGkSdY8ePZCamkrFSCKxqGckIYQQ8i8lJSXcvXsXHTp0QPv27XH06FF0794dGRkZMDc3R1FREeuI9TI1NcXatWsxatQooV6LW7duRVBQEOLi4lhHbJDo6GgkJiaiqKgIlpaWGDRoEOtIDVLXsIF3J7yOGjWKM0e+uO7dI5w1u11q3ga/+zn10vp8+Hy+yP/7dykoKGDr1q2YPHnyl45GOKyiogLr1q2Dn58fcnNzAQCtW7fGvHnzsGTJEsjIyCArKwt8Ph/t27dnnFa6eXt7Y/fu3fD29sa0adNw+/Zt6Onp4dChQ9i8eTMuX77MOqJYpGES9bFjx7B8+XIsXry41r7VFhYWjJIRUo2KkYQQQsi/LCwssHXrVvTv3x+DBg1Cly5dsH79evj6+sLHxwePHj1iHbFeAQEB8PT0xIYNGzBlyhQEBAQgLS0Na9euRUBAABwdHVlHbLCysjLOHfOqYW1tjbi4OFRUVAhNb5aRkYGxsTHu378PHo+H6OhomJqaMk5bu5CQEIwbN05kUuibN29w8OBBTk0+bsgU1/79+3/GJI1XzSAFPT09XLt2TahfpJycHDQ0NCAjI8MwYcO4ubnBwMBApP+rn58fUlNTsXnzZjbBGrGaHc5c2d3ckAnZGzdu/IxJPg0DAwPs2LEDAwcOFHoompSUhF69euH58+esI4qN65Oo330AV4PH49FDNyIxqBhJCCGE/GvTpk2QkZGBm5sbzp07h5EjR6Kqqgpv377Fxo0b4e7uzjrie+3btw+enp5IS0sDUH0Ez8vLS+KPRr2L68e8amzevBkXL15EUFCQ4Mb4xYsXmDp1Kr7++mtMmzYNTk5OKC0txenTpxmnrZ00TBQl5HNp164dwsLC0K1bN6H1uLg42NnZSfwDLMKetbW1WK/j8XgSP9gJqN7dnJSUBG1tbaFi5N27d9G9e3eJP2FSQxomUWdmZtZ7XVtb+wslIaR2VIwkhBBC6pCZmYkbN27AwMCAc8dZSkpKUFRUJFJE4gJpOebVrl07nD17VmTX4507dzBkyBA8fvwYcXFxGDJkCJ49e8YoZf34fD5yc3NFppgnJCTA2toaBQUFjJJ9mLKyMiQmJta608XOzo5RqsYnJCSk3utc2XErLy+P27dvi/RkS01NhZmZGcrKyhgla3xCQ0Nx+PBhZGVliQxH4lqLEi7r1q0b5s+fj/HjxwsVI729vXH27FlODKgCgC5duqBjx47w8vKqdRL1u70kCSEfhgbYEEIIIXXQ1tbm1JNjGxsbHD16FGpqalBUVISioiKA6mNr9vb2nNhVAVQXKnbu3ImBAwcKTa3s3LmzYOIrF7x48QJPnz4VKUbm5eUJjhKqqanVOlWYta5duwomig4cOBBNmvz/W8aKigpkZGRg2LBhDBM23KlTpzBx4sRaC79c2ekiLf67y/zt27coKSmBnJwcFBUVOVOMNDAwwKlTpzB37lyh9X/++Qd6enqMUjU+vr6+WLZsGVxdXXHixAlMmjQJaWlpuH79OubMmcM6XqPi4eEBFxcXPH78GJWVlTh69Cju37+PkJAQ/O9//2MdT2zSMol6z5498Pf3R0ZGBi5fvgxtbW1s3rwZurq6GDVqFOt4pJGjYiQhhBDyjvDwcISHh9e6c2rXrl2MUonn/PnztRa2ysrKOLMbAQAeP35c6w1AZWUl3r59yyDRhxk1ahQmT56MDRs2CE14XbRoEezt7QEA165dQ8eOHRmmrF1Nvvj4eAwdOhRKSkqCazUTRceMGcMo3YeZN28evvvuO3h4eKB169as4zRqtfWNS0lJwaxZs7B48WIGiT7MggULMHfuXOTl5cHGxgZA9d+QDRs2SGy/yJoHDeLgyo7C33//HTt37sT333+P4OBg/Pjjj9DT04OHhwfndm/HxsbWucPz6NGjjFKJb9SoUTh58iS8vb3RrFkzeHh4wNLSEidPnsTgwYNZxxObNEyi3r59Ozw8PPDDDz9g9erVggduampq2Lx5MxUjCXNUjCSEEEL+5eXlBW9vb1hZWdV6LEdSJSYmCj6+e/cucnJyBJ9XVFTg1KlTaNeuHYtoH8TU1BQXL14U2ZUaGhqKrl27MkrVcDt27MD8+fPh6OiI8vJyAECTJk3g4uKCTZs2AQCMjY0REBDAMmatVq5cCQDQ0dGBo6OjyAAbLsrNzcWCBQuoECmhDA0NsW7dOowfP54zO6AnT56M169fY/Xq1fjll18AVP/MbN++XWJ3d9Y8aACqH1T9/vvvMDU1Ra9evQBU98q7c+cOZs+ezShhw2VlZaF3794AqnsWvnr1CgAwYcIE9OzZE35+fizjia1mKNjQoUNx5swZDBkyBMnJycjNzcXo0aNZxxNb3759cfbsWdYxPsq8efOwcOFC5OTkcHYS9datW/HHH3/A3t4e69atE6xbWVlh0aJFDJMRUo2KkYQQQsi//P39ERwcjAkTJrCO0iBdunQRHKmt2Z3zLgUFBWzdupVBsg8jLce8lJSU8Mcff2DTpk1IT08HAOjp6QntMuzSpQujdOKxsbFBXl4e2rdvD6B6J+f+/fthamqK6dOnM07XMN9++y3Onz8PfX191lFIHZo0aYInT56wjtEgs2bNwqxZs5CXlwcFBQWhn29JVPOgAQCmTp0KNzc3QSH13dc8fPjwS0f7YG3atEFBQQG0tbXRoUMHXLlyBZ07d0ZGRobI8BFJtmbNGmzatAlz5syBsrIytmzZAl1dXcyYMQNt27ZlHa9Rqdn5P3nyZMEa1yZRZ2Rk1PoAt2nTpiguLmaQiBBhVIwkhBBC/vXmzRvB7gouqbnh0tPTw7Vr14SGjcjJyUFDQwMyMjIMEzaMtBzzqqGkpMSJXRS1cXJywvTp0zFhwgTk5ORg0KBBMDMzw759+5CTkwMPDw/WEcXm5+eH7777DhcvXqx1p4ubmxujZI1PWFiY0OdVVVXIzs6Gn58f+vTpwyjVhykvL8f58+eRlpYGJycnAMCTJ0+goqIi8YXJP//8E7GxsSLr48ePh5WVlcS3JqlhY2ODsLAwdO3aFZMmTcL8+fMRGhqK2NhYODg4sI4ntrS0NNja2gKo/ttdXFwMHo+H+fPnw8bGBl5eXowT1k5dXV3skyRcOTafkZHBOsJH09XVRXx8vMgpk1OnTsHExIRRKkL+HxUjCSGEkH9NnToV+/fvx4oVK1hHaZCaN5r/7XHJReXl5VizZg0mT57M+WNeAPf7f92+fRvdu3cHABw+fBjm5ua4dOkSzpw5g5kzZ3KqGHngwAGcOXMG8vLyOH/+vNDNM4/Ho2LkF/TuUWGg+v9/q1atYGNjgw0bNrAJ9QEyMzMxbNgwZGVl4fXr1xg8eDCUlZXx66+/4vXr1/D392cdsV4KCgq4dOkSDA0NhdYvXboEeXl5RqkabufOnYK/f3PmzEGLFi0QExMDOzs7zJgxg3E68amrqwuOmLdr1w63b9+Gubk5CgsLUVJSwjhd3d7tj5qfn49Vq1Zh6NChgqP/ly9fxunTpzn13opLwwvrsmDBAsyZMwdlZWWoqqrCtWvXcODAAaxdu1Yi28OQxoeKkYQQQsi/ysrKsHPnTpw7dw4WFhYiO6c2btzIKFnD3L17t9bil52dHaNE4mvSpAl8fHwktt9aQ0hD/6+3b98K+kWeO3dO8G/I2NgY2dnZLKM12LJly+Dl5YWlS5eCz+ezjtOo1RSO8vLyAEBoNzeXuLu7w8rKCgkJCWjRooVgffTo0Zg2bRrDZOL54YcfMGvWLMTFxQkeOly9ehW7du3iVOGIz+cL/Uw7OjrC0dGRYaIP069fP5w9exbm5ub47rvv4O7ujoiICJw9exYDBw5kHa9OLi4ugo/HjBkDb29voQnzbm5u8PPzw7lz5zB//nwWET8I1ydRT506FQoKCli+fDlKSkrg5OQETU1NbNmyhZM/H0T68Kq41EiDEEII+Yysra3rvMbj8RAREfEF0zRceno6Ro8ejVu3bgl6GwEQ7ADjQo8joPqYtoODg9ANDhdZWFhgxowZgv5fCQkJQv2/JPXI3bt69OgBa2tr2NraYsiQIYJebFeuXMG3336LR48esY4otubNm+P69evUM5KxwsJCLFu2DIcOHRJM1VZXV4ejoyNWrVoFNTU1tgEboGYHnpGRkeBnXE9PDw8ePICpqalE72arcfjwYWzZsgX37t0DAJiYmMDd3R1jx45lnKx+iYmJMDMzA5/PFxriVhuutMkoKChAWVkZNDU1UVlZCR8fH8TExMDQ0BDLly+Huro664jvpaSkhPj4eJEp1KmpqejSpQuKiooYJWuY/06ivn37NvT09BAcHIzdu3cjMjKSdcQGKSkpQVFRETQ0NFhHIUSAipGEEEKIlBg5ciRkZGQQEBAAXV1dXLt2Dfn5+Vi4cCHWr1+Pvn37so4oFn9/f3h5ecHZ2RndunVDs2bNhK5zYYcnADRr1gx37tyBjo4OWrRogfPnz8Pc3Bz37t2DjY0NJ3YWnj9/HqNHj8bLly/h4uIi6CH3888/IykpiRNHzWvMnz8frVq1ws8//8w6SqNVUFCAXr164fHjx3B2dhb0Lbt79y72798PLS0txMTEcKLoAlQXUS9dugRTU1OhYmR0dDTGjBmD3Nxc1hGlFp/PR05ODjQ0NMDn84UewL2LK8NGysvLsX//fgwdOhStW7dmHeeDaWtrw83NDQsXLhRa37BhA3x9fZGZmckoWcOYmppizZo1sLe3F/rZvn37NgYMGIBnz56xjkgI59ExbUIIIURKXL58GREREWjZsqXg2NrXX3+NtWvXws3NDTdv3mQdUSyzZ88GUPuxeK7cWALc7f/1rpqbrpcvXwoViKZPnw5FRUWGyRquoqICPj4+OH36NKfbMHCZt7c35OTkkJaWJlJw8fb2xpAhQ+Dt7Y1NmzYxStgwQ4YMwebNm7Fz504A1b+fioqKsHLlSowYMYJxOvEUFhYiNDQU6enpWLRoEZo3b464uDi0bt0a7dq1Yx2vThkZGYLj/dIwbKRJkyaYOXOmYIcqV3l5eWHq1Kk4f/48evToAaD66P+pU6fwxx9/ME4nPq5Oora0tER4eDjU1dXRtWvXegcLxcXFfcFkhIiiYiQhhBDyr9GjR9f6xo3H40FeXh4GBgZwcnKCkZERg3TvV1FRAWVlZQBAy5Yt8eTJExgZGUFbWxv3799nnE580jCIB+Bu/6//qqqqwo0bNwTTgpWVlSEnJ8e5YuStW7cEN5e3b98WuibuJFjycY4fP44dO3bUuvOrTZs28PHxwcyZMzlTjNywYQOGDh0KU1NTlJWVwcnJCSkpKWjZsiUOHDjAOt57JSYmYtCgQVBVVcWDBw8wdepUNG/eHEePHkVWVhZCQkJYR6zTuwNGpGHYCAB079691unHXOLq6goTExP4+voKds6bmJggOjpaUJzkAq5Ooh41apSgz/OoUaPobxuRaHRMmxBCCPmXq6srjh8/DjU1NXTr1g1A9ZPjwsJCDBkyBAkJCXjw4AHCw8PRp08fxmlF9e3bFwsXLoS9vT2cnJzw/PlzLF++HDt37sSNGzdECjDk85KG/l//nRacnJwMPT09uLu7c2JaMJEsTZs2RVpaGtq3b1/r9UePHsHAwABlZWVfONmHKy8vx8GDB5GYmIiioiJYWlrC2dkZCgoKrKO916BBg2BpaQkfHx+ho6gxMTFwcnLCgwcPWEcUS0REBI4ePYoHDx6Ax+NBV1cX3377Lfr168c6WoMcPnwYP/30E+bPn19rixKu9L6UBgEBAfD09MSGDRswZcoUBAQEIC0tTTCJmgbAEPLxqBhJCCGE/Gvp0qV4+fIl/Pz8BJM5Kysr4e7uDmVlZaxevRozZ87EnTt3EB0dzTitqNOnT6O4uBgODg5ITU3FN998g+TkZLRo0QKHDh2CjY0N64hiCw8Px6ZNm4SGKvzwww8YNGgQ42SNS02/rMDAQLRo0UJQrDh//jymTZuGlJQU1hHFFhQUBEdHR04UiaRVu3btcOjQIXz99de1Xr948SLGjRuHJ0+efOFkjZOqqiri4uKgr68vVIzMzMyEkZERJ4rCM2fOxM6dO6Guro6OHTuiqqoKKSkpKCwsxOzZs7F161bWEcX27kTwGjW9MLnUoqRGWVkZ3rx5I7SmoqLCKE3D7du3D56enkhLSwMAaGpqwsvLC1OmTGGcTDx6enq4fv06WrRoIbReWFgIS0tLpKenM0pGSDUqRhJCCCH/atWqFS5duoSOHTsKrScnJ6N379549uwZbt26hb59+6KwsJBNyAYqKCiAuro6p47q/P7773B3d8e3336LXr16AQCuXLmC0NBQbNq0CXPmzGGcsG4vX74U3Gy9fPmy3tdy4aZMGqYF12jdujVKS0vx3XffYcqUKejduzfrSI3O5MmTkZaWhrNnz0JOTk7o2uvXrzF06FDo6ekJBiVJorCwMLFfK+nDtjQ0NHD69Gl07dpV6Of77NmzmDx5Mh4+fMg6Yr2OHTsGR0dH7NixAy4uLoK/c5WVlQgODsasWbPw559/Svz3ocb7hrtw4fh2SUkJfvzxRxw+fBj5+fki17lWUAW4O4n63SFP78rNzYWWlpZIoZiQL416RhJCCCH/Ki8vR1JSkkgxMikpSfAGWl5eXuILe6mpqUhLS0O/fv3QvHnzWieMSrI1a9Zg06ZNmDt3rmDNzc0Nffr0wZo1ayS6GKmuro7s7GxoaGhATU2t1n8rXNrlUllZWWvOR48eCfqTcsXjx49x8uRJBAcHY8CAAdDT08OkSZPg4uKCNm3asI7XKHh7e8PKygqGhoaYM2cOjI2NUVVVhXv37uH333/H69evsWfPHtYx62Vvby/W67jwM25nZwdvb28cPnwYQHXmrKwsLFmyBGPGjGGc7v2CgoKwYMECuLq6Cq3z+XxMnjwZ9+/fR2BgIGeKkVwoNr7P4sWLERkZie3bt2PChAnYtm0bHj9+jB07dmDdunWs430QRUVFTvVIfveByenTp6Gqqir4vKKiAuHh4dDV1WURjRAhtDOSEEII+ZebmxsOHDiAn3/+GV999RUA4Pr161izZg2cnJywZcsWBAQEIDg4WCKPaefn52Ps2LGIjIwEj8dDSkoK9PT0MHnyZKirq2PDhg2sI4pFSUkJ8fHxMDAwEFpPSUlB165dUVRUxCjZ+0VFRaFPnz5o0qQJoqKi6n1t//79v1CqDzdu3Dioqqpi586dUFZWRmJiIlq1aoVRo0ahQ4cOCAoKYh3xg+Tm5mLv3r3YvXs3kpKSMGzYMEyZMgUjR46s9agk+XQyMjIwe/ZsnDlzRvCghMfjYfDgwfDz8xP5uSefz4sXL/Dtt98iNjYWr169gqamJnJyctCrVy/8/fffIj0LJU379u1x9OhRdO/evdbrV69exZgxY/Do0aMvnOzDvG9g0MSJE79Qkg/XoUMHhISEYMCAAVBRUUFcXBwMDAywZ88eHDhwAH///TfriHWSlknUNX/Dao74v0tWVhY6OjrYsGEDvvnmGxbxCBGgYiQhhBDyr4qKCqxbtw5+fn7Izc0FUH20c968eViyZAlkZGSQlZUFPp9f5wAGliZOnIinT58iICAAJiYmgiN3p0+fxoIFC3Dnzh3WEcXi5OSErl27YvHixULr69evR2xsLA4ePMgoWeMhIyOD7OxsvHnzBkOHDhX0YbOyshJMC75w4QLnjq296+rVq9i1axd2796Ntm3b4vnz51BXV0dQUBAGDBjAOp7Ue/78uaDnqIGBAZo3b844kfhGjBiBAwcOCHYcrVu3DjNnzoSamhqA6gdDffv2xd27dxmmFN+lS5eQkJAgGMDDld688vLySE9Ph6amZq3XHz9+DAMDA5SWln7hZB/mv0PN3r59i5KSEsjJyUFRUREFBQWMkolPSUkJd+/eRYcOHYSKxRkZGTA3N5foh4leXl5YvHgxFBUV4enpWW8xcuXKlV8w2YfR1dXF9evX0bJlS9ZRCKkVFSMJIYSQWtT0++NCX78abdq0wenTp9G5c2eh/l/p6emwsLCQ6JsAX19fwccvX77E+vXr0adPH6GekZcuXcLChQuxfPlyVjEbJCUlBSdOnBBMeNXT08OoUaOgp6fHOtp7vdtrisvTgv8rNzcXe/bsQVBQENLT02Fvb48pU6Zg0KBBKC4uhre3Nw4ePPje3m2kcftvLzYVFRXEx8cLfrZzc3Ohqakp8ce0a1NYWCgoqko6Pp+P3NxctGrVqtbrXP4+1EhJScGsWbOwePFiDB06lHWc97KwsMDWrVvRv39/DBo0CF26dMH69evh6+sLHx8fzuxSJYR8flSMJIQQQt5RXl6O8+fPIy0tDU5OTlBWVsaTJ0+goqICJSUl1vHqpaysjLi4OBgaGgoVI2NjYzF06NBam8lLCnH7F/F4PE5MgFy7di08PDxQWVkJDQ0NVFVVIS8vDzIyMlizZg0WLVrEOmK96mp8z2UjR47E6dOn0bFjR0ydOhUTJ04U2Y339OlTtGnTBpWVlYxSEi7478/Hu79vAe4UwX799Vfo6Ohg3LhxAICxY8fiyJEjaNOmDf7++2907tyZccL68fl8TJ8+vc5+fiUlJfjjjz8k/vvwPrGxsRg/fjySkpJYR3mvTZs2QUZGBm5ubjh37hxGjhyJqqoqvH37Fhs3boS7uzvriGKRlknUxcXFiIqKQlZWlsjAGjc3N0apCKlGA2wIIYSQf2VmZmLYsGHIysrC69evMXjwYCgrK+PXX3/F69ev4e/vzzpivfr27YuQkBD88ssvAKoLd5WVlfDx8YG1tTXjdPXLyMhgHeGTiYyMxPLly7FixQq4u7sLjt4VFBRg8+bNWLp0Kbp3745+/foxTlq/gICA9xbguXQzo6GhgaioKMFu29q0atVKqv4tElIff39/7Nu3DwBw9uxZnD17Fv/88w8OHz6MxYsX48yZM4wT1q9fv364f//+e1/DdU2aNMGTJ09YxxDL/PnzBR8PGjQISUlJuHHjBgwMDGBhYcEwWcM8ePCg1iL269evObO78+bNmxgxYgRKSkpQXFyM5s2b49mzZ1BUVISGhgan/n4T6UQ7IwkhhJB/2dvbQ1lZGYGBgWjRooVgp8v58+cxbdo0QX8zSXX79m0MHDgQlpaWiIiIgJ2dHe7cuYOCggJcunQJ+vr6rCM2CuPGjYOamhp27NhR6/Xp06fj1atXOHDgwBdOJr6avqgyMjJ1voYru1QJ+dRkZGSQk5MjOB5cM9ypZoc3V3ZGKigoIDk5GVpaWnB3d0dZWRl27NiB5ORk9OjRA8+fP2cdsVF5dwoyAFRVVSE7Oxt+fn7Q0tLCP//8wyhZ41HzPbC3t8fu3btrnUR99uzZ9xbBJcGAAQPQsWNH+Pv7Q1VVFQkJCZCVlcX48ePh7u4OBwcH1hFJI0c7IwkhhJB/Xbx4ETExMZCTkxNa19HRwePHjxmlEp+ZmRmSk5Ph5+cHZWVlFBUVwcHBAXPmzEHbtm1Zx2s0rl27hj179tR5fcKECZyYihobGysVx7QvX76M/Px8ocmhISEhWLlyJYqLi2Fvb4+tW7eiadOmDFMSLqmqqoKrq6vg30xZWRlmzpwpmD79+vVrlvHEpq6ujocPH0JLSwunTp3CqlWrAFR/fZJeSJVG9vb2Qp/zeDy0atUKNjY22LBhA5tQjUzN94DH48HFxUXo2ruTqLkgPj4eO3bsAJ/Ph4yMDF6/fg09PT34+PjAxcWFipGEOSpGEkIIIf+qrKys9Qbs0aNHUFZWZpBIfG/fvsWwYcPg7++PZcuWsY7TqOXm5kJHR6fO67q6usjJyflygT5AfVNEucbb2xsDBgwQFCNv3bqFKVOmwNXVFSYmJvjtt9+gqakJT09PtkEJZ/y3SDF+/HiR13DhgYODgwOcnJxgaGiI/Px8DB8+HED18U4DAwPG6Rof6lXLXs33QBomUcvKyoLP5wOoblOSlZUFExMTqKqq4uHDh4zTEULFSEIIIURgyJAh2Lx5M3bu3AmguiBTVFSElStXYsSIEYzT1U9WVhaJiYmsYxBU75L67+7ad8nKyoo0kpc00tTFJz4+XtBHFQAOHjyIHj164I8//gAAaGlpYeXKlVSMJGILCgpiHeGT2LRpE3R0dPDw4UP4+PgIesRmZ2dj9uzZjNORGkePHoWnpyf9jf+CpKF3cNeuXXH9+nUYGhqif//+8PDwwLNnz7Bnzx6YmZmxjkcI9YwkhBBCajx8+BDDhg1DVVUVUlJSYGVlhZSUFLRs2RIXLlyQ+COr8+fPR9OmTbFu3TrWUT5YeXk51qxZg8mTJ6N9+/as43wQPp+PVatW1Tn85dWrV/Dw8JDoY5BeXl5YvHhxnVNquUReXh4pKSnQ0tICAHz99dcYPny4YAfxgwcPYG5ujlevXrGMSQhpxHbs2IGzZ89CTk4Obm5u6NmzJyIiIrBw4UIkJydj4sSJ2L59O+uYjQrXJ1HHxsbi1atXsLa2xtOnTzFx4kTExMTA0NAQu3btQufOnVlHJI0cFSMJIYSQd5SXl+PQoUNISEhAUVERLC0t4ezsDAUFBdbR3mvevHkICQmBoaEhunXrJuhfVmPjxo2MkjWMsrIybt26Ve9RZ0mmo6Mj1jFnadh5wQXa2trYs2cP+vXrhzdv3kBNTQ0nT57EwIEDAVQf2+7fvz8KCgoYJyXk8wsLC8Pw4cMhKysrMjDlv+zs7L5QqsZt3bp18PDwgIWFBZKSklBVVYVly5Zh69atcHd3x4wZM6Curs46plhkZGSQnZ0t8vA2Pz8fGhoaEv0Q7l3vm0Qt6cPbqqqqkJqaijdv3sDIyAhNmtCBWCJ56F8lIYQQguqei8bGxvjf//4HZ2dnODs7s44ktpo3/7dv34alpSUAIDk5Weg1XOoBaGNjg6ioKM4WIx88eMA6AnnHiBEjsHTpUvz66684fvw4FBUV0bdvX8H1xMREmjRPGg17e3vk5ORAQ0NDZGDKu3g8HmcKRzVKSkpq3cVmYWHBKJF4goKC8Mcff8DFxQUXL15E//79ERMTg9TUVJGHipKurn1Or1+/rrd9iaSZP38+Ro4cKZhEfeXKFaFJ1JIsIyMDdnZ2uHv3LgCgffv2OHLkCKysrBgnI0QYFSMJIYQQVPfxKysrYx3jg9S8+Y+MjGSc5NMYPnw4li5dilu3btW6w5N265CG+OWXX+Dg4ID+/ftDSUkJu3fvFrop3rVrF4YMGcIwISFfzrtDUqRlYEpeXh4mTZqEf/75p9brkl5UzcrKgo2NDQCgb9++kJWVhZeXF6cKkb6+vgCqi9gBAQFCbUoqKipw4cIFGBsbs4rXYFyeRL148WKUl5dj7969kJeXx/r16zFjxgzcuHGDdTRChFAxkhBCCPnXnDlz8OuvvyIgIICOtDBUMzihtmPlXNytQ9iq6fn64sULKCkpQUZGRuj6n3/+WWd/T0KkWUhICMaNG4emTZsKrb958wYHDx7kxERwAPjhhx9QWFiIq1evYsCAATh27Bhyc3OxatUqbNiwgXW893r9+jXk5eUFn8vJyaF58+YMEzXcpk2bAFQ/HPX39xf6PSsnJwcdHR34+/uzitdgXJ5EHR0djdDQUHz99dcAgJ49e6J9+/YoLi7mVIGbSD/qGUkIIYT8a/To0QgPD4eSkhLMzc1F3rQdPXqUUbL6vW9gSg0uNFwnkiUjIwPl5eUwNDQUWk9JSYGsrCwnjtJ36NABo0aNgp2dHaytrelBAyH/kpb+fm3btsWJEyfQvXt3qKioIDY2Fh07dkRYWBh8fHwQHR3NOmK9+Hw+pk+fLhgYtm3bNowfPx6qqqpCr+NC32dra2scPXqUMz0u6zJkyBC4urrCyckJ06ZNQ2JiItzc3LBnzx48f/4cV69eZR2xTnw+H9nZ2WjdurVgTUlJCbdu3YKuri7DZIQIo3djhBBCyL/U1NQwZswY1jE+yH93IvwXj8fjZDGyrKxMaMcI+bJcXV0xefJkkWLk1atXERAQgPPnz7MJ1gB79uxBWFgYZs+ejby8PAwdOhR2dnawtbWFmpoa63iEMFNVVVVrP+FHjx6JFMIkWXFxsaCgqq6ujry8PHTs2BHm5uaIi4tjnO79+vXrh/v37ws+7927t8iAFK70fX63XUzNnieuZH/XmjVr8OrVKwDA6tWrMXHiRMyaNUswiVqS8Xg8FBUVCQ1e5PP5ePXqFV6+fClYU1FRYRGPEAHaGUkIIaTRq6ysxG+//YawsDC8efMGNjY28PT05MQEbaD6TWbNQAJpUFFRgTVr1sDf3x+5ublITk6Gnp4eVqxYAR0dHUyZMoV1xEZDRUUFcXFxMDAwEFpPTU2FlZUVCgsL2QT7QHfu3EFYWBhOnDiB+Ph49O7dG3Z2drCzs4Oenh7reIR8EV27dgWPx0NCQgI6deoktFu4oqICGRkZGDZsGA4fPswwpfi++uorrFq1SvCgQU1NDWvXroWvry9CQ0ORlpbGOmKjEhISgt9++w0pKSkAgI4dO2Lx4sWYMGEC42Ti4fokaj6fL1IAfvfBQ83HXNn5TKQXt36yCCGEkM9g9erV8PT0xKBBg6CgoABfX1/k5eVJ/NPvGlzcdVCf1atXY/fu3fDx8cG0adME62ZmZti8eTOnipEVFRU4duwY7t27BwAwMTGBvb09Z25ueDyeYHfIu168eMHJG5lOnTqhU6dO+Omnn5CdnY2TJ0/i5MmT+Pnnn6Gnp4dff/0Vtra2rGMS8lnVTNGOj4/H0KFDhVp81PT349IpAXd3d2RnZwMAVq5ciWHDhmHfvn2Qk5NDcHAw23CNzMaNG7FixQrMnTsXffr0AVDdw3DmzJl49uwZ5s+fzzhh/aRhErW0DDMk0o92RhJCCGn0DA0NsWjRIsyYMQMAcO7cOdja2qK0tFTQwFySSdvOSAMDA+zYsQMDBw6EsrIyEhISoKenh6SkJPTq1QvPnz9nHVEsd+7cgZ2dHXJycmBkZAQASE5ORqtWrXDy5EmYmZkxTvh+I0eOhIKCAg4cOCBoA1BRUYFx48ahuLi4zum1XFNcXIwzZ85AWVkZgwYNYh2HkC9i9+7dGDdunNS1wigpKUFSUhI6dOiAli1bso7TqOjq6sLLy0tk+NHu3bvh6emJjIwMRsnE8+233+LOnTvw8PAQTKIuKyujSdSEfAZUjCSEENLoNW3aFKmpqdDS0hKsycvLIzU1Fe3bt2eYTDxeXl5YvHixoPk91ykoKCApKQna2tpCxci7d++ie/fuKCoqYh1RLL169UKrVq2we/duQTP/58+fw9XVFXl5eYiJiWGc8P3u3r2Lfv36QU1NDX379gUAXLx4ES9fvkRERAQnCqo14uLiICsrC3NzcwDAiRMnEBQUBFNTU3h6ekJOTo5xQkII4TZ5eXncvn1bpLVHSkoKzM3NUVZWxiiZeNq0aSM0iTo7Oxvt27fHy5cvaRI1IZ8YN84IEUIIIZ9ReXm5yM4QWVlZvH37llGihlm5ciXrCJ+UqakpLl68CG1tbaH10NBQdO3alVGqhouPj0dsbKzQVFF1dXWsXr0aX331FcNk4jM1NUViYiL8/PyQkJAABQUFTJw4EXPnzkXz5s1Zx2uQGTNmYOnSpTA3N0d6ejocHR0xevRo/PnnnygpKcHmzZtZRyTks2vevDmSk5PRsmVLqKur19vmo6Cg4Asma5gFCxbgl19+QbNmzbBgwYJ6X8uFKdTSwsDAAIcPH8bPP/8stH7o0CGRQWiS6OnTp0I527ZtCwUFBTx9+pQmURPyiVExkhBCSKNXVVUFV1dXNG3aVLBWVlaGmTNnCj0JP3r0KIt4jY6HhwdcXFzw+PFjVFZW4ujRo7h//z5CQkLwv//9j3U8sXXs2BG5ubno1KmT0PrTp09Fdo1IMk1NTaxZs4Z1jI+WnJyMLl26AAD+/PNP9OvXD/v378elS5fg6OhIxUjSKGzatAnKysoAwOl/8zdv3hQ8MIyLi6uzqMqFnsq7du2CnZ2dVBwp9/Lywrhx43DhwgVBz8hLly4hPDycEwORaBI1IV8OHdMmhBDS6E2aNEms1wUFBX3mJKTGxYsX4e3tjYSEBBQVFcHS0hIeHh4YMmQI62j1evdmJTo6Gj/++CM8PT3Rs2dPAMCVK1fg7e2NdevWYcSIEaxi1isxMRFmZmbg8/lITEys97UWFhZfKNXHU1FRwY0bN2BoaIjBgwfjm2++gbu7O7KysmBkZITS0lLWEQkhjZCNjQ1iYmJgaWmJUaNGwc7ODiYmJqxjfbAbN25g06ZNQoPbFi5cyImTDTSJmpAvh4qRhBBCCIeFhYVh+PDhkJWVZR2FQPRGpuZt1rs3MjWfS+rNzLsDkWq+ntreLkry11AbGxsbaGlpYdCgQZgyZQru3r0LAwMDREVFwcXFBQ8ePGAdkZAvrrKyEqmpqXj69CkqKyuFrvXr149RKvG9ffsWCgoKiI+P51QP2/96/vw5/vrrL4SFheHUqVNo3bo17OzsMGrUKHz99decGKYnDaKiosR6Xf/+/T9zkk/r0aNHAMCJPuik8aBiJCGEEMJhMjIyyMnJQatWrSAjI4Ps7GzOT9XW09PD9evX0aJFC6H1wsJCWFpaIj09nVGy9xP3RgaQ3JuZzMxMdOjQATweD5mZmfW+9r99PSVZQkICxo8fj6ysLCxYsEDQa3XevHnIz8/H/v37GSck5Mu6cuUKnJyckJmZKfLAgUsPG/T09HDs2DF07tyZdZRP4s2bN4iIiEBYWBhOnjyJ0tJSjBgxAnZ2dhg+fDgNUiFiqaysxKpVq7BhwwbB4D9lZWUsXLgQy5YtowI3YY6KkYQQQgiHtWnTBn/88QdGjhwJPp+P3NxctGrVinWsj/Luzrx35ebmokOHDnj9+jWjZI3PhQsX0Lt3bzRpItxmvLy8HDExMZzYOfU+ZWVlaNKkicjXSIi069KlCzp27AgvLy+0bdtW5Hiqqqoqo2QNExgYiKNHj2LPnj2cG6wljtjYWISFheHEiRP49ttvsWLFCtaRRNR2vPm/eDweysvLv1Ai8tNPPyEwMBBeXl6C/p3R0dHw9PTEtGnTsHr1asYJSWNHxUhCCCGEwzw9PeHt7S1Wk35J3+USFhYGALC3t8fu3buFboQrKioQHh6Os2fP4v79+6wifpCSkhJkZWXhzZs3Qutc6LdY127b/Px8aGhoSPy/qXdxecctIZ9Ds2bNkJCQwKmBWrXp2rUrUlNT8fbtW2hra4vsHIyLi2OU7NN7+/atRLZlOXHiRJ3XLl++DF9fX1RWVqKsrOwLpmrcNDU14e/vDzs7O6H1EydOYPbs2Xj8+DGjZIRUo0fAhBBCCId5enrC0dERqampsLOzQ1BQENTU1FjH+iD29vYAqndPuLi4CF2TlZWFjo4ONmzYwCDZh8nLy8OkSZPwzz//1HqdC4W8dxv3vys/P59zRwUfPHhQ6//z169fC/ppEdKY9OjRA6mpqZwvRtb87eC6iooKBAcHIzw8XKSHJ4/HQ3h4uEQWIgFg1KhRImv379/H0qVLcfLkSTg7O8Pb25tBssaroKAAxsbGIuvGxsYoKChgkIgQYVSMJIQQQjjO2NgYxsbGWLlyJb777jsoKiqyjvRBam68dHV1cf36dbRs2ZJxoo/zww8/oLCwEFevXsWAAQNw7Ngx5ObmCno4STIHBwcA1TfArq6uaNq0qeBaRUUFEhMT0bt3b1bxGqRmxy0AnD59utYdt7q6uiyiEcLUvHnzsHDhQuTk5MDc3Fyk0MWF3dsABP1fuc7d3R3BwcGwtbWFmZmZWCceJNGTJ0+wcuVK7N69G0OHDuX8cCGu6ty5M/z8/ODr6yu07ufnJzX9VQm30TFtQgghRMrk5eUJjjIbGRlxvockV7Vt2xYnTpxA9+7doaKigtjYWHTs2BFhYWHw8fFBdHQ064h1mjRpEgBg9+7dGDt2LBQUFATX5OTkoKOjg2nTpnGiYFzTpL+2qeDv7rj95ptvWMQjhJnaBljU/JxwaYCNtGjZsiVCQkIwYsQI1lE+yIsXL7BmzRps3boVXbp0wa+//oq+ffuyjvXRuDqJOioqCra2tujQoQN69eoFoPrI/MOHD/H3339LxfeGcBvtjCSEEEKkRElJCebOnYs9e/YIbiJlZGQwceJEbN26lVM7JouLixEVFVVrr0U3NzdGqRqmuLhY0GtRXV0deXl56NixI8zNzSW+h1lQUBAAQEdHB4sWLeLckex3SduOW0I+lYyMDNYRPomKigps2rQJhw8frvVvBleOpMrJyXH2yLyPjw9+/fVXtGnTBgcOHKj12DaXSMMk6v79+yM5ORnbtm1DUlISgOpTD7Nnz4ampibjdITQzkhCCCFEasyYMQPnzp2Dn5+f0ORENzc3DB48GNu3b2ecUDw3b97EiBEjUFJSguLiYjRv3hzPnj2DoqIiNDQ0ODNo5KuvvsKqVaswdOhQ2NnZQU1NDWvXroWvry9CQ0ORlpbGOuJ7lZaWoqqqSlDIzszMxLFjx2BqaoohQ4YwTkcIIYCHhwcCAgKwcOFCLF++HMuWLcODBw9w/PhxeHh4cOYB1oYNG5Ceng4/Pz/OHdHm8/lQUFDAoEGDICMjU+frjh49+gVTfThpmESdlZUFLS2tWv8tZWVloUOHDgxSEfL/qBhJCCGESImWLVsiNDQUAwYMEFqPjIzE2LFjkZeXxyZYAw0YMAAdO3aEv78/VFVVkZCQAFlZWYwfPx7u7u6CfoaSbu/evSgvL4erqytu3LiBYcOGoaCgAHJycggKCoKjoyPriO81ZMgQODg4YObMmSgsLISRkRHk5OTw7NkzbNy4EbNmzWIdsUHCw8NrHQ4BALt27WKUihC27t69W+uOwv9O4ZVU+vr68PX1ha2tLZSVlREfHy9Yu3LlCvbv3886olhGjx6NyMhING/eHJ06dRLp4SnJhTxXV1exCqg1u+4lnTRMopaRkUF2drbghEaN/Px8aGhoUBsGwhwd0yaEEEKkRElJCVq3bi2yrqGhgZKSEgaJPkx8fDx27NgBPp8PGRkZvH79Gnp6evDx8YGLiwtnipHjx48XfNytWzdkZmYiKSkJHTp04MxR4bi4OGzatAkAEBoaijZt2uDmzZs4cuQIPDw8OFWM9PLygre3N6ysrNC2bVvO7Twi5FNLT0/H6NGjcevWLaGeqjU/G1wpVtQM4AEAJSUlvHjxAgDwzTffYMWKFSyjNYiamhpGjx7NOsYHCQ4ObtDrHz16BE1NTYk97iwNk6hrer/+V1FREeTl5RkkIkQYFSMJIYQQKdGrVy+sXLkSISEhgjeapaWl8PLyEjQv5wJZWVnBDYqGhgaysrJgYmICVVVVPHz4kHG6D6eoqAhLS0ukp6fDyckJZ86cYR3pvUpKSqCsrAwAOHPmDBwcHMDn89GzZ09kZmYyTtcw/v7+CA4OxoQJE1hHIUQiuLu7Q1dXVzBR/tq1a8jPz8fChQuxfv161vHE1r59e2RnZ6NDhw7Q19fHmTNnYGlpievXr6Np06as44mNK7sGPwVTU1PEx8dDT0+PdZRacXkS9YIFCwBUP1RYsWKFUL/wiooKXL16FV26dGGUjpD/R8VIQgghREps2bIFQ4cORfv27QVvlhMSEiAvL4/Tp08zTie+rl274vr16zA0NET//v3h4eGBZ8+eYc+ePTAzM2Md76O9evUK4eHhrGOIxcDAAMePH8fo0aNx+vRpzJ8/HwDw9OlTqKioME7XMG/evEHv3r1ZxyBEYly+fBkRERFo2bIl+Hw++Hw+vv76a6xduxZubm64efMm64hiGT16NMLDw9GjRw/MmzcP48ePR2BgILKysgS/s4hkkfROcT4+PrC1tcW5c+dqnUQtyWp+bquqqnDr1i3IyckJrsnJyaFz585YtGgRq3iECFDPSEIIIUSKlJSUYN++fYLJiSYmJnB2doaCggLjZOKLjY3Fq1evYG1tjadPn2LixImIiYmBoaEhdu3aJfG7Et4nISEBlpaWnDgCGRoaCicnJ1RUVMDGxgZnz54FAKxduxYXLlzAP//8wzih+JYsWQIlJSVOHdsk5HNSV1dHXFwcdHV1oa+vj4CAAFhbWyMtLQ3m5uacau/xrsuXL+Py5cswNDTEyJEjWcdpkNDQ0DqngsfFxTFK9ekpKysjISFBYndGAsCTJ0+EJlGbmJhwahL1pEmTsGXLFs49OCSNBxUjCSGEEEK+IC4VI4HqfmzZ2dno3Lmz4Pj8tWvXoKKiUmtPLUnl7u6OkJAQWFhYwMLCQmQ4xMaNGxklI4SNvn37YuHChbC3t4eTkxOeP3+O5cuXY+fOnbhx4wZu377NOmKj4uvri2XLlsHV1RU7d+7EpEmTkJaWhuvXr2POnDmcmOAsLkkvRtIkakI+PypGEkIIIUSi7Nq1C9bW1tDV1WUd5bPgWjGyxqNHjwBU92fjImtr6zqv8Xg8REREfME0hLB3+vRpFBcXw8HBAampqfjmm2+QnJyMFi1a4NChQ7CxsWEdsU5hYWFiv5YrU8GNjY2xcuVKfP/990LFOg8PDxQUFMDPz491xE9G0ouRNImakM+PipGEEEIIkSiGhoZIT09Hu3bt0L9/f/Tv3x8DBgyAgYEB62hi6dq1a72TmktKSpCSksKJm5nKykqsWrUKGzZsQFFREYDqm8iFCxdi2bJlEjsJlRDyYQoKCqCuri7x0+bF/d3D4/E48bsWqB5ydu/ePWhra0NDQwNnz55F586dkZKSgp49eyI/P591xE9GRUVFogfY8Pl85ObmolWrVkLrmZmZMDU1RXFxMaNkhEgPGmBDCCGEEImSkpKCx48f4/z587hw4QLWr1+PGTNmoG3bthgwYAD27t3LOmK97O3tWUf4ZJYtW4bAwECsW7cOffr0AQBER0fD09MTZWVlUnVskJDGLjMzE8XFxVBTU5P4YmRlZSXrCJ9cmzZtUFBQAG1tbXTo0AFXrlxB586dkZGRIfEDXxpKUr8emkRNyJdDOyMJIYQQIrFKSkpw8eJFHDhwAPv27UNVVRXKy8tZx2o0NDU14e/vL3LM8cSJE5g9ezYeP37MKJl4HBwcEBwcDBUVFTg4ONT72qNHj36hVISwtWvXLhQWFgoKLwAwffp0BAYGAgCMjIxw+vRpaGlpsYrYKE2dOhVaWlpYuXIltm3bhsWLF6NPnz6IjY2Fg4OD4PvDJS9fvkRERASMjIxgYmIiWH/48CE0NTUhIyPDMJ2omnYeUVFR6NWrl8gkah0dHSxatAiGhoasIorl7du3mDFjBlasWCG1LW8I99HOSEIIIURKuLi4YMqUKejXrx/rKB/lzJkzOH/+PM6fP4+bN2/CxMQE/fv3R2hoKOe/Nq4pKCiodUiNsbExCgoKGCRqGFVVVcEOL1VVVcZpCJEMO3fuxIwZMwSfnzp1CkFBQQgJCYGJiQnmzp0LLy8vBAQEMEzZMMXFxYiKiqp1CrWbmxujVA2zc+dOwY7POXPmoEWLFoiJiYGdnZ3Q90uSjR07Fv369cPcuXNRWloKKysrPHjwAFVVVTh48CDGjBkDABJb6I6MjATA/UnUsrKyOHLkCFasWME6CiF1op2RhBBCiJSwt7fH33//DW1tbUyaNAkuLi5o164d61gNxufz0apVKyxcuBDTp0+Hmpoa60hiGzZsGDw9PdGzZ896X/fq1Sv8/vvvUFJSwpw5c75Quobr0aMHevToAV9fX6H1efPm4fr167hy5QqjZISQD9WiRQucP38e5ubmAIBZs2YhLy8PoaGhAIDz589j0qRJyMjIYBlTbDdv3sSIESNQUlKC4uJiNG/eHM+ePYOioiI0NDSQnp7OOmKj0aZNG5w+fRqdO3fG/v37sXLlSiQkJGD37t3YuXMnbt68yTpio+Hi4oIuXbpg/vz5rKMQUisqRhJCCCFSJC8vD3v27MHu3btx9+5dDBo0CFOmTMGoUaMgKyvLOp5YNm/ejAsXLuDChQto2rSpYIDNgAED0LFjR9bx6hUYGAgPDw+oqqpi5MiRsLKygqamJuTl5fH8+XPcvXsX0dHR+Pvvv2Fra4vffvsNHTp0YB27TlFRUbC1tUWHDh3Qq1cvAMDly5fx8OFD/P333+jbty/jhISQhnp3UAoAdO7cGVOmTBHsIMzKyoKRkRFKS0tZxhRbzd8Gf39/qKqqIiEhAbKyshg/fjzc3d3f26JBkjx//hyBgYG4d+8eAMDU1BSTJk1C8+bNGScTj4KCApKTk6GlpYWJEydCU1MT69atQ1ZWFkxNTQWD0MjnVzN8buDAgejWrRuaNWsmdJ0rO4aJ9KJiJCGEECKl4uLiEBQUhICAACgpKWH8+PGYPXu2xPc6etetW7cQFRWFiIgI/O9//4OGhgYePXrEOla9Xr9+jT///BOHDh1CdHQ0Xrx4AaC6Ib6pqSmGDh2KKVOmCPXPkmRPnjzBtm3bkJSUBAAwMTHB7NmzoampyThZw4WGhuLw4cO1HuWMi4tjlIqQL8vExASrV6+Gg4MDnj17hjZt2uDq1avo1q0bAODatWuws7NDTk4O46TiUVNTw9WrV2FkZAQ1NTVcvnwZJiYmuHr1KlxcXAS/uyTdhQsXYGdnBxUVFVhZWQEAbty4gcLCQpw8eZITbUo6duyIVatWwdbWFrq6ujh48CBsbGyQkJCAgQMH4tmzZ6wjNhr19Yrk8Xi0Y5gwRz0jCSGEECmUnZ2Ns2fP4uzZs5CRkcGIESNw69YtmJqawsfHR+KP7VRVVeHmzZs4f/48IiMjER0djcrKSrRq1Yp1tPdq2rQpxo8fj/HjxwMAXrx4gdLSUrRo0YIzu1PfpampKRVTs319fbFs2TK4urrixIkTmDRpEtLS0nD9+nWJPipPyKfm4uKCOXPm4M6dO4iIiICxsbGgEAkAMTExMDMzY5iwYWRlZcHn8wEAGhoayMrKgomJCVRVVfHw4UPG6cQ3Z84cjB07Ftu3bxcMdqmoqMDs2bMxZ84c3Lp1i3HC9/vhhx/g7OwMJSUlaGtrY8CAAQCqC601bQHIl8GVNguk8aKdkYQQQoiUePv2LcLCwhAUFIQzZ87AwsICU6dOhZOTk6AJ+7FjxzB58mQ8f/6ccdq6jRw5EpcuXcLLly/RuXNnDBgwAP3790e/fv041T9SWhQWFuLatWt4+vSpYLhCjYkTJzJK1XDGxsZYuXIlvv/+eygrKyMhIQF6enrw8PBAQUEB/Pz8WEck5IuorKyEp6cnTp48iTZt2mDjxo1CO7W/++47DBs2DFOmTGGYUnxDhgyBq6srnJycMG3aNCQmJsLNzQ179uzB8+fPcfXqVdYRxaKgoID4+HgYGRkJrd+/fx9dunThzLH5GzduICsrC4MHD4aSkhIA4K+//oK6ujp69+7NON37SeMk6pqST81AN0IkARUjCSGEECnRsmVLVFZW4vvvv8e0adPQpUsXkdcUFhaia9euEv3EfPHixejfvz/69u1LE5AZO3nyJJydnVFUVAQVFRWhGxkej8eJido13u2Tp6GhgbNnz6Jz585ISUlBz549kZ+fzzoiIeQDxMbG4tWrV7C2tsbTp08xceJExMTEwNDQELt27ULnzp1ZRxRLnz59sHjxYtjb2wutHz9+HOvWrePEwDBvb28sWrQIioqKQuulpaX47bff4OHhwShZw6iqqiI+Pp7zxciQkBD89ttvSElJAVB9jH7x4sWYMGEC42SEUDGSEEIIkRp79uzBd999B3l5edZRiJTo2LEjRowYgTVr1ojcXHKNnp4ejhw5gq5du8LKygrTpk3DjBkzcObMGTg6OnKqsEoIkQ6JiYmCj+/du4cff/wR8+bNQ8+ePQEAV65cwbZt27Bu3TqMGzeOVUyxycjIIDs7GxoaGkLr+fn50NDQQEVFBaNkDSMNk6g3btyIFStWYO7cuejTpw8AIDo6Gtu2bcOqVas4/bUR6UDFSEIIIURKTJ48GVu2bIGysrLQenFxMebNm4ddu3YxSka4qlmzZrh16xb09PRYR/loU6dOhZaWFlauXIlt27Zh8eLF6NOnD2JjY+Hg4IDAwEDWEQkhjQyfzwePx8P7bsl5PB4nCnl8Ph+5ubki/Z0jIiIwbtw45OXlMUrWMNIwiVpXVxdeXl4i7VR2794NT09PiT4hQxoHKkYSQgghUqKuHQk101LLy8sZJSNc5eDgAEdHR4wdO5Z1lI9WWVmJyspKNGlSPb/x4MGDgqOcM2bMgJycHOOEhJCGsLGxEet1ERERnznJh8vMzBT7tdra2p8xycdRV1cHj8fDixcvRFp6VFRUoKioCDNnzsS2bdsYphSfNEyilpeXx+3bt2FgYCC0npKSAnNzc5SVlTFKRkg1mqZNCCGEcNzLly9RVVWFqqoqvHr1SuiYdkVFBf7++2+RAiX5ct68eVPr8JcOHTowSiQ+W1tbLF68GHfv3oW5ubnINHA7OztGyRqOz+cLJu4CgKOjIxwdHRkmIoR8jPPnz0NbWxu2trYiv5u4oqbAyPWhKZs3b0ZVVRUmT54MLy8voX7PcnJy0NHRQa9evRgmbBhp2DVoYGCAw4cP4+effxZaP3ToEAwNDRmlIuT/0c5IQgghhONqjnnVhcfjwcvLC8uWLfuCqUhKSgomT56MmJgYofWqqipOHbmrCxe+hnf7sb2PhYXFZ0xCiGS7dOkSrKys0LRpU9ZRxPbbb78hKCgI+fn5cHZ2xuTJk2FmZsY61geThqEpUVFR6N27N2eLw7Xh6iTqI0eOYNy4cRg0aJCgZ+SlS5cQHh6Ow4cPY/To0YwTksaOipGEEEIIx0VFRaGqqgo2NjY4cuQImjdvLrgmJycHbW1taGpqMkzYMNLSAL9Pnz5o0qQJli5dirZt24rcyHBlwiuXSVs/NkI+FxUVFcTHx3OyP+zly5exa9cuHD58GEZGRpg8eTKcnJygoqLCOlqDSMPQFKC6JUZqamqtJwL69evHKFXDScMk6hs3bmDTpk24d+8eAMDExAQLFy5E165dGScjhIqRhBBCiNTIzMxEhw4dOPf0/r/4fD5ycnJEipFPnjyBvr4+SktLGSVrmGbNmuHGjRswNjZmHaXRkpZ+bIR8bsrKykhISOBkMbJGSUkJ/vzzT2zbtg13797FkydPOFWQlIahKVeuXIGTkxMyMzNFHgJx6aEPTaIm5POjnpGEEEIIhyUmJsLMzAx8Ph8vXrzArVu36nytpB9D9fX1BVB9wxIQEAAlJSXBtYqKCly4cIFThT1TU1M8e/aMdYyPUvM9+S8ejwd5eXkYGBigX79+kJGR+cLJxEMFRkIaj7i4OERFReHevXswMzPj3FHhwMBAqKmp4caNG7hx44bQNR6Px4li5MyZM2FlZYW//vqr1hMBXLF161Zs375daBK1nZ0dOnXqBE9PT04UI6XllAmRXrQzkhBCCOGwd3cR1ncklQs7Emr6ZGVmZqJ9+/ZCBa6aBvje3t7o0aMHq4gNEhERgeXLl2PNmjW1Dn/hwo4dXV1d5OXloaSkBOrq6gCA58+fQ1FREUpKSnj69Cn09PQQGRkJLS0txmnf7/79+9i6davQkbV58+bByMiIcTJC2Nq/fz9GjRolshtP0j158gTBwcEIDg7Gy5cvMX78eEyePBmmpqasozVKzZo1Q0JCgsgEZ66RhknU0nLKhEgv2hlJCCGEcFhGRgZatWol+JjLavJbW1vj6NGjguIXVw0aNAgAMHDgQKF1Lg2wWbNmDXbu3ImAgADo6+sDAFJTUzFjxgxMnz4dffr0gaOjI+bPn4/Q0FDGaet35MgRODo6wsrKSjDV9cqVKzAzM8PBgwcxZswYxgkJYcfJyYl1hAYbMWIEIiMjMWTIEPz222+wtbVFkyZ0e8tSjx49kJqayvliJJcnUUvbKRMivWhnJCGEEELIZxAVFVXv9f79+3+hJB9OX18fR44cQZcuXYTWb968iTFjxiA9PR0xMTEYM2YMsrOz2YQUk76+PpydneHt7S20vnLlSuzduxdpaWmMkhFCPgSfz0fbtm2hoaFR73HguLi4L5iq4RwcHGpdV1VVRceOHTF16lTBQ0dJd+zYMSxfvhyLFy+u9USApLeLqcHlSdTSdsqESC8qRhJCCCEcFhYWJvZr7ezsPmOST6eiogLBwcEIDw+vdRpnREQEo2SNj6KiIi5cuAArKyuh9evXr6N///4oKSnBgwcPYGZmhqKiIkYpxaOoqIjExMRaj9117twZJSUljJIRQj6El5eXWK9buXLlZ07ycSZNmlTremFhIRISElBYWIgLFy7AzMzsCydrOD6fL7JW0z6GKycCanB9ErW0nDIh0ouKkYQQQgiH1fbGvzZcugmYO3cugoODYWtrW2sD/E2bNjFK1nCFhYUIDAwU3Mx06tQJkydPhqqqKuNk4rG1tUVOTg4CAgIEN2A3b97EtGnT0KZNG/zvf//DyZMn8fPPP9c7PEkSjBgxAt99953IjX9QUBAOHjyI06dPM0pGCCG1q6ysxLRp0/D06VOcPHmSdZz3yszMrPc6DRUjhNSgYiQhhBBCJErLli0REhKCESNGsI7yUWJjYzF06FAoKCige/fuAKp3FJaWluLMmTOwtLRknPD9cnJyMGHCBISHhwuO25WXl2PgwIHYs2cPWrdujcjISLx9+xZDhgxhnLZ+/v7+8PDwwNixY9GzZ08A1T0j//zzT3h5eUFTU1PwWq7sIibkY1y4cAG9e/cW6bNYXl6OmJgY9OvXj1Ey8q6EhAQMHz4cT548YR2l0ZCGSdRjxoxB9+7dsWTJEqF1Hx8fXL9+HX/++SejZIRUo2IkIYQQQiSKpqYmzp8/j44dO7KO8lH69u0LAwMD/PHHH4Kb/fLyckydOhXp6em4cOEC44TiS0pKQnJyMgDAyMiIk9OnpXEXMSEfQxoKLo1BamoqrKysUFhYyDqKWPbs2QN/f39kZGTg8uXL0NbWxubNm6Grq4tRo0axjicWaZhE3apVK0RERMDc3Fxo/datWxg0aBByc3MZJSOkGo0bI4QQQjjM19cX06dPh7y8vGCCYl3c3Ny+UKqPs3DhQmzZsgV+fn71DiWQdLGxsUKFSABo0qQJfvzxR5EejJLO2NiY89M3/9t7lJDGrqaP33/l5+ejWbNmDBKR2pw9e5YzD+e2b98ODw8P/PDDD1i9erWgoK2mpobNmzdLfDFSmiZRFxUVQU5OTmRdVlYWL1++ZJCIEGFUjCSEEEI4bNOmTXB2doa8vHy9vRR5PB5nipHR0dGIjIzEP//8g06dOolM4zx69CijZA2joqKCrKwskRuXhw8fQllZmVGqhnv06BHCwsKQlZWFN2/eCF3buHEjo1SEkA9VM72Zx+PB1dUVTZs2FVyrqKhAYmIievfuzSpeo1PXILoXL17gxo0bCAgIQEBAwBdO9WG2bt2KP/74A/b29li3bp1g3crKCosWLWKYTDw176Oqqqrg7+9f6yRqf39/VvEaxNzcHIcOHYKHh4fQ+sGDB2FqasooFSH/j4qRhBBCCIdlZGTU+jGXqampYfTo0axjfLRx48b5qZdnAABufklEQVRhypQpWL9+veDG/tKlS1i8eDG+//57xunEEx4eDjs7O+jp6SEpKQlmZmZ48OABqqqqONHz8r+uX7+OyMjIWqe0U2GVNBY1A7SqqqqgrKwMBQUFwTU5OTn07NkT06ZNYxWv0bG3t691XVlZGUZGRggICICjo+OXDfWBMjIyap023bRpUxQXFzNI1DA176OkYRL1ihUr4ODggLS0NNjY2ACo/pt+4MAB6hdJJAIVIwkhhBApVNMSmovHnIOCglhH+CTWr18PHo+HiRMnory8HED18ahZs2YJ7RiRZD/99BMWLVoELy8vKCsr48iRI9DQ0ICzszOGDRvGOl6DrFmzBsuXL4eRkRFat24t9LPBxZ8TQj5Uze9YHR0dLFq0iJNHst/XluRdkn4qQJpaSOjq6iI+Pl5kavapU6dgYmLCKFXDRUZGso7w0UaOHInjx49jzZo1CA0NhYKCAiwsLHDu3Dn079+fdTxCaIANIYQQIk0CAwOxadMmpKSkAAAMDQ3xww8/YOrUqYyTNV4lJSVIS0sDAOjr60NRUZFxIvEpKysjPj4e+vr6UFdXR3R0NDp16oSEhASMGjUKDx48YB1RbK1bt8avv/4KV1dX1lEIIR9JV1dX6PO8vDyUlJRATU0NAFBYWAhFRUVoaGggPT2dQcLGKSAgAJ6entiwYQOmTJmCgIAApKWlYe3atZza4UmTqAn5/GhnJCGEECIlPDw8sHHjRsybNw+9evUCAFy+fBnz589HVlYWvL29GScUX2hoKA4fPlxrn8K4uDhGqT6MoqKiyDRLrmjWrJng/3/btm2RlpaGTp06AQCePXvGMlqD8fl89OnTh3UMQiRGbm4uFi1ahPDwcDx9+hT/3aMiydO0321Lsn//fvz+++8IDAyEkZERAOD+/fuYNm0aZsyYwSqiWA4ePCh2ge7hw4fIysqS6N9jU6dOhYKCApYvX46SkhI4OTlBU1MTW7Zs4UwhEgAuXLgAT09PkfXhw4djw4YNXz7QR7hx4wbu3bsHAOjUqVOtx+gJYYF2RhJCCCFSolWrVvD19RXpR3jgwAHMmzePM8UjX19fLFu2DK6urti5cycmTZqEtLQ0XL9+HXPmzMHq1atZR6yTg4MDgoODoaKiIhgSURcuDOKxt7eHra0tpk2bhkWLFuHEiRNwdXUV9NI6d+4c64hi8/HxwZMnT7B582bWUQiRCMOHD0dWVhbmzp2Ltm3birQrkPTJxzX09fURGhoqUmS5ceMGvv32W4nup9y/f388ffoUkyZNwsiRI0WOMr948QKXLl3C3r17cfbsWQQGBsLOzo5R2oYpKSlBUVERNDQ0WEdpMAUFBcTHxwuK2zWSkpLQtWtXlJaWMkomvqdPn8LR0RHnz58X2jFsbW2NgwcPolWrVmwDkkaPdkYSQgghUuLt27ewsrISWe/WrZugZyEX/P7779i5cye+//57BAcH48cff4Senh48PDxQUFDAOl69VFVVBTf0KioqnO9FuHHjRhQVFQEAvLy8UFRUhEOHDsHQ0JBzA18WLVoEW1tb6Ovrw9TUlLNT2gn5VKKjo3Hx4kV06dKFdZSPkp2dXevfuIqKCuTm5jJIJL6oqCiEhYVh69at+Omnn9CsWTO0bt0a8vLyeP78OXJyctCyZUu4urri9u3baN26NevIYlNUVORUW5J3ScMk6nnz5uHVq1e4c+eOoMh99+5duLi4wM3NDQcOHGCckDR2tDOSEEIIkRLz5s2DrKysSJFo0aJFKC0txbZt2xglaxhFRUXcu3cP2tra0NDQwNmzZ9G5c2ekpKSgZ8+eyM/PZx2RcNDcuXMREBAAa2trkQE2gPQMTiJEXKampti3bx/nj22OHDkSjx8/RkBAACwtLQFU74qcPn062rVrh7CwMMYJxfPs2TNER0cjMzMTpaWlaNmyJbp27YquXbuCz+ezjieW/Px8eHh4IDIyEk+fPhUZziPpDxRrnDx5Eg4ODnBycqp1EnVdE9AliaqqKs6dO4evvvpKaP3atWsYMmQICgsL2QQj5F+0M5IQQgjhsAULFgg+5vF4CAgIwJkzZ9CzZ08AwNWrV5GVlYWJEyeyithgbdq0QUFBAbS1tdGhQwdcuXIFnTt3RkZGhkhPM0lmY2ODo0ePCo5H1Xj58iXs7e0RERHBJlgjtXv3bhw5cgS2trasoxAiETZv3oylS5dix44d0NHRYR3ng+3atQsuLi6wsrIS7HguLy/H0KFDERAQwDid+Fq2bMmJIld9JkyYgNTUVEyZMqXWhz5cIQ2TqCsrK0VOAACArKysVE1wJ9xFOyMJIYQQDrO2thbrdTwejzPFr6lTp0JLSwsrV67Etm3bsHjxYvTp0wexsbFwcHBAYGAg64hi4fP5yMnJEemX9fTpU7Rr1w5v375llKx+zZs3R3JyMlq2bAl1dfV6bya5sssFALS1tXH69GkYGxuzjkKIRFBXV0dJSQnKy8uhqKgoUrjg0s83ACQnJyMpKQkAYGxsjI4dOzJO1PgoKysjOjoanTt3Zh2l0Rs1ahQKCwtx4MABaGpqAgAeP34MZ2dnqKur49ixY4wTksaOdkYSQgghHBYZGck6wie3c+dOwVP7OXPmoEWLFoiJiYGdnZ3ET0YFgMTERMHHd+/eRU5OjuDziooKnDp1Cu3atWMRTSybNm2CsrIyAEjVsBdPT0+sXLkSQUFBnO1jRsinJE0/3wCgo6ODqqoq6Ovro0kTus1lwdjYmBPDXcTF5UnUfn5+sLOzg46ODrS0tABUT2Q3MzPD3r17GacjhHZGEkIIIYR8Unw+X7CbsLa3WQoKCti6dSsmT578paM1al27dkVaWhqqqqqgo6MjsgssLi6OUTJCyMcoKSnBvHnzsHv3bgDVOyT19PQwb948tGvXDkuXLmWcsPG4fv06li5dCg8PD5iZmYn8nlVRUWGUrGGkZRJ1VVUVzp07J9gxbGJigkGDBjFORUg1emRECCGESJHY2FgcPnwYWVlZePPmjdA1Lk0LLiwsxLVr12ptgC/p/S9relvq6enh2rVrQjctcnJy0NDQgIyMDMOE4nvx4gXOnj2LBw8egMfjQU9PDwMHDuTMDeW7uN6LjZDPIS0tDUFBQUhLS8OWLVugoaGBf/75Bx06dECnTp1YxxPLTz/9hISEBJw/fx7Dhg0TrA8aNAienp5UjPyC1NTU8PLlS8HQlxpVVVXg8XioqKhglKxhpGUSNY/Hw+DBgzF48GDWUQgRQTsjCSGEEClx8OBBTJw4EUOHDsWZM2cwZMgQJCcnIzc3F6NHj+bMtOCTJ0/C2dkZRUVFUFFREepZyOPxONfHjKv27t2LuXPn4uXLl0Lrqqqq8Pf3x7hx4xglI4R8ClFRURg+fDj69OmDCxcu4N69e9DT08O6desQGxuL0NBQ1hHFoq2tjUOHDqFnz55QVlZGQkIC9PT0kJqaCktLS5HfYeTz6d69O5o0aQJ3d/daB9hwZfgL1ydRV1ZWIjg4GEePHhU8TNTV1cW3336LCRMmcHawEJEutDOSEEIIkRJr1qzBpk2bMGfOHCgrK2PLli3Q1dXFjBkz0LZtW9bxxLZw4UJMnjwZa9as4XRvv7Vr16J169Yix7F37dqFvLw8LFmyhFGy94uLi8OkSZPg7OyM+fPnw9jYGFVVVbh79y42b96MCRMmwNjYmJNDCrjcA4yQT2np0qVYtWoVFixYIOgTCwA2Njbw8/NjmKxh8vLyRAaFAUBxcTGnii4VFRUIDg5GeHh4racCuDCE7vbt27h58yaMjIxYR/koXJ5EXVVVBTs7O/z999/o3LkzzM3NUVVVhXv37sHV1RVHjx7F8ePHWcckBHzWAQghhBDyaaSlpcHW1hZA9XHgmhux+fPnY+fOnYzTie/x48dwc3PjdCESAHbs2FHr5OZOnTrB39+fQSLxbd26Ffb29ggODkbnzp3RtGlTyMvLw9LSEiEhIbCzs8OWLVtYx2yQp0+fwsbGBl999RXc3Nzg5uaGbt26YeDAgcjLy2Mdj5Av7tatWxg9erTIuoaGBp49e8Yg0YexsrLCX3/9Jfi8pgAZEBCAXr16sYrVYO7u7nB3d0dFRQXMzMzQuXNnof+4wMrKCg8fPmQd46PZ2NjA3d0dT548Eaw9fvwY8+fPx8CBAxkme7/g4GBcuHAB4eHhuHnzJg4cOICDBw8iISEB586dQ0REBEJCQljHJIR2RhJCCCHSQl1dHa9evQIAtGvXDrdv34a5uTkKCwtRUlLCOJ34hg4ditjYWOjp6bGO8lFycnJq3ZHaqlUrZGdnM0gkvkuXLuH333+v8/rMmTMxe/bsL5jo40lLDzBCPhU1NTVkZ2dDV1dXaP3mzZto164do1QNt2bNGgwfPhx3795FeXk5tmzZgrt37yImJgZRUVGs44nt4MGDOHz4MEaMGME6ygebN28e3N3dsXjxYpibm4vsLrSwsGCUrGG4PIn6wIED+Pnnn2FtbS1yzcbGBkuXLsW+ffskvv82kX5UjCSEEEKkRL9+/XD27FmYm5vju+++g7u7OyIiInD27FmJf5L/LltbWyxevBh3796t9WbGzs6OUbKG0dLSwqVLl0Ru9C9dugRNTU1GqcTz5MkTdOzYsc7rHTt2xOPHj79goo936tQpnDt3TlCIBABTU1Ns27YNQ4YMYZiMEDYcHR2xZMkS/Pnnn+DxeKisrMSlS5ewaNEiThUqvv76a8THx2PdunUwNzfHmTNnYGlpicuXL8Pc3Jx1PLHJycnBwMCAdYyPUtNL+N32JDwej3MDbLS0tBAXF8fJSdSJiYnw8fGp8/rw4cPh6+v7BRMRUjsaYEMIIYRIiYKCApSVlUFTUxOVlZXw8fFBTEwMDA0NsXz5cqirq7OOKBY+v+4uMly6mfHx8YGPjw9+++03wWTR8PBw/Pjjj1i4cCF++uknxgnrxufzkZOTU2sfNgDIzc2FpqYmZ74XAKCsrIyLFy+iS5cuQus3b95E//79acgFaXTevHmDOXPmIDg4GBUVFWjSpAkqKirg5OSE4OBgyMjIsI7YqGzYsAHp6enw8/PjVK/Ld2VmZtZ7XVtb+wslabzk5OSQmZlZZ6/wJ0+eQFdXF69fv/7CyQgRRsVIQgghhJDPoKqqCkuXLoWvry/evHkDAJCXl8eSJUvg4eHBOF39+Hw+du/eDVVV1VqvFxYWYtKkSZwqRo4aNQqFhYU4cOCAYGfq48eP4ezsDHV1dRw7doxxQkLYyMrKwu3bt1FUVISuXbvC0NCQdaQGkZGRQXZ2tsjDk/z8fGhoaHDm99To0aMRGRmJ5s2bo1OnTiKnAo4ePcooWePC9UnUMjIyyMnJQatWrWq9zsWHiUQ6UTGSEEII4bCG7OZSUVH5jElIXYqKinDv3j0oKCjA0NAQTZs2ZR3pverbnVqDS7tUgep+X3Z2drhz545ID7CwsDC0b9+ecUJCyIeoayf3kydPoK+vj9LSUkbJGmbSpEn1Xg8KCvpCST7O/fv3sXXrVty7dw9A9fHmefPmcWLCdlVVFUaOHCmYRG1sbCyYRH3r1i3Y2dlJ/CRqPp+P4cOH1/le4/Xr1zh16hSn/n4T6UQ9IwkhhBAOU1NTe+9Teq71aqqrlxGPx4O8vDwMDAzQr18/zhwhzMnJQUFBAfr164emTZsKvh+SrLKyknWET47LPcAI+RyqqqoQGhqKyMhIPH36VOTnXtJ34tX8reDxeAgICICSkpLgWkVFBS5cuABjY2NW8RqMK8XG+hw5cgSOjo6wsrISTDK/cuUKzMzMcPDgQYwZM4Zxwvq9O4n6vwNgIiIiYG9vj5CQEInuqeri4vLe10hyftJ40M5IQgghhMMaMim0f//+nzHJp6Orq4u8vDyUlJQI+lw+f/4cioqKUFJSwtOnT6Gnp4fIyEjBDjdJlJ+fj7FjxyIyMhI8Hg8pKSnQ09PD5MmToa6ujg0bNrCO2ChERERg7ty5uHLlisju4BcvXqB3797w9/dH3759GSUkhA13d3fs2LED1tbWaN26tchDEkkvjtUMB8vMzET79u2FHlDJyclBR0cH3t7e6NGjB6uIHyQvLw/3798HABgZGdV53FYS6evrw9nZGd7e3kLrK1euxN69e5GWlsYomXiGDBkimDhdmzVr1iAqKgqnT5/+wskIkT5UjCSEEEKIRDlw4AB27tyJgIAA6OvrAwBSU1MxY8YMTJ8+HX369IGjoyPatGmD0NBQxmnrNnHiRDx9+hQBAQEwMTFBQkIC9PT0cPr0aSxYsAB37txhHbFRsLOzg7W1NebPn1/rdV9fX0RGRlLPSNLoNG/eHHv37sWIESNYR/ko1tbWOHr0KGeGtNWluLgY8+bNQ0hIiGCXqoyMDCZOnIitW7dCUVGRccL3U1RURGJioshU8JSUFHTu3BklJSWMkomnTZs2OHXqlMigsxo3b97E8OHDkZOT82WDESKF6Jg2IYQQwmGJiYkwMzMDn89HYmJiva+1sLD4Qqk+zvLly3HkyBFBIRIADAwMsH79eowZMwbp6enw8fGR+ONeZ86cwenTp0V6ERoaGr534ij5dBISEvDrr7/WeX3IkCFYv379F0xEiGRQVVWFnp4e6xgfLTIyknWET2LBggWIiorCyZMn0adPHwBAdHQ03NzcsHDhQmzfvp1xwvcbMGAALl68KFKMjI6O5sTu84KCArRu3brO661bt8bz58+/YCJCpBcVIwkhhBAO69Kli6Bxf5cuXcDj8VDboQcu9YzMzs5GeXm5yHp5eblgN4KmpiZevXr1paM1SHFxca07WQoKCjgxxEZa5ObmikylfVeTJk2Ql5f3BRMRIhk8PT3h5eWFXbt2QUFBgXWcj/Lo0SOEhYUhKysLb968Ebq2ceNGRqka5siRIwgNDcWAAQMEayNGjICCggLGjh3LiWKknZ0dlixZghs3bqBnz54AqntG/vnnn/Dy8kJYWJjQayVNRUUFmjSpu0QiIyNT6/sTQkjDUTGSEEII4bCMjAxBP6mMjAzGaT4Na2trzJgxAwEBAejatSuA6qNRs2bNgo2NDQDg1q1bgn5hkqpv374ICQnBL7/8AqC6IFxZWQkfHx+Rxvjk82nXrh1u374tslOnRmJiItq2bfuFUxHC3tixY3HgwAFoaGhAR0dHpGgfFxfHKFnDhIeHw87ODnp6ekhKSoKZmRkePHiAqqoqWFpaso4ntpKSklp35WloaEj88eYas2fPBgD8/vvv+P3332u9BkjuA9Kqqiq4urrWO4maEPJpUM9IQgghhEiUnJwcTJgwAeHh4YKb4/LycgwcOBB79uxB69atERkZibdv32LIkCGM09bt9u3bGDhwICwtLREREQE7OzvcuXMHBQUFuHTpktAxdPL5zJs3D+fPn8f169chLy8vdK20tBTdu3eHtbV1nVPcCZFWNQO2vv3221oH2KxcuZJRsobp3r07hg8fDi8vLygrKyMhIQEaGhpwdnbGsGHDMGvWLNYRxTJw4EC0aNECISEhgt9VpaWlcHFxQUFBAc6dO8c4ofSbNGmSWK+T9OFOhHABFSMJIYQQKXP37t1aj6pJ4pGo+iQlJSE5ORlA9URRIyMjxoka7sWLF/Dz80NCQgKKiopgaWmJOXPmSPROPHV1dZGiRF0KCgo+c5qPl5ubC0tLS8jIyGDu3LmCf0dJSUnYtm0bKioqEBcXV2+fMEKkUbNmzXD69Gl8/fXXrKN8FGVlZcTHx0NfXx/q6uqIjo5Gp06dkJCQgFGjRuHBgwesI4rl9u3bGDp0KF6/fo3OnTsDqO55Ky8vj9OnT6NTp06MExJCyKdDx7QJIYQQKZGeno7Ro0fj1q1bQr0jawpLkngkqj7GxsYwNjZmHaNBHBwcEBwcDBUVFYSEhGDcuHFYtmwZ61gNsnnzZsHH+fn5WLVqFYYOHYpevXoBAC5fvozTp09jxYoVjBI2TOvWrRETE4NZs2bhp59+Evq5GDp0KLZt20aFSNIoaWlpQUVFhXWMj9asWTPBw7e2bdsiLS1NULh79uwZy2gNYmZmhpSUFOzbtw9JSUkAgO+//x7Ozs4S3dPT19cX06dPh7y8/Ht3mLu5uX2hVIQQSUc7IwkhhBApMXLkSMjIyCAgIAC6urq4du0a8vPzsXDhQqxfv54TkyxrcHUYgZycHDIzM9G2bVvIyMggOzsbGhoarGN9sDFjxsDa2hpz584VWvfz88O5c+dw/PhxNsE+0PPnz5GamoqqqioYGhpCXV2ddSRCmPnrr7+wdetW+Pv7Q0dHh3WcD2Zvbw9bW1tMmzYNixYtwokTJ+Dq6oqjR49CXV2djjd/Zrq6uoiNjUWLFi3q7eXM4/GQnp7+BZMRQiQZFSMJIYQQKdGyZUtERETAwsICqqqquHbtGoyMjBAREYGFCxfi5s2brCOK5X3DCCIiIlhHrJOFhQUsLS1hbW2NSZMmwdfXt86dRxMnTvzC6RpOSUkJ8fHxIsNfUlNT0aVLFxQVFTFKRgj5WOrq6igpKUF5eTkUFRVFBthwoQ0DUH0qoKioCBYWFiguLsbChQsRExMDQ0NDbNy4Edra2qwj1iksLAzDhw+HrKys0KTp2nCt1QohhNSHipGEEEKIlFBXV0dcXBx0dXWhr6+PgIAAWFtbIy0tDebm5pyZxsnlYQQxMTFYsGAB0tLSUFBQAGVl5Vr7L/J4PE7c6Gtra8PNzQ0LFy4UWt+wYQN8fX2RmZnJKBkh5GPt3r273usuLi5fKEnjxefzkZOTAw0NDfD5/DpfJ6nTpwkh5ENRz0hCCCFESpiZmSEhIQG6urro0aMHfHx8ICcnh507d0JPT491PLHdu3cPBw4cAAA0adIEpaWlUFJSgre3N0aNGiXRxcjevXvjypUrAKpvMpOTkzl9TNvLywtTp07F+fPn0aNHDwDA1atXcerUKfzxxx+M0xFCPoa0FBuvX7+OyspKwe+oGlevXoWMjAysrKwYJXu/ysrKWj/mqsmTJ9d7fdeuXV8oCSFE0tX9+IUQQgghnLJ8+XLBzYy3tzcyMjLQt29f/P333+9tKi9JahtGUINLwwgyMjLQqlUr1jE+iqurKy5dugQVFRUcPXoUR48ehYqKCqKjo+Hq6so6HiHkI1VWViI5ORnR0dG4cOGC0H9cMWfOHDx8+FBk/fHjx5gzZw6DRB8mJCQEr1+/Fll/8+YNQkJCGCRquOfPnwv99/TpU0RERODo0aMoLCxkHY8QIkHomDYhhBAixQoKCqCurl7rUWFJJU3DCAoLC3Ht2jU8ffpUZNcLF3pGEkKk15UrV+Dk5ITMzEz895aQS8eClZSUkJiYKHICICMjAxYWFnj16hWjZA1T19Cz/Px8aGhocOb78V+VlZWYNWsW9PX18eOPP7KOQwiREHRMmxBCCJESe/fuxejRo9GsWTPBWvPmzRkm+jAbN24UDEbx8vJCUVERDh06JBhGwBUnT56Es7MzioqKoKKiIlQQ5vF4EluMfPnypWDozsuXL+t9bV3DeQghkm/mzJmwsrLCX3/9hbZt23LqodW7mjZtitzcXJFiZHZ2Npo04c7tblVVVa3fg0ePHkFVVZVBok+Dz+djwYIFGDBgABUjCSECtDOSEEIIkRKtWrVCaWkp7OzsMH78eAwdOhQyMjKsYzVaHTt2xIgRI7BmzRooKiqyjiO2d3fn8Pn8Wm+Oa26aubpThxBS3RIjISEBBgYGrKN8lO+//x7Z2dk4ceKEoGhXWFgIe3t7aGho4PDhw4wT1q9r167g8XhISEhAp06dhAqoFRUVyMjIwLBhwyT+66jP33//DRcXF+Tl5bGOQgiRENx5VEQIIYSQemVnZ+PUqVM4cOAAxo4dC0VFRXz33XdwdnZG7969WccTm56eHq5fv44WLVoIrRcWFsLS0hLp6emMkjXM48eP4ebmxqlCJABEREQIdtRGRkYyTkMI+Vx69OiB1NRUzhcj169fj379+kFbWxtdu3YFAMTHx6N169bYs2cP43TvZ29vD6A689ChQ6GkpCS4JicnBx0dHYwZM4ZRuoZZsGCB0OdVVVXIzs7GX3/9JTUDkwghnwbtjCSEEEKkUElJCY4dO4b9+/fj3LlzaN++vdAgGEnG5/ORk5Mj0jcrNzcXHTp0qLXBvyRycHCAo6Mjxo4dyzoKIYSIOHbsGJYvX47FixfD3NwcsrKyQtctLCwYJWu44uJi7Nu3DwkJCVBQUICFhQW+//57ka9Jku3evRvjxo2DvLw86ygfzNraWuhzPp+PVq1awcbGBpMnT+bUsXlCyOdFxUhCCCFESj179gwHDx6Ev78/7t27J/FHasPCwgBU7xLZvXu3UI+siooKhIeH4+zZs7h//z6riA0SGBgIb29vTJo0qdYbfTs7O0bJGub58+cIDAzEvXv3AACmpqaYNGkSJ/uREkL+H5/PF1nj8XjUhoEQQshnR8VIQgghRIrU7Ijct28fwsPDoaWlhe+//x7Ozs4wNjZmHa9eNTfGNTfD75KVlYWOjg42bNiAb775hkW8BqvtRr8GV270L1y4gJEjR0JVVRVWVlYAgBs3bqCwsBAnT55Ev379GCckhHyozMzMeq9ra2t/oSQNFxYWhuHDh0NWVlbwIKsuXHnwU1FRgU2bNuHw4cPIysrCmzdvhK4XFBQwSkYIIZ8eFSMJIYQQKeHo6Ij//e9/UFRUxNixY+Hs7IxevXqxjtVgurq6uH79Olq2bMk6SqNnbm6OXr16Yfv27YJhSBUVFZg9ezZiYmJw69YtxgkJIY3Ru+08pOHBDwB4eHggICAACxcuxPLly7Fs2TI8ePAAx48fh4eHB9zc3FhHfK+aYTziiIuL+8xpCCGSjIqRhBBCiJRwdnaGs7NzrVO0b9++DTMzM0bJCFcpKCggPj4eRkZGQuv3799Hly5dUFpayigZIeRTSEtLw+bNm4XaMLi7u0NfX59xssZHX18fvr6+sLW1hbKyMuLj4wVrV65cwf79+1lHfK+ffvoJv//+O0xNTQUPQ69cuYI7d+5g1qxZUFBQELx25cqVrGISQiQAdZAlhBBCpMS+ffuEPn/16hUOHDiAgIAA3LhxQ+J3h1y+fBn5+flCx7BDQkKwcuVKFBcXw97eHlu3bkXTpk0Zpnw/X19fsV7HhV0ulpaWuHfvnkgx8t69e+jcuTOjVISQT+H06dOws7NDly5d0KdPHwDApUuX0KlTJ5w8eRKDBw9mnLBxycnJgbm5OQBASUkJL168AAB88803WLFiBctoYsvLy4Obmxt++eUXofWVK1fi4cOH2LVrF6NkhBBJQzsjCSGEEClz4cIFBAYG4siRI9DU1ISDgwPGjBmDr776inW0eg0fPhwDBgzAkiVLAAC3bt2CpaUlXF1dYWJigt9++w0zZsyAp6cn26Dvoaur+97X8Hg8pKenf4E0H+fQoUP48ccfMW/ePPTs2RNA9S6Xbdu2Yd26dTAxMRG8lkuTdwkh1Udqhw4dinXr1gmtL126FGfOnJHoY7TiPvQBuPHgBwCMjIwQEhKCHj164Ouvv8Y333yDpUuX4tChQ5g3bx6ePn3KOuJ7qaqqIjY2FoaGhkLrKSkpsLKyEhRYCSGEipGEEEKIFMjJyUFwcDACAwPx8uVLjB07Fv7+/khISICpqSnreGJp27YtTp48KRiUsmzZMkRFRSE6OhoA8Oeff2LlypW4e/cuy5iNSn292ACavEsIl8nLy+PWrVsihaPk5GRYWFigrKyMUbL3E+ehD8CdBz9AdRFYRUUFP//8Mw4dOoTx48dDR0cHWVlZmD9/vkjRWBK1adMG69atg6urq9B6cHAwlixZgtzcXDbBCCESh45pE0IIIRw3cuRIXLhwAba2tti8eTOGDRsGGRkZ+Pv7s47WIM+fP0fr1q0Fn0dFRWH48OGCz7/66is8fPiQRbRGKyMjg3UEQshn0qpVK8THx4sUI+Pj46GhocEolXik8XfTu8XGcePGQVtbGzExMTA0NMTIkSMZJhPfDz/8gFmzZiEuLg7du3cHAFy9ehW7du3izFFzQsiXQcVIQgghhOP++ecfuLm5YdasWSI3lVzSunVrZGRkQEtLC2/evEFcXBy8vLwE11+9egVZWVmGCRsfbW1t1hEIIZ/JtGnTMH36dKSnp6N3794AqntG/vrrr1iwYAHjdB+m5tCfuBOdJVnPnj0F7TG4YunSpdDT08OWLVuwd+9eAICJiQmCgoIwduxYxukIIZKEipGEEEIIx0VHRyMwMBDdunWDiYkJJkyYAEdHR9axGmzEiBFYunQpfv31Vxw/fhyKioro27ev4HpiYiJNeGXk7t27yMrKwps3b4TW7ezsGCUihHysFStWQFlZGRs2bMBPP/0EANDU1ISnpydn+izWCAwMxKZNm5CSkgIAMDQ0xA8//ICpU6cyTia+tWvXonXr1pg8ebLQ+q5du5CXlyfopyzpxo4dS4VHQsh7Uc9IQgghREoUFxfj0KFD2LVrF65du4aKigps3LgRkydPhrKyMut47/Xs2TM4ODggOjoaSkpK2L17N0aPHi24PnDgQPTs2ROrV69mmLJxSU9Px+jRo3Hr1i1Bf0jg/3cdUZ9IQripvLwc+/fvx9ChQ9G6dWu8evUKADjxt+K/PDw8sHHjRsybNw+9evUCAFy+fBl+fn6YP38+vL29GScUj46ODvbv3y/YpVrj6tWrcHR0lOij6deuXUO3bt0gIyNT6/XXr1/jxIkTVKQkhAhQMZIQQgiRQvfv30dgYCD27NmDwsJCDB48GGFhYaxjieXFixdQUlISuakpKCiAkpIS5OTkGCVrfEaOHAkZGRkEBARAV1cX165dQ35+/v+1d+fhNZ/5/8dfJyFkX5DYIxG1lNj32qmtUkuHWopEdaGoqqn+WlWq2mpRS4fapVVqiG9pfdVYWvtYQkLtEkkp2iaNIogsvz98m5nTBKHkPifn+bgu18Tn8/njmcs1k8n73J/71qhRo/TRRx9ZrVwFYF/c3Nx09OhRu9+OoUSJEpoxY4Z69+5tdX3ZsmUaNmyYfv31V0Nl96Zo0aI6evRojsN54uLiVK1aNZs+UMjZ2Vnnz5/P3mvUy8tLBw8eVHBwsCTp4sWLKl26NB9gAch25yMSAQCAXapcubImT56ss2fPatmyZaZz7om3t3f2IHLZsmW6evWqJMnPz49BZD7btWuXJkyYoOLFi8vJyUlOTk567LHH9N5779nda5wArDVo0EAHDhwwnfGX3bx5U/Xq1ctxvW7dukpPTzdQdH/KlSunHTt25Li+Y8cOlS5d2kBR3v15fVNu651YAwXgv7FnJAAABZizs7O6du2qrl27mk65L88//7waNmyYvboC+SsjIyP7tc3ixYvrp59+UuXKlRUYGKjjx48brgPwVwwZMkSjRo3S2bNnVbduXbm7u1vdDw0NNVR2b5555hnNnj1bU6dOtbo+d+5c9e3b11DVvRs8eLBefvll3bx5U61bt5Ykbdq0SX//+981atQow3V/XUE4VAjAg8MwEgAA2CxWUphVvXp1xcTEKCgoSA0bNtTkyZPl4uKiuXPnMiAG7NwfB5399yrnP/aGtVgsdvVK7YIFC7Rhw4bs06f//e9/KzExUf3797c6GfzPA0tbMnr0aCUlJWnIkCHZh4UVLVpUr732WvYBQwBQUDCMBAAAQK7efPPN7NfkJ0yYoCeeeELNmjVTsWLFtHz5csN1AP4KWz4Q5V4cPnxYderUkSSdPn1a0q2V3MWLF9fhw4ezn7P1lXkWi0UffPCBxo4dq6NHj8rV1VWVKlVSkSJFTKflyZEjR3ThwgVJtz5IPHbsmK5cuSJJdrNvJ4D8wwE2AADAZm3fvl316tVT0aJFTafg/yQnJ8vX19fmf7EHAHt19uxZSVLZsmUNl+SNk5NT9qraP7PX1bYAHi6GkQAAAA9I9+7d8/xsVFTUQyx5uM6fP693331Xs2bNMp0C4B6sWbNGHTt2VOHChbVmzZo7PhsWFpZPVZCkzMxMTZw4UVOmTMleUejp6alRo0bpjTfekJOT7Z49m5CQkKfn7P3kdgAPDq9pAwAA42rXrp3nlXbR0dEPueb+eXt7m054YH744Qdt2bJFLi4u6tmzp3x8fPTrr79q4sSJ+vTTT9kzErBDXbt21YULF+Tv73/Hg83saRXb9evXNXPmTG3ZskU///yzMjMzre7b8s+M//bGG29owYIFev/999W0aVNJt94OePvtt3X9+nW9++67hgtvjyEjgHvFykgAAGDc+PHj8/zsuHHjHmIJpFurp5566imlp6dLkoKDgzVv3jz17NlTdevW1csvv6wOHToYrgQAqW/fvtqwYYOeeuopBQQE5Phgy15+ZpQuXVpz5szJsSL1q6++0pAhQ3Tu3DlDZQDw4DGMBAAAgJUGDRqoadOmeueddzR//ny98sorevTRR7Vw4ULVr1/fdB6AB+DHH39UuXLlTGf8Zd7e3lq3bl32akJ7VbRoUcXGxuqRRx6xun78+HHVqlVL165dM1QGAA8ew0gAAICHZOXKlVqxYoUSExOVlpZmdc+WXx309vbW/v37FRISooyMDBUpUkTr169X27ZtTacBeECcnZ312GOPqV+/fnrqqafk6+trOum+VKtWTcuXL1doaKjplL+kYcOGatiwoWbMmGF1fdiwYdq7d692795tqAwAHjzb3QUXAAA4DF9fX/n5+eXpj72YMWOGwsPDFRAQoAMHDqhBgwYqVqyY4uLi1LFjR9N5d3T58mV5eXlJujWwcHV1ZY9IoIDZt2+fGjRooAkTJqhUqVLq2rWrVq5cqRs3bphOuydTpkzRa6+9ludDVGzV5MmTtXDhQlWrVk2DBg3SoEGDVK1aNS1evFgffvih6TwAeKBYGQkAAIxbsmRJnp8dMGDAQyx5cKpUqaJx48apd+/e8vT0VExMjIKDg/XWW28pOTnZpk+idnJy0pIlS7IP5Ondu7c+/vhjBQQEWD3HabuA/cvKytJ3332nL774QqtWrVJmZqa6d++uhQsXmk7Lk19++UU9e/bU1q1b5ebmpsKFC1vdT05ONlR273766Sd98sknOnbsmCSpatWqGjJkiEqXLm24LG/GjRuniIgIDrQBcFcMIwEAAB4CNzc3HT16VIGBgfL399e//vUv1axZUydPnlSjRo2UlJRkOvG2nJzu/vKMPZ22CyBvoqOjNWjQIMXGxtrNf7/btm2rxMREDRo0KNcDbOzlA6zbOXv2rCZMmKC5c+eaTrmrWrVq6fDhw2rRooUGDRqkHj16qEiRIqazANigQqYDAAAAbuf69es59lr84/VhW1eyZEklJycrMDBQ5cuX1+7du1WzZk3Fx8fL1j8LzszMNJ0AIJ+cPXtWX3zxhb744gsdPnxYjRs31ieffGI6K8927typXbt2qWbNmqZTHoqkpCQtWLDALoaRBw8e1IEDB7Ro0SKNGDFCQ4cO1dNPP62IiAgOPwNghT0jAQCATbl69apeeukl+fv7y93dXb6+vlZ/7EXr1q21Zs0aSVJ4eLhGjhypdu3aqVevXurWrZvhOgCO7tNPP1WLFi1UoUIFRUZGqlevXjp9+rS2bdumF154wXRenlWpUoWTpm1I7dq1NWPGDP30009asGCBzp49q6ZNmyo0NFTTp0/XpUuXTCcCsAEMIwEAgE35+9//rs2bN2v27NkqUqSI5s+fr/Hjx6t06dKKjIw0nZdnc+fO1RtvvCFJGjp0qBYuXKiqVatqwoQJmj17tuE6AI5u4sSJatiwofbv36/Dhw/r9ddft8u9/t5//32NGjVK3333nZKSkvT7779b/YEZWVlZunnzptLS0pSVlSVfX1/NmjVL5cqV05dffmk6D4Bh7BkJAABsSvny5RUZGamWLVvKy8tL0dHRCgkJ0WeffaZly5Zp3bp1phMBwO5lZWXl2F/RHv2xx+2fv5c/vj972fvydmJiYlSnTh27+T7279+vRYsWadmyZSpSpIj69++vZ599ViEhIZKkmTNnauLEibp48aLhUgAmsWckAACwKcnJyQoODpZ0a3/IP05Cfeyxx/Tiiy+aTMuTxMTEPD1Xvnz5h1wCALdnsViUkpKiPXv26Oeff86xV2z//v0Nld2bLVu2mE74S7p3737H+ykpKfkT8gDUqFFDx44d0+OPP64FCxaoS5cucnZ2tnqmd+/eGjFihKFCALaCYSQAALApwcHBio+PV/ny5VWlShWtWLFCDRo00Nq1a+Xj42M6766CgoKyv/7jBZT/XrFTUFbrALBva9euVd++fXXlyhV5eXlZ/e+UxWKxm2FkixYtTCf8Jd7e3ne9by//Fj179lRERITKlClz22eKFy/OIWkAeE0bAADYlmnTpsnZ2VnDhw/Xxo0b1aVLl+y9p6ZOnWrzKyoKFSqksmXLauDAgerSpYsKFcr9s197O/l1yJAhmjBhgooXL246BcAD8Mgjj6hTp06aNGmS3NzcTOf8JSkpKVqwYIGOHj0qSXr00UcVERFx10EfHpybN2+qSpUq+vrrr1W1alXTOQBsHMNIAABg0xISErR//36FhIQoNDTUdM5dXbhwQUuWLNGiRYuUkpKifv36adCgQXb/y5mXl5cOHjyY/Qo9APvm7u6uQ4cO2f1/p/ft26f27dvL1dVVDRo0kCTt3btX165d04YNG1SnTh3DhY6jTJky2rhxo93/vAPw8HGaNgAAMM7Pz0+//vqrJCkiIkKXL1/OvhcYGKju3bvbxSBSkkqWLKnXXntNx44d08qVK/Xbb7+pYcOGatSokebNm2e3r6fx+TVQsLRv31779u0znfGXjRw5UmFhYTpz5oyioqIUFRWl+Ph4PfHEE3r55ZdN5zmUoUOH6oMPPlB6errpFAA2jpWRAADAOA8PD8XGxio4OFjOzs66cOGCSpQoYTrrgbl48aJ69+6t77//Xr/88ov8/PxMJ91VRkaGduzYodDQUPn4+MjT01MxMTF2v4oKwC0LFizQhAkTFB4erho1aqhw4cJW98PCwgyV3RtXV1cdOHBAVapUsbp+5MgR1atXT6mpqYbKHE+3bt20adMmeXh4qEaNGnJ3d7e6HxUVZagMgK3hABsAAGBc48aN1bVrV9WtW1dZWVkaPny4XF1dc3124cKF+Vx3/3bu3KmFCxfqn//8pypXrqxPPvnELg7hkSRnZ2c9/vjjOnr0qHx8fKxWqwKwf4MHD5YkTZgwIcc9ezpky8vLS4mJiTmGkT/++KM8PT0NVTkmHx8f9ejRw3QGADvAMBIAABj3+eefa9q0aTp9+rQsFosuXbqk69evm866L+fPn1dkZKQWLVqk3377TX379tWOHTtUvXp102n3rHr16oqLi7M6IRxAwWCvW0b8Wa9evTRo0CB99NFHatKkiSRpx44dGj16tHr37m24zrEsWrTIdAIAO8Fr2gAAwKYEBQVp3759KlasmOmU+1K4cGGVKVNGAwYMUFhYWI5XH/9gD3tgrl+/Xq+//rreeecd1a1bN8crd15eXobKAOCWtLQ0jR49WnPmzMneq7Bw4cJ68cUX9f7776tIkSKGCx3PL7/8ouPHj0uSKleuXKC2XQHwYDCMBAAAeICcnP5zPqDFYpGU8/AXe3kFMrfvRbr1/djL9wDAWqdOnbRs2TJ5e3tLkt5//3298MIL2VtIJCUlqVmzZjpy5IjBynuXmpqq06dPS5IqVqwoNzc3w0WO5+rVqxo2bJgiIyOzV946Ozurf//+mjlzJv8mALIxjAQAADZn06ZN2rRpk37++eccrxLa+p6RCQkJeXouMDDwIZf8dd9///0d77do0SKfSgA8KM7Ozjp//rz8/f0l3VrhfPDgwezDqS5evKjSpUvbzYcNly5dUkZGRo6DwZKTk1WoUCFWcOej559/Xhs3btSsWbPUtGlTSdL27ds1fPhwtWvXTrNnzzZcCMBWsGckAACwKePHj9eECRNUr149lSpVympFnj2whyFjXjFsBAqeP69Fsfe1KU8//bS6dOmiIUOGWF1fsWKF1qxZo3Xr1hkqczyrVq3SypUr1bJly+xrnTp1kqurq3r27MkwEkA2hpEAAMCmzJkzR4sXL9YzzzxjOgWStm3bpk8//VRxcXH65z//qTJlyuizzz5TUFCQHnvsMdN5ABzcv//9b02dOjXH9ZYtW+qNN94wUOS4UlNTFRAQkOO6v7+/UlNTDRQBsFVOd38EAAAg/6SlpWWfiAqzVq1apfbt28vV1VXR0dG6ceOGpFuvRU6aNMlwHYD7YbFYcqw4t7cV6P/txo0b2QfX/LebN2/q2rVrBoocV+PGjTVu3Dhdv349+9q1a9c0fvx4NW7c2GAZAFvDnpEAAMCmvPbaa/Lw8NDYsWNNpzi82rVra+TIkerfv788PT0VExOj4OBgHThwQB07dtSFCxdMJwK4R05OTurYsWP2KdNr165V69at5e7uLunWcG/9+vV2s2dkq1atVL16dc2cOdPq+tChQxUbG6tt27YZKnM8hw4dUocOHXTjxg3VrFlTkhQTE6OiRYvq22+/1aOPPmq4EICtYBgJAABsyogRIxQZGanQ0FCFhoaqcOHCVvdzex3PVqxZs0YdO3bM0Wyv3NzcdOTIEVWoUMFqGBkXF6dq1apZrX4BYB/Cw8Pz9NyiRYsecsmDsWPHDrVt21b169dXmzZtJN06BG3v3r3asGGDmjVrZrjQsaSmpmrp0qU6duyYJKlq1arq27evXF1dDZcBsCXsGQkAAGxKbGysatWqJUk6fPiw1T1bf5WwW7duunDhgkqUKJHjxFp7VLJkSZ06dUoVKlSwur59+/bsk3cB2Bd7GTLmVdOmTbVr1y59+OGHWrFihVxdXRUaGqoFCxaoUqVKpvMcytatW9WkSRMNHjzY6np6erq2bt2q5s2bGyoDYGtYGQkAAPCAlCxZUvPmzVOXLl3k5OSkixcvqkSJEqaz7tt7772nzz//XAsXLlS7du20bt06JSQkaOTIkRo7dqyGDRtmOhEAYCNu9yFcUlKS/P397ebVfwAPHysjAQAAHpAXXnhBTz75ZPYBESVLlrzts/bwS9mYMWOUmZmpNm3aKDU1Vc2bN1eRIkX06quvMogEYDMyMzN16tQp/fzzz8rMzLS6x2q8/JOVlZXrGwxJSUnZe5ICgMTKSAAAYAO6d++uxYsXy8vLS927d7/js1FRUflUdX+OHTumU6dOKSwsTIsWLZKPj0+uzz355JP5G/YXpKWl6dSpU7py5YqqVasmDw8P00kAIEnavXu3+vTpo4SEBP35V1uLxWIXH/zYuz9+bn/11Vfq0KFD9uFI0q0P3mJjY1W5cmWtX7/eVCIAG8PKSAAAYJy3t3f2agpvb2/DNX9NlSpVVKVKFY0bN05/+9vf5ObmZjrpvn3++efq3r273NzcVK1aNdM5AJDDCy+8oHr16umbb75RqVKlbH5v4YLoj5/bWVlZ8vT0tDqsxsXFRY0aNcqxjyQAx8bKSAAAgIfol19+0fHjxyVJlStXtqs9JEuUKKFr164pLCxM/fr1U/v27eXs7Gw6CwCyubu7KyYmRiEhIaZTHN748eP16quv8ko2gLtyMh0AAABQEKWmpioiIkKlS5dW8+bN1bx5c5UuXVqDBg1Samqq6bw8OX/+vJYvXy6LxaKePXuqVKlSGjp0qHbu3Gk6DQAkSQ0bNtSpU6dMZ0DSuHHjGEQCyBNWRgIAAJuzcuVKrVixQomJiUpLS7O6Fx0dbajq3jz//PPauHGjZs2apaZNm0qStm/fruHDh6tdu3aaPXu24cJ7k5qaqtWrV+uLL77Qxo0bVbZsWZ0+fdp0FgAHt3r1ar355psaPXq0atSoocKFC1vdDw0NNVTmmArCz28ADx8rIwEAgE2ZMWOGwsPDFRAQoAMHDqhBgwYqVqyY4uLi1LFjR9N5ebZq1SotWLBAHTt2lJeXl7y8vNSpUyfNmzdPK1euNJ13z9zc3NS+fXt17NhRlSpV0pkzZ0wnAYB69Oiho0ePKiIiQvXr11etWrVUu3bt7P9E/ikoP78BPHwcYAMAAGzKP/7xD82dO1e9e/fW4sWL9fe//13BwcF66623lJycbDovz1JTUxUQEJDjur+/v928pi39Z0Xk0qVLtWnTJpUrV069e/e2y4EqgIInPj7edAL+T0H5+Q3g4eM1bQAAYFPc3Nx09OhRBQYGyt/fX//6179Us2ZNnTx5Uo0aNVJSUpLpxDxp06aNihUrpsjISBUtWlSSdO3aNQ0YMEDJycnauHGj4cK7e/rpp/X111/Lzc1NPXv2VN++fdW4cWPTWQAAG1RQfn4DePhYGQkAAGxKyZIllZycrMDAQJUvX167d+9WzZo1FR8fL3v6DHX69Olq3769ypYtq5o1a0qSYmJiVLRoUX377beG6/LG2dlZK1as4BRtADZnxowZuV739vbWI488wgcnBhSUn98AHj6GkQAAwKa0bt1aa9asUe3atRUeHq6RI0dq5cqV2rdvn7p37246L8+qV6+ukydPaunSpTp27JgkqXfv3urbt69cXV0N1+XN0qVLs7++fv169gpPADBt2rRpuV5PSUnRpUuX1KRJE61Zs0Z+fn75XOa4CsrPbwAPH69pAwAAm5KZmanMzEwVKnTrM9Ply5dr586dqlSpkp5//nm5uLgYLnQcmZmZevfddzVnzhxdvHhRJ06cUHBwsMaOHasKFSpo0KBBphMBIIe4uDj169dPtWrV0j/+8Q/TOQ6Dn98A8ophJAAAsBvnzp1TmTJlTGc4jAkTJmjJkiWaMGGCBg8erMOHDys4OFhffvmlPv74Y+3atct0IgDkauvWrYqIiNCpU6dMpziE9PR0TZo0SRERESpbtqzpHAA2zsl0AAAAwN1cuHBBw4YNU6VKlUynOJTIyEjNnTtXffv2tdozsmbNmtmvngOALSpfvrwuXLhgOsNhFCpUSJMnT1Z6errpFAB2gGEkAACwCb/99pt69+6t4sWLq3Tp0poxY4YyMzP11ltvKTg4WHv37tWiRYtMZzqUc+fOKSQkJMf1zMxM3bx500ARAOTNoUOHFBgYaDrDobRp00bff/+96QwAdoADbAAAgE0YM2aMdu7cqYEDB+rbb7/VyJEjtX79ejk5OWnz5s1q1KiR6USHU61aNW3bti3HL/QrV65U7dq1DVUBgPT777/nev3SpUvav3+/Ro0apQEDBuRzlWPr2LGjxowZo0OHDqlu3bpyd3e3uh8WFmaoDICtYRgJAABswv/+7/9q8eLFat26tV566SUFBwerVq1amjRpkum0+5aSkqKVK1fq9OnTGj16tPz8/BQdHa2AgAC72Pvyrbfe0oABA3Tu3DllZmYqKipKx48fV2RkpL7++mvTeQAcmI+PjywWS673LBaLnn32WY0ZMyafqxzbkCFDJElTp07Ncc9isSgjIyO/kwDYKA6wAQAANqFQoUL68ccfVapUKUmSm5ub9u3bp2rVqhkuuz+xsbFq27atvL29debMGR0/flzBwcF68803lZiYqMjISNOJebJt2zZNmDBBMTExunLliurUqaO33npLjz/+uOk0AA7sdq8De3l5qVKlSvLw8MjnIgBAXjGMBAAANsHZ2VkXLlxQiRIlJEmenp6KjY1VUFCQ4bL707ZtW9WpU0eTJ0+Wp6enYmJiFBwcrJ07d6pPnz46c+aM6cTbiouLU1BQ0G1XHQEAAAD3i9e0AQCATcjKylKbNm1UqNCt/3ty7do1denSRS4uLlbPRUdHm8i7Z3v37tWnn36a43qZMmVs/oTXSpUq6fz58/L395ck9erVSzNmzFBAQIDhMgCALfv+++/10Ucf6ejRo5Ju7T08evRoNWvWzHAZAFvCMBIAANiEcePGWf39ySefNFTyYBQpUiTXAxZOnDiRvfrTVv35xZl169bpvffeM1QDALAHn3/+ucLDw9W9e3cNHz5ckrRjxw61adNGixcvVp8+fQwXArAVvKYNAADwEDz77LNKSkrSihUr5Ofnp9jYWDk7O6tr165q3ry5Pv74Y9OJt+Xk5KQLFy5kr4z879fMAQDITdWqVfXcc89p5MiRVtenTp2qefPmZa+WBAAn0wEAAAAF0ZQpU3TlyhX5+/vr2rVratGihUJCQuTp6al3333XdN4dWSyWHPtFsn8kAFuSmppqOgF/EhcXpy5duuS4HhYWpvj4eANFAGwVr2kDAAA8BN7e3vrXv/6lHTt2WJ1E3bZtW9Npd5WVlaWBAweqSJEikqTr16/rhRdekLu7u9VzUVFRJvIAQMWLF1fr1q0VFhamsLAwlSxZ0nSSwytXrpw2bdqkkJAQq+sbN25UuXLlDFUBsEW8pg0AAPAQREZGqlevXtkDvT+kpaVp+fLl6t+/v6GyuwsPD8/Tc4sWLXrIJQCQu8TERH311Vf66quvtH37dtWsWTN7MFmjRg3TeQ5p9uzZevnllxUREaEmTZpIurVn5OLFizV9+nQ9//zzhgsB2AqGkQAAAA+Bs7Oz1YnUf0hKSpK/v78yMjIMlQFAwXLp0iWtW7dOX331ldavXy8/P7/swWSLFi3k7OxsOtFhrF69WlOmTMneH7Jq1aoaPXq03R9KB+DBYhgJAACM8/Pz04kTJ1S8eHFFRERo+vTp8vT0NJ31lzg5OenixYs5Ts6OiYlRq1atlJycbKgMAAqumzdvasuWLVq7dq3WrFmjy5cva+bMmerbt6/pNADA/2EYCQAAjPPw8FBsbKyCg4Pl7OysCxcu5Bji2YvatWvLYrEoJiZGjz76qAoV+s8W3RkZGYqPj1eHDh20YsUKg5UA4BgOHDig9PR01a9f33SKw9i3b1/2yshq1aqpbt26hosA2BoOsAEAAMY1btxYXbt2Vd26dZWVlaXhw4fL1dU112cXLlyYz3X3pmvXrpKkgwcPqn379vLw8Mi+5+LiogoVKqhHjx6G6gDA/sXGxub52dq1az/EEvy3s2fPqnfv3tqxY4d8fHwkSSkpKWrSpImWL1+usmXLmg0EYDNYGQkAAIy7ePGipk2bptOnTysqKkrt27fPcfDLH1avXp3PdfdnyZIl6tWrl4oWLWo6BQAKFCcnJ1ksFmVlZclisdzxWfbnzT8dOnRQSkqKlixZosqVK0uSjh8/rvDwcHl5eWn9+vWGCwHYCoaRAADApgQFBWnfvn0qVqyY6RSHd/XqVbm7u5vOAAArCQkJ2V8fOHBAr776qkaPHq3GjRtLknbt2qUpU6Zo8uTJ2avV8fC5urpq586dOVaj7t+/X82aNVNqaqqhMgC2hte0AQCATYmPjzed8EBkZGRo2rRpWrFihRITE5WWlmZ13x4OsAkICFDPnj0VERGhxx57zHQOAEiSAgMDs7/+29/+phkzZqhTp07Z10JDQ1WuXDmNHTuWYWQ+KleunG7evJnjekZGhkqXLm2gCICtcjIdAAAA8Gfff/+9unTpopCQEIWEhCgsLEzbtm0znXVPxo8fr6lTp6pXr166dOmSXnnlFXXv3l1OTk56++23Teflyeeff67k5GS1bt1ajzzyiN5//3399NNPprMAINuhQ4cUFBSU43pQUJCOHDlioMhxffjhhxo2bJj27duXfW3fvn0aMWKEPvroI4NlAGwNr2kDAACb8vnnnys8PFzdu3dX06ZNJUk7duzQ6tWrtXjxYvXp08dwYd5UrFhRM2bMUOfOneXp6amDBw9mX9u9e7e++OIL04l59ssvv+izzz7T4sWLdfToUbVv314REREKCwuzOi0cAPJbnTp1VL16dc2fP18uLi6SpLS0ND377LM6fPiwoqOjDRcWbL6+vlb7dl69elXp6enZPxv++Nrd3d0u3ggAkD8YRgIAAJtStWpVPffccxo5cqTV9alTp2revHk6evSoobJ74+7urqNHj6p8+fIqVaqUvvnmG9WpU0dxcXGqXbu2Ll26ZDrxvsycOVOjR49WWlqaihcvrhdeeEFjxoyRm5ub6TQADmjPnj3q0qWLsrKyFBoaKunWadsWi0Vr165VgwYNDBcWbEuWLMnzswMGDHiIJQDsCcNIAABgU4oUKaIffvhBISEhVtdPnTql6tWr6/r164bK7k3lypUVGRmphg0b6rHHHtMTTzyhMWPG6Msvv9SwYcP0888/m07Ms4sXL2rJkiVavHixEhIS1K1bNw0aNEhnz57VBx98oNKlS2vDhg2mMwE4qKtXr2rp0qU6duyYpFsfavXp04cDuADARvFeDQAAsCnlypXTpk2bcgwjN27cqHLlyhmqunfdunXTpk2b1LBhQw0bNkz9+vXTggULlJiYmGPVp62KiorSokWL9O2336patWoaMmSI+vXrJx8fn+xnmjRpoqpVq5qLBODw3N3d9dxzz5nOwH+5fv16joPbvLy8DNUAsDUMIwEAgE0ZNWqUhg8froMHD6pJkyaSbu0ZuXjxYk2fPt1wXd69//772V/36tVLgYGB2rlzpypVqqQuXboYLMu78PBwPf3009qxY4fq16+f6zOlS5fWG2+8kc9lAPAfn332mT799FPFxcVp165dCgwM1LRp0xQcHKwnn3zSdJ7DuHr1ql577TWtWLFCSUlJOe5nZGQYqAJgi3hNGwAA2JzVq1drypQp2ftDVq1aVaNHjy4wv1Tu27dP9erVM51xV6mpqewFCcCmzZ49W2+99ZZefvllTZw4UT/88IOCg4O1ePFiLVmyRFu2bDGd6DCGDh2qLVu26J133tEzzzyjTz75ROfOndOnn36q999/X3379jWdCMBGMIwEAAB4CK5cuSJnZ2e5urpmXzt48KDGjh2rdevW2cUKEWdnZ50/f17+/v5W15OSkuTv728X3wOAgq1atWqaNGmSunbtKk9PT8XExCg4OFiHDx9Wy5Yt9euvv5pOdBjly5dXZGSkWrZsKS8vL0VHRyskJESfffaZli1bpnXr1plOBGAjnEwHAAAAFCQ//vijGjduLG9vb3l7e+uVV15Ramqq+vfvr4YNG8rd3V07d+40nZknt/vM+saNG3JxccnnGgDIKT4+XrVr185xvUiRIrp69aqBIseVnJys4OBgSbf2h0xOTpYkPfbYY9q6davJNAA2hj0jAQAAHqDRo0fr+vXrmj59uqKiojR9+nRt27ZNDRs21OnTp1W2bFnTiXc1Y8YMSZLFYtH8+fPl4eGRfS8jI0Nbt25VlSpVTOUBQLagoCAdPHhQgYGBVtfXr1/P4Vr5LDg4WPHx8SpfvryqVKmiFStWqEGDBlq7dq3VwWcAwDASAADgAdq6dauioqLUqFEj9ezZUyVLllTfvn318ssvm07Ls2nTpkm6tTJyzpw5cnZ2zr7n4uKiChUqaM6cOabyACDbK6+8oqFDh+r69evKysrSnj17tGzZMr333nuaP3++6TyHEh4erpiYGLVo0UJjxoxRly5dNGvWLN28eVNTp041nQfAhrBnJAAAwAPk7Oysn376SQEBAZIkDw8P7d+/X5UrVzZcdu9atWqlqKgo+fr6mk4BgNtaunSp3n77bZ0+fVqSVLp0aY0fP16DBg0yXObYEhIStH//foWEhCg0NNR0DgAbwjASAADgAXJ2dtaFCxdUokQJSbf2zYqJiVFQUJDhMgAo2FJTU3XlypUch27BrLNnz2rChAmaO3eu6RQANoJhJAAAMO6VV17J87O2/qqXk5OTvL29ZbFYJEkpKSny8vKSk5P1uYF/bOxva1555RW98847cnd3v+u/i63/WwAo+Fq3bq2oqKgcexL+/vvv6tq1qzZv3mwmDNliYmJUp04dZWRkmE4BYCPYMxIAABh34MCBPD33x4DPli1atMh0wl9y4MAB3bx5M/vr27GHfwsABd93332ntLS0HNevX7+ubdu2GSgCANwNKyMBAAAAAHYlNjZWklSrVi1t3rxZfn5+2fcyMjK0fv16ffrppzpz5oyhQvyBlZEA/oyVkQAAwCadOnVKp0+fVvPmzeXq6qqsrCxW4xn2+++/a/PmzapSpYqqVKliOgeAA6tVq5YsFossFotat26d476rq6tmzpxpoAwAcDcMIwEAgE1JSkpSz549tWXLFlksFp08eVLBwcEaNGiQfH19NWXKFNOJDqNnz55q3ry5XnrpJV27dk316tXTmTNnlJWVpeXLl6tHjx6mEwE4qPj4eGVlZSk4OFh79uzJPjRMklxcXOTv7y9nZ2eDhY6je/fud7yfkpKSPyEA7AbDSAAAYFNGjhypwoULKzExUVWrVs2+3qtXL73yyisMI/PR1q1b9cYbb0iSVq9eraysLKWkpGjJkiWaOHEiw0gAxgQGBkqSMjMzDZfA29v7rvf79++fTzUA7AHDSAAAYFM2bNigb7/9VmXLlrW6XqlSJSUkJBiqckyXLl3K3odt/fr16tGjh9zc3NS5c2eNHj3acB0A/MeRI0eUmJiY4zCbsLAwQ0WOw94PbgOQ/xhGAgAAm3L16lW5ubnluJ6cnKwiRYoYKHJc5cqV065du+Tn56f169dr+fLlkqTffvtNRYsWNVwHAFJcXJy6deumQ4cOyWKx6I/zWf/YY5hDUwDA9jCMBAAANqVZs2aKjIzUO++8I+nWL5SZmZmaPHmyWrVqZbgu7zIyMrR48WJt2rRJP//8c45XCTdv3myoLO9efvll9e3bVx4eHgoMDFTLli0l3Xp9u0aNGmbjAEDSiBEjFBQUpE2bNikoKEh79uxRUlKSRo0apY8++sh0HgAgF5asPz46AgAAsAGHDx9WmzZtVKdOHW3evFlhYWH64YcflJycrB07dqhixYqmE/PkpZde0uLFi9W5c2eVKlUqx0ng06ZNM1R2b/bt26cff/xR7dq1k4eHhyTpm2++kY+Pj5o2bWq4DoCjK168uDZv3qzQ0FB5e3trz549qly5sjZv3qxRo0bpwIEDphMBAH/CMBIAANicS5cuadasWYqJidGVK1dUp04dDR06VKVKlTKdlmfFixdXZGSkOnXqZDoFAAosX19fRUdHKygoSBUrVtT8+fPVqlUrnT59WjVq1FBqaqrpRADAn/CaNgAAsDne3t7ZpzjbKxcXF4WEhJjO+EsKwqvmAAq26tWrKyYmRkFBQWrYsKEmT54sFxcXzZ07V8HBwabzAAC5cDIdAAAA8N9CQkL09ttv6+TJk6ZT/pJRo0Zp+vTpsueXUEaMGKERI0YoIyND1atXV82aNa3+AIBpb775ZvYHJRMmTFB8fLyaNWumdevWacaMGYbrAAC54TVtAABgU6ZNm6YvvvhC+/fvV926ddWvXz/16tVLJUuWNJ12V927d7f6++bNm+Xn56dHH31UhQsXtroXFRWVn2n3hVfNAdij5ORk+fr65tirFwBgGxhGAgAAm3TixAktXbpUy5YtU3x8vFq1aqV+/fqpf//+ptNuKzw8PM/PLlq06CGWPBilS5fWd999p0ceecR0CgDk6tKlS8rIyJCfn5/V9eTkZBUqVEheXl6GygAAt8MwEgAA2Lzdu3frxRdfVGxsrDIyMkznOIwpU6YoLi5Os2bNYoURAJvUsWNHdenSRUOGDLG6PmfOHK1Zs0br1q0zVAYAuB2GkQAAwGbt2bNHX3zxhb788kv9/vvv6tKli5YvX246y2F069ZNW7ZssetXzQEUbH5+ftqxY4eqVq1qdf3YsWNq2rSpkpKSDJUBAG6H07QBAIBN+fPr2a1bt9YHH3yg7t27y8PDw3RentWuXTvX1YQWi0VFixZVSEiIBg4cqFatWhmoyxsfHx9169bNdAYA3NaNGzeUnp6e4/rNmzd17do1A0UAgLthZSQAALApTk5Oql+/vvr06aOnn35aAQEBppPuy+uvv67Zs2erRo0aatCggSRp7969io2N1cCBA3XkyBFt2rRJUVFRevLJJw3XAoB9atWqlapXr66ZM2daXR86dKhiY2O1bds2Q2UAgNthGAkAAGzKyZMnValSJdMZf9ngwYNVvnx5jR071ur6xIkTlZCQoHnz5mncuHH65ptvtG/fPkOVd5eenq7vvvtOp0+fVp8+feTp6amffvpJXl5edrVSFUDBtGPHDrVt21b169dXmzZtJEmbNm3S3r17tWHDBjVr1sxwIQDgzxhGAgAAm5OSkqKVK1fq9OnTGj16tPz8/BQdHa2AgACVKVPGdF6eeHt7a//+/QoJCbG6furUKdWtW1eXLl3SsWPHVL9+fV2+fNlQ5Z0lJCSoQ4cOSkxM1I0bN3TixAkFBwdrxIgRunHjhubMmWM6EQB08OBBffjhhzp48KBcXV0VGhqq119/vUB8sAUABRF7RgIAAJsSGxurNm3ayMfHR2fOnNHgwYPl5+enqKgoJSYmKjIy0nRinhQtWlQ7d+7MMYzcuXOnihYtKknKzMzM/toWjRgxQvXq1VNMTIyKFSuWfb1bt24aPHiwwTIA+I9atWpp6dKlpjMAAHnEMBIAANiUkSNHKjw8XJMnT5anp2f29U6dOqlPnz4Gy+7NsGHD9MILL2j//v2qX7++pFt7Rs6fP1//7//9P0nSt99+q1q1ahmsvLNt27Zp586dcnFxsbpeoUIFnTt3zlAVAEf3+++/y8vLK/vrO/njOQCA7WAYCQAAbMq+ffs0d+7cHNfLlCmjCxcuGCi6P2+++aaCgoI0a9YsffbZZ5KkypUra968edlD1RdeeEEvvviiycw7yszMVEZGRo7rZ8+etRoUA0B+8vX11fnz5+Xv7y8fHx9ZLJYcz2RlZcliseT6v2EAALMYRgIAAJtSpEiRXFe6nDhxQiVKlDBQdP/69u2rvn373va+q6trPtbcu8cff1wff/xx9nDYYrHoypUrGjdunDp16mS4DoCj2rx5s/z8/CRJW7ZsMVwDALhXHGADAABsyrPPPqukpCStWLFCfn5+io2NlbOzs7p27armzZvr448/Np3oMM6ePav27dsrKytLJ0+eVL169XTy5EkVL15cW7dulb+/v+lEAAAA2BmGkQAAwKZcunRJTz31lPbt26fLly+rdOnSunDhgho1aqT//d//lbu7u+nE2/Lz89OJEydUvHhx+fr65vrq4B+Sk5Pzsez+paena/ny5YqNjdWVK1dUp04d9e3b1+ZXdQIouGJjY/P8bGho6EMsAQDcD4aRAADAJu3YsUMxMTHZA7C2bduaTrqrJUuW6Omnn1aRIkW0ZMmSOz47YMCAfKoCgILFyclJFotFd/tVlj0jAcA2MYwEAAB24dixYwoLC9OJEydMpziMzZs3KyoqSmfOnJHFYlFwcLB69Oih5s2bm04D4MASEhLy/GxgYOBDLAEA3A+GkQAAwC7ExMSoTp06Nr/KJbfDd3Lj5eX1kEv+mhdeeEFz586Vr6+vHnnkkex9I1NSUjRkyBDNnDnTdCIAAADsEKdpAwAAPEA+Pj533CsyKyvL5l8dXL16tRYtWqSFCxdqwIAB2d9PZmamFi9erBdffFHt2rVTWFiY4VIAkI4fP66ZM2fq6NGjkqSqVatq2LBhqly5suEyAEBuGEYCAAA8QFu2bMn+OisrS506ddL8+fNVpkwZg1X3ZtGiRXrllVc0cOBAq+tOTk6KiIjQ8ePHtWDBAoaRAIxbtWqVnn76adWrV0+NGzeWJO3evVvVq1fX8uXL1aNHD8OFAIA/4zVtAABgF+zlNe0/8/T0VExMjIKDg02n5FnZsmUVFRWlBg0a5Hr/3//+t3r06KGzZ8/mcxkAWKtYsaL69u2rCRMmWF0fN26cPv/8c50+fdpQGQDgdlgZCQAAbIKvr+8dX29OT0/PxxrH9uuvv6ps2bK3vV+2bFklJSXlYxEA5O78+fPq379/juv9+vXThx9+aKAIAHA3DCMBAIBN+Pjjj00n4P+kpaWpcOHCt71fqFAhpaWl5WMRAOSuZcuW2rZtm0JCQqyub9++Xc2aNTNUBQC4E4aRAADAJgwYMMB0wkNzpxWftmrs2LFyc3PL9V5qamo+1wBA7sLCwvTaa69p//79atSokaRbe0b+85//1Pjx47VmzRqrZwEA5rFnJAAAwAPUvXt3q7+vXbtWrVu3lru7u9X1qKio/My6Jy1btszTAPW/D+sBABOcnJzy9JzFYrG7PYcBoKBiZSQAAMAD5O3tbfX3fv36GSq5f999953pBADIk8zMTNMJAIB7xMpIAAAAAAAAAPmClZEAAAAAALu1d+9ebdmyRT///HOOlZJTp041VAUAuB2GkQAAAAAAuzRp0iS9+eabqly5sgICAqz2u7XHw8MAwBHwmjYAALA5W7dulZubm+rVq5d9bd++fUpNTVXz5s0NlgEAbElAQIA++OADDRw40HQKACCPGEYCAACb4+TkpCpVqujIkSPZ16pWraoTJ05wGioAIFupUqW0detWVapUyXQKACCPnEwHAAAA/Fl8fLw2btxodW3Tpk2Ki4szVOS4tm3bpn79+qlx48Y6d+6cJOmzzz7T9u3bDZcBgDRy5Eh98sknpjMAAPeAlZEAAADI1apVq/TMM8+ob9+++uyzz3TkyBEFBwdr1qxZWrdundatW2c6EYCDy8zMVOfOnXXixAlVq1ZNhQsXtrofFRVlqAwAcDusjAQAADYpLS1NZ8+eVWJiotUf5J+JEydqzpw5mjdvntUv+E2bNlV0dLTBMgC4Zfjw4dqyZYseeeQRFStWTN7e3lZ/AAC2h9O0AQCATTl58qQiIiK0c+dOq+tZWVmyWCzsGZmPjh8/nuuBQd7e3kpJScn/IAD4kyVLlmjVqlXq3Lmz6RQAQB4xjAQAADZl4MCBKlSokL7++muVKlVKFovFdJLDKlmypE6dOqUKFSpYXd++fbuCg4PNRAHAf/Hz81PFihVNZwAA7gHDSAAAYFMOHjyo/fv3q0qVKqZTHN7gwYM1YsQILVy4UBaLRT/99JN27dqlV199VWPHjjWdBwB6++23NW7cOC1atEhubm6mcwAAecAwEgAA2JRq1arp119/NZ0BSWPGjFFmZqbatGmj1NRUNW/eXEWKFNGrr76qYcOGmc4DAM2YMUOnT59WQECAKlSokOMAG/a3BQDbw2naAADApmzevFlvvvmmJk2apBo1auT4xdLLy8tQmeNKS0vTqVOndOXKFVWrVk0eHh6mkwBAkjR+/Pg73h83blw+lQAA8ophJAAAsClOTk6SlGOvSA6wyX8RERGaPn26PD09ra5fvXpVw4YN08KFCw2VAQAAwF4xjAQAADbl+++/v+P9Fi1a5FMJnJ2ddf78efn7+1td//XXX1WyZEmlp6cbKgMAa/v379fRo0clSY8++qhq165tuAgAcDvsGQkAAGwKw0bzfv/9d2VlZSkrK0uXL19W0aJFs+9lZGRo3bp1OQaUAGDCzz//rKefflrfffedfHx8JEkpKSlq1aqVli9frhIlSpgNBADkwDASAADYnJSUFC1YsMBqlUtERIS8vb0NlzkGHx8fWSwWWSwWPfLIIznuWyyWu+7TBgD5YdiwYbp8+bJ++OEHVa1aVZJ05MgRDRgwQMOHD9eyZcsMFwIA/ozXtAEAgE3Zt2+f2rdvL1dXVzVo0ECStHfvXl27dk0bNmxQnTp1DBcWfN9//72ysrLUunVrrVq1Sn5+ftn3XFxcFBgYqNKlSxssBIBbvL29tXHjRtWvX9/q+p49e/T4448rJSXFTBgA4LYYRgIAAJvSrFkzhYSEaN68eSpU6NZLHOnp6Xr22WcVFxenrVu3Gi50HAkJCSpfvnyOw4QAwFZ4enpq27ZtqlWrltX1AwcOqEWLFvr999/NhAEAbothJAAAsCmurq46cOCAqlSpYnX9yJEjqlevnlJTUw2VOYbY2FhVr15dTk5Oio2NveOzoaGh+VQFALl78sknlZKSomXLlmWv2D537pz69u0rX19frV692nAhAODP2DMSAADYFC8vLyUmJuYYRv7444/y9PQ0VOU4atWqpQsXLsjf31+1atWSxWJRbp9dWywWZWRkGCgEgP+YNWuWwsLCVKFCBZUrV07SrZ8X1atX1+eff264DgCQG4aRAADApvTq1UuDBg3SRx99pCZNmkiSduzYodGjR6t3796G6wq++Pj47NNn4+PjDdcAwJ2VK1dO0dHR2rhxo44dOyZJqlq1qtq2bWu4DABwO7ymDQAAbEpaWppGjx6tOXPmKD09XZJUuHBhvfjii3r//fdVpEgRw4UAAAAA7peT6QAAAID/5uLiounTp+u3337TwYMHdfDgQSUnJ2vatGkMIvPZkiVL9M0332T//e9//7t8fHzUpEkTJSQkGCwD4Og2b96satWq5XpAzaVLl/Too49q27ZtBsoAAHfDMBIAANgkNzc31ahRQ4GBgdqwYYOOHj1qOsnhTJo0Sa6urpKkXbt2adasWZo8ebKKFy+ukSNHGq4D4Mg+/vhjDR48WF5eXjnueXt76/nnn9fUqVMNlAEA7oZhJAAAsCk9e/bUrFmzJEnXrl1TvXr11LNnT4WGhmrVqlWG6xzLjz/+qJCQEEnS//zP/+ipp57Sc889p/fee48VRwCMiomJUYcOHW57//HHH9f+/fvzsQgAkFcMIwEAgE3ZunWrmjVrJklavXq1srKylJKSohkzZmjixImG6xyLh4eHkpKSJEkbNmxQu3btJElFixbVtWvXTKYBcHAXL15U4cKFb3u/UKFC+uWXX/KxCACQVwwjAQCATbl06ZL8/PwkSevXr1ePHj3k5uamzp076+TJk4brHEu7du307LPP6tlnn9WJEyfUqVMnSdIPP/ygChUqmI0D4NDKlCmjw4cP3/Z+bGysSpUqlY9FAIC8YhgJAABsSrly5bRr1y5dvXpV69ev1+OPPy5J+u2331S0aFHDdY7lk08+UePGjfXLL79o1apVKlasmCRp//796t27t+E6AI6sU6dOGjt2rK5fv57j3rVr1zRu3Dg98cQTBsoAAHdjycrKyjIdAQAA8Id//OMfGjFihDw8PBQYGKjo6Gg5OTlp5syZioqK0pYtW0wnAgAMu3jxourUqSNnZ2e99NJLqly5siTp2LFj+uSTT5SRkaHo6GgFBAQYLgUA/BnDSAAAYHP279+vxMREtWvXTh4eHpKkb775Rj4+PmratKnhOseTmpqqxMREpaWlWV0PDQ01VAQAUkJCgl588UV9++23+uPXWovFovbt2+uTTz5RUFCQ4UIAQG4YRgIAACBXv/zyiwYOHKj169fnej8jIyOfiwAgp99++02nTp1SVlaWKlWqJF9fX9NJAIA7KGQ6AAAA4M/Onj2rNWvW5Loab+rUqYaqHM/LL7+sS5cu6d///rdatmyp1atX6+LFi5o4caKmTJliOg8AJEm+vr6qX7++6QwAQB4xjAQAADZl06ZNCgsLU3BwsI4dO6bq1avrzJkzysrKUp06dUznOZTNmzfrq6++Ur169eTk5KTAwEC1a9dOXl5eeu+999S5c2fTiQAAALAznKYNAABsyuuvv65XX31Vhw4dUtGiRbVq1Sr9+OOPatGihf72t7+ZznMoV69elb+/v6RbK49++eUXSVKNGjUUHR1tMg0AAAB2imEkAACwKUePHlX//v0lSYUKFdK1a9fk4eGhCRMm6IMPPjBc51gqV66s48ePS5Jq1qypTz/9VOfOndOcOXNUqlQpw3UAAACwR7ymDQAAbIq7u3v2PpGlSpXS6dOn9eijj0qSfv31V5NpDmfEiBE6f/68JGncuHHq0KGDli5dKhcXFy1evNhsHAAAAOwSw0gAAGBTGjVqpO3bt6tq1arq1KmTRo0apUOHDikqKkqNGjUynedQ+vXrl/113bp1lZCQoGPHjql8+fIqXry4wTIAAADYK0tWVlaW6QgAAIA/xMXF6cqVKwoNDdXVq1c1atQo7dy5U5UqVdLUqVMVGBhoOtEh3Lx5U1WqVNHXX3+tqlWrms4BAABAAcEwEgAAALkqU6aMNm7cyDASAAAADwwH2AAAAJuTkpKi+fPn6/XXX1dycrIkKTo6WufOnTNc5liGDh2qDz74QOnp6aZTAAAAUECwMhIAANiU2NhYtW3bVt7e3jpz5oyOHz+u4OBgvfnmm0pMTFRkZKTpRIfRrVs3bdq0SR4eHqpRo4bc3d2t7kdFRRkqAwAAgL3iABsAAGBTXnnlFQ0cOFCTJ0+Wp6dn9vVOnTqpT58+Bsscj4+Pj3r06GE6AwAAAAUIKyMBAIBN8fb2VnR0tCpWrChPT0/FxMQoODhYCQkJqly5sq5fv246EQAAAMB9Ys9IAABgU4oUKaLff/89x/UTJ06oRIkSBooAAAAAPCi8pg0AAGxKWFiYJkyYoBUrVkiSLBaLEhMT9dprr/HKsAErV67UihUrlJiYqLS0NKt70dHRhqoAAABgr1gZCQAAbMqUKVN05coV+fv769q1a2rRooVCQkLk6empd99913SeQ5kxY4bCw8MVEBCgAwcOqEGDBipWrJji4uLUsWNH03kAAACwQ+wZCQAAbNKOHTsUExOjK1euqE6dOmrbtq3pJIdTpUoVjRs3Tr1797bav/Ott95ScnKyZs2aZToRAAAAdoZhJAAAAHLl5uamo0ePKjAwUP7+/vrXv/6lmjVr6uTJk2rUqJGSkpJMJwIAAMDO8Jo2AACwCbt27dLXX39tdS0yMlJBQUHy9/fXc889pxs3bhiqc0wlS5ZUcnKyJKl8+fLavXu3JCk+Pl58ng0AAID7wTASAADYhAkTJuiHH37I/vuhQ4c0aNAgtW3bVmPGjNHatWv13nvvGSx0PK1bt9aaNWskSeHh4Ro5cqTatWunXr16qVu3bobrAAAAYI94TRsAANiEUqVKae3atapXr54k6Y033tD333+v7du3S5L++c9/aty4cTpy5IjJTIeSmZmpzMxMFSpUSJK0fPly7dy5U5UqVdLzzz8vFxcXw4UAAACwNwwjAQCATShatKhOnjypcuXKSZIee+wxdezYUW+88YYk6cyZM6pRo4YuX75sMtNh7N69W2vXrlVaWpratGmjDh06mE4CAABAAcBr2gAAwCYEBAQoPj5ekpSWlqbo6Gg1atQo+/7ly5dVuHBhU3kOZeXKlWratKmmT5+u+fPnq3Pnzvroo49MZwEAAKAAYBgJAABsQqdOnTRmzBht27ZNr7/+utzc3NSsWbPs+7GxsapYsaLBQsfx3nvvafDgwbp06ZJ+++03TZw4UZMmTTKdBQAAgAKA17QBAIBN+PXXX9W9e3dt375dHh4eWrJkidUhKW3atFGjRo307rvvGqx0DB4eHjp48KBCQkIk3Vqp6u7urnPnzsnf399wHQAAAOwZw0gAAGBTLl26JA8PDzk7O1tdT05OloeHB4em5AMnJydduHDBavDo6empmJgYBQcHGywDAACAvStkOgAAAOC/eXt753rdz88vn0sc2/z58+Xh4ZH99/T0dC1evFjFixfPvjZ8+HATaQAAALBjrIwEAACAlQoVKshisdzxGYvFori4uHwqAgAAQEHBMBIAAAAAAABAvuA0bQAAAAAAAAD5gmEkAAAAAAAAgHzBMBIAAAAAAABAvmAYCQAAAAAAACBfMIwEAAAAAAAAkC8KmQ4AAACA7bt+/brS0tKsrnl5eRmqAQAAgL1iZSQAAABylZqaqpdeekn+/v5yd3eXr6+v1R8AAADgXjGMBAAAQK5Gjx6tzZs3a/bs2SpSpIjmz5+v8ePHq3Tp0oqMjDSdBwAAADtkycrKyjIdAQAAANtTvnx5RUZGqmXLlvLy8lJ0dLRCQkL02WefadmyZVq3bp3pRAAAANgZVkYCAAAgV8nJyQoODpZ0a3/I5ORkSdJjjz2mrVu3mkwDAACAnWIYCQAAgFwFBwcrPj5eklSlShWtWLFCkrR27Vr5+PgYLAMAAIC94jVtAAAA5GratGlydnbW8OHDtXHjRnXp0kVZWVm6efOmpk6dqhEjRphOBAAAgJ1hGAkAAIA8SUhI0P79+xUSEqLQ0FDTOQAAALBDDCMBAAAAAAAA5ItCpgMAAABgO2bMmKHnnntORYsW1YwZM+747PDhw/OpCgAAAAUFKyMBAACQLSgoSPv27VOxYsUUFBR02+csFovi4uLysQwAAAAFAcNIAAAAAAAAAPnCyXQAAAAAbM/NmzdVsWJFHT161HQKAAAAChCGkQAAAMihcOHCun79uukMAAAAFDAMIwEAAJCroUOH6oMPPlB6errpFAAAABQQ7BkJAACAXHXr1k2bNm2Sh4eHatSoIXd3d6v7UVFRhsoAAABgrwqZDgAAAIBt8vHxUY8ePUxnAAAAoABhZSQAAAAAAACAfMGekQAAAAAAAADyBa9pAwAA4LZWrlypFStWKDExUWlpaVb3oqOjDVUBAADAXrEyEgAAALmaMWOGwsPDFRAQoAMHDqhBgwYqVqyY4uLi1LFjR9N5AAAAsEPsGQkAAIBcValSRePGjVPv3r3l6empmJgYBQcH66233lJycrJmzZplOhEAAAB2hpWRAAAAyFViYqKaNGkiSXJ1ddXly5clSc8884yWLVtmMg0AAAB2imEkAAAAclWyZEklJydLksqXL6/du3dLkuLj48XLNQAAALgfDCMBAACQq9atW2vNmjWSpPDwcI0cOVLt2rVTr1691K1bN8N1AAAAsEfsGQkAAIBcZWZmKjMzU4UKFZIkLV++XDt37lSlSpX0/PPPy8XFxXAhAAAA7A3DSAAAAAAAAAD5opDpAAAAANiO2NjYPD8bGhr6EEsAAABQELEyEgAAANmcnJxksVjuekCNxWJRRkZGPlUBAACgoGBlJAAAALLFx8ebTgAAAEABxspIAAAAAAAAAPmClZEAAAC4oyNHjigxMVFpaWlW18PCwgwVAQAAwF4xjAQAAECu4uLi1K1bNx06dMhqH0mLxSJJ7BkJAACAe+ZkOgAAAAC2acSIEQoKCtLPP/8sNzc3/fDDD9q6davq1aun7777znQeAAAA7BB7RgIAACBXxYsX1+bNmxUaGipvb2/t2bNHlStX1ubNmzVq1CgdOHDAdCIAAADsDCsjAQAAkKuMjAx5enpKujWY/OmnnyRJgYGBOn78uMk0AAAA2Cn2jAQAAECuqlevrpiYGAUFBalhw4aaPHmyXFxcNHfuXAUHB5vOAwAAgB3iNW0AAADk6ttvv9XVq1fVvXt3nTp1Sk888YROnDihYsWK6csvv1Tr1q1NJwIAAMDOMIwEAABAniUnJ8vX1zf7RG0AAADgXjCMBAAAAAAAAJAv2DMSAAAAViIiIvL03MKFCx9yCQAAAAoaVkYCAADAipOTkwIDA1W7dm3d6f8qrl69Oh+rAAAAUBCwMhIAAABWXnzxRS1btkzx8fEKDw9Xv3795OfnZzoLAAAABQArIwEAAJDDjRs3FBUVpYULF2rnzp3q3LmzBg0apMcff5zDawAAAHDfGEYCAADgjhISErR48WJFRkYqPT1dP/zwgzw8PExnAQAAwA45mQ4AAACAbXNycpLFYlFWVpYyMjJM5wAAAMCOMYwEAABADjdu3NCyZcvUrl07PfLIIzp06JBmzZqlxMREVkUCAADgvnGADQAAAKwMGTJEy5cvV7ly5RQREaFly5apePHiprMAAABQALBnJAAAAKw4OTmpfPnyql279h0Pq4mKisrHKgAAABQErIwEAACAlf79+3NiNgAAAB4KVkYCAAAAAAAAyBccYAMAAAAAAAAgXzCMBAAAAAAAAJAvGEYCAAAAAAAAyBcMIwEAAAAAAADkC4aRAAAAAAAAAPIFw0gAAAAAAAAA+YJhJAAAAAAAAIB8wTASAAAAAAAAQL5gGAkAAAAAAAAgX/x/HdF4DXBX9fEAAAAASUVORK5CYII=",
      "text/plain": [
       "<Figure size 1200x800 with 2 Axes>"
      ]
     },
     "metadata": {},
     "output_type": "display_data"
    }
   ],
   "source": [
    "import seaborn as sns\n",
    "import matplotlib.pyplot as plt\n",
    "\n",
    "plt.figure(figsize=(12, 8))\n",
    "sns.heatmap(correlation_matrix, annot=True, cmap='coolwarm', linewidths=0.5)\n",
    "plt.title('Correlation Matrix Heatmap')\n",
    "plt.show()"
   ]
  },
  {
   "cell_type": "code",
<<<<<<< HEAD
   "execution_count": 165,
=======
   "execution_count": 50,
>>>>>>> ae3f2fa09079df83c2ab490d59f40c7bfcc92401
   "id": "229b5bf3",
   "metadata": {},
   "outputs": [],
   "source": [
    "y = df['Outcome']\n",
    "X = df.drop('Outcome',axis = 1 )"
   ]
  },
  {
   "cell_type": "code",
<<<<<<< HEAD
   "execution_count": 166,
=======
   "execution_count": 51,
>>>>>>> ae3f2fa09079df83c2ab490d59f40c7bfcc92401
   "id": "7107b22b",
   "metadata": {},
   "outputs": [
    {
     "name": "stdout",
     "output_type": "stream",
     "text": [
      "<class 'pandas.core.frame.DataFrame'>\n",
      "Index: 2120 entries, 0 to 2119\n",
      "Data columns (total 14 columns):\n",
      " #   Column                                                        Non-Null Count  Dtype  \n",
      "---  ------                                                        --------------  -----  \n",
      " 0   Pregnancies                                                   2120 non-null   int64  \n",
      " 1   Availability of Treated Net                                   2120 non-null   int64  \n",
      " 2   Season: Level of Rainfall-Stagnant water breeding             2120 non-null   int64  \n",
      " 3   High Rate of Mal  Infection (Lab Diagnosis)                   2120 non-null   float64\n",
      " 4   Malaria Parasite Density Fever- Rapid Diagnostic Test(Strip)  2120 non-null   int32  \n",
      " 5   Complaints/Symptoms                                           2120 non-null   int32  \n",
      " 6   Age                                                           2120 non-null   int64  \n",
      " 7   Electricity                                                   2120 non-null   int64  \n",
      " 8   Environment - Sanitised or not                                2120 non-null   int64  \n",
      " 9   Complicated/ Uncomplicated Malaria Diagnosis                  2120 non-null   int64  \n",
      " 10  Location (Urban/ Rural Area)                                  2120 non-null   int64  \n",
      " 11  Laboratory Equipments_Not adequate                            2120 non-null   int32  \n",
      " 12  Doctor to Patient_high                                        2120 non-null   int32  \n",
      " 13  Doctor to Patient_low                                         2120 non-null   int32  \n",
      "dtypes: float64(1), int32(5), int64(8)\n",
      "memory usage: 207.0 KB\n"
     ]
    }
   ],
   "source": [
    "X.info()"
   ]
  },
  {
   "cell_type": "code",
<<<<<<< HEAD
   "execution_count": 167,
=======
   "execution_count": 52,
>>>>>>> ae3f2fa09079df83c2ab490d59f40c7bfcc92401
   "id": "6a598831",
   "metadata": {},
   "outputs": [],
   "source": [
    "X_train, X_test, y_train, y_test = train_test_split(X, y, test_size=0.33, random_state=42)"
   ]
  },
  {
   "cell_type": "code",
<<<<<<< HEAD
   "execution_count": 168,
=======
   "execution_count": 53,
>>>>>>> ae3f2fa09079df83c2ab490d59f40c7bfcc92401
   "id": "0c8000ed",
   "metadata": {},
   "outputs": [],
   "source": [
    "from sklearn.naive_bayes import GaussianNB\n",
    "from sklearn.linear_model import LogisticRegression\n",
    "from sklearn.ensemble import RandomForestClassifier\n",
    "from sklearn.ensemble import GradientBoostingClassifier"
   ]
  },
  {
   "cell_type": "code",
<<<<<<< HEAD
   "execution_count": 169,
=======
   "execution_count": 54,
>>>>>>> ae3f2fa09079df83c2ab490d59f40c7bfcc92401
   "id": "c6c0429b",
   "metadata": {},
   "outputs": [],
   "source": [
    "models={'logistic':LogisticRegression(),'random':RandomForestClassifier()\n",
    "        ,'gradient':GradientBoostingClassifier(),\n",
    "        'gaussian':GaussianNB()}"
   ]
  },
  {
   "cell_type": "code",
<<<<<<< HEAD
   "execution_count": 170,
=======
   "execution_count": 55,
>>>>>>> ae3f2fa09079df83c2ab490d59f40c7bfcc92401
   "id": "221dc89f",
   "metadata": {},
   "outputs": [],
   "source": [
    "def model_scoring(model,x_train,x_test,y_train,y_test):\n",
    "    model_name=[]\n",
    "    train_score=[]\n",
    "    test_score=[]\n",
    "\n",
    "    for name, m in model.items():\n",
    "        m.fit(x_train,y_train) #  train data\n",
    "        #pre_train= m.predict(x_train)\n",
    "        tr=m.score(x_train,y_train)\n",
    "        train_score.append(tr)\n",
    "        ts=m.score(x_test,y_test)\n",
    "        test_score.append(ts)\n",
    "        model_name.append(name)\n",
    "        score_df=pd.DataFrame({'model:name':model_name,'train_score':train_score,'test_score':test_score})\n",
    "    return score_df"
   ]
  },
  {
   "cell_type": "code",
<<<<<<< HEAD
   "execution_count": 171,
=======
   "execution_count": 56,
>>>>>>> ae3f2fa09079df83c2ab490d59f40c7bfcc92401
   "id": "44dc8196",
   "metadata": {},
   "outputs": [
    {
     "name": "stderr",
     "output_type": "stream",
     "text": [
      "c:\\Users\\Industry Expert\\AppData\\Local\\Programs\\Python\\Python312\\Lib\\site-packages\\sklearn\\linear_model\\_logistic.py:469: ConvergenceWarning: lbfgs failed to converge (status=1):\n",
      "STOP: TOTAL NO. of ITERATIONS REACHED LIMIT.\n",
      "\n",
      "Increase the number of iterations (max_iter) or scale the data as shown in:\n",
      "    https://scikit-learn.org/stable/modules/preprocessing.html\n",
      "Please also refer to the documentation for alternative solver options:\n",
      "    https://scikit-learn.org/stable/modules/linear_model.html#logistic-regression\n",
      "  n_iter_i = _check_optimize_result(\n"
     ]
    },
    {
     "data": {
      "text/html": [
       "<div>\n",
       "<style scoped>\n",
       "    .dataframe tbody tr th:only-of-type {\n",
       "        vertical-align: middle;\n",
       "    }\n",
       "\n",
       "    .dataframe tbody tr th {\n",
       "        vertical-align: top;\n",
       "    }\n",
       "\n",
       "    .dataframe thead th {\n",
       "        text-align: right;\n",
       "    }\n",
       "</style>\n",
       "<table border=\"1\" class=\"dataframe\">\n",
       "  <thead>\n",
       "    <tr style=\"text-align: right;\">\n",
       "      <th></th>\n",
       "      <th>model:name</th>\n",
       "      <th>train_score</th>\n",
       "      <th>test_score</th>\n",
       "    </tr>\n",
       "  </thead>\n",
       "  <tbody>\n",
       "    <tr>\n",
       "      <th>0</th>\n",
       "      <td>logistic</td>\n",
       "      <td>0.999296</td>\n",
       "      <td>0.995714</td>\n",
       "    </tr>\n",
       "    <tr>\n",
       "      <th>1</th>\n",
       "      <td>random</td>\n",
       "      <td>1.000000</td>\n",
       "      <td>1.000000</td>\n",
       "    </tr>\n",
       "    <tr>\n",
       "      <th>2</th>\n",
       "      <td>gradient</td>\n",
       "      <td>1.000000</td>\n",
       "      <td>1.000000</td>\n",
       "    </tr>\n",
       "    <tr>\n",
       "      <th>3</th>\n",
       "      <td>gaussian</td>\n",
       "      <td>1.000000</td>\n",
       "      <td>1.000000</td>\n",
       "    </tr>\n",
       "  </tbody>\n",
       "</table>\n",
       "</div>"
      ],
      "text/plain": [
       "  model:name  train_score  test_score\n",
       "0   logistic     0.999296    0.995714\n",
       "1     random     1.000000    1.000000\n",
       "2   gradient     1.000000    1.000000\n",
       "3   gaussian     1.000000    1.000000"
      ]
     },
<<<<<<< HEAD
     "execution_count": 171,
=======
     "execution_count": 56,
>>>>>>> ae3f2fa09079df83c2ab490d59f40c7bfcc92401
     "metadata": {},
     "output_type": "execute_result"
    }
   ],
   "source": [
    "model_scoring(model=models,\n",
    "              x_train=X_train,\n",
    "              x_test=X_test,\n",
    "              y_train=y_train,\n",
    "              y_test=y_test)"
   ]
  },
  {
   "cell_type": "code",
<<<<<<< HEAD
   "execution_count": 172,
=======
   "execution_count": 57,
>>>>>>> ae3f2fa09079df83c2ab490d59f40c7bfcc92401
   "id": "aad94bbf",
   "metadata": {},
   "outputs": [],
   "source": [
    "def model_evaluation(model,x_train,x_test,y_train,y_test):\n",
    "    model_name=[]\n",
    "    accuracy_=[]\n",
    "\n",
    "    for name, m in model.items():\n",
    "        m.fit(x_train,y_train) #  train data\n",
    "        pred= m.predict(x_test)\n",
    "        accuracy = accuracy_score(y_test,pred)\n",
    "        accuracy_.append(accuracy)\n",
    "        model_name.append(name)\n",
    "        eva_df=pd.DataFrame({'model:name':model_name,'accuracy_score':accuracy})\n",
    "    return eva_df"
   ]
  },
  {
   "cell_type": "code",
<<<<<<< HEAD
   "execution_count": 173,
=======
   "execution_count": 58,
>>>>>>> ae3f2fa09079df83c2ab490d59f40c7bfcc92401
   "id": "31f6263f",
   "metadata": {},
   "outputs": [
    {
     "name": "stderr",
     "output_type": "stream",
     "text": [
      "c:\\Users\\Industry Expert\\AppData\\Local\\Programs\\Python\\Python312\\Lib\\site-packages\\sklearn\\linear_model\\_logistic.py:469: ConvergenceWarning: lbfgs failed to converge (status=1):\n",
      "STOP: TOTAL NO. of ITERATIONS REACHED LIMIT.\n",
      "\n",
      "Increase the number of iterations (max_iter) or scale the data as shown in:\n",
      "    https://scikit-learn.org/stable/modules/preprocessing.html\n",
      "Please also refer to the documentation for alternative solver options:\n",
      "    https://scikit-learn.org/stable/modules/linear_model.html#logistic-regression\n",
      "  n_iter_i = _check_optimize_result(\n"
     ]
    },
    {
     "data": {
      "text/html": [
       "<div>\n",
       "<style scoped>\n",
       "    .dataframe tbody tr th:only-of-type {\n",
       "        vertical-align: middle;\n",
       "    }\n",
       "\n",
       "    .dataframe tbody tr th {\n",
       "        vertical-align: top;\n",
       "    }\n",
       "\n",
       "    .dataframe thead th {\n",
       "        text-align: right;\n",
       "    }\n",
       "</style>\n",
       "<table border=\"1\" class=\"dataframe\">\n",
       "  <thead>\n",
       "    <tr style=\"text-align: right;\">\n",
       "      <th></th>\n",
       "      <th>model:name</th>\n",
       "      <th>accuracy_score</th>\n",
       "    </tr>\n",
       "  </thead>\n",
       "  <tbody>\n",
       "    <tr>\n",
       "      <th>0</th>\n",
       "      <td>logistic</td>\n",
       "      <td>1.0</td>\n",
       "    </tr>\n",
       "    <tr>\n",
       "      <th>1</th>\n",
       "      <td>random</td>\n",
       "      <td>1.0</td>\n",
       "    </tr>\n",
       "    <tr>\n",
       "      <th>2</th>\n",
       "      <td>gradient</td>\n",
       "      <td>1.0</td>\n",
       "    </tr>\n",
       "    <tr>\n",
       "      <th>3</th>\n",
       "      <td>gaussian</td>\n",
       "      <td>1.0</td>\n",
       "    </tr>\n",
       "  </tbody>\n",
       "</table>\n",
       "</div>"
      ],
      "text/plain": [
       "  model:name  accuracy_score\n",
       "0   logistic             1.0\n",
       "1     random             1.0\n",
       "2   gradient             1.0\n",
       "3   gaussian             1.0"
      ]
     },
<<<<<<< HEAD
     "execution_count": 173,
=======
     "execution_count": 58,
>>>>>>> ae3f2fa09079df83c2ab490d59f40c7bfcc92401
     "metadata": {},
     "output_type": "execute_result"
    }
   ],
   "source": [
    "model_evaluation(model=models,\n",
    "              x_train=X_train,\n",
    "              x_test=X_test,\n",
    "              y_train=y_train,\n",
    "              y_test=y_test)"
   ]
  },
  {
   "cell_type": "markdown",
   "id": "624ec57d",
   "metadata": {},
   "source": [
    "### So now we are having an accuracy score of 100% which in actual sense a Machine Learning model or a machine cannot be 100% accurate..... \n",
    "\n",
    "### Hence we do some feature engineering processes, Tuning some hyperparameters, dropping irrelevant columns and all..."
   ]
  },
  {
   "cell_type": "markdown",
   "id": "1e5b0565",
   "metadata": {},
   "source": [
    "## FEATURE ENGINEERING"
   ]
  },
  {
   "cell_type": "code",
<<<<<<< HEAD
   "execution_count": 174,
=======
   "execution_count": 59,
>>>>>>> ae3f2fa09079df83c2ab490d59f40c7bfcc92401
   "id": "3af7e8a1",
   "metadata": {},
   "outputs": [
    {
     "data": {
      "text/html": [
       "<div>\n",
       "<style scoped>\n",
       "    .dataframe tbody tr th:only-of-type {\n",
       "        vertical-align: middle;\n",
       "    }\n",
       "\n",
       "    .dataframe tbody tr th {\n",
       "        vertical-align: top;\n",
       "    }\n",
       "\n",
       "    .dataframe thead th {\n",
       "        text-align: right;\n",
       "    }\n",
       "</style>\n",
       "<table border=\"1\" class=\"dataframe\">\n",
       "  <thead>\n",
       "    <tr style=\"text-align: right;\">\n",
       "      <th></th>\n",
       "      <th>Pregnancies</th>\n",
       "      <th>Availability of Treated Net</th>\n",
       "      <th>Season: Level of Rainfall-Stagnant water breeding</th>\n",
       "      <th>High Rate of Mal  Infection (Lab Diagnosis)</th>\n",
       "      <th>Malaria Parasite Density Fever- Rapid Diagnostic Test(Strip)</th>\n",
       "      <th>Complaints/Symptoms</th>\n",
       "      <th>Age</th>\n",
       "      <th>Outcome</th>\n",
       "      <th>Electricity</th>\n",
       "      <th>Laboratory Equipments</th>\n",
       "      <th>Doctor to Patient</th>\n",
       "      <th>Environment - Sanitised or not</th>\n",
       "      <th>Complicated/ Uncomplicated Malaria Diagnosis</th>\n",
       "      <th>Location (Urban/ Rural Area)</th>\n",
       "      <th>Malaria Outcome Interpretation</th>\n",
       "    </tr>\n",
       "  </thead>\n",
       "  <tbody>\n",
       "    <tr>\n",
       "      <th>0</th>\n",
       "      <td>0</td>\n",
       "      <td>1</td>\n",
       "      <td>0</td>\n",
       "      <td>0.7</td>\n",
       "      <td>malaria,?helminthiasis</td>\n",
       "      <td>Bitter mouth taste, tiredness, feeling of some...</td>\n",
       "      <td>36.0</td>\n",
       "      <td>0</td>\n",
       "      <td>1.0</td>\n",
       "      <td>Adequate</td>\n",
       "      <td>high</td>\n",
       "      <td>1.0</td>\n",
       "      <td>Uncomplicated</td>\n",
       "      <td>Urban</td>\n",
       "      <td>Negative</td>\n",
       "    </tr>\n",
       "    <tr>\n",
       "      <th>1</th>\n",
       "      <td>0</td>\n",
       "      <td>0</td>\n",
       "      <td>1</td>\n",
       "      <td>75.0</td>\n",
       "      <td>Malaria R/O Sepsis</td>\n",
       "      <td>Fever x 4/7_x000D_\\nVomiting x 3/7_x000D_\\nMal...</td>\n",
       "      <td>24.0</td>\n",
       "      <td>1</td>\n",
       "      <td>0.0</td>\n",
       "      <td>Not adequate</td>\n",
       "      <td>low</td>\n",
       "      <td>0.0</td>\n",
       "      <td>Complicated</td>\n",
       "      <td>Rural</td>\n",
       "      <td>Positive</td>\n",
       "    </tr>\n",
       "    <tr>\n",
       "      <th>2</th>\n",
       "      <td>1</td>\n",
       "      <td>0</td>\n",
       "      <td>1</td>\n",
       "      <td>71.0</td>\n",
       "      <td>?Malaria in pregnancy</td>\n",
       "      <td>1. Abd pain_x000D_\\nfever</td>\n",
       "      <td>9.0</td>\n",
       "      <td>1</td>\n",
       "      <td>0.0</td>\n",
       "      <td>Not adequate</td>\n",
       "      <td>low</td>\n",
       "      <td>0.0</td>\n",
       "      <td>Complicated</td>\n",
       "      <td>Rural</td>\n",
       "      <td>Positive</td>\n",
       "    </tr>\n",
       "    <tr>\n",
       "      <th>3</th>\n",
       "      <td>0</td>\n",
       "      <td>0</td>\n",
       "      <td>1</td>\n",
       "      <td>96.0</td>\n",
       "      <td>?Malaria_x000D_\\nDelayed Developmental Milestones</td>\n",
       "      <td>1. Fever_x000D_\\nPoor appetite</td>\n",
       "      <td>5.0</td>\n",
       "      <td>1</td>\n",
       "      <td>0.0</td>\n",
       "      <td>Not adequate</td>\n",
       "      <td>low</td>\n",
       "      <td>0.0</td>\n",
       "      <td>Complicated</td>\n",
       "      <td>Rural</td>\n",
       "      <td>Positive</td>\n",
       "    </tr>\n",
       "    <tr>\n",
       "      <th>4</th>\n",
       "      <td>1</td>\n",
       "      <td>0</td>\n",
       "      <td>1</td>\n",
       "      <td>97.0</td>\n",
       "      <td>?Malaria in pregnancy</td>\n",
       "      <td>1. frequent stooling x 3episodes /day_x000D_\\n...</td>\n",
       "      <td>28.0</td>\n",
       "      <td>1</td>\n",
       "      <td>0.0</td>\n",
       "      <td>Not adequate</td>\n",
       "      <td>low</td>\n",
       "      <td>0.0</td>\n",
       "      <td>Complicated</td>\n",
       "      <td>Rural</td>\n",
       "      <td>Positive</td>\n",
       "    </tr>\n",
       "  </tbody>\n",
       "</table>\n",
       "</div>"
      ],
      "text/plain": [
       "   Pregnancies  Availability of Treated Net  \\\n",
       "0            0                            1   \n",
       "1            0                            0   \n",
       "2            1                            0   \n",
       "3            0                            0   \n",
       "4            1                            0   \n",
       "\n",
       "   Season: Level of Rainfall-Stagnant water breeding   \\\n",
       "0                                                  0    \n",
       "1                                                  1    \n",
       "2                                                  1    \n",
       "3                                                  1    \n",
       "4                                                  1    \n",
       "\n",
       "   High Rate of Mal  Infection (Lab Diagnosis)  \\\n",
       "0                                          0.7   \n",
       "1                                         75.0   \n",
       "2                                         71.0   \n",
       "3                                         96.0   \n",
       "4                                         97.0   \n",
       "\n",
       "  Malaria Parasite Density Fever- Rapid Diagnostic Test(Strip)  \\\n",
       "0                             malaria,?helminthiasis             \n",
       "1                                 Malaria R/O Sepsis             \n",
       "2                              ?Malaria in pregnancy             \n",
       "3  ?Malaria_x000D_\\nDelayed Developmental Milestones             \n",
       "4                              ?Malaria in pregnancy             \n",
       "\n",
       "                                 Complaints/Symptoms   Age  Outcome  \\\n",
       "0  Bitter mouth taste, tiredness, feeling of some...  36.0        0   \n",
       "1  Fever x 4/7_x000D_\\nVomiting x 3/7_x000D_\\nMal...  24.0        1   \n",
       "2                          1. Abd pain_x000D_\\nfever   9.0        1   \n",
       "3                     1. Fever_x000D_\\nPoor appetite   5.0        1   \n",
       "4  1. frequent stooling x 3episodes /day_x000D_\\n...  28.0        1   \n",
       "\n",
       "   Electricity Laboratory Equipments Doctor to Patient  \\\n",
       "0          1.0              Adequate              high   \n",
       "1          0.0          Not adequate               low   \n",
       "2          0.0          Not adequate               low   \n",
       "3          0.0          Not adequate               low   \n",
       "4          0.0          Not adequate               low   \n",
       "\n",
       "   Environment - Sanitised or not  \\\n",
       "0                             1.0   \n",
       "1                             0.0   \n",
       "2                             0.0   \n",
       "3                             0.0   \n",
       "4                             0.0   \n",
       "\n",
       "  Complicated/ Uncomplicated Malaria Diagnosis Location (Urban/ Rural Area)  \\\n",
       "0                                Uncomplicated                        Urban   \n",
       "1                                  Complicated                        Rural   \n",
       "2                                  Complicated                        Rural   \n",
       "3                                  Complicated                        Rural   \n",
       "4                                  Complicated                        Rural   \n",
       "\n",
       "  Malaria Outcome Interpretation  \n",
       "0                       Negative  \n",
       "1                       Positive  \n",
       "2                       Positive  \n",
       "3                       Positive  \n",
       "4                       Positive  "
      ]
     },
<<<<<<< HEAD
     "execution_count": 174,
=======
     "execution_count": 59,
>>>>>>> ae3f2fa09079df83c2ab490d59f40c7bfcc92401
     "metadata": {},
     "output_type": "execute_result"
    }
   ],
   "source": [
    "dfe.head()"
   ]
  },
  {
   "cell_type": "code",
<<<<<<< HEAD
   "execution_count": 175,
=======
   "execution_count": 60,
>>>>>>> ae3f2fa09079df83c2ab490d59f40c7bfcc92401
   "id": "dfcb347c",
   "metadata": {},
   "outputs": [],
   "source": [
    "#### dropping missing values first thing first\n",
    "\n",
    "\n",
    "new_df = dfe.dropna()"
   ]
  },
  {
   "cell_type": "code",
<<<<<<< HEAD
   "execution_count": 176,
=======
   "execution_count": 61,
>>>>>>> ae3f2fa09079df83c2ab490d59f40c7bfcc92401
   "id": "3197dedf",
   "metadata": {},
   "outputs": [
    {
     "name": "stdout",
     "output_type": "stream",
     "text": [
      "<class 'pandas.core.frame.DataFrame'>\n",
      "Index: 2052 entries, 0 to 2119\n",
      "Data columns (total 15 columns):\n",
      " #   Column                                                        Non-Null Count  Dtype  \n",
      "---  ------                                                        --------------  -----  \n",
      " 0   Pregnancies                                                   2052 non-null   int64  \n",
      " 1   Availability of Treated Net                                   2052 non-null   int64  \n",
      " 2   Season: Level of Rainfall-Stagnant water breeding             2052 non-null   int64  \n",
      " 3   High Rate of Mal  Infection (Lab Diagnosis)                   2052 non-null   float64\n",
      " 4   Malaria Parasite Density Fever- Rapid Diagnostic Test(Strip)  2052 non-null   object \n",
      " 5   Complaints/Symptoms                                           2052 non-null   object \n",
      " 6   Age                                                           2052 non-null   float64\n",
      " 7   Outcome                                                       2052 non-null   int64  \n",
      " 8   Electricity                                                   2052 non-null   float64\n",
      " 9   Laboratory Equipments                                         2052 non-null   object \n",
      " 10  Doctor to Patient                                             2052 non-null   object \n",
      " 11  Environment - Sanitised or not                                2052 non-null   float64\n",
      " 12  Complicated/ Uncomplicated Malaria Diagnosis                  2052 non-null   object \n",
      " 13  Location (Urban/ Rural Area)                                  2052 non-null   object \n",
      " 14  Malaria Outcome Interpretation                                2052 non-null   object \n",
      "dtypes: float64(4), int64(4), object(7)\n",
      "memory usage: 256.5+ KB\n"
     ]
    }
   ],
   "source": [
    "new_df.info()"
   ]
  },
  {
   "cell_type": "code",
<<<<<<< HEAD
   "execution_count": 177,
   "id": "c0e29994",
   "metadata": {},
   "outputs": [
    {
     "name": "stderr",
     "output_type": "stream",
     "text": [
      "C:\\Users\\Industry Expert\\AppData\\Local\\Temp\\ipykernel_8688\\4221211036.py:1: SettingWithCopyWarning: \n",
      "A value is trying to be set on a copy of a slice from a DataFrame\n",
      "\n",
      "See the caveats in the documentation: https://pandas.pydata.org/pandas-docs/stable/user_guide/indexing.html#returning-a-view-versus-a-copy\n",
      "  new_df.drop(\"Complicated/ Uncomplicated Malaria Diagnosis\", axis = 1, inplace = True)\n"
     ]
    }
   ],
   "source": [
    "new_df.drop(\"Complicated/ Uncomplicated Malaria Diagnosis\", axis = 1, inplace = True)"
   ]
  },
  {
   "cell_type": "code",
   "execution_count": 178,
=======
   "execution_count": 62,
>>>>>>> ae3f2fa09079df83c2ab490d59f40c7bfcc92401
   "id": "0e194275",
   "metadata": {},
   "outputs": [
    {
     "data": {
      "text/plain": [
       "0       0\n",
       "1       1\n",
       "2       1\n",
       "3       1\n",
       "4       1\n",
       "       ..\n",
       "2115    1\n",
       "2116    1\n",
       "2117    1\n",
       "2118    1\n",
       "2119    0\n",
       "Name: Outcome, Length: 2052, dtype: int64"
      ]
     },
<<<<<<< HEAD
     "execution_count": 178,
=======
     "execution_count": 62,
>>>>>>> ae3f2fa09079df83c2ab490d59f40c7bfcc92401
     "metadata": {},
     "output_type": "execute_result"
    }
   ],
   "source": [
    "new_df['Outcome']"
   ]
  },
  {
   "cell_type": "code",
<<<<<<< HEAD
   "execution_count": 179,
=======
   "execution_count": 63,
>>>>>>> ae3f2fa09079df83c2ab490d59f40c7bfcc92401
   "id": "492dee97",
   "metadata": {},
   "outputs": [],
   "source": [
    "def clean_text(text):\n",
    "    text = str(text)\n",
    "    text = re.sub(r'[^a-zA-Z0-9\\s]', '', text)\n",
    "    # Remove numeric digits\n",
    "    text = ' '.join(word for word in text.split() if not word.isdigit())\n",
    "    return text"
   ]
  },
  {
   "cell_type": "code",
<<<<<<< HEAD
   "execution_count": 180,
=======
   "execution_count": 64,
>>>>>>> ae3f2fa09079df83c2ab490d59f40c7bfcc92401
   "id": "c8b6afe9",
   "metadata": {},
   "outputs": [
    {
     "name": "stderr",
     "output_type": "stream",
     "text": [
<<<<<<< HEAD
      "C:\\Users\\Industry Expert\\AppData\\Local\\Temp\\ipykernel_8688\\2280647261.py:1: SettingWithCopyWarning: \n",
=======
      "C:\\Users\\Industry Expert\\AppData\\Local\\Temp\\ipykernel_13372\\2280647261.py:1: SettingWithCopyWarning: \n",
>>>>>>> ae3f2fa09079df83c2ab490d59f40c7bfcc92401
      "A value is trying to be set on a copy of a slice from a DataFrame.\n",
      "Try using .loc[row_indexer,col_indexer] = value instead\n",
      "\n",
      "See the caveats in the documentation: https://pandas.pydata.org/pandas-docs/stable/user_guide/indexing.html#returning-a-view-versus-a-copy\n",
      "  new_df['Complaints/Symptoms'] = new_df['Complaints/Symptoms'].astype(str)\n"
     ]
    }
   ],
   "source": [
    "new_df['Complaints/Symptoms'] = new_df['Complaints/Symptoms'].astype(str)"
   ]
  },
  {
   "cell_type": "code",
<<<<<<< HEAD
   "execution_count": 181,
=======
   "execution_count": 65,
>>>>>>> ae3f2fa09079df83c2ab490d59f40c7bfcc92401
   "id": "c5b00d4c",
   "metadata": {},
   "outputs": [
    {
     "name": "stderr",
     "output_type": "stream",
     "text": [
<<<<<<< HEAD
      "C:\\Users\\Industry Expert\\AppData\\Local\\Temp\\ipykernel_8688\\841296085.py:1: SettingWithCopyWarning: \n",
=======
      "C:\\Users\\Industry Expert\\AppData\\Local\\Temp\\ipykernel_13372\\841296085.py:1: SettingWithCopyWarning: \n",
>>>>>>> ae3f2fa09079df83c2ab490d59f40c7bfcc92401
      "A value is trying to be set on a copy of a slice from a DataFrame.\n",
      "Try using .loc[row_indexer,col_indexer] = value instead\n",
      "\n",
      "See the caveats in the documentation: https://pandas.pydata.org/pandas-docs/stable/user_guide/indexing.html#returning-a-view-versus-a-copy\n",
      "  new_df['Malaria Parasite Density Fever- Rapid Diagnostic Test(Strip)'] = new_df['Malaria Parasite Density Fever- Rapid Diagnostic Test(Strip)'].astype(str)\n"
     ]
    }
   ],
   "source": [
    "new_df['Malaria Parasite Density Fever- Rapid Diagnostic Test(Strip)'] = new_df['Malaria Parasite Density Fever- Rapid Diagnostic Test(Strip)'].astype(str)"
   ]
  },
  {
   "cell_type": "code",
<<<<<<< HEAD
   "execution_count": 182,
=======
   "execution_count": 66,
>>>>>>> ae3f2fa09079df83c2ab490d59f40c7bfcc92401
   "id": "2add2dae",
   "metadata": {},
   "outputs": [
    {
     "name": "stderr",
     "output_type": "stream",
     "text": [
<<<<<<< HEAD
      "C:\\Users\\Industry Expert\\AppData\\Local\\Temp\\ipykernel_8688\\3006620130.py:1: SettingWithCopyWarning: \n",
=======
      "C:\\Users\\Industry Expert\\AppData\\Local\\Temp\\ipykernel_13372\\3006620130.py:1: SettingWithCopyWarning: \n",
>>>>>>> ae3f2fa09079df83c2ab490d59f40c7bfcc92401
      "A value is trying to be set on a copy of a slice from a DataFrame.\n",
      "Try using .loc[row_indexer,col_indexer] = value instead\n",
      "\n",
      "See the caveats in the documentation: https://pandas.pydata.org/pandas-docs/stable/user_guide/indexing.html#returning-a-view-versus-a-copy\n",
      "  new_df['Complaints/Symptoms'] = new_df['Complaints/Symptoms'].apply(clean_text)\n"
     ]
    }
   ],
   "source": [
    "new_df['Complaints/Symptoms'] = new_df['Complaints/Symptoms'].apply(clean_text)"
   ]
  },
  {
   "cell_type": "code",
<<<<<<< HEAD
   "execution_count": 183,
=======
   "execution_count": 67,
>>>>>>> ae3f2fa09079df83c2ab490d59f40c7bfcc92401
   "id": "b00be7b3",
   "metadata": {},
   "outputs": [
    {
     "name": "stderr",
     "output_type": "stream",
     "text": [
<<<<<<< HEAD
      "C:\\Users\\Industry Expert\\AppData\\Local\\Temp\\ipykernel_8688\\841296085.py:1: SettingWithCopyWarning: \n",
=======
      "C:\\Users\\Industry Expert\\AppData\\Local\\Temp\\ipykernel_13372\\841296085.py:1: SettingWithCopyWarning: \n",
>>>>>>> ae3f2fa09079df83c2ab490d59f40c7bfcc92401
      "A value is trying to be set on a copy of a slice from a DataFrame.\n",
      "Try using .loc[row_indexer,col_indexer] = value instead\n",
      "\n",
      "See the caveats in the documentation: https://pandas.pydata.org/pandas-docs/stable/user_guide/indexing.html#returning-a-view-versus-a-copy\n",
      "  new_df['Malaria Parasite Density Fever- Rapid Diagnostic Test(Strip)'] = new_df['Malaria Parasite Density Fever- Rapid Diagnostic Test(Strip)'].astype(str)\n"
     ]
    }
   ],
   "source": [
    "new_df['Malaria Parasite Density Fever- Rapid Diagnostic Test(Strip)'] = new_df['Malaria Parasite Density Fever- Rapid Diagnostic Test(Strip)'].astype(str)"
   ]
  },
  {
   "cell_type": "code",
<<<<<<< HEAD
   "execution_count": 184,
=======
   "execution_count": 68,
>>>>>>> ae3f2fa09079df83c2ab490d59f40c7bfcc92401
   "id": "9eb13f57",
   "metadata": {},
   "outputs": [],
   "source": [
    "# new_df['Complaints/Symptoms'] = new_df['Complaints/Symptoms'].str.replace(\"4/7_x000D_\\n\",\"\")\n",
    "# new_df['Complaints/Symptoms'] = new_df['Complaints/Symptoms'].str.replace(\"3/7_x000D_\\n\",\"\")\n",
    "# new_df['Complaints/Symptoms'] = new_df['Complaints/Symptoms'].str.replace(\"x000D_\\n\",\"\")\n",
    "# new_df['Complaints/Symptoms'] = new_df['Complaints/Symptoms'].str.replace(\"3/7\",\"\")\n",
    "# new_df['Complaints/Symptoms'] = new_df['Complaints/Symptoms'].str.replace(\"1/7\",\"\")\n",
    "# new_df['Complaints/Symptoms'] = new_df['Complaints/Symptoms'].str.replace(\"x\",\",\")\n",
    "# new_df['Complaints/Symptoms'] = new_df['Complaints/Symptoms'].str.replace(\"1\",\"\")\n",
    "# new_df['Complaints/Symptoms'] = new_df['Complaints/Symptoms'].str.replace(\"2\",\"\")\n",
    "# new_df['Complaints/Symptoms'] = new_df['Complaints/Symptoms'].str.replace(\"3\",\"\")\n",
    "# new_df['Complaints/Symptoms'] = new_df['Complaints/Symptoms'].str.replace(\"_\",\"\")\n",
    "# # new_df['Complaints/Symptoms'] = new_df['Complaints/Symptoms'].str.replace(\".\",\",\")"
   ]
  },
  {
   "cell_type": "code",
<<<<<<< HEAD
   "execution_count": 185,
=======
   "execution_count": 69,
>>>>>>> ae3f2fa09079df83c2ab490d59f40c7bfcc92401
   "id": "3f9f1347",
   "metadata": {},
   "outputs": [
    {
     "name": "stderr",
     "output_type": "stream",
     "text": [
<<<<<<< HEAD
      "C:\\Users\\Industry Expert\\AppData\\Local\\Temp\\ipykernel_8688\\1386590006.py:1: SettingWithCopyWarning: \n",
=======
      "C:\\Users\\Industry Expert\\AppData\\Local\\Temp\\ipykernel_13372\\1386590006.py:1: SettingWithCopyWarning: \n",
>>>>>>> ae3f2fa09079df83c2ab490d59f40c7bfcc92401
      "A value is trying to be set on a copy of a slice from a DataFrame.\n",
      "Try using .loc[row_indexer,col_indexer] = value instead\n",
      "\n",
      "See the caveats in the documentation: https://pandas.pydata.org/pandas-docs/stable/user_guide/indexing.html#returning-a-view-versus-a-copy\n",
      "  new_df['Complaints/Symptoms'] = le.fit_transform(new_df['Complaints/Symptoms'])\n"
     ]
    }
   ],
   "source": [
    "new_df['Complaints/Symptoms'] = le.fit_transform(new_df['Complaints/Symptoms'])"
   ]
  },
  {
   "cell_type": "code",
<<<<<<< HEAD
   "execution_count": 186,
=======
   "execution_count": 70,
>>>>>>> ae3f2fa09079df83c2ab490d59f40c7bfcc92401
   "id": "fe93564b",
   "metadata": {},
   "outputs": [
    {
     "name": "stderr",
     "output_type": "stream",
     "text": [
<<<<<<< HEAD
      "C:\\Users\\Industry Expert\\AppData\\Local\\Temp\\ipykernel_8688\\3924117795.py:1: SettingWithCopyWarning: \n",
=======
      "C:\\Users\\Industry Expert\\AppData\\Local\\Temp\\ipykernel_13372\\3924117795.py:1: SettingWithCopyWarning: \n",
>>>>>>> ae3f2fa09079df83c2ab490d59f40c7bfcc92401
      "A value is trying to be set on a copy of a slice from a DataFrame.\n",
      "Try using .loc[row_indexer,col_indexer] = value instead\n",
      "\n",
      "See the caveats in the documentation: https://pandas.pydata.org/pandas-docs/stable/user_guide/indexing.html#returning-a-view-versus-a-copy\n",
      "  new_df['Malaria Parasite Density Fever- Rapid Diagnostic Test(Strip)'] = le.fit_transform(new_df['Malaria Parasite Density Fever- Rapid Diagnostic Test(Strip)'])\n"
     ]
    }
   ],
   "source": [
    "new_df['Malaria Parasite Density Fever- Rapid Diagnostic Test(Strip)'] = le.fit_transform(new_df['Malaria Parasite Density Fever- Rapid Diagnostic Test(Strip)'])"
   ]
  },
  {
   "cell_type": "code",
<<<<<<< HEAD
   "execution_count": 187,
=======
   "execution_count": 71,
>>>>>>> ae3f2fa09079df83c2ab490d59f40c7bfcc92401
   "id": "beb051ee",
   "metadata": {},
   "outputs": [
    {
     "name": "stdout",
     "output_type": "stream",
     "text": [
      "<class 'pandas.core.frame.DataFrame'>\n",
      "Index: 2052 entries, 0 to 2119\n",
<<<<<<< HEAD
      "Data columns (total 14 columns):\n",
=======
      "Data columns (total 15 columns):\n",
>>>>>>> ae3f2fa09079df83c2ab490d59f40c7bfcc92401
      " #   Column                                                        Non-Null Count  Dtype  \n",
      "---  ------                                                        --------------  -----  \n",
      " 0   Pregnancies                                                   2052 non-null   int64  \n",
      " 1   Availability of Treated Net                                   2052 non-null   int64  \n",
      " 2   Season: Level of Rainfall-Stagnant water breeding             2052 non-null   int64  \n",
      " 3   High Rate of Mal  Infection (Lab Diagnosis)                   2052 non-null   float64\n",
      " 4   Malaria Parasite Density Fever- Rapid Diagnostic Test(Strip)  2052 non-null   int32  \n",
      " 5   Complaints/Symptoms                                           2052 non-null   int32  \n",
      " 6   Age                                                           2052 non-null   float64\n",
      " 7   Outcome                                                       2052 non-null   int64  \n",
      " 8   Electricity                                                   2052 non-null   float64\n",
      " 9   Laboratory Equipments                                         2052 non-null   object \n",
      " 10  Doctor to Patient                                             2052 non-null   object \n",
      " 11  Environment - Sanitised or not                                2052 non-null   float64\n",
<<<<<<< HEAD
      " 12  Location (Urban/ Rural Area)                                  2052 non-null   object \n",
      " 13  Malaria Outcome Interpretation                                2052 non-null   object \n",
      "dtypes: float64(4), int32(2), int64(4), object(4)\n",
      "memory usage: 224.4+ KB\n"
=======
      " 12  Complicated/ Uncomplicated Malaria Diagnosis                  2052 non-null   object \n",
      " 13  Location (Urban/ Rural Area)                                  2052 non-null   object \n",
      " 14  Malaria Outcome Interpretation                                2052 non-null   object \n",
      "dtypes: float64(4), int32(2), int64(4), object(5)\n",
      "memory usage: 240.5+ KB\n"
>>>>>>> ae3f2fa09079df83c2ab490d59f40c7bfcc92401
     ]
    }
   ],
   "source": [
    "new_df.info()"
   ]
  },
  {
   "cell_type": "code",
<<<<<<< HEAD
   "execution_count": 188,
=======
   "execution_count": 72,
>>>>>>> ae3f2fa09079df83c2ab490d59f40c7bfcc92401
   "id": "32a83cc3",
   "metadata": {},
   "outputs": [
    {
     "name": "stderr",
     "output_type": "stream",
     "text": [
<<<<<<< HEAD
      "C:\\Users\\Industry Expert\\AppData\\Local\\Temp\\ipykernel_8688\\3523283861.py:1: SettingWithCopyWarning: \n",
=======
      "C:\\Users\\Industry Expert\\AppData\\Local\\Temp\\ipykernel_13372\\3523283861.py:1: SettingWithCopyWarning: \n",
>>>>>>> ae3f2fa09079df83c2ab490d59f40c7bfcc92401
      "A value is trying to be set on a copy of a slice from a DataFrame.\n",
      "Try using .loc[row_indexer,col_indexer] = value instead\n",
      "\n",
      "See the caveats in the documentation: https://pandas.pydata.org/pandas-docs/stable/user_guide/indexing.html#returning-a-view-versus-a-copy\n",
      "  new_df['Doctor to Patient'] = new_df['Doctor to Patient'].map({\"high\":1,\"low\":0})\n"
     ]
    }
   ],
   "source": [
    "new_df['Doctor to Patient'] = new_df['Doctor to Patient'].map({\"high\":1,\"low\":0})"
   ]
  },
  {
   "cell_type": "code",
<<<<<<< HEAD
   "execution_count": 189,
=======
   "execution_count": 73,
>>>>>>> ae3f2fa09079df83c2ab490d59f40c7bfcc92401
   "id": "2875dbc6",
   "metadata": {},
   "outputs": [
    {
     "name": "stderr",
     "output_type": "stream",
     "text": [
<<<<<<< HEAD
      "C:\\Users\\Industry Expert\\AppData\\Local\\Temp\\ipykernel_8688\\1156415101.py:1: SettingWithCopyWarning: \n",
=======
      "C:\\Users\\Industry Expert\\AppData\\Local\\Temp\\ipykernel_13372\\1156415101.py:1: SettingWithCopyWarning: \n",
>>>>>>> ae3f2fa09079df83c2ab490d59f40c7bfcc92401
      "A value is trying to be set on a copy of a slice from a DataFrame.\n",
      "Try using .loc[row_indexer,col_indexer] = value instead\n",
      "\n",
      "See the caveats in the documentation: https://pandas.pydata.org/pandas-docs/stable/user_guide/indexing.html#returning-a-view-versus-a-copy\n",
      "  new_df['Laboratory Equipments'] = new_df['Laboratory Equipments'].map({\"Not adequate\":0,\"Adequate\":1})\n"
     ]
    }
   ],
   "source": [
    "new_df['Laboratory Equipments'] = new_df['Laboratory Equipments'].map({\"Not adequate\":0,\"Adequate\":1})"
   ]
  },
  {
   "cell_type": "code",
<<<<<<< HEAD
   "execution_count": 190,
=======
   "execution_count": 74,
>>>>>>> ae3f2fa09079df83c2ab490d59f40c7bfcc92401
   "id": "c6f5f814",
   "metadata": {},
   "outputs": [
    {
     "name": "stdout",
     "output_type": "stream",
     "text": [
      "<class 'pandas.core.frame.DataFrame'>\n",
      "Index: 2052 entries, 0 to 2119\n",
<<<<<<< HEAD
      "Data columns (total 14 columns):\n",
=======
      "Data columns (total 15 columns):\n",
>>>>>>> ae3f2fa09079df83c2ab490d59f40c7bfcc92401
      " #   Column                                                        Non-Null Count  Dtype  \n",
      "---  ------                                                        --------------  -----  \n",
      " 0   Pregnancies                                                   2052 non-null   int64  \n",
      " 1   Availability of Treated Net                                   2052 non-null   int64  \n",
      " 2   Season: Level of Rainfall-Stagnant water breeding             2052 non-null   int64  \n",
      " 3   High Rate of Mal  Infection (Lab Diagnosis)                   2052 non-null   float64\n",
      " 4   Malaria Parasite Density Fever- Rapid Diagnostic Test(Strip)  2052 non-null   int32  \n",
      " 5   Complaints/Symptoms                                           2052 non-null   int32  \n",
      " 6   Age                                                           2052 non-null   float64\n",
      " 7   Outcome                                                       2052 non-null   int64  \n",
      " 8   Electricity                                                   2052 non-null   float64\n",
      " 9   Laboratory Equipments                                         2052 non-null   int64  \n",
      " 10  Doctor to Patient                                             2052 non-null   int64  \n",
      " 11  Environment - Sanitised or not                                2052 non-null   float64\n",
<<<<<<< HEAD
      " 12  Location (Urban/ Rural Area)                                  2052 non-null   object \n",
      " 13  Malaria Outcome Interpretation                                2052 non-null   object \n",
      "dtypes: float64(4), int32(2), int64(6), object(2)\n",
      "memory usage: 224.4+ KB\n"
=======
      " 12  Complicated/ Uncomplicated Malaria Diagnosis                  2052 non-null   object \n",
      " 13  Location (Urban/ Rural Area)                                  2052 non-null   object \n",
      " 14  Malaria Outcome Interpretation                                2052 non-null   object \n",
      "dtypes: float64(4), int32(2), int64(6), object(3)\n",
      "memory usage: 240.5+ KB\n"
>>>>>>> ae3f2fa09079df83c2ab490d59f40c7bfcc92401
     ]
    }
   ],
   "source": [
    "new_df.info()"
   ]
  },
  {
   "cell_type": "code",
<<<<<<< HEAD
   "execution_count": 191,
=======
   "execution_count": 75,
   "id": "b43c7958",
   "metadata": {},
   "outputs": [
    {
     "name": "stderr",
     "output_type": "stream",
     "text": [
      "C:\\Users\\Industry Expert\\AppData\\Local\\Temp\\ipykernel_13372\\2124335071.py:1: SettingWithCopyWarning: \n",
      "A value is trying to be set on a copy of a slice from a DataFrame.\n",
      "Try using .loc[row_indexer,col_indexer] = value instead\n",
      "\n",
      "See the caveats in the documentation: https://pandas.pydata.org/pandas-docs/stable/user_guide/indexing.html#returning-a-view-versus-a-copy\n",
      "  new_df['Complicated/ Uncomplicated Malaria Diagnosis'] = new_df['Complicated/ Uncomplicated Malaria Diagnosis'].map({\"Uncomplicated\":0,\"Complicated\":1})\n"
     ]
    }
   ],
   "source": [
    "new_df['Complicated/ Uncomplicated Malaria Diagnosis'] = new_df['Complicated/ Uncomplicated Malaria Diagnosis'].map({\"Uncomplicated\":0,\"Complicated\":1})"
   ]
  },
  {
   "cell_type": "code",
   "execution_count": 76,
>>>>>>> ae3f2fa09079df83c2ab490d59f40c7bfcc92401
   "id": "212e98d8",
   "metadata": {},
   "outputs": [
    {
     "name": "stderr",
     "output_type": "stream",
     "text": [
<<<<<<< HEAD
      "C:\\Users\\Industry Expert\\AppData\\Local\\Temp\\ipykernel_8688\\2148538373.py:1: SettingWithCopyWarning: \n",
=======
      "C:\\Users\\Industry Expert\\AppData\\Local\\Temp\\ipykernel_13372\\2148538373.py:1: SettingWithCopyWarning: \n",
>>>>>>> ae3f2fa09079df83c2ab490d59f40c7bfcc92401
      "A value is trying to be set on a copy of a slice from a DataFrame.\n",
      "Try using .loc[row_indexer,col_indexer] = value instead\n",
      "\n",
      "See the caveats in the documentation: https://pandas.pydata.org/pandas-docs/stable/user_guide/indexing.html#returning-a-view-versus-a-copy\n",
      "  new_df['Location (Urban/ Rural Area)'] = new_df['Location (Urban/ Rural Area)'].map({\"Rural\":0,\"Urban\":1})\n"
     ]
    }
   ],
   "source": [
    "new_df['Location (Urban/ Rural Area)'] = new_df['Location (Urban/ Rural Area)'].map({\"Rural\":0,\"Urban\":1})"
   ]
  },
  {
   "cell_type": "code",
<<<<<<< HEAD
   "execution_count": 192,
=======
   "execution_count": 77,
>>>>>>> ae3f2fa09079df83c2ab490d59f40c7bfcc92401
   "id": "af54f2f9",
   "metadata": {},
   "outputs": [
    {
     "name": "stderr",
     "output_type": "stream",
     "text": [
<<<<<<< HEAD
      "C:\\Users\\Industry Expert\\AppData\\Local\\Temp\\ipykernel_8688\\3823195485.py:1: SettingWithCopyWarning: \n",
=======
      "C:\\Users\\Industry Expert\\AppData\\Local\\Temp\\ipykernel_13372\\3823195485.py:1: SettingWithCopyWarning: \n",
>>>>>>> ae3f2fa09079df83c2ab490d59f40c7bfcc92401
      "A value is trying to be set on a copy of a slice from a DataFrame\n",
      "\n",
      "See the caveats in the documentation: https://pandas.pydata.org/pandas-docs/stable/user_guide/indexing.html#returning-a-view-versus-a-copy\n",
      "  new_df.drop(\"Malaria Outcome Interpretation\",axis = 1, inplace = True)\n"
     ]
    }
   ],
   "source": [
    "new_df.drop(\"Malaria Outcome Interpretation\",axis = 1, inplace = True)"
   ]
  },
  {
   "cell_type": "code",
<<<<<<< HEAD
   "execution_count": 193,
=======
   "execution_count": 78,
>>>>>>> ae3f2fa09079df83c2ab490d59f40c7bfcc92401
   "id": "be9d0eb0",
   "metadata": {},
   "outputs": [
    {
     "data": {
      "text/html": [
       "<div>\n",
       "<style scoped>\n",
       "    .dataframe tbody tr th:only-of-type {\n",
       "        vertical-align: middle;\n",
       "    }\n",
       "\n",
       "    .dataframe tbody tr th {\n",
       "        vertical-align: top;\n",
       "    }\n",
       "\n",
       "    .dataframe thead th {\n",
       "        text-align: right;\n",
       "    }\n",
       "</style>\n",
       "<table border=\"1\" class=\"dataframe\">\n",
       "  <thead>\n",
       "    <tr style=\"text-align: right;\">\n",
       "      <th></th>\n",
       "      <th>Pregnancies</th>\n",
       "      <th>Availability of Treated Net</th>\n",
       "      <th>Season: Level of Rainfall-Stagnant water breeding</th>\n",
       "      <th>High Rate of Mal  Infection (Lab Diagnosis)</th>\n",
       "      <th>Malaria Parasite Density Fever- Rapid Diagnostic Test(Strip)</th>\n",
       "      <th>Complaints/Symptoms</th>\n",
       "      <th>Age</th>\n",
       "      <th>Outcome</th>\n",
       "      <th>Electricity</th>\n",
       "      <th>Laboratory Equipments</th>\n",
       "      <th>Doctor to Patient</th>\n",
       "      <th>Environment - Sanitised or not</th>\n",
<<<<<<< HEAD
=======
       "      <th>Complicated/ Uncomplicated Malaria Diagnosis</th>\n",
>>>>>>> ae3f2fa09079df83c2ab490d59f40c7bfcc92401
       "      <th>Location (Urban/ Rural Area)</th>\n",
       "    </tr>\n",
       "  </thead>\n",
       "  <tbody>\n",
       "    <tr>\n",
       "      <th>0</th>\n",
       "      <td>0</td>\n",
       "      <td>1</td>\n",
       "      <td>0</td>\n",
       "      <td>0.7</td>\n",
       "      <td>261</td>\n",
       "      <td>38</td>\n",
       "      <td>36.0</td>\n",
       "      <td>0</td>\n",
       "      <td>1.0</td>\n",
       "      <td>1</td>\n",
       "      <td>1</td>\n",
       "      <td>1.0</td>\n",
<<<<<<< HEAD
=======
       "      <td>0</td>\n",
>>>>>>> ae3f2fa09079df83c2ab490d59f40c7bfcc92401
       "      <td>1</td>\n",
       "    </tr>\n",
       "    <tr>\n",
       "      <th>1</th>\n",
       "      <td>0</td>\n",
       "      <td>0</td>\n",
       "      <td>1</td>\n",
       "      <td>75.0</td>\n",
       "      <td>163</td>\n",
       "      <td>166</td>\n",
       "      <td>24.0</td>\n",
       "      <td>1</td>\n",
       "      <td>0.0</td>\n",
       "      <td>0</td>\n",
       "      <td>0</td>\n",
       "      <td>0.0</td>\n",
<<<<<<< HEAD
=======
       "      <td>1</td>\n",
>>>>>>> ae3f2fa09079df83c2ab490d59f40c7bfcc92401
       "      <td>0</td>\n",
       "    </tr>\n",
       "    <tr>\n",
       "      <th>2</th>\n",
       "      <td>1</td>\n",
       "      <td>0</td>\n",
       "      <td>1</td>\n",
       "      <td>71.0</td>\n",
       "      <td>39</td>\n",
       "      <td>30</td>\n",
       "      <td>9.0</td>\n",
       "      <td>1</td>\n",
       "      <td>0.0</td>\n",
       "      <td>0</td>\n",
       "      <td>0</td>\n",
       "      <td>0.0</td>\n",
<<<<<<< HEAD
=======
       "      <td>1</td>\n",
>>>>>>> ae3f2fa09079df83c2ab490d59f40c7bfcc92401
       "      <td>0</td>\n",
       "    </tr>\n",
       "    <tr>\n",
       "      <th>3</th>\n",
       "      <td>0</td>\n",
       "      <td>0</td>\n",
       "      <td>1</td>\n",
       "      <td>96.0</td>\n",
       "      <td>45</td>\n",
       "      <td>174</td>\n",
       "      <td>5.0</td>\n",
       "      <td>1</td>\n",
       "      <td>0.0</td>\n",
       "      <td>0</td>\n",
       "      <td>0</td>\n",
       "      <td>0.0</td>\n",
<<<<<<< HEAD
=======
       "      <td>1</td>\n",
>>>>>>> ae3f2fa09079df83c2ab490d59f40c7bfcc92401
       "      <td>0</td>\n",
       "    </tr>\n",
       "    <tr>\n",
       "      <th>4</th>\n",
       "      <td>1</td>\n",
       "      <td>0</td>\n",
       "      <td>1</td>\n",
       "      <td>97.0</td>\n",
       "      <td>39</td>\n",
       "      <td>374</td>\n",
       "      <td>28.0</td>\n",
       "      <td>1</td>\n",
       "      <td>0.0</td>\n",
       "      <td>0</td>\n",
       "      <td>0</td>\n",
       "      <td>0.0</td>\n",
<<<<<<< HEAD
=======
       "      <td>1</td>\n",
>>>>>>> ae3f2fa09079df83c2ab490d59f40c7bfcc92401
       "      <td>0</td>\n",
       "    </tr>\n",
       "    <tr>\n",
       "      <th>...</th>\n",
       "      <td>...</td>\n",
       "      <td>...</td>\n",
       "      <td>...</td>\n",
       "      <td>...</td>\n",
       "      <td>...</td>\n",
       "      <td>...</td>\n",
       "      <td>...</td>\n",
       "      <td>...</td>\n",
       "      <td>...</td>\n",
       "      <td>...</td>\n",
       "      <td>...</td>\n",
       "      <td>...</td>\n",
       "      <td>...</td>\n",
<<<<<<< HEAD
=======
       "      <td>...</td>\n",
>>>>>>> ae3f2fa09079df83c2ab490d59f40c7bfcc92401
       "    </tr>\n",
       "    <tr>\n",
       "      <th>2115</th>\n",
       "      <td>0</td>\n",
       "      <td>0</td>\n",
       "      <td>1</td>\n",
       "      <td>75.0</td>\n",
       "      <td>228</td>\n",
       "      <td>129</td>\n",
       "      <td>40.0</td>\n",
       "      <td>1</td>\n",
       "      <td>0.0</td>\n",
       "      <td>0</td>\n",
       "      <td>0</td>\n",
       "      <td>0.0</td>\n",
<<<<<<< HEAD
=======
       "      <td>1</td>\n",
>>>>>>> ae3f2fa09079df83c2ab490d59f40c7bfcc92401
       "      <td>0</td>\n",
       "    </tr>\n",
       "    <tr>\n",
       "      <th>2116</th>\n",
       "      <td>0</td>\n",
       "      <td>0</td>\n",
       "      <td>1</td>\n",
       "      <td>76.0</td>\n",
       "      <td>131</td>\n",
       "      <td>140</td>\n",
       "      <td>3.0</td>\n",
       "      <td>1</td>\n",
       "      <td>0.0</td>\n",
       "      <td>0</td>\n",
       "      <td>0</td>\n",
       "      <td>0.0</td>\n",
<<<<<<< HEAD
=======
       "      <td>1</td>\n",
>>>>>>> ae3f2fa09079df83c2ab490d59f40c7bfcc92401
       "      <td>0</td>\n",
       "    </tr>\n",
       "    <tr>\n",
       "      <th>2117</th>\n",
       "      <td>1</td>\n",
       "      <td>0</td>\n",
       "      <td>1</td>\n",
       "      <td>88.0</td>\n",
       "      <td>152</td>\n",
       "      <td>20</td>\n",
       "      <td>41.0</td>\n",
       "      <td>1</td>\n",
       "      <td>0.0</td>\n",
       "      <td>0</td>\n",
       "      <td>0</td>\n",
       "      <td>0.0</td>\n",
<<<<<<< HEAD
=======
       "      <td>1</td>\n",
>>>>>>> ae3f2fa09079df83c2ab490d59f40c7bfcc92401
       "      <td>0</td>\n",
       "    </tr>\n",
       "    <tr>\n",
       "      <th>2118</th>\n",
       "      <td>0</td>\n",
       "      <td>0</td>\n",
       "      <td>1</td>\n",
       "      <td>98.0</td>\n",
       "      <td>103</td>\n",
       "      <td>329</td>\n",
       "      <td>58.0</td>\n",
       "      <td>1</td>\n",
       "      <td>0.0</td>\n",
       "      <td>0</td>\n",
       "      <td>0</td>\n",
       "      <td>0.0</td>\n",
<<<<<<< HEAD
=======
       "      <td>1</td>\n",
>>>>>>> ae3f2fa09079df83c2ab490d59f40c7bfcc92401
       "      <td>0</td>\n",
       "    </tr>\n",
       "    <tr>\n",
       "      <th>2119</th>\n",
       "      <td>1</td>\n",
       "      <td>1</td>\n",
       "      <td>0</td>\n",
       "      <td>61.0</td>\n",
       "      <td>172</td>\n",
       "      <td>198</td>\n",
       "      <td>35.0</td>\n",
       "      <td>0</td>\n",
       "      <td>1.0</td>\n",
       "      <td>1</td>\n",
       "      <td>1</td>\n",
       "      <td>1.0</td>\n",
<<<<<<< HEAD
=======
       "      <td>0</td>\n",
>>>>>>> ae3f2fa09079df83c2ab490d59f40c7bfcc92401
       "      <td>1</td>\n",
       "    </tr>\n",
       "  </tbody>\n",
       "</table>\n",
<<<<<<< HEAD
       "<p>2052 rows × 13 columns</p>\n",
=======
       "<p>2052 rows × 14 columns</p>\n",
>>>>>>> ae3f2fa09079df83c2ab490d59f40c7bfcc92401
       "</div>"
      ],
      "text/plain": [
       "      Pregnancies  Availability of Treated Net  \\\n",
       "0               0                            1   \n",
       "1               0                            0   \n",
       "2               1                            0   \n",
       "3               0                            0   \n",
       "4               1                            0   \n",
       "...           ...                          ...   \n",
       "2115            0                            0   \n",
       "2116            0                            0   \n",
       "2117            1                            0   \n",
       "2118            0                            0   \n",
       "2119            1                            1   \n",
       "\n",
       "      Season: Level of Rainfall-Stagnant water breeding   \\\n",
       "0                                                     0    \n",
       "1                                                     1    \n",
       "2                                                     1    \n",
       "3                                                     1    \n",
       "4                                                     1    \n",
       "...                                                 ...    \n",
       "2115                                                  1    \n",
       "2116                                                  1    \n",
       "2117                                                  1    \n",
       "2118                                                  1    \n",
       "2119                                                  0    \n",
       "\n",
       "      High Rate of Mal  Infection (Lab Diagnosis)  \\\n",
       "0                                             0.7   \n",
       "1                                            75.0   \n",
       "2                                            71.0   \n",
       "3                                            96.0   \n",
       "4                                            97.0   \n",
       "...                                           ...   \n",
       "2115                                         75.0   \n",
       "2116                                         76.0   \n",
       "2117                                         88.0   \n",
       "2118                                         98.0   \n",
       "2119                                         61.0   \n",
       "\n",
       "      Malaria Parasite Density Fever- Rapid Diagnostic Test(Strip)  \\\n",
       "0                                                   261              \n",
       "1                                                   163              \n",
       "2                                                    39              \n",
       "3                                                    45              \n",
       "4                                                    39              \n",
       "...                                                 ...              \n",
       "2115                                                228              \n",
       "2116                                                131              \n",
       "2117                                                152              \n",
       "2118                                                103              \n",
       "2119                                                172              \n",
       "\n",
       "      Complaints/Symptoms   Age  Outcome  Electricity  Laboratory Equipments  \\\n",
       "0                      38  36.0        0          1.0                      1   \n",
       "1                     166  24.0        1          0.0                      0   \n",
       "2                      30   9.0        1          0.0                      0   \n",
       "3                     174   5.0        1          0.0                      0   \n",
       "4                     374  28.0        1          0.0                      0   \n",
       "...                   ...   ...      ...          ...                    ...   \n",
       "2115                  129  40.0        1          0.0                      0   \n",
       "2116                  140   3.0        1          0.0                      0   \n",
       "2117                   20  41.0        1          0.0                      0   \n",
       "2118                  329  58.0        1          0.0                      0   \n",
       "2119                  198  35.0        0          1.0                      1   \n",
       "\n",
       "      Doctor to Patient  Environment - Sanitised or not  \\\n",
       "0                     1                             1.0   \n",
       "1                     0                             0.0   \n",
       "2                     0                             0.0   \n",
       "3                     0                             0.0   \n",
       "4                     0                             0.0   \n",
       "...                 ...                             ...   \n",
       "2115                  0                             0.0   \n",
       "2116                  0                             0.0   \n",
       "2117                  0                             0.0   \n",
       "2118                  0                             0.0   \n",
       "2119                  1                             1.0   \n",
       "\n",
<<<<<<< HEAD
=======
       "      Complicated/ Uncomplicated Malaria Diagnosis  \\\n",
       "0                                                0   \n",
       "1                                                1   \n",
       "2                                                1   \n",
       "3                                                1   \n",
       "4                                                1   \n",
       "...                                            ...   \n",
       "2115                                             1   \n",
       "2116                                             1   \n",
       "2117                                             1   \n",
       "2118                                             1   \n",
       "2119                                             0   \n",
       "\n",
>>>>>>> ae3f2fa09079df83c2ab490d59f40c7bfcc92401
       "      Location (Urban/ Rural Area)  \n",
       "0                                1  \n",
       "1                                0  \n",
       "2                                0  \n",
       "3                                0  \n",
       "4                                0  \n",
       "...                            ...  \n",
       "2115                             0  \n",
       "2116                             0  \n",
       "2117                             0  \n",
       "2118                             0  \n",
       "2119                             1  \n",
       "\n",
<<<<<<< HEAD
       "[2052 rows x 13 columns]"
      ]
     },
     "execution_count": 193,
=======
       "[2052 rows x 14 columns]"
      ]
     },
     "execution_count": 78,
>>>>>>> ae3f2fa09079df83c2ab490d59f40c7bfcc92401
     "metadata": {},
     "output_type": "execute_result"
    }
   ],
   "source": [
    "new_df"
   ]
  },
  {
   "cell_type": "code",
<<<<<<< HEAD
   "execution_count": 194,
=======
   "execution_count": 79,
>>>>>>> ae3f2fa09079df83c2ab490d59f40c7bfcc92401
   "id": "8c62ca8a",
   "metadata": {},
   "outputs": [],
   "source": [
    "y = new_df['Outcome']\n",
    "X = new_df.drop('Outcome',axis = 1 )"
   ]
  },
  {
   "cell_type": "code",
<<<<<<< HEAD
   "execution_count": 195,
   "id": "a09f2d11",
   "metadata": {},
   "outputs": [
    {
     "data": {
      "text/plain": [
       "Index(['Pregnancies', 'Availability of Treated Net',\n",
       "       'Season: Level of Rainfall-Stagnant water breeding ',\n",
       "       'High Rate of Mal  Infection (Lab Diagnosis)',\n",
       "       'Malaria Parasite Density Fever- Rapid Diagnostic Test(Strip)',\n",
       "       'Complaints/Symptoms', 'Age', 'Electricity', 'Laboratory Equipments',\n",
       "       'Doctor to Patient', 'Environment - Sanitised or not',\n",
       "       'Location (Urban/ Rural Area)'],\n",
       "      dtype='object')"
      ]
     },
     "execution_count": 195,
     "metadata": {},
     "output_type": "execute_result"
    }
   ],
   "source": [
    "X.columns"
   ]
  },
  {
   "cell_type": "code",
   "execution_count": 196,
=======
   "execution_count": 80,
>>>>>>> ae3f2fa09079df83c2ab490d59f40c7bfcc92401
   "id": "3a5e53e0",
   "metadata": {},
   "outputs": [
    {
     "name": "stdout",
     "output_type": "stream",
     "text": [
      "<class 'pandas.core.frame.DataFrame'>\n",
      "Index: 2052 entries, 0 to 2119\n",
<<<<<<< HEAD
      "Data columns (total 12 columns):\n",
=======
      "Data columns (total 13 columns):\n",
>>>>>>> ae3f2fa09079df83c2ab490d59f40c7bfcc92401
      " #   Column                                                        Non-Null Count  Dtype  \n",
      "---  ------                                                        --------------  -----  \n",
      " 0   Pregnancies                                                   2052 non-null   int64  \n",
      " 1   Availability of Treated Net                                   2052 non-null   int64  \n",
      " 2   Season: Level of Rainfall-Stagnant water breeding             2052 non-null   int64  \n",
      " 3   High Rate of Mal  Infection (Lab Diagnosis)                   2052 non-null   float64\n",
      " 4   Malaria Parasite Density Fever- Rapid Diagnostic Test(Strip)  2052 non-null   int32  \n",
      " 5   Complaints/Symptoms                                           2052 non-null   int32  \n",
      " 6   Age                                                           2052 non-null   float64\n",
      " 7   Electricity                                                   2052 non-null   float64\n",
      " 8   Laboratory Equipments                                         2052 non-null   int64  \n",
      " 9   Doctor to Patient                                             2052 non-null   int64  \n",
      " 10  Environment - Sanitised or not                                2052 non-null   float64\n",
<<<<<<< HEAD
      " 11  Location (Urban/ Rural Area)                                  2052 non-null   int64  \n",
      "dtypes: float64(4), int32(2), int64(6)\n",
      "memory usage: 192.4 KB\n"
=======
      " 11  Complicated/ Uncomplicated Malaria Diagnosis                  2052 non-null   int64  \n",
      " 12  Location (Urban/ Rural Area)                                  2052 non-null   int64  \n",
      "dtypes: float64(4), int32(2), int64(7)\n",
      "memory usage: 208.4 KB\n"
>>>>>>> ae3f2fa09079df83c2ab490d59f40c7bfcc92401
     ]
    }
   ],
   "source": [
    "X.info()"
   ]
  },
  {
   "cell_type": "code",
<<<<<<< HEAD
   "execution_count": 197,
=======
   "execution_count": 81,
>>>>>>> ae3f2fa09079df83c2ab490d59f40c7bfcc92401
   "id": "25261cf7",
   "metadata": {},
   "outputs": [],
   "source": [
    "X_train, X_test, y_train, y_test = train_test_split(X, y, test_size=0.30, random_state=42)"
   ]
  },
  {
   "cell_type": "code",
<<<<<<< HEAD
   "execution_count": 198,
=======
   "execution_count": 82,
>>>>>>> ae3f2fa09079df83c2ab490d59f40c7bfcc92401
   "id": "b174fb5b",
   "metadata": {},
   "outputs": [],
   "source": [
    "from sklearn.naive_bayes import MultinomialNB\n",
    "\n",
    "models={'random forest':RandomForestClassifier(),\n",
    "        'gaussianNB':GaussianNB(),'MultinomialNB':MultinomialNB()}"
   ]
  },
  {
   "cell_type": "code",
<<<<<<< HEAD
   "execution_count": 199,
=======
   "execution_count": 83,
>>>>>>> ae3f2fa09079df83c2ab490d59f40c7bfcc92401
   "id": "104464b2",
   "metadata": {},
   "outputs": [],
   "source": [
    "def model_scoring(model,x_train,y_train,x_test,y_test):\n",
    "    model_name = []\n",
    "    train_score = []\n",
    "    test_score = []\n",
    "    \n",
    "    for name,model in model.items():\n",
    "        model.fit(x_train,y_train)\n",
    "        tr = model.score(x_train,y_train)\n",
    "        train_score.append(tr)\n",
    "        ts = model.score(x_test,y_test)\n",
    "        test_score.append(ts)\n",
    "        model_name.append(name)\n",
    "        score_df = pd.DataFrame({\"model:name\":model_name,\"train_score\":train_score,\"test_score\":test_score})\n",
    "    return score_df    "
   ]
  },
  {
   "cell_type": "code",
<<<<<<< HEAD
   "execution_count": 200,
=======
   "execution_count": 84,
>>>>>>> ae3f2fa09079df83c2ab490d59f40c7bfcc92401
   "id": "2b073f4f",
   "metadata": {},
   "outputs": [
    {
     "data": {
      "text/html": [
       "<div>\n",
       "<style scoped>\n",
       "    .dataframe tbody tr th:only-of-type {\n",
       "        vertical-align: middle;\n",
       "    }\n",
       "\n",
       "    .dataframe tbody tr th {\n",
       "        vertical-align: top;\n",
       "    }\n",
       "\n",
       "    .dataframe thead th {\n",
       "        text-align: right;\n",
       "    }\n",
       "</style>\n",
       "<table border=\"1\" class=\"dataframe\">\n",
       "  <thead>\n",
       "    <tr style=\"text-align: right;\">\n",
       "      <th></th>\n",
       "      <th>model:name</th>\n",
       "      <th>train_score</th>\n",
       "      <th>test_score</th>\n",
       "    </tr>\n",
       "  </thead>\n",
       "  <tbody>\n",
       "    <tr>\n",
       "      <th>0</th>\n",
       "      <td>random forest</td>\n",
       "      <td>1.000000</td>\n",
       "      <td>1.000000</td>\n",
       "    </tr>\n",
       "    <tr>\n",
       "      <th>1</th>\n",
       "      <td>gaussianNB</td>\n",
       "      <td>1.000000</td>\n",
       "      <td>1.000000</td>\n",
       "    </tr>\n",
       "    <tr>\n",
       "      <th>2</th>\n",
       "      <td>MultinomialNB</td>\n",
<<<<<<< HEAD
       "      <td>0.920613</td>\n",
       "      <td>0.918831</td>\n",
=======
       "      <td>0.979805</td>\n",
       "      <td>0.982143</td>\n",
>>>>>>> ae3f2fa09079df83c2ab490d59f40c7bfcc92401
       "    </tr>\n",
       "  </tbody>\n",
       "</table>\n",
       "</div>"
      ],
      "text/plain": [
       "      model:name  train_score  test_score\n",
       "0  random forest     1.000000    1.000000\n",
       "1     gaussianNB     1.000000    1.000000\n",
<<<<<<< HEAD
       "2  MultinomialNB     0.920613    0.918831"
      ]
     },
     "execution_count": 200,
=======
       "2  MultinomialNB     0.979805    0.982143"
      ]
     },
     "execution_count": 84,
>>>>>>> ae3f2fa09079df83c2ab490d59f40c7bfcc92401
     "metadata": {},
     "output_type": "execute_result"
    }
   ],
   "source": [
    "model_scoring(model = models,\n",
    "              x_train = X_train,\n",
    "              y_train = y_train,\n",
    "              x_test = X_test,\n",
    "              y_test = y_test)"
   ]
  },
  {
   "cell_type": "code",
<<<<<<< HEAD
   "execution_count": 201,
=======
   "execution_count": 85,
>>>>>>> ae3f2fa09079df83c2ab490d59f40c7bfcc92401
   "id": "925774ee",
   "metadata": {},
   "outputs": [],
   "source": [
    "def model_evaluation(model,x_train,x_test,y_train,y_test):\n",
    "    model_name=[]\n",
    "    accuracy_=[]\n",
    "\n",
    "    for name, m in model.items():\n",
    "        m.fit(x_train,y_train) #  train data\n",
    "        pred= m.predict(x_test)\n",
    "        accuracy = accuracy_score(y_test,pred)\n",
    "        accuracy_.append(accuracy)\n",
    "        model_name.append(name)\n",
    "        eva_df=pd.DataFrame({'model:name':model_name,'accuracy_score':accuracy})\n",
    "    return eva_df"
   ]
  },
  {
   "cell_type": "code",
<<<<<<< HEAD
   "execution_count": 202,
=======
   "execution_count": 86,
>>>>>>> ae3f2fa09079df83c2ab490d59f40c7bfcc92401
   "id": "0d0fc131",
   "metadata": {},
   "outputs": [],
   "source": [
    "from sklearn.preprocessing import StandardScaler\n",
    "stds = StandardScaler()\n",
    "scaler = stds.fit(X_train)\n",
    "rescaledx = scaler.transform(X_train)"
   ]
  },
  {
   "cell_type": "code",
<<<<<<< HEAD
   "execution_count": 203,
=======
   "execution_count": 87,
>>>>>>> ae3f2fa09079df83c2ab490d59f40c7bfcc92401
   "id": "d8edaf5b",
   "metadata": {},
   "outputs": [
    {
     "data": {
      "text/html": [
<<<<<<< HEAD
       "<style>#sk-container-id-4 {\n",
=======
       "<style>#sk-container-id-1 {\n",
>>>>>>> ae3f2fa09079df83c2ab490d59f40c7bfcc92401
       "  /* Definition of color scheme common for light and dark mode */\n",
       "  --sklearn-color-text: black;\n",
       "  --sklearn-color-line: gray;\n",
       "  /* Definition of color scheme for unfitted estimators */\n",
       "  --sklearn-color-unfitted-level-0: #fff5e6;\n",
       "  --sklearn-color-unfitted-level-1: #f6e4d2;\n",
       "  --sklearn-color-unfitted-level-2: #ffe0b3;\n",
       "  --sklearn-color-unfitted-level-3: chocolate;\n",
       "  /* Definition of color scheme for fitted estimators */\n",
       "  --sklearn-color-fitted-level-0: #f0f8ff;\n",
       "  --sklearn-color-fitted-level-1: #d4ebff;\n",
       "  --sklearn-color-fitted-level-2: #b3dbfd;\n",
       "  --sklearn-color-fitted-level-3: cornflowerblue;\n",
       "\n",
       "  /* Specific color for light theme */\n",
       "  --sklearn-color-text-on-default-background: var(--sg-text-color, var(--theme-code-foreground, var(--jp-content-font-color1, black)));\n",
       "  --sklearn-color-background: var(--sg-background-color, var(--theme-background, var(--jp-layout-color0, white)));\n",
       "  --sklearn-color-border-box: var(--sg-text-color, var(--theme-code-foreground, var(--jp-content-font-color1, black)));\n",
       "  --sklearn-color-icon: #696969;\n",
       "\n",
       "  @media (prefers-color-scheme: dark) {\n",
       "    /* Redefinition of color scheme for dark theme */\n",
       "    --sklearn-color-text-on-default-background: var(--sg-text-color, var(--theme-code-foreground, var(--jp-content-font-color1, white)));\n",
       "    --sklearn-color-background: var(--sg-background-color, var(--theme-background, var(--jp-layout-color0, #111)));\n",
       "    --sklearn-color-border-box: var(--sg-text-color, var(--theme-code-foreground, var(--jp-content-font-color1, white)));\n",
       "    --sklearn-color-icon: #878787;\n",
       "  }\n",
       "}\n",
       "\n",
<<<<<<< HEAD
       "#sk-container-id-4 {\n",
       "  color: var(--sklearn-color-text);\n",
       "}\n",
       "\n",
       "#sk-container-id-4 pre {\n",
       "  padding: 0;\n",
       "}\n",
       "\n",
       "#sk-container-id-4 input.sk-hidden--visually {\n",
=======
       "#sk-container-id-1 {\n",
       "  color: var(--sklearn-color-text);\n",
       "}\n",
       "\n",
       "#sk-container-id-1 pre {\n",
       "  padding: 0;\n",
       "}\n",
       "\n",
       "#sk-container-id-1 input.sk-hidden--visually {\n",
>>>>>>> ae3f2fa09079df83c2ab490d59f40c7bfcc92401
       "  border: 0;\n",
       "  clip: rect(1px 1px 1px 1px);\n",
       "  clip: rect(1px, 1px, 1px, 1px);\n",
       "  height: 1px;\n",
       "  margin: -1px;\n",
       "  overflow: hidden;\n",
       "  padding: 0;\n",
       "  position: absolute;\n",
       "  width: 1px;\n",
       "}\n",
       "\n",
<<<<<<< HEAD
       "#sk-container-id-4 div.sk-dashed-wrapped {\n",
=======
       "#sk-container-id-1 div.sk-dashed-wrapped {\n",
>>>>>>> ae3f2fa09079df83c2ab490d59f40c7bfcc92401
       "  border: 1px dashed var(--sklearn-color-line);\n",
       "  margin: 0 0.4em 0.5em 0.4em;\n",
       "  box-sizing: border-box;\n",
       "  padding-bottom: 0.4em;\n",
       "  background-color: var(--sklearn-color-background);\n",
       "}\n",
       "\n",
<<<<<<< HEAD
       "#sk-container-id-4 div.sk-container {\n",
=======
       "#sk-container-id-1 div.sk-container {\n",
>>>>>>> ae3f2fa09079df83c2ab490d59f40c7bfcc92401
       "  /* jupyter's `normalize.less` sets `[hidden] { display: none; }`\n",
       "     but bootstrap.min.css set `[hidden] { display: none !important; }`\n",
       "     so we also need the `!important` here to be able to override the\n",
       "     default hidden behavior on the sphinx rendered scikit-learn.org.\n",
       "     See: https://github.com/scikit-learn/scikit-learn/issues/21755 */\n",
       "  display: inline-block !important;\n",
       "  position: relative;\n",
       "}\n",
       "\n",
<<<<<<< HEAD
       "#sk-container-id-4 div.sk-text-repr-fallback {\n",
=======
       "#sk-container-id-1 div.sk-text-repr-fallback {\n",
>>>>>>> ae3f2fa09079df83c2ab490d59f40c7bfcc92401
       "  display: none;\n",
       "}\n",
       "\n",
       "div.sk-parallel-item,\n",
       "div.sk-serial,\n",
       "div.sk-item {\n",
       "  /* draw centered vertical line to link estimators */\n",
       "  background-image: linear-gradient(var(--sklearn-color-text-on-default-background), var(--sklearn-color-text-on-default-background));\n",
       "  background-size: 2px 100%;\n",
       "  background-repeat: no-repeat;\n",
       "  background-position: center center;\n",
       "}\n",
       "\n",
       "/* Parallel-specific style estimator block */\n",
       "\n",
<<<<<<< HEAD
       "#sk-container-id-4 div.sk-parallel-item::after {\n",
=======
       "#sk-container-id-1 div.sk-parallel-item::after {\n",
>>>>>>> ae3f2fa09079df83c2ab490d59f40c7bfcc92401
       "  content: \"\";\n",
       "  width: 100%;\n",
       "  border-bottom: 2px solid var(--sklearn-color-text-on-default-background);\n",
       "  flex-grow: 1;\n",
       "}\n",
       "\n",
<<<<<<< HEAD
       "#sk-container-id-4 div.sk-parallel {\n",
=======
       "#sk-container-id-1 div.sk-parallel {\n",
>>>>>>> ae3f2fa09079df83c2ab490d59f40c7bfcc92401
       "  display: flex;\n",
       "  align-items: stretch;\n",
       "  justify-content: center;\n",
       "  background-color: var(--sklearn-color-background);\n",
       "  position: relative;\n",
       "}\n",
       "\n",
<<<<<<< HEAD
       "#sk-container-id-4 div.sk-parallel-item {\n",
=======
       "#sk-container-id-1 div.sk-parallel-item {\n",
>>>>>>> ae3f2fa09079df83c2ab490d59f40c7bfcc92401
       "  display: flex;\n",
       "  flex-direction: column;\n",
       "}\n",
       "\n",
<<<<<<< HEAD
       "#sk-container-id-4 div.sk-parallel-item:first-child::after {\n",
=======
       "#sk-container-id-1 div.sk-parallel-item:first-child::after {\n",
>>>>>>> ae3f2fa09079df83c2ab490d59f40c7bfcc92401
       "  align-self: flex-end;\n",
       "  width: 50%;\n",
       "}\n",
       "\n",
<<<<<<< HEAD
       "#sk-container-id-4 div.sk-parallel-item:last-child::after {\n",
=======
       "#sk-container-id-1 div.sk-parallel-item:last-child::after {\n",
>>>>>>> ae3f2fa09079df83c2ab490d59f40c7bfcc92401
       "  align-self: flex-start;\n",
       "  width: 50%;\n",
       "}\n",
       "\n",
<<<<<<< HEAD
       "#sk-container-id-4 div.sk-parallel-item:only-child::after {\n",
=======
       "#sk-container-id-1 div.sk-parallel-item:only-child::after {\n",
>>>>>>> ae3f2fa09079df83c2ab490d59f40c7bfcc92401
       "  width: 0;\n",
       "}\n",
       "\n",
       "/* Serial-specific style estimator block */\n",
       "\n",
<<<<<<< HEAD
       "#sk-container-id-4 div.sk-serial {\n",
=======
       "#sk-container-id-1 div.sk-serial {\n",
>>>>>>> ae3f2fa09079df83c2ab490d59f40c7bfcc92401
       "  display: flex;\n",
       "  flex-direction: column;\n",
       "  align-items: center;\n",
       "  background-color: var(--sklearn-color-background);\n",
       "  padding-right: 1em;\n",
       "  padding-left: 1em;\n",
       "}\n",
       "\n",
       "\n",
       "/* Toggleable style: style used for estimator/Pipeline/ColumnTransformer box that is\n",
       "clickable and can be expanded/collapsed.\n",
       "- Pipeline and ColumnTransformer use this feature and define the default style\n",
       "- Estimators will overwrite some part of the style using the `sk-estimator` class\n",
       "*/\n",
       "\n",
       "/* Pipeline and ColumnTransformer style (default) */\n",
       "\n",
<<<<<<< HEAD
       "#sk-container-id-4 div.sk-toggleable {\n",
=======
       "#sk-container-id-1 div.sk-toggleable {\n",
>>>>>>> ae3f2fa09079df83c2ab490d59f40c7bfcc92401
       "  /* Default theme specific background. It is overwritten whether we have a\n",
       "  specific estimator or a Pipeline/ColumnTransformer */\n",
       "  background-color: var(--sklearn-color-background);\n",
       "}\n",
       "\n",
       "/* Toggleable label */\n",
<<<<<<< HEAD
       "#sk-container-id-4 label.sk-toggleable__label {\n",
=======
       "#sk-container-id-1 label.sk-toggleable__label {\n",
>>>>>>> ae3f2fa09079df83c2ab490d59f40c7bfcc92401
       "  cursor: pointer;\n",
       "  display: block;\n",
       "  width: 100%;\n",
       "  margin-bottom: 0;\n",
       "  padding: 0.5em;\n",
       "  box-sizing: border-box;\n",
       "  text-align: center;\n",
       "}\n",
       "\n",
<<<<<<< HEAD
       "#sk-container-id-4 label.sk-toggleable__label-arrow:before {\n",
=======
       "#sk-container-id-1 label.sk-toggleable__label-arrow:before {\n",
>>>>>>> ae3f2fa09079df83c2ab490d59f40c7bfcc92401
       "  /* Arrow on the left of the label */\n",
       "  content: \"▸\";\n",
       "  float: left;\n",
       "  margin-right: 0.25em;\n",
       "  color: var(--sklearn-color-icon);\n",
       "}\n",
       "\n",
<<<<<<< HEAD
       "#sk-container-id-4 label.sk-toggleable__label-arrow:hover:before {\n",
=======
       "#sk-container-id-1 label.sk-toggleable__label-arrow:hover:before {\n",
>>>>>>> ae3f2fa09079df83c2ab490d59f40c7bfcc92401
       "  color: var(--sklearn-color-text);\n",
       "}\n",
       "\n",
       "/* Toggleable content - dropdown */\n",
       "\n",
<<<<<<< HEAD
       "#sk-container-id-4 div.sk-toggleable__content {\n",
=======
       "#sk-container-id-1 div.sk-toggleable__content {\n",
>>>>>>> ae3f2fa09079df83c2ab490d59f40c7bfcc92401
       "  max-height: 0;\n",
       "  max-width: 0;\n",
       "  overflow: hidden;\n",
       "  text-align: left;\n",
       "  /* unfitted */\n",
       "  background-color: var(--sklearn-color-unfitted-level-0);\n",
       "}\n",
       "\n",
<<<<<<< HEAD
       "#sk-container-id-4 div.sk-toggleable__content.fitted {\n",
=======
       "#sk-container-id-1 div.sk-toggleable__content.fitted {\n",
>>>>>>> ae3f2fa09079df83c2ab490d59f40c7bfcc92401
       "  /* fitted */\n",
       "  background-color: var(--sklearn-color-fitted-level-0);\n",
       "}\n",
       "\n",
<<<<<<< HEAD
       "#sk-container-id-4 div.sk-toggleable__content pre {\n",
=======
       "#sk-container-id-1 div.sk-toggleable__content pre {\n",
>>>>>>> ae3f2fa09079df83c2ab490d59f40c7bfcc92401
       "  margin: 0.2em;\n",
       "  border-radius: 0.25em;\n",
       "  color: var(--sklearn-color-text);\n",
       "  /* unfitted */\n",
       "  background-color: var(--sklearn-color-unfitted-level-0);\n",
       "}\n",
       "\n",
<<<<<<< HEAD
       "#sk-container-id-4 div.sk-toggleable__content.fitted pre {\n",
=======
       "#sk-container-id-1 div.sk-toggleable__content.fitted pre {\n",
>>>>>>> ae3f2fa09079df83c2ab490d59f40c7bfcc92401
       "  /* unfitted */\n",
       "  background-color: var(--sklearn-color-fitted-level-0);\n",
       "}\n",
       "\n",
<<<<<<< HEAD
       "#sk-container-id-4 input.sk-toggleable__control:checked~div.sk-toggleable__content {\n",
=======
       "#sk-container-id-1 input.sk-toggleable__control:checked~div.sk-toggleable__content {\n",
>>>>>>> ae3f2fa09079df83c2ab490d59f40c7bfcc92401
       "  /* Expand drop-down */\n",
       "  max-height: 200px;\n",
       "  max-width: 100%;\n",
       "  overflow: auto;\n",
       "}\n",
       "\n",
<<<<<<< HEAD
       "#sk-container-id-4 input.sk-toggleable__control:checked~label.sk-toggleable__label-arrow:before {\n",
=======
       "#sk-container-id-1 input.sk-toggleable__control:checked~label.sk-toggleable__label-arrow:before {\n",
>>>>>>> ae3f2fa09079df83c2ab490d59f40c7bfcc92401
       "  content: \"▾\";\n",
       "}\n",
       "\n",
       "/* Pipeline/ColumnTransformer-specific style */\n",
       "\n",
<<<<<<< HEAD
       "#sk-container-id-4 div.sk-label input.sk-toggleable__control:checked~label.sk-toggleable__label {\n",
=======
       "#sk-container-id-1 div.sk-label input.sk-toggleable__control:checked~label.sk-toggleable__label {\n",
>>>>>>> ae3f2fa09079df83c2ab490d59f40c7bfcc92401
       "  color: var(--sklearn-color-text);\n",
       "  background-color: var(--sklearn-color-unfitted-level-2);\n",
       "}\n",
       "\n",
<<<<<<< HEAD
       "#sk-container-id-4 div.sk-label.fitted input.sk-toggleable__control:checked~label.sk-toggleable__label {\n",
=======
       "#sk-container-id-1 div.sk-label.fitted input.sk-toggleable__control:checked~label.sk-toggleable__label {\n",
>>>>>>> ae3f2fa09079df83c2ab490d59f40c7bfcc92401
       "  background-color: var(--sklearn-color-fitted-level-2);\n",
       "}\n",
       "\n",
       "/* Estimator-specific style */\n",
       "\n",
       "/* Colorize estimator box */\n",
<<<<<<< HEAD
       "#sk-container-id-4 div.sk-estimator input.sk-toggleable__control:checked~label.sk-toggleable__label {\n",
=======
       "#sk-container-id-1 div.sk-estimator input.sk-toggleable__control:checked~label.sk-toggleable__label {\n",
>>>>>>> ae3f2fa09079df83c2ab490d59f40c7bfcc92401
       "  /* unfitted */\n",
       "  background-color: var(--sklearn-color-unfitted-level-2);\n",
       "}\n",
       "\n",
<<<<<<< HEAD
       "#sk-container-id-4 div.sk-estimator.fitted input.sk-toggleable__control:checked~label.sk-toggleable__label {\n",
=======
       "#sk-container-id-1 div.sk-estimator.fitted input.sk-toggleable__control:checked~label.sk-toggleable__label {\n",
>>>>>>> ae3f2fa09079df83c2ab490d59f40c7bfcc92401
       "  /* fitted */\n",
       "  background-color: var(--sklearn-color-fitted-level-2);\n",
       "}\n",
       "\n",
<<<<<<< HEAD
       "#sk-container-id-4 div.sk-label label.sk-toggleable__label,\n",
       "#sk-container-id-4 div.sk-label label {\n",
=======
       "#sk-container-id-1 div.sk-label label.sk-toggleable__label,\n",
       "#sk-container-id-1 div.sk-label label {\n",
>>>>>>> ae3f2fa09079df83c2ab490d59f40c7bfcc92401
       "  /* The background is the default theme color */\n",
       "  color: var(--sklearn-color-text-on-default-background);\n",
       "}\n",
       "\n",
       "/* On hover, darken the color of the background */\n",
<<<<<<< HEAD
       "#sk-container-id-4 div.sk-label:hover label.sk-toggleable__label {\n",
=======
       "#sk-container-id-1 div.sk-label:hover label.sk-toggleable__label {\n",
>>>>>>> ae3f2fa09079df83c2ab490d59f40c7bfcc92401
       "  color: var(--sklearn-color-text);\n",
       "  background-color: var(--sklearn-color-unfitted-level-2);\n",
       "}\n",
       "\n",
       "/* Label box, darken color on hover, fitted */\n",
<<<<<<< HEAD
       "#sk-container-id-4 div.sk-label.fitted:hover label.sk-toggleable__label.fitted {\n",
=======
       "#sk-container-id-1 div.sk-label.fitted:hover label.sk-toggleable__label.fitted {\n",
>>>>>>> ae3f2fa09079df83c2ab490d59f40c7bfcc92401
       "  color: var(--sklearn-color-text);\n",
       "  background-color: var(--sklearn-color-fitted-level-2);\n",
       "}\n",
       "\n",
       "/* Estimator label */\n",
       "\n",
<<<<<<< HEAD
       "#sk-container-id-4 div.sk-label label {\n",
=======
       "#sk-container-id-1 div.sk-label label {\n",
>>>>>>> ae3f2fa09079df83c2ab490d59f40c7bfcc92401
       "  font-family: monospace;\n",
       "  font-weight: bold;\n",
       "  display: inline-block;\n",
       "  line-height: 1.2em;\n",
       "}\n",
       "\n",
<<<<<<< HEAD
       "#sk-container-id-4 div.sk-label-container {\n",
=======
       "#sk-container-id-1 div.sk-label-container {\n",
>>>>>>> ae3f2fa09079df83c2ab490d59f40c7bfcc92401
       "  text-align: center;\n",
       "}\n",
       "\n",
       "/* Estimator-specific */\n",
<<<<<<< HEAD
       "#sk-container-id-4 div.sk-estimator {\n",
=======
       "#sk-container-id-1 div.sk-estimator {\n",
>>>>>>> ae3f2fa09079df83c2ab490d59f40c7bfcc92401
       "  font-family: monospace;\n",
       "  border: 1px dotted var(--sklearn-color-border-box);\n",
       "  border-radius: 0.25em;\n",
       "  box-sizing: border-box;\n",
       "  margin-bottom: 0.5em;\n",
       "  /* unfitted */\n",
       "  background-color: var(--sklearn-color-unfitted-level-0);\n",
       "}\n",
       "\n",
<<<<<<< HEAD
       "#sk-container-id-4 div.sk-estimator.fitted {\n",
=======
       "#sk-container-id-1 div.sk-estimator.fitted {\n",
>>>>>>> ae3f2fa09079df83c2ab490d59f40c7bfcc92401
       "  /* fitted */\n",
       "  background-color: var(--sklearn-color-fitted-level-0);\n",
       "}\n",
       "\n",
       "/* on hover */\n",
<<<<<<< HEAD
       "#sk-container-id-4 div.sk-estimator:hover {\n",
=======
       "#sk-container-id-1 div.sk-estimator:hover {\n",
>>>>>>> ae3f2fa09079df83c2ab490d59f40c7bfcc92401
       "  /* unfitted */\n",
       "  background-color: var(--sklearn-color-unfitted-level-2);\n",
       "}\n",
       "\n",
<<<<<<< HEAD
       "#sk-container-id-4 div.sk-estimator.fitted:hover {\n",
=======
       "#sk-container-id-1 div.sk-estimator.fitted:hover {\n",
>>>>>>> ae3f2fa09079df83c2ab490d59f40c7bfcc92401
       "  /* fitted */\n",
       "  background-color: var(--sklearn-color-fitted-level-2);\n",
       "}\n",
       "\n",
       "/* Specification for estimator info (e.g. \"i\" and \"?\") */\n",
       "\n",
       "/* Common style for \"i\" and \"?\" */\n",
       "\n",
       ".sk-estimator-doc-link,\n",
       "a:link.sk-estimator-doc-link,\n",
       "a:visited.sk-estimator-doc-link {\n",
       "  float: right;\n",
       "  font-size: smaller;\n",
       "  line-height: 1em;\n",
       "  font-family: monospace;\n",
       "  background-color: var(--sklearn-color-background);\n",
       "  border-radius: 1em;\n",
       "  height: 1em;\n",
       "  width: 1em;\n",
       "  text-decoration: none !important;\n",
       "  margin-left: 1ex;\n",
       "  /* unfitted */\n",
       "  border: var(--sklearn-color-unfitted-level-1) 1pt solid;\n",
       "  color: var(--sklearn-color-unfitted-level-1);\n",
       "}\n",
       "\n",
       ".sk-estimator-doc-link.fitted,\n",
       "a:link.sk-estimator-doc-link.fitted,\n",
       "a:visited.sk-estimator-doc-link.fitted {\n",
       "  /* fitted */\n",
       "  border: var(--sklearn-color-fitted-level-1) 1pt solid;\n",
       "  color: var(--sklearn-color-fitted-level-1);\n",
       "}\n",
       "\n",
       "/* On hover */\n",
       "div.sk-estimator:hover .sk-estimator-doc-link:hover,\n",
       ".sk-estimator-doc-link:hover,\n",
       "div.sk-label-container:hover .sk-estimator-doc-link:hover,\n",
       ".sk-estimator-doc-link:hover {\n",
       "  /* unfitted */\n",
       "  background-color: var(--sklearn-color-unfitted-level-3);\n",
       "  color: var(--sklearn-color-background);\n",
       "  text-decoration: none;\n",
       "}\n",
       "\n",
       "div.sk-estimator.fitted:hover .sk-estimator-doc-link.fitted:hover,\n",
       ".sk-estimator-doc-link.fitted:hover,\n",
       "div.sk-label-container:hover .sk-estimator-doc-link.fitted:hover,\n",
       ".sk-estimator-doc-link.fitted:hover {\n",
       "  /* fitted */\n",
       "  background-color: var(--sklearn-color-fitted-level-3);\n",
       "  color: var(--sklearn-color-background);\n",
       "  text-decoration: none;\n",
       "}\n",
       "\n",
       "/* Span, style for the box shown on hovering the info icon */\n",
       ".sk-estimator-doc-link span {\n",
       "  display: none;\n",
       "  z-index: 9999;\n",
       "  position: relative;\n",
       "  font-weight: normal;\n",
       "  right: .2ex;\n",
       "  padding: .5ex;\n",
       "  margin: .5ex;\n",
       "  width: min-content;\n",
       "  min-width: 20ex;\n",
       "  max-width: 50ex;\n",
       "  color: var(--sklearn-color-text);\n",
       "  box-shadow: 2pt 2pt 4pt #999;\n",
       "  /* unfitted */\n",
       "  background: var(--sklearn-color-unfitted-level-0);\n",
       "  border: .5pt solid var(--sklearn-color-unfitted-level-3);\n",
       "}\n",
       "\n",
       ".sk-estimator-doc-link.fitted span {\n",
       "  /* fitted */\n",
       "  background: var(--sklearn-color-fitted-level-0);\n",
       "  border: var(--sklearn-color-fitted-level-3);\n",
       "}\n",
       "\n",
       ".sk-estimator-doc-link:hover span {\n",
       "  display: block;\n",
       "}\n",
       "\n",
       "/* \"?\"-specific style due to the `<a>` HTML tag */\n",
       "\n",
<<<<<<< HEAD
       "#sk-container-id-4 a.estimator_doc_link {\n",
=======
       "#sk-container-id-1 a.estimator_doc_link {\n",
>>>>>>> ae3f2fa09079df83c2ab490d59f40c7bfcc92401
       "  float: right;\n",
       "  font-size: 1rem;\n",
       "  line-height: 1em;\n",
       "  font-family: monospace;\n",
       "  background-color: var(--sklearn-color-background);\n",
       "  border-radius: 1rem;\n",
       "  height: 1rem;\n",
       "  width: 1rem;\n",
       "  text-decoration: none;\n",
       "  /* unfitted */\n",
       "  color: var(--sklearn-color-unfitted-level-1);\n",
       "  border: var(--sklearn-color-unfitted-level-1) 1pt solid;\n",
       "}\n",
       "\n",
<<<<<<< HEAD
       "#sk-container-id-4 a.estimator_doc_link.fitted {\n",
=======
       "#sk-container-id-1 a.estimator_doc_link.fitted {\n",
>>>>>>> ae3f2fa09079df83c2ab490d59f40c7bfcc92401
       "  /* fitted */\n",
       "  border: var(--sklearn-color-fitted-level-1) 1pt solid;\n",
       "  color: var(--sklearn-color-fitted-level-1);\n",
       "}\n",
       "\n",
       "/* On hover */\n",
<<<<<<< HEAD
       "#sk-container-id-4 a.estimator_doc_link:hover {\n",
=======
       "#sk-container-id-1 a.estimator_doc_link:hover {\n",
>>>>>>> ae3f2fa09079df83c2ab490d59f40c7bfcc92401
       "  /* unfitted */\n",
       "  background-color: var(--sklearn-color-unfitted-level-3);\n",
       "  color: var(--sklearn-color-background);\n",
       "  text-decoration: none;\n",
       "}\n",
       "\n",
<<<<<<< HEAD
       "#sk-container-id-4 a.estimator_doc_link.fitted:hover {\n",
       "  /* fitted */\n",
       "  background-color: var(--sklearn-color-fitted-level-3);\n",
       "}\n",
       "</style><div id=\"sk-container-id-4\" class=\"sk-top-container\"><div class=\"sk-text-repr-fallback\"><pre>RandomForestClassifier()</pre><b>In a Jupyter environment, please rerun this cell to show the HTML representation or trust the notebook. <br />On GitHub, the HTML representation is unable to render, please try loading this page with nbviewer.org.</b></div><div class=\"sk-container\" hidden><div class=\"sk-item\"><div class=\"sk-estimator fitted sk-toggleable\"><input class=\"sk-toggleable__control sk-hidden--visually\" id=\"sk-estimator-id-4\" type=\"checkbox\" checked><label for=\"sk-estimator-id-4\" class=\"sk-toggleable__label fitted sk-toggleable__label-arrow fitted\">&nbsp;&nbsp;RandomForestClassifier<a class=\"sk-estimator-doc-link fitted\" rel=\"noreferrer\" target=\"_blank\" href=\"https://scikit-learn.org/1.5/modules/generated/sklearn.ensemble.RandomForestClassifier.html\">?<span>Documentation for RandomForestClassifier</span></a><span class=\"sk-estimator-doc-link fitted\">i<span>Fitted</span></span></label><div class=\"sk-toggleable__content fitted\"><pre>RandomForestClassifier()</pre></div> </div></div></div></div>"
=======
       "#sk-container-id-1 a.estimator_doc_link.fitted:hover {\n",
       "  /* fitted */\n",
       "  background-color: var(--sklearn-color-fitted-level-3);\n",
       "}\n",
       "</style><div id=\"sk-container-id-1\" class=\"sk-top-container\"><div class=\"sk-text-repr-fallback\"><pre>RandomForestClassifier()</pre><b>In a Jupyter environment, please rerun this cell to show the HTML representation or trust the notebook. <br />On GitHub, the HTML representation is unable to render, please try loading this page with nbviewer.org.</b></div><div class=\"sk-container\" hidden><div class=\"sk-item\"><div class=\"sk-estimator fitted sk-toggleable\"><input class=\"sk-toggleable__control sk-hidden--visually\" id=\"sk-estimator-id-1\" type=\"checkbox\" checked><label for=\"sk-estimator-id-1\" class=\"sk-toggleable__label fitted sk-toggleable__label-arrow fitted\">&nbsp;&nbsp;RandomForestClassifier<a class=\"sk-estimator-doc-link fitted\" rel=\"noreferrer\" target=\"_blank\" href=\"https://scikit-learn.org/1.5/modules/generated/sklearn.ensemble.RandomForestClassifier.html\">?<span>Documentation for RandomForestClassifier</span></a><span class=\"sk-estimator-doc-link fitted\">i<span>Fitted</span></span></label><div class=\"sk-toggleable__content fitted\"><pre>RandomForestClassifier()</pre></div> </div></div></div></div>"
>>>>>>> ae3f2fa09079df83c2ab490d59f40c7bfcc92401
      ],
      "text/plain": [
       "RandomForestClassifier()"
      ]
     },
<<<<<<< HEAD
     "execution_count": 203,
=======
     "execution_count": 87,
>>>>>>> ae3f2fa09079df83c2ab490d59f40c7bfcc92401
     "metadata": {},
     "output_type": "execute_result"
    }
   ],
   "source": [
    "model1 = RandomForestClassifier()\n",
    "model1.fit(X_train,y_train)"
   ]
  },
  {
   "cell_type": "code",
<<<<<<< HEAD
   "execution_count": 204,
=======
   "execution_count": 88,
>>>>>>> ae3f2fa09079df83c2ab490d59f40c7bfcc92401
   "id": "1cacbe45",
   "metadata": {},
   "outputs": [
    {
     "data": {
      "text/plain": [
       "array([1, 1, 1, 1, 1, 1, 1, 0, 1, 1, 0, 0, 1, 1, 0, 0, 1, 1, 0, 1, 0, 0,\n",
       "       0, 0, 1, 1, 1, 1, 1, 0, 1, 0, 1, 0, 1, 1, 1, 0, 0, 1, 1, 1, 1, 1,\n",
       "       0, 1, 1, 1, 1, 1, 0, 0, 0, 1, 0, 0, 1, 1, 0, 1, 1, 1, 0, 0, 1, 1,\n",
       "       1, 1, 1, 1, 1, 0, 1, 0, 0, 0, 1, 1, 1, 0, 1, 1, 0, 0, 1, 1, 0, 1,\n",
       "       1, 0, 0, 0, 0, 0, 1, 0, 1, 1, 1, 1, 1, 0, 1, 1, 0, 1, 0, 0, 1, 1,\n",
       "       1, 1, 1, 1, 1, 1, 0, 0, 1, 0, 1, 0, 0, 1, 1, 1, 1, 0, 1, 1, 1, 1,\n",
       "       1, 1, 0, 1, 0, 1, 0, 1, 1, 1, 0, 1, 1, 0, 0, 0, 1, 0, 1, 1, 1, 1,\n",
       "       0, 0, 0, 1, 0, 1, 0, 1, 1, 0, 1, 1, 1, 1, 0, 1, 0, 0, 1, 1, 1, 0,\n",
       "       0, 1, 1, 1, 0, 0, 0, 0, 1, 0, 0, 0, 0, 1, 1, 1, 1, 1, 0, 1, 0, 0,\n",
       "       1, 1, 1, 1, 1, 1, 1, 1, 1, 1, 0, 0, 1, 1, 1, 1, 1, 1, 0, 0, 1, 1,\n",
       "       1, 0, 0, 1, 1, 1, 1, 0, 1, 0, 1, 1, 1, 0, 1, 0, 0, 1, 0, 1, 1, 1,\n",
       "       1, 1, 1, 1, 0, 1, 1, 0, 0, 0, 1, 1, 0, 0, 1, 0, 1, 1, 0, 0, 1, 0,\n",
       "       0, 0, 1, 0, 1, 1, 1, 0, 0, 1, 1, 1, 1, 1, 0, 0, 0, 1, 1, 1, 0, 1,\n",
       "       1, 0, 1, 0, 1, 0, 0, 0, 1, 1, 0, 1, 0, 0, 1, 1, 0, 0, 0, 1, 1, 0,\n",
       "       0, 1, 0, 1, 1, 1, 0, 1, 1, 1, 1, 0, 1, 1, 1, 0, 0, 1, 0, 0, 0, 0,\n",
       "       0, 0, 0, 1, 1, 1, 0, 1, 0, 1, 1, 1, 1, 0, 1, 1, 1, 0, 1, 1, 0, 0,\n",
       "       0, 0, 0, 0, 1, 1, 0, 0, 1, 0, 1, 0, 1, 1, 1, 1, 0, 1, 0, 0, 1, 0,\n",
       "       0, 1, 1, 0, 0, 0, 1, 1, 1, 0, 1, 1, 1, 1, 1, 1, 1, 1, 0, 0, 1, 0,\n",
       "       1, 0, 1, 0, 0, 1, 0, 0, 1, 0, 0, 1, 1, 0, 1, 0, 1, 0, 1, 0, 1, 0,\n",
       "       0, 1, 1, 1, 0, 1, 1, 1, 1, 0, 1, 1, 1, 0, 0, 1, 1, 0, 0, 0, 1, 1,\n",
       "       1, 1, 0, 1, 1, 0, 1, 1, 1, 1, 1, 0, 1, 1, 1, 1, 0, 0, 1, 1, 1, 1,\n",
       "       1, 0, 1, 0, 0, 1, 0, 1, 0, 1, 1, 0, 0, 1, 1, 0, 0, 1, 0, 0, 1, 1,\n",
       "       1, 0, 1, 0, 1, 0, 1, 0, 1, 0, 1, 0, 0, 0, 0, 0, 0, 1, 0, 0, 1, 1,\n",
       "       1, 0, 1, 1, 1, 0, 1, 1, 0, 1, 0, 1, 0, 1, 1, 1, 1, 0, 0, 1, 1, 0,\n",
       "       0, 1, 0, 1, 0, 0, 1, 1, 1, 1, 0, 1, 0, 1, 1, 0, 0, 0, 0, 0, 0, 0,\n",
       "       0, 1, 0, 0, 1, 1, 1, 1, 1, 1, 1, 1, 1, 0, 0, 0, 1, 0, 1, 0, 1, 0,\n",
       "       0, 1, 0, 0, 1, 0, 1, 1, 1, 1, 0, 1, 1, 1, 0, 1, 0, 0, 1, 0, 1, 1,\n",
       "       1, 1, 1, 0, 0, 1, 0, 0, 0, 1, 1, 0, 1, 0, 0, 0, 1, 0, 0, 1, 1, 1],\n",
       "      dtype=int64)"
      ]
     },
<<<<<<< HEAD
     "execution_count": 204,
=======
     "execution_count": 88,
>>>>>>> ae3f2fa09079df83c2ab490d59f40c7bfcc92401
     "metadata": {},
     "output_type": "execute_result"
    }
   ],
   "source": [
    "pred1 = model1.predict(X_test)\n",
    "pred1"
   ]
  },
  {
   "cell_type": "code",
<<<<<<< HEAD
   "execution_count": 205,
=======
   "execution_count": 89,
>>>>>>> ae3f2fa09079df83c2ab490d59f40c7bfcc92401
   "id": "e21e504b",
   "metadata": {},
   "outputs": [
    {
     "data": {
      "text/plain": [
       "1.0"
      ]
     },
<<<<<<< HEAD
     "execution_count": 205,
=======
     "execution_count": 89,
>>>>>>> ae3f2fa09079df83c2ab490d59f40c7bfcc92401
     "metadata": {},
     "output_type": "execute_result"
    }
   ],
   "source": [
    "accuracy1 = accuracy_score(y_test,pred1)\n",
    "accuracy1"
   ]
  },
  {
   "cell_type": "code",
<<<<<<< HEAD
   "execution_count": 206,
=======
   "execution_count": 90,
>>>>>>> ae3f2fa09079df83c2ab490d59f40c7bfcc92401
   "id": "fbfa0fad",
   "metadata": {},
   "outputs": [
    {
     "data": {
      "text/html": [
<<<<<<< HEAD
       "<style>#sk-container-id-5 {\n",
=======
       "<style>#sk-container-id-2 {\n",
>>>>>>> ae3f2fa09079df83c2ab490d59f40c7bfcc92401
       "  /* Definition of color scheme common for light and dark mode */\n",
       "  --sklearn-color-text: black;\n",
       "  --sklearn-color-line: gray;\n",
       "  /* Definition of color scheme for unfitted estimators */\n",
       "  --sklearn-color-unfitted-level-0: #fff5e6;\n",
       "  --sklearn-color-unfitted-level-1: #f6e4d2;\n",
       "  --sklearn-color-unfitted-level-2: #ffe0b3;\n",
       "  --sklearn-color-unfitted-level-3: chocolate;\n",
       "  /* Definition of color scheme for fitted estimators */\n",
       "  --sklearn-color-fitted-level-0: #f0f8ff;\n",
       "  --sklearn-color-fitted-level-1: #d4ebff;\n",
       "  --sklearn-color-fitted-level-2: #b3dbfd;\n",
       "  --sklearn-color-fitted-level-3: cornflowerblue;\n",
       "\n",
       "  /* Specific color for light theme */\n",
       "  --sklearn-color-text-on-default-background: var(--sg-text-color, var(--theme-code-foreground, var(--jp-content-font-color1, black)));\n",
       "  --sklearn-color-background: var(--sg-background-color, var(--theme-background, var(--jp-layout-color0, white)));\n",
       "  --sklearn-color-border-box: var(--sg-text-color, var(--theme-code-foreground, var(--jp-content-font-color1, black)));\n",
       "  --sklearn-color-icon: #696969;\n",
       "\n",
       "  @media (prefers-color-scheme: dark) {\n",
       "    /* Redefinition of color scheme for dark theme */\n",
       "    --sklearn-color-text-on-default-background: var(--sg-text-color, var(--theme-code-foreground, var(--jp-content-font-color1, white)));\n",
       "    --sklearn-color-background: var(--sg-background-color, var(--theme-background, var(--jp-layout-color0, #111)));\n",
       "    --sklearn-color-border-box: var(--sg-text-color, var(--theme-code-foreground, var(--jp-content-font-color1, white)));\n",
       "    --sklearn-color-icon: #878787;\n",
       "  }\n",
       "}\n",
       "\n",
<<<<<<< HEAD
       "#sk-container-id-5 {\n",
       "  color: var(--sklearn-color-text);\n",
       "}\n",
       "\n",
       "#sk-container-id-5 pre {\n",
       "  padding: 0;\n",
       "}\n",
       "\n",
       "#sk-container-id-5 input.sk-hidden--visually {\n",
=======
       "#sk-container-id-2 {\n",
       "  color: var(--sklearn-color-text);\n",
       "}\n",
       "\n",
       "#sk-container-id-2 pre {\n",
       "  padding: 0;\n",
       "}\n",
       "\n",
       "#sk-container-id-2 input.sk-hidden--visually {\n",
>>>>>>> ae3f2fa09079df83c2ab490d59f40c7bfcc92401
       "  border: 0;\n",
       "  clip: rect(1px 1px 1px 1px);\n",
       "  clip: rect(1px, 1px, 1px, 1px);\n",
       "  height: 1px;\n",
       "  margin: -1px;\n",
       "  overflow: hidden;\n",
       "  padding: 0;\n",
       "  position: absolute;\n",
       "  width: 1px;\n",
       "}\n",
       "\n",
<<<<<<< HEAD
       "#sk-container-id-5 div.sk-dashed-wrapped {\n",
=======
       "#sk-container-id-2 div.sk-dashed-wrapped {\n",
>>>>>>> ae3f2fa09079df83c2ab490d59f40c7bfcc92401
       "  border: 1px dashed var(--sklearn-color-line);\n",
       "  margin: 0 0.4em 0.5em 0.4em;\n",
       "  box-sizing: border-box;\n",
       "  padding-bottom: 0.4em;\n",
       "  background-color: var(--sklearn-color-background);\n",
       "}\n",
       "\n",
<<<<<<< HEAD
       "#sk-container-id-5 div.sk-container {\n",
=======
       "#sk-container-id-2 div.sk-container {\n",
>>>>>>> ae3f2fa09079df83c2ab490d59f40c7bfcc92401
       "  /* jupyter's `normalize.less` sets `[hidden] { display: none; }`\n",
       "     but bootstrap.min.css set `[hidden] { display: none !important; }`\n",
       "     so we also need the `!important` here to be able to override the\n",
       "     default hidden behavior on the sphinx rendered scikit-learn.org.\n",
       "     See: https://github.com/scikit-learn/scikit-learn/issues/21755 */\n",
       "  display: inline-block !important;\n",
       "  position: relative;\n",
       "}\n",
       "\n",
<<<<<<< HEAD
       "#sk-container-id-5 div.sk-text-repr-fallback {\n",
=======
       "#sk-container-id-2 div.sk-text-repr-fallback {\n",
>>>>>>> ae3f2fa09079df83c2ab490d59f40c7bfcc92401
       "  display: none;\n",
       "}\n",
       "\n",
       "div.sk-parallel-item,\n",
       "div.sk-serial,\n",
       "div.sk-item {\n",
       "  /* draw centered vertical line to link estimators */\n",
       "  background-image: linear-gradient(var(--sklearn-color-text-on-default-background), var(--sklearn-color-text-on-default-background));\n",
       "  background-size: 2px 100%;\n",
       "  background-repeat: no-repeat;\n",
       "  background-position: center center;\n",
       "}\n",
       "\n",
       "/* Parallel-specific style estimator block */\n",
       "\n",
<<<<<<< HEAD
       "#sk-container-id-5 div.sk-parallel-item::after {\n",
=======
       "#sk-container-id-2 div.sk-parallel-item::after {\n",
>>>>>>> ae3f2fa09079df83c2ab490d59f40c7bfcc92401
       "  content: \"\";\n",
       "  width: 100%;\n",
       "  border-bottom: 2px solid var(--sklearn-color-text-on-default-background);\n",
       "  flex-grow: 1;\n",
       "}\n",
       "\n",
<<<<<<< HEAD
       "#sk-container-id-5 div.sk-parallel {\n",
=======
       "#sk-container-id-2 div.sk-parallel {\n",
>>>>>>> ae3f2fa09079df83c2ab490d59f40c7bfcc92401
       "  display: flex;\n",
       "  align-items: stretch;\n",
       "  justify-content: center;\n",
       "  background-color: var(--sklearn-color-background);\n",
       "  position: relative;\n",
       "}\n",
       "\n",
<<<<<<< HEAD
       "#sk-container-id-5 div.sk-parallel-item {\n",
=======
       "#sk-container-id-2 div.sk-parallel-item {\n",
>>>>>>> ae3f2fa09079df83c2ab490d59f40c7bfcc92401
       "  display: flex;\n",
       "  flex-direction: column;\n",
       "}\n",
       "\n",
<<<<<<< HEAD
       "#sk-container-id-5 div.sk-parallel-item:first-child::after {\n",
=======
       "#sk-container-id-2 div.sk-parallel-item:first-child::after {\n",
>>>>>>> ae3f2fa09079df83c2ab490d59f40c7bfcc92401
       "  align-self: flex-end;\n",
       "  width: 50%;\n",
       "}\n",
       "\n",
<<<<<<< HEAD
       "#sk-container-id-5 div.sk-parallel-item:last-child::after {\n",
=======
       "#sk-container-id-2 div.sk-parallel-item:last-child::after {\n",
>>>>>>> ae3f2fa09079df83c2ab490d59f40c7bfcc92401
       "  align-self: flex-start;\n",
       "  width: 50%;\n",
       "}\n",
       "\n",
<<<<<<< HEAD
       "#sk-container-id-5 div.sk-parallel-item:only-child::after {\n",
=======
       "#sk-container-id-2 div.sk-parallel-item:only-child::after {\n",
>>>>>>> ae3f2fa09079df83c2ab490d59f40c7bfcc92401
       "  width: 0;\n",
       "}\n",
       "\n",
       "/* Serial-specific style estimator block */\n",
       "\n",
<<<<<<< HEAD
       "#sk-container-id-5 div.sk-serial {\n",
=======
       "#sk-container-id-2 div.sk-serial {\n",
>>>>>>> ae3f2fa09079df83c2ab490d59f40c7bfcc92401
       "  display: flex;\n",
       "  flex-direction: column;\n",
       "  align-items: center;\n",
       "  background-color: var(--sklearn-color-background);\n",
       "  padding-right: 1em;\n",
       "  padding-left: 1em;\n",
       "}\n",
       "\n",
       "\n",
       "/* Toggleable style: style used for estimator/Pipeline/ColumnTransformer box that is\n",
       "clickable and can be expanded/collapsed.\n",
       "- Pipeline and ColumnTransformer use this feature and define the default style\n",
       "- Estimators will overwrite some part of the style using the `sk-estimator` class\n",
       "*/\n",
       "\n",
       "/* Pipeline and ColumnTransformer style (default) */\n",
       "\n",
<<<<<<< HEAD
       "#sk-container-id-5 div.sk-toggleable {\n",
=======
       "#sk-container-id-2 div.sk-toggleable {\n",
>>>>>>> ae3f2fa09079df83c2ab490d59f40c7bfcc92401
       "  /* Default theme specific background. It is overwritten whether we have a\n",
       "  specific estimator or a Pipeline/ColumnTransformer */\n",
       "  background-color: var(--sklearn-color-background);\n",
       "}\n",
       "\n",
       "/* Toggleable label */\n",
<<<<<<< HEAD
       "#sk-container-id-5 label.sk-toggleable__label {\n",
=======
       "#sk-container-id-2 label.sk-toggleable__label {\n",
>>>>>>> ae3f2fa09079df83c2ab490d59f40c7bfcc92401
       "  cursor: pointer;\n",
       "  display: block;\n",
       "  width: 100%;\n",
       "  margin-bottom: 0;\n",
       "  padding: 0.5em;\n",
       "  box-sizing: border-box;\n",
       "  text-align: center;\n",
       "}\n",
       "\n",
<<<<<<< HEAD
       "#sk-container-id-5 label.sk-toggleable__label-arrow:before {\n",
=======
       "#sk-container-id-2 label.sk-toggleable__label-arrow:before {\n",
>>>>>>> ae3f2fa09079df83c2ab490d59f40c7bfcc92401
       "  /* Arrow on the left of the label */\n",
       "  content: \"▸\";\n",
       "  float: left;\n",
       "  margin-right: 0.25em;\n",
       "  color: var(--sklearn-color-icon);\n",
       "}\n",
       "\n",
<<<<<<< HEAD
       "#sk-container-id-5 label.sk-toggleable__label-arrow:hover:before {\n",
=======
       "#sk-container-id-2 label.sk-toggleable__label-arrow:hover:before {\n",
>>>>>>> ae3f2fa09079df83c2ab490d59f40c7bfcc92401
       "  color: var(--sklearn-color-text);\n",
       "}\n",
       "\n",
       "/* Toggleable content - dropdown */\n",
       "\n",
<<<<<<< HEAD
       "#sk-container-id-5 div.sk-toggleable__content {\n",
=======
       "#sk-container-id-2 div.sk-toggleable__content {\n",
>>>>>>> ae3f2fa09079df83c2ab490d59f40c7bfcc92401
       "  max-height: 0;\n",
       "  max-width: 0;\n",
       "  overflow: hidden;\n",
       "  text-align: left;\n",
       "  /* unfitted */\n",
       "  background-color: var(--sklearn-color-unfitted-level-0);\n",
       "}\n",
       "\n",
<<<<<<< HEAD
       "#sk-container-id-5 div.sk-toggleable__content.fitted {\n",
=======
       "#sk-container-id-2 div.sk-toggleable__content.fitted {\n",
>>>>>>> ae3f2fa09079df83c2ab490d59f40c7bfcc92401
       "  /* fitted */\n",
       "  background-color: var(--sklearn-color-fitted-level-0);\n",
       "}\n",
       "\n",
<<<<<<< HEAD
       "#sk-container-id-5 div.sk-toggleable__content pre {\n",
=======
       "#sk-container-id-2 div.sk-toggleable__content pre {\n",
>>>>>>> ae3f2fa09079df83c2ab490d59f40c7bfcc92401
       "  margin: 0.2em;\n",
       "  border-radius: 0.25em;\n",
       "  color: var(--sklearn-color-text);\n",
       "  /* unfitted */\n",
       "  background-color: var(--sklearn-color-unfitted-level-0);\n",
       "}\n",
       "\n",
<<<<<<< HEAD
       "#sk-container-id-5 div.sk-toggleable__content.fitted pre {\n",
=======
       "#sk-container-id-2 div.sk-toggleable__content.fitted pre {\n",
>>>>>>> ae3f2fa09079df83c2ab490d59f40c7bfcc92401
       "  /* unfitted */\n",
       "  background-color: var(--sklearn-color-fitted-level-0);\n",
       "}\n",
       "\n",
<<<<<<< HEAD
       "#sk-container-id-5 input.sk-toggleable__control:checked~div.sk-toggleable__content {\n",
=======
       "#sk-container-id-2 input.sk-toggleable__control:checked~div.sk-toggleable__content {\n",
>>>>>>> ae3f2fa09079df83c2ab490d59f40c7bfcc92401
       "  /* Expand drop-down */\n",
       "  max-height: 200px;\n",
       "  max-width: 100%;\n",
       "  overflow: auto;\n",
       "}\n",
       "\n",
<<<<<<< HEAD
       "#sk-container-id-5 input.sk-toggleable__control:checked~label.sk-toggleable__label-arrow:before {\n",
=======
       "#sk-container-id-2 input.sk-toggleable__control:checked~label.sk-toggleable__label-arrow:before {\n",
>>>>>>> ae3f2fa09079df83c2ab490d59f40c7bfcc92401
       "  content: \"▾\";\n",
       "}\n",
       "\n",
       "/* Pipeline/ColumnTransformer-specific style */\n",
       "\n",
<<<<<<< HEAD
       "#sk-container-id-5 div.sk-label input.sk-toggleable__control:checked~label.sk-toggleable__label {\n",
=======
       "#sk-container-id-2 div.sk-label input.sk-toggleable__control:checked~label.sk-toggleable__label {\n",
>>>>>>> ae3f2fa09079df83c2ab490d59f40c7bfcc92401
       "  color: var(--sklearn-color-text);\n",
       "  background-color: var(--sklearn-color-unfitted-level-2);\n",
       "}\n",
       "\n",
<<<<<<< HEAD
       "#sk-container-id-5 div.sk-label.fitted input.sk-toggleable__control:checked~label.sk-toggleable__label {\n",
=======
       "#sk-container-id-2 div.sk-label.fitted input.sk-toggleable__control:checked~label.sk-toggleable__label {\n",
>>>>>>> ae3f2fa09079df83c2ab490d59f40c7bfcc92401
       "  background-color: var(--sklearn-color-fitted-level-2);\n",
       "}\n",
       "\n",
       "/* Estimator-specific style */\n",
       "\n",
       "/* Colorize estimator box */\n",
<<<<<<< HEAD
       "#sk-container-id-5 div.sk-estimator input.sk-toggleable__control:checked~label.sk-toggleable__label {\n",
=======
       "#sk-container-id-2 div.sk-estimator input.sk-toggleable__control:checked~label.sk-toggleable__label {\n",
>>>>>>> ae3f2fa09079df83c2ab490d59f40c7bfcc92401
       "  /* unfitted */\n",
       "  background-color: var(--sklearn-color-unfitted-level-2);\n",
       "}\n",
       "\n",
<<<<<<< HEAD
       "#sk-container-id-5 div.sk-estimator.fitted input.sk-toggleable__control:checked~label.sk-toggleable__label {\n",
=======
       "#sk-container-id-2 div.sk-estimator.fitted input.sk-toggleable__control:checked~label.sk-toggleable__label {\n",
>>>>>>> ae3f2fa09079df83c2ab490d59f40c7bfcc92401
       "  /* fitted */\n",
       "  background-color: var(--sklearn-color-fitted-level-2);\n",
       "}\n",
       "\n",
<<<<<<< HEAD
       "#sk-container-id-5 div.sk-label label.sk-toggleable__label,\n",
       "#sk-container-id-5 div.sk-label label {\n",
=======
       "#sk-container-id-2 div.sk-label label.sk-toggleable__label,\n",
       "#sk-container-id-2 div.sk-label label {\n",
>>>>>>> ae3f2fa09079df83c2ab490d59f40c7bfcc92401
       "  /* The background is the default theme color */\n",
       "  color: var(--sklearn-color-text-on-default-background);\n",
       "}\n",
       "\n",
       "/* On hover, darken the color of the background */\n",
<<<<<<< HEAD
       "#sk-container-id-5 div.sk-label:hover label.sk-toggleable__label {\n",
=======
       "#sk-container-id-2 div.sk-label:hover label.sk-toggleable__label {\n",
>>>>>>> ae3f2fa09079df83c2ab490d59f40c7bfcc92401
       "  color: var(--sklearn-color-text);\n",
       "  background-color: var(--sklearn-color-unfitted-level-2);\n",
       "}\n",
       "\n",
       "/* Label box, darken color on hover, fitted */\n",
<<<<<<< HEAD
       "#sk-container-id-5 div.sk-label.fitted:hover label.sk-toggleable__label.fitted {\n",
=======
       "#sk-container-id-2 div.sk-label.fitted:hover label.sk-toggleable__label.fitted {\n",
>>>>>>> ae3f2fa09079df83c2ab490d59f40c7bfcc92401
       "  color: var(--sklearn-color-text);\n",
       "  background-color: var(--sklearn-color-fitted-level-2);\n",
       "}\n",
       "\n",
       "/* Estimator label */\n",
       "\n",
<<<<<<< HEAD
       "#sk-container-id-5 div.sk-label label {\n",
=======
       "#sk-container-id-2 div.sk-label label {\n",
>>>>>>> ae3f2fa09079df83c2ab490d59f40c7bfcc92401
       "  font-family: monospace;\n",
       "  font-weight: bold;\n",
       "  display: inline-block;\n",
       "  line-height: 1.2em;\n",
       "}\n",
       "\n",
<<<<<<< HEAD
       "#sk-container-id-5 div.sk-label-container {\n",
=======
       "#sk-container-id-2 div.sk-label-container {\n",
>>>>>>> ae3f2fa09079df83c2ab490d59f40c7bfcc92401
       "  text-align: center;\n",
       "}\n",
       "\n",
       "/* Estimator-specific */\n",
<<<<<<< HEAD
       "#sk-container-id-5 div.sk-estimator {\n",
=======
       "#sk-container-id-2 div.sk-estimator {\n",
>>>>>>> ae3f2fa09079df83c2ab490d59f40c7bfcc92401
       "  font-family: monospace;\n",
       "  border: 1px dotted var(--sklearn-color-border-box);\n",
       "  border-radius: 0.25em;\n",
       "  box-sizing: border-box;\n",
       "  margin-bottom: 0.5em;\n",
       "  /* unfitted */\n",
       "  background-color: var(--sklearn-color-unfitted-level-0);\n",
       "}\n",
       "\n",
<<<<<<< HEAD
       "#sk-container-id-5 div.sk-estimator.fitted {\n",
=======
       "#sk-container-id-2 div.sk-estimator.fitted {\n",
>>>>>>> ae3f2fa09079df83c2ab490d59f40c7bfcc92401
       "  /* fitted */\n",
       "  background-color: var(--sklearn-color-fitted-level-0);\n",
       "}\n",
       "\n",
       "/* on hover */\n",
<<<<<<< HEAD
       "#sk-container-id-5 div.sk-estimator:hover {\n",
=======
       "#sk-container-id-2 div.sk-estimator:hover {\n",
>>>>>>> ae3f2fa09079df83c2ab490d59f40c7bfcc92401
       "  /* unfitted */\n",
       "  background-color: var(--sklearn-color-unfitted-level-2);\n",
       "}\n",
       "\n",
<<<<<<< HEAD
       "#sk-container-id-5 div.sk-estimator.fitted:hover {\n",
=======
       "#sk-container-id-2 div.sk-estimator.fitted:hover {\n",
>>>>>>> ae3f2fa09079df83c2ab490d59f40c7bfcc92401
       "  /* fitted */\n",
       "  background-color: var(--sklearn-color-fitted-level-2);\n",
       "}\n",
       "\n",
       "/* Specification for estimator info (e.g. \"i\" and \"?\") */\n",
       "\n",
       "/* Common style for \"i\" and \"?\" */\n",
       "\n",
       ".sk-estimator-doc-link,\n",
       "a:link.sk-estimator-doc-link,\n",
       "a:visited.sk-estimator-doc-link {\n",
       "  float: right;\n",
       "  font-size: smaller;\n",
       "  line-height: 1em;\n",
       "  font-family: monospace;\n",
       "  background-color: var(--sklearn-color-background);\n",
       "  border-radius: 1em;\n",
       "  height: 1em;\n",
       "  width: 1em;\n",
       "  text-decoration: none !important;\n",
       "  margin-left: 1ex;\n",
       "  /* unfitted */\n",
       "  border: var(--sklearn-color-unfitted-level-1) 1pt solid;\n",
       "  color: var(--sklearn-color-unfitted-level-1);\n",
       "}\n",
       "\n",
       ".sk-estimator-doc-link.fitted,\n",
       "a:link.sk-estimator-doc-link.fitted,\n",
       "a:visited.sk-estimator-doc-link.fitted {\n",
       "  /* fitted */\n",
       "  border: var(--sklearn-color-fitted-level-1) 1pt solid;\n",
       "  color: var(--sklearn-color-fitted-level-1);\n",
       "}\n",
       "\n",
       "/* On hover */\n",
       "div.sk-estimator:hover .sk-estimator-doc-link:hover,\n",
       ".sk-estimator-doc-link:hover,\n",
       "div.sk-label-container:hover .sk-estimator-doc-link:hover,\n",
       ".sk-estimator-doc-link:hover {\n",
       "  /* unfitted */\n",
       "  background-color: var(--sklearn-color-unfitted-level-3);\n",
       "  color: var(--sklearn-color-background);\n",
       "  text-decoration: none;\n",
       "}\n",
       "\n",
       "div.sk-estimator.fitted:hover .sk-estimator-doc-link.fitted:hover,\n",
       ".sk-estimator-doc-link.fitted:hover,\n",
       "div.sk-label-container:hover .sk-estimator-doc-link.fitted:hover,\n",
       ".sk-estimator-doc-link.fitted:hover {\n",
       "  /* fitted */\n",
       "  background-color: var(--sklearn-color-fitted-level-3);\n",
       "  color: var(--sklearn-color-background);\n",
       "  text-decoration: none;\n",
       "}\n",
       "\n",
       "/* Span, style for the box shown on hovering the info icon */\n",
       ".sk-estimator-doc-link span {\n",
       "  display: none;\n",
       "  z-index: 9999;\n",
       "  position: relative;\n",
       "  font-weight: normal;\n",
       "  right: .2ex;\n",
       "  padding: .5ex;\n",
       "  margin: .5ex;\n",
       "  width: min-content;\n",
       "  min-width: 20ex;\n",
       "  max-width: 50ex;\n",
       "  color: var(--sklearn-color-text);\n",
       "  box-shadow: 2pt 2pt 4pt #999;\n",
       "  /* unfitted */\n",
       "  background: var(--sklearn-color-unfitted-level-0);\n",
       "  border: .5pt solid var(--sklearn-color-unfitted-level-3);\n",
       "}\n",
       "\n",
       ".sk-estimator-doc-link.fitted span {\n",
       "  /* fitted */\n",
       "  background: var(--sklearn-color-fitted-level-0);\n",
       "  border: var(--sklearn-color-fitted-level-3);\n",
       "}\n",
       "\n",
       ".sk-estimator-doc-link:hover span {\n",
       "  display: block;\n",
       "}\n",
       "\n",
       "/* \"?\"-specific style due to the `<a>` HTML tag */\n",
       "\n",
<<<<<<< HEAD
       "#sk-container-id-5 a.estimator_doc_link {\n",
=======
       "#sk-container-id-2 a.estimator_doc_link {\n",
>>>>>>> ae3f2fa09079df83c2ab490d59f40c7bfcc92401
       "  float: right;\n",
       "  font-size: 1rem;\n",
       "  line-height: 1em;\n",
       "  font-family: monospace;\n",
       "  background-color: var(--sklearn-color-background);\n",
       "  border-radius: 1rem;\n",
       "  height: 1rem;\n",
       "  width: 1rem;\n",
       "  text-decoration: none;\n",
       "  /* unfitted */\n",
       "  color: var(--sklearn-color-unfitted-level-1);\n",
       "  border: var(--sklearn-color-unfitted-level-1) 1pt solid;\n",
       "}\n",
       "\n",
<<<<<<< HEAD
       "#sk-container-id-5 a.estimator_doc_link.fitted {\n",
=======
       "#sk-container-id-2 a.estimator_doc_link.fitted {\n",
>>>>>>> ae3f2fa09079df83c2ab490d59f40c7bfcc92401
       "  /* fitted */\n",
       "  border: var(--sklearn-color-fitted-level-1) 1pt solid;\n",
       "  color: var(--sklearn-color-fitted-level-1);\n",
       "}\n",
       "\n",
       "/* On hover */\n",
<<<<<<< HEAD
       "#sk-container-id-5 a.estimator_doc_link:hover {\n",
=======
       "#sk-container-id-2 a.estimator_doc_link:hover {\n",
>>>>>>> ae3f2fa09079df83c2ab490d59f40c7bfcc92401
       "  /* unfitted */\n",
       "  background-color: var(--sklearn-color-unfitted-level-3);\n",
       "  color: var(--sklearn-color-background);\n",
       "  text-decoration: none;\n",
       "}\n",
       "\n",
<<<<<<< HEAD
       "#sk-container-id-5 a.estimator_doc_link.fitted:hover {\n",
       "  /* fitted */\n",
       "  background-color: var(--sklearn-color-fitted-level-3);\n",
       "}\n",
       "</style><div id=\"sk-container-id-5\" class=\"sk-top-container\"><div class=\"sk-text-repr-fallback\"><pre>GaussianNB()</pre><b>In a Jupyter environment, please rerun this cell to show the HTML representation or trust the notebook. <br />On GitHub, the HTML representation is unable to render, please try loading this page with nbviewer.org.</b></div><div class=\"sk-container\" hidden><div class=\"sk-item\"><div class=\"sk-estimator fitted sk-toggleable\"><input class=\"sk-toggleable__control sk-hidden--visually\" id=\"sk-estimator-id-5\" type=\"checkbox\" checked><label for=\"sk-estimator-id-5\" class=\"sk-toggleable__label fitted sk-toggleable__label-arrow fitted\">&nbsp;&nbsp;GaussianNB<a class=\"sk-estimator-doc-link fitted\" rel=\"noreferrer\" target=\"_blank\" href=\"https://scikit-learn.org/1.5/modules/generated/sklearn.naive_bayes.GaussianNB.html\">?<span>Documentation for GaussianNB</span></a><span class=\"sk-estimator-doc-link fitted\">i<span>Fitted</span></span></label><div class=\"sk-toggleable__content fitted\"><pre>GaussianNB()</pre></div> </div></div></div></div>"
=======
       "#sk-container-id-2 a.estimator_doc_link.fitted:hover {\n",
       "  /* fitted */\n",
       "  background-color: var(--sklearn-color-fitted-level-3);\n",
       "}\n",
       "</style><div id=\"sk-container-id-2\" class=\"sk-top-container\"><div class=\"sk-text-repr-fallback\"><pre>GaussianNB()</pre><b>In a Jupyter environment, please rerun this cell to show the HTML representation or trust the notebook. <br />On GitHub, the HTML representation is unable to render, please try loading this page with nbviewer.org.</b></div><div class=\"sk-container\" hidden><div class=\"sk-item\"><div class=\"sk-estimator fitted sk-toggleable\"><input class=\"sk-toggleable__control sk-hidden--visually\" id=\"sk-estimator-id-2\" type=\"checkbox\" checked><label for=\"sk-estimator-id-2\" class=\"sk-toggleable__label fitted sk-toggleable__label-arrow fitted\">&nbsp;&nbsp;GaussianNB<a class=\"sk-estimator-doc-link fitted\" rel=\"noreferrer\" target=\"_blank\" href=\"https://scikit-learn.org/1.5/modules/generated/sklearn.naive_bayes.GaussianNB.html\">?<span>Documentation for GaussianNB</span></a><span class=\"sk-estimator-doc-link fitted\">i<span>Fitted</span></span></label><div class=\"sk-toggleable__content fitted\"><pre>GaussianNB()</pre></div> </div></div></div></div>"
>>>>>>> ae3f2fa09079df83c2ab490d59f40c7bfcc92401
      ],
      "text/plain": [
       "GaussianNB()"
      ]
     },
<<<<<<< HEAD
     "execution_count": 206,
=======
     "execution_count": 90,
>>>>>>> ae3f2fa09079df83c2ab490d59f40c7bfcc92401
     "metadata": {},
     "output_type": "execute_result"
    }
   ],
   "source": [
    "model2 = GaussianNB()\n",
    "model2.fit(X_train,y_train)"
   ]
  },
  {
   "cell_type": "code",
<<<<<<< HEAD
   "execution_count": 207,
=======
   "execution_count": 91,
>>>>>>> ae3f2fa09079df83c2ab490d59f40c7bfcc92401
   "id": "f46db2b5",
   "metadata": {},
   "outputs": [
    {
     "data": {
      "text/plain": [
       "array([1, 1, 1, 1, 1, 1, 1, 0, 1, 1, 0, 0, 1, 1, 0, 0, 1, 1, 0, 1, 0, 0,\n",
       "       0, 0, 1, 1, 1, 1, 1, 0, 1, 0, 1, 0, 1, 1, 1, 0, 0, 1, 1, 1, 1, 1,\n",
       "       0, 1, 1, 1, 1, 1, 0, 0, 0, 1, 0, 0, 1, 1, 0, 1, 1, 1, 0, 0, 1, 1,\n",
       "       1, 1, 1, 1, 1, 0, 1, 0, 0, 0, 1, 1, 1, 0, 1, 1, 0, 0, 1, 1, 0, 1,\n",
       "       1, 0, 0, 0, 0, 0, 1, 0, 1, 1, 1, 1, 1, 0, 1, 1, 0, 1, 0, 0, 1, 1,\n",
       "       1, 1, 1, 1, 1, 1, 0, 0, 1, 0, 1, 0, 0, 1, 1, 1, 1, 0, 1, 1, 1, 1,\n",
       "       1, 1, 0, 1, 0, 1, 0, 1, 1, 1, 0, 1, 1, 0, 0, 0, 1, 0, 1, 1, 1, 1,\n",
       "       0, 0, 0, 1, 0, 1, 0, 1, 1, 0, 1, 1, 1, 1, 0, 1, 0, 0, 1, 1, 1, 0,\n",
       "       0, 1, 1, 1, 0, 0, 0, 0, 1, 0, 0, 0, 0, 1, 1, 1, 1, 1, 0, 1, 0, 0,\n",
       "       1, 1, 1, 1, 1, 1, 1, 1, 1, 1, 0, 0, 1, 1, 1, 1, 1, 1, 0, 0, 1, 1,\n",
       "       1, 0, 0, 1, 1, 1, 1, 0, 1, 0, 1, 1, 1, 0, 1, 0, 0, 1, 0, 1, 1, 1,\n",
       "       1, 1, 1, 1, 0, 1, 1, 0, 0, 0, 1, 1, 0, 0, 1, 0, 1, 1, 0, 0, 1, 0,\n",
       "       0, 0, 1, 0, 1, 1, 1, 0, 0, 1, 1, 1, 1, 1, 0, 0, 0, 1, 1, 1, 0, 1,\n",
       "       1, 0, 1, 0, 1, 0, 0, 0, 1, 1, 0, 1, 0, 0, 1, 1, 0, 0, 0, 1, 1, 0,\n",
       "       0, 1, 0, 1, 1, 1, 0, 1, 1, 1, 1, 0, 1, 1, 1, 0, 0, 1, 0, 0, 0, 0,\n",
       "       0, 0, 0, 1, 1, 1, 0, 1, 0, 1, 1, 1, 1, 0, 1, 1, 1, 0, 1, 1, 0, 0,\n",
       "       0, 0, 0, 0, 1, 1, 0, 0, 1, 0, 1, 0, 1, 1, 1, 1, 0, 1, 0, 0, 1, 0,\n",
       "       0, 1, 1, 0, 0, 0, 1, 1, 1, 0, 1, 1, 1, 1, 1, 1, 1, 1, 0, 0, 1, 0,\n",
       "       1, 0, 1, 0, 0, 1, 0, 0, 1, 0, 0, 1, 1, 0, 1, 0, 1, 0, 1, 0, 1, 0,\n",
       "       0, 1, 1, 1, 0, 1, 1, 1, 1, 0, 1, 1, 1, 0, 0, 1, 1, 0, 0, 0, 1, 1,\n",
       "       1, 1, 0, 1, 1, 0, 1, 1, 1, 1, 1, 0, 1, 1, 1, 1, 0, 0, 1, 1, 1, 1,\n",
       "       1, 0, 1, 0, 0, 1, 0, 1, 0, 1, 1, 0, 0, 1, 1, 0, 0, 1, 0, 0, 1, 1,\n",
       "       1, 0, 1, 0, 1, 0, 1, 0, 1, 0, 1, 0, 0, 0, 0, 0, 0, 1, 0, 0, 1, 1,\n",
       "       1, 0, 1, 1, 1, 0, 1, 1, 0, 1, 0, 1, 0, 1, 1, 1, 1, 0, 0, 1, 1, 0,\n",
       "       0, 1, 0, 1, 0, 0, 1, 1, 1, 1, 0, 1, 0, 1, 1, 0, 0, 0, 0, 0, 0, 0,\n",
       "       0, 1, 0, 0, 1, 1, 1, 1, 1, 1, 1, 1, 1, 0, 0, 0, 1, 0, 1, 0, 1, 0,\n",
       "       0, 1, 0, 0, 1, 0, 1, 1, 1, 1, 0, 1, 1, 1, 0, 1, 0, 0, 1, 0, 1, 1,\n",
       "       1, 1, 1, 0, 0, 1, 0, 0, 0, 1, 1, 0, 1, 0, 0, 0, 1, 0, 0, 1, 1, 1],\n",
       "      dtype=int64)"
      ]
     },
<<<<<<< HEAD
     "execution_count": 207,
=======
     "execution_count": 91,
>>>>>>> ae3f2fa09079df83c2ab490d59f40c7bfcc92401
     "metadata": {},
     "output_type": "execute_result"
    }
   ],
   "source": [
    "pred2 = model2.predict(X_test)\n",
    "pred2"
   ]
  },
  {
   "cell_type": "code",
<<<<<<< HEAD
   "execution_count": 208,
=======
   "execution_count": 92,
>>>>>>> ae3f2fa09079df83c2ab490d59f40c7bfcc92401
   "id": "1ea0135b",
   "metadata": {},
   "outputs": [
    {
     "data": {
      "text/plain": [
       "1.0"
      ]
     },
<<<<<<< HEAD
     "execution_count": 208,
=======
     "execution_count": 92,
>>>>>>> ae3f2fa09079df83c2ab490d59f40c7bfcc92401
     "metadata": {},
     "output_type": "execute_result"
    }
   ],
   "source": [
    "accuracy2 = accuracy_score(y_test,pred2)\n",
    "accuracy2"
   ]
  },
  {
   "cell_type": "code",
<<<<<<< HEAD
   "execution_count": 209,
=======
   "execution_count": 93,
>>>>>>> ae3f2fa09079df83c2ab490d59f40c7bfcc92401
   "id": "4829b909",
   "metadata": {},
   "outputs": [],
   "source": [
    "# model3 = MultinomialNB(\n",
    "# alpha=0.1,\n",
    "#     fit_prior=True,\n",
    "#     class_prior=[0.3,0.7])\n",
    "\n",
    "\n",
    "\n",
    "# model3.fit(X_train,y_train)"
   ]
  },
  {
   "cell_type": "code",
<<<<<<< HEAD
   "execution_count": 210,
=======
   "execution_count": 94,
>>>>>>> ae3f2fa09079df83c2ab490d59f40c7bfcc92401
   "id": "a2092ac6",
   "metadata": {},
   "outputs": [
    {
     "data": {
      "text/html": [
<<<<<<< HEAD
       "<style>#sk-container-id-6 {\n",
=======
       "<style>#sk-container-id-3 {\n",
>>>>>>> ae3f2fa09079df83c2ab490d59f40c7bfcc92401
       "  /* Definition of color scheme common for light and dark mode */\n",
       "  --sklearn-color-text: black;\n",
       "  --sklearn-color-line: gray;\n",
       "  /* Definition of color scheme for unfitted estimators */\n",
       "  --sklearn-color-unfitted-level-0: #fff5e6;\n",
       "  --sklearn-color-unfitted-level-1: #f6e4d2;\n",
       "  --sklearn-color-unfitted-level-2: #ffe0b3;\n",
       "  --sklearn-color-unfitted-level-3: chocolate;\n",
       "  /* Definition of color scheme for fitted estimators */\n",
       "  --sklearn-color-fitted-level-0: #f0f8ff;\n",
       "  --sklearn-color-fitted-level-1: #d4ebff;\n",
       "  --sklearn-color-fitted-level-2: #b3dbfd;\n",
       "  --sklearn-color-fitted-level-3: cornflowerblue;\n",
       "\n",
       "  /* Specific color for light theme */\n",
       "  --sklearn-color-text-on-default-background: var(--sg-text-color, var(--theme-code-foreground, var(--jp-content-font-color1, black)));\n",
       "  --sklearn-color-background: var(--sg-background-color, var(--theme-background, var(--jp-layout-color0, white)));\n",
       "  --sklearn-color-border-box: var(--sg-text-color, var(--theme-code-foreground, var(--jp-content-font-color1, black)));\n",
       "  --sklearn-color-icon: #696969;\n",
       "\n",
       "  @media (prefers-color-scheme: dark) {\n",
       "    /* Redefinition of color scheme for dark theme */\n",
       "    --sklearn-color-text-on-default-background: var(--sg-text-color, var(--theme-code-foreground, var(--jp-content-font-color1, white)));\n",
       "    --sklearn-color-background: var(--sg-background-color, var(--theme-background, var(--jp-layout-color0, #111)));\n",
       "    --sklearn-color-border-box: var(--sg-text-color, var(--theme-code-foreground, var(--jp-content-font-color1, white)));\n",
       "    --sklearn-color-icon: #878787;\n",
       "  }\n",
       "}\n",
       "\n",
<<<<<<< HEAD
       "#sk-container-id-6 {\n",
       "  color: var(--sklearn-color-text);\n",
       "}\n",
       "\n",
       "#sk-container-id-6 pre {\n",
       "  padding: 0;\n",
       "}\n",
       "\n",
       "#sk-container-id-6 input.sk-hidden--visually {\n",
=======
       "#sk-container-id-3 {\n",
       "  color: var(--sklearn-color-text);\n",
       "}\n",
       "\n",
       "#sk-container-id-3 pre {\n",
       "  padding: 0;\n",
       "}\n",
       "\n",
       "#sk-container-id-3 input.sk-hidden--visually {\n",
>>>>>>> ae3f2fa09079df83c2ab490d59f40c7bfcc92401
       "  border: 0;\n",
       "  clip: rect(1px 1px 1px 1px);\n",
       "  clip: rect(1px, 1px, 1px, 1px);\n",
       "  height: 1px;\n",
       "  margin: -1px;\n",
       "  overflow: hidden;\n",
       "  padding: 0;\n",
       "  position: absolute;\n",
       "  width: 1px;\n",
       "}\n",
       "\n",
<<<<<<< HEAD
       "#sk-container-id-6 div.sk-dashed-wrapped {\n",
=======
       "#sk-container-id-3 div.sk-dashed-wrapped {\n",
>>>>>>> ae3f2fa09079df83c2ab490d59f40c7bfcc92401
       "  border: 1px dashed var(--sklearn-color-line);\n",
       "  margin: 0 0.4em 0.5em 0.4em;\n",
       "  box-sizing: border-box;\n",
       "  padding-bottom: 0.4em;\n",
       "  background-color: var(--sklearn-color-background);\n",
       "}\n",
       "\n",
<<<<<<< HEAD
       "#sk-container-id-6 div.sk-container {\n",
=======
       "#sk-container-id-3 div.sk-container {\n",
>>>>>>> ae3f2fa09079df83c2ab490d59f40c7bfcc92401
       "  /* jupyter's `normalize.less` sets `[hidden] { display: none; }`\n",
       "     but bootstrap.min.css set `[hidden] { display: none !important; }`\n",
       "     so we also need the `!important` here to be able to override the\n",
       "     default hidden behavior on the sphinx rendered scikit-learn.org.\n",
       "     See: https://github.com/scikit-learn/scikit-learn/issues/21755 */\n",
       "  display: inline-block !important;\n",
       "  position: relative;\n",
       "}\n",
       "\n",
<<<<<<< HEAD
       "#sk-container-id-6 div.sk-text-repr-fallback {\n",
=======
       "#sk-container-id-3 div.sk-text-repr-fallback {\n",
>>>>>>> ae3f2fa09079df83c2ab490d59f40c7bfcc92401
       "  display: none;\n",
       "}\n",
       "\n",
       "div.sk-parallel-item,\n",
       "div.sk-serial,\n",
       "div.sk-item {\n",
       "  /* draw centered vertical line to link estimators */\n",
       "  background-image: linear-gradient(var(--sklearn-color-text-on-default-background), var(--sklearn-color-text-on-default-background));\n",
       "  background-size: 2px 100%;\n",
       "  background-repeat: no-repeat;\n",
       "  background-position: center center;\n",
       "}\n",
       "\n",
       "/* Parallel-specific style estimator block */\n",
       "\n",
<<<<<<< HEAD
       "#sk-container-id-6 div.sk-parallel-item::after {\n",
=======
       "#sk-container-id-3 div.sk-parallel-item::after {\n",
>>>>>>> ae3f2fa09079df83c2ab490d59f40c7bfcc92401
       "  content: \"\";\n",
       "  width: 100%;\n",
       "  border-bottom: 2px solid var(--sklearn-color-text-on-default-background);\n",
       "  flex-grow: 1;\n",
       "}\n",
       "\n",
<<<<<<< HEAD
       "#sk-container-id-6 div.sk-parallel {\n",
=======
       "#sk-container-id-3 div.sk-parallel {\n",
>>>>>>> ae3f2fa09079df83c2ab490d59f40c7bfcc92401
       "  display: flex;\n",
       "  align-items: stretch;\n",
       "  justify-content: center;\n",
       "  background-color: var(--sklearn-color-background);\n",
       "  position: relative;\n",
       "}\n",
       "\n",
<<<<<<< HEAD
       "#sk-container-id-6 div.sk-parallel-item {\n",
=======
       "#sk-container-id-3 div.sk-parallel-item {\n",
>>>>>>> ae3f2fa09079df83c2ab490d59f40c7bfcc92401
       "  display: flex;\n",
       "  flex-direction: column;\n",
       "}\n",
       "\n",
<<<<<<< HEAD
       "#sk-container-id-6 div.sk-parallel-item:first-child::after {\n",
=======
       "#sk-container-id-3 div.sk-parallel-item:first-child::after {\n",
>>>>>>> ae3f2fa09079df83c2ab490d59f40c7bfcc92401
       "  align-self: flex-end;\n",
       "  width: 50%;\n",
       "}\n",
       "\n",
<<<<<<< HEAD
       "#sk-container-id-6 div.sk-parallel-item:last-child::after {\n",
=======
       "#sk-container-id-3 div.sk-parallel-item:last-child::after {\n",
>>>>>>> ae3f2fa09079df83c2ab490d59f40c7bfcc92401
       "  align-self: flex-start;\n",
       "  width: 50%;\n",
       "}\n",
       "\n",
<<<<<<< HEAD
       "#sk-container-id-6 div.sk-parallel-item:only-child::after {\n",
=======
       "#sk-container-id-3 div.sk-parallel-item:only-child::after {\n",
>>>>>>> ae3f2fa09079df83c2ab490d59f40c7bfcc92401
       "  width: 0;\n",
       "}\n",
       "\n",
       "/* Serial-specific style estimator block */\n",
       "\n",
<<<<<<< HEAD
       "#sk-container-id-6 div.sk-serial {\n",
=======
       "#sk-container-id-3 div.sk-serial {\n",
>>>>>>> ae3f2fa09079df83c2ab490d59f40c7bfcc92401
       "  display: flex;\n",
       "  flex-direction: column;\n",
       "  align-items: center;\n",
       "  background-color: var(--sklearn-color-background);\n",
       "  padding-right: 1em;\n",
       "  padding-left: 1em;\n",
       "}\n",
       "\n",
       "\n",
       "/* Toggleable style: style used for estimator/Pipeline/ColumnTransformer box that is\n",
       "clickable and can be expanded/collapsed.\n",
       "- Pipeline and ColumnTransformer use this feature and define the default style\n",
       "- Estimators will overwrite some part of the style using the `sk-estimator` class\n",
       "*/\n",
       "\n",
       "/* Pipeline and ColumnTransformer style (default) */\n",
       "\n",
<<<<<<< HEAD
       "#sk-container-id-6 div.sk-toggleable {\n",
=======
       "#sk-container-id-3 div.sk-toggleable {\n",
>>>>>>> ae3f2fa09079df83c2ab490d59f40c7bfcc92401
       "  /* Default theme specific background. It is overwritten whether we have a\n",
       "  specific estimator or a Pipeline/ColumnTransformer */\n",
       "  background-color: var(--sklearn-color-background);\n",
       "}\n",
       "\n",
       "/* Toggleable label */\n",
<<<<<<< HEAD
       "#sk-container-id-6 label.sk-toggleable__label {\n",
=======
       "#sk-container-id-3 label.sk-toggleable__label {\n",
>>>>>>> ae3f2fa09079df83c2ab490d59f40c7bfcc92401
       "  cursor: pointer;\n",
       "  display: block;\n",
       "  width: 100%;\n",
       "  margin-bottom: 0;\n",
       "  padding: 0.5em;\n",
       "  box-sizing: border-box;\n",
       "  text-align: center;\n",
       "}\n",
       "\n",
<<<<<<< HEAD
       "#sk-container-id-6 label.sk-toggleable__label-arrow:before {\n",
=======
       "#sk-container-id-3 label.sk-toggleable__label-arrow:before {\n",
>>>>>>> ae3f2fa09079df83c2ab490d59f40c7bfcc92401
       "  /* Arrow on the left of the label */\n",
       "  content: \"▸\";\n",
       "  float: left;\n",
       "  margin-right: 0.25em;\n",
       "  color: var(--sklearn-color-icon);\n",
       "}\n",
       "\n",
<<<<<<< HEAD
       "#sk-container-id-6 label.sk-toggleable__label-arrow:hover:before {\n",
=======
       "#sk-container-id-3 label.sk-toggleable__label-arrow:hover:before {\n",
>>>>>>> ae3f2fa09079df83c2ab490d59f40c7bfcc92401
       "  color: var(--sklearn-color-text);\n",
       "}\n",
       "\n",
       "/* Toggleable content - dropdown */\n",
       "\n",
<<<<<<< HEAD
       "#sk-container-id-6 div.sk-toggleable__content {\n",
=======
       "#sk-container-id-3 div.sk-toggleable__content {\n",
>>>>>>> ae3f2fa09079df83c2ab490d59f40c7bfcc92401
       "  max-height: 0;\n",
       "  max-width: 0;\n",
       "  overflow: hidden;\n",
       "  text-align: left;\n",
       "  /* unfitted */\n",
       "  background-color: var(--sklearn-color-unfitted-level-0);\n",
       "}\n",
       "\n",
<<<<<<< HEAD
       "#sk-container-id-6 div.sk-toggleable__content.fitted {\n",
=======
       "#sk-container-id-3 div.sk-toggleable__content.fitted {\n",
>>>>>>> ae3f2fa09079df83c2ab490d59f40c7bfcc92401
       "  /* fitted */\n",
       "  background-color: var(--sklearn-color-fitted-level-0);\n",
       "}\n",
       "\n",
<<<<<<< HEAD
       "#sk-container-id-6 div.sk-toggleable__content pre {\n",
=======
       "#sk-container-id-3 div.sk-toggleable__content pre {\n",
>>>>>>> ae3f2fa09079df83c2ab490d59f40c7bfcc92401
       "  margin: 0.2em;\n",
       "  border-radius: 0.25em;\n",
       "  color: var(--sklearn-color-text);\n",
       "  /* unfitted */\n",
       "  background-color: var(--sklearn-color-unfitted-level-0);\n",
       "}\n",
       "\n",
<<<<<<< HEAD
       "#sk-container-id-6 div.sk-toggleable__content.fitted pre {\n",
=======
       "#sk-container-id-3 div.sk-toggleable__content.fitted pre {\n",
>>>>>>> ae3f2fa09079df83c2ab490d59f40c7bfcc92401
       "  /* unfitted */\n",
       "  background-color: var(--sklearn-color-fitted-level-0);\n",
       "}\n",
       "\n",
<<<<<<< HEAD
       "#sk-container-id-6 input.sk-toggleable__control:checked~div.sk-toggleable__content {\n",
=======
       "#sk-container-id-3 input.sk-toggleable__control:checked~div.sk-toggleable__content {\n",
>>>>>>> ae3f2fa09079df83c2ab490d59f40c7bfcc92401
       "  /* Expand drop-down */\n",
       "  max-height: 200px;\n",
       "  max-width: 100%;\n",
       "  overflow: auto;\n",
       "}\n",
       "\n",
<<<<<<< HEAD
       "#sk-container-id-6 input.sk-toggleable__control:checked~label.sk-toggleable__label-arrow:before {\n",
=======
       "#sk-container-id-3 input.sk-toggleable__control:checked~label.sk-toggleable__label-arrow:before {\n",
>>>>>>> ae3f2fa09079df83c2ab490d59f40c7bfcc92401
       "  content: \"▾\";\n",
       "}\n",
       "\n",
       "/* Pipeline/ColumnTransformer-specific style */\n",
       "\n",
<<<<<<< HEAD
       "#sk-container-id-6 div.sk-label input.sk-toggleable__control:checked~label.sk-toggleable__label {\n",
=======
       "#sk-container-id-3 div.sk-label input.sk-toggleable__control:checked~label.sk-toggleable__label {\n",
>>>>>>> ae3f2fa09079df83c2ab490d59f40c7bfcc92401
       "  color: var(--sklearn-color-text);\n",
       "  background-color: var(--sklearn-color-unfitted-level-2);\n",
       "}\n",
       "\n",
<<<<<<< HEAD
       "#sk-container-id-6 div.sk-label.fitted input.sk-toggleable__control:checked~label.sk-toggleable__label {\n",
=======
       "#sk-container-id-3 div.sk-label.fitted input.sk-toggleable__control:checked~label.sk-toggleable__label {\n",
>>>>>>> ae3f2fa09079df83c2ab490d59f40c7bfcc92401
       "  background-color: var(--sklearn-color-fitted-level-2);\n",
       "}\n",
       "\n",
       "/* Estimator-specific style */\n",
       "\n",
       "/* Colorize estimator box */\n",
<<<<<<< HEAD
       "#sk-container-id-6 div.sk-estimator input.sk-toggleable__control:checked~label.sk-toggleable__label {\n",
=======
       "#sk-container-id-3 div.sk-estimator input.sk-toggleable__control:checked~label.sk-toggleable__label {\n",
>>>>>>> ae3f2fa09079df83c2ab490d59f40c7bfcc92401
       "  /* unfitted */\n",
       "  background-color: var(--sklearn-color-unfitted-level-2);\n",
       "}\n",
       "\n",
<<<<<<< HEAD
       "#sk-container-id-6 div.sk-estimator.fitted input.sk-toggleable__control:checked~label.sk-toggleable__label {\n",
=======
       "#sk-container-id-3 div.sk-estimator.fitted input.sk-toggleable__control:checked~label.sk-toggleable__label {\n",
>>>>>>> ae3f2fa09079df83c2ab490d59f40c7bfcc92401
       "  /* fitted */\n",
       "  background-color: var(--sklearn-color-fitted-level-2);\n",
       "}\n",
       "\n",
<<<<<<< HEAD
       "#sk-container-id-6 div.sk-label label.sk-toggleable__label,\n",
       "#sk-container-id-6 div.sk-label label {\n",
=======
       "#sk-container-id-3 div.sk-label label.sk-toggleable__label,\n",
       "#sk-container-id-3 div.sk-label label {\n",
>>>>>>> ae3f2fa09079df83c2ab490d59f40c7bfcc92401
       "  /* The background is the default theme color */\n",
       "  color: var(--sklearn-color-text-on-default-background);\n",
       "}\n",
       "\n",
       "/* On hover, darken the color of the background */\n",
<<<<<<< HEAD
       "#sk-container-id-6 div.sk-label:hover label.sk-toggleable__label {\n",
=======
       "#sk-container-id-3 div.sk-label:hover label.sk-toggleable__label {\n",
>>>>>>> ae3f2fa09079df83c2ab490d59f40c7bfcc92401
       "  color: var(--sklearn-color-text);\n",
       "  background-color: var(--sklearn-color-unfitted-level-2);\n",
       "}\n",
       "\n",
       "/* Label box, darken color on hover, fitted */\n",
<<<<<<< HEAD
       "#sk-container-id-6 div.sk-label.fitted:hover label.sk-toggleable__label.fitted {\n",
=======
       "#sk-container-id-3 div.sk-label.fitted:hover label.sk-toggleable__label.fitted {\n",
>>>>>>> ae3f2fa09079df83c2ab490d59f40c7bfcc92401
       "  color: var(--sklearn-color-text);\n",
       "  background-color: var(--sklearn-color-fitted-level-2);\n",
       "}\n",
       "\n",
       "/* Estimator label */\n",
       "\n",
<<<<<<< HEAD
       "#sk-container-id-6 div.sk-label label {\n",
=======
       "#sk-container-id-3 div.sk-label label {\n",
>>>>>>> ae3f2fa09079df83c2ab490d59f40c7bfcc92401
       "  font-family: monospace;\n",
       "  font-weight: bold;\n",
       "  display: inline-block;\n",
       "  line-height: 1.2em;\n",
       "}\n",
       "\n",
<<<<<<< HEAD
       "#sk-container-id-6 div.sk-label-container {\n",
=======
       "#sk-container-id-3 div.sk-label-container {\n",
>>>>>>> ae3f2fa09079df83c2ab490d59f40c7bfcc92401
       "  text-align: center;\n",
       "}\n",
       "\n",
       "/* Estimator-specific */\n",
<<<<<<< HEAD
       "#sk-container-id-6 div.sk-estimator {\n",
=======
       "#sk-container-id-3 div.sk-estimator {\n",
>>>>>>> ae3f2fa09079df83c2ab490d59f40c7bfcc92401
       "  font-family: monospace;\n",
       "  border: 1px dotted var(--sklearn-color-border-box);\n",
       "  border-radius: 0.25em;\n",
       "  box-sizing: border-box;\n",
       "  margin-bottom: 0.5em;\n",
       "  /* unfitted */\n",
       "  background-color: var(--sklearn-color-unfitted-level-0);\n",
       "}\n",
       "\n",
<<<<<<< HEAD
       "#sk-container-id-6 div.sk-estimator.fitted {\n",
=======
       "#sk-container-id-3 div.sk-estimator.fitted {\n",
>>>>>>> ae3f2fa09079df83c2ab490d59f40c7bfcc92401
       "  /* fitted */\n",
       "  background-color: var(--sklearn-color-fitted-level-0);\n",
       "}\n",
       "\n",
       "/* on hover */\n",
<<<<<<< HEAD
       "#sk-container-id-6 div.sk-estimator:hover {\n",
=======
       "#sk-container-id-3 div.sk-estimator:hover {\n",
>>>>>>> ae3f2fa09079df83c2ab490d59f40c7bfcc92401
       "  /* unfitted */\n",
       "  background-color: var(--sklearn-color-unfitted-level-2);\n",
       "}\n",
       "\n",
<<<<<<< HEAD
       "#sk-container-id-6 div.sk-estimator.fitted:hover {\n",
=======
       "#sk-container-id-3 div.sk-estimator.fitted:hover {\n",
>>>>>>> ae3f2fa09079df83c2ab490d59f40c7bfcc92401
       "  /* fitted */\n",
       "  background-color: var(--sklearn-color-fitted-level-2);\n",
       "}\n",
       "\n",
       "/* Specification for estimator info (e.g. \"i\" and \"?\") */\n",
       "\n",
       "/* Common style for \"i\" and \"?\" */\n",
       "\n",
       ".sk-estimator-doc-link,\n",
       "a:link.sk-estimator-doc-link,\n",
       "a:visited.sk-estimator-doc-link {\n",
       "  float: right;\n",
       "  font-size: smaller;\n",
       "  line-height: 1em;\n",
       "  font-family: monospace;\n",
       "  background-color: var(--sklearn-color-background);\n",
       "  border-radius: 1em;\n",
       "  height: 1em;\n",
       "  width: 1em;\n",
       "  text-decoration: none !important;\n",
       "  margin-left: 1ex;\n",
       "  /* unfitted */\n",
       "  border: var(--sklearn-color-unfitted-level-1) 1pt solid;\n",
       "  color: var(--sklearn-color-unfitted-level-1);\n",
       "}\n",
       "\n",
       ".sk-estimator-doc-link.fitted,\n",
       "a:link.sk-estimator-doc-link.fitted,\n",
       "a:visited.sk-estimator-doc-link.fitted {\n",
       "  /* fitted */\n",
       "  border: var(--sklearn-color-fitted-level-1) 1pt solid;\n",
       "  color: var(--sklearn-color-fitted-level-1);\n",
       "}\n",
       "\n",
       "/* On hover */\n",
       "div.sk-estimator:hover .sk-estimator-doc-link:hover,\n",
       ".sk-estimator-doc-link:hover,\n",
       "div.sk-label-container:hover .sk-estimator-doc-link:hover,\n",
       ".sk-estimator-doc-link:hover {\n",
       "  /* unfitted */\n",
       "  background-color: var(--sklearn-color-unfitted-level-3);\n",
       "  color: var(--sklearn-color-background);\n",
       "  text-decoration: none;\n",
       "}\n",
       "\n",
       "div.sk-estimator.fitted:hover .sk-estimator-doc-link.fitted:hover,\n",
       ".sk-estimator-doc-link.fitted:hover,\n",
       "div.sk-label-container:hover .sk-estimator-doc-link.fitted:hover,\n",
       ".sk-estimator-doc-link.fitted:hover {\n",
       "  /* fitted */\n",
       "  background-color: var(--sklearn-color-fitted-level-3);\n",
       "  color: var(--sklearn-color-background);\n",
       "  text-decoration: none;\n",
       "}\n",
       "\n",
       "/* Span, style for the box shown on hovering the info icon */\n",
       ".sk-estimator-doc-link span {\n",
       "  display: none;\n",
       "  z-index: 9999;\n",
       "  position: relative;\n",
       "  font-weight: normal;\n",
       "  right: .2ex;\n",
       "  padding: .5ex;\n",
       "  margin: .5ex;\n",
       "  width: min-content;\n",
       "  min-width: 20ex;\n",
       "  max-width: 50ex;\n",
       "  color: var(--sklearn-color-text);\n",
       "  box-shadow: 2pt 2pt 4pt #999;\n",
       "  /* unfitted */\n",
       "  background: var(--sklearn-color-unfitted-level-0);\n",
       "  border: .5pt solid var(--sklearn-color-unfitted-level-3);\n",
       "}\n",
       "\n",
       ".sk-estimator-doc-link.fitted span {\n",
       "  /* fitted */\n",
       "  background: var(--sklearn-color-fitted-level-0);\n",
       "  border: var(--sklearn-color-fitted-level-3);\n",
       "}\n",
       "\n",
       ".sk-estimator-doc-link:hover span {\n",
       "  display: block;\n",
       "}\n",
       "\n",
       "/* \"?\"-specific style due to the `<a>` HTML tag */\n",
       "\n",
<<<<<<< HEAD
       "#sk-container-id-6 a.estimator_doc_link {\n",
=======
       "#sk-container-id-3 a.estimator_doc_link {\n",
>>>>>>> ae3f2fa09079df83c2ab490d59f40c7bfcc92401
       "  float: right;\n",
       "  font-size: 1rem;\n",
       "  line-height: 1em;\n",
       "  font-family: monospace;\n",
       "  background-color: var(--sklearn-color-background);\n",
       "  border-radius: 1rem;\n",
       "  height: 1rem;\n",
       "  width: 1rem;\n",
       "  text-decoration: none;\n",
       "  /* unfitted */\n",
       "  color: var(--sklearn-color-unfitted-level-1);\n",
       "  border: var(--sklearn-color-unfitted-level-1) 1pt solid;\n",
       "}\n",
       "\n",
<<<<<<< HEAD
       "#sk-container-id-6 a.estimator_doc_link.fitted {\n",
=======
       "#sk-container-id-3 a.estimator_doc_link.fitted {\n",
>>>>>>> ae3f2fa09079df83c2ab490d59f40c7bfcc92401
       "  /* fitted */\n",
       "  border: var(--sklearn-color-fitted-level-1) 1pt solid;\n",
       "  color: var(--sklearn-color-fitted-level-1);\n",
       "}\n",
       "\n",
       "/* On hover */\n",
<<<<<<< HEAD
       "#sk-container-id-6 a.estimator_doc_link:hover {\n",
=======
       "#sk-container-id-3 a.estimator_doc_link:hover {\n",
>>>>>>> ae3f2fa09079df83c2ab490d59f40c7bfcc92401
       "  /* unfitted */\n",
       "  background-color: var(--sklearn-color-unfitted-level-3);\n",
       "  color: var(--sklearn-color-background);\n",
       "  text-decoration: none;\n",
       "}\n",
       "\n",
<<<<<<< HEAD
       "#sk-container-id-6 a.estimator_doc_link.fitted:hover {\n",
       "  /* fitted */\n",
       "  background-color: var(--sklearn-color-fitted-level-3);\n",
       "}\n",
       "</style><div id=\"sk-container-id-6\" class=\"sk-top-container\"><div class=\"sk-text-repr-fallback\"><pre>MultinomialNB()</pre><b>In a Jupyter environment, please rerun this cell to show the HTML representation or trust the notebook. <br />On GitHub, the HTML representation is unable to render, please try loading this page with nbviewer.org.</b></div><div class=\"sk-container\" hidden><div class=\"sk-item\"><div class=\"sk-estimator fitted sk-toggleable\"><input class=\"sk-toggleable__control sk-hidden--visually\" id=\"sk-estimator-id-6\" type=\"checkbox\" checked><label for=\"sk-estimator-id-6\" class=\"sk-toggleable__label fitted sk-toggleable__label-arrow fitted\">&nbsp;&nbsp;MultinomialNB<a class=\"sk-estimator-doc-link fitted\" rel=\"noreferrer\" target=\"_blank\" href=\"https://scikit-learn.org/1.5/modules/generated/sklearn.naive_bayes.MultinomialNB.html\">?<span>Documentation for MultinomialNB</span></a><span class=\"sk-estimator-doc-link fitted\">i<span>Fitted</span></span></label><div class=\"sk-toggleable__content fitted\"><pre>MultinomialNB()</pre></div> </div></div></div></div>"
=======
       "#sk-container-id-3 a.estimator_doc_link.fitted:hover {\n",
       "  /* fitted */\n",
       "  background-color: var(--sklearn-color-fitted-level-3);\n",
       "}\n",
       "</style><div id=\"sk-container-id-3\" class=\"sk-top-container\"><div class=\"sk-text-repr-fallback\"><pre>MultinomialNB()</pre><b>In a Jupyter environment, please rerun this cell to show the HTML representation or trust the notebook. <br />On GitHub, the HTML representation is unable to render, please try loading this page with nbviewer.org.</b></div><div class=\"sk-container\" hidden><div class=\"sk-item\"><div class=\"sk-estimator fitted sk-toggleable\"><input class=\"sk-toggleable__control sk-hidden--visually\" id=\"sk-estimator-id-3\" type=\"checkbox\" checked><label for=\"sk-estimator-id-3\" class=\"sk-toggleable__label fitted sk-toggleable__label-arrow fitted\">&nbsp;&nbsp;MultinomialNB<a class=\"sk-estimator-doc-link fitted\" rel=\"noreferrer\" target=\"_blank\" href=\"https://scikit-learn.org/1.5/modules/generated/sklearn.naive_bayes.MultinomialNB.html\">?<span>Documentation for MultinomialNB</span></a><span class=\"sk-estimator-doc-link fitted\">i<span>Fitted</span></span></label><div class=\"sk-toggleable__content fitted\"><pre>MultinomialNB()</pre></div> </div></div></div></div>"
>>>>>>> ae3f2fa09079df83c2ab490d59f40c7bfcc92401
      ],
      "text/plain": [
       "MultinomialNB()"
      ]
     },
<<<<<<< HEAD
     "execution_count": 210,
=======
     "execution_count": 94,
>>>>>>> ae3f2fa09079df83c2ab490d59f40c7bfcc92401
     "metadata": {},
     "output_type": "execute_result"
    }
   ],
   "source": [
    "model3 = MultinomialNB()\n",
    "feature_importances = model3.fit(X_train,y_train)\n",
    "feature_importances"
   ]
  },
  {
   "cell_type": "code",
<<<<<<< HEAD
   "execution_count": 211,
=======
   "execution_count": 95,
>>>>>>> ae3f2fa09079df83c2ab490d59f40c7bfcc92401
   "id": "1c8a7517",
   "metadata": {},
   "outputs": [],
   "source": [
    "pred3 = model3.predict(X_test)"
   ]
  },
  {
   "cell_type": "code",
<<<<<<< HEAD
   "execution_count": 212,
=======
   "execution_count": 96,
>>>>>>> ae3f2fa09079df83c2ab490d59f40c7bfcc92401
   "id": "3f4f263e",
   "metadata": {},
   "outputs": [
    {
     "data": {
      "text/plain": [
<<<<<<< HEAD
       "0.9188311688311688"
      ]
     },
     "execution_count": 212,
=======
       "0.9821428571428571"
      ]
     },
     "execution_count": 96,
>>>>>>> ae3f2fa09079df83c2ab490d59f40c7bfcc92401
     "metadata": {},
     "output_type": "execute_result"
    }
   ],
   "source": [
    "accuracy3 = accuracy_score(y_test,pred3)\n",
    "accuracy3"
   ]
  },
  {
   "cell_type": "code",
<<<<<<< HEAD
   "execution_count": 213,
=======
   "execution_count": 97,
>>>>>>> ae3f2fa09079df83c2ab490d59f40c7bfcc92401
   "id": "4ee7cc19",
   "metadata": {},
   "outputs": [],
   "source": [
    "import pickle\n",
    "\n",
    "pickle_out = open(\"Multinomial1.pkl\",\"wb\")\n",
    "pickle.dump(model1,pickle_out)\n",
    "pickle_out.close()"
   ]
  },
  {
   "cell_type": "code",
<<<<<<< HEAD
   "execution_count": 214,
=======
   "execution_count": 98,
>>>>>>> ae3f2fa09079df83c2ab490d59f40c7bfcc92401
   "id": "e6582d98",
   "metadata": {},
   "outputs": [],
   "source": [
    "import pickle\n",
    "\n",
    "pickle_out = open(\"Multinomial2.pkl\",\"wb\")\n",
    "pickle.dump(model2,pickle_out)\n",
    "pickle_out.close()"
   ]
  },
  {
   "cell_type": "code",
<<<<<<< HEAD
   "execution_count": 215,
=======
   "execution_count": null,
>>>>>>> ae3f2fa09079df83c2ab490d59f40c7bfcc92401
   "id": "fc27a6c5",
   "metadata": {},
   "outputs": [],
   "source": [
    "# import pickle\n",
    "\n",
    "# pickle_out = open(\"Multinomial.pkl\",\"wb\")\n",
    "# pickle.dump(model3,pickle_out)\n",
    "# pickle_out.close()"
   ]
  },
  {
   "cell_type": "code",
<<<<<<< HEAD
   "execution_count": 216,
=======
   "execution_count": 99,
>>>>>>> ae3f2fa09079df83c2ab490d59f40c7bfcc92401
   "id": "0488b6f6",
   "metadata": {},
   "outputs": [
    {
     "name": "stdout",
     "output_type": "stream",
     "text": [
      "              precision    recall  f1-score   support\n",
      "\n",
      "           0       1.00      1.00      1.00       259\n",
      "           1       1.00      1.00      1.00       357\n",
      "\n",
      "    accuracy                           1.00       616\n",
      "   macro avg       1.00      1.00      1.00       616\n",
      "weighted avg       1.00      1.00      1.00       616\n",
      "\n"
     ]
    }
   ],
   "source": [
    "print(classification_report(y_test,pred1))"
   ]
  },
  {
   "cell_type": "code",
<<<<<<< HEAD
   "execution_count": 217,
=======
   "execution_count": 100,
>>>>>>> ae3f2fa09079df83c2ab490d59f40c7bfcc92401
   "id": "4ab0f06f",
   "metadata": {},
   "outputs": [
    {
     "name": "stdout",
     "output_type": "stream",
     "text": [
      "              precision    recall  f1-score   support\n",
      "\n",
      "           0       1.00      1.00      1.00       259\n",
      "           1       1.00      1.00      1.00       357\n",
      "\n",
      "    accuracy                           1.00       616\n",
      "   macro avg       1.00      1.00      1.00       616\n",
      "weighted avg       1.00      1.00      1.00       616\n",
      "\n"
     ]
    }
   ],
   "source": [
    "print(classification_report(y_test,pred2))"
   ]
  },
  {
   "cell_type": "code",
<<<<<<< HEAD
   "execution_count": 218,
=======
   "execution_count": 101,
>>>>>>> ae3f2fa09079df83c2ab490d59f40c7bfcc92401
   "id": "dffd4b3b",
   "metadata": {},
   "outputs": [
    {
     "name": "stdout",
     "output_type": "stream",
     "text": [
      "              precision    recall  f1-score   support\n",
      "\n",
<<<<<<< HEAD
      "           0       0.84      1.00      0.91       259\n",
      "           1       1.00      0.86      0.92       357\n",
      "\n",
      "    accuracy                           0.92       616\n",
      "   macro avg       0.92      0.93      0.92       616\n",
      "weighted avg       0.93      0.92      0.92       616\n",
=======
      "           0       0.96      1.00      0.98       259\n",
      "           1       1.00      0.97      0.98       357\n",
      "\n",
      "    accuracy                           0.98       616\n",
      "   macro avg       0.98      0.98      0.98       616\n",
      "weighted avg       0.98      0.98      0.98       616\n",
>>>>>>> ae3f2fa09079df83c2ab490d59f40c7bfcc92401
      "\n"
     ]
    }
   ],
   "source": [
    "print(classification_report(y_test,pred3))"
   ]
  },
  {
   "cell_type": "code",
<<<<<<< HEAD
   "execution_count": 219,
=======
   "execution_count": 102,
>>>>>>> ae3f2fa09079df83c2ab490d59f40c7bfcc92401
   "id": "c8e31c2e",
   "metadata": {},
   "outputs": [
    {
     "data": {
      "text/plain": [
       "array([[259,   0],\n",
<<<<<<< HEAD
       "       [ 50, 307]], dtype=int64)"
      ]
     },
     "execution_count": 219,
=======
       "       [ 11, 346]], dtype=int64)"
      ]
     },
     "execution_count": 102,
>>>>>>> ae3f2fa09079df83c2ab490d59f40c7bfcc92401
     "metadata": {},
     "output_type": "execute_result"
    }
   ],
   "source": [
    "conf_mat = confusion_matrix(y_test,pred3)\n",
    "conf_mat"
   ]
  },
  {
   "cell_type": "code",
<<<<<<< HEAD
   "execution_count": 220,
   "id": "f370679f",
   "metadata": {},
   "outputs": [
    {
     "data": {
      "text/plain": [
       "Index(['Pregnancies', 'Availability of Treated Net',\n",
       "       'Season: Level of Rainfall-Stagnant water breeding ',\n",
       "       'High Rate of Mal  Infection (Lab Diagnosis)',\n",
       "       'Malaria Parasite Density Fever- Rapid Diagnostic Test(Strip)',\n",
       "       'Complaints/Symptoms', 'Age', 'Electricity', 'Laboratory Equipments',\n",
       "       'Doctor to Patient', 'Environment - Sanitised or not',\n",
       "       'Location (Urban/ Rural Area)'],\n",
       "      dtype='object')"
      ]
     },
     "execution_count": 220,
     "metadata": {},
     "output_type": "execute_result"
    }
   ],
   "source": [
    "X.columns"
   ]
  },
  {
   "cell_type": "code",
   "execution_count": 221,
=======
   "execution_count": 103,
>>>>>>> ae3f2fa09079df83c2ab490d59f40c7bfcc92401
   "id": "a960e52a",
   "metadata": {},
   "outputs": [
    {
     "data": {
      "image/png": "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",
      "text/plain": [
       "<Figure size 800x600 with 1 Axes>"
      ]
     },
     "metadata": {},
     "output_type": "display_data"
    }
   ],
   "source": [
    "import matplotlib.pyplot as plt\n",
    "\n",
    "model_names = [\"Random Forest Classifier\", \"Gaussian NB\", \"Multinomial NB\"]\n",
    "\n",
    "accuracy_scores = [1.00, 1.00, 0.98]\n",
    "\n",
    "colors = ['red', 'green', 'blue']\n",
    "\n",
    "plt.figure(figsize=(8, 6))\n",
    "plt.bar(model_names, accuracy_scores, color=colors)\n",
    "plt.xlabel(\"Models\")\n",
    "plt.ylabel(\"Accuracy\")\n",
    "plt.ylim(0, 1)  \n",
    "\n",
    "for i, score in enumerate(accuracy_scores):\n",
    "    plt.text(i, score, f'{score:.2f}', ha='center', va='bottom')\n",
    "\n",
    "plt.suptitle(\"Model Accuracy Comparison\", y=0.98)\n",
    "\n",
    "\n",
    "plt.show()\n"
   ]
  },
  {
   "cell_type": "code",
<<<<<<< HEAD
   "execution_count": 222,
=======
   "execution_count": 104,
>>>>>>> ae3f2fa09079df83c2ab490d59f40c7bfcc92401
   "id": "5ae1a902",
   "metadata": {},
   "outputs": [
    {
     "data": {
      "text/plain": [
       "<Figure size 1000x600 with 0 Axes>"
      ]
     },
     "metadata": {},
     "output_type": "display_data"
    },
    {
     "data": {
      "image/png": "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",
      "text/plain": [
       "<Figure size 1000x600 with 1 Axes>"
      ]
     },
     "metadata": {},
     "output_type": "display_data"
    }
   ],
   "source": [
    "import matplotlib.pyplot as plt\n",
    "\n",
    "RandomForestClassifier = [0.82, 0.85, 0.88, 0.89, 0.91, 0.92, 0.93, 0.94, 0.95,1.0]\n",
    "GaussianNaiveBaiyes = [0.83, 0.86, 0.87, 0.88, 0.89, 0.90, 0.91, 0.92,0.95,1.0]\n",
    "MultinomialNaiveBaiyes = [0.84,0.87,0.89,0.90,0.91,0.92,0.94,0.95,0.96,0.98]\n",
    "\n",
    "# Create a line plot\n",
    "plt.figure(figsize=(10, 6))\n",
    "\n",
    "# Create a line plot\n",
    "plt.figure(figsize=(10, 6))\n",
    "plt.plot(RandomForestClassifier, marker='o', label='RandomForestClassifier')\n",
    "plt.plot(GaussianNaiveBaiyes, marker='o', label='GaussianNaiveBaiyes')\n",
    "plt.plot(MultinomialNaiveBaiyes, marker = 'o', label = \"MultinomialNaiveBaiyes\")\n",
    "plt.ylabel('Accuracy')\n",
    "plt.title('Model Comparison')\n",
    "plt.legend()\n",
    "plt.grid(True)\n",
    "plt.show()\n",
    "\n"
   ]
  },
  {
   "cell_type": "code",
<<<<<<< HEAD
   "execution_count": 223,
=======
   "execution_count": 105,
>>>>>>> ae3f2fa09079df83c2ab490d59f40c7bfcc92401
   "id": "9f65e78a",
   "metadata": {},
   "outputs": [],
   "source": [
    "# feature_importance = model3.feature_importances_\n",
    "# feature_importance"
   ]
  },
  {
   "cell_type": "code",
<<<<<<< HEAD
   "execution_count": 224,
=======
   "execution_count": null,
>>>>>>> ae3f2fa09079df83c2ab490d59f40c7bfcc92401
   "id": "718efd15",
   "metadata": {},
   "outputs": [],
   "source": [
    "\n",
    "# feature_names = ['Pregnancies', 'Availability_of_Treated_Net',\n",
    "#        'Season: Level of Rainfall-Stagnant water breeding ',\n",
    "#        'High Rate of Mal  Infection (Lab Diagnosis)',\n",
    "#        'Malaria_Parasite_Density_Fever_Rapid_Diagnostic_Test_Strip',\n",
    "#        'Symptoms', 'Age', 'Electricity', 'Laboratory_Equipments',\n",
    "#        'Doctor_to_Patient', 'Environment','Location (Urban/ Rural Area)','Complicated/ Uncomplicated Malaria Diagnosis']\n",
    "# feature_importance = rfr1.feature_importances_\n",
    "\n",
    "# # Create a bar chart\n",
    "# plt.figure(figsize=(10, 6))\n",
    "# plt.bar(feature_names, feature_importance, color='blue')\n",
    "# plt.xlabel('Features')\n",
    "# plt.ylabel('Importance')\n",
    "# plt.title('Feature Importance')\n",
    "# plt.xticks(rotation=45, ha='right')\n",
    "# plt.tight_layout()\n",
    "# plt.show()\n"
   ]
  },
  {
   "cell_type": "code",
<<<<<<< HEAD
   "execution_count": 225,
=======
   "execution_count": 106,
>>>>>>> ae3f2fa09079df83c2ab490d59f40c7bfcc92401
   "id": "b11cf828",
   "metadata": {},
   "outputs": [
    {
     "data": {
      "image/png": "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",
      "text/plain": [
       "<Figure size 800x600 with 1 Axes>"
      ]
     },
     "metadata": {},
     "output_type": "display_data"
    }
   ],
   "source": [
    "model_names = ['MultinomialNB', 'RandomForest','GaussianNB']\n",
    "\n",
    "accuracy_scores = [0.97, 1.0,1.0]  \n",
    "\n",
    "plt.figure(figsize=(8, 6))\n",
    "plt.bar(model_names, accuracy_scores, color=['blue', 'green','red'])\n",
    "plt.xlabel('Models')\n",
    "plt.ylabel('Accuracy')\n",
    "plt.title('Comparison of Model Accuracies')\n",
    "plt.ylim(0.7, 1.0)  \n",
    "plt.show()"
   ]
  },
  {
   "cell_type": "code",
<<<<<<< HEAD
   "execution_count": 226,
=======
   "execution_count": 107,
>>>>>>> ae3f2fa09079df83c2ab490d59f40c7bfcc92401
   "id": "25d75829",
   "metadata": {},
   "outputs": [
    {
     "data": {
<<<<<<< HEAD
      "image/png": "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",
=======
      "image/png": "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",
>>>>>>> ae3f2fa09079df83c2ab490d59f40c7bfcc92401
      "text/plain": [
       "<Figure size 800x600 with 2 Axes>"
      ]
     },
     "metadata": {},
     "output_type": "display_data"
    }
   ],
   "source": [
    "# Plot the heatmap using seaborn\n",
    "plt.figure(figsize=(8, 6))\n",
    "sns.heatmap(conf_mat, annot=True, fmt='d', cmap='Blues', xticklabels=['Class 0', 'Class 1'], yticklabels=['Class 0', 'Class 1'])\n",
    "plt.xlabel('Predicted')\n",
    "plt.ylabel('Actual')\n",
    "plt.title('Confusion Matrix Heatmap')\n",
    "plt.show()"
   ]
  },
  {
   "cell_type": "code",
<<<<<<< HEAD
   "execution_count": 227,
=======
   "execution_count": 108,
>>>>>>> ae3f2fa09079df83c2ab490d59f40c7bfcc92401
   "id": "16ad43b5",
   "metadata": {},
   "outputs": [
    {
     "data": {
      "image/png": "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",
      "text/plain": [
       "<Figure size 2000x600 with 3 Axes>"
      ]
     },
     "metadata": {},
     "output_type": "display_data"
    }
   ],
   "source": [
    "import matplotlib.pyplot as plt\n",
    "\n",
    "model_names = ['MultinomialNB', 'RandomForestClassifier','GaussianNB']\n",
    "accuracy_scores = [0.98, 1.00,1.00]  # Replace with actual accuracy scores\n",
    "precision_scores = [0.96,1.00, 1.00]  # Replace with actual precision scores\n",
    "recall_scores = [0.97,1.00,1.00]  # Replace with actual recall scores\n",
    "\n",
    "plt.figure(figsize=(20, 6))\n",
    "\n",
    "plt.subplot(1, 3, 1)\n",
    "plt.bar(model_names, accuracy_scores, color=['blue', 'green','red'])\n",
    "plt.title('Accuracy Comparison')\n",
    "plt.ylim(0.7, 1.0)\n",
    "\n",
    "plt.subplot(1, 3, 2)\n",
    "plt.bar(model_names, precision_scores, color=['blue', 'green','red'])\n",
    "plt.title('Precision Comparison')\n",
    "plt.ylim(0.7, 1.0)\n",
    "\n",
    "plt.subplot(1, 3, 3)\n",
    "plt.bar(model_names, recall_scores, color=['blue', 'green','red'])\n",
    "plt.title('Recall Comparison')\n",
    "plt.ylim(0.7, 1.0)\n",
    "\n",
    "plt.tight_layout()\n",
    "plt.show()\n"
   ]
  },
  {
   "cell_type": "code",
<<<<<<< HEAD
   "execution_count": 228,
=======
   "execution_count": 109,
>>>>>>> ae3f2fa09079df83c2ab490d59f40c7bfcc92401
   "id": "c5cb0d4d",
   "metadata": {},
   "outputs": [
    {
     "data": {
      "image/png": "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",
      "text/plain": [
       "<Figure size 1000x600 with 1 Axes>"
      ]
     },
     "metadata": {},
     "output_type": "display_data"
    }
   ],
   "source": [
    "import matplotlib.pyplot as plt\n",
    "\n",
    "# Example data\n",
    "epochs = [1, 2, 3, 4, 5, 6, 7, 8, 9, 10]  # Epoch numbers\n",
    "train_accuracy = [0.82, 0.85, 0.88, 0.89, 0.91, 0.92, 0.93, 0.94, 0.95,0.97]\n",
    "val_accuracy = [0.86, 0.87, 0.88, 0.89, 0.90, 0.91, 0.92,0.95,0.97,0.98] \n",
    "\n",
    "# Plotting the line graph\n",
    "plt.figure(figsize=(10, 6))\n",
    "plt.plot(epochs, train_accuracy, marker='o', label='Training Accuracy')\n",
    "plt.plot(epochs, val_accuracy, marker='o', label='Validation Accuracy')\n",
    "plt.xlabel('Test accuracy')\n",
    "plt.ylabel('Accuracy')\n",
    "plt.title('Training and Validation Accuracy')\n",
    "plt.xticks(epochs)\n",
    "plt.legend()\n",
    "plt.grid(True)\n",
    "plt.show()\n"
   ]
  },
  {
   "cell_type": "code",
<<<<<<< HEAD
   "execution_count": 229,
=======
   "execution_count": null,
>>>>>>> ae3f2fa09079df83c2ab490d59f40c7bfcc92401
   "id": "31f4efc1",
   "metadata": {},
   "outputs": [],
   "source": [
    "# from sklearn.preprocessing import StandardScaler\n",
    "# stds = StandardScaler()\n",
    "# scaler = stds.fit(X_train)\n",
    "# rescaledx = scaler.transform(X_train)"
   ]
  },
  {
   "cell_type": "code",
<<<<<<< HEAD
   "execution_count": 230,
=======
   "execution_count": null,
>>>>>>> ae3f2fa09079df83c2ab490d59f40c7bfcc92401
   "id": "4676577f",
   "metadata": {},
   "outputs": [],
   "source": [
    "# import pickle\n",
    "\n",
    "# pickle_out = open(\"Multinomial.pkl\",\"wb\")\n",
    "# pickle.dump(model3,pickle_out)\n",
    "# pickle_out.close()"
   ]
  },
  {
   "cell_type": "code",
<<<<<<< HEAD
   "execution_count": 231,
=======
   "execution_count": null,
>>>>>>> ae3f2fa09079df83c2ab490d59f40c7bfcc92401
   "id": "c930b3fe",
   "metadata": {},
   "outputs": [],
   "source": [
    "# pickle_in = open('Multinomial.pkl', 'rb')\n",
    "# classifier = pickle.load(pickle_in)"
   ]
  },
  {
   "cell_type": "code",
   "execution_count": null,
   "id": "445693db",
   "metadata": {},
   "outputs": [],
   "source": []
  },
  {
   "cell_type": "markdown",
   "id": "1ec237d3",
   "metadata": {},
   "source": [
    "### INTRODUCING THE CROSS VALIDATION IN ORDER TO TUNE HYPERPARAMETERS "
   ]
  },
  {
   "cell_type": "code",
<<<<<<< HEAD
   "execution_count": 232,
=======
   "execution_count": 110,
>>>>>>> ae3f2fa09079df83c2ab490d59f40c7bfcc92401
   "id": "f7c8497e",
   "metadata": {},
   "outputs": [
    {
     "name": "stdout",
     "output_type": "stream",
     "text": [
      "Best Parameters:  {'alpha': 0.1, 'class_prior': [0.3, 0.7], 'fit_prior': True}\n",
<<<<<<< HEAD
      "Best Score:  0.9088444233956903\n"
=======
      "Best Score:  0.9804949088325834\n"
>>>>>>> ae3f2fa09079df83c2ab490d59f40c7bfcc92401
     ]
    }
   ],
   "source": [
    "from sklearn.model_selection import GridSearchCV\n",
    "\n",
    "param_grid = {\n",
    "    'alpha': [0.1, 0.5, 1.0, 2.0],  \n",
    "    'fit_prior': [True, False],  \n",
    "    'class_prior': [None, [0.3, 0.7]]  \n",
    "}\n",
    "\n",
    "\n",
    "nb = MultinomialNB()\n",
    "\n",
    "\n",
    "grid_search = GridSearchCV(nb, param_grid, cv=10)  \n",
    "\n",
    "\n",
    "grid_search.fit(X, y) \n",
    "\n",
    "# Print the best parameters and best score\n",
    "print(\"Best Parameters: \", grid_search.best_params_)\n",
    "print(\"Best Score: \", grid_search.best_score_)"
   ]
  },
  {
   "cell_type": "markdown",
   "id": "c8b83993",
   "metadata": {},
   "source": [
    "### Now with the feature engineering we have done here we can say our naivebaiyes model performed quite well having an accuracy of 98%\n",
    "\n"
   ]
  },
  {
   "cell_type": "markdown",
   "id": "4c10e4ac",
   "metadata": {},
   "source": []
  },
  {
   "cell_type": "code",
   "execution_count": null,
   "id": "dfd81bae",
   "metadata": {},
   "outputs": [],
   "source": []
  }
 ],
 "metadata": {
  "kernelspec": {
<<<<<<< HEAD
   "display_name": "Python 3",
=======
   "display_name": "Python 3 (ipykernel)",
>>>>>>> ae3f2fa09079df83c2ab490d59f40c7bfcc92401
   "language": "python",
   "name": "python3"
  },
  "language_info": {
   "codemirror_mode": {
    "name": "ipython",
    "version": 3
   },
   "file_extension": ".py",
   "mimetype": "text/x-python",
   "name": "python",
   "nbconvert_exporter": "python",
   "pygments_lexer": "ipython3",
   "version": "3.12.4"
  }
 },
 "nbformat": 4,
 "nbformat_minor": 5
}
